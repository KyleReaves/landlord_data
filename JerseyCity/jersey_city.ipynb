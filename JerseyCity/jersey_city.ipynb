{
 "metadata": {
  "orig_nbformat": 4,
  "kernelspec": {
   "name": "python3",
   "display_name": "Python 3.9.6",
   "language": "python"
  },
  "interpreter": {
   "hash": "ac2eaa0ea0ebeafcc7822e65e46aa9d4f966f30b695406963e145ea4a91cd4fc"
  }
 },
 "nbformat": 4,
 "nbformat_minor": 2,
 "cells": [
  {
   "source": [
    "# Jersey City GeoCoding"
   ],
   "cell_type": "markdown",
   "metadata": {}
  },
  {
   "cell_type": "code",
   "execution_count": 1,
   "metadata": {},
   "outputs": [],
   "source": [
    "import pandas as pd \n",
    "import numpy as np\n",
    "from geopy.geocoders import Nominatim\n",
    "from geopy.extra.rate_limiter import RateLimiter\n",
    "geolocator = Nominatim(user_agent=\"myGeolocator\", timeout=2)\n",
    "# loading saved objects into dataframe\n",
    "#errors_df = pd.read_pickle('errors_df.pkl')\n",
    "\n",
    "df = pd.read_csv('JC_residential.csv')\n",
    "newark_df = pd.read_csv('/Users/kylereaves/Desktop/landlord_data/Newark/newark.csv')\n",
    "\n",
    "#jc_deed_df = pd.read_csv('0906130957_deed.csv', index_col=False)\n",
    "\n",
    "#df = pd.read_csv('0906monm220028.csv', usecols=['propertyLocation', 'ownersName', 'ownersMailingAddress', 'cityStateZip'])\n",
    "\n",
    "# number of times owner appears in second column\n",
    "def propertiesOwned(owner=str):\n",
    "    return len(df[df.ownersName == owner])\n",
    "\n",
    "# number of times property appears in first column\n",
    "def propertyAppearances(address=str): \n",
    "    return len(df[df.propertyLocation == address])\n",
    "\n",
    "#df['ownersFullMailingAddress'] = df['ownersMailingAddress'] + ', ' + df.cityStateZip\n",
    "#df['propertyFullAddress'] = df.propertyLocation + ' Jersey City NJ'\n"
   ]
  },
  {
   "cell_type": "code",
   "execution_count": 17,
   "metadata": {},
   "outputs": [],
   "source": [
    "df.drop(columns=['Unnamed: 0'], inplace=True)"
   ]
  },
  {
   "cell_type": "code",
   "execution_count": 22,
   "metadata": {},
   "outputs": [],
   "source": [
    "df.rename(columns={'latitude': 'Lat', 'longitude': 'Long', 'propertiesOwned': 'numberPropertiesOwned'}, inplace=True)"
   ]
  },
  {
   "cell_type": "code",
   "execution_count": 25,
   "metadata": {},
   "outputs": [
    {
     "output_type": "execute_result",
     "data": {
      "text/plain": [
       "              propertyLocation                          ownersName  \\\n",
       "0             677 LIBERTY AVE.                      PEDDI, PRADEEP   \n",
       "1             675 LIBERTY AVE.        PAREJA, HENRY A. & MIRYAM C.   \n",
       "2             673 LIBERTY AVE.                     HIRPARA, PRAVIN   \n",
       "3             671 LIBERTY AVE.                        SINGH, HONEY   \n",
       "4             669 LIBERTY AVE.           MARTIN, BENIGNO & CARIDAD   \n",
       "...                        ...                                 ...   \n",
       "42025  100 EAST SHEARWATER CT.           BALANLAYOS, JESUS & MYRNA   \n",
       "42026  100 EAST SHEARWATER CT.  DANGCIL, PROCERFINA & WILLIAM A JR   \n",
       "42027  100 EAST SHEARWATER CT.                  LAWSONS REALTY,LLC   \n",
       "42028  100 EAST SHEARWATER CT.                    NATHAN, NAVIN D.   \n",
       "42029  100 EAST SHEARWATER CT.               HORAN, CHRISTOPHER L.   \n",
       "\n",
       "          ownersMailingAddress                cityStateZip  \\\n",
       "0             677 LIBERTY AVE.    JERSEY CITY, N.J.  07307   \n",
       "1             675 LIBERTY AVE.    JERSEY CITY, N.J.  07307   \n",
       "2             673 LIBERTY AVE.      JERSEY CITY, NJ  07307   \n",
       "3             671 LIBERTY AVE.      JERSEY CITY, NJ  07307   \n",
       "4             669 LIBERTY AVE.    JERSEY CITY, N.J.  07307   \n",
       "...                        ...                         ...   \n",
       "42025           31 HARMONY WAY          SEWAREN, NJ  07077   \n",
       "42026  100-51 E SHEARWATER CT.      JERSEY CITY, NJ  07305   \n",
       "42027        130 SHORE RD #198  PORT WASHINGTON, NY  11050   \n",
       "42028    100-54 SHEARWATER CT.      JERSEY CITY, NJ  07305   \n",
       "42029    100-55 SHEARWATER CT.    JERSEY CITY, N.J.  07305   \n",
       "\n",
       "                              ownersFullMailingAddress  numberPropertiesOwned  \\\n",
       "0           677 LIBERTY AVE., JERSEY CITY, N.J.  07307                      1   \n",
       "1           675 LIBERTY AVE., JERSEY CITY, N.J.  07307                      1   \n",
       "2             673 LIBERTY AVE., JERSEY CITY, NJ  07307                      1   \n",
       "3             671 LIBERTY AVE., JERSEY CITY, NJ  07307                      1   \n",
       "4           669 LIBERTY AVE., JERSEY CITY, N.J.  07307                      1   \n",
       "...                                                ...                    ...   \n",
       "42025               31 HARMONY WAY, SEWAREN, NJ  07077                      1   \n",
       "42026  100-51 E SHEARWATER CT., JERSEY CITY, NJ  07305                      1   \n",
       "42027    130 SHORE RD #198, PORT WASHINGTON, NY  11050                      1   \n",
       "42028    100-54 SHEARWATER CT., JERSEY CITY, NJ  07305                      1   \n",
       "42029  100-55 SHEARWATER CT., JERSEY CITY, N.J.  07305                      1   \n",
       "\n",
       "                          propertyFullAddress  units  \\\n",
       "0             677 LIBERTY AVE. Jersey City NJ      1   \n",
       "1             675 LIBERTY AVE. Jersey City NJ      1   \n",
       "2             673 LIBERTY AVE. Jersey City NJ      1   \n",
       "3             671 LIBERTY AVE. Jersey City NJ      1   \n",
       "4             669 LIBERTY AVE. Jersey City NJ      1   \n",
       "...                                       ...    ...   \n",
       "42025  100 EAST SHEARWATER CT. Jersey City NJ      1   \n",
       "42026  100 EAST SHEARWATER CT. Jersey City NJ      1   \n",
       "42027  100 EAST SHEARWATER CT. Jersey City NJ      1   \n",
       "42028  100 EAST SHEARWATER CT. Jersey City NJ      1   \n",
       "42029  100 EAST SHEARWATER CT. Jersey City NJ      1   \n",
       "\n",
       "                                                   gCode        Lat       Long  \n",
       "0      677, Liberty Avenue, Jersey City, Hudson Count...  40.759744 -74.050457  \n",
       "1      675, Liberty Avenue, Jersey City, Hudson Count...  40.759679 -74.050499  \n",
       "2      673, Liberty Avenue, Jersey City, Hudson Count...  40.759614 -74.050542  \n",
       "3      671, Liberty Avenue, Jersey City, Hudson Count...  40.759549 -74.050584  \n",
       "4      669, Liberty Avenue, Jersey City, Hudson Count...  40.759484 -74.050626  \n",
       "...                                                  ...        ...        ...  \n",
       "42025  100, East Shearwater Court, Jersey City, Hudso...  40.686674 -74.071935  \n",
       "42026  100, East Shearwater Court, Jersey City, Hudso...  40.686674 -74.071935  \n",
       "42027  100, East Shearwater Court, Jersey City, Hudso...  40.686674 -74.071935  \n",
       "42028  100, East Shearwater Court, Jersey City, Hudso...  40.686674 -74.071935  \n",
       "42029  100, East Shearwater Court, Jersey City, Hudso...  40.686674 -74.071935  \n",
       "\n",
       "[42030 rows x 11 columns]"
      ],
      "text/html": "<div>\n<style scoped>\n    .dataframe tbody tr th:only-of-type {\n        vertical-align: middle;\n    }\n\n    .dataframe tbody tr th {\n        vertical-align: top;\n    }\n\n    .dataframe thead th {\n        text-align: right;\n    }\n</style>\n<table border=\"1\" class=\"dataframe\">\n  <thead>\n    <tr style=\"text-align: right;\">\n      <th></th>\n      <th>propertyLocation</th>\n      <th>ownersName</th>\n      <th>ownersMailingAddress</th>\n      <th>cityStateZip</th>\n      <th>ownersFullMailingAddress</th>\n      <th>numberPropertiesOwned</th>\n      <th>propertyFullAddress</th>\n      <th>units</th>\n      <th>gCode</th>\n      <th>Lat</th>\n      <th>Long</th>\n    </tr>\n  </thead>\n  <tbody>\n    <tr>\n      <th>0</th>\n      <td>677 LIBERTY AVE.</td>\n      <td>PEDDI, PRADEEP</td>\n      <td>677 LIBERTY AVE.</td>\n      <td>JERSEY CITY, N.J.  07307</td>\n      <td>677 LIBERTY AVE., JERSEY CITY, N.J.  07307</td>\n      <td>1</td>\n      <td>677 LIBERTY AVE. Jersey City NJ</td>\n      <td>1</td>\n      <td>677, Liberty Avenue, Jersey City, Hudson Count...</td>\n      <td>40.759744</td>\n      <td>-74.050457</td>\n    </tr>\n    <tr>\n      <th>1</th>\n      <td>675 LIBERTY AVE.</td>\n      <td>PAREJA, HENRY A. &amp; MIRYAM C.</td>\n      <td>675 LIBERTY AVE.</td>\n      <td>JERSEY CITY, N.J.  07307</td>\n      <td>675 LIBERTY AVE., JERSEY CITY, N.J.  07307</td>\n      <td>1</td>\n      <td>675 LIBERTY AVE. Jersey City NJ</td>\n      <td>1</td>\n      <td>675, Liberty Avenue, Jersey City, Hudson Count...</td>\n      <td>40.759679</td>\n      <td>-74.050499</td>\n    </tr>\n    <tr>\n      <th>2</th>\n      <td>673 LIBERTY AVE.</td>\n      <td>HIRPARA, PRAVIN</td>\n      <td>673 LIBERTY AVE.</td>\n      <td>JERSEY CITY, NJ  07307</td>\n      <td>673 LIBERTY AVE., JERSEY CITY, NJ  07307</td>\n      <td>1</td>\n      <td>673 LIBERTY AVE. Jersey City NJ</td>\n      <td>1</td>\n      <td>673, Liberty Avenue, Jersey City, Hudson Count...</td>\n      <td>40.759614</td>\n      <td>-74.050542</td>\n    </tr>\n    <tr>\n      <th>3</th>\n      <td>671 LIBERTY AVE.</td>\n      <td>SINGH, HONEY</td>\n      <td>671 LIBERTY AVE.</td>\n      <td>JERSEY CITY, NJ  07307</td>\n      <td>671 LIBERTY AVE., JERSEY CITY, NJ  07307</td>\n      <td>1</td>\n      <td>671 LIBERTY AVE. Jersey City NJ</td>\n      <td>1</td>\n      <td>671, Liberty Avenue, Jersey City, Hudson Count...</td>\n      <td>40.759549</td>\n      <td>-74.050584</td>\n    </tr>\n    <tr>\n      <th>4</th>\n      <td>669 LIBERTY AVE.</td>\n      <td>MARTIN, BENIGNO &amp; CARIDAD</td>\n      <td>669 LIBERTY AVE.</td>\n      <td>JERSEY CITY, N.J.  07307</td>\n      <td>669 LIBERTY AVE., JERSEY CITY, N.J.  07307</td>\n      <td>1</td>\n      <td>669 LIBERTY AVE. Jersey City NJ</td>\n      <td>1</td>\n      <td>669, Liberty Avenue, Jersey City, Hudson Count...</td>\n      <td>40.759484</td>\n      <td>-74.050626</td>\n    </tr>\n    <tr>\n      <th>...</th>\n      <td>...</td>\n      <td>...</td>\n      <td>...</td>\n      <td>...</td>\n      <td>...</td>\n      <td>...</td>\n      <td>...</td>\n      <td>...</td>\n      <td>...</td>\n      <td>...</td>\n      <td>...</td>\n    </tr>\n    <tr>\n      <th>42025</th>\n      <td>100 EAST SHEARWATER CT.</td>\n      <td>BALANLAYOS, JESUS &amp; MYRNA</td>\n      <td>31 HARMONY WAY</td>\n      <td>SEWAREN, NJ  07077</td>\n      <td>31 HARMONY WAY, SEWAREN, NJ  07077</td>\n      <td>1</td>\n      <td>100 EAST SHEARWATER CT. Jersey City NJ</td>\n      <td>1</td>\n      <td>100, East Shearwater Court, Jersey City, Hudso...</td>\n      <td>40.686674</td>\n      <td>-74.071935</td>\n    </tr>\n    <tr>\n      <th>42026</th>\n      <td>100 EAST SHEARWATER CT.</td>\n      <td>DANGCIL, PROCERFINA &amp; WILLIAM A JR</td>\n      <td>100-51 E SHEARWATER CT.</td>\n      <td>JERSEY CITY, NJ  07305</td>\n      <td>100-51 E SHEARWATER CT., JERSEY CITY, NJ  07305</td>\n      <td>1</td>\n      <td>100 EAST SHEARWATER CT. Jersey City NJ</td>\n      <td>1</td>\n      <td>100, East Shearwater Court, Jersey City, Hudso...</td>\n      <td>40.686674</td>\n      <td>-74.071935</td>\n    </tr>\n    <tr>\n      <th>42027</th>\n      <td>100 EAST SHEARWATER CT.</td>\n      <td>LAWSONS REALTY,LLC</td>\n      <td>130 SHORE RD #198</td>\n      <td>PORT WASHINGTON, NY  11050</td>\n      <td>130 SHORE RD #198, PORT WASHINGTON, NY  11050</td>\n      <td>1</td>\n      <td>100 EAST SHEARWATER CT. Jersey City NJ</td>\n      <td>1</td>\n      <td>100, East Shearwater Court, Jersey City, Hudso...</td>\n      <td>40.686674</td>\n      <td>-74.071935</td>\n    </tr>\n    <tr>\n      <th>42028</th>\n      <td>100 EAST SHEARWATER CT.</td>\n      <td>NATHAN, NAVIN D.</td>\n      <td>100-54 SHEARWATER CT.</td>\n      <td>JERSEY CITY, NJ  07305</td>\n      <td>100-54 SHEARWATER CT., JERSEY CITY, NJ  07305</td>\n      <td>1</td>\n      <td>100 EAST SHEARWATER CT. Jersey City NJ</td>\n      <td>1</td>\n      <td>100, East Shearwater Court, Jersey City, Hudso...</td>\n      <td>40.686674</td>\n      <td>-74.071935</td>\n    </tr>\n    <tr>\n      <th>42029</th>\n      <td>100 EAST SHEARWATER CT.</td>\n      <td>HORAN, CHRISTOPHER L.</td>\n      <td>100-55 SHEARWATER CT.</td>\n      <td>JERSEY CITY, N.J.  07305</td>\n      <td>100-55 SHEARWATER CT., JERSEY CITY, N.J.  07305</td>\n      <td>1</td>\n      <td>100 EAST SHEARWATER CT. Jersey City NJ</td>\n      <td>1</td>\n      <td>100, East Shearwater Court, Jersey City, Hudso...</td>\n      <td>40.686674</td>\n      <td>-74.071935</td>\n    </tr>\n  </tbody>\n</table>\n<p>42030 rows × 11 columns</p>\n</div>"
     },
     "metadata": {},
     "execution_count": 25
    }
   ],
   "source": [
    "df.reindex(columns=['propertyLocation', 'ownersName', 'ownersMailingAddress', 'cityStateZip', 'ownersFullMailingAddress', 'numberPropertiesOwned', 'propertyFullAddress', 'units', 'gCode', 'Lat', 'Long'])"
   ]
  },
  {
   "cell_type": "code",
   "execution_count": 34,
   "metadata": {},
   "outputs": [],
   "source": [
    "def getPropertiesOwned(owner=str):\n",
    "    return df[df.ownersName == owner]['propertyLocation'].unique().tolist()\n",
    "\n",
    "df['propertiesOwned'] = [getPropertiesOwned(owner) for owner in df.ownersName]"
   ]
  },
  {
   "cell_type": "code",
   "execution_count": 42,
   "metadata": {},
   "outputs": [],
   "source": [
    "df.append(newark_df.reindex(columns=['propertyLocation', 'ownersName', 'ownersMailingAddress', 'cityStateZip', 'ownersFullMailingAddress', 'numberPropertiesOwned', 'propertyFullAddress', 'units', 'gCode', 'Lat', 'Long', 'propertiesOwned'])).to_csv('/Users/kylereaves/Desktop/landlord_data/newark_and_jerseyCity.csv', index=None)"
   ]
  },
  {
   "cell_type": "code",
   "execution_count": 39,
   "metadata": {},
   "outputs": [
    {
     "output_type": "execute_result",
     "data": {
      "text/plain": [
       "             propertyLocation                ownersName  \\\n",
       "0      1050-1052 MCCARTER HWY        SEABRA BROTHERS II   \n",
       "1      1155-1157 MCCARTER HWY  LEG 450 BROAD STREET LLC   \n",
       "2                23 BRIDGE ST           ALS NEWARK LLC,   \n",
       "3                25 BRIDGE ST           ALS NEWARK LLC,   \n",
       "4                27 BRIDGE ST           ALS NEWARK LLC,   \n",
       "...                       ...                       ...   \n",
       "34673           878 S 18TH ST       OJUTALAYO, OLUKUNLE   \n",
       "34674           881 S 18TH ST            HANKINS, JERRY   \n",
       "34675        752 S 15TH ST ST      WHITE,JAMES R & REBA   \n",
       "34676             243 2ND AVE               WILSON LEON   \n",
       "34677             233  4TH ST                FADAVI, AL   \n",
       "\n",
       "            ownersMailingAddress       cityStateZip  \\\n",
       "0      260CHESTNUT ST. 2ND FLOOR  NEWARK, NJ  07105   \n",
       "1              283-299 MARKET ST  NEWARK, NJ  07102   \n",
       "2         494 BROAD ST SUITE 210  NEWARK, NJ  07102   \n",
       "3         494 BROAD ST SUITE 210  NEWARK, NY  07102   \n",
       "4         494 BROAD ST SUITE 210  NEWARK, NJ  07102   \n",
       "...                          ...                ...   \n",
       "34673         878-880 SO 18TH ST  NEWARK, NJ  07108   \n",
       "34674              883 S 18TH ST  NEWARK, NJ  07108   \n",
       "34675              752 S 15TH ST  NEWARK, NJ  07103   \n",
       "34676              243 2ND AVE W  NEWARK, NJ  07107   \n",
       "34677                  76 ELM ST  NEWARK, NJ  07105   \n",
       "\n",
       "                         ownersFullMailingAddress  numberPropertiesOwned  \\\n",
       "0      260CHESTNUT ST. 2ND FLOORNEWARK, NJ  07105                      1   \n",
       "1              283-299 MARKET STNEWARK, NJ  07102                      4   \n",
       "2         494 BROAD ST SUITE 210NEWARK, NJ  07102                      3   \n",
       "3         494 BROAD ST SUITE 210NEWARK, NY  07102                      3   \n",
       "4         494 BROAD ST SUITE 210NEWARK, NJ  07102                      3   \n",
       "...                                           ...                    ...   \n",
       "34673         878-880 SO 18TH STNEWARK, NJ  07108                      1   \n",
       "34674              883 S 18TH STNEWARK, NJ  07108                      1   \n",
       "34675              752 S 15TH STNEWARK, NJ  07103                      1   \n",
       "34676              243 2ND AVE WNEWARK, NJ  07107                      1   \n",
       "34677                  76 ELM STNEWARK, NJ  07105                      3   \n",
       "\n",
       "                     propertyFullAddress  units  \\\n",
       "0      1050-1052 MCCARTER HWY Newark, NJ      1   \n",
       "1      1155-1157 MCCARTER HWY Newark, NJ      1   \n",
       "2                23 BRIDGE ST Newark, NJ      1   \n",
       "3                25 BRIDGE ST Newark, NJ      1   \n",
       "4                27 BRIDGE ST Newark, NJ      1   \n",
       "...                                  ...    ...   \n",
       "34673           878 S 18TH ST Newark, NJ      1   \n",
       "34674           881 S 18TH ST Newark, NJ      1   \n",
       "34675        752 S 15TH ST ST Newark, NJ      1   \n",
       "34676             243 2ND AVE Newark, NJ      1   \n",
       "34677             233  4TH ST Newark, NJ      1   \n",
       "\n",
       "                                                   gCode        Lat  \\\n",
       "0      1050, McCarter Highway, Newark, Essex County, ...  40.743957   \n",
       "1      McCarter Highway, Newark, Essex County, New Je...  40.713282   \n",
       "2      23, Bridge Street, Newark, Essex County, New J...  40.744495   \n",
       "3      25, Bridge Street, Newark, Essex County, New J...  40.744497   \n",
       "4      27, Bridge Street, Newark, Essex County, New J...  40.744500   \n",
       "...                                                  ...        ...   \n",
       "34673  878, South 18th Street, Newark, Essex County, ...  40.725522   \n",
       "34674  881, South 18th Street, Newark, Essex County, ...  40.725471   \n",
       "34675  752, South 15th Street, Newark, Essex County, ...  40.728387   \n",
       "34676  243, 2nd Avenue, Newark, Essex County, New Jer...  40.765368   \n",
       "34677  233, 4th Street, Roseville, Newark, Essex Coun...  40.754816   \n",
       "\n",
       "            Long                                    propertiesOwned  \n",
       "0     -74.167420                         ['1050-1052 MCCARTER HWY']  \n",
       "1     -74.183981  ['1155-1157 MCCARTER HWY', '2-28 DIVISION ST',...  \n",
       "2     -74.169458   ['23 BRIDGE ST', '25 BRIDGE ST', '27 BRIDGE ST']  \n",
       "3     -74.169442   ['23 BRIDGE ST', '25 BRIDGE ST', '27 BRIDGE ST']  \n",
       "4     -74.169426   ['23 BRIDGE ST', '25 BRIDGE ST', '27 BRIDGE ST']  \n",
       "...          ...                                                ...  \n",
       "34673 -74.214026                                 ['878-880 S 18TH']  \n",
       "34674 -74.214270                                 ['881-883 S 18TH']  \n",
       "34675 -74.210011                              ['752 S FIFTEETH ST']  \n",
       "34676 -74.181202                               ['243 2ND AVE WEST']  \n",
       "34677 -74.186933  ['77 THOMAS ST', '233 NO 4TH ST', '243-245 NJR...  \n",
       "\n",
       "[34678 rows x 12 columns]"
      ],
      "text/html": "<div>\n<style scoped>\n    .dataframe tbody tr th:only-of-type {\n        vertical-align: middle;\n    }\n\n    .dataframe tbody tr th {\n        vertical-align: top;\n    }\n\n    .dataframe thead th {\n        text-align: right;\n    }\n</style>\n<table border=\"1\" class=\"dataframe\">\n  <thead>\n    <tr style=\"text-align: right;\">\n      <th></th>\n      <th>propertyLocation</th>\n      <th>ownersName</th>\n      <th>ownersMailingAddress</th>\n      <th>cityStateZip</th>\n      <th>ownersFullMailingAddress</th>\n      <th>numberPropertiesOwned</th>\n      <th>propertyFullAddress</th>\n      <th>units</th>\n      <th>gCode</th>\n      <th>Lat</th>\n      <th>Long</th>\n      <th>propertiesOwned</th>\n    </tr>\n  </thead>\n  <tbody>\n    <tr>\n      <th>0</th>\n      <td>1050-1052 MCCARTER HWY</td>\n      <td>SEABRA BROTHERS II</td>\n      <td>260CHESTNUT ST. 2ND FLOOR</td>\n      <td>NEWARK, NJ  07105</td>\n      <td>260CHESTNUT ST. 2ND FLOORNEWARK, NJ  07105</td>\n      <td>1</td>\n      <td>1050-1052 MCCARTER HWY Newark, NJ</td>\n      <td>1</td>\n      <td>1050, McCarter Highway, Newark, Essex County, ...</td>\n      <td>40.743957</td>\n      <td>-74.167420</td>\n      <td>['1050-1052 MCCARTER HWY']</td>\n    </tr>\n    <tr>\n      <th>1</th>\n      <td>1155-1157 MCCARTER HWY</td>\n      <td>LEG 450 BROAD STREET LLC</td>\n      <td>283-299 MARKET ST</td>\n      <td>NEWARK, NJ  07102</td>\n      <td>283-299 MARKET STNEWARK, NJ  07102</td>\n      <td>4</td>\n      <td>1155-1157 MCCARTER HWY Newark, NJ</td>\n      <td>1</td>\n      <td>McCarter Highway, Newark, Essex County, New Je...</td>\n      <td>40.713282</td>\n      <td>-74.183981</td>\n      <td>['1155-1157 MCCARTER HWY', '2-28 DIVISION ST',...</td>\n    </tr>\n    <tr>\n      <th>2</th>\n      <td>23 BRIDGE ST</td>\n      <td>ALS NEWARK LLC,</td>\n      <td>494 BROAD ST SUITE 210</td>\n      <td>NEWARK, NJ  07102</td>\n      <td>494 BROAD ST SUITE 210NEWARK, NJ  07102</td>\n      <td>3</td>\n      <td>23 BRIDGE ST Newark, NJ</td>\n      <td>1</td>\n      <td>23, Bridge Street, Newark, Essex County, New J...</td>\n      <td>40.744495</td>\n      <td>-74.169458</td>\n      <td>['23 BRIDGE ST', '25 BRIDGE ST', '27 BRIDGE ST']</td>\n    </tr>\n    <tr>\n      <th>3</th>\n      <td>25 BRIDGE ST</td>\n      <td>ALS NEWARK LLC,</td>\n      <td>494 BROAD ST SUITE 210</td>\n      <td>NEWARK, NY  07102</td>\n      <td>494 BROAD ST SUITE 210NEWARK, NY  07102</td>\n      <td>3</td>\n      <td>25 BRIDGE ST Newark, NJ</td>\n      <td>1</td>\n      <td>25, Bridge Street, Newark, Essex County, New J...</td>\n      <td>40.744497</td>\n      <td>-74.169442</td>\n      <td>['23 BRIDGE ST', '25 BRIDGE ST', '27 BRIDGE ST']</td>\n    </tr>\n    <tr>\n      <th>4</th>\n      <td>27 BRIDGE ST</td>\n      <td>ALS NEWARK LLC,</td>\n      <td>494 BROAD ST SUITE 210</td>\n      <td>NEWARK, NJ  07102</td>\n      <td>494 BROAD ST SUITE 210NEWARK, NJ  07102</td>\n      <td>3</td>\n      <td>27 BRIDGE ST Newark, NJ</td>\n      <td>1</td>\n      <td>27, Bridge Street, Newark, Essex County, New J...</td>\n      <td>40.744500</td>\n      <td>-74.169426</td>\n      <td>['23 BRIDGE ST', '25 BRIDGE ST', '27 BRIDGE ST']</td>\n    </tr>\n    <tr>\n      <th>...</th>\n      <td>...</td>\n      <td>...</td>\n      <td>...</td>\n      <td>...</td>\n      <td>...</td>\n      <td>...</td>\n      <td>...</td>\n      <td>...</td>\n      <td>...</td>\n      <td>...</td>\n      <td>...</td>\n      <td>...</td>\n    </tr>\n    <tr>\n      <th>34673</th>\n      <td>878 S 18TH ST</td>\n      <td>OJUTALAYO, OLUKUNLE</td>\n      <td>878-880 SO 18TH ST</td>\n      <td>NEWARK, NJ  07108</td>\n      <td>878-880 SO 18TH STNEWARK, NJ  07108</td>\n      <td>1</td>\n      <td>878 S 18TH ST Newark, NJ</td>\n      <td>1</td>\n      <td>878, South 18th Street, Newark, Essex County, ...</td>\n      <td>40.725522</td>\n      <td>-74.214026</td>\n      <td>['878-880 S 18TH']</td>\n    </tr>\n    <tr>\n      <th>34674</th>\n      <td>881 S 18TH ST</td>\n      <td>HANKINS, JERRY</td>\n      <td>883 S 18TH ST</td>\n      <td>NEWARK, NJ  07108</td>\n      <td>883 S 18TH STNEWARK, NJ  07108</td>\n      <td>1</td>\n      <td>881 S 18TH ST Newark, NJ</td>\n      <td>1</td>\n      <td>881, South 18th Street, Newark, Essex County, ...</td>\n      <td>40.725471</td>\n      <td>-74.214270</td>\n      <td>['881-883 S 18TH']</td>\n    </tr>\n    <tr>\n      <th>34675</th>\n      <td>752 S 15TH ST ST</td>\n      <td>WHITE,JAMES R &amp; REBA</td>\n      <td>752 S 15TH ST</td>\n      <td>NEWARK, NJ  07103</td>\n      <td>752 S 15TH STNEWARK, NJ  07103</td>\n      <td>1</td>\n      <td>752 S 15TH ST ST Newark, NJ</td>\n      <td>1</td>\n      <td>752, South 15th Street, Newark, Essex County, ...</td>\n      <td>40.728387</td>\n      <td>-74.210011</td>\n      <td>['752 S FIFTEETH ST']</td>\n    </tr>\n    <tr>\n      <th>34676</th>\n      <td>243 2ND AVE</td>\n      <td>WILSON LEON</td>\n      <td>243 2ND AVE W</td>\n      <td>NEWARK, NJ  07107</td>\n      <td>243 2ND AVE WNEWARK, NJ  07107</td>\n      <td>1</td>\n      <td>243 2ND AVE Newark, NJ</td>\n      <td>1</td>\n      <td>243, 2nd Avenue, Newark, Essex County, New Jer...</td>\n      <td>40.765368</td>\n      <td>-74.181202</td>\n      <td>['243 2ND AVE WEST']</td>\n    </tr>\n    <tr>\n      <th>34677</th>\n      <td>233  4TH ST</td>\n      <td>FADAVI, AL</td>\n      <td>76 ELM ST</td>\n      <td>NEWARK, NJ  07105</td>\n      <td>76 ELM STNEWARK, NJ  07105</td>\n      <td>3</td>\n      <td>233  4TH ST Newark, NJ</td>\n      <td>1</td>\n      <td>233, 4th Street, Roseville, Newark, Essex Coun...</td>\n      <td>40.754816</td>\n      <td>-74.186933</td>\n      <td>['77 THOMAS ST', '233 NO 4TH ST', '243-245 NJR...</td>\n    </tr>\n  </tbody>\n</table>\n<p>34678 rows × 12 columns</p>\n</div>"
     },
     "metadata": {},
     "execution_count": 39
    }
   ],
   "source": [
    "newark_df.erindex(columns=['propertyLocation', 'ownersName', 'ownersMailingAddress', 'cityStateZip', 'ownersFullMailingAddress', 'numberPropertiesOwned', 'propertyFullAddress', 'units', 'gCode', 'Lat', 'Long', 'propertiesOwned'])"
   ]
  },
  {
   "cell_type": "code",
   "execution_count": 28,
   "metadata": {},
   "outputs": [],
   "source": [
    "#newark_df['ownersFullMailingAddress'] = newark_df.ownersMailingAddress + newark_df.cityStateZip"
   ]
  },
  {
   "cell_type": "code",
   "execution_count": 37,
   "metadata": {},
   "outputs": [
    {
     "output_type": "execute_result",
     "data": {
      "text/plain": [
       "             propertyLocation                ownersName  \\\n",
       "0      1050-1052 MCCARTER HWY        SEABRA BROTHERS II   \n",
       "1      1155-1157 MCCARTER HWY  LEG 450 BROAD STREET LLC   \n",
       "2                23 BRIDGE ST           ALS NEWARK LLC,   \n",
       "3                25 BRIDGE ST           ALS NEWARK LLC,   \n",
       "4                27 BRIDGE ST           ALS NEWARK LLC,   \n",
       "...                       ...                       ...   \n",
       "34673           878 S 18TH ST       OJUTALAYO, OLUKUNLE   \n",
       "34674           881 S 18TH ST            HANKINS, JERRY   \n",
       "34675        752 S 15TH ST ST      WHITE,JAMES R & REBA   \n",
       "34676             243 2ND AVE               WILSON LEON   \n",
       "34677             233  4TH ST                FADAVI, AL   \n",
       "\n",
       "            ownersMailingAddress       cityStateZip  units  \\\n",
       "0      260CHESTNUT ST. 2ND FLOOR  NEWARK, NJ  07105      1   \n",
       "1              283-299 MARKET ST  NEWARK, NJ  07102      1   \n",
       "2         494 BROAD ST SUITE 210  NEWARK, NJ  07102      1   \n",
       "3         494 BROAD ST SUITE 210  NEWARK, NY  07102      1   \n",
       "4         494 BROAD ST SUITE 210  NEWARK, NJ  07102      1   \n",
       "...                          ...                ...    ...   \n",
       "34673         878-880 SO 18TH ST  NEWARK, NJ  07108      1   \n",
       "34674              883 S 18TH ST  NEWARK, NJ  07108      1   \n",
       "34675              752 S 15TH ST  NEWARK, NJ  07103      1   \n",
       "34676              243 2ND AVE W  NEWARK, NJ  07107      1   \n",
       "34677                  76 ELM ST  NEWARK, NJ  07105      1   \n",
       "\n",
       "                                         propertiesOwned  \\\n",
       "0                             ['1050-1052 MCCARTER HWY']   \n",
       "1      ['1155-1157 MCCARTER HWY', '2-28 DIVISION ST',...   \n",
       "2       ['23 BRIDGE ST', '25 BRIDGE ST', '27 BRIDGE ST']   \n",
       "3       ['23 BRIDGE ST', '25 BRIDGE ST', '27 BRIDGE ST']   \n",
       "4       ['23 BRIDGE ST', '25 BRIDGE ST', '27 BRIDGE ST']   \n",
       "...                                                  ...   \n",
       "34673                                 ['878-880 S 18TH']   \n",
       "34674                                 ['881-883 S 18TH']   \n",
       "34675                              ['752 S FIFTEETH ST']   \n",
       "34676                               ['243 2ND AVE WEST']   \n",
       "34677  ['77 THOMAS ST', '233 NO 4TH ST', '243-245 NJR...   \n",
       "\n",
       "       numberPropertiesOwned                propertyFullAddress  \\\n",
       "0                          1  1050-1052 MCCARTER HWY Newark, NJ   \n",
       "1                          4  1155-1157 MCCARTER HWY Newark, NJ   \n",
       "2                          3            23 BRIDGE ST Newark, NJ   \n",
       "3                          3            25 BRIDGE ST Newark, NJ   \n",
       "4                          3            27 BRIDGE ST Newark, NJ   \n",
       "...                      ...                                ...   \n",
       "34673                      1           878 S 18TH ST Newark, NJ   \n",
       "34674                      1           881 S 18TH ST Newark, NJ   \n",
       "34675                      1        752 S 15TH ST ST Newark, NJ   \n",
       "34676                      1             243 2ND AVE Newark, NJ   \n",
       "34677                      3             233  4TH ST Newark, NJ   \n",
       "\n",
       "                                                   gCode        Lat  \\\n",
       "0      1050, McCarter Highway, Newark, Essex County, ...  40.743957   \n",
       "1      McCarter Highway, Newark, Essex County, New Je...  40.713282   \n",
       "2      23, Bridge Street, Newark, Essex County, New J...  40.744495   \n",
       "3      25, Bridge Street, Newark, Essex County, New J...  40.744497   \n",
       "4      27, Bridge Street, Newark, Essex County, New J...  40.744500   \n",
       "...                                                  ...        ...   \n",
       "34673  878, South 18th Street, Newark, Essex County, ...  40.725522   \n",
       "34674  881, South 18th Street, Newark, Essex County, ...  40.725471   \n",
       "34675  752, South 15th Street, Newark, Essex County, ...  40.728387   \n",
       "34676  243, 2nd Avenue, Newark, Essex County, New Jer...  40.765368   \n",
       "34677  233, 4th Street, Roseville, Newark, Essex Coun...  40.754816   \n",
       "\n",
       "            Long                    ownersFullMailingAddress  \n",
       "0     -74.167420  260CHESTNUT ST. 2ND FLOORNEWARK, NJ  07105  \n",
       "1     -74.183981          283-299 MARKET STNEWARK, NJ  07102  \n",
       "2     -74.169458     494 BROAD ST SUITE 210NEWARK, NJ  07102  \n",
       "3     -74.169442     494 BROAD ST SUITE 210NEWARK, NY  07102  \n",
       "4     -74.169426     494 BROAD ST SUITE 210NEWARK, NJ  07102  \n",
       "...          ...                                         ...  \n",
       "34673 -74.214026         878-880 SO 18TH STNEWARK, NJ  07108  \n",
       "34674 -74.214270              883 S 18TH STNEWARK, NJ  07108  \n",
       "34675 -74.210011              752 S 15TH STNEWARK, NJ  07103  \n",
       "34676 -74.181202              243 2ND AVE WNEWARK, NJ  07107  \n",
       "34677 -74.186933                  76 ELM STNEWARK, NJ  07105  \n",
       "\n",
       "[34678 rows x 12 columns]"
      ],
      "text/html": "<div>\n<style scoped>\n    .dataframe tbody tr th:only-of-type {\n        vertical-align: middle;\n    }\n\n    .dataframe tbody tr th {\n        vertical-align: top;\n    }\n\n    .dataframe thead th {\n        text-align: right;\n    }\n</style>\n<table border=\"1\" class=\"dataframe\">\n  <thead>\n    <tr style=\"text-align: right;\">\n      <th></th>\n      <th>propertyLocation</th>\n      <th>ownersName</th>\n      <th>ownersMailingAddress</th>\n      <th>cityStateZip</th>\n      <th>units</th>\n      <th>propertiesOwned</th>\n      <th>numberPropertiesOwned</th>\n      <th>propertyFullAddress</th>\n      <th>gCode</th>\n      <th>Lat</th>\n      <th>Long</th>\n      <th>ownersFullMailingAddress</th>\n    </tr>\n  </thead>\n  <tbody>\n    <tr>\n      <th>0</th>\n      <td>1050-1052 MCCARTER HWY</td>\n      <td>SEABRA BROTHERS II</td>\n      <td>260CHESTNUT ST. 2ND FLOOR</td>\n      <td>NEWARK, NJ  07105</td>\n      <td>1</td>\n      <td>['1050-1052 MCCARTER HWY']</td>\n      <td>1</td>\n      <td>1050-1052 MCCARTER HWY Newark, NJ</td>\n      <td>1050, McCarter Highway, Newark, Essex County, ...</td>\n      <td>40.743957</td>\n      <td>-74.167420</td>\n      <td>260CHESTNUT ST. 2ND FLOORNEWARK, NJ  07105</td>\n    </tr>\n    <tr>\n      <th>1</th>\n      <td>1155-1157 MCCARTER HWY</td>\n      <td>LEG 450 BROAD STREET LLC</td>\n      <td>283-299 MARKET ST</td>\n      <td>NEWARK, NJ  07102</td>\n      <td>1</td>\n      <td>['1155-1157 MCCARTER HWY', '2-28 DIVISION ST',...</td>\n      <td>4</td>\n      <td>1155-1157 MCCARTER HWY Newark, NJ</td>\n      <td>McCarter Highway, Newark, Essex County, New Je...</td>\n      <td>40.713282</td>\n      <td>-74.183981</td>\n      <td>283-299 MARKET STNEWARK, NJ  07102</td>\n    </tr>\n    <tr>\n      <th>2</th>\n      <td>23 BRIDGE ST</td>\n      <td>ALS NEWARK LLC,</td>\n      <td>494 BROAD ST SUITE 210</td>\n      <td>NEWARK, NJ  07102</td>\n      <td>1</td>\n      <td>['23 BRIDGE ST', '25 BRIDGE ST', '27 BRIDGE ST']</td>\n      <td>3</td>\n      <td>23 BRIDGE ST Newark, NJ</td>\n      <td>23, Bridge Street, Newark, Essex County, New J...</td>\n      <td>40.744495</td>\n      <td>-74.169458</td>\n      <td>494 BROAD ST SUITE 210NEWARK, NJ  07102</td>\n    </tr>\n    <tr>\n      <th>3</th>\n      <td>25 BRIDGE ST</td>\n      <td>ALS NEWARK LLC,</td>\n      <td>494 BROAD ST SUITE 210</td>\n      <td>NEWARK, NY  07102</td>\n      <td>1</td>\n      <td>['23 BRIDGE ST', '25 BRIDGE ST', '27 BRIDGE ST']</td>\n      <td>3</td>\n      <td>25 BRIDGE ST Newark, NJ</td>\n      <td>25, Bridge Street, Newark, Essex County, New J...</td>\n      <td>40.744497</td>\n      <td>-74.169442</td>\n      <td>494 BROAD ST SUITE 210NEWARK, NY  07102</td>\n    </tr>\n    <tr>\n      <th>4</th>\n      <td>27 BRIDGE ST</td>\n      <td>ALS NEWARK LLC,</td>\n      <td>494 BROAD ST SUITE 210</td>\n      <td>NEWARK, NJ  07102</td>\n      <td>1</td>\n      <td>['23 BRIDGE ST', '25 BRIDGE ST', '27 BRIDGE ST']</td>\n      <td>3</td>\n      <td>27 BRIDGE ST Newark, NJ</td>\n      <td>27, Bridge Street, Newark, Essex County, New J...</td>\n      <td>40.744500</td>\n      <td>-74.169426</td>\n      <td>494 BROAD ST SUITE 210NEWARK, NJ  07102</td>\n    </tr>\n    <tr>\n      <th>...</th>\n      <td>...</td>\n      <td>...</td>\n      <td>...</td>\n      <td>...</td>\n      <td>...</td>\n      <td>...</td>\n      <td>...</td>\n      <td>...</td>\n      <td>...</td>\n      <td>...</td>\n      <td>...</td>\n      <td>...</td>\n    </tr>\n    <tr>\n      <th>34673</th>\n      <td>878 S 18TH ST</td>\n      <td>OJUTALAYO, OLUKUNLE</td>\n      <td>878-880 SO 18TH ST</td>\n      <td>NEWARK, NJ  07108</td>\n      <td>1</td>\n      <td>['878-880 S 18TH']</td>\n      <td>1</td>\n      <td>878 S 18TH ST Newark, NJ</td>\n      <td>878, South 18th Street, Newark, Essex County, ...</td>\n      <td>40.725522</td>\n      <td>-74.214026</td>\n      <td>878-880 SO 18TH STNEWARK, NJ  07108</td>\n    </tr>\n    <tr>\n      <th>34674</th>\n      <td>881 S 18TH ST</td>\n      <td>HANKINS, JERRY</td>\n      <td>883 S 18TH ST</td>\n      <td>NEWARK, NJ  07108</td>\n      <td>1</td>\n      <td>['881-883 S 18TH']</td>\n      <td>1</td>\n      <td>881 S 18TH ST Newark, NJ</td>\n      <td>881, South 18th Street, Newark, Essex County, ...</td>\n      <td>40.725471</td>\n      <td>-74.214270</td>\n      <td>883 S 18TH STNEWARK, NJ  07108</td>\n    </tr>\n    <tr>\n      <th>34675</th>\n      <td>752 S 15TH ST ST</td>\n      <td>WHITE,JAMES R &amp; REBA</td>\n      <td>752 S 15TH ST</td>\n      <td>NEWARK, NJ  07103</td>\n      <td>1</td>\n      <td>['752 S FIFTEETH ST']</td>\n      <td>1</td>\n      <td>752 S 15TH ST ST Newark, NJ</td>\n      <td>752, South 15th Street, Newark, Essex County, ...</td>\n      <td>40.728387</td>\n      <td>-74.210011</td>\n      <td>752 S 15TH STNEWARK, NJ  07103</td>\n    </tr>\n    <tr>\n      <th>34676</th>\n      <td>243 2ND AVE</td>\n      <td>WILSON LEON</td>\n      <td>243 2ND AVE W</td>\n      <td>NEWARK, NJ  07107</td>\n      <td>1</td>\n      <td>['243 2ND AVE WEST']</td>\n      <td>1</td>\n      <td>243 2ND AVE Newark, NJ</td>\n      <td>243, 2nd Avenue, Newark, Essex County, New Jer...</td>\n      <td>40.765368</td>\n      <td>-74.181202</td>\n      <td>243 2ND AVE WNEWARK, NJ  07107</td>\n    </tr>\n    <tr>\n      <th>34677</th>\n      <td>233  4TH ST</td>\n      <td>FADAVI, AL</td>\n      <td>76 ELM ST</td>\n      <td>NEWARK, NJ  07105</td>\n      <td>1</td>\n      <td>['77 THOMAS ST', '233 NO 4TH ST', '243-245 NJR...</td>\n      <td>3</td>\n      <td>233  4TH ST Newark, NJ</td>\n      <td>233, 4th Street, Roseville, Newark, Essex Coun...</td>\n      <td>40.754816</td>\n      <td>-74.186933</td>\n      <td>76 ELM STNEWARK, NJ  07105</td>\n    </tr>\n  </tbody>\n</table>\n<p>34678 rows × 12 columns</p>\n</div>"
     },
     "metadata": {},
     "execution_count": 37
    }
   ],
   "source": [
    "newark_df"
   ]
  },
  {
   "cell_type": "code",
   "execution_count": 5,
   "metadata": {},
   "outputs": [],
   "source": [
    "#df.drop(columns=['Unnamed: 0'], inplace=True)"
   ]
  },
  {
   "cell_type": "code",
   "execution_count": 2,
   "metadata": {},
   "outputs": [],
   "source": [
    "geocode_errors = [i for i,e in enumerate(errors_df.gCode) if e == None]"
   ]
  },
  {
   "cell_type": "code",
   "execution_count": 3,
   "metadata": {},
   "outputs": [
    {
     "output_type": "execute_result",
     "data": {
      "text/plain": [
       "True"
      ]
     },
     "metadata": {},
     "execution_count": 3
    }
   ],
   "source": [
    "len(geocode_errors) == len(errors_df)"
   ]
  },
  {
   "cell_type": "code",
   "execution_count": 4,
   "metadata": {},
   "outputs": [
    {
     "output_type": "execute_result",
     "data": {
      "text/plain": [
       "             propertyLocation                         ownersName  \\\n",
       "2529              78A RNE ST.     MITTAL,CHITRA KOTHARI & DEEPAK   \n",
       "19294         10 PAULMIER PL.   DOWLING, JAMES PATRICK & TOBY K.   \n",
       "19691  280 GREGORY PARK PLAZA  METROPOLIS TOWERS APT. CORP. MGT.   \n",
       "19692  270 GREGORY PARK PLAZA  METROPOLIS TOWERS APT. CORP. MGT.   \n",
       "32583        32 WILKINSON ST.                 HARIKRISHAN, HARRY   \n",
       "38254      107 SHEARWATER CT.  SANTANIELLO III, PHILLIP & CLAIRE   \n",
       "\n",
       "         ownersMailingAddress              cityStateZip  \\\n",
       "2529      76 CONSTITUTION WAY  JERSEY CITY, N.J.  07302   \n",
       "19294          10 PAULMIER PL   JERSEY CITY, N J  07302   \n",
       "19691  280 GREGORY PARK PLAZA    JERSEY CITY, NJ  07302   \n",
       "19692  270 GREGORY PARK PLAZA    JERSEY CITY, NJ  07302   \n",
       "32583         23 TERHUNE AVE.    JERSEY CITY, NJ  07305   \n",
       "38254      107 SHEARWATER CT.    JERSEY CITY, NJ  07305   \n",
       "\n",
       "                             ownersFullMailingAddress  \\\n",
       "2529    76 CONSTITUTION WAY, JERSEY CITY, N.J.  07302   \n",
       "19294         10 PAULMIER PL, JERSEY CITY, N J  07302   \n",
       "19691  280 GREGORY PARK PLAZA, JERSEY CITY, NJ  07302   \n",
       "19692  270 GREGORY PARK PLAZA, JERSEY CITY, NJ  07302   \n",
       "32583         23 TERHUNE AVE., JERSEY CITY, NJ  07305   \n",
       "38254      107 SHEARWATER CT., JERSEY CITY, NJ  07305   \n",
       "\n",
       "                          propertyFullAddress  propertiesOwned  units gCode  \n",
       "2529              78A RNE ST. Jersey City, NJ                1      1  None  \n",
       "19294         10 PAULMIER PL. Jersey City, NJ                1      1  None  \n",
       "19691  280 GREGORY PARK PLAZA Jersey City, NJ                2      1  None  \n",
       "19692  270 GREGORY PARK PLAZA Jersey City, NJ                2      1  None  \n",
       "32583        32 WILKINSON ST. Jersey City, NJ                1      1  None  \n",
       "38254      107 SHEARWATER CT. Jersey City, NJ                1      1  None  "
      ],
      "text/html": "<div>\n<style scoped>\n    .dataframe tbody tr th:only-of-type {\n        vertical-align: middle;\n    }\n\n    .dataframe tbody tr th {\n        vertical-align: top;\n    }\n\n    .dataframe thead th {\n        text-align: right;\n    }\n</style>\n<table border=\"1\" class=\"dataframe\">\n  <thead>\n    <tr style=\"text-align: right;\">\n      <th></th>\n      <th>propertyLocation</th>\n      <th>ownersName</th>\n      <th>ownersMailingAddress</th>\n      <th>cityStateZip</th>\n      <th>ownersFullMailingAddress</th>\n      <th>propertyFullAddress</th>\n      <th>propertiesOwned</th>\n      <th>units</th>\n      <th>gCode</th>\n    </tr>\n  </thead>\n  <tbody>\n    <tr>\n      <th>2529</th>\n      <td>78A RNE ST.</td>\n      <td>MITTAL,CHITRA KOTHARI &amp; DEEPAK</td>\n      <td>76 CONSTITUTION WAY</td>\n      <td>JERSEY CITY, N.J.  07302</td>\n      <td>76 CONSTITUTION WAY, JERSEY CITY, N.J.  07302</td>\n      <td>78A RNE ST. Jersey City, NJ</td>\n      <td>1</td>\n      <td>1</td>\n      <td>None</td>\n    </tr>\n    <tr>\n      <th>19294</th>\n      <td>10 PAULMIER PL.</td>\n      <td>DOWLING, JAMES PATRICK &amp; TOBY K.</td>\n      <td>10 PAULMIER PL</td>\n      <td>JERSEY CITY, N J  07302</td>\n      <td>10 PAULMIER PL, JERSEY CITY, N J  07302</td>\n      <td>10 PAULMIER PL. Jersey City, NJ</td>\n      <td>1</td>\n      <td>1</td>\n      <td>None</td>\n    </tr>\n    <tr>\n      <th>19691</th>\n      <td>280 GREGORY PARK PLAZA</td>\n      <td>METROPOLIS TOWERS APT. CORP. MGT.</td>\n      <td>280 GREGORY PARK PLAZA</td>\n      <td>JERSEY CITY, NJ  07302</td>\n      <td>280 GREGORY PARK PLAZA, JERSEY CITY, NJ  07302</td>\n      <td>280 GREGORY PARK PLAZA Jersey City, NJ</td>\n      <td>2</td>\n      <td>1</td>\n      <td>None</td>\n    </tr>\n    <tr>\n      <th>19692</th>\n      <td>270 GREGORY PARK PLAZA</td>\n      <td>METROPOLIS TOWERS APT. CORP. MGT.</td>\n      <td>270 GREGORY PARK PLAZA</td>\n      <td>JERSEY CITY, NJ  07302</td>\n      <td>270 GREGORY PARK PLAZA, JERSEY CITY, NJ  07302</td>\n      <td>270 GREGORY PARK PLAZA Jersey City, NJ</td>\n      <td>2</td>\n      <td>1</td>\n      <td>None</td>\n    </tr>\n    <tr>\n      <th>32583</th>\n      <td>32 WILKINSON ST.</td>\n      <td>HARIKRISHAN, HARRY</td>\n      <td>23 TERHUNE AVE.</td>\n      <td>JERSEY CITY, NJ  07305</td>\n      <td>23 TERHUNE AVE., JERSEY CITY, NJ  07305</td>\n      <td>32 WILKINSON ST. Jersey City, NJ</td>\n      <td>1</td>\n      <td>1</td>\n      <td>None</td>\n    </tr>\n    <tr>\n      <th>38254</th>\n      <td>107 SHEARWATER CT.</td>\n      <td>SANTANIELLO III, PHILLIP &amp; CLAIRE</td>\n      <td>107 SHEARWATER CT.</td>\n      <td>JERSEY CITY, NJ  07305</td>\n      <td>107 SHEARWATER CT., JERSEY CITY, NJ  07305</td>\n      <td>107 SHEARWATER CT. Jersey City, NJ</td>\n      <td>1</td>\n      <td>1</td>\n      <td>None</td>\n    </tr>\n  </tbody>\n</table>\n</div>"
     },
     "metadata": {},
     "execution_count": 4
    }
   ],
   "source": [
    "errors_df.iloc[geocode_errors]"
   ]
  },
  {
   "cell_type": "code",
   "execution_count": 30,
   "metadata": {},
   "outputs": [
    {
     "output_type": "stream",
     "name": "stderr",
     "text": [
      "/var/folders/jn/0t9fgm4d05bdfp70phhgc1sr0000gn/T/ipykernel_1440/1358142991.py:69: FutureWarning: The default value of regex will change from True to False in a future version.\n  errors_df.propertyLocation = errors_df.propertyLocation.str.replace('78A RNE ST.', '78 THORNE ST.')\n"
     ]
    }
   ],
   "source": [
    "# errors_df.propertyLocation = errors_df.propertyLocation.str.replace('TONNELE', 'TONNELLE')\n",
    "# errors_df.propertyLocation = errors_df.propertyLocation.str.replace('MC ADOO', 'MCADOO')\n",
    "# errors_df.propertyLocation = errors_df.propertyLocation.str.replace('M.L. KING DRIVE', 'MARTIN LUTHER KING DRIVE')\n",
    "# errors_df.propertyLocation = errors_df.propertyLocation.str.replace('COLUMBUS', 'CHRISTOPHER COLUMBUS')\n",
    "# errors_df.propertyLocation = errors_df.propertyLocation.str.replace('FIRST', '1st')\n",
    "# errors_df.propertyLocation = errors_df.propertyLocation.str.replace('SECOND', '2nd')\n",
    "# errors_df.propertyLocation = errors_df.propertyLocation.str.replace('THIRD', '3rd')\n",
    "# errors_df.propertyLocation = errors_df.propertyLocation.str.replace('FOURTH', '4th')\n",
    "# errors_df.propertyLocation = errors_df.propertyLocation.str.replace('FIFTH', '5th')\n",
    "# errors_df.propertyLocation = errors_df.propertyLocation.str.replace('SIXTH', '6th')\n",
    "# errors_df.propertyLocation = errors_df.propertyLocation.str.replace('SEVENTH', '7th')\n",
    "# errors_df.propertyLocation = errors_df.propertyLocation.str.replace('EIGHTH', '8th')\n",
    "# errors_df.propertyLocation = errors_df.propertyLocation.str.replace('NINETH', '9th')\n",
    "# errors_df.propertyLocation = errors_df.propertyLocation.str.replace('TENTH', '10th')\n",
    "# errors_df.propertyLocation = errors_df.propertyLocation.str.replace('NINTH', '9th')\n",
    "# errors_df.propertyLocation = errors_df.propertyLocation.str.replace('FIFTEENTH', '15th')\n",
    "# errors_df.propertyLocation = errors_df.propertyLocation.str.replace('SIXTEENTH', '16th')\n",
    "# errors_df.propertyLocation = errors_df.propertyLocation.str.replace('MC DOUGALL', 'MCDOUGALL')\n",
    "# errors_df.propertyLocation = errors_df.propertyLocation.str.replace('CARPENTIER', 'CARPENTER')\n",
    "# errors_df.propertyLocation = errors_df.propertyLocation.str.replace('FOX HOUND', 'FOXHOUND')\n",
    "# errors_df.propertyLocation = errors_df.propertyLocation.str.replace('SIEDLER', 'SEIDLER')\n",
    "# errors_df.propertyLocation = errors_df.propertyLocation.str.replace('LIENAU', 'LINEAU')\n",
    "# errors_df.propertyLocation = errors_df.propertyLocation.str.replace('KENNEDY', 'JOHN F KENNEDY')\n",
    "# errors_df.propertyLocation = errors_df.propertyLocation.str.replace('LIBERTY ST.', 'LIBERTY AVE.')\n",
    "# errors_df.propertyLocation = errors_df.propertyLocation.str.replace('-REAR', '')\n",
    "# errors_df.propertyLocation = errors_df.propertyLocation.str.replace('(REAR)', '')\n",
    "# errors_df.propertyLocation = errors_df.propertyLocation.str.replace('-FRONT', '')\n",
    "# errors_df.propertyLocation = errors_df.propertyLocation.str.replace('HAMPTON CT.', 'HAMPTON COURT')\n",
    "# errors_df.propertyLocation = errors_df.propertyLocation.str.replace('VARCK', 'VARICK')\n",
    "# errors_df.propertyLocation = errors_df.propertyLocation.str.replace('THO', '')\n",
    "# errors_df.propertyLocation = errors_df.propertyLocation.str.replace('AVE AVE', 'AVE')\n",
    "# errors_df.propertyLocation = errors_df.propertyLocation.str.replace('TER', 'TR')\n",
    "# errors_df.propertyLocation = errors_df.propertyLocation.str.replace('3633A', '3633')\n",
    "# errors_df.propertyLocation = errors_df.propertyLocation.str.replace('3144A', '3144')\n",
    "# errors_df.propertyLocation = errors_df.propertyLocation.str.replace('SHEARWATR', 'SHEARWATER')\n",
    "# errors_df.propertyLocation = errors_df.propertyLocation.str.replace('PALUSL', \"PAUL'S\")\n",
    "# errors_df.propertyLocation = errors_df.propertyLocation.str.replace('COURT TR', \"CT\")\n",
    "# errors_df.propertyLocation = errors_df.propertyLocation.str.replace('EASTVIEW', \"E VIEW\")\n",
    "# errors_df.propertyLocation = errors_df.propertyLocation.str.replace('M.L. KING DR.', 'MARTIN LUTHER KING DR.')\n",
    "# errors_df.propertyLocation = errors_df.propertyLocation.str.replace(' 1ST FL.', '')\n",
    "# errors_df.propertyLocation = errors_df.propertyLocation.str.replace(' SO.', '')\n",
    "# errors_df.propertyLocation = errors_df.propertyLocation.str.replace(' N.', '')\n",
    "# errors_df.propertyLocation = errors_df.propertyLocation.str.replace('ODGEN', 'OGDEN')\n",
    "# errors_df.propertyLocation = errors_df.propertyLocation.str.replace('PATRSON', 'PATERSON')\n",
    "# errors_df.propertyLocation = errors_df.propertyLocation.str.replace(' 61 COLES', '')\n",
    "# errors_df.propertyLocation = errors_df.propertyLocation.str.replace('VAN HOUTEN ST.', 'VAN HOUTEN AVE.')\n",
    "# errors_df.propertyLocation = errors_df.propertyLocation.str.replace('MC PHERSON ST.', 'MCPHERSON PL.')\n",
    "# errors_df.propertyLocation = errors_df.propertyLocation.str.replace('MC PHERSON', 'MCPHERSON')\n",
    "# errors_df.propertyLocation = errors_df.propertyLocation.str.replace('FIR ROAD', 'FIR ST.')\n",
    "# errors_df.propertyLocation = errors_df.propertyLocation.str.replace('UNION AVE.', 'UNION ST.')\n",
    "# errors_df.propertyLocation = errors_df.propertyLocation.str.replace('OLD BERGEN', 'OLD BERGEN AVE.')\n",
    "# errors_df.propertyLocation = errors_df.propertyLocation.str.replace('AVE. AVE.', 'AVE.')\n",
    "# errors_df.propertyLocation = errors_df.propertyLocation.str.replace('JACKSON AVE.', 'JACKSON ST.')\n",
    "# errors_df.propertyLocation = errors_df.propertyLocation.str.replace('162 OLD BERGEN AVE. AVE.', '162 OLD BERGEN AVE.')\n",
    "# errors_df.propertyLocation = errors_df.propertyLocation.str.replace('GLEN', 'GLENN')\n",
    "# errors_df.propertyLocation = errors_df.propertyLocation.str.replace('GLENNN', 'GLENN')\n",
    "# errors_df.propertyLocation = errors_df.propertyLocation.str.replace('DR.VE', 'DRIVE')\n",
    "# errors_df.propertyLocation = errors_df.propertyLocation.str.replace('1 GLENNN LANE', '1 GLENN LANE')\n",
    "# errors_df.propertyLocation = errors_df.propertyLocation.str.replace(r'\\(\\)', '')\n",
    "# errors_df.propertyLocation = errors_df.propertyLocation.str.replace(r'-\\d{2,}(.?\\d{1}(A)?)?A?\\b', '')\n",
    "# errors_df.propertyLocation = errors_df.propertyLocation.str.replace(r'-\\d{2,}', '')\n",
    "# errors_df.propertyLocation = errors_df.propertyLocation.str.replace(r'\\s#\\d', '')\n",
    "# errors_df.propertyLocation = errors_df.propertyLocation.str.replace('BUTTRNUT', 'BUTTERNUT')\n",
    "# errors_df.propertyLocation = errors_df.propertyLocation.str.replace('CARPENTR', 'CARPENTER')\n",
    "# errors_df.propertyLocation = errors_df.propertyLocation.str.replace('100 SHEARWATER CT.', '100 EAST SHEARWATER CT.')\n",
    "# errors_df.propertyLocation = errors_df.propertyLocation.str.replace('78A RNE ST.', '78 THORNE ST.')\n",
    "\n",
    "# overwriting past mistakes\n",
    "errors_df.propertyFullAddress = errors_df.propertyLocation + ' Jersey City, NJ'"
   ]
  },
  {
   "cell_type": "code",
   "execution_count": 31,
   "metadata": {},
   "outputs": [
    {
     "output_type": "stream",
     "name": "stdout",
     "text": [
      "CPU times: user 21.6 ms, sys: 3.5 ms, total: 25.1 ms\nWall time: 2.91 s\n"
     ]
    }
   ],
   "source": [
    "%%time\n",
    "errors_df['gCode'] = errors_df.propertyFullAddress.apply(geolocator.geocode)"
   ]
  },
  {
   "cell_type": "code",
   "execution_count": 32,
   "metadata": {},
   "outputs": [],
   "source": [
    "geocode_errors = [i for i,e in enumerate(errors_df.gCode) if e == None]"
   ]
  },
  {
   "cell_type": "code",
   "execution_count": 33,
   "metadata": {},
   "outputs": [
    {
     "output_type": "execute_result",
     "data": {
      "text/plain": [
       "array(['10 PAULMIER PL.', '280 GREGORY PARK PLAZA',\n",
       "       '270 GREGORY PARK PLAZA', '32 WILKINSON ST.', '107 SHEARWATER CT.'],\n",
       "      dtype=object)"
      ]
     },
     "metadata": {},
     "execution_count": 33
    }
   ],
   "source": [
    "errors_df.iloc[geocode_errors].propertyLocation.unique()"
   ]
  },
  {
   "cell_type": "code",
   "execution_count": 34,
   "metadata": {},
   "outputs": [
    {
     "output_type": "execute_result",
     "data": {
      "text/plain": [
       "5"
      ]
     },
     "metadata": {},
     "execution_count": 34
    }
   ],
   "source": [
    "len(errors_df.iloc[geocode_errors].propertyLocation.unique())"
   ]
  },
  {
   "source": [
    "### Before we save the smaller errors data frame, we need to append the cleaned errors to the original df"
   ],
   "cell_type": "markdown",
   "metadata": {}
  },
  {
   "cell_type": "code",
   "execution_count": 35,
   "metadata": {},
   "outputs": [],
   "source": [
    "df.append(errors_df.dropna(axis=0, subset=['gCode'])).to_pickle('JC_residential.pkl')"
   ]
  },
  {
   "cell_type": "code",
   "execution_count": 36,
   "metadata": {},
   "outputs": [],
   "source": [
    "geocode_errors = [i for i,e in enumerate(errors_df.gCode) if e == None]"
   ]
  },
  {
   "cell_type": "code",
   "execution_count": 37,
   "metadata": {},
   "outputs": [
    {
     "output_type": "execute_result",
     "data": {
      "text/plain": [
       "             propertyLocation                         ownersName  \\\n",
       "19294         10 PAULMIER PL.   DOWLING, JAMES PATRICK & TOBY K.   \n",
       "19691  280 GREGORY PARK PLAZA  METROPOLIS TOWERS APT. CORP. MGT.   \n",
       "19692  270 GREGORY PARK PLAZA  METROPOLIS TOWERS APT. CORP. MGT.   \n",
       "32583        32 WILKINSON ST.                 HARIKRISHAN, HARRY   \n",
       "38254      107 SHEARWATER CT.  SANTANIELLO III, PHILLIP & CLAIRE   \n",
       "\n",
       "         ownersMailingAddress             cityStateZip  \\\n",
       "19294          10 PAULMIER PL  JERSEY CITY, N J  07302   \n",
       "19691  280 GREGORY PARK PLAZA   JERSEY CITY, NJ  07302   \n",
       "19692  270 GREGORY PARK PLAZA   JERSEY CITY, NJ  07302   \n",
       "32583         23 TERHUNE AVE.   JERSEY CITY, NJ  07305   \n",
       "38254      107 SHEARWATER CT.   JERSEY CITY, NJ  07305   \n",
       "\n",
       "                             ownersFullMailingAddress  \\\n",
       "19294         10 PAULMIER PL, JERSEY CITY, N J  07302   \n",
       "19691  280 GREGORY PARK PLAZA, JERSEY CITY, NJ  07302   \n",
       "19692  270 GREGORY PARK PLAZA, JERSEY CITY, NJ  07302   \n",
       "32583         23 TERHUNE AVE., JERSEY CITY, NJ  07305   \n",
       "38254      107 SHEARWATER CT., JERSEY CITY, NJ  07305   \n",
       "\n",
       "                          propertyFullAddress  propertiesOwned  units gCode  \n",
       "19294         10 PAULMIER PL. Jersey City, NJ                1      1  None  \n",
       "19691  280 GREGORY PARK PLAZA Jersey City, NJ                2      1  None  \n",
       "19692  270 GREGORY PARK PLAZA Jersey City, NJ                2      1  None  \n",
       "32583        32 WILKINSON ST. Jersey City, NJ                1      1  None  \n",
       "38254      107 SHEARWATER CT. Jersey City, NJ                1      1  None  "
      ],
      "text/html": "<div>\n<style scoped>\n    .dataframe tbody tr th:only-of-type {\n        vertical-align: middle;\n    }\n\n    .dataframe tbody tr th {\n        vertical-align: top;\n    }\n\n    .dataframe thead th {\n        text-align: right;\n    }\n</style>\n<table border=\"1\" class=\"dataframe\">\n  <thead>\n    <tr style=\"text-align: right;\">\n      <th></th>\n      <th>propertyLocation</th>\n      <th>ownersName</th>\n      <th>ownersMailingAddress</th>\n      <th>cityStateZip</th>\n      <th>ownersFullMailingAddress</th>\n      <th>propertyFullAddress</th>\n      <th>propertiesOwned</th>\n      <th>units</th>\n      <th>gCode</th>\n    </tr>\n  </thead>\n  <tbody>\n    <tr>\n      <th>19294</th>\n      <td>10 PAULMIER PL.</td>\n      <td>DOWLING, JAMES PATRICK &amp; TOBY K.</td>\n      <td>10 PAULMIER PL</td>\n      <td>JERSEY CITY, N J  07302</td>\n      <td>10 PAULMIER PL, JERSEY CITY, N J  07302</td>\n      <td>10 PAULMIER PL. Jersey City, NJ</td>\n      <td>1</td>\n      <td>1</td>\n      <td>None</td>\n    </tr>\n    <tr>\n      <th>19691</th>\n      <td>280 GREGORY PARK PLAZA</td>\n      <td>METROPOLIS TOWERS APT. CORP. MGT.</td>\n      <td>280 GREGORY PARK PLAZA</td>\n      <td>JERSEY CITY, NJ  07302</td>\n      <td>280 GREGORY PARK PLAZA, JERSEY CITY, NJ  07302</td>\n      <td>280 GREGORY PARK PLAZA Jersey City, NJ</td>\n      <td>2</td>\n      <td>1</td>\n      <td>None</td>\n    </tr>\n    <tr>\n      <th>19692</th>\n      <td>270 GREGORY PARK PLAZA</td>\n      <td>METROPOLIS TOWERS APT. CORP. MGT.</td>\n      <td>270 GREGORY PARK PLAZA</td>\n      <td>JERSEY CITY, NJ  07302</td>\n      <td>270 GREGORY PARK PLAZA, JERSEY CITY, NJ  07302</td>\n      <td>270 GREGORY PARK PLAZA Jersey City, NJ</td>\n      <td>2</td>\n      <td>1</td>\n      <td>None</td>\n    </tr>\n    <tr>\n      <th>32583</th>\n      <td>32 WILKINSON ST.</td>\n      <td>HARIKRISHAN, HARRY</td>\n      <td>23 TERHUNE AVE.</td>\n      <td>JERSEY CITY, NJ  07305</td>\n      <td>23 TERHUNE AVE., JERSEY CITY, NJ  07305</td>\n      <td>32 WILKINSON ST. Jersey City, NJ</td>\n      <td>1</td>\n      <td>1</td>\n      <td>None</td>\n    </tr>\n    <tr>\n      <th>38254</th>\n      <td>107 SHEARWATER CT.</td>\n      <td>SANTANIELLO III, PHILLIP &amp; CLAIRE</td>\n      <td>107 SHEARWATER CT.</td>\n      <td>JERSEY CITY, NJ  07305</td>\n      <td>107 SHEARWATER CT., JERSEY CITY, NJ  07305</td>\n      <td>107 SHEARWATER CT. Jersey City, NJ</td>\n      <td>1</td>\n      <td>1</td>\n      <td>None</td>\n    </tr>\n  </tbody>\n</table>\n</div>"
     },
     "metadata": {},
     "execution_count": 37
    }
   ],
   "source": [
    "errors_df.iloc[geocode_errors]"
   ]
  },
  {
   "cell_type": "code",
   "execution_count": 38,
   "metadata": {},
   "outputs": [],
   "source": [
    "# reassigning the errors_df to the remaining errors\n",
    "errors_df = errors_df.iloc[geocode_errors].copy()"
   ]
  },
  {
   "cell_type": "code",
   "execution_count": 39,
   "metadata": {},
   "outputs": [
    {
     "output_type": "execute_result",
     "data": {
      "text/plain": [
       "             propertyLocation                         ownersName  \\\n",
       "19294         10 PAULMIER PL.   DOWLING, JAMES PATRICK & TOBY K.   \n",
       "19691  280 GREGORY PARK PLAZA  METROPOLIS TOWERS APT. CORP. MGT.   \n",
       "19692  270 GREGORY PARK PLAZA  METROPOLIS TOWERS APT. CORP. MGT.   \n",
       "32583        32 WILKINSON ST.                 HARIKRISHAN, HARRY   \n",
       "38254      107 SHEARWATER CT.  SANTANIELLO III, PHILLIP & CLAIRE   \n",
       "\n",
       "         ownersMailingAddress             cityStateZip  \\\n",
       "19294          10 PAULMIER PL  JERSEY CITY, N J  07302   \n",
       "19691  280 GREGORY PARK PLAZA   JERSEY CITY, NJ  07302   \n",
       "19692  270 GREGORY PARK PLAZA   JERSEY CITY, NJ  07302   \n",
       "32583         23 TERHUNE AVE.   JERSEY CITY, NJ  07305   \n",
       "38254      107 SHEARWATER CT.   JERSEY CITY, NJ  07305   \n",
       "\n",
       "                             ownersFullMailingAddress  \\\n",
       "19294         10 PAULMIER PL, JERSEY CITY, N J  07302   \n",
       "19691  280 GREGORY PARK PLAZA, JERSEY CITY, NJ  07302   \n",
       "19692  270 GREGORY PARK PLAZA, JERSEY CITY, NJ  07302   \n",
       "32583         23 TERHUNE AVE., JERSEY CITY, NJ  07305   \n",
       "38254      107 SHEARWATER CT., JERSEY CITY, NJ  07305   \n",
       "\n",
       "                          propertyFullAddress  propertiesOwned  units gCode  \n",
       "19294         10 PAULMIER PL. Jersey City, NJ                1      1  None  \n",
       "19691  280 GREGORY PARK PLAZA Jersey City, NJ                2      1  None  \n",
       "19692  270 GREGORY PARK PLAZA Jersey City, NJ                2      1  None  \n",
       "32583        32 WILKINSON ST. Jersey City, NJ                1      1  None  \n",
       "38254      107 SHEARWATER CT. Jersey City, NJ                1      1  None  "
      ],
      "text/html": "<div>\n<style scoped>\n    .dataframe tbody tr th:only-of-type {\n        vertical-align: middle;\n    }\n\n    .dataframe tbody tr th {\n        vertical-align: top;\n    }\n\n    .dataframe thead th {\n        text-align: right;\n    }\n</style>\n<table border=\"1\" class=\"dataframe\">\n  <thead>\n    <tr style=\"text-align: right;\">\n      <th></th>\n      <th>propertyLocation</th>\n      <th>ownersName</th>\n      <th>ownersMailingAddress</th>\n      <th>cityStateZip</th>\n      <th>ownersFullMailingAddress</th>\n      <th>propertyFullAddress</th>\n      <th>propertiesOwned</th>\n      <th>units</th>\n      <th>gCode</th>\n    </tr>\n  </thead>\n  <tbody>\n    <tr>\n      <th>19294</th>\n      <td>10 PAULMIER PL.</td>\n      <td>DOWLING, JAMES PATRICK &amp; TOBY K.</td>\n      <td>10 PAULMIER PL</td>\n      <td>JERSEY CITY, N J  07302</td>\n      <td>10 PAULMIER PL, JERSEY CITY, N J  07302</td>\n      <td>10 PAULMIER PL. Jersey City, NJ</td>\n      <td>1</td>\n      <td>1</td>\n      <td>None</td>\n    </tr>\n    <tr>\n      <th>19691</th>\n      <td>280 GREGORY PARK PLAZA</td>\n      <td>METROPOLIS TOWERS APT. CORP. MGT.</td>\n      <td>280 GREGORY PARK PLAZA</td>\n      <td>JERSEY CITY, NJ  07302</td>\n      <td>280 GREGORY PARK PLAZA, JERSEY CITY, NJ  07302</td>\n      <td>280 GREGORY PARK PLAZA Jersey City, NJ</td>\n      <td>2</td>\n      <td>1</td>\n      <td>None</td>\n    </tr>\n    <tr>\n      <th>19692</th>\n      <td>270 GREGORY PARK PLAZA</td>\n      <td>METROPOLIS TOWERS APT. CORP. MGT.</td>\n      <td>270 GREGORY PARK PLAZA</td>\n      <td>JERSEY CITY, NJ  07302</td>\n      <td>270 GREGORY PARK PLAZA, JERSEY CITY, NJ  07302</td>\n      <td>270 GREGORY PARK PLAZA Jersey City, NJ</td>\n      <td>2</td>\n      <td>1</td>\n      <td>None</td>\n    </tr>\n    <tr>\n      <th>32583</th>\n      <td>32 WILKINSON ST.</td>\n      <td>HARIKRISHAN, HARRY</td>\n      <td>23 TERHUNE AVE.</td>\n      <td>JERSEY CITY, NJ  07305</td>\n      <td>23 TERHUNE AVE., JERSEY CITY, NJ  07305</td>\n      <td>32 WILKINSON ST. Jersey City, NJ</td>\n      <td>1</td>\n      <td>1</td>\n      <td>None</td>\n    </tr>\n    <tr>\n      <th>38254</th>\n      <td>107 SHEARWATER CT.</td>\n      <td>SANTANIELLO III, PHILLIP &amp; CLAIRE</td>\n      <td>107 SHEARWATER CT.</td>\n      <td>JERSEY CITY, NJ  07305</td>\n      <td>107 SHEARWATER CT., JERSEY CITY, NJ  07305</td>\n      <td>107 SHEARWATER CT. Jersey City, NJ</td>\n      <td>1</td>\n      <td>1</td>\n      <td>None</td>\n    </tr>\n  </tbody>\n</table>\n</div>"
     },
     "metadata": {},
     "execution_count": 39
    }
   ],
   "source": [
    "errors_df"
   ]
  },
  {
   "cell_type": "code",
   "execution_count": 40,
   "metadata": {},
   "outputs": [],
   "source": [
    "errors_df.to_pickle('errors_df.pkl')"
   ]
  },
  {
   "cell_type": "code",
   "execution_count": 41,
   "metadata": {},
   "outputs": [
    {
     "output_type": "execute_result",
     "data": {
      "text/plain": [
       "              propertyLocation                          ownersName  \\\n",
       "0             677 LIBERTY AVE.                      PEDDI, PRADEEP   \n",
       "1             675 LIBERTY AVE.        PAREJA, HENRY A. & MIRYAM C.   \n",
       "2             673 LIBERTY AVE.                     HIRPARA, PRAVIN   \n",
       "3             671 LIBERTY AVE.                        SINGH, HONEY   \n",
       "4             669 LIBERTY AVE.           MARTIN, BENIGNO & CARIDAD   \n",
       "...                        ...                                 ...   \n",
       "38273  100 EAST SHEARWATER CT.           BALANLAYOS, JESUS & MYRNA   \n",
       "38276  100 EAST SHEARWATER CT.  DANGCIL, PROCERFINA & WILLIAM A JR   \n",
       "38278  100 EAST SHEARWATER CT.                  LAWSONS REALTY,LLC   \n",
       "38279  100 EAST SHEARWATER CT.                    NATHAN, NAVIN D.   \n",
       "38280  100 EAST SHEARWATER CT.               HORAN, CHRISTOPHER L.   \n",
       "\n",
       "          ownersMailingAddress                cityStateZip  \\\n",
       "0             677 LIBERTY AVE.    JERSEY CITY, N.J.  07307   \n",
       "1             675 LIBERTY AVE.    JERSEY CITY, N.J.  07307   \n",
       "2             673 LIBERTY AVE.      JERSEY CITY, NJ  07307   \n",
       "3             671 LIBERTY AVE.      JERSEY CITY, NJ  07307   \n",
       "4             669 LIBERTY AVE.    JERSEY CITY, N.J.  07307   \n",
       "...                        ...                         ...   \n",
       "38273           31 HARMONY WAY          SEWAREN, NJ  07077   \n",
       "38276  100-51 E SHEARWATER CT.      JERSEY CITY, NJ  07305   \n",
       "38278        130 SHORE RD #198  PORT WASHINGTON, NY  11050   \n",
       "38279    100-54 SHEARWATER CT.      JERSEY CITY, NJ  07305   \n",
       "38280    100-55 SHEARWATER CT.    JERSEY CITY, N.J.  07305   \n",
       "\n",
       "                              ownersFullMailingAddress  \\\n",
       "0           677 LIBERTY AVE., JERSEY CITY, N.J.  07307   \n",
       "1           675 LIBERTY AVE., JERSEY CITY, N.J.  07307   \n",
       "2             673 LIBERTY AVE., JERSEY CITY, NJ  07307   \n",
       "3             671 LIBERTY AVE., JERSEY CITY, NJ  07307   \n",
       "4           669 LIBERTY AVE., JERSEY CITY, N.J.  07307   \n",
       "...                                                ...   \n",
       "38273               31 HARMONY WAY, SEWAREN, NJ  07077   \n",
       "38276  100-51 E SHEARWATER CT., JERSEY CITY, NJ  07305   \n",
       "38278    130 SHORE RD #198, PORT WASHINGTON, NY  11050   \n",
       "38279    100-54 SHEARWATER CT., JERSEY CITY, NJ  07305   \n",
       "38280  100-55 SHEARWATER CT., JERSEY CITY, N.J.  07305   \n",
       "\n",
       "                           propertyFullAddress  propertiesOwned  units  \\\n",
       "0             677 LIBERTY AVE. Jersey City, NJ                1      1   \n",
       "1             675 LIBERTY AVE. Jersey City, NJ                1      1   \n",
       "2             673 LIBERTY AVE. Jersey City, NJ                1      1   \n",
       "3             671 LIBERTY AVE. Jersey City, NJ                1      1   \n",
       "4             669 LIBERTY AVE. Jersey City, NJ                1      1   \n",
       "...                                        ...              ...    ...   \n",
       "38273  100 EAST SHEARWATER CT. Jersey City, NJ                1      1   \n",
       "38276  100 EAST SHEARWATER CT. Jersey City, NJ                1      1   \n",
       "38278  100 EAST SHEARWATER CT. Jersey City, NJ                1      1   \n",
       "38279  100 EAST SHEARWATER CT. Jersey City, NJ                1      1   \n",
       "38280  100 EAST SHEARWATER CT. Jersey City, NJ                1      1   \n",
       "\n",
       "                                                   gCode   latitude  longitude  \n",
       "0      (677, Liberty Avenue, Jersey City, Hudson Coun...  40.759744 -74.050457  \n",
       "1      (675, Liberty Avenue, Jersey City, Hudson Coun...  40.759679 -74.050499  \n",
       "2      (673, Liberty Avenue, Jersey City, Hudson Coun...  40.759614 -74.050542  \n",
       "3      (671, Liberty Avenue, Jersey City, Hudson Coun...  40.759549 -74.050584  \n",
       "4      (669, Liberty Avenue, Jersey City, Hudson Coun...  40.759484 -74.050626  \n",
       "...                                                  ...        ...        ...  \n",
       "38273  (100, East Shearwater Court, Jersey City, Huds...  40.686674 -74.071935  \n",
       "38276  (100, East Shearwater Court, Jersey City, Huds...  40.686674 -74.071935  \n",
       "38278  (100, East Shearwater Court, Jersey City, Huds...  40.686674 -74.071935  \n",
       "38279  (100, East Shearwater Court, Jersey City, Huds...  40.686674 -74.071935  \n",
       "38280  (100, East Shearwater Court, Jersey City, Huds...  40.686674 -74.071935  \n",
       "\n",
       "[42030 rows x 11 columns]"
      ],
      "text/html": "<div>\n<style scoped>\n    .dataframe tbody tr th:only-of-type {\n        vertical-align: middle;\n    }\n\n    .dataframe tbody tr th {\n        vertical-align: top;\n    }\n\n    .dataframe thead th {\n        text-align: right;\n    }\n</style>\n<table border=\"1\" class=\"dataframe\">\n  <thead>\n    <tr style=\"text-align: right;\">\n      <th></th>\n      <th>propertyLocation</th>\n      <th>ownersName</th>\n      <th>ownersMailingAddress</th>\n      <th>cityStateZip</th>\n      <th>ownersFullMailingAddress</th>\n      <th>propertyFullAddress</th>\n      <th>propertiesOwned</th>\n      <th>units</th>\n      <th>gCode</th>\n      <th>latitude</th>\n      <th>longitude</th>\n    </tr>\n  </thead>\n  <tbody>\n    <tr>\n      <th>0</th>\n      <td>677 LIBERTY AVE.</td>\n      <td>PEDDI, PRADEEP</td>\n      <td>677 LIBERTY AVE.</td>\n      <td>JERSEY CITY, N.J.  07307</td>\n      <td>677 LIBERTY AVE., JERSEY CITY, N.J.  07307</td>\n      <td>677 LIBERTY AVE. Jersey City, NJ</td>\n      <td>1</td>\n      <td>1</td>\n      <td>(677, Liberty Avenue, Jersey City, Hudson Coun...</td>\n      <td>40.759744</td>\n      <td>-74.050457</td>\n    </tr>\n    <tr>\n      <th>1</th>\n      <td>675 LIBERTY AVE.</td>\n      <td>PAREJA, HENRY A. &amp; MIRYAM C.</td>\n      <td>675 LIBERTY AVE.</td>\n      <td>JERSEY CITY, N.J.  07307</td>\n      <td>675 LIBERTY AVE., JERSEY CITY, N.J.  07307</td>\n      <td>675 LIBERTY AVE. Jersey City, NJ</td>\n      <td>1</td>\n      <td>1</td>\n      <td>(675, Liberty Avenue, Jersey City, Hudson Coun...</td>\n      <td>40.759679</td>\n      <td>-74.050499</td>\n    </tr>\n    <tr>\n      <th>2</th>\n      <td>673 LIBERTY AVE.</td>\n      <td>HIRPARA, PRAVIN</td>\n      <td>673 LIBERTY AVE.</td>\n      <td>JERSEY CITY, NJ  07307</td>\n      <td>673 LIBERTY AVE., JERSEY CITY, NJ  07307</td>\n      <td>673 LIBERTY AVE. Jersey City, NJ</td>\n      <td>1</td>\n      <td>1</td>\n      <td>(673, Liberty Avenue, Jersey City, Hudson Coun...</td>\n      <td>40.759614</td>\n      <td>-74.050542</td>\n    </tr>\n    <tr>\n      <th>3</th>\n      <td>671 LIBERTY AVE.</td>\n      <td>SINGH, HONEY</td>\n      <td>671 LIBERTY AVE.</td>\n      <td>JERSEY CITY, NJ  07307</td>\n      <td>671 LIBERTY AVE., JERSEY CITY, NJ  07307</td>\n      <td>671 LIBERTY AVE. Jersey City, NJ</td>\n      <td>1</td>\n      <td>1</td>\n      <td>(671, Liberty Avenue, Jersey City, Hudson Coun...</td>\n      <td>40.759549</td>\n      <td>-74.050584</td>\n    </tr>\n    <tr>\n      <th>4</th>\n      <td>669 LIBERTY AVE.</td>\n      <td>MARTIN, BENIGNO &amp; CARIDAD</td>\n      <td>669 LIBERTY AVE.</td>\n      <td>JERSEY CITY, N.J.  07307</td>\n      <td>669 LIBERTY AVE., JERSEY CITY, N.J.  07307</td>\n      <td>669 LIBERTY AVE. Jersey City, NJ</td>\n      <td>1</td>\n      <td>1</td>\n      <td>(669, Liberty Avenue, Jersey City, Hudson Coun...</td>\n      <td>40.759484</td>\n      <td>-74.050626</td>\n    </tr>\n    <tr>\n      <th>...</th>\n      <td>...</td>\n      <td>...</td>\n      <td>...</td>\n      <td>...</td>\n      <td>...</td>\n      <td>...</td>\n      <td>...</td>\n      <td>...</td>\n      <td>...</td>\n      <td>...</td>\n      <td>...</td>\n    </tr>\n    <tr>\n      <th>38273</th>\n      <td>100 EAST SHEARWATER CT.</td>\n      <td>BALANLAYOS, JESUS &amp; MYRNA</td>\n      <td>31 HARMONY WAY</td>\n      <td>SEWAREN, NJ  07077</td>\n      <td>31 HARMONY WAY, SEWAREN, NJ  07077</td>\n      <td>100 EAST SHEARWATER CT. Jersey City, NJ</td>\n      <td>1</td>\n      <td>1</td>\n      <td>(100, East Shearwater Court, Jersey City, Huds...</td>\n      <td>40.686674</td>\n      <td>-74.071935</td>\n    </tr>\n    <tr>\n      <th>38276</th>\n      <td>100 EAST SHEARWATER CT.</td>\n      <td>DANGCIL, PROCERFINA &amp; WILLIAM A JR</td>\n      <td>100-51 E SHEARWATER CT.</td>\n      <td>JERSEY CITY, NJ  07305</td>\n      <td>100-51 E SHEARWATER CT., JERSEY CITY, NJ  07305</td>\n      <td>100 EAST SHEARWATER CT. Jersey City, NJ</td>\n      <td>1</td>\n      <td>1</td>\n      <td>(100, East Shearwater Court, Jersey City, Huds...</td>\n      <td>40.686674</td>\n      <td>-74.071935</td>\n    </tr>\n    <tr>\n      <th>38278</th>\n      <td>100 EAST SHEARWATER CT.</td>\n      <td>LAWSONS REALTY,LLC</td>\n      <td>130 SHORE RD #198</td>\n      <td>PORT WASHINGTON, NY  11050</td>\n      <td>130 SHORE RD #198, PORT WASHINGTON, NY  11050</td>\n      <td>100 EAST SHEARWATER CT. Jersey City, NJ</td>\n      <td>1</td>\n      <td>1</td>\n      <td>(100, East Shearwater Court, Jersey City, Huds...</td>\n      <td>40.686674</td>\n      <td>-74.071935</td>\n    </tr>\n    <tr>\n      <th>38279</th>\n      <td>100 EAST SHEARWATER CT.</td>\n      <td>NATHAN, NAVIN D.</td>\n      <td>100-54 SHEARWATER CT.</td>\n      <td>JERSEY CITY, NJ  07305</td>\n      <td>100-54 SHEARWATER CT., JERSEY CITY, NJ  07305</td>\n      <td>100 EAST SHEARWATER CT. Jersey City, NJ</td>\n      <td>1</td>\n      <td>1</td>\n      <td>(100, East Shearwater Court, Jersey City, Huds...</td>\n      <td>40.686674</td>\n      <td>-74.071935</td>\n    </tr>\n    <tr>\n      <th>38280</th>\n      <td>100 EAST SHEARWATER CT.</td>\n      <td>HORAN, CHRISTOPHER L.</td>\n      <td>100-55 SHEARWATER CT.</td>\n      <td>JERSEY CITY, N.J.  07305</td>\n      <td>100-55 SHEARWATER CT., JERSEY CITY, N.J.  07305</td>\n      <td>100 EAST SHEARWATER CT. Jersey City, NJ</td>\n      <td>1</td>\n      <td>1</td>\n      <td>(100, East Shearwater Court, Jersey City, Huds...</td>\n      <td>40.686674</td>\n      <td>-74.071935</td>\n    </tr>\n  </tbody>\n</table>\n<p>42030 rows × 11 columns</p>\n</div>"
     },
     "metadata": {},
     "execution_count": 41
    }
   ],
   "source": [
    "df"
   ]
  },
  {
   "cell_type": "code",
   "execution_count": 42,
   "metadata": {},
   "outputs": [],
   "source": [
    "df['latitude'] = [g.latitude for g in df.gCode]\n",
    "df['longitude'] = [g.longitude for g in df.gCode]"
   ]
  },
  {
   "cell_type": "code",
   "execution_count": 43,
   "metadata": {},
   "outputs": [],
   "source": [
    "df.append(errors_df.dropna(axis=0, subset=['gCode'])).to_pickle('JC_residential.pkl')"
   ]
  },
  {
   "cell_type": "code",
   "execution_count": 44,
   "metadata": {},
   "outputs": [
    {
     "output_type": "execute_result",
     "data": {
      "text/plain": [
       "              propertyLocation                          ownersName  \\\n",
       "0             677 LIBERTY AVE.                      PEDDI, PRADEEP   \n",
       "1             675 LIBERTY AVE.        PAREJA, HENRY A. & MIRYAM C.   \n",
       "2             673 LIBERTY AVE.                     HIRPARA, PRAVIN   \n",
       "3             671 LIBERTY AVE.                        SINGH, HONEY   \n",
       "4             669 LIBERTY AVE.           MARTIN, BENIGNO & CARIDAD   \n",
       "...                        ...                                 ...   \n",
       "38273  100 EAST SHEARWATER CT.           BALANLAYOS, JESUS & MYRNA   \n",
       "38276  100 EAST SHEARWATER CT.  DANGCIL, PROCERFINA & WILLIAM A JR   \n",
       "38278  100 EAST SHEARWATER CT.                  LAWSONS REALTY,LLC   \n",
       "38279  100 EAST SHEARWATER CT.                    NATHAN, NAVIN D.   \n",
       "38280  100 EAST SHEARWATER CT.               HORAN, CHRISTOPHER L.   \n",
       "\n",
       "          ownersMailingAddress                cityStateZip  \\\n",
       "0             677 LIBERTY AVE.    JERSEY CITY, N.J.  07307   \n",
       "1             675 LIBERTY AVE.    JERSEY CITY, N.J.  07307   \n",
       "2             673 LIBERTY AVE.      JERSEY CITY, NJ  07307   \n",
       "3             671 LIBERTY AVE.      JERSEY CITY, NJ  07307   \n",
       "4             669 LIBERTY AVE.    JERSEY CITY, N.J.  07307   \n",
       "...                        ...                         ...   \n",
       "38273           31 HARMONY WAY          SEWAREN, NJ  07077   \n",
       "38276  100-51 E SHEARWATER CT.      JERSEY CITY, NJ  07305   \n",
       "38278        130 SHORE RD #198  PORT WASHINGTON, NY  11050   \n",
       "38279    100-54 SHEARWATER CT.      JERSEY CITY, NJ  07305   \n",
       "38280    100-55 SHEARWATER CT.    JERSEY CITY, N.J.  07305   \n",
       "\n",
       "                              ownersFullMailingAddress  \\\n",
       "0           677 LIBERTY AVE., JERSEY CITY, N.J.  07307   \n",
       "1           675 LIBERTY AVE., JERSEY CITY, N.J.  07307   \n",
       "2             673 LIBERTY AVE., JERSEY CITY, NJ  07307   \n",
       "3             671 LIBERTY AVE., JERSEY CITY, NJ  07307   \n",
       "4           669 LIBERTY AVE., JERSEY CITY, N.J.  07307   \n",
       "...                                                ...   \n",
       "38273               31 HARMONY WAY, SEWAREN, NJ  07077   \n",
       "38276  100-51 E SHEARWATER CT., JERSEY CITY, NJ  07305   \n",
       "38278    130 SHORE RD #198, PORT WASHINGTON, NY  11050   \n",
       "38279    100-54 SHEARWATER CT., JERSEY CITY, NJ  07305   \n",
       "38280  100-55 SHEARWATER CT., JERSEY CITY, N.J.  07305   \n",
       "\n",
       "                           propertyFullAddress  propertiesOwned  units  \\\n",
       "0             677 LIBERTY AVE. Jersey City, NJ                1      1   \n",
       "1             675 LIBERTY AVE. Jersey City, NJ                1      1   \n",
       "2             673 LIBERTY AVE. Jersey City, NJ                1      1   \n",
       "3             671 LIBERTY AVE. Jersey City, NJ                1      1   \n",
       "4             669 LIBERTY AVE. Jersey City, NJ                1      1   \n",
       "...                                        ...              ...    ...   \n",
       "38273  100 EAST SHEARWATER CT. Jersey City, NJ                1      1   \n",
       "38276  100 EAST SHEARWATER CT. Jersey City, NJ                1      1   \n",
       "38278  100 EAST SHEARWATER CT. Jersey City, NJ                1      1   \n",
       "38279  100 EAST SHEARWATER CT. Jersey City, NJ                1      1   \n",
       "38280  100 EAST SHEARWATER CT. Jersey City, NJ                1      1   \n",
       "\n",
       "                                                   gCode   latitude  longitude  \n",
       "0      (677, Liberty Avenue, Jersey City, Hudson Coun...  40.759744 -74.050457  \n",
       "1      (675, Liberty Avenue, Jersey City, Hudson Coun...  40.759679 -74.050499  \n",
       "2      (673, Liberty Avenue, Jersey City, Hudson Coun...  40.759614 -74.050542  \n",
       "3      (671, Liberty Avenue, Jersey City, Hudson Coun...  40.759549 -74.050584  \n",
       "4      (669, Liberty Avenue, Jersey City, Hudson Coun...  40.759484 -74.050626  \n",
       "...                                                  ...        ...        ...  \n",
       "38273  (100, East Shearwater Court, Jersey City, Huds...  40.686674 -74.071935  \n",
       "38276  (100, East Shearwater Court, Jersey City, Huds...  40.686674 -74.071935  \n",
       "38278  (100, East Shearwater Court, Jersey City, Huds...  40.686674 -74.071935  \n",
       "38279  (100, East Shearwater Court, Jersey City, Huds...  40.686674 -74.071935  \n",
       "38280  (100, East Shearwater Court, Jersey City, Huds...  40.686674 -74.071935  \n",
       "\n",
       "[42030 rows x 11 columns]"
      ],
      "text/html": "<div>\n<style scoped>\n    .dataframe tbody tr th:only-of-type {\n        vertical-align: middle;\n    }\n\n    .dataframe tbody tr th {\n        vertical-align: top;\n    }\n\n    .dataframe thead th {\n        text-align: right;\n    }\n</style>\n<table border=\"1\" class=\"dataframe\">\n  <thead>\n    <tr style=\"text-align: right;\">\n      <th></th>\n      <th>propertyLocation</th>\n      <th>ownersName</th>\n      <th>ownersMailingAddress</th>\n      <th>cityStateZip</th>\n      <th>ownersFullMailingAddress</th>\n      <th>propertyFullAddress</th>\n      <th>propertiesOwned</th>\n      <th>units</th>\n      <th>gCode</th>\n      <th>latitude</th>\n      <th>longitude</th>\n    </tr>\n  </thead>\n  <tbody>\n    <tr>\n      <th>0</th>\n      <td>677 LIBERTY AVE.</td>\n      <td>PEDDI, PRADEEP</td>\n      <td>677 LIBERTY AVE.</td>\n      <td>JERSEY CITY, N.J.  07307</td>\n      <td>677 LIBERTY AVE., JERSEY CITY, N.J.  07307</td>\n      <td>677 LIBERTY AVE. Jersey City, NJ</td>\n      <td>1</td>\n      <td>1</td>\n      <td>(677, Liberty Avenue, Jersey City, Hudson Coun...</td>\n      <td>40.759744</td>\n      <td>-74.050457</td>\n    </tr>\n    <tr>\n      <th>1</th>\n      <td>675 LIBERTY AVE.</td>\n      <td>PAREJA, HENRY A. &amp; MIRYAM C.</td>\n      <td>675 LIBERTY AVE.</td>\n      <td>JERSEY CITY, N.J.  07307</td>\n      <td>675 LIBERTY AVE., JERSEY CITY, N.J.  07307</td>\n      <td>675 LIBERTY AVE. Jersey City, NJ</td>\n      <td>1</td>\n      <td>1</td>\n      <td>(675, Liberty Avenue, Jersey City, Hudson Coun...</td>\n      <td>40.759679</td>\n      <td>-74.050499</td>\n    </tr>\n    <tr>\n      <th>2</th>\n      <td>673 LIBERTY AVE.</td>\n      <td>HIRPARA, PRAVIN</td>\n      <td>673 LIBERTY AVE.</td>\n      <td>JERSEY CITY, NJ  07307</td>\n      <td>673 LIBERTY AVE., JERSEY CITY, NJ  07307</td>\n      <td>673 LIBERTY AVE. Jersey City, NJ</td>\n      <td>1</td>\n      <td>1</td>\n      <td>(673, Liberty Avenue, Jersey City, Hudson Coun...</td>\n      <td>40.759614</td>\n      <td>-74.050542</td>\n    </tr>\n    <tr>\n      <th>3</th>\n      <td>671 LIBERTY AVE.</td>\n      <td>SINGH, HONEY</td>\n      <td>671 LIBERTY AVE.</td>\n      <td>JERSEY CITY, NJ  07307</td>\n      <td>671 LIBERTY AVE., JERSEY CITY, NJ  07307</td>\n      <td>671 LIBERTY AVE. Jersey City, NJ</td>\n      <td>1</td>\n      <td>1</td>\n      <td>(671, Liberty Avenue, Jersey City, Hudson Coun...</td>\n      <td>40.759549</td>\n      <td>-74.050584</td>\n    </tr>\n    <tr>\n      <th>4</th>\n      <td>669 LIBERTY AVE.</td>\n      <td>MARTIN, BENIGNO &amp; CARIDAD</td>\n      <td>669 LIBERTY AVE.</td>\n      <td>JERSEY CITY, N.J.  07307</td>\n      <td>669 LIBERTY AVE., JERSEY CITY, N.J.  07307</td>\n      <td>669 LIBERTY AVE. Jersey City, NJ</td>\n      <td>1</td>\n      <td>1</td>\n      <td>(669, Liberty Avenue, Jersey City, Hudson Coun...</td>\n      <td>40.759484</td>\n      <td>-74.050626</td>\n    </tr>\n    <tr>\n      <th>...</th>\n      <td>...</td>\n      <td>...</td>\n      <td>...</td>\n      <td>...</td>\n      <td>...</td>\n      <td>...</td>\n      <td>...</td>\n      <td>...</td>\n      <td>...</td>\n      <td>...</td>\n      <td>...</td>\n    </tr>\n    <tr>\n      <th>38273</th>\n      <td>100 EAST SHEARWATER CT.</td>\n      <td>BALANLAYOS, JESUS &amp; MYRNA</td>\n      <td>31 HARMONY WAY</td>\n      <td>SEWAREN, NJ  07077</td>\n      <td>31 HARMONY WAY, SEWAREN, NJ  07077</td>\n      <td>100 EAST SHEARWATER CT. Jersey City, NJ</td>\n      <td>1</td>\n      <td>1</td>\n      <td>(100, East Shearwater Court, Jersey City, Huds...</td>\n      <td>40.686674</td>\n      <td>-74.071935</td>\n    </tr>\n    <tr>\n      <th>38276</th>\n      <td>100 EAST SHEARWATER CT.</td>\n      <td>DANGCIL, PROCERFINA &amp; WILLIAM A JR</td>\n      <td>100-51 E SHEARWATER CT.</td>\n      <td>JERSEY CITY, NJ  07305</td>\n      <td>100-51 E SHEARWATER CT., JERSEY CITY, NJ  07305</td>\n      <td>100 EAST SHEARWATER CT. Jersey City, NJ</td>\n      <td>1</td>\n      <td>1</td>\n      <td>(100, East Shearwater Court, Jersey City, Huds...</td>\n      <td>40.686674</td>\n      <td>-74.071935</td>\n    </tr>\n    <tr>\n      <th>38278</th>\n      <td>100 EAST SHEARWATER CT.</td>\n      <td>LAWSONS REALTY,LLC</td>\n      <td>130 SHORE RD #198</td>\n      <td>PORT WASHINGTON, NY  11050</td>\n      <td>130 SHORE RD #198, PORT WASHINGTON, NY  11050</td>\n      <td>100 EAST SHEARWATER CT. Jersey City, NJ</td>\n      <td>1</td>\n      <td>1</td>\n      <td>(100, East Shearwater Court, Jersey City, Huds...</td>\n      <td>40.686674</td>\n      <td>-74.071935</td>\n    </tr>\n    <tr>\n      <th>38279</th>\n      <td>100 EAST SHEARWATER CT.</td>\n      <td>NATHAN, NAVIN D.</td>\n      <td>100-54 SHEARWATER CT.</td>\n      <td>JERSEY CITY, NJ  07305</td>\n      <td>100-54 SHEARWATER CT., JERSEY CITY, NJ  07305</td>\n      <td>100 EAST SHEARWATER CT. Jersey City, NJ</td>\n      <td>1</td>\n      <td>1</td>\n      <td>(100, East Shearwater Court, Jersey City, Huds...</td>\n      <td>40.686674</td>\n      <td>-74.071935</td>\n    </tr>\n    <tr>\n      <th>38280</th>\n      <td>100 EAST SHEARWATER CT.</td>\n      <td>HORAN, CHRISTOPHER L.</td>\n      <td>100-55 SHEARWATER CT.</td>\n      <td>JERSEY CITY, N.J.  07305</td>\n      <td>100-55 SHEARWATER CT., JERSEY CITY, N.J.  07305</td>\n      <td>100 EAST SHEARWATER CT. Jersey City, NJ</td>\n      <td>1</td>\n      <td>1</td>\n      <td>(100, East Shearwater Court, Jersey City, Huds...</td>\n      <td>40.686674</td>\n      <td>-74.071935</td>\n    </tr>\n  </tbody>\n</table>\n<p>42030 rows × 11 columns</p>\n</div>"
     },
     "metadata": {},
     "execution_count": 44
    }
   ],
   "source": [
    "df"
   ]
  },
  {
   "cell_type": "code",
   "execution_count": 19,
   "metadata": {},
   "outputs": [],
   "source": [
    "df.to_csv('JC_residential.csv')"
   ]
  },
  {
   "cell_type": "code",
   "execution_count": 60,
   "metadata": {},
   "outputs": [
    {
     "output_type": "execute_result",
     "data": {
      "text/plain": [
       "      propertyLocation                           ownersName  \\\n",
       "11035   10 BERKLEY PL.         PATEL INDO PAK GROCERY, INC.   \n",
       "11036   12 BERKLEY PL.         PATEL INDO PAK GROCERY, INC.   \n",
       "11150   19 BERKLEY PL.              DREWA, WIKTOR & DANIELA   \n",
       "11151   17 BERKLEY PL.                       DREWA, DANIELA   \n",
       "11152   15 BERKLEY PL.     KULKARNI, JITENDRA M. & DEEPA J.   \n",
       "...                ...                                  ...   \n",
       "40921    6 HAMPTON CT.  ST KILDA, LLC. C/O US PROPERTY FUND   \n",
       "40922    5 HAMPTON CT.                      MELBOURNE, LLC.   \n",
       "40923    4 HAMPTON CT.                      DAVISON , JOYCE   \n",
       "40924    3 HAMPTON CT.    BUCK,ZACHARY C. & DIANA Y.PERALES   \n",
       "40925    2 HAMPTON CT.                     NJ PENELOPE LLC.   \n",
       "\n",
       "           ownersMailingAddress               cityStateZip  \\\n",
       "11035        52 ROBIN HOOD ROAD         CLIFTON, NJ  07013   \n",
       "11036          52 ROBINHOOD RD.         CLIFTON, NJ  07013   \n",
       "11150            17 BERKLEY PL.   JERSEY CITY, N.J.  07306   \n",
       "11151            17 BERKLEY PL.   JERSEY CITY, N.J.  07306   \n",
       "11152            27 FOREST ROAD  NEW PROVIDENCE, NJ  07974   \n",
       "...                         ...                        ...   \n",
       "40921  200 HUDSON ST., STE 1000     JERSEY CITY, NJ  07311   \n",
       "40922    140 BROADWAY, 28TH FL.        NEW YORK, NY  10005   \n",
       "40923       4 HAMPTON CT. TERR.   JERSEY CITY, N.J.  07302   \n",
       "40924          30 S. KINGMAN RD   SOUTH ORANGE,  NJ  07079   \n",
       "40925    140 BROADWAY,#28TH FL.        NEW YORK, NY  10005   \n",
       "\n",
       "                               ownersFullMailingAddress  \\\n",
       "11035            52 ROBIN HOOD ROAD, CLIFTON, NJ  07013   \n",
       "11036              52 ROBINHOOD RD., CLIFTON, NJ  07013   \n",
       "11150          17 BERKLEY PL., JERSEY CITY, N.J.  07306   \n",
       "11151          17 BERKLEY PL., JERSEY CITY, N.J.  07306   \n",
       "11152         27 FOREST ROAD, NEW PROVIDENCE, NJ  07974   \n",
       "...                                                 ...   \n",
       "40921  200 HUDSON ST., STE 1000, JERSEY CITY, NJ  07311   \n",
       "40922       140 BROADWAY, 28TH FL., NEW YORK, NY  10005   \n",
       "40923     4 HAMPTON CT. TERR., JERSEY CITY, N.J.  07302   \n",
       "40924        30 S. KINGMAN RD, SOUTH ORANGE,  NJ  07079   \n",
       "40925       140 BROADWAY,#28TH FL., NEW YORK, NY  10005   \n",
       "\n",
       "                 propertyFullAddress  numberPropertiesOwned  units  \\\n",
       "11035  10 BERKLEY PL. Jersey City NJ                      2      1   \n",
       "11036  12 BERKLEY PL. Jersey City NJ                      2      1   \n",
       "11150  19 BERKLEY PL. Jersey City NJ                      1      1   \n",
       "11151  17 BERKLEY PL. Jersey City NJ                      1      1   \n",
       "11152  15 BERKLEY PL. Jersey City NJ                      1      1   \n",
       "...                              ...                    ...    ...   \n",
       "40921   6 HAMPTON CT. Jersey City NJ                      2      1   \n",
       "40922   5 HAMPTON CT. Jersey City NJ                     18      1   \n",
       "40923   4 HAMPTON CT. Jersey City NJ                      1      1   \n",
       "40924   3 HAMPTON CT. Jersey City NJ                      1      1   \n",
       "40925   2 HAMPTON CT. Jersey City NJ                     24      1   \n",
       "\n",
       "                                                   gCode        Lat  \\\n",
       "11035  10, Berkley Place, Dumont, Bergen County, New ...  40.949309   \n",
       "11036  12, Berkley Place, Dumont, Bergen County, New ...  40.949357   \n",
       "11150  19, Berkley Place, East Windsor Township, Merc...  40.250864   \n",
       "11151  17, Berkley Place, East Windsor Township, Merc...  40.250656   \n",
       "11152  15, Berkley Place, East Windsor Township, Merc...  40.250415   \n",
       "...                                                  ...        ...   \n",
       "40921  6, Hampton Court, Chestnut Glen, Davisville, G...  39.799217   \n",
       "40922  5, Hampton Court, Chestnut Glen, Davisville, G...  39.799247   \n",
       "40923  4, Hampton Court, Chestnut Glen, Davisville, G...  39.799012   \n",
       "40924  3, Hampton Court, Chestnut Glen, Davisville, G...  39.799139   \n",
       "40925  2, Hampton Court, Chestnut Glen, Davisville, G...  39.798753   \n",
       "\n",
       "            Long                                    propertiesOwned  \n",
       "11035 -73.998756                   [10 BERKLEY PL., 12 BERKLEY PL.]  \n",
       "11036 -73.998758                   [10 BERKLEY PL., 12 BERKLEY PL.]  \n",
       "11150 -74.533198                                   [19 BERKLEY PL.]  \n",
       "11151 -74.533229                                   [17 BERKLEY PL.]  \n",
       "11152 -74.533237                                   [15 BERKLEY PL.]  \n",
       "...          ...                                                ...  \n",
       "40921 -75.049115                [346 ARMSTRONG AVE., 6 HAMPTON CT.]  \n",
       "40922 -75.050097  [229 BOWERS ST., 40 MANHATTAN AVE., 132 PROSPE...  \n",
       "40923 -75.049027                                    [4 HAMPTON CT.]  \n",
       "40924 -75.049806                                    [3 HAMPTON CT.]  \n",
       "40925 -75.049050  [272 OGDEN AVE., 31 SHERMAN AVE., 123 WEBSTER ...  \n",
       "\n",
       "[229 rows x 12 columns]"
      ],
      "text/html": "<div>\n<style scoped>\n    .dataframe tbody tr th:only-of-type {\n        vertical-align: middle;\n    }\n\n    .dataframe tbody tr th {\n        vertical-align: top;\n    }\n\n    .dataframe thead th {\n        text-align: right;\n    }\n</style>\n<table border=\"1\" class=\"dataframe\">\n  <thead>\n    <tr style=\"text-align: right;\">\n      <th></th>\n      <th>propertyLocation</th>\n      <th>ownersName</th>\n      <th>ownersMailingAddress</th>\n      <th>cityStateZip</th>\n      <th>ownersFullMailingAddress</th>\n      <th>propertyFullAddress</th>\n      <th>numberPropertiesOwned</th>\n      <th>units</th>\n      <th>gCode</th>\n      <th>Lat</th>\n      <th>Long</th>\n      <th>propertiesOwned</th>\n    </tr>\n  </thead>\n  <tbody>\n    <tr>\n      <th>11035</th>\n      <td>10 BERKLEY PL.</td>\n      <td>PATEL INDO PAK GROCERY, INC.</td>\n      <td>52 ROBIN HOOD ROAD</td>\n      <td>CLIFTON, NJ  07013</td>\n      <td>52 ROBIN HOOD ROAD, CLIFTON, NJ  07013</td>\n      <td>10 BERKLEY PL. Jersey City NJ</td>\n      <td>2</td>\n      <td>1</td>\n      <td>10, Berkley Place, Dumont, Bergen County, New ...</td>\n      <td>40.949309</td>\n      <td>-73.998756</td>\n      <td>[10 BERKLEY PL., 12 BERKLEY PL.]</td>\n    </tr>\n    <tr>\n      <th>11036</th>\n      <td>12 BERKLEY PL.</td>\n      <td>PATEL INDO PAK GROCERY, INC.</td>\n      <td>52 ROBINHOOD RD.</td>\n      <td>CLIFTON, NJ  07013</td>\n      <td>52 ROBINHOOD RD., CLIFTON, NJ  07013</td>\n      <td>12 BERKLEY PL. Jersey City NJ</td>\n      <td>2</td>\n      <td>1</td>\n      <td>12, Berkley Place, Dumont, Bergen County, New ...</td>\n      <td>40.949357</td>\n      <td>-73.998758</td>\n      <td>[10 BERKLEY PL., 12 BERKLEY PL.]</td>\n    </tr>\n    <tr>\n      <th>11150</th>\n      <td>19 BERKLEY PL.</td>\n      <td>DREWA, WIKTOR &amp; DANIELA</td>\n      <td>17 BERKLEY PL.</td>\n      <td>JERSEY CITY, N.J.  07306</td>\n      <td>17 BERKLEY PL., JERSEY CITY, N.J.  07306</td>\n      <td>19 BERKLEY PL. Jersey City NJ</td>\n      <td>1</td>\n      <td>1</td>\n      <td>19, Berkley Place, East Windsor Township, Merc...</td>\n      <td>40.250864</td>\n      <td>-74.533198</td>\n      <td>[19 BERKLEY PL.]</td>\n    </tr>\n    <tr>\n      <th>11151</th>\n      <td>17 BERKLEY PL.</td>\n      <td>DREWA, DANIELA</td>\n      <td>17 BERKLEY PL.</td>\n      <td>JERSEY CITY, N.J.  07306</td>\n      <td>17 BERKLEY PL., JERSEY CITY, N.J.  07306</td>\n      <td>17 BERKLEY PL. Jersey City NJ</td>\n      <td>1</td>\n      <td>1</td>\n      <td>17, Berkley Place, East Windsor Township, Merc...</td>\n      <td>40.250656</td>\n      <td>-74.533229</td>\n      <td>[17 BERKLEY PL.]</td>\n    </tr>\n    <tr>\n      <th>11152</th>\n      <td>15 BERKLEY PL.</td>\n      <td>KULKARNI, JITENDRA M. &amp; DEEPA J.</td>\n      <td>27 FOREST ROAD</td>\n      <td>NEW PROVIDENCE, NJ  07974</td>\n      <td>27 FOREST ROAD, NEW PROVIDENCE, NJ  07974</td>\n      <td>15 BERKLEY PL. Jersey City NJ</td>\n      <td>1</td>\n      <td>1</td>\n      <td>15, Berkley Place, East Windsor Township, Merc...</td>\n      <td>40.250415</td>\n      <td>-74.533237</td>\n      <td>[15 BERKLEY PL.]</td>\n    </tr>\n    <tr>\n      <th>...</th>\n      <td>...</td>\n      <td>...</td>\n      <td>...</td>\n      <td>...</td>\n      <td>...</td>\n      <td>...</td>\n      <td>...</td>\n      <td>...</td>\n      <td>...</td>\n      <td>...</td>\n      <td>...</td>\n      <td>...</td>\n    </tr>\n    <tr>\n      <th>40921</th>\n      <td>6 HAMPTON CT.</td>\n      <td>ST KILDA, LLC. C/O US PROPERTY FUND</td>\n      <td>200 HUDSON ST., STE 1000</td>\n      <td>JERSEY CITY, NJ  07311</td>\n      <td>200 HUDSON ST., STE 1000, JERSEY CITY, NJ  07311</td>\n      <td>6 HAMPTON CT. Jersey City NJ</td>\n      <td>2</td>\n      <td>1</td>\n      <td>6, Hampton Court, Chestnut Glen, Davisville, G...</td>\n      <td>39.799217</td>\n      <td>-75.049115</td>\n      <td>[346 ARMSTRONG AVE., 6 HAMPTON CT.]</td>\n    </tr>\n    <tr>\n      <th>40922</th>\n      <td>5 HAMPTON CT.</td>\n      <td>MELBOURNE, LLC.</td>\n      <td>140 BROADWAY, 28TH FL.</td>\n      <td>NEW YORK, NY  10005</td>\n      <td>140 BROADWAY, 28TH FL., NEW YORK, NY  10005</td>\n      <td>5 HAMPTON CT. Jersey City NJ</td>\n      <td>18</td>\n      <td>1</td>\n      <td>5, Hampton Court, Chestnut Glen, Davisville, G...</td>\n      <td>39.799247</td>\n      <td>-75.050097</td>\n      <td>[229 BOWERS ST., 40 MANHATTAN AVE., 132 PROSPE...</td>\n    </tr>\n    <tr>\n      <th>40923</th>\n      <td>4 HAMPTON CT.</td>\n      <td>DAVISON , JOYCE</td>\n      <td>4 HAMPTON CT. TERR.</td>\n      <td>JERSEY CITY, N.J.  07302</td>\n      <td>4 HAMPTON CT. TERR., JERSEY CITY, N.J.  07302</td>\n      <td>4 HAMPTON CT. Jersey City NJ</td>\n      <td>1</td>\n      <td>1</td>\n      <td>4, Hampton Court, Chestnut Glen, Davisville, G...</td>\n      <td>39.799012</td>\n      <td>-75.049027</td>\n      <td>[4 HAMPTON CT.]</td>\n    </tr>\n    <tr>\n      <th>40924</th>\n      <td>3 HAMPTON CT.</td>\n      <td>BUCK,ZACHARY C. &amp; DIANA Y.PERALES</td>\n      <td>30 S. KINGMAN RD</td>\n      <td>SOUTH ORANGE,  NJ  07079</td>\n      <td>30 S. KINGMAN RD, SOUTH ORANGE,  NJ  07079</td>\n      <td>3 HAMPTON CT. Jersey City NJ</td>\n      <td>1</td>\n      <td>1</td>\n      <td>3, Hampton Court, Chestnut Glen, Davisville, G...</td>\n      <td>39.799139</td>\n      <td>-75.049806</td>\n      <td>[3 HAMPTON CT.]</td>\n    </tr>\n    <tr>\n      <th>40925</th>\n      <td>2 HAMPTON CT.</td>\n      <td>NJ PENELOPE LLC.</td>\n      <td>140 BROADWAY,#28TH FL.</td>\n      <td>NEW YORK, NY  10005</td>\n      <td>140 BROADWAY,#28TH FL., NEW YORK, NY  10005</td>\n      <td>2 HAMPTON CT. Jersey City NJ</td>\n      <td>24</td>\n      <td>1</td>\n      <td>2, Hampton Court, Chestnut Glen, Davisville, G...</td>\n      <td>39.798753</td>\n      <td>-75.049050</td>\n      <td>[272 OGDEN AVE., 31 SHERMAN AVE., 123 WEBSTER ...</td>\n    </tr>\n  </tbody>\n</table>\n<p>229 rows × 12 columns</p>\n</div>"
     },
     "metadata": {},
     "execution_count": 60
    }
   ],
   "source": [
    "# return the dataframe for those gCodes which don't contain 'Hudson' or 'Essex'\n",
    "# append a copy of this dataframe to errors_df\n",
    "df[df.gCode.str.contains('Hudson|Essex') == False]"
   ]
  },
  {
   "cell_type": "code",
   "execution_count": 62,
   "metadata": {},
   "outputs": [],
   "source": [
    "errors_df = df[df.gCode.str.contains('Hudson|Essex') == False].copy()"
   ]
  },
  {
   "source": [
    "### Cleaning Loop"
   ],
   "cell_type": "markdown",
   "metadata": {}
  },
  {
   "cell_type": "code",
   "execution_count": 63,
   "metadata": {},
   "outputs": [
    {
     "output_type": "execute_result",
     "data": {
      "text/plain": [
       "array(['10 BERKLEY PL.', '12 BERKLEY PL.', '19 BERKLEY PL.',\n",
       "       '17 BERKLEY PL.', '15 BERKLEY PL.', '13 BERKLEY PL.',\n",
       "       '11 BERKLEY PL.', '9 BERKLEY PL.', '12 LOTT STREET', '14 LOTT ST.',\n",
       "       '16 LOTT ST.', '347 NINTH ST.', '343 NINTH ST.',\n",
       "       '327.5 NINTH STREET', '254.5 NINTH ST.', '260.5 NINTH STREET',\n",
       "       '288.5 NINTH STREET', '322 NINTH ST.', '214 NINTH ST.',\n",
       "       '216 NINTH ST.', '25 FAYETTE ST.', '376 FIFTH ST.',\n",
       "       '376.5 FIFTH ST.', '378 FIFTH ST.', '386.5 FIFTH STREET',\n",
       "       '377 FIFTH ST.', '355.5 FOURTH ST.', '347 FOURTH ST.',\n",
       "       '343 FOURTH ST.', '354.5 FOURTH STREET', '344 FOURTH ST.',\n",
       "       '357.5 FIFTH STREET', '353.5 FIFTH STREET', '347.5 FIFTH STREET',\n",
       "       '347 FIFTH ST.', '343 FIFTH ST.', '356.5 FIFTH STREET',\n",
       "       '352.5 FIFTH STREET', '348.5 FIFTH STREET', '344 FIFTH ST.',\n",
       "       '344.5 FIFTH STREET', '295 NINTH ST.', '199 NINTH ST.',\n",
       "       '378 THIRD ST.', '347 THIRD ST.', '344 FIRST ST.', '396 FIRST ST.',\n",
       "       '398 FIRST ST.', '377 THIRD ST.', '377-379 THIRD ST.',\n",
       "       '329.5 FOURTH STREET', '327.5 FOURTH STREET', '292-298 THIRD ST.',\n",
       "       '295 FOURTH ST.', '291 FOURTH ST.', '289 FOURTH ST.',\n",
       "       '283 FOURTH ST.', '279 FOURTH ST.', '253.5 FOURTH STREET',\n",
       "       '232.5 THIRD STREET', '295 THIRD ST.', '289.5 THIRD ST.',\n",
       "       '289 THIRD ST.', '287.5 THIRD STREET', '283 THIRD ST.',\n",
       "       '279 THIRD ST.', '322 FIRST ST.', '281.5 SECOND STREET',\n",
       "       '279.5 SECOND ST.', '257.5 SECOND STREET', '244.5 FIRST STREET',\n",
       "       '253.5 FIFTH STREET', '237-243 FIFTH ST.', '230.5 FOURTH STREET',\n",
       "       '232.5 FOURTH STREET', '244.5 FOURTH STREET',\n",
       "       '248.5 FOURTH STREET', '298 FOURTH ST.', '294 FOURTH ST.',\n",
       "       '292 FOURTH ST.', '322 FOURTH ST.', '312.5 FOURTH STREET',\n",
       "       '331.5 FIFTH STREET', '317.5 FIFTH STREET', '334.5 FIFTH ST.',\n",
       "       '332.5 FIFTH STREET', '298 FIFTH ST.', '294 FIFTH ST.',\n",
       "       '292 FIFTH ST.', '295 FIFTH ST.', '291 FIFTH ST.', '289 FIFTH ST.',\n",
       "       '283 FIFTH ST.', '279 FIFTH ST.', '219 FOURTH ST.',\n",
       "       '219 FIFTH ST.', '214 FOURTH ST.', '216 FOURTH STREET',\n",
       "       '198 FIFTH STREET', '214 FIFTH ST.', '216 FIFTH ST.',\n",
       "       '216 FIRST ST.', '219 FIRST STREET', '395 FIRST ST.',\n",
       "       '393 FIRST ST.', '391 FIRST ST.', '389 FIRST ST.', '347 FIRST ST.',\n",
       "       '343 FIRST ST.', '323.5 FIRST ST', '214 COLUMBUS DR.',\n",
       "       '216 COLUMBUS DR.', '184 COLUMBUS DR.', '165 COLUMBUS DR',\n",
       "       '153 COLUMBUS DR.', '1 PAULMIER PL.', '2 PAULMIER PL.',\n",
       "       '3 PAULMIER PL.', '4 PAULMIER PL.', '5 PAULMIER PL.',\n",
       "       '6 PAULMIER PL.', '7 PAULMIER PL.', '8 PAULMIER PL.',\n",
       "       '9 PAULMIER PL.', '7 CALHOUN ST.', '5 CALHOUN ST.',\n",
       "       '3 CALHOUN ST.', '2 CALHOUN ST.', '4 CALHOUN ST.', '6 CALHOUN ST.',\n",
       "       '8 CALHOUN ST.', '5 GLEN LANE', '9 GLEN LANE', '13 GLEN LANE',\n",
       "       '17 GLEN LANE', '21 GLEN LANE', '25 GLEN LANE', '6 FIR ROAD',\n",
       "       '5 FIR ROAD', '3 FIR ROAD', '2 FIR ROAD', '7 FIR ROAD',\n",
       "       '9 FIR ROAD', '11 FIR ROAD', '2 FRANCES CT.', '4 FRANCES CT.',\n",
       "       '6 FRANCES CT.', '8 FRANCES CT.', '14 BERKLEY PL.',\n",
       "       '39 MAXWELL ST.', '7 HAMPTON CT.', '6 HAMPTON CT.',\n",
       "       '5 HAMPTON CT.', '4 HAMPTON CT.', '3 HAMPTON CT.', '2 HAMPTON CT.'],\n",
       "      dtype=object)"
      ]
     },
     "metadata": {},
     "execution_count": 63
    }
   ],
   "source": [
    "errors_df.propertyLocation.unique()"
   ]
  },
  {
   "cell_type": "code",
   "execution_count": 113,
   "metadata": {},
   "outputs": [],
   "source": []
  },
  {
   "cell_type": "code",
   "execution_count": 114,
   "metadata": {},
   "outputs": [
    {
     "output_type": "execute_result",
     "data": {
      "text/plain": [
       "dict_keys(['BERKELEY', 'FIRST', 'FIFTH', 'FOURTH', 'GLEN', 'NINTH', 'SECOND', 'THIRD'])"
      ]
     },
     "metadata": {},
     "execution_count": 114
    }
   ],
   "source": [
    "replacement_dict.keys()"
   ]
  },
  {
   "cell_type": "code",
   "execution_count": 120,
   "metadata": {},
   "outputs": [],
   "source": [
    "errors_df.propertyLocation.replace(replacement_dict, value=None, inplace=True)"
   ]
  },
  {
   "cell_type": "code",
   "execution_count": 193,
   "metadata": {},
   "outputs": [
    {
     "output_type": "execute_result",
     "data": {
      "text/plain": [
       "Location(10, Berkeley Place, Indian Square, Croxton, Jersey City, Hudson County, New Jersey, 07306, United States, (40.73702659183674, -74.06588356122448, 0.0))"
      ]
     },
     "metadata": {},
     "execution_count": 193
    }
   ],
   "source": [
    "errors_df.gCode[11035]"
   ]
  },
  {
   "cell_type": "code",
   "execution_count": 122,
   "metadata": {},
   "outputs": [],
   "source": [
    "errors_df['propertyFullAddress'] = errors_df.propertyLocation + ', Jersey City, NJ'"
   ]
  },
  {
   "cell_type": "code",
   "execution_count": 123,
   "metadata": {},
   "outputs": [
    {
     "output_type": "stream",
     "name": "stdout",
     "text": [
      "CPU times: user 383 ms, sys: 54.7 ms, total: 437 ms\nWall time: 1min 59s\n"
     ]
    }
   ],
   "source": [
    "%%time\n",
    "errors_df['gCode'] = errors_df.propertyFullAddress.apply(geolocator.geocode)"
   ]
  },
  {
   "cell_type": "code",
   "execution_count": 184,
   "metadata": {},
   "outputs": [
    {
     "output_type": "execute_result",
     "data": {
      "text/plain": [
       "Empty DataFrame\n",
       "Columns: [propertyLocation, ownersName, ownersMailingAddress, cityStateZip, ownersFullMailingAddress, propertyFullAddress, numberPropertiesOwned, units, gCode, Lat, Long, propertiesOwned]\n",
       "Index: []"
      ],
      "text/html": "<div>\n<style scoped>\n    .dataframe tbody tr th:only-of-type {\n        vertical-align: middle;\n    }\n\n    .dataframe tbody tr th {\n        vertical-align: top;\n    }\n\n    .dataframe thead th {\n        text-align: right;\n    }\n</style>\n<table border=\"1\" class=\"dataframe\">\n  <thead>\n    <tr style=\"text-align: right;\">\n      <th></th>\n      <th>propertyLocation</th>\n      <th>ownersName</th>\n      <th>ownersMailingAddress</th>\n      <th>cityStateZip</th>\n      <th>ownersFullMailingAddress</th>\n      <th>propertyFullAddress</th>\n      <th>numberPropertiesOwned</th>\n      <th>units</th>\n      <th>gCode</th>\n      <th>Lat</th>\n      <th>Long</th>\n      <th>propertiesOwned</th>\n    </tr>\n  </thead>\n  <tbody>\n  </tbody>\n</table>\n</div>"
     },
     "metadata": {},
     "execution_count": 184
    }
   ],
   "source": [
    "errors_df[errors_df.gCode.str.contains('Hudson') == False]"
   ]
  },
  {
   "cell_type": "code",
   "execution_count": 127,
   "metadata": {},
   "outputs": [
    {
     "output_type": "execute_result",
     "data": {
      "text/plain": [
       "Location(10, Berkeley Place, Indian Square, Croxton, Jersey City, Hudson County, New Jersey, 07306, United States, (40.73702659183674, -74.06588356122448, 0.0))"
      ]
     },
     "metadata": {},
     "execution_count": 127
    }
   ],
   "source": [
    "errors_df['gCode'].iloc[0]"
   ]
  },
  {
   "cell_type": "code",
   "execution_count": 200,
   "metadata": {},
   "outputs": [
    {
     "output_type": "execute_result",
     "data": {
      "text/plain": [
       "Location(10, Berkeley Place, Indian Square, Croxton, Jersey City, Hudson County, New Jersey, 07306, United States, (40.73702659183674, -74.06588356122448, 0.0))"
      ]
     },
     "metadata": {},
     "execution_count": 200
    }
   ],
   "source": [
    "errors_df.gCode[11035]"
   ]
  },
  {
   "cell_type": "code",
   "execution_count": 204,
   "metadata": {},
   "outputs": [],
   "source": [
    "errors_df = df[df.gCode.str.contains('Hudson') == False].copy()"
   ]
  },
  {
   "cell_type": "code",
   "execution_count": 207,
   "metadata": {},
   "outputs": [],
   "source": [
    "errors_df.gCode.replace(combined_repl_dict, value=None, inplace=True)"
   ]
  },
  {
   "cell_type": "code",
   "execution_count": 208,
   "metadata": {},
   "outputs": [],
   "source": [
    "errors_df['propertyFullAddress'] = errors_df.propertyLocation + ', Jersey City, NJ'"
   ]
  },
  {
   "cell_type": "code",
   "execution_count": 209,
   "metadata": {},
   "outputs": [],
   "source": [
    "errors_df['gCode'] = errors_df.propertyFullAddress.apply(geolocator.geocode)"
   ]
  },
  {
   "cell_type": "code",
   "execution_count": null,
   "metadata": {},
   "outputs": [],
   "source": []
  },
  {
   "cell_type": "code",
   "execution_count": 135,
   "metadata": {},
   "outputs": [],
   "source": []
  },
  {
   "cell_type": "code",
   "execution_count": 2,
   "metadata": {},
   "outputs": [],
   "source": [
    "df = pd.read_pickle('jersey_city.pkl')"
   ]
  },
  {
   "cell_type": "code",
   "execution_count": 3,
   "metadata": {},
   "outputs": [
    {
     "output_type": "execute_result",
     "data": {
      "text/plain": [
       "       propertyLocation                           ownersName  \\\n",
       "0      677 LIBERTY AVE.                       PEDDI, PRADEEP   \n",
       "1      675 LIBERTY AVE.         PAREJA, HENRY A. & MIRYAM C.   \n",
       "2      673 LIBERTY AVE.                      HIRPARA, PRAVIN   \n",
       "3      671 LIBERTY AVE.                         SINGH, HONEY   \n",
       "4      669 LIBERTY AVE.            MARTIN, BENIGNO & CARIDAD   \n",
       "...                 ...                                  ...   \n",
       "40921     6 HAMPTON CT.  ST KILDA, LLC. C/O US PROPERTY FUND   \n",
       "40922     5 HAMPTON CT.                      MELBOURNE, LLC.   \n",
       "40923     4 HAMPTON CT.                      DAVISON , JOYCE   \n",
       "40924     3 HAMPTON CT.    BUCK,ZACHARY C. & DIANA Y.PERALES   \n",
       "40925     2 HAMPTON CT.                     NJ PENELOPE LLC.   \n",
       "\n",
       "           ownersMailingAddress              cityStateZip  \\\n",
       "0              677 LIBERTY AVE.  JERSEY CITY, N.J.  07307   \n",
       "1              675 LIBERTY AVE.  JERSEY CITY, N.J.  07307   \n",
       "2              673 LIBERTY AVE.    JERSEY CITY, NJ  07307   \n",
       "3              671 LIBERTY AVE.    JERSEY CITY, NJ  07307   \n",
       "4              669 LIBERTY AVE.  JERSEY CITY, N.J.  07307   \n",
       "...                         ...                       ...   \n",
       "40921  200 HUDSON ST., STE 1000    JERSEY CITY, NJ  07311   \n",
       "40922    140 BROADWAY, 28TH FL.       NEW YORK, NY  10005   \n",
       "40923       4 HAMPTON CT. TERR.  JERSEY CITY, N.J.  07302   \n",
       "40924          30 S. KINGMAN RD  SOUTH ORANGE,  NJ  07079   \n",
       "40925    140 BROADWAY,#28TH FL.       NEW YORK, NY  10005   \n",
       "\n",
       "                               ownersFullMailingAddress  \\\n",
       "0            677 LIBERTY AVE., JERSEY CITY, N.J.  07307   \n",
       "1            675 LIBERTY AVE., JERSEY CITY, N.J.  07307   \n",
       "2              673 LIBERTY AVE., JERSEY CITY, NJ  07307   \n",
       "3              671 LIBERTY AVE., JERSEY CITY, NJ  07307   \n",
       "4            669 LIBERTY AVE., JERSEY CITY, N.J.  07307   \n",
       "...                                                 ...   \n",
       "40921  200 HUDSON ST., STE 1000, JERSEY CITY, NJ  07311   \n",
       "40922       140 BROADWAY, 28TH FL., NEW YORK, NY  10005   \n",
       "40923     4 HAMPTON CT. TERR., JERSEY CITY, N.J.  07302   \n",
       "40924        30 S. KINGMAN RD, SOUTH ORANGE,  NJ  07079   \n",
       "40925       140 BROADWAY,#28TH FL., NEW YORK, NY  10005   \n",
       "\n",
       "                   propertyFullAddress  numberPropertiesOwned  units  \\\n",
       "0      677 LIBERTY AVE. Jersey City NJ                      1      1   \n",
       "1      675 LIBERTY AVE. Jersey City NJ                      1      1   \n",
       "2      673 LIBERTY AVE. Jersey City NJ                      1      1   \n",
       "3      671 LIBERTY AVE. Jersey City NJ                      1      1   \n",
       "4      669 LIBERTY AVE. Jersey City NJ                      1      1   \n",
       "...                                ...                    ...    ...   \n",
       "40921   6 HAMPTON CT., Jersey City, NJ                      2      1   \n",
       "40922   5 HAMPTON CT., Jersey City, NJ                     18      1   \n",
       "40923   4 HAMPTON CT., Jersey City, NJ                      1      1   \n",
       "40924   3 HAMPTON CT., Jersey City, NJ                      1      1   \n",
       "40925   2 HAMPTON CT., Jersey City, NJ                     24      1   \n",
       "\n",
       "                                                   gCode        Lat  \\\n",
       "0      677, Liberty Avenue, Jersey City, Hudson Count...  40.759744   \n",
       "1      675, Liberty Avenue, Jersey City, Hudson Count...  40.759679   \n",
       "2      673, Liberty Avenue, Jersey City, Hudson Count...  40.759614   \n",
       "3      671, Liberty Avenue, Jersey City, Hudson Count...  40.759549   \n",
       "4      669, Liberty Avenue, Jersey City, Hudson Count...  40.759484   \n",
       "...                                                  ...        ...   \n",
       "40921  (6, Hampton Court, Chestnut Glen, Davisville, ...  39.799217   \n",
       "40922  (5, Hampton Court, Chestnut Glen, Davisville, ...  39.799247   \n",
       "40923  (4, Hampton Court, Chestnut Glen, Davisville, ...  39.799012   \n",
       "40924  (3, Hampton Court, Chestnut Glen, Davisville, ...  39.799139   \n",
       "40925  (2, Hampton Court, Chestnut Glen, Davisville, ...  39.798753   \n",
       "\n",
       "            Long                                    propertiesOwned  \n",
       "0     -74.050457                                 [677 LIBERTY AVE.]  \n",
       "1     -74.050499                                 [675 LIBERTY AVE.]  \n",
       "2     -74.050542                                 [673 LIBERTY AVE.]  \n",
       "3     -74.050584                                 [671 LIBERTY AVE.]  \n",
       "4     -74.050626                                 [669 LIBERTY AVE.]  \n",
       "...          ...                                                ...  \n",
       "40921 -75.049115                [346 ARMSTRONG AVE., 6 HAMPTON CT.]  \n",
       "40922 -75.050097  [229 BOWERS ST., 40 MANHATTAN AVE., 132 PROSPE...  \n",
       "40923 -75.049027                                    [4 HAMPTON CT.]  \n",
       "40924 -75.049806                                    [3 HAMPTON CT.]  \n",
       "40925 -75.049050  [272 OGDEN AVE., 31 SHERMAN AVE., 123 WEBSTER ...  \n",
       "\n",
       "[42024 rows x 12 columns]"
      ],
      "text/html": "<div>\n<style scoped>\n    .dataframe tbody tr th:only-of-type {\n        vertical-align: middle;\n    }\n\n    .dataframe tbody tr th {\n        vertical-align: top;\n    }\n\n    .dataframe thead th {\n        text-align: right;\n    }\n</style>\n<table border=\"1\" class=\"dataframe\">\n  <thead>\n    <tr style=\"text-align: right;\">\n      <th></th>\n      <th>propertyLocation</th>\n      <th>ownersName</th>\n      <th>ownersMailingAddress</th>\n      <th>cityStateZip</th>\n      <th>ownersFullMailingAddress</th>\n      <th>propertyFullAddress</th>\n      <th>numberPropertiesOwned</th>\n      <th>units</th>\n      <th>gCode</th>\n      <th>Lat</th>\n      <th>Long</th>\n      <th>propertiesOwned</th>\n    </tr>\n  </thead>\n  <tbody>\n    <tr>\n      <th>0</th>\n      <td>677 LIBERTY AVE.</td>\n      <td>PEDDI, PRADEEP</td>\n      <td>677 LIBERTY AVE.</td>\n      <td>JERSEY CITY, N.J.  07307</td>\n      <td>677 LIBERTY AVE., JERSEY CITY, N.J.  07307</td>\n      <td>677 LIBERTY AVE. Jersey City NJ</td>\n      <td>1</td>\n      <td>1</td>\n      <td>677, Liberty Avenue, Jersey City, Hudson Count...</td>\n      <td>40.759744</td>\n      <td>-74.050457</td>\n      <td>[677 LIBERTY AVE.]</td>\n    </tr>\n    <tr>\n      <th>1</th>\n      <td>675 LIBERTY AVE.</td>\n      <td>PAREJA, HENRY A. &amp; MIRYAM C.</td>\n      <td>675 LIBERTY AVE.</td>\n      <td>JERSEY CITY, N.J.  07307</td>\n      <td>675 LIBERTY AVE., JERSEY CITY, N.J.  07307</td>\n      <td>675 LIBERTY AVE. Jersey City NJ</td>\n      <td>1</td>\n      <td>1</td>\n      <td>675, Liberty Avenue, Jersey City, Hudson Count...</td>\n      <td>40.759679</td>\n      <td>-74.050499</td>\n      <td>[675 LIBERTY AVE.]</td>\n    </tr>\n    <tr>\n      <th>2</th>\n      <td>673 LIBERTY AVE.</td>\n      <td>HIRPARA, PRAVIN</td>\n      <td>673 LIBERTY AVE.</td>\n      <td>JERSEY CITY, NJ  07307</td>\n      <td>673 LIBERTY AVE., JERSEY CITY, NJ  07307</td>\n      <td>673 LIBERTY AVE. Jersey City NJ</td>\n      <td>1</td>\n      <td>1</td>\n      <td>673, Liberty Avenue, Jersey City, Hudson Count...</td>\n      <td>40.759614</td>\n      <td>-74.050542</td>\n      <td>[673 LIBERTY AVE.]</td>\n    </tr>\n    <tr>\n      <th>3</th>\n      <td>671 LIBERTY AVE.</td>\n      <td>SINGH, HONEY</td>\n      <td>671 LIBERTY AVE.</td>\n      <td>JERSEY CITY, NJ  07307</td>\n      <td>671 LIBERTY AVE., JERSEY CITY, NJ  07307</td>\n      <td>671 LIBERTY AVE. Jersey City NJ</td>\n      <td>1</td>\n      <td>1</td>\n      <td>671, Liberty Avenue, Jersey City, Hudson Count...</td>\n      <td>40.759549</td>\n      <td>-74.050584</td>\n      <td>[671 LIBERTY AVE.]</td>\n    </tr>\n    <tr>\n      <th>4</th>\n      <td>669 LIBERTY AVE.</td>\n      <td>MARTIN, BENIGNO &amp; CARIDAD</td>\n      <td>669 LIBERTY AVE.</td>\n      <td>JERSEY CITY, N.J.  07307</td>\n      <td>669 LIBERTY AVE., JERSEY CITY, N.J.  07307</td>\n      <td>669 LIBERTY AVE. Jersey City NJ</td>\n      <td>1</td>\n      <td>1</td>\n      <td>669, Liberty Avenue, Jersey City, Hudson Count...</td>\n      <td>40.759484</td>\n      <td>-74.050626</td>\n      <td>[669 LIBERTY AVE.]</td>\n    </tr>\n    <tr>\n      <th>...</th>\n      <td>...</td>\n      <td>...</td>\n      <td>...</td>\n      <td>...</td>\n      <td>...</td>\n      <td>...</td>\n      <td>...</td>\n      <td>...</td>\n      <td>...</td>\n      <td>...</td>\n      <td>...</td>\n      <td>...</td>\n    </tr>\n    <tr>\n      <th>40921</th>\n      <td>6 HAMPTON CT.</td>\n      <td>ST KILDA, LLC. C/O US PROPERTY FUND</td>\n      <td>200 HUDSON ST., STE 1000</td>\n      <td>JERSEY CITY, NJ  07311</td>\n      <td>200 HUDSON ST., STE 1000, JERSEY CITY, NJ  07311</td>\n      <td>6 HAMPTON CT., Jersey City, NJ</td>\n      <td>2</td>\n      <td>1</td>\n      <td>(6, Hampton Court, Chestnut Glen, Davisville, ...</td>\n      <td>39.799217</td>\n      <td>-75.049115</td>\n      <td>[346 ARMSTRONG AVE., 6 HAMPTON CT.]</td>\n    </tr>\n    <tr>\n      <th>40922</th>\n      <td>5 HAMPTON CT.</td>\n      <td>MELBOURNE, LLC.</td>\n      <td>140 BROADWAY, 28TH FL.</td>\n      <td>NEW YORK, NY  10005</td>\n      <td>140 BROADWAY, 28TH FL., NEW YORK, NY  10005</td>\n      <td>5 HAMPTON CT., Jersey City, NJ</td>\n      <td>18</td>\n      <td>1</td>\n      <td>(5, Hampton Court, Chestnut Glen, Davisville, ...</td>\n      <td>39.799247</td>\n      <td>-75.050097</td>\n      <td>[229 BOWERS ST., 40 MANHATTAN AVE., 132 PROSPE...</td>\n    </tr>\n    <tr>\n      <th>40923</th>\n      <td>4 HAMPTON CT.</td>\n      <td>DAVISON , JOYCE</td>\n      <td>4 HAMPTON CT. TERR.</td>\n      <td>JERSEY CITY, N.J.  07302</td>\n      <td>4 HAMPTON CT. TERR., JERSEY CITY, N.J.  07302</td>\n      <td>4 HAMPTON CT., Jersey City, NJ</td>\n      <td>1</td>\n      <td>1</td>\n      <td>(4, Hampton Court, Chestnut Glen, Davisville, ...</td>\n      <td>39.799012</td>\n      <td>-75.049027</td>\n      <td>[4 HAMPTON CT.]</td>\n    </tr>\n    <tr>\n      <th>40924</th>\n      <td>3 HAMPTON CT.</td>\n      <td>BUCK,ZACHARY C. &amp; DIANA Y.PERALES</td>\n      <td>30 S. KINGMAN RD</td>\n      <td>SOUTH ORANGE,  NJ  07079</td>\n      <td>30 S. KINGMAN RD, SOUTH ORANGE,  NJ  07079</td>\n      <td>3 HAMPTON CT., Jersey City, NJ</td>\n      <td>1</td>\n      <td>1</td>\n      <td>(3, Hampton Court, Chestnut Glen, Davisville, ...</td>\n      <td>39.799139</td>\n      <td>-75.049806</td>\n      <td>[3 HAMPTON CT.]</td>\n    </tr>\n    <tr>\n      <th>40925</th>\n      <td>2 HAMPTON CT.</td>\n      <td>NJ PENELOPE LLC.</td>\n      <td>140 BROADWAY,#28TH FL.</td>\n      <td>NEW YORK, NY  10005</td>\n      <td>140 BROADWAY,#28TH FL., NEW YORK, NY  10005</td>\n      <td>2 HAMPTON CT., Jersey City, NJ</td>\n      <td>24</td>\n      <td>1</td>\n      <td>(2, Hampton Court, Chestnut Glen, Davisville, ...</td>\n      <td>39.798753</td>\n      <td>-75.049050</td>\n      <td>[272 OGDEN AVE., 31 SHERMAN AVE., 123 WEBSTER ...</td>\n    </tr>\n  </tbody>\n</table>\n<p>42024 rows × 12 columns</p>\n</div>"
     },
     "metadata": {},
     "execution_count": 3
    }
   ],
   "source": [
    "df"
   ]
  },
  {
   "cell_type": "code",
   "execution_count": 145,
   "metadata": {},
   "outputs": [
    {
     "output_type": "execute_result",
     "data": {
      "text/plain": [
       "       propertyLocation                           ownersName  \\\n",
       "0      677 LIBERTY AVE.                       PEDDI, PRADEEP   \n",
       "1      675 LIBERTY AVE.         PAREJA, HENRY A. & MIRYAM C.   \n",
       "2      673 LIBERTY AVE.                      HIRPARA, PRAVIN   \n",
       "3      671 LIBERTY AVE.                         SINGH, HONEY   \n",
       "4      669 LIBERTY AVE.            MARTIN, BENIGNO & CARIDAD   \n",
       "...                 ...                                  ...   \n",
       "40921     6 HAMPTON CT.  ST KILDA, LLC. C/O US PROPERTY FUND   \n",
       "40922     5 HAMPTON CT.                      MELBOURNE, LLC.   \n",
       "40923     4 HAMPTON CT.                      DAVISON , JOYCE   \n",
       "40924     3 HAMPTON CT.    BUCK,ZACHARY C. & DIANA Y.PERALES   \n",
       "40925     2 HAMPTON CT.                     NJ PENELOPE LLC.   \n",
       "\n",
       "           ownersMailingAddress              cityStateZip  \\\n",
       "0              677 LIBERTY AVE.  JERSEY CITY, N.J.  07307   \n",
       "1              675 LIBERTY AVE.  JERSEY CITY, N.J.  07307   \n",
       "2              673 LIBERTY AVE.    JERSEY CITY, NJ  07307   \n",
       "3              671 LIBERTY AVE.    JERSEY CITY, NJ  07307   \n",
       "4              669 LIBERTY AVE.  JERSEY CITY, N.J.  07307   \n",
       "...                         ...                       ...   \n",
       "40921  200 HUDSON ST., STE 1000    JERSEY CITY, NJ  07311   \n",
       "40922    140 BROADWAY, 28TH FL.       NEW YORK, NY  10005   \n",
       "40923       4 HAMPTON CT. TERR.  JERSEY CITY, N.J.  07302   \n",
       "40924          30 S. KINGMAN RD  SOUTH ORANGE,  NJ  07079   \n",
       "40925    140 BROADWAY,#28TH FL.       NEW YORK, NY  10005   \n",
       "\n",
       "                               ownersFullMailingAddress  \\\n",
       "0            677 LIBERTY AVE., JERSEY CITY, N.J.  07307   \n",
       "1            675 LIBERTY AVE., JERSEY CITY, N.J.  07307   \n",
       "2              673 LIBERTY AVE., JERSEY CITY, NJ  07307   \n",
       "3              671 LIBERTY AVE., JERSEY CITY, NJ  07307   \n",
       "4            669 LIBERTY AVE., JERSEY CITY, N.J.  07307   \n",
       "...                                                 ...   \n",
       "40921  200 HUDSON ST., STE 1000, JERSEY CITY, NJ  07311   \n",
       "40922       140 BROADWAY, 28TH FL., NEW YORK, NY  10005   \n",
       "40923     4 HAMPTON CT. TERR., JERSEY CITY, N.J.  07302   \n",
       "40924        30 S. KINGMAN RD, SOUTH ORANGE,  NJ  07079   \n",
       "40925       140 BROADWAY,#28TH FL., NEW YORK, NY  10005   \n",
       "\n",
       "                   propertyFullAddress  numberPropertiesOwned  units  \\\n",
       "0      677 LIBERTY AVE. Jersey City NJ                      1      1   \n",
       "1      675 LIBERTY AVE. Jersey City NJ                      1      1   \n",
       "2      673 LIBERTY AVE. Jersey City NJ                      1      1   \n",
       "3      671 LIBERTY AVE. Jersey City NJ                      1      1   \n",
       "4      669 LIBERTY AVE. Jersey City NJ                      1      1   \n",
       "...                                ...                    ...    ...   \n",
       "40921     6 HAMPTON CT. Jersey City NJ                      2      1   \n",
       "40922     5 HAMPTON CT. Jersey City NJ                     18      1   \n",
       "40923     4 HAMPTON CT. Jersey City NJ                      1      1   \n",
       "40924     3 HAMPTON CT. Jersey City NJ                      1      1   \n",
       "40925     2 HAMPTON CT. Jersey City NJ                     24      1   \n",
       "\n",
       "                                                   gCode        Lat  \\\n",
       "0      677, Liberty Avenue, Jersey City, Hudson Count...  40.759744   \n",
       "1      675, Liberty Avenue, Jersey City, Hudson Count...  40.759679   \n",
       "2      673, Liberty Avenue, Jersey City, Hudson Count...  40.759614   \n",
       "3      671, Liberty Avenue, Jersey City, Hudson Count...  40.759549   \n",
       "4      669, Liberty Avenue, Jersey City, Hudson Count...  40.759484   \n",
       "...                                                  ...        ...   \n",
       "40921  (6, Hampton Court, Chestnut Glen, Davisville, ...  39.799217   \n",
       "40922  (5, Hampton Court, Chestnut Glen, Davisville, ...  39.799247   \n",
       "40923  (4, Hampton Court, Chestnut Glen, Davisville, ...  39.799012   \n",
       "40924  (3, Hampton Court, Chestnut Glen, Davisville, ...  39.799139   \n",
       "40925  (2, Hampton Court, Chestnut Glen, Davisville, ...  39.798753   \n",
       "\n",
       "            Long                                    propertiesOwned  \n",
       "0     -74.050457                                 [677 LIBERTY AVE.]  \n",
       "1     -74.050499                                 [675 LIBERTY AVE.]  \n",
       "2     -74.050542                                 [673 LIBERTY AVE.]  \n",
       "3     -74.050584                                 [671 LIBERTY AVE.]  \n",
       "4     -74.050626                                 [669 LIBERTY AVE.]  \n",
       "...          ...                                                ...  \n",
       "40921 -75.049115                [346 ARMSTRONG AVE., 6 HAMPTON CT.]  \n",
       "40922 -75.050097  [229 BOWERS ST., 40 MANHATTAN AVE., 132 PROSPE...  \n",
       "40923 -75.049027                                    [4 HAMPTON CT.]  \n",
       "40924 -75.049806                                    [3 HAMPTON CT.]  \n",
       "40925 -75.049050  [272 OGDEN AVE., 31 SHERMAN AVE., 123 WEBSTER ...  \n",
       "\n",
       "[42259 rows x 12 columns]"
      ],
      "text/html": "<div>\n<style scoped>\n    .dataframe tbody tr th:only-of-type {\n        vertical-align: middle;\n    }\n\n    .dataframe tbody tr th {\n        vertical-align: top;\n    }\n\n    .dataframe thead th {\n        text-align: right;\n    }\n</style>\n<table border=\"1\" class=\"dataframe\">\n  <thead>\n    <tr style=\"text-align: right;\">\n      <th></th>\n      <th>propertyLocation</th>\n      <th>ownersName</th>\n      <th>ownersMailingAddress</th>\n      <th>cityStateZip</th>\n      <th>ownersFullMailingAddress</th>\n      <th>propertyFullAddress</th>\n      <th>numberPropertiesOwned</th>\n      <th>units</th>\n      <th>gCode</th>\n      <th>Lat</th>\n      <th>Long</th>\n      <th>propertiesOwned</th>\n    </tr>\n  </thead>\n  <tbody>\n    <tr>\n      <th>0</th>\n      <td>677 LIBERTY AVE.</td>\n      <td>PEDDI, PRADEEP</td>\n      <td>677 LIBERTY AVE.</td>\n      <td>JERSEY CITY, N.J.  07307</td>\n      <td>677 LIBERTY AVE., JERSEY CITY, N.J.  07307</td>\n      <td>677 LIBERTY AVE. Jersey City NJ</td>\n      <td>1</td>\n      <td>1</td>\n      <td>677, Liberty Avenue, Jersey City, Hudson Count...</td>\n      <td>40.759744</td>\n      <td>-74.050457</td>\n      <td>[677 LIBERTY AVE.]</td>\n    </tr>\n    <tr>\n      <th>1</th>\n      <td>675 LIBERTY AVE.</td>\n      <td>PAREJA, HENRY A. &amp; MIRYAM C.</td>\n      <td>675 LIBERTY AVE.</td>\n      <td>JERSEY CITY, N.J.  07307</td>\n      <td>675 LIBERTY AVE., JERSEY CITY, N.J.  07307</td>\n      <td>675 LIBERTY AVE. Jersey City NJ</td>\n      <td>1</td>\n      <td>1</td>\n      <td>675, Liberty Avenue, Jersey City, Hudson Count...</td>\n      <td>40.759679</td>\n      <td>-74.050499</td>\n      <td>[675 LIBERTY AVE.]</td>\n    </tr>\n    <tr>\n      <th>2</th>\n      <td>673 LIBERTY AVE.</td>\n      <td>HIRPARA, PRAVIN</td>\n      <td>673 LIBERTY AVE.</td>\n      <td>JERSEY CITY, NJ  07307</td>\n      <td>673 LIBERTY AVE., JERSEY CITY, NJ  07307</td>\n      <td>673 LIBERTY AVE. Jersey City NJ</td>\n      <td>1</td>\n      <td>1</td>\n      <td>673, Liberty Avenue, Jersey City, Hudson Count...</td>\n      <td>40.759614</td>\n      <td>-74.050542</td>\n      <td>[673 LIBERTY AVE.]</td>\n    </tr>\n    <tr>\n      <th>3</th>\n      <td>671 LIBERTY AVE.</td>\n      <td>SINGH, HONEY</td>\n      <td>671 LIBERTY AVE.</td>\n      <td>JERSEY CITY, NJ  07307</td>\n      <td>671 LIBERTY AVE., JERSEY CITY, NJ  07307</td>\n      <td>671 LIBERTY AVE. Jersey City NJ</td>\n      <td>1</td>\n      <td>1</td>\n      <td>671, Liberty Avenue, Jersey City, Hudson Count...</td>\n      <td>40.759549</td>\n      <td>-74.050584</td>\n      <td>[671 LIBERTY AVE.]</td>\n    </tr>\n    <tr>\n      <th>4</th>\n      <td>669 LIBERTY AVE.</td>\n      <td>MARTIN, BENIGNO &amp; CARIDAD</td>\n      <td>669 LIBERTY AVE.</td>\n      <td>JERSEY CITY, N.J.  07307</td>\n      <td>669 LIBERTY AVE., JERSEY CITY, N.J.  07307</td>\n      <td>669 LIBERTY AVE. Jersey City NJ</td>\n      <td>1</td>\n      <td>1</td>\n      <td>669, Liberty Avenue, Jersey City, Hudson Count...</td>\n      <td>40.759484</td>\n      <td>-74.050626</td>\n      <td>[669 LIBERTY AVE.]</td>\n    </tr>\n    <tr>\n      <th>...</th>\n      <td>...</td>\n      <td>...</td>\n      <td>...</td>\n      <td>...</td>\n      <td>...</td>\n      <td>...</td>\n      <td>...</td>\n      <td>...</td>\n      <td>...</td>\n      <td>...</td>\n      <td>...</td>\n      <td>...</td>\n    </tr>\n    <tr>\n      <th>40921</th>\n      <td>6 HAMPTON CT.</td>\n      <td>ST KILDA, LLC. C/O US PROPERTY FUND</td>\n      <td>200 HUDSON ST., STE 1000</td>\n      <td>JERSEY CITY, NJ  07311</td>\n      <td>200 HUDSON ST., STE 1000, JERSEY CITY, NJ  07311</td>\n      <td>6 HAMPTON CT. Jersey City NJ</td>\n      <td>2</td>\n      <td>1</td>\n      <td>(6, Hampton Court, Chestnut Glen, Davisville, ...</td>\n      <td>39.799217</td>\n      <td>-75.049115</td>\n      <td>[346 ARMSTRONG AVE., 6 HAMPTON CT.]</td>\n    </tr>\n    <tr>\n      <th>40922</th>\n      <td>5 HAMPTON CT.</td>\n      <td>MELBOURNE, LLC.</td>\n      <td>140 BROADWAY, 28TH FL.</td>\n      <td>NEW YORK, NY  10005</td>\n      <td>140 BROADWAY, 28TH FL., NEW YORK, NY  10005</td>\n      <td>5 HAMPTON CT. Jersey City NJ</td>\n      <td>18</td>\n      <td>1</td>\n      <td>(5, Hampton Court, Chestnut Glen, Davisville, ...</td>\n      <td>39.799247</td>\n      <td>-75.050097</td>\n      <td>[229 BOWERS ST., 40 MANHATTAN AVE., 132 PROSPE...</td>\n    </tr>\n    <tr>\n      <th>40923</th>\n      <td>4 HAMPTON CT.</td>\n      <td>DAVISON , JOYCE</td>\n      <td>4 HAMPTON CT. TERR.</td>\n      <td>JERSEY CITY, N.J.  07302</td>\n      <td>4 HAMPTON CT. TERR., JERSEY CITY, N.J.  07302</td>\n      <td>4 HAMPTON CT. Jersey City NJ</td>\n      <td>1</td>\n      <td>1</td>\n      <td>(4, Hampton Court, Chestnut Glen, Davisville, ...</td>\n      <td>39.799012</td>\n      <td>-75.049027</td>\n      <td>[4 HAMPTON CT.]</td>\n    </tr>\n    <tr>\n      <th>40924</th>\n      <td>3 HAMPTON CT.</td>\n      <td>BUCK,ZACHARY C. &amp; DIANA Y.PERALES</td>\n      <td>30 S. KINGMAN RD</td>\n      <td>SOUTH ORANGE,  NJ  07079</td>\n      <td>30 S. KINGMAN RD, SOUTH ORANGE,  NJ  07079</td>\n      <td>3 HAMPTON CT. Jersey City NJ</td>\n      <td>1</td>\n      <td>1</td>\n      <td>(3, Hampton Court, Chestnut Glen, Davisville, ...</td>\n      <td>39.799139</td>\n      <td>-75.049806</td>\n      <td>[3 HAMPTON CT.]</td>\n    </tr>\n    <tr>\n      <th>40925</th>\n      <td>2 HAMPTON CT.</td>\n      <td>NJ PENELOPE LLC.</td>\n      <td>140 BROADWAY,#28TH FL.</td>\n      <td>NEW YORK, NY  10005</td>\n      <td>140 BROADWAY,#28TH FL., NEW YORK, NY  10005</td>\n      <td>2 HAMPTON CT. Jersey City NJ</td>\n      <td>24</td>\n      <td>1</td>\n      <td>(2, Hampton Court, Chestnut Glen, Davisville, ...</td>\n      <td>39.798753</td>\n      <td>-75.049050</td>\n      <td>[272 OGDEN AVE., 31 SHERMAN AVE., 123 WEBSTER ...</td>\n    </tr>\n  </tbody>\n</table>\n<p>42259 rows × 12 columns</p>\n</div>"
     },
     "metadata": {},
     "execution_count": 145
    }
   ],
   "source": [
    "df"
   ]
  },
  {
   "cell_type": "code",
   "execution_count": 237,
   "metadata": {},
   "outputs": [],
   "source": [
    "df[df.gCode.str.contains('Hudson') == True].to_csv('jersey_city.csv', index=None)"
   ]
  },
  {
   "cell_type": "code",
   "execution_count": 238,
   "metadata": {},
   "outputs": [
    {
     "output_type": "execute_result",
     "data": {
      "text/plain": [
       "       propertyLocation                           ownersName  \\\n",
       "0      677 LIBERTY AVE.                       PEDDI, PRADEEP   \n",
       "1      675 LIBERTY AVE.         PAREJA, HENRY A. & MIRYAM C.   \n",
       "2      673 LIBERTY AVE.                      HIRPARA, PRAVIN   \n",
       "3      671 LIBERTY AVE.                         SINGH, HONEY   \n",
       "4      669 LIBERTY AVE.            MARTIN, BENIGNO & CARIDAD   \n",
       "...                 ...                                  ...   \n",
       "40921     6 HAMPTON CT.  ST KILDA, LLC. C/O US PROPERTY FUND   \n",
       "40922     5 HAMPTON CT.                      MELBOURNE, LLC.   \n",
       "40923     4 HAMPTON CT.                      DAVISON , JOYCE   \n",
       "40924     3 HAMPTON CT.    BUCK,ZACHARY C. & DIANA Y.PERALES   \n",
       "40925     2 HAMPTON CT.                     NJ PENELOPE LLC.   \n",
       "\n",
       "           ownersMailingAddress              cityStateZip  \\\n",
       "0              677 LIBERTY AVE.  JERSEY CITY, N.J.  07307   \n",
       "1              675 LIBERTY AVE.  JERSEY CITY, N.J.  07307   \n",
       "2              673 LIBERTY AVE.    JERSEY CITY, NJ  07307   \n",
       "3              671 LIBERTY AVE.    JERSEY CITY, NJ  07307   \n",
       "4              669 LIBERTY AVE.  JERSEY CITY, N.J.  07307   \n",
       "...                         ...                       ...   \n",
       "40921  200 HUDSON ST., STE 1000    JERSEY CITY, NJ  07311   \n",
       "40922    140 BROADWAY, 28TH FL.       NEW YORK, NY  10005   \n",
       "40923       4 HAMPTON CT. TERR.  JERSEY CITY, N.J.  07302   \n",
       "40924          30 S. KINGMAN RD  SOUTH ORANGE,  NJ  07079   \n",
       "40925    140 BROADWAY,#28TH FL.       NEW YORK, NY  10005   \n",
       "\n",
       "                               ownersFullMailingAddress  \\\n",
       "0            677 LIBERTY AVE., JERSEY CITY, N.J.  07307   \n",
       "1            675 LIBERTY AVE., JERSEY CITY, N.J.  07307   \n",
       "2              673 LIBERTY AVE., JERSEY CITY, NJ  07307   \n",
       "3              671 LIBERTY AVE., JERSEY CITY, NJ  07307   \n",
       "4            669 LIBERTY AVE., JERSEY CITY, N.J.  07307   \n",
       "...                                                 ...   \n",
       "40921  200 HUDSON ST., STE 1000, JERSEY CITY, NJ  07311   \n",
       "40922       140 BROADWAY, 28TH FL., NEW YORK, NY  10005   \n",
       "40923     4 HAMPTON CT. TERR., JERSEY CITY, N.J.  07302   \n",
       "40924        30 S. KINGMAN RD, SOUTH ORANGE,  NJ  07079   \n",
       "40925       140 BROADWAY,#28TH FL., NEW YORK, NY  10005   \n",
       "\n",
       "                   propertyFullAddress  numberPropertiesOwned  units  \\\n",
       "0      677 LIBERTY AVE. Jersey City NJ                      1      1   \n",
       "1      675 LIBERTY AVE. Jersey City NJ                      1      1   \n",
       "2      673 LIBERTY AVE. Jersey City NJ                      1      1   \n",
       "3      671 LIBERTY AVE. Jersey City NJ                      1      1   \n",
       "4      669 LIBERTY AVE. Jersey City NJ                      1      1   \n",
       "...                                ...                    ...    ...   \n",
       "40921   6 HAMPTON CT., Jersey City, NJ                      2      1   \n",
       "40922   5 HAMPTON CT., Jersey City, NJ                     18      1   \n",
       "40923   4 HAMPTON CT., Jersey City, NJ                      1      1   \n",
       "40924   3 HAMPTON CT., Jersey City, NJ                      1      1   \n",
       "40925   2 HAMPTON CT., Jersey City, NJ                     24      1   \n",
       "\n",
       "                                                   gCode        Lat  \\\n",
       "0      677, Liberty Avenue, Jersey City, Hudson Count...  40.759744   \n",
       "1      675, Liberty Avenue, Jersey City, Hudson Count...  40.759679   \n",
       "2      673, Liberty Avenue, Jersey City, Hudson Count...  40.759614   \n",
       "3      671, Liberty Avenue, Jersey City, Hudson Count...  40.759549   \n",
       "4      669, Liberty Avenue, Jersey City, Hudson Count...  40.759484   \n",
       "...                                                  ...        ...   \n",
       "40921  (6, Hampton Court, Chestnut Glen, Davisville, ...  39.799217   \n",
       "40922  (5, Hampton Court, Chestnut Glen, Davisville, ...  39.799247   \n",
       "40923  (4, Hampton Court, Chestnut Glen, Davisville, ...  39.799012   \n",
       "40924  (3, Hampton Court, Chestnut Glen, Davisville, ...  39.799139   \n",
       "40925  (2, Hampton Court, Chestnut Glen, Davisville, ...  39.798753   \n",
       "\n",
       "            Long                                    propertiesOwned  \n",
       "0     -74.050457                                 [677 LIBERTY AVE.]  \n",
       "1     -74.050499                                 [675 LIBERTY AVE.]  \n",
       "2     -74.050542                                 [673 LIBERTY AVE.]  \n",
       "3     -74.050584                                 [671 LIBERTY AVE.]  \n",
       "4     -74.050626                                 [669 LIBERTY AVE.]  \n",
       "...          ...                                                ...  \n",
       "40921 -75.049115                [346 ARMSTRONG AVE., 6 HAMPTON CT.]  \n",
       "40922 -75.050097  [229 BOWERS ST., 40 MANHATTAN AVE., 132 PROSPE...  \n",
       "40923 -75.049027                                    [4 HAMPTON CT.]  \n",
       "40924 -75.049806                                    [3 HAMPTON CT.]  \n",
       "40925 -75.049050  [272 OGDEN AVE., 31 SHERMAN AVE., 123 WEBSTER ...  \n",
       "\n",
       "[42024 rows x 12 columns]"
      ],
      "text/html": "<div>\n<style scoped>\n    .dataframe tbody tr th:only-of-type {\n        vertical-align: middle;\n    }\n\n    .dataframe tbody tr th {\n        vertical-align: top;\n    }\n\n    .dataframe thead th {\n        text-align: right;\n    }\n</style>\n<table border=\"1\" class=\"dataframe\">\n  <thead>\n    <tr style=\"text-align: right;\">\n      <th></th>\n      <th>propertyLocation</th>\n      <th>ownersName</th>\n      <th>ownersMailingAddress</th>\n      <th>cityStateZip</th>\n      <th>ownersFullMailingAddress</th>\n      <th>propertyFullAddress</th>\n      <th>numberPropertiesOwned</th>\n      <th>units</th>\n      <th>gCode</th>\n      <th>Lat</th>\n      <th>Long</th>\n      <th>propertiesOwned</th>\n    </tr>\n  </thead>\n  <tbody>\n    <tr>\n      <th>0</th>\n      <td>677 LIBERTY AVE.</td>\n      <td>PEDDI, PRADEEP</td>\n      <td>677 LIBERTY AVE.</td>\n      <td>JERSEY CITY, N.J.  07307</td>\n      <td>677 LIBERTY AVE., JERSEY CITY, N.J.  07307</td>\n      <td>677 LIBERTY AVE. Jersey City NJ</td>\n      <td>1</td>\n      <td>1</td>\n      <td>677, Liberty Avenue, Jersey City, Hudson Count...</td>\n      <td>40.759744</td>\n      <td>-74.050457</td>\n      <td>[677 LIBERTY AVE.]</td>\n    </tr>\n    <tr>\n      <th>1</th>\n      <td>675 LIBERTY AVE.</td>\n      <td>PAREJA, HENRY A. &amp; MIRYAM C.</td>\n      <td>675 LIBERTY AVE.</td>\n      <td>JERSEY CITY, N.J.  07307</td>\n      <td>675 LIBERTY AVE., JERSEY CITY, N.J.  07307</td>\n      <td>675 LIBERTY AVE. Jersey City NJ</td>\n      <td>1</td>\n      <td>1</td>\n      <td>675, Liberty Avenue, Jersey City, Hudson Count...</td>\n      <td>40.759679</td>\n      <td>-74.050499</td>\n      <td>[675 LIBERTY AVE.]</td>\n    </tr>\n    <tr>\n      <th>2</th>\n      <td>673 LIBERTY AVE.</td>\n      <td>HIRPARA, PRAVIN</td>\n      <td>673 LIBERTY AVE.</td>\n      <td>JERSEY CITY, NJ  07307</td>\n      <td>673 LIBERTY AVE., JERSEY CITY, NJ  07307</td>\n      <td>673 LIBERTY AVE. Jersey City NJ</td>\n      <td>1</td>\n      <td>1</td>\n      <td>673, Liberty Avenue, Jersey City, Hudson Count...</td>\n      <td>40.759614</td>\n      <td>-74.050542</td>\n      <td>[673 LIBERTY AVE.]</td>\n    </tr>\n    <tr>\n      <th>3</th>\n      <td>671 LIBERTY AVE.</td>\n      <td>SINGH, HONEY</td>\n      <td>671 LIBERTY AVE.</td>\n      <td>JERSEY CITY, NJ  07307</td>\n      <td>671 LIBERTY AVE., JERSEY CITY, NJ  07307</td>\n      <td>671 LIBERTY AVE. Jersey City NJ</td>\n      <td>1</td>\n      <td>1</td>\n      <td>671, Liberty Avenue, Jersey City, Hudson Count...</td>\n      <td>40.759549</td>\n      <td>-74.050584</td>\n      <td>[671 LIBERTY AVE.]</td>\n    </tr>\n    <tr>\n      <th>4</th>\n      <td>669 LIBERTY AVE.</td>\n      <td>MARTIN, BENIGNO &amp; CARIDAD</td>\n      <td>669 LIBERTY AVE.</td>\n      <td>JERSEY CITY, N.J.  07307</td>\n      <td>669 LIBERTY AVE., JERSEY CITY, N.J.  07307</td>\n      <td>669 LIBERTY AVE. Jersey City NJ</td>\n      <td>1</td>\n      <td>1</td>\n      <td>669, Liberty Avenue, Jersey City, Hudson Count...</td>\n      <td>40.759484</td>\n      <td>-74.050626</td>\n      <td>[669 LIBERTY AVE.]</td>\n    </tr>\n    <tr>\n      <th>...</th>\n      <td>...</td>\n      <td>...</td>\n      <td>...</td>\n      <td>...</td>\n      <td>...</td>\n      <td>...</td>\n      <td>...</td>\n      <td>...</td>\n      <td>...</td>\n      <td>...</td>\n      <td>...</td>\n      <td>...</td>\n    </tr>\n    <tr>\n      <th>40921</th>\n      <td>6 HAMPTON CT.</td>\n      <td>ST KILDA, LLC. C/O US PROPERTY FUND</td>\n      <td>200 HUDSON ST., STE 1000</td>\n      <td>JERSEY CITY, NJ  07311</td>\n      <td>200 HUDSON ST., STE 1000, JERSEY CITY, NJ  07311</td>\n      <td>6 HAMPTON CT., Jersey City, NJ</td>\n      <td>2</td>\n      <td>1</td>\n      <td>(6, Hampton Court, Chestnut Glen, Davisville, ...</td>\n      <td>39.799217</td>\n      <td>-75.049115</td>\n      <td>[346 ARMSTRONG AVE., 6 HAMPTON CT.]</td>\n    </tr>\n    <tr>\n      <th>40922</th>\n      <td>5 HAMPTON CT.</td>\n      <td>MELBOURNE, LLC.</td>\n      <td>140 BROADWAY, 28TH FL.</td>\n      <td>NEW YORK, NY  10005</td>\n      <td>140 BROADWAY, 28TH FL., NEW YORK, NY  10005</td>\n      <td>5 HAMPTON CT., Jersey City, NJ</td>\n      <td>18</td>\n      <td>1</td>\n      <td>(5, Hampton Court, Chestnut Glen, Davisville, ...</td>\n      <td>39.799247</td>\n      <td>-75.050097</td>\n      <td>[229 BOWERS ST., 40 MANHATTAN AVE., 132 PROSPE...</td>\n    </tr>\n    <tr>\n      <th>40923</th>\n      <td>4 HAMPTON CT.</td>\n      <td>DAVISON , JOYCE</td>\n      <td>4 HAMPTON CT. TERR.</td>\n      <td>JERSEY CITY, N.J.  07302</td>\n      <td>4 HAMPTON CT. TERR., JERSEY CITY, N.J.  07302</td>\n      <td>4 HAMPTON CT., Jersey City, NJ</td>\n      <td>1</td>\n      <td>1</td>\n      <td>(4, Hampton Court, Chestnut Glen, Davisville, ...</td>\n      <td>39.799012</td>\n      <td>-75.049027</td>\n      <td>[4 HAMPTON CT.]</td>\n    </tr>\n    <tr>\n      <th>40924</th>\n      <td>3 HAMPTON CT.</td>\n      <td>BUCK,ZACHARY C. &amp; DIANA Y.PERALES</td>\n      <td>30 S. KINGMAN RD</td>\n      <td>SOUTH ORANGE,  NJ  07079</td>\n      <td>30 S. KINGMAN RD, SOUTH ORANGE,  NJ  07079</td>\n      <td>3 HAMPTON CT., Jersey City, NJ</td>\n      <td>1</td>\n      <td>1</td>\n      <td>(3, Hampton Court, Chestnut Glen, Davisville, ...</td>\n      <td>39.799139</td>\n      <td>-75.049806</td>\n      <td>[3 HAMPTON CT.]</td>\n    </tr>\n    <tr>\n      <th>40925</th>\n      <td>2 HAMPTON CT.</td>\n      <td>NJ PENELOPE LLC.</td>\n      <td>140 BROADWAY,#28TH FL.</td>\n      <td>NEW YORK, NY  10005</td>\n      <td>140 BROADWAY,#28TH FL., NEW YORK, NY  10005</td>\n      <td>2 HAMPTON CT., Jersey City, NJ</td>\n      <td>24</td>\n      <td>1</td>\n      <td>(2, Hampton Court, Chestnut Glen, Davisville, ...</td>\n      <td>39.798753</td>\n      <td>-75.049050</td>\n      <td>[272 OGDEN AVE., 31 SHERMAN AVE., 123 WEBSTER ...</td>\n    </tr>\n  </tbody>\n</table>\n<p>42024 rows × 12 columns</p>\n</div>"
     },
     "metadata": {},
     "execution_count": 238
    }
   ],
   "source": [
    "df"
   ]
  },
  {
   "cell_type": "code",
   "execution_count": 233,
   "metadata": {},
   "outputs": [
    {
     "output_type": "execute_result",
     "data": {
      "text/plain": [
       "Location(253, 5th Street, Newport, Jersey City, Hudson County, New Jersey, 07302, United States, (40.72464033333333, -74.044917, 0.0))"
      ]
     },
     "metadata": {},
     "execution_count": 233
    }
   ],
   "source": [
    "geolocator.geocode('253.5 5TH ST, JERSEY CITY, NJ')"
   ]
  },
  {
   "cell_type": "code",
   "execution_count": 223,
   "metadata": {},
   "outputs": [],
   "source": [
    "df.drop(index=df[df.gCode.str.contains('Jersey City') == False].index, inplace=True)"
   ]
  },
  {
   "cell_type": "code",
   "execution_count": 225,
   "metadata": {},
   "outputs": [],
   "source": [
    "df.append(errors_df).to_pickle('jersey_city.pkl')"
   ]
  },
  {
   "cell_type": "code",
   "execution_count": 226,
   "metadata": {},
   "outputs": [],
   "source": [
    "df = pd.read_pickle('jersey_city.pkl')"
   ]
  },
  {
   "cell_type": "code",
   "execution_count": 230,
   "metadata": {},
   "outputs": [],
   "source": [
    "df.to_csv('jersey_city.csv', index=None)"
   ]
  }
 ]
}