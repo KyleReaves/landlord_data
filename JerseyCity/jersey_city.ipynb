{
 "metadata": {
  "orig_nbformat": 4,
  "kernelspec": {
   "name": "python3",
   "display_name": "Python 3.9.6",
   "language": "python"
  },
  "interpreter": {
   "hash": "ac2eaa0ea0ebeafcc7822e65e46aa9d4f966f30b695406963e145ea4a91cd4fc"
  }
 },
 "nbformat": 4,
 "nbformat_minor": 2,
 "cells": [
  {
   "source": [
    "## Cleaning and Normalization"
   ],
   "cell_type": "markdown",
   "metadata": {}
  },
  {
   "cell_type": "code",
   "execution_count": 12,
   "metadata": {},
   "outputs": [],
   "source": [
    "import pandas as pd \n",
    "import numpy as np\n",
    "from geopy.geocoders import Nominatim\n",
    "from geopy.extra.rate_limiter import RateLimiter\n",
    "geolocator = Nominatim(user_agent=\"myGeolocator\", timeout=2)\n",
    "# loading saved objects into dataframe\n",
    "#df = pd.read_pickle('JC_residential.pkl')\n",
    "#errors_df = pd.read_pickle('errors_df.pkl')\n",
    "\n",
    "#jc_deed_df = pd.read_csv('0906130957_deed.csv', index_col=False)\n",
    "\n",
    "df = pd.read_csv('0906monm220028.csv', usecols=['propertyLocation', 'ownersName', 'ownersMailingAddress', 'cityStateZip'])\n",
    "\n",
    "# number of times owner appears in second column\n",
    "def propertiesOwned(owner=str):\n",
    "    return len(df[df.ownersName == owner])\n",
    "\n",
    "# number of times property appears in first column\n",
    "def propertyAppearances(address=str): \n",
    "    return len(df[df.propertyLocation == address])\n",
    "\n",
    "df['ownersFullMailingAddress'] = df['ownersMailingAddress'] + ', ' + df.cityStateZip\n",
    "df['propertyFullAddress'] = df.propertyLocation + ' Jersey City NJ'\n"
   ]
  },
  {
   "cell_type": "code",
   "execution_count": 14,
   "metadata": {},
   "outputs": [
    {
     "output_type": "execute_result",
     "data": {
      "text/plain": [
       "          propertyLocation                           ownersName  \\\n",
       "0        1075 SECAUCUS RD.     20 AQUARIUM DR.,LLC%NAT'L RETAIL   \n",
       "1        1045 SECAUCUS RD.    PUBLIC SERVICE ELECTRIC & GAS CO.   \n",
       "2            SECAUCUS ROAD             UNITED STATES OF AMERICA   \n",
       "3      INSIDE SECAUCUS RD.  HOLLAND CO.C/O PUB.SER.GAS&ELEC.CO.   \n",
       "4              SECAUCUS RD             UNITED STATES OF AMERICA   \n",
       "...                    ...                                  ...   \n",
       "63829              VARIOUS         VERIZON-NJ C/O DUFF & PHELPS   \n",
       "63830              VARIOUS        TEXAS EASTERN TRANSMISSION,LP   \n",
       "63831              VARIOUS                          AIRBNB, INC   \n",
       "63832              VARIOUS       TRANSCONTINENTAL GAS PIPE LINE   \n",
       "63833         75 ROUTE 440                STATE OF NJ C/O JCMUA   \n",
       "\n",
       "            ownersMailingAddress                    cityStateZip  \\\n",
       "0              611 ROUTE 46 WEST  HASBROUCK HEIGHTS, N.J.  07604   \n",
       "1       80 PARK PL.TAX DEPT.T-6B             NEWARK, N.J.  07102   \n",
       "2         475 L'ENFANT PLAZA, SW          WASHINGTON, D C  20260   \n",
       "3      80 PARK PL.-TAX DEPT.T-6B             NEWARK, N.J.  07102   \n",
       "4         475 L'ENFANT PLAZA, SW          WASHINGTON, D C  20260   \n",
       "...                          ...                             ...   \n",
       "63829              P.O. BOX 2749              ADDISON, TX  75001   \n",
       "63830              P.O. BOX 2629              ADDISON, TX  75001   \n",
       "63831            888 BRANNAN ST.        SAN FRANCISCO, CA  94103   \n",
       "63832     P.O. BOX 2400, MD 46-4                TULSA, OK  74102   \n",
       "63833           13 E. LINDEN AVE          JERSEY CITY, NJ  07304   \n",
       "\n",
       "                                ownersFullMailingAddress  \\\n",
       "0      611 ROUTE 46 WEST, HASBROUCK HEIGHTS, N.J.  07604   \n",
       "1          80 PARK PL.TAX DEPT.T-6B, NEWARK, N.J.  07102   \n",
       "2         475 L'ENFANT PLAZA, SW, WASHINGTON, D C  20260   \n",
       "3         80 PARK PL.-TAX DEPT.T-6B, NEWARK, N.J.  07102   \n",
       "4         475 L'ENFANT PLAZA, SW, WASHINGTON, D C  20260   \n",
       "...                                                  ...   \n",
       "63829                  P.O. BOX 2749, ADDISON, TX  75001   \n",
       "63830                  P.O. BOX 2629, ADDISON, TX  75001   \n",
       "63831          888 BRANNAN ST., SAN FRANCISCO, CA  94103   \n",
       "63832           P.O. BOX 2400, MD 46-4, TULSA, OK  74102   \n",
       "63833           13 E. LINDEN AVE, JERSEY CITY, NJ  07304   \n",
       "\n",
       "                      propertyFullAddress  \n",
       "0        1075 SECAUCUS RD. Jersey City NJ  \n",
       "1        1045 SECAUCUS RD. Jersey City NJ  \n",
       "2            SECAUCUS ROAD Jersey City NJ  \n",
       "3      INSIDE SECAUCUS RD. Jersey City NJ  \n",
       "4              SECAUCUS RD Jersey City NJ  \n",
       "...                                   ...  \n",
       "63829              VARIOUS Jersey City NJ  \n",
       "63830              VARIOUS Jersey City NJ  \n",
       "63831              VARIOUS Jersey City NJ  \n",
       "63832              VARIOUS Jersey City NJ  \n",
       "63833         75 ROUTE 440 Jersey City NJ  \n",
       "\n",
       "[63834 rows x 6 columns]"
      ],
      "text/html": "<div>\n<style scoped>\n    .dataframe tbody tr th:only-of-type {\n        vertical-align: middle;\n    }\n\n    .dataframe tbody tr th {\n        vertical-align: top;\n    }\n\n    .dataframe thead th {\n        text-align: right;\n    }\n</style>\n<table border=\"1\" class=\"dataframe\">\n  <thead>\n    <tr style=\"text-align: right;\">\n      <th></th>\n      <th>propertyLocation</th>\n      <th>ownersName</th>\n      <th>ownersMailingAddress</th>\n      <th>cityStateZip</th>\n      <th>ownersFullMailingAddress</th>\n      <th>propertyFullAddress</th>\n    </tr>\n  </thead>\n  <tbody>\n    <tr>\n      <th>0</th>\n      <td>1075 SECAUCUS RD.</td>\n      <td>20 AQUARIUM DR.,LLC%NAT'L RETAIL</td>\n      <td>611 ROUTE 46 WEST</td>\n      <td>HASBROUCK HEIGHTS, N.J.  07604</td>\n      <td>611 ROUTE 46 WEST, HASBROUCK HEIGHTS, N.J.  07604</td>\n      <td>1075 SECAUCUS RD. Jersey City NJ</td>\n    </tr>\n    <tr>\n      <th>1</th>\n      <td>1045 SECAUCUS RD.</td>\n      <td>PUBLIC SERVICE ELECTRIC &amp; GAS CO.</td>\n      <td>80 PARK PL.TAX DEPT.T-6B</td>\n      <td>NEWARK, N.J.  07102</td>\n      <td>80 PARK PL.TAX DEPT.T-6B, NEWARK, N.J.  07102</td>\n      <td>1045 SECAUCUS RD. Jersey City NJ</td>\n    </tr>\n    <tr>\n      <th>2</th>\n      <td>SECAUCUS ROAD</td>\n      <td>UNITED STATES OF AMERICA</td>\n      <td>475 L'ENFANT PLAZA, SW</td>\n      <td>WASHINGTON, D C  20260</td>\n      <td>475 L'ENFANT PLAZA, SW, WASHINGTON, D C  20260</td>\n      <td>SECAUCUS ROAD Jersey City NJ</td>\n    </tr>\n    <tr>\n      <th>3</th>\n      <td>INSIDE SECAUCUS RD.</td>\n      <td>HOLLAND CO.C/O PUB.SER.GAS&amp;ELEC.CO.</td>\n      <td>80 PARK PL.-TAX DEPT.T-6B</td>\n      <td>NEWARK, N.J.  07102</td>\n      <td>80 PARK PL.-TAX DEPT.T-6B, NEWARK, N.J.  07102</td>\n      <td>INSIDE SECAUCUS RD. Jersey City NJ</td>\n    </tr>\n    <tr>\n      <th>4</th>\n      <td>SECAUCUS RD</td>\n      <td>UNITED STATES OF AMERICA</td>\n      <td>475 L'ENFANT PLAZA, SW</td>\n      <td>WASHINGTON, D C  20260</td>\n      <td>475 L'ENFANT PLAZA, SW, WASHINGTON, D C  20260</td>\n      <td>SECAUCUS RD Jersey City NJ</td>\n    </tr>\n    <tr>\n      <th>...</th>\n      <td>...</td>\n      <td>...</td>\n      <td>...</td>\n      <td>...</td>\n      <td>...</td>\n      <td>...</td>\n    </tr>\n    <tr>\n      <th>63829</th>\n      <td>VARIOUS</td>\n      <td>VERIZON-NJ C/O DUFF &amp; PHELPS</td>\n      <td>P.O. BOX 2749</td>\n      <td>ADDISON, TX  75001</td>\n      <td>P.O. BOX 2749, ADDISON, TX  75001</td>\n      <td>VARIOUS Jersey City NJ</td>\n    </tr>\n    <tr>\n      <th>63830</th>\n      <td>VARIOUS</td>\n      <td>TEXAS EASTERN TRANSMISSION,LP</td>\n      <td>P.O. BOX 2629</td>\n      <td>ADDISON, TX  75001</td>\n      <td>P.O. BOX 2629, ADDISON, TX  75001</td>\n      <td>VARIOUS Jersey City NJ</td>\n    </tr>\n    <tr>\n      <th>63831</th>\n      <td>VARIOUS</td>\n      <td>AIRBNB, INC</td>\n      <td>888 BRANNAN ST.</td>\n      <td>SAN FRANCISCO, CA  94103</td>\n      <td>888 BRANNAN ST., SAN FRANCISCO, CA  94103</td>\n      <td>VARIOUS Jersey City NJ</td>\n    </tr>\n    <tr>\n      <th>63832</th>\n      <td>VARIOUS</td>\n      <td>TRANSCONTINENTAL GAS PIPE LINE</td>\n      <td>P.O. BOX 2400, MD 46-4</td>\n      <td>TULSA, OK  74102</td>\n      <td>P.O. BOX 2400, MD 46-4, TULSA, OK  74102</td>\n      <td>VARIOUS Jersey City NJ</td>\n    </tr>\n    <tr>\n      <th>63833</th>\n      <td>75 ROUTE 440</td>\n      <td>STATE OF NJ C/O JCMUA</td>\n      <td>13 E. LINDEN AVE</td>\n      <td>JERSEY CITY, NJ  07304</td>\n      <td>13 E. LINDEN AVE, JERSEY CITY, NJ  07304</td>\n      <td>75 ROUTE 440 Jersey City NJ</td>\n    </tr>\n  </tbody>\n</table>\n<p>63834 rows × 6 columns</p>\n</div>"
     },
     "metadata": {},
     "execution_count": 14
    }
   ],
   "source": [
    "df"
   ]
  },
  {
   "cell_type": "code",
   "execution_count": 2,
   "metadata": {},
   "outputs": [],
   "source": [
    "geocode_errors = [i for i,e in enumerate(errors_df.gCode) if e == None]"
   ]
  },
  {
   "cell_type": "code",
   "execution_count": 3,
   "metadata": {},
   "outputs": [
    {
     "output_type": "execute_result",
     "data": {
      "text/plain": [
       "True"
      ]
     },
     "metadata": {},
     "execution_count": 3
    }
   ],
   "source": [
    "len(geocode_errors) == len(errors_df)"
   ]
  },
  {
   "cell_type": "code",
   "execution_count": 4,
   "metadata": {},
   "outputs": [
    {
     "output_type": "execute_result",
     "data": {
      "text/plain": [
       "             propertyLocation                         ownersName  \\\n",
       "2529              78A RNE ST.     MITTAL,CHITRA KOTHARI & DEEPAK   \n",
       "19294         10 PAULMIER PL.   DOWLING, JAMES PATRICK & TOBY K.   \n",
       "19691  280 GREGORY PARK PLAZA  METROPOLIS TOWERS APT. CORP. MGT.   \n",
       "19692  270 GREGORY PARK PLAZA  METROPOLIS TOWERS APT. CORP. MGT.   \n",
       "32583        32 WILKINSON ST.                 HARIKRISHAN, HARRY   \n",
       "38254      107 SHEARWATER CT.  SANTANIELLO III, PHILLIP & CLAIRE   \n",
       "\n",
       "         ownersMailingAddress              cityStateZip  \\\n",
       "2529      76 CONSTITUTION WAY  JERSEY CITY, N.J.  07302   \n",
       "19294          10 PAULMIER PL   JERSEY CITY, N J  07302   \n",
       "19691  280 GREGORY PARK PLAZA    JERSEY CITY, NJ  07302   \n",
       "19692  270 GREGORY PARK PLAZA    JERSEY CITY, NJ  07302   \n",
       "32583         23 TERHUNE AVE.    JERSEY CITY, NJ  07305   \n",
       "38254      107 SHEARWATER CT.    JERSEY CITY, NJ  07305   \n",
       "\n",
       "                             ownersFullMailingAddress  \\\n",
       "2529    76 CONSTITUTION WAY, JERSEY CITY, N.J.  07302   \n",
       "19294         10 PAULMIER PL, JERSEY CITY, N J  07302   \n",
       "19691  280 GREGORY PARK PLAZA, JERSEY CITY, NJ  07302   \n",
       "19692  270 GREGORY PARK PLAZA, JERSEY CITY, NJ  07302   \n",
       "32583         23 TERHUNE AVE., JERSEY CITY, NJ  07305   \n",
       "38254      107 SHEARWATER CT., JERSEY CITY, NJ  07305   \n",
       "\n",
       "                          propertyFullAddress  propertiesOwned  units gCode  \n",
       "2529              78A RNE ST. Jersey City, NJ                1      1  None  \n",
       "19294         10 PAULMIER PL. Jersey City, NJ                1      1  None  \n",
       "19691  280 GREGORY PARK PLAZA Jersey City, NJ                2      1  None  \n",
       "19692  270 GREGORY PARK PLAZA Jersey City, NJ                2      1  None  \n",
       "32583        32 WILKINSON ST. Jersey City, NJ                1      1  None  \n",
       "38254      107 SHEARWATER CT. Jersey City, NJ                1      1  None  "
      ],
      "text/html": "<div>\n<style scoped>\n    .dataframe tbody tr th:only-of-type {\n        vertical-align: middle;\n    }\n\n    .dataframe tbody tr th {\n        vertical-align: top;\n    }\n\n    .dataframe thead th {\n        text-align: right;\n    }\n</style>\n<table border=\"1\" class=\"dataframe\">\n  <thead>\n    <tr style=\"text-align: right;\">\n      <th></th>\n      <th>propertyLocation</th>\n      <th>ownersName</th>\n      <th>ownersMailingAddress</th>\n      <th>cityStateZip</th>\n      <th>ownersFullMailingAddress</th>\n      <th>propertyFullAddress</th>\n      <th>propertiesOwned</th>\n      <th>units</th>\n      <th>gCode</th>\n    </tr>\n  </thead>\n  <tbody>\n    <tr>\n      <th>2529</th>\n      <td>78A RNE ST.</td>\n      <td>MITTAL,CHITRA KOTHARI &amp; DEEPAK</td>\n      <td>76 CONSTITUTION WAY</td>\n      <td>JERSEY CITY, N.J.  07302</td>\n      <td>76 CONSTITUTION WAY, JERSEY CITY, N.J.  07302</td>\n      <td>78A RNE ST. Jersey City, NJ</td>\n      <td>1</td>\n      <td>1</td>\n      <td>None</td>\n    </tr>\n    <tr>\n      <th>19294</th>\n      <td>10 PAULMIER PL.</td>\n      <td>DOWLING, JAMES PATRICK &amp; TOBY K.</td>\n      <td>10 PAULMIER PL</td>\n      <td>JERSEY CITY, N J  07302</td>\n      <td>10 PAULMIER PL, JERSEY CITY, N J  07302</td>\n      <td>10 PAULMIER PL. Jersey City, NJ</td>\n      <td>1</td>\n      <td>1</td>\n      <td>None</td>\n    </tr>\n    <tr>\n      <th>19691</th>\n      <td>280 GREGORY PARK PLAZA</td>\n      <td>METROPOLIS TOWERS APT. CORP. MGT.</td>\n      <td>280 GREGORY PARK PLAZA</td>\n      <td>JERSEY CITY, NJ  07302</td>\n      <td>280 GREGORY PARK PLAZA, JERSEY CITY, NJ  07302</td>\n      <td>280 GREGORY PARK PLAZA Jersey City, NJ</td>\n      <td>2</td>\n      <td>1</td>\n      <td>None</td>\n    </tr>\n    <tr>\n      <th>19692</th>\n      <td>270 GREGORY PARK PLAZA</td>\n      <td>METROPOLIS TOWERS APT. CORP. MGT.</td>\n      <td>270 GREGORY PARK PLAZA</td>\n      <td>JERSEY CITY, NJ  07302</td>\n      <td>270 GREGORY PARK PLAZA, JERSEY CITY, NJ  07302</td>\n      <td>270 GREGORY PARK PLAZA Jersey City, NJ</td>\n      <td>2</td>\n      <td>1</td>\n      <td>None</td>\n    </tr>\n    <tr>\n      <th>32583</th>\n      <td>32 WILKINSON ST.</td>\n      <td>HARIKRISHAN, HARRY</td>\n      <td>23 TERHUNE AVE.</td>\n      <td>JERSEY CITY, NJ  07305</td>\n      <td>23 TERHUNE AVE., JERSEY CITY, NJ  07305</td>\n      <td>32 WILKINSON ST. Jersey City, NJ</td>\n      <td>1</td>\n      <td>1</td>\n      <td>None</td>\n    </tr>\n    <tr>\n      <th>38254</th>\n      <td>107 SHEARWATER CT.</td>\n      <td>SANTANIELLO III, PHILLIP &amp; CLAIRE</td>\n      <td>107 SHEARWATER CT.</td>\n      <td>JERSEY CITY, NJ  07305</td>\n      <td>107 SHEARWATER CT., JERSEY CITY, NJ  07305</td>\n      <td>107 SHEARWATER CT. Jersey City, NJ</td>\n      <td>1</td>\n      <td>1</td>\n      <td>None</td>\n    </tr>\n  </tbody>\n</table>\n</div>"
     },
     "metadata": {},
     "execution_count": 4
    }
   ],
   "source": [
    "errors_df.iloc[geocode_errors]"
   ]
  },
  {
   "cell_type": "code",
   "execution_count": 30,
   "metadata": {},
   "outputs": [
    {
     "output_type": "stream",
     "name": "stderr",
     "text": [
      "/var/folders/jn/0t9fgm4d05bdfp70phhgc1sr0000gn/T/ipykernel_1440/1358142991.py:69: FutureWarning: The default value of regex will change from True to False in a future version.\n  errors_df.propertyLocation = errors_df.propertyLocation.str.replace('78A RNE ST.', '78 THORNE ST.')\n"
     ]
    }
   ],
   "source": [
    "# errors_df.propertyLocation = errors_df.propertyLocation.str.replace('TONNELE', 'TONNELLE')\n",
    "# errors_df.propertyLocation = errors_df.propertyLocation.str.replace('MC ADOO', 'MCADOO')\n",
    "# errors_df.propertyLocation = errors_df.propertyLocation.str.replace('M.L. KING DRIVE', 'MARTIN LUTHER KING DRIVE')\n",
    "# errors_df.propertyLocation = errors_df.propertyLocation.str.replace('COLUMBUS', 'CHRISTOPHER COLUMBUS')\n",
    "# errors_df.propertyLocation = errors_df.propertyLocation.str.replace('FIRST', '1st')\n",
    "# errors_df.propertyLocation = errors_df.propertyLocation.str.replace('SECOND', '2nd')\n",
    "# errors_df.propertyLocation = errors_df.propertyLocation.str.replace('THIRD', '3rd')\n",
    "# errors_df.propertyLocation = errors_df.propertyLocation.str.replace('FOURTH', '4th')\n",
    "# errors_df.propertyLocation = errors_df.propertyLocation.str.replace('FIFTH', '5th')\n",
    "# errors_df.propertyLocation = errors_df.propertyLocation.str.replace('SIXTH', '6th')\n",
    "# errors_df.propertyLocation = errors_df.propertyLocation.str.replace('SEVENTH', '7th')\n",
    "# errors_df.propertyLocation = errors_df.propertyLocation.str.replace('EIGHTH', '8th')\n",
    "# errors_df.propertyLocation = errors_df.propertyLocation.str.replace('NINETH', '9th')\n",
    "# errors_df.propertyLocation = errors_df.propertyLocation.str.replace('TENTH', '10th')\n",
    "# errors_df.propertyLocation = errors_df.propertyLocation.str.replace('NINTH', '9th')\n",
    "# errors_df.propertyLocation = errors_df.propertyLocation.str.replace('FIFTEENTH', '15th')\n",
    "# errors_df.propertyLocation = errors_df.propertyLocation.str.replace('SIXTEENTH', '16th')\n",
    "# errors_df.propertyLocation = errors_df.propertyLocation.str.replace('MC DOUGALL', 'MCDOUGALL')\n",
    "# errors_df.propertyLocation = errors_df.propertyLocation.str.replace('CARPENTIER', 'CARPENTER')\n",
    "# errors_df.propertyLocation = errors_df.propertyLocation.str.replace('FOX HOUND', 'FOXHOUND')\n",
    "# errors_df.propertyLocation = errors_df.propertyLocation.str.replace('SIEDLER', 'SEIDLER')\n",
    "# errors_df.propertyLocation = errors_df.propertyLocation.str.replace('LIENAU', 'LINEAU')\n",
    "# errors_df.propertyLocation = errors_df.propertyLocation.str.replace('KENNEDY', 'JOHN F KENNEDY')\n",
    "# errors_df.propertyLocation = errors_df.propertyLocation.str.replace('LIBERTY ST.', 'LIBERTY AVE.')\n",
    "# errors_df.propertyLocation = errors_df.propertyLocation.str.replace('-REAR', '')\n",
    "# errors_df.propertyLocation = errors_df.propertyLocation.str.replace('(REAR)', '')\n",
    "# errors_df.propertyLocation = errors_df.propertyLocation.str.replace('-FRONT', '')\n",
    "# errors_df.propertyLocation = errors_df.propertyLocation.str.replace('HAMPTON CT.', 'HAMPTON COURT')\n",
    "# errors_df.propertyLocation = errors_df.propertyLocation.str.replace('VARCK', 'VARICK')\n",
    "# errors_df.propertyLocation = errors_df.propertyLocation.str.replace('THO', '')\n",
    "# errors_df.propertyLocation = errors_df.propertyLocation.str.replace('AVE AVE', 'AVE')\n",
    "# errors_df.propertyLocation = errors_df.propertyLocation.str.replace('TER', 'TR')\n",
    "# errors_df.propertyLocation = errors_df.propertyLocation.str.replace('3633A', '3633')\n",
    "# errors_df.propertyLocation = errors_df.propertyLocation.str.replace('3144A', '3144')\n",
    "# errors_df.propertyLocation = errors_df.propertyLocation.str.replace('SHEARWATR', 'SHEARWATER')\n",
    "# errors_df.propertyLocation = errors_df.propertyLocation.str.replace('PALUSL', \"PAUL'S\")\n",
    "# errors_df.propertyLocation = errors_df.propertyLocation.str.replace('COURT TR', \"CT\")\n",
    "# errors_df.propertyLocation = errors_df.propertyLocation.str.replace('EASTVIEW', \"E VIEW\")\n",
    "# errors_df.propertyLocation = errors_df.propertyLocation.str.replace('M.L. KING DR.', 'MARTIN LUTHER KING DR.')\n",
    "# errors_df.propertyLocation = errors_df.propertyLocation.str.replace(' 1ST FL.', '')\n",
    "# errors_df.propertyLocation = errors_df.propertyLocation.str.replace(' SO.', '')\n",
    "# errors_df.propertyLocation = errors_df.propertyLocation.str.replace(' N.', '')\n",
    "# errors_df.propertyLocation = errors_df.propertyLocation.str.replace('ODGEN', 'OGDEN')\n",
    "# errors_df.propertyLocation = errors_df.propertyLocation.str.replace('PATRSON', 'PATERSON')\n",
    "# errors_df.propertyLocation = errors_df.propertyLocation.str.replace(' 61 COLES', '')\n",
    "# errors_df.propertyLocation = errors_df.propertyLocation.str.replace('VAN HOUTEN ST.', 'VAN HOUTEN AVE.')\n",
    "# errors_df.propertyLocation = errors_df.propertyLocation.str.replace('MC PHERSON ST.', 'MCPHERSON PL.')\n",
    "# errors_df.propertyLocation = errors_df.propertyLocation.str.replace('MC PHERSON', 'MCPHERSON')\n",
    "# errors_df.propertyLocation = errors_df.propertyLocation.str.replace('FIR ROAD', 'FIR ST.')\n",
    "# errors_df.propertyLocation = errors_df.propertyLocation.str.replace('UNION AVE.', 'UNION ST.')\n",
    "# errors_df.propertyLocation = errors_df.propertyLocation.str.replace('OLD BERGEN', 'OLD BERGEN AVE.')\n",
    "# errors_df.propertyLocation = errors_df.propertyLocation.str.replace('AVE. AVE.', 'AVE.')\n",
    "# errors_df.propertyLocation = errors_df.propertyLocation.str.replace('JACKSON AVE.', 'JACKSON ST.')\n",
    "# errors_df.propertyLocation = errors_df.propertyLocation.str.replace('162 OLD BERGEN AVE. AVE.', '162 OLD BERGEN AVE.')\n",
    "# errors_df.propertyLocation = errors_df.propertyLocation.str.replace('GLEN', 'GLENN')\n",
    "# errors_df.propertyLocation = errors_df.propertyLocation.str.replace('GLENNN', 'GLENN')\n",
    "# errors_df.propertyLocation = errors_df.propertyLocation.str.replace('DR.VE', 'DRIVE')\n",
    "# errors_df.propertyLocation = errors_df.propertyLocation.str.replace('1 GLENNN LANE', '1 GLENN LANE')\n",
    "# errors_df.propertyLocation = errors_df.propertyLocation.str.replace(r'\\(\\)', '')\n",
    "# errors_df.propertyLocation = errors_df.propertyLocation.str.replace(r'-\\d{2,}(.?\\d{1}(A)?)?A?\\b', '')\n",
    "# errors_df.propertyLocation = errors_df.propertyLocation.str.replace(r'-\\d{2,}', '')\n",
    "# errors_df.propertyLocation = errors_df.propertyLocation.str.replace(r'\\s#\\d', '')\n",
    "\n",
    "\n",
    "# errors_df.propertyLocation = errors_df.propertyLocation.str.replace('BUTTRNUT', 'BUTTERNUT')\n",
    "# errors_df.propertyLocation = errors_df.propertyLocation.str.replace('CARPENTR', 'CARPENTER')\n",
    "# errors_df.propertyLocation = errors_df.propertyLocation.str.replace('100 SHEARWATER CT.', '100 EAST SHEARWATER CT.')\n",
    "\n",
    "errors_df.propertyLocation = errors_df.propertyLocation.str.replace('78A RNE ST.', '78 THORNE ST.')\n",
    "\n",
    "#overwriting past mistakes\n",
    "errors_df.propertyFullAddress = errors_df.propertyLocation + ' Jersey City, NJ'"
   ]
  },
  {
   "cell_type": "code",
   "execution_count": 31,
   "metadata": {},
   "outputs": [
    {
     "output_type": "stream",
     "name": "stdout",
     "text": [
      "CPU times: user 21.6 ms, sys: 3.5 ms, total: 25.1 ms\nWall time: 2.91 s\n"
     ]
    }
   ],
   "source": [
    "%%time\n",
    "errors_df['gCode'] = errors_df.propertyFullAddress.apply(geolocator.geocode)"
   ]
  },
  {
   "cell_type": "code",
   "execution_count": 32,
   "metadata": {},
   "outputs": [],
   "source": [
    "geocode_errors = [i for i,e in enumerate(errors_df.gCode) if e == None]"
   ]
  },
  {
   "cell_type": "code",
   "execution_count": 33,
   "metadata": {},
   "outputs": [
    {
     "output_type": "execute_result",
     "data": {
      "text/plain": [
       "array(['10 PAULMIER PL.', '280 GREGORY PARK PLAZA',\n",
       "       '270 GREGORY PARK PLAZA', '32 WILKINSON ST.', '107 SHEARWATER CT.'],\n",
       "      dtype=object)"
      ]
     },
     "metadata": {},
     "execution_count": 33
    }
   ],
   "source": [
    "errors_df.iloc[geocode_errors].propertyLocation.unique()"
   ]
  },
  {
   "cell_type": "code",
   "execution_count": 34,
   "metadata": {},
   "outputs": [
    {
     "output_type": "execute_result",
     "data": {
      "text/plain": [
       "5"
      ]
     },
     "metadata": {},
     "execution_count": 34
    }
   ],
   "source": [
    "len(errors_df.iloc[geocode_errors].propertyLocation.unique())"
   ]
  },
  {
   "source": [
    "### Before we save the smaller errors data frame, we need to append the cleaned errors to the original df"
   ],
   "cell_type": "markdown",
   "metadata": {}
  },
  {
   "cell_type": "code",
   "execution_count": 35,
   "metadata": {},
   "outputs": [],
   "source": [
    "df.append(errors_df.dropna(axis=0, subset=['gCode'])).to_pickle('JC_residential.pkl')"
   ]
  },
  {
   "cell_type": "code",
   "execution_count": 36,
   "metadata": {},
   "outputs": [],
   "source": [
    "geocode_errors = [i for i,e in enumerate(errors_df.gCode) if e == None]"
   ]
  },
  {
   "cell_type": "code",
   "execution_count": 37,
   "metadata": {},
   "outputs": [
    {
     "output_type": "execute_result",
     "data": {
      "text/plain": [
       "             propertyLocation                         ownersName  \\\n",
       "19294         10 PAULMIER PL.   DOWLING, JAMES PATRICK & TOBY K.   \n",
       "19691  280 GREGORY PARK PLAZA  METROPOLIS TOWERS APT. CORP. MGT.   \n",
       "19692  270 GREGORY PARK PLAZA  METROPOLIS TOWERS APT. CORP. MGT.   \n",
       "32583        32 WILKINSON ST.                 HARIKRISHAN, HARRY   \n",
       "38254      107 SHEARWATER CT.  SANTANIELLO III, PHILLIP & CLAIRE   \n",
       "\n",
       "         ownersMailingAddress             cityStateZip  \\\n",
       "19294          10 PAULMIER PL  JERSEY CITY, N J  07302   \n",
       "19691  280 GREGORY PARK PLAZA   JERSEY CITY, NJ  07302   \n",
       "19692  270 GREGORY PARK PLAZA   JERSEY CITY, NJ  07302   \n",
       "32583         23 TERHUNE AVE.   JERSEY CITY, NJ  07305   \n",
       "38254      107 SHEARWATER CT.   JERSEY CITY, NJ  07305   \n",
       "\n",
       "                             ownersFullMailingAddress  \\\n",
       "19294         10 PAULMIER PL, JERSEY CITY, N J  07302   \n",
       "19691  280 GREGORY PARK PLAZA, JERSEY CITY, NJ  07302   \n",
       "19692  270 GREGORY PARK PLAZA, JERSEY CITY, NJ  07302   \n",
       "32583         23 TERHUNE AVE., JERSEY CITY, NJ  07305   \n",
       "38254      107 SHEARWATER CT., JERSEY CITY, NJ  07305   \n",
       "\n",
       "                          propertyFullAddress  propertiesOwned  units gCode  \n",
       "19294         10 PAULMIER PL. Jersey City, NJ                1      1  None  \n",
       "19691  280 GREGORY PARK PLAZA Jersey City, NJ                2      1  None  \n",
       "19692  270 GREGORY PARK PLAZA Jersey City, NJ                2      1  None  \n",
       "32583        32 WILKINSON ST. Jersey City, NJ                1      1  None  \n",
       "38254      107 SHEARWATER CT. Jersey City, NJ                1      1  None  "
      ],
      "text/html": "<div>\n<style scoped>\n    .dataframe tbody tr th:only-of-type {\n        vertical-align: middle;\n    }\n\n    .dataframe tbody tr th {\n        vertical-align: top;\n    }\n\n    .dataframe thead th {\n        text-align: right;\n    }\n</style>\n<table border=\"1\" class=\"dataframe\">\n  <thead>\n    <tr style=\"text-align: right;\">\n      <th></th>\n      <th>propertyLocation</th>\n      <th>ownersName</th>\n      <th>ownersMailingAddress</th>\n      <th>cityStateZip</th>\n      <th>ownersFullMailingAddress</th>\n      <th>propertyFullAddress</th>\n      <th>propertiesOwned</th>\n      <th>units</th>\n      <th>gCode</th>\n    </tr>\n  </thead>\n  <tbody>\n    <tr>\n      <th>19294</th>\n      <td>10 PAULMIER PL.</td>\n      <td>DOWLING, JAMES PATRICK &amp; TOBY K.</td>\n      <td>10 PAULMIER PL</td>\n      <td>JERSEY CITY, N J  07302</td>\n      <td>10 PAULMIER PL, JERSEY CITY, N J  07302</td>\n      <td>10 PAULMIER PL. Jersey City, NJ</td>\n      <td>1</td>\n      <td>1</td>\n      <td>None</td>\n    </tr>\n    <tr>\n      <th>19691</th>\n      <td>280 GREGORY PARK PLAZA</td>\n      <td>METROPOLIS TOWERS APT. CORP. MGT.</td>\n      <td>280 GREGORY PARK PLAZA</td>\n      <td>JERSEY CITY, NJ  07302</td>\n      <td>280 GREGORY PARK PLAZA, JERSEY CITY, NJ  07302</td>\n      <td>280 GREGORY PARK PLAZA Jersey City, NJ</td>\n      <td>2</td>\n      <td>1</td>\n      <td>None</td>\n    </tr>\n    <tr>\n      <th>19692</th>\n      <td>270 GREGORY PARK PLAZA</td>\n      <td>METROPOLIS TOWERS APT. CORP. MGT.</td>\n      <td>270 GREGORY PARK PLAZA</td>\n      <td>JERSEY CITY, NJ  07302</td>\n      <td>270 GREGORY PARK PLAZA, JERSEY CITY, NJ  07302</td>\n      <td>270 GREGORY PARK PLAZA Jersey City, NJ</td>\n      <td>2</td>\n      <td>1</td>\n      <td>None</td>\n    </tr>\n    <tr>\n      <th>32583</th>\n      <td>32 WILKINSON ST.</td>\n      <td>HARIKRISHAN, HARRY</td>\n      <td>23 TERHUNE AVE.</td>\n      <td>JERSEY CITY, NJ  07305</td>\n      <td>23 TERHUNE AVE., JERSEY CITY, NJ  07305</td>\n      <td>32 WILKINSON ST. Jersey City, NJ</td>\n      <td>1</td>\n      <td>1</td>\n      <td>None</td>\n    </tr>\n    <tr>\n      <th>38254</th>\n      <td>107 SHEARWATER CT.</td>\n      <td>SANTANIELLO III, PHILLIP &amp; CLAIRE</td>\n      <td>107 SHEARWATER CT.</td>\n      <td>JERSEY CITY, NJ  07305</td>\n      <td>107 SHEARWATER CT., JERSEY CITY, NJ  07305</td>\n      <td>107 SHEARWATER CT. Jersey City, NJ</td>\n      <td>1</td>\n      <td>1</td>\n      <td>None</td>\n    </tr>\n  </tbody>\n</table>\n</div>"
     },
     "metadata": {},
     "execution_count": 37
    }
   ],
   "source": [
    "errors_df.iloc[geocode_errors]"
   ]
  },
  {
   "cell_type": "code",
   "execution_count": 38,
   "metadata": {},
   "outputs": [],
   "source": [
    "# reassigning the errors_df to the remaining errors\n",
    "errors_df = errors_df.iloc[geocode_errors].copy()"
   ]
  },
  {
   "cell_type": "code",
   "execution_count": 39,
   "metadata": {},
   "outputs": [
    {
     "output_type": "execute_result",
     "data": {
      "text/plain": [
       "             propertyLocation                         ownersName  \\\n",
       "19294         10 PAULMIER PL.   DOWLING, JAMES PATRICK & TOBY K.   \n",
       "19691  280 GREGORY PARK PLAZA  METROPOLIS TOWERS APT. CORP. MGT.   \n",
       "19692  270 GREGORY PARK PLAZA  METROPOLIS TOWERS APT. CORP. MGT.   \n",
       "32583        32 WILKINSON ST.                 HARIKRISHAN, HARRY   \n",
       "38254      107 SHEARWATER CT.  SANTANIELLO III, PHILLIP & CLAIRE   \n",
       "\n",
       "         ownersMailingAddress             cityStateZip  \\\n",
       "19294          10 PAULMIER PL  JERSEY CITY, N J  07302   \n",
       "19691  280 GREGORY PARK PLAZA   JERSEY CITY, NJ  07302   \n",
       "19692  270 GREGORY PARK PLAZA   JERSEY CITY, NJ  07302   \n",
       "32583         23 TERHUNE AVE.   JERSEY CITY, NJ  07305   \n",
       "38254      107 SHEARWATER CT.   JERSEY CITY, NJ  07305   \n",
       "\n",
       "                             ownersFullMailingAddress  \\\n",
       "19294         10 PAULMIER PL, JERSEY CITY, N J  07302   \n",
       "19691  280 GREGORY PARK PLAZA, JERSEY CITY, NJ  07302   \n",
       "19692  270 GREGORY PARK PLAZA, JERSEY CITY, NJ  07302   \n",
       "32583         23 TERHUNE AVE., JERSEY CITY, NJ  07305   \n",
       "38254      107 SHEARWATER CT., JERSEY CITY, NJ  07305   \n",
       "\n",
       "                          propertyFullAddress  propertiesOwned  units gCode  \n",
       "19294         10 PAULMIER PL. Jersey City, NJ                1      1  None  \n",
       "19691  280 GREGORY PARK PLAZA Jersey City, NJ                2      1  None  \n",
       "19692  270 GREGORY PARK PLAZA Jersey City, NJ                2      1  None  \n",
       "32583        32 WILKINSON ST. Jersey City, NJ                1      1  None  \n",
       "38254      107 SHEARWATER CT. Jersey City, NJ                1      1  None  "
      ],
      "text/html": "<div>\n<style scoped>\n    .dataframe tbody tr th:only-of-type {\n        vertical-align: middle;\n    }\n\n    .dataframe tbody tr th {\n        vertical-align: top;\n    }\n\n    .dataframe thead th {\n        text-align: right;\n    }\n</style>\n<table border=\"1\" class=\"dataframe\">\n  <thead>\n    <tr style=\"text-align: right;\">\n      <th></th>\n      <th>propertyLocation</th>\n      <th>ownersName</th>\n      <th>ownersMailingAddress</th>\n      <th>cityStateZip</th>\n      <th>ownersFullMailingAddress</th>\n      <th>propertyFullAddress</th>\n      <th>propertiesOwned</th>\n      <th>units</th>\n      <th>gCode</th>\n    </tr>\n  </thead>\n  <tbody>\n    <tr>\n      <th>19294</th>\n      <td>10 PAULMIER PL.</td>\n      <td>DOWLING, JAMES PATRICK &amp; TOBY K.</td>\n      <td>10 PAULMIER PL</td>\n      <td>JERSEY CITY, N J  07302</td>\n      <td>10 PAULMIER PL, JERSEY CITY, N J  07302</td>\n      <td>10 PAULMIER PL. Jersey City, NJ</td>\n      <td>1</td>\n      <td>1</td>\n      <td>None</td>\n    </tr>\n    <tr>\n      <th>19691</th>\n      <td>280 GREGORY PARK PLAZA</td>\n      <td>METROPOLIS TOWERS APT. CORP. MGT.</td>\n      <td>280 GREGORY PARK PLAZA</td>\n      <td>JERSEY CITY, NJ  07302</td>\n      <td>280 GREGORY PARK PLAZA, JERSEY CITY, NJ  07302</td>\n      <td>280 GREGORY PARK PLAZA Jersey City, NJ</td>\n      <td>2</td>\n      <td>1</td>\n      <td>None</td>\n    </tr>\n    <tr>\n      <th>19692</th>\n      <td>270 GREGORY PARK PLAZA</td>\n      <td>METROPOLIS TOWERS APT. CORP. MGT.</td>\n      <td>270 GREGORY PARK PLAZA</td>\n      <td>JERSEY CITY, NJ  07302</td>\n      <td>270 GREGORY PARK PLAZA, JERSEY CITY, NJ  07302</td>\n      <td>270 GREGORY PARK PLAZA Jersey City, NJ</td>\n      <td>2</td>\n      <td>1</td>\n      <td>None</td>\n    </tr>\n    <tr>\n      <th>32583</th>\n      <td>32 WILKINSON ST.</td>\n      <td>HARIKRISHAN, HARRY</td>\n      <td>23 TERHUNE AVE.</td>\n      <td>JERSEY CITY, NJ  07305</td>\n      <td>23 TERHUNE AVE., JERSEY CITY, NJ  07305</td>\n      <td>32 WILKINSON ST. Jersey City, NJ</td>\n      <td>1</td>\n      <td>1</td>\n      <td>None</td>\n    </tr>\n    <tr>\n      <th>38254</th>\n      <td>107 SHEARWATER CT.</td>\n      <td>SANTANIELLO III, PHILLIP &amp; CLAIRE</td>\n      <td>107 SHEARWATER CT.</td>\n      <td>JERSEY CITY, NJ  07305</td>\n      <td>107 SHEARWATER CT., JERSEY CITY, NJ  07305</td>\n      <td>107 SHEARWATER CT. Jersey City, NJ</td>\n      <td>1</td>\n      <td>1</td>\n      <td>None</td>\n    </tr>\n  </tbody>\n</table>\n</div>"
     },
     "metadata": {},
     "execution_count": 39
    }
   ],
   "source": [
    "errors_df"
   ]
  },
  {
   "cell_type": "code",
   "execution_count": 40,
   "metadata": {},
   "outputs": [],
   "source": [
    "errors_df.to_pickle('errors_df.pkl')"
   ]
  },
  {
   "cell_type": "code",
   "execution_count": 41,
   "metadata": {},
   "outputs": [
    {
     "output_type": "execute_result",
     "data": {
      "text/plain": [
       "              propertyLocation                          ownersName  \\\n",
       "0             677 LIBERTY AVE.                      PEDDI, PRADEEP   \n",
       "1             675 LIBERTY AVE.        PAREJA, HENRY A. & MIRYAM C.   \n",
       "2             673 LIBERTY AVE.                     HIRPARA, PRAVIN   \n",
       "3             671 LIBERTY AVE.                        SINGH, HONEY   \n",
       "4             669 LIBERTY AVE.           MARTIN, BENIGNO & CARIDAD   \n",
       "...                        ...                                 ...   \n",
       "38273  100 EAST SHEARWATER CT.           BALANLAYOS, JESUS & MYRNA   \n",
       "38276  100 EAST SHEARWATER CT.  DANGCIL, PROCERFINA & WILLIAM A JR   \n",
       "38278  100 EAST SHEARWATER CT.                  LAWSONS REALTY,LLC   \n",
       "38279  100 EAST SHEARWATER CT.                    NATHAN, NAVIN D.   \n",
       "38280  100 EAST SHEARWATER CT.               HORAN, CHRISTOPHER L.   \n",
       "\n",
       "          ownersMailingAddress                cityStateZip  \\\n",
       "0             677 LIBERTY AVE.    JERSEY CITY, N.J.  07307   \n",
       "1             675 LIBERTY AVE.    JERSEY CITY, N.J.  07307   \n",
       "2             673 LIBERTY AVE.      JERSEY CITY, NJ  07307   \n",
       "3             671 LIBERTY AVE.      JERSEY CITY, NJ  07307   \n",
       "4             669 LIBERTY AVE.    JERSEY CITY, N.J.  07307   \n",
       "...                        ...                         ...   \n",
       "38273           31 HARMONY WAY          SEWAREN, NJ  07077   \n",
       "38276  100-51 E SHEARWATER CT.      JERSEY CITY, NJ  07305   \n",
       "38278        130 SHORE RD #198  PORT WASHINGTON, NY  11050   \n",
       "38279    100-54 SHEARWATER CT.      JERSEY CITY, NJ  07305   \n",
       "38280    100-55 SHEARWATER CT.    JERSEY CITY, N.J.  07305   \n",
       "\n",
       "                              ownersFullMailingAddress  \\\n",
       "0           677 LIBERTY AVE., JERSEY CITY, N.J.  07307   \n",
       "1           675 LIBERTY AVE., JERSEY CITY, N.J.  07307   \n",
       "2             673 LIBERTY AVE., JERSEY CITY, NJ  07307   \n",
       "3             671 LIBERTY AVE., JERSEY CITY, NJ  07307   \n",
       "4           669 LIBERTY AVE., JERSEY CITY, N.J.  07307   \n",
       "...                                                ...   \n",
       "38273               31 HARMONY WAY, SEWAREN, NJ  07077   \n",
       "38276  100-51 E SHEARWATER CT., JERSEY CITY, NJ  07305   \n",
       "38278    130 SHORE RD #198, PORT WASHINGTON, NY  11050   \n",
       "38279    100-54 SHEARWATER CT., JERSEY CITY, NJ  07305   \n",
       "38280  100-55 SHEARWATER CT., JERSEY CITY, N.J.  07305   \n",
       "\n",
       "                           propertyFullAddress  propertiesOwned  units  \\\n",
       "0             677 LIBERTY AVE. Jersey City, NJ                1      1   \n",
       "1             675 LIBERTY AVE. Jersey City, NJ                1      1   \n",
       "2             673 LIBERTY AVE. Jersey City, NJ                1      1   \n",
       "3             671 LIBERTY AVE. Jersey City, NJ                1      1   \n",
       "4             669 LIBERTY AVE. Jersey City, NJ                1      1   \n",
       "...                                        ...              ...    ...   \n",
       "38273  100 EAST SHEARWATER CT. Jersey City, NJ                1      1   \n",
       "38276  100 EAST SHEARWATER CT. Jersey City, NJ                1      1   \n",
       "38278  100 EAST SHEARWATER CT. Jersey City, NJ                1      1   \n",
       "38279  100 EAST SHEARWATER CT. Jersey City, NJ                1      1   \n",
       "38280  100 EAST SHEARWATER CT. Jersey City, NJ                1      1   \n",
       "\n",
       "                                                   gCode   latitude  longitude  \n",
       "0      (677, Liberty Avenue, Jersey City, Hudson Coun...  40.759744 -74.050457  \n",
       "1      (675, Liberty Avenue, Jersey City, Hudson Coun...  40.759679 -74.050499  \n",
       "2      (673, Liberty Avenue, Jersey City, Hudson Coun...  40.759614 -74.050542  \n",
       "3      (671, Liberty Avenue, Jersey City, Hudson Coun...  40.759549 -74.050584  \n",
       "4      (669, Liberty Avenue, Jersey City, Hudson Coun...  40.759484 -74.050626  \n",
       "...                                                  ...        ...        ...  \n",
       "38273  (100, East Shearwater Court, Jersey City, Huds...  40.686674 -74.071935  \n",
       "38276  (100, East Shearwater Court, Jersey City, Huds...  40.686674 -74.071935  \n",
       "38278  (100, East Shearwater Court, Jersey City, Huds...  40.686674 -74.071935  \n",
       "38279  (100, East Shearwater Court, Jersey City, Huds...  40.686674 -74.071935  \n",
       "38280  (100, East Shearwater Court, Jersey City, Huds...  40.686674 -74.071935  \n",
       "\n",
       "[42030 rows x 11 columns]"
      ],
      "text/html": "<div>\n<style scoped>\n    .dataframe tbody tr th:only-of-type {\n        vertical-align: middle;\n    }\n\n    .dataframe tbody tr th {\n        vertical-align: top;\n    }\n\n    .dataframe thead th {\n        text-align: right;\n    }\n</style>\n<table border=\"1\" class=\"dataframe\">\n  <thead>\n    <tr style=\"text-align: right;\">\n      <th></th>\n      <th>propertyLocation</th>\n      <th>ownersName</th>\n      <th>ownersMailingAddress</th>\n      <th>cityStateZip</th>\n      <th>ownersFullMailingAddress</th>\n      <th>propertyFullAddress</th>\n      <th>propertiesOwned</th>\n      <th>units</th>\n      <th>gCode</th>\n      <th>latitude</th>\n      <th>longitude</th>\n    </tr>\n  </thead>\n  <tbody>\n    <tr>\n      <th>0</th>\n      <td>677 LIBERTY AVE.</td>\n      <td>PEDDI, PRADEEP</td>\n      <td>677 LIBERTY AVE.</td>\n      <td>JERSEY CITY, N.J.  07307</td>\n      <td>677 LIBERTY AVE., JERSEY CITY, N.J.  07307</td>\n      <td>677 LIBERTY AVE. Jersey City, NJ</td>\n      <td>1</td>\n      <td>1</td>\n      <td>(677, Liberty Avenue, Jersey City, Hudson Coun...</td>\n      <td>40.759744</td>\n      <td>-74.050457</td>\n    </tr>\n    <tr>\n      <th>1</th>\n      <td>675 LIBERTY AVE.</td>\n      <td>PAREJA, HENRY A. &amp; MIRYAM C.</td>\n      <td>675 LIBERTY AVE.</td>\n      <td>JERSEY CITY, N.J.  07307</td>\n      <td>675 LIBERTY AVE., JERSEY CITY, N.J.  07307</td>\n      <td>675 LIBERTY AVE. Jersey City, NJ</td>\n      <td>1</td>\n      <td>1</td>\n      <td>(675, Liberty Avenue, Jersey City, Hudson Coun...</td>\n      <td>40.759679</td>\n      <td>-74.050499</td>\n    </tr>\n    <tr>\n      <th>2</th>\n      <td>673 LIBERTY AVE.</td>\n      <td>HIRPARA, PRAVIN</td>\n      <td>673 LIBERTY AVE.</td>\n      <td>JERSEY CITY, NJ  07307</td>\n      <td>673 LIBERTY AVE., JERSEY CITY, NJ  07307</td>\n      <td>673 LIBERTY AVE. Jersey City, NJ</td>\n      <td>1</td>\n      <td>1</td>\n      <td>(673, Liberty Avenue, Jersey City, Hudson Coun...</td>\n      <td>40.759614</td>\n      <td>-74.050542</td>\n    </tr>\n    <tr>\n      <th>3</th>\n      <td>671 LIBERTY AVE.</td>\n      <td>SINGH, HONEY</td>\n      <td>671 LIBERTY AVE.</td>\n      <td>JERSEY CITY, NJ  07307</td>\n      <td>671 LIBERTY AVE., JERSEY CITY, NJ  07307</td>\n      <td>671 LIBERTY AVE. Jersey City, NJ</td>\n      <td>1</td>\n      <td>1</td>\n      <td>(671, Liberty Avenue, Jersey City, Hudson Coun...</td>\n      <td>40.759549</td>\n      <td>-74.050584</td>\n    </tr>\n    <tr>\n      <th>4</th>\n      <td>669 LIBERTY AVE.</td>\n      <td>MARTIN, BENIGNO &amp; CARIDAD</td>\n      <td>669 LIBERTY AVE.</td>\n      <td>JERSEY CITY, N.J.  07307</td>\n      <td>669 LIBERTY AVE., JERSEY CITY, N.J.  07307</td>\n      <td>669 LIBERTY AVE. Jersey City, NJ</td>\n      <td>1</td>\n      <td>1</td>\n      <td>(669, Liberty Avenue, Jersey City, Hudson Coun...</td>\n      <td>40.759484</td>\n      <td>-74.050626</td>\n    </tr>\n    <tr>\n      <th>...</th>\n      <td>...</td>\n      <td>...</td>\n      <td>...</td>\n      <td>...</td>\n      <td>...</td>\n      <td>...</td>\n      <td>...</td>\n      <td>...</td>\n      <td>...</td>\n      <td>...</td>\n      <td>...</td>\n    </tr>\n    <tr>\n      <th>38273</th>\n      <td>100 EAST SHEARWATER CT.</td>\n      <td>BALANLAYOS, JESUS &amp; MYRNA</td>\n      <td>31 HARMONY WAY</td>\n      <td>SEWAREN, NJ  07077</td>\n      <td>31 HARMONY WAY, SEWAREN, NJ  07077</td>\n      <td>100 EAST SHEARWATER CT. Jersey City, NJ</td>\n      <td>1</td>\n      <td>1</td>\n      <td>(100, East Shearwater Court, Jersey City, Huds...</td>\n      <td>40.686674</td>\n      <td>-74.071935</td>\n    </tr>\n    <tr>\n      <th>38276</th>\n      <td>100 EAST SHEARWATER CT.</td>\n      <td>DANGCIL, PROCERFINA &amp; WILLIAM A JR</td>\n      <td>100-51 E SHEARWATER CT.</td>\n      <td>JERSEY CITY, NJ  07305</td>\n      <td>100-51 E SHEARWATER CT., JERSEY CITY, NJ  07305</td>\n      <td>100 EAST SHEARWATER CT. Jersey City, NJ</td>\n      <td>1</td>\n      <td>1</td>\n      <td>(100, East Shearwater Court, Jersey City, Huds...</td>\n      <td>40.686674</td>\n      <td>-74.071935</td>\n    </tr>\n    <tr>\n      <th>38278</th>\n      <td>100 EAST SHEARWATER CT.</td>\n      <td>LAWSONS REALTY,LLC</td>\n      <td>130 SHORE RD #198</td>\n      <td>PORT WASHINGTON, NY  11050</td>\n      <td>130 SHORE RD #198, PORT WASHINGTON, NY  11050</td>\n      <td>100 EAST SHEARWATER CT. Jersey City, NJ</td>\n      <td>1</td>\n      <td>1</td>\n      <td>(100, East Shearwater Court, Jersey City, Huds...</td>\n      <td>40.686674</td>\n      <td>-74.071935</td>\n    </tr>\n    <tr>\n      <th>38279</th>\n      <td>100 EAST SHEARWATER CT.</td>\n      <td>NATHAN, NAVIN D.</td>\n      <td>100-54 SHEARWATER CT.</td>\n      <td>JERSEY CITY, NJ  07305</td>\n      <td>100-54 SHEARWATER CT., JERSEY CITY, NJ  07305</td>\n      <td>100 EAST SHEARWATER CT. Jersey City, NJ</td>\n      <td>1</td>\n      <td>1</td>\n      <td>(100, East Shearwater Court, Jersey City, Huds...</td>\n      <td>40.686674</td>\n      <td>-74.071935</td>\n    </tr>\n    <tr>\n      <th>38280</th>\n      <td>100 EAST SHEARWATER CT.</td>\n      <td>HORAN, CHRISTOPHER L.</td>\n      <td>100-55 SHEARWATER CT.</td>\n      <td>JERSEY CITY, N.J.  07305</td>\n      <td>100-55 SHEARWATER CT., JERSEY CITY, N.J.  07305</td>\n      <td>100 EAST SHEARWATER CT. Jersey City, NJ</td>\n      <td>1</td>\n      <td>1</td>\n      <td>(100, East Shearwater Court, Jersey City, Huds...</td>\n      <td>40.686674</td>\n      <td>-74.071935</td>\n    </tr>\n  </tbody>\n</table>\n<p>42030 rows × 11 columns</p>\n</div>"
     },
     "metadata": {},
     "execution_count": 41
    }
   ],
   "source": [
    "df"
   ]
  },
  {
   "cell_type": "code",
   "execution_count": 42,
   "metadata": {},
   "outputs": [],
   "source": [
    "df['latitude'] = [g.latitude for g in df.gCode]\n",
    "df['longitude'] = [g.longitude for g in df.gCode]"
   ]
  },
  {
   "cell_type": "code",
   "execution_count": 43,
   "metadata": {},
   "outputs": [],
   "source": [
    "df.append(errors_df.dropna(axis=0, subset=['gCode'])).to_pickle('JC_residential.pkl')"
   ]
  },
  {
   "cell_type": "code",
   "execution_count": 44,
   "metadata": {},
   "outputs": [
    {
     "output_type": "execute_result",
     "data": {
      "text/plain": [
       "              propertyLocation                          ownersName  \\\n",
       "0             677 LIBERTY AVE.                      PEDDI, PRADEEP   \n",
       "1             675 LIBERTY AVE.        PAREJA, HENRY A. & MIRYAM C.   \n",
       "2             673 LIBERTY AVE.                     HIRPARA, PRAVIN   \n",
       "3             671 LIBERTY AVE.                        SINGH, HONEY   \n",
       "4             669 LIBERTY AVE.           MARTIN, BENIGNO & CARIDAD   \n",
       "...                        ...                                 ...   \n",
       "38273  100 EAST SHEARWATER CT.           BALANLAYOS, JESUS & MYRNA   \n",
       "38276  100 EAST SHEARWATER CT.  DANGCIL, PROCERFINA & WILLIAM A JR   \n",
       "38278  100 EAST SHEARWATER CT.                  LAWSONS REALTY,LLC   \n",
       "38279  100 EAST SHEARWATER CT.                    NATHAN, NAVIN D.   \n",
       "38280  100 EAST SHEARWATER CT.               HORAN, CHRISTOPHER L.   \n",
       "\n",
       "          ownersMailingAddress                cityStateZip  \\\n",
       "0             677 LIBERTY AVE.    JERSEY CITY, N.J.  07307   \n",
       "1             675 LIBERTY AVE.    JERSEY CITY, N.J.  07307   \n",
       "2             673 LIBERTY AVE.      JERSEY CITY, NJ  07307   \n",
       "3             671 LIBERTY AVE.      JERSEY CITY, NJ  07307   \n",
       "4             669 LIBERTY AVE.    JERSEY CITY, N.J.  07307   \n",
       "...                        ...                         ...   \n",
       "38273           31 HARMONY WAY          SEWAREN, NJ  07077   \n",
       "38276  100-51 E SHEARWATER CT.      JERSEY CITY, NJ  07305   \n",
       "38278        130 SHORE RD #198  PORT WASHINGTON, NY  11050   \n",
       "38279    100-54 SHEARWATER CT.      JERSEY CITY, NJ  07305   \n",
       "38280    100-55 SHEARWATER CT.    JERSEY CITY, N.J.  07305   \n",
       "\n",
       "                              ownersFullMailingAddress  \\\n",
       "0           677 LIBERTY AVE., JERSEY CITY, N.J.  07307   \n",
       "1           675 LIBERTY AVE., JERSEY CITY, N.J.  07307   \n",
       "2             673 LIBERTY AVE., JERSEY CITY, NJ  07307   \n",
       "3             671 LIBERTY AVE., JERSEY CITY, NJ  07307   \n",
       "4           669 LIBERTY AVE., JERSEY CITY, N.J.  07307   \n",
       "...                                                ...   \n",
       "38273               31 HARMONY WAY, SEWAREN, NJ  07077   \n",
       "38276  100-51 E SHEARWATER CT., JERSEY CITY, NJ  07305   \n",
       "38278    130 SHORE RD #198, PORT WASHINGTON, NY  11050   \n",
       "38279    100-54 SHEARWATER CT., JERSEY CITY, NJ  07305   \n",
       "38280  100-55 SHEARWATER CT., JERSEY CITY, N.J.  07305   \n",
       "\n",
       "                           propertyFullAddress  propertiesOwned  units  \\\n",
       "0             677 LIBERTY AVE. Jersey City, NJ                1      1   \n",
       "1             675 LIBERTY AVE. Jersey City, NJ                1      1   \n",
       "2             673 LIBERTY AVE. Jersey City, NJ                1      1   \n",
       "3             671 LIBERTY AVE. Jersey City, NJ                1      1   \n",
       "4             669 LIBERTY AVE. Jersey City, NJ                1      1   \n",
       "...                                        ...              ...    ...   \n",
       "38273  100 EAST SHEARWATER CT. Jersey City, NJ                1      1   \n",
       "38276  100 EAST SHEARWATER CT. Jersey City, NJ                1      1   \n",
       "38278  100 EAST SHEARWATER CT. Jersey City, NJ                1      1   \n",
       "38279  100 EAST SHEARWATER CT. Jersey City, NJ                1      1   \n",
       "38280  100 EAST SHEARWATER CT. Jersey City, NJ                1      1   \n",
       "\n",
       "                                                   gCode   latitude  longitude  \n",
       "0      (677, Liberty Avenue, Jersey City, Hudson Coun...  40.759744 -74.050457  \n",
       "1      (675, Liberty Avenue, Jersey City, Hudson Coun...  40.759679 -74.050499  \n",
       "2      (673, Liberty Avenue, Jersey City, Hudson Coun...  40.759614 -74.050542  \n",
       "3      (671, Liberty Avenue, Jersey City, Hudson Coun...  40.759549 -74.050584  \n",
       "4      (669, Liberty Avenue, Jersey City, Hudson Coun...  40.759484 -74.050626  \n",
       "...                                                  ...        ...        ...  \n",
       "38273  (100, East Shearwater Court, Jersey City, Huds...  40.686674 -74.071935  \n",
       "38276  (100, East Shearwater Court, Jersey City, Huds...  40.686674 -74.071935  \n",
       "38278  (100, East Shearwater Court, Jersey City, Huds...  40.686674 -74.071935  \n",
       "38279  (100, East Shearwater Court, Jersey City, Huds...  40.686674 -74.071935  \n",
       "38280  (100, East Shearwater Court, Jersey City, Huds...  40.686674 -74.071935  \n",
       "\n",
       "[42030 rows x 11 columns]"
      ],
      "text/html": "<div>\n<style scoped>\n    .dataframe tbody tr th:only-of-type {\n        vertical-align: middle;\n    }\n\n    .dataframe tbody tr th {\n        vertical-align: top;\n    }\n\n    .dataframe thead th {\n        text-align: right;\n    }\n</style>\n<table border=\"1\" class=\"dataframe\">\n  <thead>\n    <tr style=\"text-align: right;\">\n      <th></th>\n      <th>propertyLocation</th>\n      <th>ownersName</th>\n      <th>ownersMailingAddress</th>\n      <th>cityStateZip</th>\n      <th>ownersFullMailingAddress</th>\n      <th>propertyFullAddress</th>\n      <th>propertiesOwned</th>\n      <th>units</th>\n      <th>gCode</th>\n      <th>latitude</th>\n      <th>longitude</th>\n    </tr>\n  </thead>\n  <tbody>\n    <tr>\n      <th>0</th>\n      <td>677 LIBERTY AVE.</td>\n      <td>PEDDI, PRADEEP</td>\n      <td>677 LIBERTY AVE.</td>\n      <td>JERSEY CITY, N.J.  07307</td>\n      <td>677 LIBERTY AVE., JERSEY CITY, N.J.  07307</td>\n      <td>677 LIBERTY AVE. Jersey City, NJ</td>\n      <td>1</td>\n      <td>1</td>\n      <td>(677, Liberty Avenue, Jersey City, Hudson Coun...</td>\n      <td>40.759744</td>\n      <td>-74.050457</td>\n    </tr>\n    <tr>\n      <th>1</th>\n      <td>675 LIBERTY AVE.</td>\n      <td>PAREJA, HENRY A. &amp; MIRYAM C.</td>\n      <td>675 LIBERTY AVE.</td>\n      <td>JERSEY CITY, N.J.  07307</td>\n      <td>675 LIBERTY AVE., JERSEY CITY, N.J.  07307</td>\n      <td>675 LIBERTY AVE. Jersey City, NJ</td>\n      <td>1</td>\n      <td>1</td>\n      <td>(675, Liberty Avenue, Jersey City, Hudson Coun...</td>\n      <td>40.759679</td>\n      <td>-74.050499</td>\n    </tr>\n    <tr>\n      <th>2</th>\n      <td>673 LIBERTY AVE.</td>\n      <td>HIRPARA, PRAVIN</td>\n      <td>673 LIBERTY AVE.</td>\n      <td>JERSEY CITY, NJ  07307</td>\n      <td>673 LIBERTY AVE., JERSEY CITY, NJ  07307</td>\n      <td>673 LIBERTY AVE. Jersey City, NJ</td>\n      <td>1</td>\n      <td>1</td>\n      <td>(673, Liberty Avenue, Jersey City, Hudson Coun...</td>\n      <td>40.759614</td>\n      <td>-74.050542</td>\n    </tr>\n    <tr>\n      <th>3</th>\n      <td>671 LIBERTY AVE.</td>\n      <td>SINGH, HONEY</td>\n      <td>671 LIBERTY AVE.</td>\n      <td>JERSEY CITY, NJ  07307</td>\n      <td>671 LIBERTY AVE., JERSEY CITY, NJ  07307</td>\n      <td>671 LIBERTY AVE. Jersey City, NJ</td>\n      <td>1</td>\n      <td>1</td>\n      <td>(671, Liberty Avenue, Jersey City, Hudson Coun...</td>\n      <td>40.759549</td>\n      <td>-74.050584</td>\n    </tr>\n    <tr>\n      <th>4</th>\n      <td>669 LIBERTY AVE.</td>\n      <td>MARTIN, BENIGNO &amp; CARIDAD</td>\n      <td>669 LIBERTY AVE.</td>\n      <td>JERSEY CITY, N.J.  07307</td>\n      <td>669 LIBERTY AVE., JERSEY CITY, N.J.  07307</td>\n      <td>669 LIBERTY AVE. Jersey City, NJ</td>\n      <td>1</td>\n      <td>1</td>\n      <td>(669, Liberty Avenue, Jersey City, Hudson Coun...</td>\n      <td>40.759484</td>\n      <td>-74.050626</td>\n    </tr>\n    <tr>\n      <th>...</th>\n      <td>...</td>\n      <td>...</td>\n      <td>...</td>\n      <td>...</td>\n      <td>...</td>\n      <td>...</td>\n      <td>...</td>\n      <td>...</td>\n      <td>...</td>\n      <td>...</td>\n      <td>...</td>\n    </tr>\n    <tr>\n      <th>38273</th>\n      <td>100 EAST SHEARWATER CT.</td>\n      <td>BALANLAYOS, JESUS &amp; MYRNA</td>\n      <td>31 HARMONY WAY</td>\n      <td>SEWAREN, NJ  07077</td>\n      <td>31 HARMONY WAY, SEWAREN, NJ  07077</td>\n      <td>100 EAST SHEARWATER CT. Jersey City, NJ</td>\n      <td>1</td>\n      <td>1</td>\n      <td>(100, East Shearwater Court, Jersey City, Huds...</td>\n      <td>40.686674</td>\n      <td>-74.071935</td>\n    </tr>\n    <tr>\n      <th>38276</th>\n      <td>100 EAST SHEARWATER CT.</td>\n      <td>DANGCIL, PROCERFINA &amp; WILLIAM A JR</td>\n      <td>100-51 E SHEARWATER CT.</td>\n      <td>JERSEY CITY, NJ  07305</td>\n      <td>100-51 E SHEARWATER CT., JERSEY CITY, NJ  07305</td>\n      <td>100 EAST SHEARWATER CT. Jersey City, NJ</td>\n      <td>1</td>\n      <td>1</td>\n      <td>(100, East Shearwater Court, Jersey City, Huds...</td>\n      <td>40.686674</td>\n      <td>-74.071935</td>\n    </tr>\n    <tr>\n      <th>38278</th>\n      <td>100 EAST SHEARWATER CT.</td>\n      <td>LAWSONS REALTY,LLC</td>\n      <td>130 SHORE RD #198</td>\n      <td>PORT WASHINGTON, NY  11050</td>\n      <td>130 SHORE RD #198, PORT WASHINGTON, NY  11050</td>\n      <td>100 EAST SHEARWATER CT. Jersey City, NJ</td>\n      <td>1</td>\n      <td>1</td>\n      <td>(100, East Shearwater Court, Jersey City, Huds...</td>\n      <td>40.686674</td>\n      <td>-74.071935</td>\n    </tr>\n    <tr>\n      <th>38279</th>\n      <td>100 EAST SHEARWATER CT.</td>\n      <td>NATHAN, NAVIN D.</td>\n      <td>100-54 SHEARWATER CT.</td>\n      <td>JERSEY CITY, NJ  07305</td>\n      <td>100-54 SHEARWATER CT., JERSEY CITY, NJ  07305</td>\n      <td>100 EAST SHEARWATER CT. Jersey City, NJ</td>\n      <td>1</td>\n      <td>1</td>\n      <td>(100, East Shearwater Court, Jersey City, Huds...</td>\n      <td>40.686674</td>\n      <td>-74.071935</td>\n    </tr>\n    <tr>\n      <th>38280</th>\n      <td>100 EAST SHEARWATER CT.</td>\n      <td>HORAN, CHRISTOPHER L.</td>\n      <td>100-55 SHEARWATER CT.</td>\n      <td>JERSEY CITY, N.J.  07305</td>\n      <td>100-55 SHEARWATER CT., JERSEY CITY, N.J.  07305</td>\n      <td>100 EAST SHEARWATER CT. Jersey City, NJ</td>\n      <td>1</td>\n      <td>1</td>\n      <td>(100, East Shearwater Court, Jersey City, Huds...</td>\n      <td>40.686674</td>\n      <td>-74.071935</td>\n    </tr>\n  </tbody>\n</table>\n<p>42030 rows × 11 columns</p>\n</div>"
     },
     "metadata": {},
     "execution_count": 44
    }
   ],
   "source": [
    "df"
   ]
  },
  {
   "cell_type": "code",
   "execution_count": 19,
   "metadata": {},
   "outputs": [],
   "source": [
    "df.to_csv('JC_residential.csv')"
   ]
  }
 ]
}