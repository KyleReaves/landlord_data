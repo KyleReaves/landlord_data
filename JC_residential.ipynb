{
 "metadata": {
  "orig_nbformat": 4,
  "kernelspec": {
   "name": "python3",
   "display_name": "Python 3.9.6",
   "language": "python"
  },
  "interpreter": {
   "hash": "ac2eaa0ea0ebeafcc7822e65e46aa9d4f966f30b695406963e145ea4a91cd4fc"
  }
 },
 "nbformat": 4,
 "nbformat_minor": 2,
 "cells": [
  {
   "cell_type": "code",
   "execution_count": 1,
   "metadata": {},
   "outputs": [],
   "source": [
    "import pandas as pd \n",
    "import numpy as np\n",
    "\n",
    "from geopy.geocoders import Nominatim\n",
    "from geopy.extra.rate_limiter import RateLimiter\n",
    "# for returning lat long coordinates from addresses\n",
    "geolocator = Nominatim(user_agent=\"myGeolocator\", timeout=2)\n",
    "\n",
    "df = pd.read_csv('jersey_city_residential.csv')"
   ]
  },
  {
   "cell_type": "code",
   "execution_count": 2,
   "metadata": {},
   "outputs": [
    {
     "output_type": "execute_result",
     "data": {
      "text/plain": [
       "          propertyLocation                    ownersName ownersMailingAddress  \\\n",
       "0         677 LIBERTY AVE.                PEDDI, PRADEEP     677 LIBERTY AVE.   \n",
       "1         675 LIBERTY AVE.  PAREJA, HENRY A. & MIRYAM C.     675 LIBERTY AVE.   \n",
       "2         673 LIBERTY AVE.               HIRPARA, PRAVIN     673 LIBERTY AVE.   \n",
       "3         671 LIBERTY AVE.                  SINGH, HONEY     671 LIBERTY AVE.   \n",
       "4         669 LIBERTY AVE.     MARTIN, BENIGNO & CARIDAD     669 LIBERTY AVE.   \n",
       "...                    ...                           ...                  ...   \n",
       "41799     98 GARFIELD AVE.               SWINNEY, BRENDA     98 GARFIELD AVE.   \n",
       "41800    100 GARFIELD AVE.                SERVIDA, AUREA    100 GARFIELD AVE.   \n",
       "41801    102 GARFIELD AVE.        DIAZ, ANGEL & GALADITA  5405 STEVEHAVEN LN.   \n",
       "41802    104 GARFIELD AVE.           RODRIGUEZ, BENJAMIN    104 GARFIELD AVE.   \n",
       "41803  106 GARFIELD AVENUE             SANCHEZ, DAVID J.    106 GARFIELD AVE.   \n",
       "\n",
       "                   cityStateZip  \n",
       "0      JERSEY CITY, N.J.  07307  \n",
       "1      JERSEY CITY, N.J.  07307  \n",
       "2        JERSEY CITY, NJ  07307  \n",
       "3        JERSEY CITY, NJ  07307  \n",
       "4      JERSEY CITY, N.J.  07307  \n",
       "...                         ...  \n",
       "41799  JERSEY CITY, N.J.  07305  \n",
       "41800    JERSEY CITY, NJ  07305  \n",
       "41801      CUMMING , GA.  30028  \n",
       "41802  JERSEY CITY, N.J.  07305  \n",
       "41803    JERSEY CITY, NJ  07305  \n",
       "\n",
       "[41804 rows x 4 columns]"
      ],
      "text/html": "<div>\n<style scoped>\n    .dataframe tbody tr th:only-of-type {\n        vertical-align: middle;\n    }\n\n    .dataframe tbody tr th {\n        vertical-align: top;\n    }\n\n    .dataframe thead th {\n        text-align: right;\n    }\n</style>\n<table border=\"1\" class=\"dataframe\">\n  <thead>\n    <tr style=\"text-align: right;\">\n      <th></th>\n      <th>propertyLocation</th>\n      <th>ownersName</th>\n      <th>ownersMailingAddress</th>\n      <th>cityStateZip</th>\n    </tr>\n  </thead>\n  <tbody>\n    <tr>\n      <th>0</th>\n      <td>677 LIBERTY AVE.</td>\n      <td>PEDDI, PRADEEP</td>\n      <td>677 LIBERTY AVE.</td>\n      <td>JERSEY CITY, N.J.  07307</td>\n    </tr>\n    <tr>\n      <th>1</th>\n      <td>675 LIBERTY AVE.</td>\n      <td>PAREJA, HENRY A. &amp; MIRYAM C.</td>\n      <td>675 LIBERTY AVE.</td>\n      <td>JERSEY CITY, N.J.  07307</td>\n    </tr>\n    <tr>\n      <th>2</th>\n      <td>673 LIBERTY AVE.</td>\n      <td>HIRPARA, PRAVIN</td>\n      <td>673 LIBERTY AVE.</td>\n      <td>JERSEY CITY, NJ  07307</td>\n    </tr>\n    <tr>\n      <th>3</th>\n      <td>671 LIBERTY AVE.</td>\n      <td>SINGH, HONEY</td>\n      <td>671 LIBERTY AVE.</td>\n      <td>JERSEY CITY, NJ  07307</td>\n    </tr>\n    <tr>\n      <th>4</th>\n      <td>669 LIBERTY AVE.</td>\n      <td>MARTIN, BENIGNO &amp; CARIDAD</td>\n      <td>669 LIBERTY AVE.</td>\n      <td>JERSEY CITY, N.J.  07307</td>\n    </tr>\n    <tr>\n      <th>...</th>\n      <td>...</td>\n      <td>...</td>\n      <td>...</td>\n      <td>...</td>\n    </tr>\n    <tr>\n      <th>41799</th>\n      <td>98 GARFIELD AVE.</td>\n      <td>SWINNEY, BRENDA</td>\n      <td>98 GARFIELD AVE.</td>\n      <td>JERSEY CITY, N.J.  07305</td>\n    </tr>\n    <tr>\n      <th>41800</th>\n      <td>100 GARFIELD AVE.</td>\n      <td>SERVIDA, AUREA</td>\n      <td>100 GARFIELD AVE.</td>\n      <td>JERSEY CITY, NJ  07305</td>\n    </tr>\n    <tr>\n      <th>41801</th>\n      <td>102 GARFIELD AVE.</td>\n      <td>DIAZ, ANGEL &amp; GALADITA</td>\n      <td>5405 STEVEHAVEN LN.</td>\n      <td>CUMMING , GA.  30028</td>\n    </tr>\n    <tr>\n      <th>41802</th>\n      <td>104 GARFIELD AVE.</td>\n      <td>RODRIGUEZ, BENJAMIN</td>\n      <td>104 GARFIELD AVE.</td>\n      <td>JERSEY CITY, N.J.  07305</td>\n    </tr>\n    <tr>\n      <th>41803</th>\n      <td>106 GARFIELD AVENUE</td>\n      <td>SANCHEZ, DAVID J.</td>\n      <td>106 GARFIELD AVE.</td>\n      <td>JERSEY CITY, NJ  07305</td>\n    </tr>\n  </tbody>\n</table>\n<p>41804 rows × 4 columns</p>\n</div>"
     },
     "metadata": {},
     "execution_count": 2
    }
   ],
   "source": [
    "df"
   ]
  },
  {
   "cell_type": "code",
   "execution_count": 4,
   "metadata": {},
   "outputs": [],
   "source": [
    "# number of times property appears in first column\n",
    "def propertyAppearances(address=str): \n",
    "    return len(df[df.propertyLocation == address])"
   ]
  },
  {
   "cell_type": "code",
   "execution_count": 5,
   "metadata": {},
   "outputs": [],
   "source": [
    "# number of times owner appears in second column\n",
    "def propertiesOwned(owner=str):\n",
    "    return len(df[df.ownersName == owner])"
   ]
  },
  {
   "cell_type": "code",
   "execution_count": 6,
   "metadata": {},
   "outputs": [],
   "source": [
    "df['propertiesOwned'] = [propertiesOwned(owner) for owner in df.ownersName]\n",
    "df['units'] = [propertyAppearances(address) for address in df.propertyLocation]"
   ]
  },
  {
   "cell_type": "code",
   "execution_count": 7,
   "metadata": {},
   "outputs": [],
   "source": [
    "df['ownersFullMailingAddress'] = df['ownersMailingAddress'] + ', ' + df.cityStateZip\n",
    "df['propertyFullAddress'] = df.propertyLocation + ' Jersey City, NJ'"
   ]
  },
  {
   "cell_type": "code",
   "execution_count": 8,
   "metadata": {},
   "outputs": [
    {
     "output_type": "execute_result",
     "data": {
      "text/plain": [
       "Index(['propertyLocation', 'ownersName', 'ownersMailingAddress',\n",
       "       'cityStateZip', 'propertiesOwned', 'units', 'ownersFullMailingAddress',\n",
       "       'propertyFullAddress'],\n",
       "      dtype='object')"
      ]
     },
     "metadata": {},
     "execution_count": 8
    }
   ],
   "source": [
    "df.columns"
   ]
  },
  {
   "cell_type": "code",
   "execution_count": 9,
   "metadata": {},
   "outputs": [
    {
     "output_type": "execute_result",
     "data": {
      "text/plain": [
       "          propertyLocation                    ownersName ownersMailingAddress  \\\n",
       "0         677 LIBERTY AVE.                PEDDI, PRADEEP     677 LIBERTY AVE.   \n",
       "1         675 LIBERTY AVE.  PAREJA, HENRY A. & MIRYAM C.     675 LIBERTY AVE.   \n",
       "2         673 LIBERTY AVE.               HIRPARA, PRAVIN     673 LIBERTY AVE.   \n",
       "3         671 LIBERTY AVE.                  SINGH, HONEY     671 LIBERTY AVE.   \n",
       "4         669 LIBERTY AVE.     MARTIN, BENIGNO & CARIDAD     669 LIBERTY AVE.   \n",
       "...                    ...                           ...                  ...   \n",
       "41799     98 GARFIELD AVE.               SWINNEY, BRENDA     98 GARFIELD AVE.   \n",
       "41800    100 GARFIELD AVE.                SERVIDA, AUREA    100 GARFIELD AVE.   \n",
       "41801    102 GARFIELD AVE.        DIAZ, ANGEL & GALADITA  5405 STEVEHAVEN LN.   \n",
       "41802    104 GARFIELD AVE.           RODRIGUEZ, BENJAMIN    104 GARFIELD AVE.   \n",
       "41803  106 GARFIELD AVENUE             SANCHEZ, DAVID J.    106 GARFIELD AVE.   \n",
       "\n",
       "                   cityStateZip  propertiesOwned  units  \\\n",
       "0      JERSEY CITY, N.J.  07307                1      1   \n",
       "1      JERSEY CITY, N.J.  07307                1      1   \n",
       "2        JERSEY CITY, NJ  07307                1      1   \n",
       "3        JERSEY CITY, NJ  07307                1      1   \n",
       "4      JERSEY CITY, N.J.  07307                1      1   \n",
       "...                         ...              ...    ...   \n",
       "41799  JERSEY CITY, N.J.  07305                2      1   \n",
       "41800    JERSEY CITY, NJ  07305                1      1   \n",
       "41801      CUMMING , GA.  30028                1      1   \n",
       "41802  JERSEY CITY, N.J.  07305                1      1   \n",
       "41803    JERSEY CITY, NJ  07305                1      1   \n",
       "\n",
       "                          ownersFullMailingAddress  \\\n",
       "0       677 LIBERTY AVE., JERSEY CITY, N.J.  07307   \n",
       "1       675 LIBERTY AVE., JERSEY CITY, N.J.  07307   \n",
       "2         673 LIBERTY AVE., JERSEY CITY, NJ  07307   \n",
       "3         671 LIBERTY AVE., JERSEY CITY, NJ  07307   \n",
       "4       669 LIBERTY AVE., JERSEY CITY, N.J.  07307   \n",
       "...                                            ...   \n",
       "41799   98 GARFIELD AVE., JERSEY CITY, N.J.  07305   \n",
       "41800    100 GARFIELD AVE., JERSEY CITY, NJ  07305   \n",
       "41801    5405 STEVEHAVEN LN., CUMMING , GA.  30028   \n",
       "41802  104 GARFIELD AVE., JERSEY CITY, N.J.  07305   \n",
       "41803    106 GARFIELD AVE., JERSEY CITY, NJ  07305   \n",
       "\n",
       "                       propertyFullAddress  \n",
       "0         677 LIBERTY AVE. Jersey City, NJ  \n",
       "1         675 LIBERTY AVE. Jersey City, NJ  \n",
       "2         673 LIBERTY AVE. Jersey City, NJ  \n",
       "3         671 LIBERTY AVE. Jersey City, NJ  \n",
       "4         669 LIBERTY AVE. Jersey City, NJ  \n",
       "...                                    ...  \n",
       "41799     98 GARFIELD AVE. Jersey City, NJ  \n",
       "41800    100 GARFIELD AVE. Jersey City, NJ  \n",
       "41801    102 GARFIELD AVE. Jersey City, NJ  \n",
       "41802    104 GARFIELD AVE. Jersey City, NJ  \n",
       "41803  106 GARFIELD AVENUE Jersey City, NJ  \n",
       "\n",
       "[41804 rows x 8 columns]"
      ],
      "text/html": "<div>\n<style scoped>\n    .dataframe tbody tr th:only-of-type {\n        vertical-align: middle;\n    }\n\n    .dataframe tbody tr th {\n        vertical-align: top;\n    }\n\n    .dataframe thead th {\n        text-align: right;\n    }\n</style>\n<table border=\"1\" class=\"dataframe\">\n  <thead>\n    <tr style=\"text-align: right;\">\n      <th></th>\n      <th>propertyLocation</th>\n      <th>ownersName</th>\n      <th>ownersMailingAddress</th>\n      <th>cityStateZip</th>\n      <th>propertiesOwned</th>\n      <th>units</th>\n      <th>ownersFullMailingAddress</th>\n      <th>propertyFullAddress</th>\n    </tr>\n  </thead>\n  <tbody>\n    <tr>\n      <th>0</th>\n      <td>677 LIBERTY AVE.</td>\n      <td>PEDDI, PRADEEP</td>\n      <td>677 LIBERTY AVE.</td>\n      <td>JERSEY CITY, N.J.  07307</td>\n      <td>1</td>\n      <td>1</td>\n      <td>677 LIBERTY AVE., JERSEY CITY, N.J.  07307</td>\n      <td>677 LIBERTY AVE. Jersey City, NJ</td>\n    </tr>\n    <tr>\n      <th>1</th>\n      <td>675 LIBERTY AVE.</td>\n      <td>PAREJA, HENRY A. &amp; MIRYAM C.</td>\n      <td>675 LIBERTY AVE.</td>\n      <td>JERSEY CITY, N.J.  07307</td>\n      <td>1</td>\n      <td>1</td>\n      <td>675 LIBERTY AVE., JERSEY CITY, N.J.  07307</td>\n      <td>675 LIBERTY AVE. Jersey City, NJ</td>\n    </tr>\n    <tr>\n      <th>2</th>\n      <td>673 LIBERTY AVE.</td>\n      <td>HIRPARA, PRAVIN</td>\n      <td>673 LIBERTY AVE.</td>\n      <td>JERSEY CITY, NJ  07307</td>\n      <td>1</td>\n      <td>1</td>\n      <td>673 LIBERTY AVE., JERSEY CITY, NJ  07307</td>\n      <td>673 LIBERTY AVE. Jersey City, NJ</td>\n    </tr>\n    <tr>\n      <th>3</th>\n      <td>671 LIBERTY AVE.</td>\n      <td>SINGH, HONEY</td>\n      <td>671 LIBERTY AVE.</td>\n      <td>JERSEY CITY, NJ  07307</td>\n      <td>1</td>\n      <td>1</td>\n      <td>671 LIBERTY AVE., JERSEY CITY, NJ  07307</td>\n      <td>671 LIBERTY AVE. Jersey City, NJ</td>\n    </tr>\n    <tr>\n      <th>4</th>\n      <td>669 LIBERTY AVE.</td>\n      <td>MARTIN, BENIGNO &amp; CARIDAD</td>\n      <td>669 LIBERTY AVE.</td>\n      <td>JERSEY CITY, N.J.  07307</td>\n      <td>1</td>\n      <td>1</td>\n      <td>669 LIBERTY AVE., JERSEY CITY, N.J.  07307</td>\n      <td>669 LIBERTY AVE. Jersey City, NJ</td>\n    </tr>\n    <tr>\n      <th>...</th>\n      <td>...</td>\n      <td>...</td>\n      <td>...</td>\n      <td>...</td>\n      <td>...</td>\n      <td>...</td>\n      <td>...</td>\n      <td>...</td>\n    </tr>\n    <tr>\n      <th>41799</th>\n      <td>98 GARFIELD AVE.</td>\n      <td>SWINNEY, BRENDA</td>\n      <td>98 GARFIELD AVE.</td>\n      <td>JERSEY CITY, N.J.  07305</td>\n      <td>2</td>\n      <td>1</td>\n      <td>98 GARFIELD AVE., JERSEY CITY, N.J.  07305</td>\n      <td>98 GARFIELD AVE. Jersey City, NJ</td>\n    </tr>\n    <tr>\n      <th>41800</th>\n      <td>100 GARFIELD AVE.</td>\n      <td>SERVIDA, AUREA</td>\n      <td>100 GARFIELD AVE.</td>\n      <td>JERSEY CITY, NJ  07305</td>\n      <td>1</td>\n      <td>1</td>\n      <td>100 GARFIELD AVE., JERSEY CITY, NJ  07305</td>\n      <td>100 GARFIELD AVE. Jersey City, NJ</td>\n    </tr>\n    <tr>\n      <th>41801</th>\n      <td>102 GARFIELD AVE.</td>\n      <td>DIAZ, ANGEL &amp; GALADITA</td>\n      <td>5405 STEVEHAVEN LN.</td>\n      <td>CUMMING , GA.  30028</td>\n      <td>1</td>\n      <td>1</td>\n      <td>5405 STEVEHAVEN LN., CUMMING , GA.  30028</td>\n      <td>102 GARFIELD AVE. Jersey City, NJ</td>\n    </tr>\n    <tr>\n      <th>41802</th>\n      <td>104 GARFIELD AVE.</td>\n      <td>RODRIGUEZ, BENJAMIN</td>\n      <td>104 GARFIELD AVE.</td>\n      <td>JERSEY CITY, N.J.  07305</td>\n      <td>1</td>\n      <td>1</td>\n      <td>104 GARFIELD AVE., JERSEY CITY, N.J.  07305</td>\n      <td>104 GARFIELD AVE. Jersey City, NJ</td>\n    </tr>\n    <tr>\n      <th>41803</th>\n      <td>106 GARFIELD AVENUE</td>\n      <td>SANCHEZ, DAVID J.</td>\n      <td>106 GARFIELD AVE.</td>\n      <td>JERSEY CITY, NJ  07305</td>\n      <td>1</td>\n      <td>1</td>\n      <td>106 GARFIELD AVE., JERSEY CITY, NJ  07305</td>\n      <td>106 GARFIELD AVENUE Jersey City, NJ</td>\n    </tr>\n  </tbody>\n</table>\n<p>41804 rows × 8 columns</p>\n</div>"
     },
     "metadata": {},
     "execution_count": 9
    }
   ],
   "source": [
    "df"
   ]
  },
  {
   "cell_type": "code",
   "execution_count": 15,
   "metadata": {},
   "outputs": [
    {
     "output_type": "execute_result",
     "data": {
      "text/plain": [
       "     propertyLocation                           ownersName  \\\n",
       "3433   1 CONGRESS ST.    KIMBERLY ARMS % HOBOKEN RLTY.MGNT   \n",
       "3434   1 CONGRESS ST.               HANNI, ROBERT & EVELYN   \n",
       "3435   1 CONGRESS ST.       MILLER, FRANKLIN T. & ALLEN R.   \n",
       "3436   1 CONGRESS ST.             JAMES, ANDREW & SCHUBERT   \n",
       "3437   1 CONGRESS ST.                       AGINA, OMAR E.   \n",
       "3438   1 CONGRESS ST.         WOOD, SARAH & MOORE, DOUGLAS   \n",
       "3439   1 CONGRESS ST.         PATEL, DEVON & JASANI, NISHA   \n",
       "3440   1 CONGRESS ST.                        DIAZ, ABIGAIL   \n",
       "3441   1 CONGRESS ST.                         EVANS, KAREN   \n",
       "3442   1 CONGRESS ST.                        FRIO, DOMINIC   \n",
       "3443   1 CONGRESS ST.                         PATEL, SHYAM   \n",
       "3444   1 CONGRESS ST.                      EVANS, CONSUELO   \n",
       "3445   1 CONGRESS ST.             LONDONO, DANIEL & HELENE   \n",
       "3446   1 CONGRESS ST.                    DUKE, LAWRENCE C.   \n",
       "3447   1 CONGRESS ST.                      EVANS, CONSUELO   \n",
       "3448   1 CONGRESS ST.                      DOMINICI, ELVIN   \n",
       "3449   1 CONGRESS ST.                  GAL, JORDAN & HADAR   \n",
       "3450   1 CONGRESS ST.  AVADI,AJAY & SIVASUBRAMANIAN,ANITHA   \n",
       "3451   1 CONGRESS ST.                    DEO, BRIAN DANIEL   \n",
       "3452   1 CONGRESS ST.                    SCHPRECHMAN, PAUL   \n",
       "3453   1 CONGRESS ST.                        CRUMMY, KEVIN   \n",
       "3454   1 CONGRESS ST.                         PATEL, DHARA   \n",
       "3455   1 CONGRESS ST.                 BERNICKER, NICOLE S.   \n",
       "3456   1 CONGRESS ST.                      PARK, ALEXANDRA   \n",
       "3457   1 CONGRESS ST.                MESSENGER, MICHAEL R.   \n",
       "3458   1 CONGRESS ST.             JAMES, ANDREW & SCHUBERT   \n",
       "3459   1 CONGRESS ST.      EIZENMAN, LOURDES PEREZ & CHRIS   \n",
       "3460   1 CONGRESS ST.        EVENS,C.&GARCIA M.& MENDEZ,E.   \n",
       "3461   1 CONGRESS ST.                       MARTINEZ, MARK   \n",
       "3462   1 CONGRESS ST.                    ARANZAZU, SHIRLEY   \n",
       "3463   1 CONGRESS ST.                   DELUCA, AMERICO N.   \n",
       "3464   1 CONGRESS ST.                         PATE, ANDREW   \n",
       "\n",
       "           ownersMailingAddress              cityStateZip  propertiesOwned  \\\n",
       "3433  1018 WASHINGTON ST.3RD FL        HOBOEKN, NJ  07030                1   \n",
       "3434          2709 CRESMONT AVE         EASTON, PA  18045                1   \n",
       "3435      1 CONGRESS ST., # A-3    JERSEY CITY, NJ  07307                1   \n",
       "3436  444 WASHINGTON BLVD #4506    JERSEY CITY, NJ  07310                2   \n",
       "3437              32 WOLF DRIVE      WANAQUE, N.J.  07465                1   \n",
       "3438          1 CONGRESS ST.#A6  JERSEY CITY, N.J.  07307                1   \n",
       "3439          1 CONGRESS ST.#A7  JERSEY CITY, N.J.  07307                1   \n",
       "3440         1 CONGRESS ST.,#A8    JERSEY CITY, NJ  07307                1   \n",
       "3441             1 CONGRESS ST.    JERSEY CITY, NJ  07307                1   \n",
       "3442        1321 WASHINGTON ST.        HOBOKEN, NJ  07030                1   \n",
       "3443         1 CONGRESS ST.,#B1    JERSEY CITY, NJ  07307                1   \n",
       "3444     1 CONGRESS ST. UNIT B2  JERSEY CITY, N.J.  07307                2   \n",
       "3445       1 CONGRESS ST., # B3    JERSEY CITY, NJ  07307                1   \n",
       "3446             180 BOWERS ST.    JERSEY CITY, NJ  07307                1   \n",
       "3447        1 CONGRESS ST., #B5  JERSEY CITY, N.J.  07307                2   \n",
       "3448        1 CONGRESS ST.,#206    JERSEY CITY, NJ  07307                1   \n",
       "3449     675 MONMOUTH ST., #223    JERSEY CITY, NJ  07310                1   \n",
       "3450             1 CONGRESS ST.    JERSEY CITY, NJ  07307                1   \n",
       "3451        1 CONGRESS ST., #B9    JERSEY CITY, NJ  07307                1   \n",
       "3452        1 CONGRESS ST.,#B10    JERSEY CITY, NJ  07307                1   \n",
       "3453              619 DORIAN RD      WESTFIELD, NJ  07090                1   \n",
       "3454           773 SPINNAKER ST       SECAUCUS, NJ  07094                1   \n",
       "3455         1 CONGRESS ST.,#C2    JERSEY CITY, NJ  07307                1   \n",
       "3456         1916 PALISADE AVE.     UNION CITY, NJ  07087                2   \n",
       "3457       1 CONGRESS ST., #C-4    JERSEY CITY, NJ  07307                1   \n",
       "3458  444 WASHINGTON BLVD #4506    JERSEY CITY, NJ  07310                2   \n",
       "3459        1 CONGRESS ST., #C6    JERSEY CITY, NJ  97307                1   \n",
       "3460      1 CONGRESS STREET #C7  JERSEY CITY, N.J.  07302                1   \n",
       "3461         3063 NE 183RD LANE       AVENTURA, FL  33160                1   \n",
       "3462          1 CONGRESS STREET   JERSEY CITY,  NJ  07307                1   \n",
       "3463       1 CONGRESS ST., #C10    JERSEY CITY, NJ  07307                1   \n",
       "3464        1 CONGRESS ST.,#C11    JERSEY CITY, NJ  07307                1   \n",
       "\n",
       "      units                           ownersFullMailingAddress  \\\n",
       "3433     32      1018 WASHINGTON ST.3RD FL ,HOBOEKN, NJ  07030   \n",
       "3434     32               2709 CRESMONT AVE ,EASTON, PA  18045   \n",
       "3435     32      1 CONGRESS ST., # A-3 ,JERSEY CITY, NJ  07307   \n",
       "3436     32  444 WASHINGTON BLVD #4506 ,JERSEY CITY, NJ  07310   \n",
       "3437     32                32 WOLF DRIVE ,WANAQUE, N.J.  07465   \n",
       "3438     32        1 CONGRESS ST.#A6 ,JERSEY CITY, N.J.  07307   \n",
       "3439     32        1 CONGRESS ST.#A7 ,JERSEY CITY, N.J.  07307   \n",
       "3440     32         1 CONGRESS ST.,#A8 ,JERSEY CITY, NJ  07307   \n",
       "3441     32             1 CONGRESS ST. ,JERSEY CITY, NJ  07307   \n",
       "3442     32            1321 WASHINGTON ST. ,HOBOKEN, NJ  07030   \n",
       "3443     32         1 CONGRESS ST.,#B1 ,JERSEY CITY, NJ  07307   \n",
       "3444     32   1 CONGRESS ST. UNIT B2 ,JERSEY CITY, N.J.  07307   \n",
       "3445     32       1 CONGRESS ST., # B3 ,JERSEY CITY, NJ  07307   \n",
       "3446     32             180 BOWERS ST. ,JERSEY CITY, NJ  07307   \n",
       "3447     32      1 CONGRESS ST., #B5 ,JERSEY CITY, N.J.  07307   \n",
       "3448     32        1 CONGRESS ST.,#206 ,JERSEY CITY, NJ  07307   \n",
       "3449     32     675 MONMOUTH ST., #223 ,JERSEY CITY, NJ  07310   \n",
       "3450     32             1 CONGRESS ST. ,JERSEY CITY, NJ  07307   \n",
       "3451     32        1 CONGRESS ST., #B9 ,JERSEY CITY, NJ  07307   \n",
       "3452     32        1 CONGRESS ST.,#B10 ,JERSEY CITY, NJ  07307   \n",
       "3453     32                619 DORIAN RD ,WESTFIELD, NJ  07090   \n",
       "3454     32              773 SPINNAKER ST ,SECAUCUS, NJ  07094   \n",
       "3455     32         1 CONGRESS ST.,#C2 ,JERSEY CITY, NJ  07307   \n",
       "3456     32          1916 PALISADE AVE. ,UNION CITY, NJ  07087   \n",
       "3457     32       1 CONGRESS ST., #C-4 ,JERSEY CITY, NJ  07307   \n",
       "3458     32  444 WASHINGTON BLVD #4506 ,JERSEY CITY, NJ  07310   \n",
       "3459     32        1 CONGRESS ST., #C6 ,JERSEY CITY, NJ  97307   \n",
       "3460     32    1 CONGRESS STREET #C7 ,JERSEY CITY, N.J.  07302   \n",
       "3461     32            3063 NE 183RD LANE ,AVENTURA, FL  33160   \n",
       "3462     32         1 CONGRESS STREET ,JERSEY CITY,  NJ  07307   \n",
       "3463     32       1 CONGRESS ST., #C10 ,JERSEY CITY, NJ  07307   \n",
       "3464     32        1 CONGRESS ST.,#C11 ,JERSEY CITY, NJ  07307   \n",
       "\n",
       "                 propertyFullAddress  \n",
       "3433  1 CONGRESS ST. Jersey City, NJ  \n",
       "3434  1 CONGRESS ST. Jersey City, NJ  \n",
       "3435  1 CONGRESS ST. Jersey City, NJ  \n",
       "3436  1 CONGRESS ST. Jersey City, NJ  \n",
       "3437  1 CONGRESS ST. Jersey City, NJ  \n",
       "3438  1 CONGRESS ST. Jersey City, NJ  \n",
       "3439  1 CONGRESS ST. Jersey City, NJ  \n",
       "3440  1 CONGRESS ST. Jersey City, NJ  \n",
       "3441  1 CONGRESS ST. Jersey City, NJ  \n",
       "3442  1 CONGRESS ST. Jersey City, NJ  \n",
       "3443  1 CONGRESS ST. Jersey City, NJ  \n",
       "3444  1 CONGRESS ST. Jersey City, NJ  \n",
       "3445  1 CONGRESS ST. Jersey City, NJ  \n",
       "3446  1 CONGRESS ST. Jersey City, NJ  \n",
       "3447  1 CONGRESS ST. Jersey City, NJ  \n",
       "3448  1 CONGRESS ST. Jersey City, NJ  \n",
       "3449  1 CONGRESS ST. Jersey City, NJ  \n",
       "3450  1 CONGRESS ST. Jersey City, NJ  \n",
       "3451  1 CONGRESS ST. Jersey City, NJ  \n",
       "3452  1 CONGRESS ST. Jersey City, NJ  \n",
       "3453  1 CONGRESS ST. Jersey City, NJ  \n",
       "3454  1 CONGRESS ST. Jersey City, NJ  \n",
       "3455  1 CONGRESS ST. Jersey City, NJ  \n",
       "3456  1 CONGRESS ST. Jersey City, NJ  \n",
       "3457  1 CONGRESS ST. Jersey City, NJ  \n",
       "3458  1 CONGRESS ST. Jersey City, NJ  \n",
       "3459  1 CONGRESS ST. Jersey City, NJ  \n",
       "3460  1 CONGRESS ST. Jersey City, NJ  \n",
       "3461  1 CONGRESS ST. Jersey City, NJ  \n",
       "3462  1 CONGRESS ST. Jersey City, NJ  \n",
       "3463  1 CONGRESS ST. Jersey City, NJ  \n",
       "3464  1 CONGRESS ST. Jersey City, NJ  "
      ],
      "text/html": "<div>\n<style scoped>\n    .dataframe tbody tr th:only-of-type {\n        vertical-align: middle;\n    }\n\n    .dataframe tbody tr th {\n        vertical-align: top;\n    }\n\n    .dataframe thead th {\n        text-align: right;\n    }\n</style>\n<table border=\"1\" class=\"dataframe\">\n  <thead>\n    <tr style=\"text-align: right;\">\n      <th></th>\n      <th>propertyLocation</th>\n      <th>ownersName</th>\n      <th>ownersMailingAddress</th>\n      <th>cityStateZip</th>\n      <th>propertiesOwned</th>\n      <th>units</th>\n      <th>ownersFullMailingAddress</th>\n      <th>propertyFullAddress</th>\n    </tr>\n  </thead>\n  <tbody>\n    <tr>\n      <th>3433</th>\n      <td>1 CONGRESS ST.</td>\n      <td>KIMBERLY ARMS % HOBOKEN RLTY.MGNT</td>\n      <td>1018 WASHINGTON ST.3RD FL</td>\n      <td>HOBOEKN, NJ  07030</td>\n      <td>1</td>\n      <td>32</td>\n      <td>1018 WASHINGTON ST.3RD FL ,HOBOEKN, NJ  07030</td>\n      <td>1 CONGRESS ST. Jersey City, NJ</td>\n    </tr>\n    <tr>\n      <th>3434</th>\n      <td>1 CONGRESS ST.</td>\n      <td>HANNI, ROBERT &amp; EVELYN</td>\n      <td>2709 CRESMONT AVE</td>\n      <td>EASTON, PA  18045</td>\n      <td>1</td>\n      <td>32</td>\n      <td>2709 CRESMONT AVE ,EASTON, PA  18045</td>\n      <td>1 CONGRESS ST. Jersey City, NJ</td>\n    </tr>\n    <tr>\n      <th>3435</th>\n      <td>1 CONGRESS ST.</td>\n      <td>MILLER, FRANKLIN T. &amp; ALLEN R.</td>\n      <td>1 CONGRESS ST., # A-3</td>\n      <td>JERSEY CITY, NJ  07307</td>\n      <td>1</td>\n      <td>32</td>\n      <td>1 CONGRESS ST., # A-3 ,JERSEY CITY, NJ  07307</td>\n      <td>1 CONGRESS ST. Jersey City, NJ</td>\n    </tr>\n    <tr>\n      <th>3436</th>\n      <td>1 CONGRESS ST.</td>\n      <td>JAMES, ANDREW &amp; SCHUBERT</td>\n      <td>444 WASHINGTON BLVD #4506</td>\n      <td>JERSEY CITY, NJ  07310</td>\n      <td>2</td>\n      <td>32</td>\n      <td>444 WASHINGTON BLVD #4506 ,JERSEY CITY, NJ  07310</td>\n      <td>1 CONGRESS ST. Jersey City, NJ</td>\n    </tr>\n    <tr>\n      <th>3437</th>\n      <td>1 CONGRESS ST.</td>\n      <td>AGINA, OMAR E.</td>\n      <td>32 WOLF DRIVE</td>\n      <td>WANAQUE, N.J.  07465</td>\n      <td>1</td>\n      <td>32</td>\n      <td>32 WOLF DRIVE ,WANAQUE, N.J.  07465</td>\n      <td>1 CONGRESS ST. Jersey City, NJ</td>\n    </tr>\n    <tr>\n      <th>3438</th>\n      <td>1 CONGRESS ST.</td>\n      <td>WOOD, SARAH &amp; MOORE, DOUGLAS</td>\n      <td>1 CONGRESS ST.#A6</td>\n      <td>JERSEY CITY, N.J.  07307</td>\n      <td>1</td>\n      <td>32</td>\n      <td>1 CONGRESS ST.#A6 ,JERSEY CITY, N.J.  07307</td>\n      <td>1 CONGRESS ST. Jersey City, NJ</td>\n    </tr>\n    <tr>\n      <th>3439</th>\n      <td>1 CONGRESS ST.</td>\n      <td>PATEL, DEVON &amp; JASANI, NISHA</td>\n      <td>1 CONGRESS ST.#A7</td>\n      <td>JERSEY CITY, N.J.  07307</td>\n      <td>1</td>\n      <td>32</td>\n      <td>1 CONGRESS ST.#A7 ,JERSEY CITY, N.J.  07307</td>\n      <td>1 CONGRESS ST. Jersey City, NJ</td>\n    </tr>\n    <tr>\n      <th>3440</th>\n      <td>1 CONGRESS ST.</td>\n      <td>DIAZ, ABIGAIL</td>\n      <td>1 CONGRESS ST.,#A8</td>\n      <td>JERSEY CITY, NJ  07307</td>\n      <td>1</td>\n      <td>32</td>\n      <td>1 CONGRESS ST.,#A8 ,JERSEY CITY, NJ  07307</td>\n      <td>1 CONGRESS ST. Jersey City, NJ</td>\n    </tr>\n    <tr>\n      <th>3441</th>\n      <td>1 CONGRESS ST.</td>\n      <td>EVANS, KAREN</td>\n      <td>1 CONGRESS ST.</td>\n      <td>JERSEY CITY, NJ  07307</td>\n      <td>1</td>\n      <td>32</td>\n      <td>1 CONGRESS ST. ,JERSEY CITY, NJ  07307</td>\n      <td>1 CONGRESS ST. Jersey City, NJ</td>\n    </tr>\n    <tr>\n      <th>3442</th>\n      <td>1 CONGRESS ST.</td>\n      <td>FRIO, DOMINIC</td>\n      <td>1321 WASHINGTON ST.</td>\n      <td>HOBOKEN, NJ  07030</td>\n      <td>1</td>\n      <td>32</td>\n      <td>1321 WASHINGTON ST. ,HOBOKEN, NJ  07030</td>\n      <td>1 CONGRESS ST. Jersey City, NJ</td>\n    </tr>\n    <tr>\n      <th>3443</th>\n      <td>1 CONGRESS ST.</td>\n      <td>PATEL, SHYAM</td>\n      <td>1 CONGRESS ST.,#B1</td>\n      <td>JERSEY CITY, NJ  07307</td>\n      <td>1</td>\n      <td>32</td>\n      <td>1 CONGRESS ST.,#B1 ,JERSEY CITY, NJ  07307</td>\n      <td>1 CONGRESS ST. Jersey City, NJ</td>\n    </tr>\n    <tr>\n      <th>3444</th>\n      <td>1 CONGRESS ST.</td>\n      <td>EVANS, CONSUELO</td>\n      <td>1 CONGRESS ST. UNIT B2</td>\n      <td>JERSEY CITY, N.J.  07307</td>\n      <td>2</td>\n      <td>32</td>\n      <td>1 CONGRESS ST. UNIT B2 ,JERSEY CITY, N.J.  07307</td>\n      <td>1 CONGRESS ST. Jersey City, NJ</td>\n    </tr>\n    <tr>\n      <th>3445</th>\n      <td>1 CONGRESS ST.</td>\n      <td>LONDONO, DANIEL &amp; HELENE</td>\n      <td>1 CONGRESS ST., # B3</td>\n      <td>JERSEY CITY, NJ  07307</td>\n      <td>1</td>\n      <td>32</td>\n      <td>1 CONGRESS ST., # B3 ,JERSEY CITY, NJ  07307</td>\n      <td>1 CONGRESS ST. Jersey City, NJ</td>\n    </tr>\n    <tr>\n      <th>3446</th>\n      <td>1 CONGRESS ST.</td>\n      <td>DUKE, LAWRENCE C.</td>\n      <td>180 BOWERS ST.</td>\n      <td>JERSEY CITY, NJ  07307</td>\n      <td>1</td>\n      <td>32</td>\n      <td>180 BOWERS ST. ,JERSEY CITY, NJ  07307</td>\n      <td>1 CONGRESS ST. Jersey City, NJ</td>\n    </tr>\n    <tr>\n      <th>3447</th>\n      <td>1 CONGRESS ST.</td>\n      <td>EVANS, CONSUELO</td>\n      <td>1 CONGRESS ST., #B5</td>\n      <td>JERSEY CITY, N.J.  07307</td>\n      <td>2</td>\n      <td>32</td>\n      <td>1 CONGRESS ST., #B5 ,JERSEY CITY, N.J.  07307</td>\n      <td>1 CONGRESS ST. Jersey City, NJ</td>\n    </tr>\n    <tr>\n      <th>3448</th>\n      <td>1 CONGRESS ST.</td>\n      <td>DOMINICI, ELVIN</td>\n      <td>1 CONGRESS ST.,#206</td>\n      <td>JERSEY CITY, NJ  07307</td>\n      <td>1</td>\n      <td>32</td>\n      <td>1 CONGRESS ST.,#206 ,JERSEY CITY, NJ  07307</td>\n      <td>1 CONGRESS ST. Jersey City, NJ</td>\n    </tr>\n    <tr>\n      <th>3449</th>\n      <td>1 CONGRESS ST.</td>\n      <td>GAL, JORDAN &amp; HADAR</td>\n      <td>675 MONMOUTH ST., #223</td>\n      <td>JERSEY CITY, NJ  07310</td>\n      <td>1</td>\n      <td>32</td>\n      <td>675 MONMOUTH ST., #223 ,JERSEY CITY, NJ  07310</td>\n      <td>1 CONGRESS ST. Jersey City, NJ</td>\n    </tr>\n    <tr>\n      <th>3450</th>\n      <td>1 CONGRESS ST.</td>\n      <td>AVADI,AJAY &amp; SIVASUBRAMANIAN,ANITHA</td>\n      <td>1 CONGRESS ST.</td>\n      <td>JERSEY CITY, NJ  07307</td>\n      <td>1</td>\n      <td>32</td>\n      <td>1 CONGRESS ST. ,JERSEY CITY, NJ  07307</td>\n      <td>1 CONGRESS ST. Jersey City, NJ</td>\n    </tr>\n    <tr>\n      <th>3451</th>\n      <td>1 CONGRESS ST.</td>\n      <td>DEO, BRIAN DANIEL</td>\n      <td>1 CONGRESS ST., #B9</td>\n      <td>JERSEY CITY, NJ  07307</td>\n      <td>1</td>\n      <td>32</td>\n      <td>1 CONGRESS ST., #B9 ,JERSEY CITY, NJ  07307</td>\n      <td>1 CONGRESS ST. Jersey City, NJ</td>\n    </tr>\n    <tr>\n      <th>3452</th>\n      <td>1 CONGRESS ST.</td>\n      <td>SCHPRECHMAN, PAUL</td>\n      <td>1 CONGRESS ST.,#B10</td>\n      <td>JERSEY CITY, NJ  07307</td>\n      <td>1</td>\n      <td>32</td>\n      <td>1 CONGRESS ST.,#B10 ,JERSEY CITY, NJ  07307</td>\n      <td>1 CONGRESS ST. Jersey City, NJ</td>\n    </tr>\n    <tr>\n      <th>3453</th>\n      <td>1 CONGRESS ST.</td>\n      <td>CRUMMY, KEVIN</td>\n      <td>619 DORIAN RD</td>\n      <td>WESTFIELD, NJ  07090</td>\n      <td>1</td>\n      <td>32</td>\n      <td>619 DORIAN RD ,WESTFIELD, NJ  07090</td>\n      <td>1 CONGRESS ST. Jersey City, NJ</td>\n    </tr>\n    <tr>\n      <th>3454</th>\n      <td>1 CONGRESS ST.</td>\n      <td>PATEL, DHARA</td>\n      <td>773 SPINNAKER ST</td>\n      <td>SECAUCUS, NJ  07094</td>\n      <td>1</td>\n      <td>32</td>\n      <td>773 SPINNAKER ST ,SECAUCUS, NJ  07094</td>\n      <td>1 CONGRESS ST. Jersey City, NJ</td>\n    </tr>\n    <tr>\n      <th>3455</th>\n      <td>1 CONGRESS ST.</td>\n      <td>BERNICKER, NICOLE S.</td>\n      <td>1 CONGRESS ST.,#C2</td>\n      <td>JERSEY CITY, NJ  07307</td>\n      <td>1</td>\n      <td>32</td>\n      <td>1 CONGRESS ST.,#C2 ,JERSEY CITY, NJ  07307</td>\n      <td>1 CONGRESS ST. Jersey City, NJ</td>\n    </tr>\n    <tr>\n      <th>3456</th>\n      <td>1 CONGRESS ST.</td>\n      <td>PARK, ALEXANDRA</td>\n      <td>1916 PALISADE AVE.</td>\n      <td>UNION CITY, NJ  07087</td>\n      <td>2</td>\n      <td>32</td>\n      <td>1916 PALISADE AVE. ,UNION CITY, NJ  07087</td>\n      <td>1 CONGRESS ST. Jersey City, NJ</td>\n    </tr>\n    <tr>\n      <th>3457</th>\n      <td>1 CONGRESS ST.</td>\n      <td>MESSENGER, MICHAEL R.</td>\n      <td>1 CONGRESS ST., #C-4</td>\n      <td>JERSEY CITY, NJ  07307</td>\n      <td>1</td>\n      <td>32</td>\n      <td>1 CONGRESS ST., #C-4 ,JERSEY CITY, NJ  07307</td>\n      <td>1 CONGRESS ST. Jersey City, NJ</td>\n    </tr>\n    <tr>\n      <th>3458</th>\n      <td>1 CONGRESS ST.</td>\n      <td>JAMES, ANDREW &amp; SCHUBERT</td>\n      <td>444 WASHINGTON BLVD #4506</td>\n      <td>JERSEY CITY, NJ  07310</td>\n      <td>2</td>\n      <td>32</td>\n      <td>444 WASHINGTON BLVD #4506 ,JERSEY CITY, NJ  07310</td>\n      <td>1 CONGRESS ST. Jersey City, NJ</td>\n    </tr>\n    <tr>\n      <th>3459</th>\n      <td>1 CONGRESS ST.</td>\n      <td>EIZENMAN, LOURDES PEREZ &amp; CHRIS</td>\n      <td>1 CONGRESS ST., #C6</td>\n      <td>JERSEY CITY, NJ  97307</td>\n      <td>1</td>\n      <td>32</td>\n      <td>1 CONGRESS ST., #C6 ,JERSEY CITY, NJ  97307</td>\n      <td>1 CONGRESS ST. Jersey City, NJ</td>\n    </tr>\n    <tr>\n      <th>3460</th>\n      <td>1 CONGRESS ST.</td>\n      <td>EVENS,C.&amp;GARCIA M.&amp; MENDEZ,E.</td>\n      <td>1 CONGRESS STREET #C7</td>\n      <td>JERSEY CITY, N.J.  07302</td>\n      <td>1</td>\n      <td>32</td>\n      <td>1 CONGRESS STREET #C7 ,JERSEY CITY, N.J.  07302</td>\n      <td>1 CONGRESS ST. Jersey City, NJ</td>\n    </tr>\n    <tr>\n      <th>3461</th>\n      <td>1 CONGRESS ST.</td>\n      <td>MARTINEZ, MARK</td>\n      <td>3063 NE 183RD LANE</td>\n      <td>AVENTURA, FL  33160</td>\n      <td>1</td>\n      <td>32</td>\n      <td>3063 NE 183RD LANE ,AVENTURA, FL  33160</td>\n      <td>1 CONGRESS ST. Jersey City, NJ</td>\n    </tr>\n    <tr>\n      <th>3462</th>\n      <td>1 CONGRESS ST.</td>\n      <td>ARANZAZU, SHIRLEY</td>\n      <td>1 CONGRESS STREET</td>\n      <td>JERSEY CITY,  NJ  07307</td>\n      <td>1</td>\n      <td>32</td>\n      <td>1 CONGRESS STREET ,JERSEY CITY,  NJ  07307</td>\n      <td>1 CONGRESS ST. Jersey City, NJ</td>\n    </tr>\n    <tr>\n      <th>3463</th>\n      <td>1 CONGRESS ST.</td>\n      <td>DELUCA, AMERICO N.</td>\n      <td>1 CONGRESS ST., #C10</td>\n      <td>JERSEY CITY, NJ  07307</td>\n      <td>1</td>\n      <td>32</td>\n      <td>1 CONGRESS ST., #C10 ,JERSEY CITY, NJ  07307</td>\n      <td>1 CONGRESS ST. Jersey City, NJ</td>\n    </tr>\n    <tr>\n      <th>3464</th>\n      <td>1 CONGRESS ST.</td>\n      <td>PATE, ANDREW</td>\n      <td>1 CONGRESS ST.,#C11</td>\n      <td>JERSEY CITY, NJ  07307</td>\n      <td>1</td>\n      <td>32</td>\n      <td>1 CONGRESS ST.,#C11 ,JERSEY CITY, NJ  07307</td>\n      <td>1 CONGRESS ST. Jersey City, NJ</td>\n    </tr>\n  </tbody>\n</table>\n</div>"
     },
     "metadata": {},
     "execution_count": 15
    }
   ],
   "source": [
    "df[df.propertyLocation == '1 CONGRESS ST.']"
   ]
  },
  {
   "cell_type": "code",
   "execution_count": null,
   "metadata": {},
   "outputs": [],
   "source": []
  }
 ]
}