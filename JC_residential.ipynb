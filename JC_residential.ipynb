{
 "metadata": {
  "orig_nbformat": 4,
  "kernelspec": {
   "name": "python3",
   "display_name": "Python 3.9.6",
   "language": "python"
  },
  "interpreter": {
   "hash": "ac2eaa0ea0ebeafcc7822e65e46aa9d4f966f30b695406963e145ea4a91cd4fc"
  }
 },
 "nbformat": 4,
 "nbformat_minor": 2,
 "cells": [
  {
   "source": [
    "## Cleaning and Normalization"
   ],
   "cell_type": "markdown",
   "metadata": {}
  },
  {
   "cell_type": "code",
   "execution_count": 1,
   "metadata": {},
   "outputs": [],
   "source": [
    "import pandas as pd \n",
    "import numpy as np\n",
    "\n",
    "from geopy.geocoders import Nominatim\n",
    "from geopy.extra.rate_limiter import RateLimiter\n",
    "# for returning lat long coordinates from addresses\n",
    "geolocator = Nominatim(user_agent=\"myGeolocator\", timeout=2)\n",
    "\n",
    "df = pd.read_csv('jersey_city_residential.csv')"
   ]
  },
  {
   "cell_type": "code",
   "execution_count": 2,
   "metadata": {},
   "outputs": [
    {
     "output_type": "execute_result",
     "data": {
      "text/plain": [
       "          propertyLocation                    ownersName ownersMailingAddress  \\\n",
       "0         677 LIBERTY AVE.                PEDDI, PRADEEP     677 LIBERTY AVE.   \n",
       "1         675 LIBERTY AVE.  PAREJA, HENRY A. & MIRYAM C.     675 LIBERTY AVE.   \n",
       "2         673 LIBERTY AVE.               HIRPARA, PRAVIN     673 LIBERTY AVE.   \n",
       "3         671 LIBERTY AVE.                  SINGH, HONEY     671 LIBERTY AVE.   \n",
       "4         669 LIBERTY AVE.     MARTIN, BENIGNO & CARIDAD     669 LIBERTY AVE.   \n",
       "...                    ...                           ...                  ...   \n",
       "41799     98 GARFIELD AVE.               SWINNEY, BRENDA     98 GARFIELD AVE.   \n",
       "41800    100 GARFIELD AVE.                SERVIDA, AUREA    100 GARFIELD AVE.   \n",
       "41801    102 GARFIELD AVE.        DIAZ, ANGEL & GALADITA  5405 STEVEHAVEN LN.   \n",
       "41802    104 GARFIELD AVE.           RODRIGUEZ, BENJAMIN    104 GARFIELD AVE.   \n",
       "41803  106 GARFIELD AVENUE             SANCHEZ, DAVID J.    106 GARFIELD AVE.   \n",
       "\n",
       "                   cityStateZip  \n",
       "0      JERSEY CITY, N.J.  07307  \n",
       "1      JERSEY CITY, N.J.  07307  \n",
       "2        JERSEY CITY, NJ  07307  \n",
       "3        JERSEY CITY, NJ  07307  \n",
       "4      JERSEY CITY, N.J.  07307  \n",
       "...                         ...  \n",
       "41799  JERSEY CITY, N.J.  07305  \n",
       "41800    JERSEY CITY, NJ  07305  \n",
       "41801      CUMMING , GA.  30028  \n",
       "41802  JERSEY CITY, N.J.  07305  \n",
       "41803    JERSEY CITY, NJ  07305  \n",
       "\n",
       "[41804 rows x 4 columns]"
      ],
      "text/html": "<div>\n<style scoped>\n    .dataframe tbody tr th:only-of-type {\n        vertical-align: middle;\n    }\n\n    .dataframe tbody tr th {\n        vertical-align: top;\n    }\n\n    .dataframe thead th {\n        text-align: right;\n    }\n</style>\n<table border=\"1\" class=\"dataframe\">\n  <thead>\n    <tr style=\"text-align: right;\">\n      <th></th>\n      <th>propertyLocation</th>\n      <th>ownersName</th>\n      <th>ownersMailingAddress</th>\n      <th>cityStateZip</th>\n    </tr>\n  </thead>\n  <tbody>\n    <tr>\n      <th>0</th>\n      <td>677 LIBERTY AVE.</td>\n      <td>PEDDI, PRADEEP</td>\n      <td>677 LIBERTY AVE.</td>\n      <td>JERSEY CITY, N.J.  07307</td>\n    </tr>\n    <tr>\n      <th>1</th>\n      <td>675 LIBERTY AVE.</td>\n      <td>PAREJA, HENRY A. &amp; MIRYAM C.</td>\n      <td>675 LIBERTY AVE.</td>\n      <td>JERSEY CITY, N.J.  07307</td>\n    </tr>\n    <tr>\n      <th>2</th>\n      <td>673 LIBERTY AVE.</td>\n      <td>HIRPARA, PRAVIN</td>\n      <td>673 LIBERTY AVE.</td>\n      <td>JERSEY CITY, NJ  07307</td>\n    </tr>\n    <tr>\n      <th>3</th>\n      <td>671 LIBERTY AVE.</td>\n      <td>SINGH, HONEY</td>\n      <td>671 LIBERTY AVE.</td>\n      <td>JERSEY CITY, NJ  07307</td>\n    </tr>\n    <tr>\n      <th>4</th>\n      <td>669 LIBERTY AVE.</td>\n      <td>MARTIN, BENIGNO &amp; CARIDAD</td>\n      <td>669 LIBERTY AVE.</td>\n      <td>JERSEY CITY, N.J.  07307</td>\n    </tr>\n    <tr>\n      <th>...</th>\n      <td>...</td>\n      <td>...</td>\n      <td>...</td>\n      <td>...</td>\n    </tr>\n    <tr>\n      <th>41799</th>\n      <td>98 GARFIELD AVE.</td>\n      <td>SWINNEY, BRENDA</td>\n      <td>98 GARFIELD AVE.</td>\n      <td>JERSEY CITY, N.J.  07305</td>\n    </tr>\n    <tr>\n      <th>41800</th>\n      <td>100 GARFIELD AVE.</td>\n      <td>SERVIDA, AUREA</td>\n      <td>100 GARFIELD AVE.</td>\n      <td>JERSEY CITY, NJ  07305</td>\n    </tr>\n    <tr>\n      <th>41801</th>\n      <td>102 GARFIELD AVE.</td>\n      <td>DIAZ, ANGEL &amp; GALADITA</td>\n      <td>5405 STEVEHAVEN LN.</td>\n      <td>CUMMING , GA.  30028</td>\n    </tr>\n    <tr>\n      <th>41802</th>\n      <td>104 GARFIELD AVE.</td>\n      <td>RODRIGUEZ, BENJAMIN</td>\n      <td>104 GARFIELD AVE.</td>\n      <td>JERSEY CITY, N.J.  07305</td>\n    </tr>\n    <tr>\n      <th>41803</th>\n      <td>106 GARFIELD AVENUE</td>\n      <td>SANCHEZ, DAVID J.</td>\n      <td>106 GARFIELD AVE.</td>\n      <td>JERSEY CITY, NJ  07305</td>\n    </tr>\n  </tbody>\n</table>\n<p>41804 rows × 4 columns</p>\n</div>"
     },
     "metadata": {},
     "execution_count": 2
    }
   ],
   "source": [
    "df"
   ]
  },
  {
   "cell_type": "code",
   "execution_count": 3,
   "metadata": {},
   "outputs": [],
   "source": [
    "# number of times property appears in first column\n",
    "def propertyAppearances(address=str): \n",
    "    return len(df[df.propertyLocation == address])"
   ]
  },
  {
   "cell_type": "code",
   "execution_count": 4,
   "metadata": {},
   "outputs": [],
   "source": [
    "# number of times owner appears in second column\n",
    "def propertiesOwned(owner=str):\n",
    "    return len(df[df.ownersName == owner])"
   ]
  },
  {
   "cell_type": "code",
   "execution_count": 5,
   "metadata": {},
   "outputs": [],
   "source": [
    "df['ownersFullMailingAddress'] = df['ownersMailingAddress'] + ', ' + df.cityStateZip\n",
    "df['propertyFullAddress'] = df.propertyLocation + ' Jersey City, NJ'"
   ]
  },
  {
   "cell_type": "code",
   "execution_count": 6,
   "metadata": {},
   "outputs": [
    {
     "output_type": "stream",
     "name": "stdout",
     "text": [
      "CPU times: user 3min 23s, sys: 2.84 s, total: 3min 26s\nWall time: 3min 29s\n"
     ]
    }
   ],
   "source": [
    "%%time \n",
    "df['propertiesOwned'] = [propertiesOwned(owner) for owner in df.ownersName]\n",
    "df['units'] = [propertyAppearances(address) for address in df.propertyLocation]"
   ]
  },
  {
   "cell_type": "code",
   "execution_count": 7,
   "metadata": {},
   "outputs": [
    {
     "output_type": "execute_result",
     "data": {
      "text/plain": [
       "Index(['propertyLocation', 'ownersName', 'ownersMailingAddress',\n",
       "       'cityStateZip', 'ownersFullMailingAddress', 'propertyFullAddress',\n",
       "       'propertiesOwned', 'units'],\n",
       "      dtype='object')"
      ]
     },
     "metadata": {},
     "execution_count": 7
    }
   ],
   "source": [
    "df.columns"
   ]
  },
  {
   "cell_type": "code",
   "execution_count": 8,
   "metadata": {},
   "outputs": [
    {
     "output_type": "execute_result",
     "data": {
      "text/plain": [
       "          propertyLocation                    ownersName ownersMailingAddress  \\\n",
       "0         677 LIBERTY AVE.                PEDDI, PRADEEP     677 LIBERTY AVE.   \n",
       "1         675 LIBERTY AVE.  PAREJA, HENRY A. & MIRYAM C.     675 LIBERTY AVE.   \n",
       "2         673 LIBERTY AVE.               HIRPARA, PRAVIN     673 LIBERTY AVE.   \n",
       "3         671 LIBERTY AVE.                  SINGH, HONEY     671 LIBERTY AVE.   \n",
       "4         669 LIBERTY AVE.     MARTIN, BENIGNO & CARIDAD     669 LIBERTY AVE.   \n",
       "...                    ...                           ...                  ...   \n",
       "41799     98 GARFIELD AVE.               SWINNEY, BRENDA     98 GARFIELD AVE.   \n",
       "41800    100 GARFIELD AVE.                SERVIDA, AUREA    100 GARFIELD AVE.   \n",
       "41801    102 GARFIELD AVE.        DIAZ, ANGEL & GALADITA  5405 STEVEHAVEN LN.   \n",
       "41802    104 GARFIELD AVE.           RODRIGUEZ, BENJAMIN    104 GARFIELD AVE.   \n",
       "41803  106 GARFIELD AVENUE             SANCHEZ, DAVID J.    106 GARFIELD AVE.   \n",
       "\n",
       "                   cityStateZip                     ownersFullMailingAddress  \\\n",
       "0      JERSEY CITY, N.J.  07307   677 LIBERTY AVE., JERSEY CITY, N.J.  07307   \n",
       "1      JERSEY CITY, N.J.  07307   675 LIBERTY AVE., JERSEY CITY, N.J.  07307   \n",
       "2        JERSEY CITY, NJ  07307     673 LIBERTY AVE., JERSEY CITY, NJ  07307   \n",
       "3        JERSEY CITY, NJ  07307     671 LIBERTY AVE., JERSEY CITY, NJ  07307   \n",
       "4      JERSEY CITY, N.J.  07307   669 LIBERTY AVE., JERSEY CITY, N.J.  07307   \n",
       "...                         ...                                          ...   \n",
       "41799  JERSEY CITY, N.J.  07305   98 GARFIELD AVE., JERSEY CITY, N.J.  07305   \n",
       "41800    JERSEY CITY, NJ  07305    100 GARFIELD AVE., JERSEY CITY, NJ  07305   \n",
       "41801      CUMMING , GA.  30028    5405 STEVEHAVEN LN., CUMMING , GA.  30028   \n",
       "41802  JERSEY CITY, N.J.  07305  104 GARFIELD AVE., JERSEY CITY, N.J.  07305   \n",
       "41803    JERSEY CITY, NJ  07305    106 GARFIELD AVE., JERSEY CITY, NJ  07305   \n",
       "\n",
       "                       propertyFullAddress  propertiesOwned  units  \n",
       "0         677 LIBERTY AVE. Jersey City, NJ                1      1  \n",
       "1         675 LIBERTY AVE. Jersey City, NJ                1      1  \n",
       "2         673 LIBERTY AVE. Jersey City, NJ                1      1  \n",
       "3         671 LIBERTY AVE. Jersey City, NJ                1      1  \n",
       "4         669 LIBERTY AVE. Jersey City, NJ                1      1  \n",
       "...                                    ...              ...    ...  \n",
       "41799     98 GARFIELD AVE. Jersey City, NJ                2      1  \n",
       "41800    100 GARFIELD AVE. Jersey City, NJ                1      1  \n",
       "41801    102 GARFIELD AVE. Jersey City, NJ                1      1  \n",
       "41802    104 GARFIELD AVE. Jersey City, NJ                1      1  \n",
       "41803  106 GARFIELD AVENUE Jersey City, NJ                1      1  \n",
       "\n",
       "[41804 rows x 8 columns]"
      ],
      "text/html": "<div>\n<style scoped>\n    .dataframe tbody tr th:only-of-type {\n        vertical-align: middle;\n    }\n\n    .dataframe tbody tr th {\n        vertical-align: top;\n    }\n\n    .dataframe thead th {\n        text-align: right;\n    }\n</style>\n<table border=\"1\" class=\"dataframe\">\n  <thead>\n    <tr style=\"text-align: right;\">\n      <th></th>\n      <th>propertyLocation</th>\n      <th>ownersName</th>\n      <th>ownersMailingAddress</th>\n      <th>cityStateZip</th>\n      <th>ownersFullMailingAddress</th>\n      <th>propertyFullAddress</th>\n      <th>propertiesOwned</th>\n      <th>units</th>\n    </tr>\n  </thead>\n  <tbody>\n    <tr>\n      <th>0</th>\n      <td>677 LIBERTY AVE.</td>\n      <td>PEDDI, PRADEEP</td>\n      <td>677 LIBERTY AVE.</td>\n      <td>JERSEY CITY, N.J.  07307</td>\n      <td>677 LIBERTY AVE., JERSEY CITY, N.J.  07307</td>\n      <td>677 LIBERTY AVE. Jersey City, NJ</td>\n      <td>1</td>\n      <td>1</td>\n    </tr>\n    <tr>\n      <th>1</th>\n      <td>675 LIBERTY AVE.</td>\n      <td>PAREJA, HENRY A. &amp; MIRYAM C.</td>\n      <td>675 LIBERTY AVE.</td>\n      <td>JERSEY CITY, N.J.  07307</td>\n      <td>675 LIBERTY AVE., JERSEY CITY, N.J.  07307</td>\n      <td>675 LIBERTY AVE. Jersey City, NJ</td>\n      <td>1</td>\n      <td>1</td>\n    </tr>\n    <tr>\n      <th>2</th>\n      <td>673 LIBERTY AVE.</td>\n      <td>HIRPARA, PRAVIN</td>\n      <td>673 LIBERTY AVE.</td>\n      <td>JERSEY CITY, NJ  07307</td>\n      <td>673 LIBERTY AVE., JERSEY CITY, NJ  07307</td>\n      <td>673 LIBERTY AVE. Jersey City, NJ</td>\n      <td>1</td>\n      <td>1</td>\n    </tr>\n    <tr>\n      <th>3</th>\n      <td>671 LIBERTY AVE.</td>\n      <td>SINGH, HONEY</td>\n      <td>671 LIBERTY AVE.</td>\n      <td>JERSEY CITY, NJ  07307</td>\n      <td>671 LIBERTY AVE., JERSEY CITY, NJ  07307</td>\n      <td>671 LIBERTY AVE. Jersey City, NJ</td>\n      <td>1</td>\n      <td>1</td>\n    </tr>\n    <tr>\n      <th>4</th>\n      <td>669 LIBERTY AVE.</td>\n      <td>MARTIN, BENIGNO &amp; CARIDAD</td>\n      <td>669 LIBERTY AVE.</td>\n      <td>JERSEY CITY, N.J.  07307</td>\n      <td>669 LIBERTY AVE., JERSEY CITY, N.J.  07307</td>\n      <td>669 LIBERTY AVE. Jersey City, NJ</td>\n      <td>1</td>\n      <td>1</td>\n    </tr>\n    <tr>\n      <th>...</th>\n      <td>...</td>\n      <td>...</td>\n      <td>...</td>\n      <td>...</td>\n      <td>...</td>\n      <td>...</td>\n      <td>...</td>\n      <td>...</td>\n    </tr>\n    <tr>\n      <th>41799</th>\n      <td>98 GARFIELD AVE.</td>\n      <td>SWINNEY, BRENDA</td>\n      <td>98 GARFIELD AVE.</td>\n      <td>JERSEY CITY, N.J.  07305</td>\n      <td>98 GARFIELD AVE., JERSEY CITY, N.J.  07305</td>\n      <td>98 GARFIELD AVE. Jersey City, NJ</td>\n      <td>2</td>\n      <td>1</td>\n    </tr>\n    <tr>\n      <th>41800</th>\n      <td>100 GARFIELD AVE.</td>\n      <td>SERVIDA, AUREA</td>\n      <td>100 GARFIELD AVE.</td>\n      <td>JERSEY CITY, NJ  07305</td>\n      <td>100 GARFIELD AVE., JERSEY CITY, NJ  07305</td>\n      <td>100 GARFIELD AVE. Jersey City, NJ</td>\n      <td>1</td>\n      <td>1</td>\n    </tr>\n    <tr>\n      <th>41801</th>\n      <td>102 GARFIELD AVE.</td>\n      <td>DIAZ, ANGEL &amp; GALADITA</td>\n      <td>5405 STEVEHAVEN LN.</td>\n      <td>CUMMING , GA.  30028</td>\n      <td>5405 STEVEHAVEN LN., CUMMING , GA.  30028</td>\n      <td>102 GARFIELD AVE. Jersey City, NJ</td>\n      <td>1</td>\n      <td>1</td>\n    </tr>\n    <tr>\n      <th>41802</th>\n      <td>104 GARFIELD AVE.</td>\n      <td>RODRIGUEZ, BENJAMIN</td>\n      <td>104 GARFIELD AVE.</td>\n      <td>JERSEY CITY, N.J.  07305</td>\n      <td>104 GARFIELD AVE., JERSEY CITY, N.J.  07305</td>\n      <td>104 GARFIELD AVE. Jersey City, NJ</td>\n      <td>1</td>\n      <td>1</td>\n    </tr>\n    <tr>\n      <th>41803</th>\n      <td>106 GARFIELD AVENUE</td>\n      <td>SANCHEZ, DAVID J.</td>\n      <td>106 GARFIELD AVE.</td>\n      <td>JERSEY CITY, NJ  07305</td>\n      <td>106 GARFIELD AVE., JERSEY CITY, NJ  07305</td>\n      <td>106 GARFIELD AVENUE Jersey City, NJ</td>\n      <td>1</td>\n      <td>1</td>\n    </tr>\n  </tbody>\n</table>\n<p>41804 rows × 8 columns</p>\n</div>"
     },
     "metadata": {},
     "execution_count": 8
    }
   ],
   "source": [
    "df"
   ]
  },
  {
   "cell_type": "code",
   "execution_count": 9,
   "metadata": {},
   "outputs": [],
   "source": [
    "df['gCode'] = df.propertyFullAddress.apply(geolocator.geocode)"
   ]
  },
  {
   "cell_type": "code",
   "execution_count": 58,
   "metadata": {},
   "outputs": [],
   "source": [
    "# number of addresses address which did not geocode\n",
    "geocode_errors = [i for i,e in enumerate(df.gCode) if e == None]"
   ]
  },
  {
   "cell_type": "code",
   "execution_count": 70,
   "metadata": {},
   "outputs": [
    {
     "output_type": "execute_result",
     "data": {
      "text/plain": [
       "12         653 LIBERTY ST. Jersey City, NJ\n",
       "112     3709 KENNEDY BLVD. Jersey City, NJ\n",
       "113     3707 KENNEDY BLVD. Jersey City, NJ\n",
       "114     3705 KENNEDY BLVD. Jersey City, NJ\n",
       "115     3703 KENNEDY BLVD. Jersey City, NJ\n",
       "175     3697 KENNEDY BLVD. Jersey City, NJ\n",
       "177     3691 KENNEDY BLVD. Jersey City, NJ\n",
       "178     3687 KENNEDY BLVD. Jersey City, NJ\n",
       "179     3685 KENNEDY BLVD. Jersey City, NJ\n",
       "180     3683 KENNEDY BLVD. Jersey City, NJ\n",
       "181     3683 KENNEDY BLVD. Jersey City, NJ\n",
       "182     3683 KENNEDY BLVD. Jersey City, NJ\n",
       "183     3683 KENNEDY BLVD. Jersey City, NJ\n",
       "184     3683 KENNEDY BLVD. Jersey City, NJ\n",
       "185     3683 KENNEDY BLVD. Jersey City, NJ\n",
       "263     3675 KENNEDY BLVD. Jersey City, NJ\n",
       "264     3673 KENNEDY BLVD. Jersey City, NJ\n",
       "265     3671 KENNEDY BLVD. Jersey City, NJ\n",
       "266     3669 KENNEDY BLVD. Jersey City, NJ\n",
       "268     3663 KENNEDY BLVD. Jersey City, NJ\n",
       "347     3702 KENNEDY BLVD. Jersey City, NJ\n",
       "348     3704 KENNEDY BLVD. Jersey City, NJ\n",
       "349     3706 KENNEDY BLVD. Jersey City, NJ\n",
       "350     3708 KENNEDY BLVD. Jersey City, NJ\n",
       "351     3710 KENNEDY BLVD. Jersey City, NJ\n",
       "352     3712 KENNEDY BLVD. Jersey City, NJ\n",
       "353     3714 KENNEDY BLVD. Jersey City, NJ\n",
       "480     3688 KENNEDY BLVD. Jersey City, NJ\n",
       "648    274-76 COLUMBIA AVE Jersey City, NJ\n",
       "728     3655 KENNEDY BLVD. Jersey City, NJ\n",
       "729     3653 KENNEDY BLVD. Jersey City, NJ\n",
       "730     3651 KENNEDY BLVD. Jersey City, NJ\n",
       "731     3649 KENNEDY BLVD. Jersey City, NJ\n",
       "732     3647 KENNEDY BLVD. Jersey City, NJ\n",
       "733     3645 KENNEDY BLVD. Jersey City, NJ\n",
       "734     3643 KENNEDY BLVD. Jersey City, NJ\n",
       "795     3637 KENNEDY BLVD. Jersey City, NJ\n",
       "796     3635 KENNEDY BLVD. Jersey City, NJ\n",
       "797    3633A KENNEDY BLVD. Jersey City, NJ\n",
       "798     3633 KENNEDY BLVD. Jersey City, NJ\n",
       "799     3631 KENNEDY BLVD. Jersey City, NJ\n",
       "800     3629 KENNEDY BLVD. Jersey City, NJ\n",
       "801     3627 KENNEDY BLVD. Jersey City, NJ\n",
       "802     3625 KENNEDY BLVD. Jersey City, NJ\n",
       "858     3613 KENNEDY BLVD. Jersey City, NJ\n",
       "859     3615 KENNEDY BLVD. Jersey City, NJ\n",
       "860     3611 KENNEDY BLVD. Jersey City, NJ\n",
       "861     3609 KENNEDY BLVD. Jersey City, NJ\n",
       "862     3607 KENNEDY BLVD. Jersey City, NJ\n",
       "863     3603 KENNEDY BLVD. Jersey City, NJ\n",
       "Name: propertyFullAddress, dtype: object"
      ]
     },
     "metadata": {},
     "execution_count": 70
    }
   ],
   "source": [
    "# plug them into iloc to return a dataframe of errors\n",
    "df.iloc[geocode_errors]['propertyFullAddress'].head(50)"
   ]
  },
  {
   "cell_type": "code",
   "execution_count": 52,
   "metadata": {},
   "outputs": [
    {
     "output_type": "execute_result",
     "data": {
      "text/plain": [
       "'653 LIBERTY ST. Jersey City, NJ'"
      ]
     },
     "metadata": {},
     "execution_count": 52
    }
   ],
   "source": [
    "# the reason why this didn't gecode properly is because there is no\n",
    "# Liberty Street in Jersey City\n",
    "df.propertyFullAddress[12]"
   ]
  },
  {
   "cell_type": "code",
   "execution_count": 56,
   "metadata": {},
   "outputs": [
    {
     "output_type": "execute_result",
     "data": {
      "text/plain": [
       "Location(653, Liberty Avenue, Jersey City, Hudson County, New Jersey, 07307, United States, (40.75896345454545, -74.05096481818181, 0.0))"
      ]
     },
     "metadata": {},
     "execution_count": 56
    }
   ],
   "source": [
    "geolocator.geocode('653 LIBERTY AVE, Jersey City, NJ')"
   ]
  },
  {
   "cell_type": "code",
   "execution_count": 63,
   "metadata": {},
   "outputs": [
    {
     "output_type": "execute_result",
     "data": {
      "text/plain": [
       "112    3709 KENNEDY BLVD. Jersey City, NJ\n",
       "113    3707 KENNEDY BLVD. Jersey City, NJ\n",
       "114    3705 KENNEDY BLVD. Jersey City, NJ\n",
       "Name: propertyFullAddress, dtype: object"
      ]
     },
     "metadata": {},
     "execution_count": 63
    }
   ],
   "source": [
    "# There is no \"Kennedy BLVD\" but a John F Kennedy BLVD\n",
    "df.propertyFullAddress[112:115]"
   ]
  },
  {
   "cell_type": "code",
   "execution_count": 71,
   "metadata": {},
   "outputs": [
    {
     "output_type": "execute_result",
     "data": {
      "text/plain": [
       "Location(274, Columbia Avenue, Jersey City, Hudson County, New Jersey, 07307, United States, (40.75704381395349, -74.05096265116279, 0.0))"
      ]
     },
     "metadata": {},
     "execution_count": 71
    }
   ],
   "source": [
    "#the hyphenated address threw off the geolocator\n",
    "geolocator.geocode('274 COLUMBIA AVE Jersey City, NJ')"
   ]
  },
  {
   "cell_type": "code",
   "execution_count": 62,
   "metadata": {},
   "outputs": [
    {
     "output_type": "execute_result",
     "data": {
      "text/plain": [
       "'795 SECAUCUS RD. Jersey City, NJ'"
      ]
     },
     "metadata": {},
     "execution_count": 62
    }
   ],
   "source": [
    "df.propertyFullAddress[111]"
   ]
  },
  {
   "cell_type": "code",
   "execution_count": 57,
   "metadata": {},
   "outputs": [
    {
     "output_type": "execute_result",
     "data": {
      "text/plain": [
       "0      677 LIBERTY AVE. Jersey City, NJ\n",
       "1      675 LIBERTY AVE. Jersey City, NJ\n",
       "2      673 LIBERTY AVE. Jersey City, NJ\n",
       "3      671 LIBERTY AVE. Jersey City, NJ\n",
       "4      669 LIBERTY AVE. Jersey City, NJ\n",
       "5      667 LIBERTY AVE. Jersey City, NJ\n",
       "6      665 LIBERTY AVE. Jersey City, NJ\n",
       "7      663 LIBERTY AVE. Jersey City, NJ\n",
       "8      661 LIBERTY AVE. Jersey City, NJ\n",
       "9      659 LIBERTY AVE. Jersey City, NJ\n",
       "10     657 LIBERTY AVE. Jersey City, NJ\n",
       "11     655 LIBERTY AVE. Jersey City, NJ\n",
       "12      653 LIBERTY ST. Jersey City, NJ\n",
       "13     651 LIBERTY AVE. Jersey City, NJ\n",
       "14     649 LIBERTY AVE. Jersey City, NJ\n",
       "15     647 LIBERTY AVE. Jersey City, NJ\n",
       "16     645 LIBERTY AVE. Jersey City, NJ\n",
       "17     643 LIBERTY AVE. Jersey City, NJ\n",
       "18     641 LIBERTY AVE. Jersey City, NJ\n",
       "19     639 LIBERTY AVE. Jersey City, NJ\n",
       "20      637 LIBERTY AVE Jersey City, NJ\n",
       "21     337 COLUMBIA AVE Jersey City, NJ\n",
       "22    335 COLUMBIA AVE. Jersey City, NJ\n",
       "23    333 COLUMBIA AVE. Jersey City, NJ\n",
       "24    331 COLUMBIA AVE. Jersey City, NJ\n",
       "25    329 COLUMBIA AVE. Jersey City, NJ\n",
       "26    327 COLUMBIA AVE. Jersey City, NJ\n",
       "27    325 COLUMBIA AVE. Jersey City, NJ\n",
       "28    323 COLUMBIA AVE. Jersey City, NJ\n",
       "29    321 COLUMBIA AVE. Jersey City, NJ\n",
       "30    319 COLUMBIA AVE. Jersey City, NJ\n",
       "31    317 COLUMBIA AVE. Jersey City, NJ\n",
       "32    315 COLUMBIA AVE. Jersey City, NJ\n",
       "33    313 COLUMBIA AVE. Jersey City, NJ\n",
       "34    311 COLUMBIA AVE. Jersey City, NJ\n",
       "35    309 COLUMBIA AVE. Jersey City, NJ\n",
       "36    307 COLUMBIA AVE. Jersey City, NJ\n",
       "37    305 COLUMBIA AVE. Jersey City, NJ\n",
       "38    303 COLUMBIA AVE. Jersey City, NJ\n",
       "39    301 COLUMBIA AVE. Jersey City, NJ\n",
       "40    299 COLUMBIA AVE. Jersey City, NJ\n",
       "41     638 LIBERTY AVE. Jersey City, NJ\n",
       "42     642 LIBERTY AVE. Jersey City, NJ\n",
       "43     640 LIBERTY AVE. Jersey City, NJ\n",
       "44     646 LIBERTY AVE. Jersey City, NJ\n",
       "45     648 LIBERTY AVE. Jersey City, NJ\n",
       "46     650 LIBERTY AVE. Jersey City, NJ\n",
       "47     652 LIBERTY AVE. Jersey City, NJ\n",
       "48     654 LIBERTY AVE. Jersey City, NJ\n",
       "49     656 LIBERTY AVE. Jersey City, NJ\n",
       "Name: propertyFullAddress, dtype: object"
      ]
     },
     "metadata": {},
     "execution_count": 57
    }
   ],
   "source": [
    "df.propertyFullAddress.head(50)"
   ]
  },
  {
   "cell_type": "code",
   "execution_count": 72,
   "metadata": {},
   "outputs": [],
   "source": [
    "df.to_pickle('JC_residential.pkl')"
   ]
  }
 ]
}