{
 "metadata": {
  "orig_nbformat": 4,
  "kernelspec": {
   "name": "python3",
   "display_name": "Python 3.9.6",
   "language": "python"
  },
  "interpreter": {
   "hash": "ac2eaa0ea0ebeafcc7822e65e46aa9d4f966f30b695406963e145ea4a91cd4fc"
  }
 },
 "nbformat": 4,
 "nbformat_minor": 2,
 "cells": [
  {
   "source": [
    "## Cleaning and Normalization"
   ],
   "cell_type": "markdown",
   "metadata": {}
  },
  {
   "cell_type": "code",
   "execution_count": 1,
   "metadata": {},
   "outputs": [],
   "source": [
    "import pandas as pd \n",
    "import numpy as np\n",
    "\n",
    "from geopy.geocoders import Nominatim\n",
    "from geopy.extra.rate_limiter import RateLimiter\n",
    "# for returning lat long coordinates from addresses\n",
    "geolocator = Nominatim(user_agent=\"myGeolocator\", timeout=2)\n",
    "\n",
    "\n",
    "# since we've pickled the dataframe after attempting to geocode…\n",
    "# …we'll read the pickle and not the csv\n",
    "#df = pd.read_csv('jersey_city_residential.csv')\n",
    "\n",
    "df = pd.read_pickle('JC_residential.pkl')"
   ]
  },
  {
   "cell_type": "code",
   "execution_count": 6,
   "metadata": {},
   "outputs": [
    {
     "output_type": "execute_result",
     "data": {
      "text/plain": [
       "          propertyLocation                    ownersName ownersMailingAddress  \\\n",
       "0         677 LIBERTY AVE.                PEDDI, PRADEEP     677 LIBERTY AVE.   \n",
       "1         675 LIBERTY AVE.  PAREJA, HENRY A. & MIRYAM C.     675 LIBERTY AVE.   \n",
       "2         673 LIBERTY AVE.               HIRPARA, PRAVIN     673 LIBERTY AVE.   \n",
       "3         671 LIBERTY AVE.                  SINGH, HONEY     671 LIBERTY AVE.   \n",
       "4         669 LIBERTY AVE.     MARTIN, BENIGNO & CARIDAD     669 LIBERTY AVE.   \n",
       "...                    ...                           ...                  ...   \n",
       "41799     98 GARFIELD AVE.               SWINNEY, BRENDA     98 GARFIELD AVE.   \n",
       "41800    100 GARFIELD AVE.                SERVIDA, AUREA    100 GARFIELD AVE.   \n",
       "41801    102 GARFIELD AVE.        DIAZ, ANGEL & GALADITA  5405 STEVEHAVEN LN.   \n",
       "41802    104 GARFIELD AVE.           RODRIGUEZ, BENJAMIN    104 GARFIELD AVE.   \n",
       "41803  106 GARFIELD AVENUE             SANCHEZ, DAVID J.    106 GARFIELD AVE.   \n",
       "\n",
       "                   cityStateZip                     ownersFullMailingAddress  \\\n",
       "0      JERSEY CITY, N.J.  07307   677 LIBERTY AVE., JERSEY CITY, N.J.  07307   \n",
       "1      JERSEY CITY, N.J.  07307   675 LIBERTY AVE., JERSEY CITY, N.J.  07307   \n",
       "2        JERSEY CITY, NJ  07307     673 LIBERTY AVE., JERSEY CITY, NJ  07307   \n",
       "3        JERSEY CITY, NJ  07307     671 LIBERTY AVE., JERSEY CITY, NJ  07307   \n",
       "4      JERSEY CITY, N.J.  07307   669 LIBERTY AVE., JERSEY CITY, N.J.  07307   \n",
       "...                         ...                                          ...   \n",
       "41799  JERSEY CITY, N.J.  07305   98 GARFIELD AVE., JERSEY CITY, N.J.  07305   \n",
       "41800    JERSEY CITY, NJ  07305    100 GARFIELD AVE., JERSEY CITY, NJ  07305   \n",
       "41801      CUMMING , GA.  30028    5405 STEVEHAVEN LN., CUMMING , GA.  30028   \n",
       "41802  JERSEY CITY, N.J.  07305  104 GARFIELD AVE., JERSEY CITY, N.J.  07305   \n",
       "41803    JERSEY CITY, NJ  07305    106 GARFIELD AVE., JERSEY CITY, NJ  07305   \n",
       "\n",
       "                       propertyFullAddress  propertiesOwned  units  \\\n",
       "0         677 LIBERTY AVE. Jersey City, NJ                1      1   \n",
       "1         675 LIBERTY AVE. Jersey City, NJ                1      1   \n",
       "2         673 LIBERTY AVE. Jersey City, NJ                1      1   \n",
       "3         671 LIBERTY AVE. Jersey City, NJ                1      1   \n",
       "4         669 LIBERTY AVE. Jersey City, NJ                1      1   \n",
       "...                                    ...              ...    ...   \n",
       "41799     98 GARFIELD AVE. Jersey City, NJ                2      1   \n",
       "41800    100 GARFIELD AVE. Jersey City, NJ                1      1   \n",
       "41801    102 GARFIELD AVE. Jersey City, NJ                1      1   \n",
       "41802    104 GARFIELD AVE. Jersey City, NJ                1      1   \n",
       "41803  106 GARFIELD AVENUE Jersey City, NJ                1      1   \n",
       "\n",
       "                                                   gCode  \n",
       "0      (677, Liberty Avenue, Jersey City, Hudson Coun...  \n",
       "1      (675, Liberty Avenue, Jersey City, Hudson Coun...  \n",
       "2      (673, Liberty Avenue, Jersey City, Hudson Coun...  \n",
       "3      (671, Liberty Avenue, Jersey City, Hudson Coun...  \n",
       "4      (669, Liberty Avenue, Jersey City, Hudson Coun...  \n",
       "...                                                  ...  \n",
       "41799  (98, Garfield Avenue, Communipaw, Jersey City,...  \n",
       "41800  (100, Garfield Avenue, Jersey City, Hudson Cou...  \n",
       "41801  (102, Garfield Avenue, Jersey City, Hudson Cou...  \n",
       "41802  (104, Garfield Avenue, Jersey City, Hudson Cou...  \n",
       "41803  (106, Garfield Avenue, Jersey City, Hudson Cou...  \n",
       "\n",
       "[41804 rows x 9 columns]"
      ],
      "text/html": "<div>\n<style scoped>\n    .dataframe tbody tr th:only-of-type {\n        vertical-align: middle;\n    }\n\n    .dataframe tbody tr th {\n        vertical-align: top;\n    }\n\n    .dataframe thead th {\n        text-align: right;\n    }\n</style>\n<table border=\"1\" class=\"dataframe\">\n  <thead>\n    <tr style=\"text-align: right;\">\n      <th></th>\n      <th>propertyLocation</th>\n      <th>ownersName</th>\n      <th>ownersMailingAddress</th>\n      <th>cityStateZip</th>\n      <th>ownersFullMailingAddress</th>\n      <th>propertyFullAddress</th>\n      <th>propertiesOwned</th>\n      <th>units</th>\n      <th>gCode</th>\n    </tr>\n  </thead>\n  <tbody>\n    <tr>\n      <th>0</th>\n      <td>677 LIBERTY AVE.</td>\n      <td>PEDDI, PRADEEP</td>\n      <td>677 LIBERTY AVE.</td>\n      <td>JERSEY CITY, N.J.  07307</td>\n      <td>677 LIBERTY AVE., JERSEY CITY, N.J.  07307</td>\n      <td>677 LIBERTY AVE. Jersey City, NJ</td>\n      <td>1</td>\n      <td>1</td>\n      <td>(677, Liberty Avenue, Jersey City, Hudson Coun...</td>\n    </tr>\n    <tr>\n      <th>1</th>\n      <td>675 LIBERTY AVE.</td>\n      <td>PAREJA, HENRY A. &amp; MIRYAM C.</td>\n      <td>675 LIBERTY AVE.</td>\n      <td>JERSEY CITY, N.J.  07307</td>\n      <td>675 LIBERTY AVE., JERSEY CITY, N.J.  07307</td>\n      <td>675 LIBERTY AVE. Jersey City, NJ</td>\n      <td>1</td>\n      <td>1</td>\n      <td>(675, Liberty Avenue, Jersey City, Hudson Coun...</td>\n    </tr>\n    <tr>\n      <th>2</th>\n      <td>673 LIBERTY AVE.</td>\n      <td>HIRPARA, PRAVIN</td>\n      <td>673 LIBERTY AVE.</td>\n      <td>JERSEY CITY, NJ  07307</td>\n      <td>673 LIBERTY AVE., JERSEY CITY, NJ  07307</td>\n      <td>673 LIBERTY AVE. Jersey City, NJ</td>\n      <td>1</td>\n      <td>1</td>\n      <td>(673, Liberty Avenue, Jersey City, Hudson Coun...</td>\n    </tr>\n    <tr>\n      <th>3</th>\n      <td>671 LIBERTY AVE.</td>\n      <td>SINGH, HONEY</td>\n      <td>671 LIBERTY AVE.</td>\n      <td>JERSEY CITY, NJ  07307</td>\n      <td>671 LIBERTY AVE., JERSEY CITY, NJ  07307</td>\n      <td>671 LIBERTY AVE. Jersey City, NJ</td>\n      <td>1</td>\n      <td>1</td>\n      <td>(671, Liberty Avenue, Jersey City, Hudson Coun...</td>\n    </tr>\n    <tr>\n      <th>4</th>\n      <td>669 LIBERTY AVE.</td>\n      <td>MARTIN, BENIGNO &amp; CARIDAD</td>\n      <td>669 LIBERTY AVE.</td>\n      <td>JERSEY CITY, N.J.  07307</td>\n      <td>669 LIBERTY AVE., JERSEY CITY, N.J.  07307</td>\n      <td>669 LIBERTY AVE. Jersey City, NJ</td>\n      <td>1</td>\n      <td>1</td>\n      <td>(669, Liberty Avenue, Jersey City, Hudson Coun...</td>\n    </tr>\n    <tr>\n      <th>...</th>\n      <td>...</td>\n      <td>...</td>\n      <td>...</td>\n      <td>...</td>\n      <td>...</td>\n      <td>...</td>\n      <td>...</td>\n      <td>...</td>\n      <td>...</td>\n    </tr>\n    <tr>\n      <th>41799</th>\n      <td>98 GARFIELD AVE.</td>\n      <td>SWINNEY, BRENDA</td>\n      <td>98 GARFIELD AVE.</td>\n      <td>JERSEY CITY, N.J.  07305</td>\n      <td>98 GARFIELD AVE., JERSEY CITY, N.J.  07305</td>\n      <td>98 GARFIELD AVE. Jersey City, NJ</td>\n      <td>2</td>\n      <td>1</td>\n      <td>(98, Garfield Avenue, Communipaw, Jersey City,...</td>\n    </tr>\n    <tr>\n      <th>41800</th>\n      <td>100 GARFIELD AVE.</td>\n      <td>SERVIDA, AUREA</td>\n      <td>100 GARFIELD AVE.</td>\n      <td>JERSEY CITY, NJ  07305</td>\n      <td>100 GARFIELD AVE., JERSEY CITY, NJ  07305</td>\n      <td>100 GARFIELD AVE. Jersey City, NJ</td>\n      <td>1</td>\n      <td>1</td>\n      <td>(100, Garfield Avenue, Jersey City, Hudson Cou...</td>\n    </tr>\n    <tr>\n      <th>41801</th>\n      <td>102 GARFIELD AVE.</td>\n      <td>DIAZ, ANGEL &amp; GALADITA</td>\n      <td>5405 STEVEHAVEN LN.</td>\n      <td>CUMMING , GA.  30028</td>\n      <td>5405 STEVEHAVEN LN., CUMMING , GA.  30028</td>\n      <td>102 GARFIELD AVE. Jersey City, NJ</td>\n      <td>1</td>\n      <td>1</td>\n      <td>(102, Garfield Avenue, Jersey City, Hudson Cou...</td>\n    </tr>\n    <tr>\n      <th>41802</th>\n      <td>104 GARFIELD AVE.</td>\n      <td>RODRIGUEZ, BENJAMIN</td>\n      <td>104 GARFIELD AVE.</td>\n      <td>JERSEY CITY, N.J.  07305</td>\n      <td>104 GARFIELD AVE., JERSEY CITY, N.J.  07305</td>\n      <td>104 GARFIELD AVE. Jersey City, NJ</td>\n      <td>1</td>\n      <td>1</td>\n      <td>(104, Garfield Avenue, Jersey City, Hudson Cou...</td>\n    </tr>\n    <tr>\n      <th>41803</th>\n      <td>106 GARFIELD AVENUE</td>\n      <td>SANCHEZ, DAVID J.</td>\n      <td>106 GARFIELD AVE.</td>\n      <td>JERSEY CITY, NJ  07305</td>\n      <td>106 GARFIELD AVE., JERSEY CITY, NJ  07305</td>\n      <td>106 GARFIELD AVENUE Jersey City, NJ</td>\n      <td>1</td>\n      <td>1</td>\n      <td>(106, Garfield Avenue, Jersey City, Hudson Cou...</td>\n    </tr>\n  </tbody>\n</table>\n<p>41804 rows × 9 columns</p>\n</div>"
     },
     "metadata": {},
     "execution_count": 6
    }
   ],
   "source": [
    "df"
   ]
  },
  {
   "cell_type": "code",
   "execution_count": 13,
   "metadata": {},
   "outputs": [],
   "source": [
    "# number of times owner appears in second column\n",
    "def propertiesOwned(owner=str):\n",
    "    return len(df[df.ownersName == owner])\n",
    "\n",
    "# number of times property appears in first column\n",
    "def propertyAppearances(address=str): \n",
    "    return len(df[df.propertyLocation == address])\n",
    "\n",
    "\n",
    "df['ownersFullMailingAddress'] = df['ownersMailingAddress'] + ', ' + df.cityStateZip\n",
    "df['propertyFullAddress'] = df.propertyLocation + ' Jersey City, NJ'\n",
    "\n",
    "# we've already added these columns, so we'll comment them out\n",
    "#df['propertiesOwned'] = [propertiesOwned(owner) for owner in df.ownersName]\n",
    "#df['units'] = [propertyAppearances(address) for address in df.propertyLocation]\n",
    "#df['gCode'] = df.propertyFullAddress.apply(geolocator.geocode)"
   ]
  },
  {
   "cell_type": "code",
   "execution_count": 14,
   "metadata": {},
   "outputs": [],
   "source": [
    "# number of addresses address which did not geocode\n",
    "geocode_errors = [i for i,e in enumerate(df.gCode) if e == None]"
   ]
  },
  {
   "cell_type": "code",
   "execution_count": 15,
   "metadata": {},
   "outputs": [
    {
     "output_type": "execute_result",
     "data": {
      "text/plain": [
       "12                653 LIBERTY ST. Jersey City, NJ\n",
       "112     3709 JOHN F KENNEDY BLVD. Jersey City, NJ\n",
       "113     3707 JOHN F KENNEDY BLVD. Jersey City, NJ\n",
       "114     3705 JOHN F KENNEDY BLVD. Jersey City, NJ\n",
       "115     3703 JOHN F KENNEDY BLVD. Jersey City, NJ\n",
       "175     3697 JOHN F KENNEDY BLVD. Jersey City, NJ\n",
       "177     3691 JOHN F KENNEDY BLVD. Jersey City, NJ\n",
       "178     3687 JOHN F KENNEDY BLVD. Jersey City, NJ\n",
       "179     3685 JOHN F KENNEDY BLVD. Jersey City, NJ\n",
       "180     3683 JOHN F KENNEDY BLVD. Jersey City, NJ\n",
       "181     3683 JOHN F KENNEDY BLVD. Jersey City, NJ\n",
       "182     3683 JOHN F KENNEDY BLVD. Jersey City, NJ\n",
       "183     3683 JOHN F KENNEDY BLVD. Jersey City, NJ\n",
       "184     3683 JOHN F KENNEDY BLVD. Jersey City, NJ\n",
       "185     3683 JOHN F KENNEDY BLVD. Jersey City, NJ\n",
       "263     3675 JOHN F KENNEDY BLVD. Jersey City, NJ\n",
       "264     3673 JOHN F KENNEDY BLVD. Jersey City, NJ\n",
       "265     3671 JOHN F KENNEDY BLVD. Jersey City, NJ\n",
       "266     3669 JOHN F KENNEDY BLVD. Jersey City, NJ\n",
       "268     3663 JOHN F KENNEDY BLVD. Jersey City, NJ\n",
       "347     3702 JOHN F KENNEDY BLVD. Jersey City, NJ\n",
       "348     3704 JOHN F KENNEDY BLVD. Jersey City, NJ\n",
       "349     3706 JOHN F KENNEDY BLVD. Jersey City, NJ\n",
       "350     3708 JOHN F KENNEDY BLVD. Jersey City, NJ\n",
       "351     3710 JOHN F KENNEDY BLVD. Jersey City, NJ\n",
       "352     3712 JOHN F KENNEDY BLVD. Jersey City, NJ\n",
       "353     3714 JOHN F KENNEDY BLVD. Jersey City, NJ\n",
       "480     3688 JOHN F KENNEDY BLVD. Jersey City, NJ\n",
       "648           274-76 COLUMBIA AVE Jersey City, NJ\n",
       "728     3655 JOHN F KENNEDY BLVD. Jersey City, NJ\n",
       "729     3653 JOHN F KENNEDY BLVD. Jersey City, NJ\n",
       "730     3651 JOHN F KENNEDY BLVD. Jersey City, NJ\n",
       "731     3649 JOHN F KENNEDY BLVD. Jersey City, NJ\n",
       "732     3647 JOHN F KENNEDY BLVD. Jersey City, NJ\n",
       "733     3645 JOHN F KENNEDY BLVD. Jersey City, NJ\n",
       "734     3643 JOHN F KENNEDY BLVD. Jersey City, NJ\n",
       "795     3637 JOHN F KENNEDY BLVD. Jersey City, NJ\n",
       "796     3635 JOHN F KENNEDY BLVD. Jersey City, NJ\n",
       "797    3633A JOHN F KENNEDY BLVD. Jersey City, NJ\n",
       "798     3633 JOHN F KENNEDY BLVD. Jersey City, NJ\n",
       "799     3631 JOHN F KENNEDY BLVD. Jersey City, NJ\n",
       "800     3629 JOHN F KENNEDY BLVD. Jersey City, NJ\n",
       "801     3627 JOHN F KENNEDY BLVD. Jersey City, NJ\n",
       "802     3625 JOHN F KENNEDY BLVD. Jersey City, NJ\n",
       "858     3613 JOHN F KENNEDY BLVD. Jersey City, NJ\n",
       "859     3615 JOHN F KENNEDY BLVD. Jersey City, NJ\n",
       "860     3611 JOHN F KENNEDY BLVD. Jersey City, NJ\n",
       "861     3609 JOHN F KENNEDY BLVD. Jersey City, NJ\n",
       "862     3607 JOHN F KENNEDY BLVD. Jersey City, NJ\n",
       "863     3603 JOHN F KENNEDY BLVD. Jersey City, NJ\n",
       "Name: propertyFullAddress, dtype: object"
      ]
     },
     "metadata": {},
     "execution_count": 15
    }
   ],
   "source": [
    "# plug them into iloc to return a dataframe of errors\n",
    "df.iloc[geocode_errors]['propertyFullAddress'].head(50)"
   ]
  },
  {
   "cell_type": "code",
   "execution_count": 52,
   "metadata": {},
   "outputs": [
    {
     "output_type": "execute_result",
     "data": {
      "text/plain": [
       "'653 LIBERTY ST. Jersey City, NJ'"
      ]
     },
     "metadata": {},
     "execution_count": 52
    }
   ],
   "source": [
    "# the reason why this didn't gecode properly is because there is no\n",
    "# Liberty Street in Jersey City\n",
    "df.propertyFullAddress[12]"
   ]
  },
  {
   "cell_type": "code",
   "execution_count": 56,
   "metadata": {},
   "outputs": [
    {
     "output_type": "execute_result",
     "data": {
      "text/plain": [
       "Location(653, Liberty Avenue, Jersey City, Hudson County, New Jersey, 07307, United States, (40.75896345454545, -74.05096481818181, 0.0))"
      ]
     },
     "metadata": {},
     "execution_count": 56
    }
   ],
   "source": [
    "geolocator.geocode('653 LIBERTY AVE, Jersey City, NJ')"
   ]
  },
  {
   "cell_type": "code",
   "execution_count": 63,
   "metadata": {},
   "outputs": [
    {
     "output_type": "execute_result",
     "data": {
      "text/plain": [
       "112    3709 KENNEDY BLVD. Jersey City, NJ\n",
       "113    3707 KENNEDY BLVD. Jersey City, NJ\n",
       "114    3705 KENNEDY BLVD. Jersey City, NJ\n",
       "Name: propertyFullAddress, dtype: object"
      ]
     },
     "metadata": {},
     "execution_count": 63
    }
   ],
   "source": [
    "# There is no \"Kennedy BLVD\" but a John F Kennedy BLVD\n",
    "df.propertyFullAddress[112:115]"
   ]
  },
  {
   "cell_type": "code",
   "execution_count": 71,
   "metadata": {},
   "outputs": [
    {
     "output_type": "execute_result",
     "data": {
      "text/plain": [
       "Location(274, Columbia Avenue, Jersey City, Hudson County, New Jersey, 07307, United States, (40.75704381395349, -74.05096265116279, 0.0))"
      ]
     },
     "metadata": {},
     "execution_count": 71
    }
   ],
   "source": [
    "#the hyphenated address threw off the geolocator\n",
    "geolocator.geocode('274 COLUMBIA AVE Jersey City, NJ')"
   ]
  },
  {
   "cell_type": "code",
   "execution_count": 8,
   "metadata": {},
   "outputs": [
    {
     "output_type": "execute_result",
     "data": {
      "text/plain": [
       "Location(John F. Kennedy Boulevard, Greenville, Jersey City, Hudson County, New Jersey, 07305, United States, (40.70124, -74.093112, 0.0))"
      ]
     },
     "metadata": {},
     "execution_count": 8
    }
   ],
   "source": [
    "# the geolocator needs to the full street name\n",
    "geolocator.geocode('3709 JOHN F KENNEDY BLVD. Jersey City, NJ')"
   ]
  },
  {
   "cell_type": "code",
   "execution_count": null,
   "metadata": {},
   "outputs": [],
   "source": [
    "df.propertyLocation = df.propertyLocation.str.replace('KENNEDY', 'JOHN F KENNEDY')"
   ]
  },
  {
   "cell_type": "code",
   "execution_count": 17,
   "metadata": {},
   "outputs": [
    {
     "output_type": "stream",
     "name": "stderr",
     "text": [
      "/var/folders/jn/0t9fgm4d05bdfp70phhgc1sr0000gn/T/ipykernel_20899/739789649.py:1: FutureWarning: The default value of regex will change from True to False in a future version.\n  df.propertyLocation = df.propertyLocation.str.replace('LIBERTY ST.', 'LIBERTY AVE.')\n"
     ]
    }
   ],
   "source": [
    "df.propertyLocation = df.propertyLocation.str.replace('LIBERTY ST.', 'LIBERTY AVE.')"
   ]
  },
  {
   "cell_type": "code",
   "execution_count": 20,
   "metadata": {},
   "outputs": [
    {
     "output_type": "stream",
     "name": "stderr",
     "text": [
      "/usr/local/lib/python3.9/site-packages/pandas/core/frame.py:3607: SettingWithCopyWarning: \nA value is trying to be set on a copy of a slice from a DataFrame.\nTry using .loc[row_indexer,col_indexer] = value instead\n\nSee the caveats in the documentation: https://pandas.pydata.org/pandas-docs/stable/user_guide/indexing.html#returning-a-view-versus-a-copy\n  self._set_item(key, value)\n"
     ]
    }
   ],
   "source": [
    "df.iloc[geocode_errors]['gCode'] = df.iloc[geocode_errors]['propertyFullAddress'].apply(geolocator.geocode)"
   ]
  },
  {
   "cell_type": "code",
   "execution_count": 72,
   "metadata": {},
   "outputs": [],
   "source": [
    "# pickling the dataframe to avoid waiting hours for the geocodes again\n",
    "# df.to_pickle('JC_residential.pkl')"
   ]
  },
  {
   "cell_type": "code",
   "execution_count": 29,
   "metadata": {},
   "outputs": [],
   "source": [
    "geocode_errors = [i for i,e in enumerate(df.gCode) if e == None]"
   ]
  },
  {
   "cell_type": "code",
   "execution_count": 31,
   "metadata": {},
   "outputs": [
    {
     "output_type": "execute_result",
     "data": {
      "text/plain": [
       "4174"
      ]
     },
     "metadata": {},
     "execution_count": 31
    }
   ],
   "source": [
    "len(geocode_errors)"
   ]
  },
  {
   "cell_type": "code",
   "execution_count": 33,
   "metadata": {},
   "outputs": [],
   "source": [
    "# since we got an error saying we're writing on the dataframe…\n",
    "# we'll creata a separate df of the errors and merge with the original df later\n",
    "errors_df = df.iloc[geocode_errors].copy()"
   ]
  },
  {
   "cell_type": "code",
   "execution_count": 34,
   "metadata": {},
   "outputs": [],
   "source": [
    "errors_df['gCode'] = errors_df.propertyFullAddress.apply(geolocator.geocode)"
   ]
  },
  {
   "cell_type": "code",
   "execution_count": 66,
   "metadata": {},
   "outputs": [],
   "source": [
    "geocode_errors = [i for i,e in enumerate(errors_df.gCode) if e == None]"
   ]
  },
  {
   "cell_type": "code",
   "execution_count": 39,
   "metadata": {},
   "outputs": [
    {
     "output_type": "execute_result",
     "data": {
      "text/plain": [
       "3149"
      ]
     },
     "metadata": {},
     "execution_count": 39
    }
   ],
   "source": [
    "# Yay! We've solved some errors!\n",
    "len(geocode_errors)"
   ]
  },
  {
   "cell_type": "code",
   "execution_count": 41,
   "metadata": {},
   "outputs": [
    {
     "output_type": "execute_result",
     "data": {
      "text/plain": [
       "                propertyLocation                           ownersName  \\\n",
       "12              653 LIBERTY AVE.                     CICCARELLI, MARC   \n",
       "648          274-76 COLUMBIA AVE             PERSAUD, PURAN & ANJAALI   \n",
       "797   3633A JOHN F KENNEDY BLVD.                 SCALIA HOLDINGS, LLC   \n",
       "1667        1074-1080 SUMMIT AVE                    1074 SUMMIT, LLC.   \n",
       "1821    19 PATERSON STREET -REAR                          BIRN, SUSAN   \n",
       "2529           78A-80 THORNE ST.       MITTAL,CHITRA KOTHARI & DEEPAK   \n",
       "3427              430 ODGEN AVE.                   DEVIRGILLO, DAMIAN   \n",
       "3511            608 TONNELE AVE.                ADVANCE TRANSIT, LLC.   \n",
       "3512            636 TONNELE AVE.              OFRZ & OZAN SHELL, INC.   \n",
       "4240          978-80 SUMMIT AVE.         978-980 SUMMIT AVE. KBB LLC.   \n",
       "4836            491 TONNELE AVE.                   LOGIX BUILDER, LLC   \n",
       "4837            493 TONNELE AVE.              MORALES, ANTONIO & IRIS   \n",
       "4838            509 TONNELE AVE.                  D'ANGELO, FRANK JR.   \n",
       "4839            483 TONNELE AVE.                 483 TONNELE AVE, LLC   \n",
       "4840            481 TONNELE AVE.           481 TONNELE AVENUE, L.L.C.   \n",
       "4842            537 TONNELE AVE.                       HACHEM, WASSIM   \n",
       "4843            572 TONNELE AVE.           BONILLA TONNELE AVE., LLC.   \n",
       "5409          223-221 HUTTON ST.      ZANZIBARWALA, PRITESH & JIGNESH   \n",
       "5561        882-882A SUMMIT AVE.             BO BO ENTERPRISES 1, LLC   \n",
       "5620   102 MANHATTAN AVE. (REAR)        M & A MANHATTAN AVE 102, LLC.   \n",
       "6223            450 TONNELE AVE.                      MODI, JAROOR H.   \n",
       "6224            452 TONNELE AVE.                     PANCHAL, NISHANT   \n",
       "6225            454 TONNELE AVE.                 BUDDY 1 REALTY, LLC.   \n",
       "6226            456 TONNELE AVE.                          CRUZ, NELLY   \n",
       "7442               15 LIENAU PL.             FINAN, THOMAS D & JUDITH   \n",
       "7443               13 LIENAU PL.                GRECO, ANDREA & CLARA   \n",
       "7444               11 LIENAU PL.  FARREN, ROBERT A & O'CONE, PATRICIA   \n",
       "7445                9 LIENAU PL.              9 LIENAU PLACE JC, LLC.   \n",
       "7446                7 LIENAU PL.                      MARELLA, EILEEN   \n",
       "7447                5 LIENAU PL.         PATEL,VYOMESH D.&PARULBEN V.   \n",
       "7448                3 LIENAU PL.          NAATUS, JOEL & MARY KATE R.   \n",
       "7449                1 LIENAU PL.                 PATEL, NIKHIL & LATA   \n",
       "7534             47 LIENAU PLACE                   HABIB FAMILY TRUST   \n",
       "7535             45 LIENAU PLACE                    MANASRA, RIFAH I.   \n",
       "7536               41 LIENAU PL.       CAVIANO, MICHAEL & DOLORES POE   \n",
       "7537               35 LIENAU PL.   WEISSMAN, JOSHUA & O'DONNELL, LISA   \n",
       "7549                2 LIENAU PL.                   BUSCAR, RICARDO N.   \n",
       "7550                4 LIENAU PL.            ESPINOLA, ANDRES & AMPARO   \n",
       "7551              6 LIENAU PLACE            WANG, DEVON & XU, TIANMEI   \n",
       "7552                8 LIENAU PL.                       DIAZ, RUBEN A.   \n",
       "7759               34 LIENAU PL.    VOSS, JENNA M.& AGHERA, SAMEER R.   \n",
       "7760               34 LIENAU PL.    DELIERRE ALBAN &MICSANSCHI, XENIA   \n",
       "7761               42 LIENAU PL.                42 LINEAU PLACE, LLC.   \n",
       "8103  3144A JOHN F KENNEDY BLVD.                   CABRERA, CARLOS A.   \n",
       "8534        88 LAIDLAW AVE. REAR                     GRENEE, ROCKELLE   \n",
       "8535      88 LAIDLAW AVE. -FRONT                     GRENEE, ROCKELLE   \n",
       "9029            235 TONNELE AVE.                        GOYAL, POONAM   \n",
       "9030            233 TONNELE AVE.      PINO, LUCILA, G. & GONZALEZ, M.   \n",
       "9031            231 TONNELE AVE.                         MIRZA, NAZAR   \n",
       "9032            229 TONNELE AVE.        TORRES, OSWALDO E.& DHANWANTI   \n",
       "\n",
       "         ownersMailingAddress                cityStateZip  \\\n",
       "12             308 LAGOON DR.         COPIAQUE, NY  11726   \n",
       "648   274-276 COLUMBIA AVENUE     JERSEY CITY,N.J.  07307   \n",
       "797          264 CENTRAL AVE.      JERSEY CITY, NJ  07307   \n",
       "1667             10 FULTON ST        WEEHAWKEN, NJ  07086   \n",
       "1821  19 PATERSON STREET-REAR    JERSEY CITY, N.J.  07307   \n",
       "2529      76 CONSTITUTION WAY    JERSEY CITY, N.J.  07302   \n",
       "3427   430 OGDEN AVE., UNIT 3      JERSEY CITY, NJ  07307   \n",
       "3511         608 TONNELE AVE.      JERSEY CITY, NJ  07307   \n",
       "3512          137-68 70TH AVE    FLUSHING   , N.Y.  11367   \n",
       "4240      978-980 SUMMIT AVE.      JERSEY CITY, NJ  07302   \n",
       "4836             P.O.BOX 7148    JERSEY CITY, N.J.  07307   \n",
       "4837              493 TONNELE    JERSEY CITY, N.J.  07307   \n",
       "4838            27 COUNTY RD.    JERSEY CITY, N.J.  07307   \n",
       "4839         470 TONNELE AVE.    JERSEY CITY, N.J.  07306   \n",
       "4840         470 TONNELE AVE.      JERSEY CITY, NJ  07307   \n",
       "4842         537 TONNELE AVE.      JERSEY CITY, NJ  07307   \n",
       "4843         572 TONNELE AVE.      JERSEY CITY, NJ  07307   \n",
       "5409        221-223 HUTTON ST     JERSEY CITY, N J  07307   \n",
       "5561         80 SHERMAN PLACE      JERSEY CITY, NJ  07307   \n",
       "5620         278 CENTRAL AVE.      JERSEY CITY, NJ  07307   \n",
       "6223         450 TONNELE AVE.      JERSEY CITY, NJ  07307   \n",
       "6224         452 TONNELE AVE.    JERSEY CITY, N.J.  07307   \n",
       "6225         454 TONNELE AVE.      JERSEY CITY, NJ  07307   \n",
       "6226            1310 51ST ST.     NORTH BERGEN, NJ  07047   \n",
       "7442            P.O BOX 17026     JERSEY CITY,N.J.  07307   \n",
       "7443      181 GRIFFITH STREET    JERSEY CITY, N.J.  07307   \n",
       "7444            11 LIENAU PL.      JERSEY CITY, NJ  07306   \n",
       "7445         390 CENTRAL AVE.      JERSEY CITY, NJ  07307   \n",
       "7446             7 LIENAU PL.    JERSEY CITY, N.J.  07306   \n",
       "7447            1011 PITT ST.  SO PLAINFIELD , NJ.  07080   \n",
       "7448             3 LIENAU PL.    JERSEY CITY, N.J.  07306   \n",
       "7449             1 LIENAU PL.    JERSEY CITY, N.J.  07306   \n",
       "7534      234 GRIFFITH STREET     JERSEY CITY, N J  07307   \n",
       "7535          45 LIENAU PLACE     JERSEY CITY, N J  07307   \n",
       "7536          41 LINEAU PLACE    JERSEY CITY, N.J.  07306   \n",
       "7537            35 LIENAU PL.      JERSEY CITY, NJ  07307   \n",
       "7549             2 LIENAU PL.    JERSEY CITY, N.J.  07306   \n",
       "7550             4 LIENAU PL.    JERSEY CITY, N.J.  07306   \n",
       "7551           78 HOBART AVE.      SHORT HILLS, NJ  07078   \n",
       "7552             8 LIENAU PL.      JERSEY CITY, NJ  07306   \n",
       "7759          34 LIENAU PL.#1      JERSEY CITY, NJ  07307   \n",
       "7760       34 LIENAU PLACE #2      JERSEY CITY, NJ  07302   \n",
       "7761            42 LIENAU PL.      JERSEY CITY, NJ  07307   \n",
       "8103      3144A KENNEDY BLVD.    JERSEY CITY, N.J.  07306   \n",
       "8534     88 LAIDLAW AVE.-REAR    JERSEY CITY, N.J.  07306   \n",
       "8535    88 LAIDLAW AVE.-FRONT    JERSEY CITY, N.J.  07306   \n",
       "9029         235 TONNELLE AVE      JERSEY CITY, NJ  07306   \n",
       "9030         233 TONNELE AVE.    JERSEY CITY, N.J.  07306   \n",
       "9031       324 ST. PAULS AVE.      JERSEY CITY, NJ  07306   \n",
       "9032         229 TONNELE AVE.    JERSEY CITY, N.J.  07306   \n",
       "\n",
       "                               ownersFullMailingAddress  \\\n",
       "12                  308 LAGOON DR., COPIAQUE, NY  11726   \n",
       "648    274-276 COLUMBIA AVENUE, JERSEY CITY,N.J.  07307   \n",
       "797            264 CENTRAL AVE., JERSEY CITY, NJ  07307   \n",
       "1667                 10 FULTON ST, WEEHAWKEN, NJ  07086   \n",
       "1821  19 PATERSON STREET-REAR, JERSEY CITY, N.J.  07307   \n",
       "2529      76 CONSTITUTION WAY, JERSEY CITY, N.J.  07302   \n",
       "3427     430 OGDEN AVE., UNIT 3, JERSEY CITY, NJ  07307   \n",
       "3511           608 TONNELE AVE., JERSEY CITY, NJ  07307   \n",
       "3512          137-68 70TH AVE, FLUSHING   , N.Y.  11367   \n",
       "4240        978-980 SUMMIT AVE., JERSEY CITY, NJ  07302   \n",
       "4836             P.O.BOX 7148, JERSEY CITY, N.J.  07307   \n",
       "4837              493 TONNELE, JERSEY CITY, N.J.  07307   \n",
       "4838            27 COUNTY RD., JERSEY CITY, N.J.  07307   \n",
       "4839         470 TONNELE AVE., JERSEY CITY, N.J.  07306   \n",
       "4840           470 TONNELE AVE., JERSEY CITY, NJ  07307   \n",
       "4842           537 TONNELE AVE., JERSEY CITY, NJ  07307   \n",
       "4843           572 TONNELE AVE., JERSEY CITY, NJ  07307   \n",
       "5409         221-223 HUTTON ST, JERSEY CITY, N J  07307   \n",
       "5561           80 SHERMAN PLACE, JERSEY CITY, NJ  07307   \n",
       "5620           278 CENTRAL AVE., JERSEY CITY, NJ  07307   \n",
       "6223           450 TONNELE AVE., JERSEY CITY, NJ  07307   \n",
       "6224         452 TONNELE AVE., JERSEY CITY, N.J.  07307   \n",
       "6225           454 TONNELE AVE., JERSEY CITY, NJ  07307   \n",
       "6226             1310 51ST ST., NORTH BERGEN, NJ  07047   \n",
       "7442             P.O BOX 17026, JERSEY CITY,N.J.  07307   \n",
       "7443      181 GRIFFITH STREET, JERSEY CITY, N.J.  07307   \n",
       "7444              11 LIENAU PL., JERSEY CITY, NJ  07306   \n",
       "7445           390 CENTRAL AVE., JERSEY CITY, NJ  07307   \n",
       "7446             7 LIENAU PL., JERSEY CITY, N.J.  07306   \n",
       "7447          1011 PITT ST., SO PLAINFIELD , NJ.  07080   \n",
       "7448             3 LIENAU PL., JERSEY CITY, N.J.  07306   \n",
       "7449             1 LIENAU PL., JERSEY CITY, N.J.  07306   \n",
       "7534       234 GRIFFITH STREET, JERSEY CITY, N J  07307   \n",
       "7535           45 LIENAU PLACE, JERSEY CITY, N J  07307   \n",
       "7536          41 LINEAU PLACE, JERSEY CITY, N.J.  07306   \n",
       "7537              35 LIENAU PL., JERSEY CITY, NJ  07307   \n",
       "7549             2 LIENAU PL., JERSEY CITY, N.J.  07306   \n",
       "7550             4 LIENAU PL., JERSEY CITY, N.J.  07306   \n",
       "7551             78 HOBART AVE., SHORT HILLS, NJ  07078   \n",
       "7552               8 LIENAU PL., JERSEY CITY, NJ  07306   \n",
       "7759            34 LIENAU PL.#1, JERSEY CITY, NJ  07307   \n",
       "7760         34 LIENAU PLACE #2, JERSEY CITY, NJ  07302   \n",
       "7761              42 LIENAU PL., JERSEY CITY, NJ  07307   \n",
       "8103      3144A KENNEDY BLVD., JERSEY CITY, N.J.  07306   \n",
       "8534     88 LAIDLAW AVE.-REAR, JERSEY CITY, N.J.  07306   \n",
       "8535    88 LAIDLAW AVE.-FRONT, JERSEY CITY, N.J.  07306   \n",
       "9029           235 TONNELLE AVE, JERSEY CITY, NJ  07306   \n",
       "9030         233 TONNELE AVE., JERSEY CITY, N.J.  07306   \n",
       "9031         324 ST. PAULS AVE., JERSEY CITY, NJ  07306   \n",
       "9032         229 TONNELE AVE., JERSEY CITY, N.J.  07306   \n",
       "\n",
       "                             propertyFullAddress  propertiesOwned  units gCode  \n",
       "12               653 LIBERTY ST. Jersey City, NJ                1      1  None  \n",
       "648          274-76 COLUMBIA AVE Jersey City, NJ                6      1  None  \n",
       "797   3633A JOHN F KENNEDY BLVD. Jersey City, NJ                5      1  None  \n",
       "1667        1074-1080 SUMMIT AVE Jersey City, NJ                1      1  None  \n",
       "1821    19 PATERSON STREET -REAR Jersey City, NJ                1      1  None  \n",
       "2529           78A-80 THORNE ST. Jersey City, NJ                1      1  None  \n",
       "3427              430 ODGEN AVE. Jersey City, NJ                1      1  None  \n",
       "3511            608 TONNELE AVE. Jersey City, NJ                1      1  None  \n",
       "3512            636 TONNELE AVE. Jersey City, NJ                1      1  None  \n",
       "4240          978-80 SUMMIT AVE. Jersey City, NJ                1      1  None  \n",
       "4836            491 TONNELE AVE. Jersey City, NJ                1      1  None  \n",
       "4837            493 TONNELE AVE. Jersey City, NJ                1      1  None  \n",
       "4838            509 TONNELE AVE. Jersey City, NJ                1      1  None  \n",
       "4839            483 TONNELE AVE. Jersey City, NJ                1      1  None  \n",
       "4840            481 TONNELE AVE. Jersey City, NJ                1      1  None  \n",
       "4842            537 TONNELE AVE. Jersey City, NJ                1      1  None  \n",
       "4843            572 TONNELE AVE. Jersey City, NJ                1      1  None  \n",
       "5409          223-221 HUTTON ST. Jersey City, NJ                1      1  None  \n",
       "5561        882-882A SUMMIT AVE. Jersey City, NJ                1      1  None  \n",
       "5620   102 MANHATTAN AVE. (REAR) Jersey City, NJ                1      1  None  \n",
       "6223            450 TONNELE AVE. Jersey City, NJ                1      1  None  \n",
       "6224            452 TONNELE AVE. Jersey City, NJ                1      1  None  \n",
       "6225            454 TONNELE AVE. Jersey City, NJ                1      1  None  \n",
       "6226            456 TONNELE AVE. Jersey City, NJ                1      1  None  \n",
       "7442               15 LIENAU PL. Jersey City, NJ                1      1  None  \n",
       "7443               13 LIENAU PL. Jersey City, NJ                2      1  None  \n",
       "7444               11 LIENAU PL. Jersey City, NJ                1      1  None  \n",
       "7445                9 LIENAU PL. Jersey City, NJ                1      1  None  \n",
       "7446                7 LIENAU PL. Jersey City, NJ                1      1  None  \n",
       "7447                5 LIENAU PL. Jersey City, NJ                1      1  None  \n",
       "7448                3 LIENAU PL. Jersey City, NJ                1      1  None  \n",
       "7449                1 LIENAU PL. Jersey City, NJ                1      1  None  \n",
       "7534             47 LIENAU PLACE Jersey City, NJ                3      1  None  \n",
       "7535             45 LIENAU PLACE Jersey City, NJ                1      1  None  \n",
       "7536               41 LIENAU PL. Jersey City, NJ                1      1  None  \n",
       "7537               35 LIENAU PL. Jersey City, NJ                1      1  None  \n",
       "7549                2 LIENAU PL. Jersey City, NJ                1      1  None  \n",
       "7550                4 LIENAU PL. Jersey City, NJ                1      1  None  \n",
       "7551              6 LIENAU PLACE Jersey City, NJ                2      1  None  \n",
       "7552                8 LIENAU PL. Jersey City, NJ                1      1  None  \n",
       "7759               34 LIENAU PL. Jersey City, NJ                1      2  None  \n",
       "7760               34 LIENAU PL. Jersey City, NJ                1      2  None  \n",
       "7761               42 LIENAU PL. Jersey City, NJ                1      1  None  \n",
       "8103  3144A JOHN F KENNEDY BLVD. Jersey City, NJ                2      1  None  \n",
       "8534        88 LAIDLAW AVE. REAR Jersey City, NJ                2      1  None  \n",
       "8535      88 LAIDLAW AVE. -FRONT Jersey City, NJ                2      1  None  \n",
       "9029            235 TONNELE AVE. Jersey City, NJ                1      1  None  \n",
       "9030            233 TONNELE AVE. Jersey City, NJ                1      1  None  \n",
       "9031            231 TONNELE AVE. Jersey City, NJ                1      1  None  \n",
       "9032            229 TONNELE AVE. Jersey City, NJ                1      1  None  "
      ],
      "text/html": "<div>\n<style scoped>\n    .dataframe tbody tr th:only-of-type {\n        vertical-align: middle;\n    }\n\n    .dataframe tbody tr th {\n        vertical-align: top;\n    }\n\n    .dataframe thead th {\n        text-align: right;\n    }\n</style>\n<table border=\"1\" class=\"dataframe\">\n  <thead>\n    <tr style=\"text-align: right;\">\n      <th></th>\n      <th>propertyLocation</th>\n      <th>ownersName</th>\n      <th>ownersMailingAddress</th>\n      <th>cityStateZip</th>\n      <th>ownersFullMailingAddress</th>\n      <th>propertyFullAddress</th>\n      <th>propertiesOwned</th>\n      <th>units</th>\n      <th>gCode</th>\n    </tr>\n  </thead>\n  <tbody>\n    <tr>\n      <th>12</th>\n      <td>653 LIBERTY AVE.</td>\n      <td>CICCARELLI, MARC</td>\n      <td>308 LAGOON DR.</td>\n      <td>COPIAQUE, NY  11726</td>\n      <td>308 LAGOON DR., COPIAQUE, NY  11726</td>\n      <td>653 LIBERTY ST. Jersey City, NJ</td>\n      <td>1</td>\n      <td>1</td>\n      <td>None</td>\n    </tr>\n    <tr>\n      <th>648</th>\n      <td>274-76 COLUMBIA AVE</td>\n      <td>PERSAUD, PURAN &amp; ANJAALI</td>\n      <td>274-276 COLUMBIA AVENUE</td>\n      <td>JERSEY CITY,N.J.  07307</td>\n      <td>274-276 COLUMBIA AVENUE, JERSEY CITY,N.J.  07307</td>\n      <td>274-76 COLUMBIA AVE Jersey City, NJ</td>\n      <td>6</td>\n      <td>1</td>\n      <td>None</td>\n    </tr>\n    <tr>\n      <th>797</th>\n      <td>3633A JOHN F KENNEDY BLVD.</td>\n      <td>SCALIA HOLDINGS, LLC</td>\n      <td>264 CENTRAL AVE.</td>\n      <td>JERSEY CITY, NJ  07307</td>\n      <td>264 CENTRAL AVE., JERSEY CITY, NJ  07307</td>\n      <td>3633A JOHN F KENNEDY BLVD. Jersey City, NJ</td>\n      <td>5</td>\n      <td>1</td>\n      <td>None</td>\n    </tr>\n    <tr>\n      <th>1667</th>\n      <td>1074-1080 SUMMIT AVE</td>\n      <td>1074 SUMMIT, LLC.</td>\n      <td>10 FULTON ST</td>\n      <td>WEEHAWKEN, NJ  07086</td>\n      <td>10 FULTON ST, WEEHAWKEN, NJ  07086</td>\n      <td>1074-1080 SUMMIT AVE Jersey City, NJ</td>\n      <td>1</td>\n      <td>1</td>\n      <td>None</td>\n    </tr>\n    <tr>\n      <th>1821</th>\n      <td>19 PATERSON STREET -REAR</td>\n      <td>BIRN, SUSAN</td>\n      <td>19 PATERSON STREET-REAR</td>\n      <td>JERSEY CITY, N.J.  07307</td>\n      <td>19 PATERSON STREET-REAR, JERSEY CITY, N.J.  07307</td>\n      <td>19 PATERSON STREET -REAR Jersey City, NJ</td>\n      <td>1</td>\n      <td>1</td>\n      <td>None</td>\n    </tr>\n    <tr>\n      <th>2529</th>\n      <td>78A-80 THORNE ST.</td>\n      <td>MITTAL,CHITRA KOTHARI &amp; DEEPAK</td>\n      <td>76 CONSTITUTION WAY</td>\n      <td>JERSEY CITY, N.J.  07302</td>\n      <td>76 CONSTITUTION WAY, JERSEY CITY, N.J.  07302</td>\n      <td>78A-80 THORNE ST. Jersey City, NJ</td>\n      <td>1</td>\n      <td>1</td>\n      <td>None</td>\n    </tr>\n    <tr>\n      <th>3427</th>\n      <td>430 ODGEN AVE.</td>\n      <td>DEVIRGILLO, DAMIAN</td>\n      <td>430 OGDEN AVE., UNIT 3</td>\n      <td>JERSEY CITY, NJ  07307</td>\n      <td>430 OGDEN AVE., UNIT 3, JERSEY CITY, NJ  07307</td>\n      <td>430 ODGEN AVE. Jersey City, NJ</td>\n      <td>1</td>\n      <td>1</td>\n      <td>None</td>\n    </tr>\n    <tr>\n      <th>3511</th>\n      <td>608 TONNELE AVE.</td>\n      <td>ADVANCE TRANSIT, LLC.</td>\n      <td>608 TONNELE AVE.</td>\n      <td>JERSEY CITY, NJ  07307</td>\n      <td>608 TONNELE AVE., JERSEY CITY, NJ  07307</td>\n      <td>608 TONNELE AVE. Jersey City, NJ</td>\n      <td>1</td>\n      <td>1</td>\n      <td>None</td>\n    </tr>\n    <tr>\n      <th>3512</th>\n      <td>636 TONNELE AVE.</td>\n      <td>OFRZ &amp; OZAN SHELL, INC.</td>\n      <td>137-68 70TH AVE</td>\n      <td>FLUSHING   , N.Y.  11367</td>\n      <td>137-68 70TH AVE, FLUSHING   , N.Y.  11367</td>\n      <td>636 TONNELE AVE. Jersey City, NJ</td>\n      <td>1</td>\n      <td>1</td>\n      <td>None</td>\n    </tr>\n    <tr>\n      <th>4240</th>\n      <td>978-80 SUMMIT AVE.</td>\n      <td>978-980 SUMMIT AVE. KBB LLC.</td>\n      <td>978-980 SUMMIT AVE.</td>\n      <td>JERSEY CITY, NJ  07302</td>\n      <td>978-980 SUMMIT AVE., JERSEY CITY, NJ  07302</td>\n      <td>978-80 SUMMIT AVE. Jersey City, NJ</td>\n      <td>1</td>\n      <td>1</td>\n      <td>None</td>\n    </tr>\n    <tr>\n      <th>4836</th>\n      <td>491 TONNELE AVE.</td>\n      <td>LOGIX BUILDER, LLC</td>\n      <td>P.O.BOX 7148</td>\n      <td>JERSEY CITY, N.J.  07307</td>\n      <td>P.O.BOX 7148, JERSEY CITY, N.J.  07307</td>\n      <td>491 TONNELE AVE. Jersey City, NJ</td>\n      <td>1</td>\n      <td>1</td>\n      <td>None</td>\n    </tr>\n    <tr>\n      <th>4837</th>\n      <td>493 TONNELE AVE.</td>\n      <td>MORALES, ANTONIO &amp; IRIS</td>\n      <td>493 TONNELE</td>\n      <td>JERSEY CITY, N.J.  07307</td>\n      <td>493 TONNELE, JERSEY CITY, N.J.  07307</td>\n      <td>493 TONNELE AVE. Jersey City, NJ</td>\n      <td>1</td>\n      <td>1</td>\n      <td>None</td>\n    </tr>\n    <tr>\n      <th>4838</th>\n      <td>509 TONNELE AVE.</td>\n      <td>D'ANGELO, FRANK JR.</td>\n      <td>27 COUNTY RD.</td>\n      <td>JERSEY CITY, N.J.  07307</td>\n      <td>27 COUNTY RD., JERSEY CITY, N.J.  07307</td>\n      <td>509 TONNELE AVE. Jersey City, NJ</td>\n      <td>1</td>\n      <td>1</td>\n      <td>None</td>\n    </tr>\n    <tr>\n      <th>4839</th>\n      <td>483 TONNELE AVE.</td>\n      <td>483 TONNELE AVE, LLC</td>\n      <td>470 TONNELE AVE.</td>\n      <td>JERSEY CITY, N.J.  07306</td>\n      <td>470 TONNELE AVE., JERSEY CITY, N.J.  07306</td>\n      <td>483 TONNELE AVE. Jersey City, NJ</td>\n      <td>1</td>\n      <td>1</td>\n      <td>None</td>\n    </tr>\n    <tr>\n      <th>4840</th>\n      <td>481 TONNELE AVE.</td>\n      <td>481 TONNELE AVENUE, L.L.C.</td>\n      <td>470 TONNELE AVE.</td>\n      <td>JERSEY CITY, NJ  07307</td>\n      <td>470 TONNELE AVE., JERSEY CITY, NJ  07307</td>\n      <td>481 TONNELE AVE. Jersey City, NJ</td>\n      <td>1</td>\n      <td>1</td>\n      <td>None</td>\n    </tr>\n    <tr>\n      <th>4842</th>\n      <td>537 TONNELE AVE.</td>\n      <td>HACHEM, WASSIM</td>\n      <td>537 TONNELE AVE.</td>\n      <td>JERSEY CITY, NJ  07307</td>\n      <td>537 TONNELE AVE., JERSEY CITY, NJ  07307</td>\n      <td>537 TONNELE AVE. Jersey City, NJ</td>\n      <td>1</td>\n      <td>1</td>\n      <td>None</td>\n    </tr>\n    <tr>\n      <th>4843</th>\n      <td>572 TONNELE AVE.</td>\n      <td>BONILLA TONNELE AVE., LLC.</td>\n      <td>572 TONNELE AVE.</td>\n      <td>JERSEY CITY, NJ  07307</td>\n      <td>572 TONNELE AVE., JERSEY CITY, NJ  07307</td>\n      <td>572 TONNELE AVE. Jersey City, NJ</td>\n      <td>1</td>\n      <td>1</td>\n      <td>None</td>\n    </tr>\n    <tr>\n      <th>5409</th>\n      <td>223-221 HUTTON ST.</td>\n      <td>ZANZIBARWALA, PRITESH &amp; JIGNESH</td>\n      <td>221-223 HUTTON ST</td>\n      <td>JERSEY CITY, N J  07307</td>\n      <td>221-223 HUTTON ST, JERSEY CITY, N J  07307</td>\n      <td>223-221 HUTTON ST. Jersey City, NJ</td>\n      <td>1</td>\n      <td>1</td>\n      <td>None</td>\n    </tr>\n    <tr>\n      <th>5561</th>\n      <td>882-882A SUMMIT AVE.</td>\n      <td>BO BO ENTERPRISES 1, LLC</td>\n      <td>80 SHERMAN PLACE</td>\n      <td>JERSEY CITY, NJ  07307</td>\n      <td>80 SHERMAN PLACE, JERSEY CITY, NJ  07307</td>\n      <td>882-882A SUMMIT AVE. Jersey City, NJ</td>\n      <td>1</td>\n      <td>1</td>\n      <td>None</td>\n    </tr>\n    <tr>\n      <th>5620</th>\n      <td>102 MANHATTAN AVE. (REAR)</td>\n      <td>M &amp; A MANHATTAN AVE 102, LLC.</td>\n      <td>278 CENTRAL AVE.</td>\n      <td>JERSEY CITY, NJ  07307</td>\n      <td>278 CENTRAL AVE., JERSEY CITY, NJ  07307</td>\n      <td>102 MANHATTAN AVE. (REAR) Jersey City, NJ</td>\n      <td>1</td>\n      <td>1</td>\n      <td>None</td>\n    </tr>\n    <tr>\n      <th>6223</th>\n      <td>450 TONNELE AVE.</td>\n      <td>MODI, JAROOR H.</td>\n      <td>450 TONNELE AVE.</td>\n      <td>JERSEY CITY, NJ  07307</td>\n      <td>450 TONNELE AVE., JERSEY CITY, NJ  07307</td>\n      <td>450 TONNELE AVE. Jersey City, NJ</td>\n      <td>1</td>\n      <td>1</td>\n      <td>None</td>\n    </tr>\n    <tr>\n      <th>6224</th>\n      <td>452 TONNELE AVE.</td>\n      <td>PANCHAL, NISHANT</td>\n      <td>452 TONNELE AVE.</td>\n      <td>JERSEY CITY, N.J.  07307</td>\n      <td>452 TONNELE AVE., JERSEY CITY, N.J.  07307</td>\n      <td>452 TONNELE AVE. Jersey City, NJ</td>\n      <td>1</td>\n      <td>1</td>\n      <td>None</td>\n    </tr>\n    <tr>\n      <th>6225</th>\n      <td>454 TONNELE AVE.</td>\n      <td>BUDDY 1 REALTY, LLC.</td>\n      <td>454 TONNELE AVE.</td>\n      <td>JERSEY CITY, NJ  07307</td>\n      <td>454 TONNELE AVE., JERSEY CITY, NJ  07307</td>\n      <td>454 TONNELE AVE. Jersey City, NJ</td>\n      <td>1</td>\n      <td>1</td>\n      <td>None</td>\n    </tr>\n    <tr>\n      <th>6226</th>\n      <td>456 TONNELE AVE.</td>\n      <td>CRUZ, NELLY</td>\n      <td>1310 51ST ST.</td>\n      <td>NORTH BERGEN, NJ  07047</td>\n      <td>1310 51ST ST., NORTH BERGEN, NJ  07047</td>\n      <td>456 TONNELE AVE. Jersey City, NJ</td>\n      <td>1</td>\n      <td>1</td>\n      <td>None</td>\n    </tr>\n    <tr>\n      <th>7442</th>\n      <td>15 LIENAU PL.</td>\n      <td>FINAN, THOMAS D &amp; JUDITH</td>\n      <td>P.O BOX 17026</td>\n      <td>JERSEY CITY,N.J.  07307</td>\n      <td>P.O BOX 17026, JERSEY CITY,N.J.  07307</td>\n      <td>15 LIENAU PL. Jersey City, NJ</td>\n      <td>1</td>\n      <td>1</td>\n      <td>None</td>\n    </tr>\n    <tr>\n      <th>7443</th>\n      <td>13 LIENAU PL.</td>\n      <td>GRECO, ANDREA &amp; CLARA</td>\n      <td>181 GRIFFITH STREET</td>\n      <td>JERSEY CITY, N.J.  07307</td>\n      <td>181 GRIFFITH STREET, JERSEY CITY, N.J.  07307</td>\n      <td>13 LIENAU PL. Jersey City, NJ</td>\n      <td>2</td>\n      <td>1</td>\n      <td>None</td>\n    </tr>\n    <tr>\n      <th>7444</th>\n      <td>11 LIENAU PL.</td>\n      <td>FARREN, ROBERT A &amp; O'CONE, PATRICIA</td>\n      <td>11 LIENAU PL.</td>\n      <td>JERSEY CITY, NJ  07306</td>\n      <td>11 LIENAU PL., JERSEY CITY, NJ  07306</td>\n      <td>11 LIENAU PL. Jersey City, NJ</td>\n      <td>1</td>\n      <td>1</td>\n      <td>None</td>\n    </tr>\n    <tr>\n      <th>7445</th>\n      <td>9 LIENAU PL.</td>\n      <td>9 LIENAU PLACE JC, LLC.</td>\n      <td>390 CENTRAL AVE.</td>\n      <td>JERSEY CITY, NJ  07307</td>\n      <td>390 CENTRAL AVE., JERSEY CITY, NJ  07307</td>\n      <td>9 LIENAU PL. Jersey City, NJ</td>\n      <td>1</td>\n      <td>1</td>\n      <td>None</td>\n    </tr>\n    <tr>\n      <th>7446</th>\n      <td>7 LIENAU PL.</td>\n      <td>MARELLA, EILEEN</td>\n      <td>7 LIENAU PL.</td>\n      <td>JERSEY CITY, N.J.  07306</td>\n      <td>7 LIENAU PL., JERSEY CITY, N.J.  07306</td>\n      <td>7 LIENAU PL. Jersey City, NJ</td>\n      <td>1</td>\n      <td>1</td>\n      <td>None</td>\n    </tr>\n    <tr>\n      <th>7447</th>\n      <td>5 LIENAU PL.</td>\n      <td>PATEL,VYOMESH D.&amp;PARULBEN V.</td>\n      <td>1011 PITT ST.</td>\n      <td>SO PLAINFIELD , NJ.  07080</td>\n      <td>1011 PITT ST., SO PLAINFIELD , NJ.  07080</td>\n      <td>5 LIENAU PL. Jersey City, NJ</td>\n      <td>1</td>\n      <td>1</td>\n      <td>None</td>\n    </tr>\n    <tr>\n      <th>7448</th>\n      <td>3 LIENAU PL.</td>\n      <td>NAATUS, JOEL &amp; MARY KATE R.</td>\n      <td>3 LIENAU PL.</td>\n      <td>JERSEY CITY, N.J.  07306</td>\n      <td>3 LIENAU PL., JERSEY CITY, N.J.  07306</td>\n      <td>3 LIENAU PL. Jersey City, NJ</td>\n      <td>1</td>\n      <td>1</td>\n      <td>None</td>\n    </tr>\n    <tr>\n      <th>7449</th>\n      <td>1 LIENAU PL.</td>\n      <td>PATEL, NIKHIL &amp; LATA</td>\n      <td>1 LIENAU PL.</td>\n      <td>JERSEY CITY, N.J.  07306</td>\n      <td>1 LIENAU PL., JERSEY CITY, N.J.  07306</td>\n      <td>1 LIENAU PL. Jersey City, NJ</td>\n      <td>1</td>\n      <td>1</td>\n      <td>None</td>\n    </tr>\n    <tr>\n      <th>7534</th>\n      <td>47 LIENAU PLACE</td>\n      <td>HABIB FAMILY TRUST</td>\n      <td>234 GRIFFITH STREET</td>\n      <td>JERSEY CITY, N J  07307</td>\n      <td>234 GRIFFITH STREET, JERSEY CITY, N J  07307</td>\n      <td>47 LIENAU PLACE Jersey City, NJ</td>\n      <td>3</td>\n      <td>1</td>\n      <td>None</td>\n    </tr>\n    <tr>\n      <th>7535</th>\n      <td>45 LIENAU PLACE</td>\n      <td>MANASRA, RIFAH I.</td>\n      <td>45 LIENAU PLACE</td>\n      <td>JERSEY CITY, N J  07307</td>\n      <td>45 LIENAU PLACE, JERSEY CITY, N J  07307</td>\n      <td>45 LIENAU PLACE Jersey City, NJ</td>\n      <td>1</td>\n      <td>1</td>\n      <td>None</td>\n    </tr>\n    <tr>\n      <th>7536</th>\n      <td>41 LIENAU PL.</td>\n      <td>CAVIANO, MICHAEL &amp; DOLORES POE</td>\n      <td>41 LINEAU PLACE</td>\n      <td>JERSEY CITY, N.J.  07306</td>\n      <td>41 LINEAU PLACE, JERSEY CITY, N.J.  07306</td>\n      <td>41 LIENAU PL. Jersey City, NJ</td>\n      <td>1</td>\n      <td>1</td>\n      <td>None</td>\n    </tr>\n    <tr>\n      <th>7537</th>\n      <td>35 LIENAU PL.</td>\n      <td>WEISSMAN, JOSHUA &amp; O'DONNELL, LISA</td>\n      <td>35 LIENAU PL.</td>\n      <td>JERSEY CITY, NJ  07307</td>\n      <td>35 LIENAU PL., JERSEY CITY, NJ  07307</td>\n      <td>35 LIENAU PL. Jersey City, NJ</td>\n      <td>1</td>\n      <td>1</td>\n      <td>None</td>\n    </tr>\n    <tr>\n      <th>7549</th>\n      <td>2 LIENAU PL.</td>\n      <td>BUSCAR, RICARDO N.</td>\n      <td>2 LIENAU PL.</td>\n      <td>JERSEY CITY, N.J.  07306</td>\n      <td>2 LIENAU PL., JERSEY CITY, N.J.  07306</td>\n      <td>2 LIENAU PL. Jersey City, NJ</td>\n      <td>1</td>\n      <td>1</td>\n      <td>None</td>\n    </tr>\n    <tr>\n      <th>7550</th>\n      <td>4 LIENAU PL.</td>\n      <td>ESPINOLA, ANDRES &amp; AMPARO</td>\n      <td>4 LIENAU PL.</td>\n      <td>JERSEY CITY, N.J.  07306</td>\n      <td>4 LIENAU PL., JERSEY CITY, N.J.  07306</td>\n      <td>4 LIENAU PL. Jersey City, NJ</td>\n      <td>1</td>\n      <td>1</td>\n      <td>None</td>\n    </tr>\n    <tr>\n      <th>7551</th>\n      <td>6 LIENAU PLACE</td>\n      <td>WANG, DEVON &amp; XU, TIANMEI</td>\n      <td>78 HOBART AVE.</td>\n      <td>SHORT HILLS, NJ  07078</td>\n      <td>78 HOBART AVE., SHORT HILLS, NJ  07078</td>\n      <td>6 LIENAU PLACE Jersey City, NJ</td>\n      <td>2</td>\n      <td>1</td>\n      <td>None</td>\n    </tr>\n    <tr>\n      <th>7552</th>\n      <td>8 LIENAU PL.</td>\n      <td>DIAZ, RUBEN A.</td>\n      <td>8 LIENAU PL.</td>\n      <td>JERSEY CITY, NJ  07306</td>\n      <td>8 LIENAU PL., JERSEY CITY, NJ  07306</td>\n      <td>8 LIENAU PL. Jersey City, NJ</td>\n      <td>1</td>\n      <td>1</td>\n      <td>None</td>\n    </tr>\n    <tr>\n      <th>7759</th>\n      <td>34 LIENAU PL.</td>\n      <td>VOSS, JENNA M.&amp; AGHERA, SAMEER R.</td>\n      <td>34 LIENAU PL.#1</td>\n      <td>JERSEY CITY, NJ  07307</td>\n      <td>34 LIENAU PL.#1, JERSEY CITY, NJ  07307</td>\n      <td>34 LIENAU PL. Jersey City, NJ</td>\n      <td>1</td>\n      <td>2</td>\n      <td>None</td>\n    </tr>\n    <tr>\n      <th>7760</th>\n      <td>34 LIENAU PL.</td>\n      <td>DELIERRE ALBAN &amp;MICSANSCHI, XENIA</td>\n      <td>34 LIENAU PLACE #2</td>\n      <td>JERSEY CITY, NJ  07302</td>\n      <td>34 LIENAU PLACE #2, JERSEY CITY, NJ  07302</td>\n      <td>34 LIENAU PL. Jersey City, NJ</td>\n      <td>1</td>\n      <td>2</td>\n      <td>None</td>\n    </tr>\n    <tr>\n      <th>7761</th>\n      <td>42 LIENAU PL.</td>\n      <td>42 LINEAU PLACE, LLC.</td>\n      <td>42 LIENAU PL.</td>\n      <td>JERSEY CITY, NJ  07307</td>\n      <td>42 LIENAU PL., JERSEY CITY, NJ  07307</td>\n      <td>42 LIENAU PL. Jersey City, NJ</td>\n      <td>1</td>\n      <td>1</td>\n      <td>None</td>\n    </tr>\n    <tr>\n      <th>8103</th>\n      <td>3144A JOHN F KENNEDY BLVD.</td>\n      <td>CABRERA, CARLOS A.</td>\n      <td>3144A KENNEDY BLVD.</td>\n      <td>JERSEY CITY, N.J.  07306</td>\n      <td>3144A KENNEDY BLVD., JERSEY CITY, N.J.  07306</td>\n      <td>3144A JOHN F KENNEDY BLVD. Jersey City, NJ</td>\n      <td>2</td>\n      <td>1</td>\n      <td>None</td>\n    </tr>\n    <tr>\n      <th>8534</th>\n      <td>88 LAIDLAW AVE. REAR</td>\n      <td>GRENEE, ROCKELLE</td>\n      <td>88 LAIDLAW AVE.-REAR</td>\n      <td>JERSEY CITY, N.J.  07306</td>\n      <td>88 LAIDLAW AVE.-REAR, JERSEY CITY, N.J.  07306</td>\n      <td>88 LAIDLAW AVE. REAR Jersey City, NJ</td>\n      <td>2</td>\n      <td>1</td>\n      <td>None</td>\n    </tr>\n    <tr>\n      <th>8535</th>\n      <td>88 LAIDLAW AVE. -FRONT</td>\n      <td>GRENEE, ROCKELLE</td>\n      <td>88 LAIDLAW AVE.-FRONT</td>\n      <td>JERSEY CITY, N.J.  07306</td>\n      <td>88 LAIDLAW AVE.-FRONT, JERSEY CITY, N.J.  07306</td>\n      <td>88 LAIDLAW AVE. -FRONT Jersey City, NJ</td>\n      <td>2</td>\n      <td>1</td>\n      <td>None</td>\n    </tr>\n    <tr>\n      <th>9029</th>\n      <td>235 TONNELE AVE.</td>\n      <td>GOYAL, POONAM</td>\n      <td>235 TONNELLE AVE</td>\n      <td>JERSEY CITY, NJ  07306</td>\n      <td>235 TONNELLE AVE, JERSEY CITY, NJ  07306</td>\n      <td>235 TONNELE AVE. Jersey City, NJ</td>\n      <td>1</td>\n      <td>1</td>\n      <td>None</td>\n    </tr>\n    <tr>\n      <th>9030</th>\n      <td>233 TONNELE AVE.</td>\n      <td>PINO, LUCILA, G. &amp; GONZALEZ, M.</td>\n      <td>233 TONNELE AVE.</td>\n      <td>JERSEY CITY, N.J.  07306</td>\n      <td>233 TONNELE AVE., JERSEY CITY, N.J.  07306</td>\n      <td>233 TONNELE AVE. Jersey City, NJ</td>\n      <td>1</td>\n      <td>1</td>\n      <td>None</td>\n    </tr>\n    <tr>\n      <th>9031</th>\n      <td>231 TONNELE AVE.</td>\n      <td>MIRZA, NAZAR</td>\n      <td>324 ST. PAULS AVE.</td>\n      <td>JERSEY CITY, NJ  07306</td>\n      <td>324 ST. PAULS AVE., JERSEY CITY, NJ  07306</td>\n      <td>231 TONNELE AVE. Jersey City, NJ</td>\n      <td>1</td>\n      <td>1</td>\n      <td>None</td>\n    </tr>\n    <tr>\n      <th>9032</th>\n      <td>229 TONNELE AVE.</td>\n      <td>TORRES, OSWALDO E.&amp; DHANWANTI</td>\n      <td>229 TONNELE AVE.</td>\n      <td>JERSEY CITY, N.J.  07306</td>\n      <td>229 TONNELE AVE., JERSEY CITY, N.J.  07306</td>\n      <td>229 TONNELE AVE. Jersey City, NJ</td>\n      <td>1</td>\n      <td>1</td>\n      <td>None</td>\n    </tr>\n  </tbody>\n</table>\n</div>"
     },
     "metadata": {},
     "execution_count": 41
    }
   ],
   "source": [
    "errors_df.iloc[geocode_errors].head(50)"
   ]
  },
  {
   "cell_type": "code",
   "execution_count": 59,
   "metadata": {},
   "outputs": [],
   "source": [
    "# There is no 'Tonnele Ave' – it's 'Tonnelle'\n",
    "geolocator.geocode('LIENAU PL., Jersey City, NJ')"
   ]
  },
  {
   "cell_type": "code",
   "execution_count": 60,
   "metadata": {},
   "outputs": [],
   "source": [
    "errors_df.propertyLocation = errors_df.propertyLocation.str.replace('TONNELE', 'TONNELLE')"
   ]
  },
  {
   "cell_type": "code",
   "execution_count": 83,
   "metadata": {},
   "outputs": [],
   "source": [
    "errors_df.propertyLocation = errors_df.propertyLocation.str.replace('MC ADOO', 'MCADOO')"
   ]
  },
  {
   "cell_type": "code",
   "execution_count": 84,
   "metadata": {},
   "outputs": [
    {
     "output_type": "stream",
     "name": "stderr",
     "text": [
      "/var/folders/jn/0t9fgm4d05bdfp70phhgc1sr0000gn/T/ipykernel_20899/2427887638.py:1: FutureWarning: The default value of regex will change from True to False in a future version.\n  errors_df.propertyLocation = errors_df.propertyLocation.str.replace('M.L. KING DRIVE', 'MARTIN LUTHER KING DRIVE')\n"
     ]
    }
   ],
   "source": [
    "errors_df.propertyLocation = errors_df.propertyLocation.str.replace('M.L. KING DRIVE', 'MARTIN LUTHER KING DRIVE')"
   ]
  },
  {
   "cell_type": "code",
   "execution_count": 111,
   "metadata": {},
   "outputs": [],
   "source": [
    "errors_df.propertyLocation = errors_df.propertyLocation.str.replace('COLUMBUS', 'CHRISTOPHER COLUMBUS')"
   ]
  },
  {
   "cell_type": "code",
   "execution_count": 112,
   "metadata": {},
   "outputs": [],
   "source": [
    "errors_df.propertyLocation = errors_df.propertyLocation.str.replace('FIRST', '1st')\n",
    "errors_df.propertyLocation = errors_df.propertyLocation.str.replace('SECOND', '2nd')\n",
    "errors_df.propertyLocation = errors_df.propertyLocation.str.replace('THIRD', '3rd')\n",
    "errors_df.propertyLocation = errors_df.propertyLocation.str.replace('FOURTH', '4th')\n",
    "errors_df.propertyLocation = errors_df.propertyLocation.str.replace('FIFTH', '5th')\n",
    "errors_df.propertyLocation = errors_df.propertyLocation.str.replace('SIXTH', '6th')\n",
    "errors_df.propertyLocation = errors_df.propertyLocation.str.replace('SEVENTH', '7th')\n",
    "errors_df.propertyLocation = errors_df.propertyLocation.str.replace('EIGHTH', '8th')\n",
    "errors_df.propertyLocation = errors_df.propertyLocation.str.replace('NINETH', '9th')\n",
    "errors_df.propertyLocation = errors_df.propertyLocation.str.replace('TENTH', '10th')"
   ]
  },
  {
   "cell_type": "code",
   "execution_count": 113,
   "metadata": {},
   "outputs": [],
   "source": [
    "errors_df.propertyFullAddress = errors_df.propertyLocation + ', Jersey City, NJ'"
   ]
  },
  {
   "cell_type": "code",
   "execution_count": 114,
   "metadata": {},
   "outputs": [],
   "source": [
    "errors_df['gCode'] = errors_df.propertyFullAddress.apply(geolocator.geocode)"
   ]
  },
  {
   "cell_type": "code",
   "execution_count": 115,
   "metadata": {},
   "outputs": [],
   "source": [
    "geocode_errors = [i for i,e in enumerate(errors_df.gCode) if e == None]"
   ]
  },
  {
   "cell_type": "code",
   "execution_count": 116,
   "metadata": {},
   "outputs": [
    {
     "output_type": "execute_result",
     "data": {
      "text/plain": [
       "                 propertyLocation                      ownersName  \\\n",
       "648           274-76 COLUMBIA AVE        PERSAUD, PURAN & ANJAALI   \n",
       "797    3633A JOHN F KENNEDY BLVD.            SCALIA HOLDINGS, LLC   \n",
       "1667         1074-1080 SUMMIT AVE               1074 SUMMIT, LLC.   \n",
       "1821     19 PATERSON STREET -REAR                     BIRN, SUSAN   \n",
       "2529            78A-80 THORNE ST.  MITTAL,CHITRA KOTHARI & DEEPAK   \n",
       "...                           ...                             ...   \n",
       "38815         4 CONSTELLATION PL.                 PRAKASH, NIKHIL   \n",
       "38817         4 CONSTELLATION PL.         DOBSON, MABLE E & TANYA   \n",
       "38820         4 CONSTELLATION PL.            BANDYOPADHYAY, RAHUL   \n",
       "40216        12 DANFORTH AVE. THO      RIVERA, CARMEN & MAGDALENA   \n",
       "40786              162 OLD BERGEN       162 OLD BERGEN AVE., LLC.   \n",
       "\n",
       "           ownersMailingAddress              cityStateZip  \\\n",
       "648     274-276 COLUMBIA AVENUE   JERSEY CITY,N.J.  07307   \n",
       "797            264 CENTRAL AVE.    JERSEY CITY, NJ  07307   \n",
       "1667               10 FULTON ST      WEEHAWKEN, NJ  07086   \n",
       "1821    19 PATERSON STREET-REAR  JERSEY CITY, N.J.  07307   \n",
       "2529        76 CONSTITUTION WAY  JERSEY CITY, N.J.  07302   \n",
       "...                         ...                       ...   \n",
       "38815  4 CONSTELLATION PL.,#404   JERSEY CITY,  NJ  07305   \n",
       "38817               2 BUCKS LN.       MARLBORO, NJ  07746   \n",
       "38820    806 MORRIS TPKE APT 1A    SHORT HILLS, NJ  07078   \n",
       "40216          12 DANFORTH AVE.    JERSEY CITY, NJ  07305   \n",
       "40786         96 ARLINGTON AVE.    JERSEY CITY, NJ  07305   \n",
       "\n",
       "                                ownersFullMailingAddress  \\\n",
       "648     274-276 COLUMBIA AVENUE, JERSEY CITY,N.J.  07307   \n",
       "797             264 CENTRAL AVE., JERSEY CITY, NJ  07307   \n",
       "1667                  10 FULTON ST, WEEHAWKEN, NJ  07086   \n",
       "1821   19 PATERSON STREET-REAR, JERSEY CITY, N.J.  07307   \n",
       "2529       76 CONSTITUTION WAY, JERSEY CITY, N.J.  07302   \n",
       "...                                                  ...   \n",
       "38815  4 CONSTELLATION PL.,#404, JERSEY CITY,  NJ  07305   \n",
       "38817                   2 BUCKS LN., MARLBORO, NJ  07746   \n",
       "38820     806 MORRIS TPKE APT 1A, SHORT HILLS, NJ  07078   \n",
       "40216           12 DANFORTH AVE., JERSEY CITY, NJ  07305   \n",
       "40786          96 ARLINGTON AVE., JERSEY CITY, NJ  07305   \n",
       "\n",
       "                               propertyFullAddress  propertiesOwned  units  \\\n",
       "648           274-76 COLUMBIA AVE, Jersey City, NJ                6      1   \n",
       "797    3633A JOHN F KENNEDY BLVD., Jersey City, NJ                5      1   \n",
       "1667         1074-1080 SUMMIT AVE, Jersey City, NJ                1      1   \n",
       "1821     19 PATERSON STREET -REAR, Jersey City, NJ                1      1   \n",
       "2529            78A-80 THORNE ST., Jersey City, NJ                1      1   \n",
       "...                                            ...              ...    ...   \n",
       "38815         4 CONSTELLATION PL., Jersey City, NJ                1     29   \n",
       "38817         4 CONSTELLATION PL., Jersey City, NJ                1     29   \n",
       "38820         4 CONSTELLATION PL., Jersey City, NJ                1     29   \n",
       "40216        12 DANFORTH AVE. THO, Jersey City, NJ                1      1   \n",
       "40786              162 OLD BERGEN, Jersey City, NJ                1      1   \n",
       "\n",
       "      gCode  \n",
       "648    None  \n",
       "797    None  \n",
       "1667   None  \n",
       "1821   None  \n",
       "2529   None  \n",
       "...     ...  \n",
       "38815  None  \n",
       "38817  None  \n",
       "38820  None  \n",
       "40216  None  \n",
       "40786  None  \n",
       "\n",
       "[557 rows x 9 columns]"
      ],
      "text/html": "<div>\n<style scoped>\n    .dataframe tbody tr th:only-of-type {\n        vertical-align: middle;\n    }\n\n    .dataframe tbody tr th {\n        vertical-align: top;\n    }\n\n    .dataframe thead th {\n        text-align: right;\n    }\n</style>\n<table border=\"1\" class=\"dataframe\">\n  <thead>\n    <tr style=\"text-align: right;\">\n      <th></th>\n      <th>propertyLocation</th>\n      <th>ownersName</th>\n      <th>ownersMailingAddress</th>\n      <th>cityStateZip</th>\n      <th>ownersFullMailingAddress</th>\n      <th>propertyFullAddress</th>\n      <th>propertiesOwned</th>\n      <th>units</th>\n      <th>gCode</th>\n    </tr>\n  </thead>\n  <tbody>\n    <tr>\n      <th>648</th>\n      <td>274-76 COLUMBIA AVE</td>\n      <td>PERSAUD, PURAN &amp; ANJAALI</td>\n      <td>274-276 COLUMBIA AVENUE</td>\n      <td>JERSEY CITY,N.J.  07307</td>\n      <td>274-276 COLUMBIA AVENUE, JERSEY CITY,N.J.  07307</td>\n      <td>274-76 COLUMBIA AVE, Jersey City, NJ</td>\n      <td>6</td>\n      <td>1</td>\n      <td>None</td>\n    </tr>\n    <tr>\n      <th>797</th>\n      <td>3633A JOHN F KENNEDY BLVD.</td>\n      <td>SCALIA HOLDINGS, LLC</td>\n      <td>264 CENTRAL AVE.</td>\n      <td>JERSEY CITY, NJ  07307</td>\n      <td>264 CENTRAL AVE., JERSEY CITY, NJ  07307</td>\n      <td>3633A JOHN F KENNEDY BLVD., Jersey City, NJ</td>\n      <td>5</td>\n      <td>1</td>\n      <td>None</td>\n    </tr>\n    <tr>\n      <th>1667</th>\n      <td>1074-1080 SUMMIT AVE</td>\n      <td>1074 SUMMIT, LLC.</td>\n      <td>10 FULTON ST</td>\n      <td>WEEHAWKEN, NJ  07086</td>\n      <td>10 FULTON ST, WEEHAWKEN, NJ  07086</td>\n      <td>1074-1080 SUMMIT AVE, Jersey City, NJ</td>\n      <td>1</td>\n      <td>1</td>\n      <td>None</td>\n    </tr>\n    <tr>\n      <th>1821</th>\n      <td>19 PATERSON STREET -REAR</td>\n      <td>BIRN, SUSAN</td>\n      <td>19 PATERSON STREET-REAR</td>\n      <td>JERSEY CITY, N.J.  07307</td>\n      <td>19 PATERSON STREET-REAR, JERSEY CITY, N.J.  07307</td>\n      <td>19 PATERSON STREET -REAR, Jersey City, NJ</td>\n      <td>1</td>\n      <td>1</td>\n      <td>None</td>\n    </tr>\n    <tr>\n      <th>2529</th>\n      <td>78A-80 THORNE ST.</td>\n      <td>MITTAL,CHITRA KOTHARI &amp; DEEPAK</td>\n      <td>76 CONSTITUTION WAY</td>\n      <td>JERSEY CITY, N.J.  07302</td>\n      <td>76 CONSTITUTION WAY, JERSEY CITY, N.J.  07302</td>\n      <td>78A-80 THORNE ST., Jersey City, NJ</td>\n      <td>1</td>\n      <td>1</td>\n      <td>None</td>\n    </tr>\n    <tr>\n      <th>...</th>\n      <td>...</td>\n      <td>...</td>\n      <td>...</td>\n      <td>...</td>\n      <td>...</td>\n      <td>...</td>\n      <td>...</td>\n      <td>...</td>\n      <td>...</td>\n    </tr>\n    <tr>\n      <th>38815</th>\n      <td>4 CONSTELLATION PL.</td>\n      <td>PRAKASH, NIKHIL</td>\n      <td>4 CONSTELLATION PL.,#404</td>\n      <td>JERSEY CITY,  NJ  07305</td>\n      <td>4 CONSTELLATION PL.,#404, JERSEY CITY,  NJ  07305</td>\n      <td>4 CONSTELLATION PL., Jersey City, NJ</td>\n      <td>1</td>\n      <td>29</td>\n      <td>None</td>\n    </tr>\n    <tr>\n      <th>38817</th>\n      <td>4 CONSTELLATION PL.</td>\n      <td>DOBSON, MABLE E &amp; TANYA</td>\n      <td>2 BUCKS LN.</td>\n      <td>MARLBORO, NJ  07746</td>\n      <td>2 BUCKS LN., MARLBORO, NJ  07746</td>\n      <td>4 CONSTELLATION PL., Jersey City, NJ</td>\n      <td>1</td>\n      <td>29</td>\n      <td>None</td>\n    </tr>\n    <tr>\n      <th>38820</th>\n      <td>4 CONSTELLATION PL.</td>\n      <td>BANDYOPADHYAY, RAHUL</td>\n      <td>806 MORRIS TPKE APT 1A</td>\n      <td>SHORT HILLS, NJ  07078</td>\n      <td>806 MORRIS TPKE APT 1A, SHORT HILLS, NJ  07078</td>\n      <td>4 CONSTELLATION PL., Jersey City, NJ</td>\n      <td>1</td>\n      <td>29</td>\n      <td>None</td>\n    </tr>\n    <tr>\n      <th>40216</th>\n      <td>12 DANFORTH AVE. THO</td>\n      <td>RIVERA, CARMEN &amp; MAGDALENA</td>\n      <td>12 DANFORTH AVE.</td>\n      <td>JERSEY CITY, NJ  07305</td>\n      <td>12 DANFORTH AVE., JERSEY CITY, NJ  07305</td>\n      <td>12 DANFORTH AVE. THO, Jersey City, NJ</td>\n      <td>1</td>\n      <td>1</td>\n      <td>None</td>\n    </tr>\n    <tr>\n      <th>40786</th>\n      <td>162 OLD BERGEN</td>\n      <td>162 OLD BERGEN AVE., LLC.</td>\n      <td>96 ARLINGTON AVE.</td>\n      <td>JERSEY CITY, NJ  07305</td>\n      <td>96 ARLINGTON AVE., JERSEY CITY, NJ  07305</td>\n      <td>162 OLD BERGEN, Jersey City, NJ</td>\n      <td>1</td>\n      <td>1</td>\n      <td>None</td>\n    </tr>\n  </tbody>\n</table>\n<p>557 rows × 9 columns</p>\n</div>"
     },
     "metadata": {},
     "execution_count": 116
    }
   ],
   "source": [
    "errors_df.iloc[geocode_errors]"
   ]
  },
  {
   "cell_type": "code",
   "execution_count": 117,
   "metadata": {},
   "outputs": [],
   "source": [
    "errors_df.to_pickle('errors_df.pkl')"
   ]
  },
  {
   "cell_type": "code",
   "execution_count": null,
   "metadata": {},
   "outputs": [],
   "source": []
  }
 ]
}