{
 "metadata": {
  "orig_nbformat": 4,
  "kernelspec": {
   "name": "python3",
   "display_name": "Python 3.9.6",
   "language": "python"
  },
  "interpreter": {
   "hash": "ac2eaa0ea0ebeafcc7822e65e46aa9d4f966f30b695406963e145ea4a91cd4fc"
  }
 },
 "nbformat": 4,
 "nbformat_minor": 2,
 "cells": [
  {
   "source": [
    "## Cleaning and Normalization"
   ],
   "cell_type": "markdown",
   "metadata": {}
  },
  {
   "cell_type": "code",
   "execution_count": 158,
   "metadata": {},
   "outputs": [],
   "source": [
    "import pandas as pd \n",
    "import numpy as np\n",
    "\n",
    "from geopy.geocoders import Nominatim\n",
    "from geopy.extra.rate_limiter import RateLimiter\n",
    "# for returning lat long coordinates from addresses\n",
    "geolocator = Nominatim(user_agent=\"myGeolocator\", timeout=2)\n",
    "\n",
    "# since we've pickled the dataframe after attempting to geocode…\n",
    "# …we'll read the pickle and not the csv\n",
    "#df = pd.read_csv('jersey_city_residential.csv')\n",
    "\n",
    "df = pd.read_pickle('JC_residential.pkl')\n",
    "errors_df = pd.read_csv('errors.csv')\n",
    "\n",
    "# number of times owner appears in second column\n",
    "def propertiesOwned(owner=str):\n",
    "    return len(df[df.ownersName == owner])\n",
    "\n",
    "# number of times property appears in first column\n",
    "def propertyAppearances(address=str): \n",
    "    return len(df[df.propertyLocation == address])\n",
    "\n",
    "df['ownersFullMailingAddress'] = df['ownersMailingAddress'] + ', ' + df.cityStateZip\n",
    "df['propertyFullAddress'] = df.propertyLocation + ' Jersey City, NJ'\n"
   ]
  },
  {
   "cell_type": "code",
   "execution_count": 159,
   "metadata": {},
   "outputs": [
    {
     "output_type": "stream",
     "name": "stderr",
     "text": [
      "/var/folders/jn/0t9fgm4d05bdfp70phhgc1sr0000gn/T/ipykernel_1625/305007133.py:2: FutureWarning: The default value of regex will change from True to False in a future version.\n  errors_df.propertyLocation = errors_df.propertyLocation.str.replace('(REAR)', '')\n/var/folders/jn/0t9fgm4d05bdfp70phhgc1sr0000gn/T/ipykernel_1625/305007133.py:4: FutureWarning: The default value of regex will change from True to False in a future version.\n  errors_df.propertyLocation = errors_df.propertyLocation.str.replace('HAMPTON CT.', 'HAMPTON COURT')\n/var/folders/jn/0t9fgm4d05bdfp70phhgc1sr0000gn/T/ipykernel_1625/305007133.py:5: FutureWarning: The default value of regex will change from True to False in a future version.\n  errors_df.propertyLocation = errors_df.propertyLocation.str.replace(r'\\(\\)', '')\n/var/folders/jn/0t9fgm4d05bdfp70phhgc1sr0000gn/T/ipykernel_1625/305007133.py:17: FutureWarning: The default value of regex will change from True to False in a future version.\n  errors_df.propertyLocation = errors_df.propertyLocation.str.replace('M.L. KING DR.', 'MARTIN LUTHER KING DR.')\n/var/folders/jn/0t9fgm4d05bdfp70phhgc1sr0000gn/T/ipykernel_1625/305007133.py:18: FutureWarning: The default value of regex will change from True to False in a future version.\n  errors_df.propertyLocation = errors_df.propertyLocation.str.replace(' 1ST FL.', '')\n/var/folders/jn/0t9fgm4d05bdfp70phhgc1sr0000gn/T/ipykernel_1625/305007133.py:19: FutureWarning: The default value of regex will change from True to False in a future version.\n  errors_df.propertyLocation = errors_df.propertyLocation.str.replace(' SO.', '')\n/var/folders/jn/0t9fgm4d05bdfp70phhgc1sr0000gn/T/ipykernel_1625/305007133.py:20: FutureWarning: The default value of regex will change from True to False in a future version.\n  errors_df.propertyLocation = errors_df.propertyLocation.str.replace(' N.', '')\n/var/folders/jn/0t9fgm4d05bdfp70phhgc1sr0000gn/T/ipykernel_1625/305007133.py:24: FutureWarning: The default value of regex will change from True to False in a future version.\n  errors_df.propertyLocation = errors_df.propertyLocation.str.replace('VAN HOUTEN ST.', 'VAN HOUTEN AVE.')\n/var/folders/jn/0t9fgm4d05bdfp70phhgc1sr0000gn/T/ipykernel_1625/305007133.py:25: FutureWarning: The default value of regex will change from True to False in a future version.\n  errors_df.propertyLocation = errors_df.propertyLocation.str.replace(r'-\\d{2,}(.?\\d{1}(A)?)?A?\\b', '')\n/var/folders/jn/0t9fgm4d05bdfp70phhgc1sr0000gn/T/ipykernel_1625/305007133.py:26: FutureWarning: The default value of regex will change from True to False in a future version.\n  errors_df.propertyLocation = errors_df.propertyLocation.str.replace(r'-\\d{2,}', '')\n/var/folders/jn/0t9fgm4d05bdfp70phhgc1sr0000gn/T/ipykernel_1625/305007133.py:27: FutureWarning: The default value of regex will change from True to False in a future version.\n  errors_df.propertyLocation = errors_df.propertyLocation.str.replace(r'\\s#\\d', '')\n/var/folders/jn/0t9fgm4d05bdfp70phhgc1sr0000gn/T/ipykernel_1625/305007133.py:28: FutureWarning: The default value of regex will change from True to False in a future version.\n  errors_df.propertyLocation = errors_df.propertyLocation.str.replace('MC PHERSON ST.', 'MCPHERSON PL.')\n/var/folders/jn/0t9fgm4d05bdfp70phhgc1sr0000gn/T/ipykernel_1625/305007133.py:31: FutureWarning: The default value of regex will change from True to False in a future version.\n  errors_df.propertyLocation = errors_df.propertyLocation.str.replace('UNION AVE.', 'UNION ST.')\n/var/folders/jn/0t9fgm4d05bdfp70phhgc1sr0000gn/T/ipykernel_1625/305007133.py:33: FutureWarning: The default value of regex will change from True to False in a future version.\n  errors_df.propertyLocation = errors_df.propertyLocation.str.replace('AVE. AVE.', 'AVE.')\n/var/folders/jn/0t9fgm4d05bdfp70phhgc1sr0000gn/T/ipykernel_1625/305007133.py:34: FutureWarning: The default value of regex will change from True to False in a future version.\n  errors_df.propertyLocation = errors_df.propertyLocation.str.replace('JACKSON AVE.', 'JACKSON ST.')\n/var/folders/jn/0t9fgm4d05bdfp70phhgc1sr0000gn/T/ipykernel_1625/305007133.py:35: FutureWarning: The default value of regex will change from True to False in a future version.\n  errors_df.propertyLocation = errors_df.propertyLocation.str.replace('162 OLD BERGEN AVE. AVE.', '162 OLD BERGEN AVE.')\n/var/folders/jn/0t9fgm4d05bdfp70phhgc1sr0000gn/T/ipykernel_1625/305007133.py:38: FutureWarning: The default value of regex will change from True to False in a future version.\n  errors_df.propertyLocation = errors_df.propertyLocation.str.replace('100 SHEARWATER CT.', '100 EAST SHEARWATER CT.')\n"
     ]
    }
   ],
   "source": [
    "errors_df.propertyLocation = errors_df.propertyLocation.str.replace('-REAR', '')\n",
    "errors_df.propertyLocation = errors_df.propertyLocation.str.replace('(REAR)', '')\n",
    "errors_df.propertyLocation = errors_df.propertyLocation.str.replace('-FRONT', '')\n",
    "errors_df.propertyLocation = errors_df.propertyLocation.str.replace('HAMPTON CT.', 'HAMPTON COURT')\n",
    "errors_df.propertyLocation = errors_df.propertyLocation.str.replace(r'\\(\\)', '')\n",
    "errors_df.propertyLocation = errors_df.propertyLocation.str.replace('VARCK', 'VARICK')\n",
    "# errors_df.propertyLocation = errors_df.propertyLocation.str.replace('OLD BERGEN', 'OLD BERGEN AVE')\n",
    "errors_df.propertyLocation = errors_df.propertyLocation.str.replace('THO', '')\n",
    "errors_df.propertyLocation = errors_df.propertyLocation.str.replace('AVE AVE', 'AVE')\n",
    "errors_df.propertyLocation = errors_df.propertyLocation.str.replace('TER', 'TR')\n",
    "errors_df.propertyLocation = errors_df.propertyLocation.str.replace('3633A', '3633')\n",
    "errors_df.propertyLocation = errors_df.propertyLocation.str.replace('3144A', '3144')\n",
    "errors_df.propertyLocation = errors_df.propertyLocation.str.replace('SHEARWATR', 'SHEARWATER')\n",
    "errors_df.propertyLocation = errors_df.propertyLocation.str.replace('PALUSL', \"PAUL'S\")\n",
    "errors_df.propertyLocation = errors_df.propertyLocation.str.replace('COURT TR', \"CT\")\n",
    "errors_df.propertyLocation = errors_df.propertyLocation.str.replace('EASTVIEW', \"E VIEW\")\n",
    "errors_df.propertyLocation = errors_df.propertyLocation.str.replace('M.L. KING DR.', 'MARTIN LUTHER KING DR.')\n",
    "errors_df.propertyLocation = errors_df.propertyLocation.str.replace(' 1ST FL.', '')\n",
    "errors_df.propertyLocation = errors_df.propertyLocation.str.replace(' SO.', '')\n",
    "errors_df.propertyLocation = errors_df.propertyLocation.str.replace(' N.', '')\n",
    "errors_df.propertyLocation = errors_df.propertyLocation.str.replace('ODGEN', 'OGDEN')\n",
    "errors_df.propertyLocation = errors_df.propertyLocation.str.replace('PATRSON', 'PATERSON')\n",
    "errors_df.propertyLocation = errors_df.propertyLocation.str.replace(' 61 COLES', '')\n",
    "errors_df.propertyLocation = errors_df.propertyLocation.str.replace('VAN HOUTEN ST.', 'VAN HOUTEN AVE.')\n",
    "errors_df.propertyLocation = errors_df.propertyLocation.str.replace(r'-\\d{2,}(.?\\d{1}(A)?)?A?\\b', '')\n",
    "errors_df.propertyLocation = errors_df.propertyLocation.str.replace(r'-\\d{2,}', '')\n",
    "errors_df.propertyLocation = errors_df.propertyLocation.str.replace(r'\\s#\\d', '')\n",
    "errors_df.propertyLocation = errors_df.propertyLocation.str.replace('MC PHERSON ST.', 'MCPHERSON PL.')\n",
    "errors_df.propertyLocation = errors_df.propertyLocation.str.replace('MC PHERSON', 'MCPHERSON')\n",
    "errors_df.propertyLocation = errors_df.propertyLocation.str.replace('FIR ROAD', 'FIR ST.')\n",
    "errors_df.propertyLocation = errors_df.propertyLocation.str.replace('UNION AVE.', 'UNION ST.')\n",
    "errors_df.propertyLocation = errors_df.propertyLocation.str.replace('OLD BERGEN', 'OLD BERGEN AVE.')\n",
    "errors_df.propertyLocation = errors_df.propertyLocation.str.replace('AVE. AVE.', 'AVE.')\n",
    "errors_df.propertyLocation = errors_df.propertyLocation.str.replace('JACKSON AVE.', 'JACKSON ST.')\n",
    "errors_df.propertyLocation = errors_df.propertyLocation.str.replace('162 OLD BERGEN AVE. AVE.', '162 OLD BERGEN AVE.')\n",
    "errors_df.propertyLocation = errors_df.propertyLocation.str.replace('GLEN', 'GLENN')\n",
    "errors_df.propertyLocation = errors_df.propertyLocation.str.replace('GLENNN', 'GLENN')\n",
    "errors_df.propertyLocation = errors_df.propertyLocation.str.replace('100 SHEARWATER CT.', '100 EAST SHEARWATER CT.')\n",
    "errors_df.propertyLocation = errors_df.propertyLocation.str.replace('1 GLENNN LANE', '1 GLENN LANE')\n",
    "\n",
    "errors_df.propertyFullAddress = errors_df.propertyLocation + ' Jersey City, NJ'"
   ]
  },
  {
   "cell_type": "code",
   "execution_count": 160,
   "metadata": {},
   "outputs": [
    {
     "output_type": "stream",
     "name": "stdout",
     "text": [
      "CPU times: user 378 ms, sys: 54.6 ms, total: 433 ms\nWall time: 1min 58s\n"
     ]
    }
   ],
   "source": [
    "%%time\n",
    "errors_df['gCode'] = errors_df.propertyFullAddress.apply(geolocator.geocode)"
   ]
  },
  {
   "cell_type": "code",
   "execution_count": 161,
   "metadata": {},
   "outputs": [],
   "source": [
    "geocode_errors = [i for i,e in enumerate(errors_df.gCode) if e == None]"
   ]
  },
  {
   "cell_type": "code",
   "execution_count": 162,
   "metadata": {},
   "outputs": [
    {
     "output_type": "execute_result",
     "data": {
      "text/plain": [
       "array(['78A RNE ST.', '280 GREGORY PARK PLAZA', '270 GREGORY PARK PLAZA',\n",
       "       '107 SHEARWATER CT.'], dtype=object)"
      ]
     },
     "metadata": {},
     "execution_count": 162
    }
   ],
   "source": [
    "errors_df.iloc[geocode_errors].propertyLocation.unique()"
   ]
  },
  {
   "cell_type": "code",
   "execution_count": 163,
   "metadata": {},
   "outputs": [
    {
     "output_type": "execute_result",
     "data": {
      "text/plain": [
       "     Unnamed: 0        propertyLocation                         ownersName  \\\n",
       "4          2529             78A RNE ST.     MITTAL,CHITRA KOTHARI & DEEPAK   \n",
       "113       19691  280 GREGORY PARK PLAZA  METROPOLIS TOWERS APT. CORP. MGT.   \n",
       "114       19692  270 GREGORY PARK PLAZA  METROPOLIS TOWERS APT. CORP. MGT.   \n",
       "186       38254      107 SHEARWATER CT.  SANTANIELLO III, PHILLIP & CLAIRE   \n",
       "\n",
       "       ownersMailingAddress              cityStateZip  \\\n",
       "4       76 CONSTITUTION WAY  JERSEY CITY, N.J.  07302   \n",
       "113  280 GREGORY PARK PLAZA    JERSEY CITY, NJ  07302   \n",
       "114  270 GREGORY PARK PLAZA    JERSEY CITY, NJ  07302   \n",
       "186      107 SHEARWATER CT.    JERSEY CITY, NJ  07305   \n",
       "\n",
       "                           ownersFullMailingAddress  \\\n",
       "4     76 CONSTITUTION WAY, JERSEY CITY, N.J.  07302   \n",
       "113  280 GREGORY PARK PLAZA, JERSEY CITY, NJ  07302   \n",
       "114  270 GREGORY PARK PLAZA, JERSEY CITY, NJ  07302   \n",
       "186      107 SHEARWATER CT., JERSEY CITY, NJ  07305   \n",
       "\n",
       "                        propertyFullAddress  propertiesOwned  units gCode  \n",
       "4               78A RNE ST. Jersey City, NJ                1      1  None  \n",
       "113  280 GREGORY PARK PLAZA Jersey City, NJ                2      1  None  \n",
       "114  270 GREGORY PARK PLAZA Jersey City, NJ                2      1  None  \n",
       "186      107 SHEARWATER CT. Jersey City, NJ                1      1  None  "
      ],
      "text/html": "<div>\n<style scoped>\n    .dataframe tbody tr th:only-of-type {\n        vertical-align: middle;\n    }\n\n    .dataframe tbody tr th {\n        vertical-align: top;\n    }\n\n    .dataframe thead th {\n        text-align: right;\n    }\n</style>\n<table border=\"1\" class=\"dataframe\">\n  <thead>\n    <tr style=\"text-align: right;\">\n      <th></th>\n      <th>Unnamed: 0</th>\n      <th>propertyLocation</th>\n      <th>ownersName</th>\n      <th>ownersMailingAddress</th>\n      <th>cityStateZip</th>\n      <th>ownersFullMailingAddress</th>\n      <th>propertyFullAddress</th>\n      <th>propertiesOwned</th>\n      <th>units</th>\n      <th>gCode</th>\n    </tr>\n  </thead>\n  <tbody>\n    <tr>\n      <th>4</th>\n      <td>2529</td>\n      <td>78A RNE ST.</td>\n      <td>MITTAL,CHITRA KOTHARI &amp; DEEPAK</td>\n      <td>76 CONSTITUTION WAY</td>\n      <td>JERSEY CITY, N.J.  07302</td>\n      <td>76 CONSTITUTION WAY, JERSEY CITY, N.J.  07302</td>\n      <td>78A RNE ST. Jersey City, NJ</td>\n      <td>1</td>\n      <td>1</td>\n      <td>None</td>\n    </tr>\n    <tr>\n      <th>113</th>\n      <td>19691</td>\n      <td>280 GREGORY PARK PLAZA</td>\n      <td>METROPOLIS TOWERS APT. CORP. MGT.</td>\n      <td>280 GREGORY PARK PLAZA</td>\n      <td>JERSEY CITY, NJ  07302</td>\n      <td>280 GREGORY PARK PLAZA, JERSEY CITY, NJ  07302</td>\n      <td>280 GREGORY PARK PLAZA Jersey City, NJ</td>\n      <td>2</td>\n      <td>1</td>\n      <td>None</td>\n    </tr>\n    <tr>\n      <th>114</th>\n      <td>19692</td>\n      <td>270 GREGORY PARK PLAZA</td>\n      <td>METROPOLIS TOWERS APT. CORP. MGT.</td>\n      <td>270 GREGORY PARK PLAZA</td>\n      <td>JERSEY CITY, NJ  07302</td>\n      <td>270 GREGORY PARK PLAZA, JERSEY CITY, NJ  07302</td>\n      <td>270 GREGORY PARK PLAZA Jersey City, NJ</td>\n      <td>2</td>\n      <td>1</td>\n      <td>None</td>\n    </tr>\n    <tr>\n      <th>186</th>\n      <td>38254</td>\n      <td>107 SHEARWATER CT.</td>\n      <td>SANTANIELLO III, PHILLIP &amp; CLAIRE</td>\n      <td>107 SHEARWATER CT.</td>\n      <td>JERSEY CITY, NJ  07305</td>\n      <td>107 SHEARWATER CT., JERSEY CITY, NJ  07305</td>\n      <td>107 SHEARWATER CT. Jersey City, NJ</td>\n      <td>1</td>\n      <td>1</td>\n      <td>None</td>\n    </tr>\n  </tbody>\n</table>\n</div>"
     },
     "metadata": {},
     "execution_count": 163
    }
   ],
   "source": [
    "errors_df.iloc[geocode_errors]"
   ]
  },
  {
   "cell_type": "code",
   "execution_count": 164,
   "metadata": {},
   "outputs": [],
   "source": [
    "# we've already added these columns, so we'll comment them out\n",
    "#df['propertiesOwned'] = [propertiesOwned(owner) for owner in df.ownersName]\n",
    "#df['units'] = [propertyAppearances(address) for address in df.propertyLocation]\n",
    "#df['gCode'] = df.propertyFullAddress.apply(geolocator.geocode)"
   ]
  },
  {
   "source": [
    "### Before we save the smaller errors data frame, we need to append the cleaned errors to the original df"
   ],
   "cell_type": "markdown",
   "metadata": {}
  },
  {
   "cell_type": "code",
   "execution_count": 165,
   "metadata": {},
   "outputs": [],
   "source": [
    "df = df.append(errors_df.dropna(axis=0, subset=['gCode']))"
   ]
  },
  {
   "cell_type": "code",
   "execution_count": 167,
   "metadata": {},
   "outputs": [],
   "source": [
    "df.to_pickle('JC_residential.pkl')"
   ]
  },
  {
   "cell_type": "code",
   "execution_count": 168,
   "metadata": {},
   "outputs": [],
   "source": [
    "df.to_csv('JS_residential.csv', index=None)"
   ]
  },
  {
   "cell_type": "code",
   "execution_count": 169,
   "metadata": {},
   "outputs": [],
   "source": [
    "# since we got an error saying we're writing on the dataframe…\n",
    "# we'll creata a separate df of the errors and merge with the original df later\n",
    "\n",
    "# errors_df = df.iloc[geocode_errors].copy()\n",
    "\n",
    "# this is how we originally got errors_df, but we've corrected many errors since\n",
    "# we'll instead save a copy of a copy, but only of those addresses we've yet to geocode\n",
    "errors_df =  errorsdf.iloc[geocode_errors].copy()\n",
    "\n",
    "#errors_df.to_csv('errors.csv')"
   ]
  },
  {
   "cell_type": "code",
   "execution_count": 170,
   "metadata": {},
   "outputs": [
    {
     "output_type": "execute_result",
     "data": {
      "text/plain": [
       "     Unnamed: 0        propertyLocation                         ownersName  \\\n",
       "4          2529             78A RNE ST.     MITTAL,CHITRA KOTHARI & DEEPAK   \n",
       "113       19691  280 GREGORY PARK PLAZA  METROPOLIS TOWERS APT. CORP. MGT.   \n",
       "114       19692  270 GREGORY PARK PLAZA  METROPOLIS TOWERS APT. CORP. MGT.   \n",
       "186       38254      107 SHEARWATER CT.  SANTANIELLO III, PHILLIP & CLAIRE   \n",
       "\n",
       "       ownersMailingAddress              cityStateZip  \\\n",
       "4       76 CONSTITUTION WAY  JERSEY CITY, N.J.  07302   \n",
       "113  280 GREGORY PARK PLAZA    JERSEY CITY, NJ  07302   \n",
       "114  270 GREGORY PARK PLAZA    JERSEY CITY, NJ  07302   \n",
       "186      107 SHEARWATER CT.    JERSEY CITY, NJ  07305   \n",
       "\n",
       "                           ownersFullMailingAddress  \\\n",
       "4     76 CONSTITUTION WAY, JERSEY CITY, N.J.  07302   \n",
       "113  280 GREGORY PARK PLAZA, JERSEY CITY, NJ  07302   \n",
       "114  270 GREGORY PARK PLAZA, JERSEY CITY, NJ  07302   \n",
       "186      107 SHEARWATER CT., JERSEY CITY, NJ  07305   \n",
       "\n",
       "                        propertyFullAddress  propertiesOwned  units gCode  \n",
       "4               78A RNE ST. Jersey City, NJ                1      1  None  \n",
       "113  280 GREGORY PARK PLAZA Jersey City, NJ                2      1  None  \n",
       "114  270 GREGORY PARK PLAZA Jersey City, NJ                2      1  None  \n",
       "186      107 SHEARWATER CT. Jersey City, NJ                1      1  None  "
      ],
      "text/html": "<div>\n<style scoped>\n    .dataframe tbody tr th:only-of-type {\n        vertical-align: middle;\n    }\n\n    .dataframe tbody tr th {\n        vertical-align: top;\n    }\n\n    .dataframe thead th {\n        text-align: right;\n    }\n</style>\n<table border=\"1\" class=\"dataframe\">\n  <thead>\n    <tr style=\"text-align: right;\">\n      <th></th>\n      <th>Unnamed: 0</th>\n      <th>propertyLocation</th>\n      <th>ownersName</th>\n      <th>ownersMailingAddress</th>\n      <th>cityStateZip</th>\n      <th>ownersFullMailingAddress</th>\n      <th>propertyFullAddress</th>\n      <th>propertiesOwned</th>\n      <th>units</th>\n      <th>gCode</th>\n    </tr>\n  </thead>\n  <tbody>\n    <tr>\n      <th>4</th>\n      <td>2529</td>\n      <td>78A RNE ST.</td>\n      <td>MITTAL,CHITRA KOTHARI &amp; DEEPAK</td>\n      <td>76 CONSTITUTION WAY</td>\n      <td>JERSEY CITY, N.J.  07302</td>\n      <td>76 CONSTITUTION WAY, JERSEY CITY, N.J.  07302</td>\n      <td>78A RNE ST. Jersey City, NJ</td>\n      <td>1</td>\n      <td>1</td>\n      <td>None</td>\n    </tr>\n    <tr>\n      <th>113</th>\n      <td>19691</td>\n      <td>280 GREGORY PARK PLAZA</td>\n      <td>METROPOLIS TOWERS APT. CORP. MGT.</td>\n      <td>280 GREGORY PARK PLAZA</td>\n      <td>JERSEY CITY, NJ  07302</td>\n      <td>280 GREGORY PARK PLAZA, JERSEY CITY, NJ  07302</td>\n      <td>280 GREGORY PARK PLAZA Jersey City, NJ</td>\n      <td>2</td>\n      <td>1</td>\n      <td>None</td>\n    </tr>\n    <tr>\n      <th>114</th>\n      <td>19692</td>\n      <td>270 GREGORY PARK PLAZA</td>\n      <td>METROPOLIS TOWERS APT. CORP. MGT.</td>\n      <td>270 GREGORY PARK PLAZA</td>\n      <td>JERSEY CITY, NJ  07302</td>\n      <td>270 GREGORY PARK PLAZA, JERSEY CITY, NJ  07302</td>\n      <td>270 GREGORY PARK PLAZA Jersey City, NJ</td>\n      <td>2</td>\n      <td>1</td>\n      <td>None</td>\n    </tr>\n    <tr>\n      <th>186</th>\n      <td>38254</td>\n      <td>107 SHEARWATER CT.</td>\n      <td>SANTANIELLO III, PHILLIP &amp; CLAIRE</td>\n      <td>107 SHEARWATER CT.</td>\n      <td>JERSEY CITY, NJ  07305</td>\n      <td>107 SHEARWATER CT., JERSEY CITY, NJ  07305</td>\n      <td>107 SHEARWATER CT. Jersey City, NJ</td>\n      <td>1</td>\n      <td>1</td>\n      <td>None</td>\n    </tr>\n  </tbody>\n</table>\n</div>"
     },
     "metadata": {},
     "execution_count": 170
    }
   ],
   "source": [
    "errors_df"
   ]
  },
  {
   "cell_type": "code",
   "execution_count": 157,
   "metadata": {},
   "outputs": [
    {
     "output_type": "execute_result",
     "data": {
      "text/plain": [
       "     Unnamed: 0        propertyLocation                         ownersName  \\\n",
       "4          2529             78A RNE ST.     MITTAL,CHITRA KOTHARI & DEEPAK   \n",
       "113       19691  280 GREGORY PARK PLAZA  METROPOLIS TOWERS APT. CORP. MGT.   \n",
       "114       19692  270 GREGORY PARK PLAZA  METROPOLIS TOWERS APT. CORP. MGT.   \n",
       "186       38254      107 SHEARWATER CT.  SANTANIELLO III, PHILLIP & CLAIRE   \n",
       "\n",
       "       ownersMailingAddress              cityStateZip  \\\n",
       "4       76 CONSTITUTION WAY  JERSEY CITY, N.J.  07302   \n",
       "113  280 GREGORY PARK PLAZA    JERSEY CITY, NJ  07302   \n",
       "114  270 GREGORY PARK PLAZA    JERSEY CITY, NJ  07302   \n",
       "186      107 SHEARWATER CT.    JERSEY CITY, NJ  07305   \n",
       "\n",
       "                           ownersFullMailingAddress  \\\n",
       "4     76 CONSTITUTION WAY, JERSEY CITY, N.J.  07302   \n",
       "113  280 GREGORY PARK PLAZA, JERSEY CITY, NJ  07302   \n",
       "114  270 GREGORY PARK PLAZA, JERSEY CITY, NJ  07302   \n",
       "186      107 SHEARWATER CT., JERSEY CITY, NJ  07305   \n",
       "\n",
       "                        propertyFullAddress  propertiesOwned  units gCode  \n",
       "4               78A RNE ST. Jersey City, NJ                1      1  None  \n",
       "113  280 GREGORY PARK PLAZA Jersey City, NJ                2      1  None  \n",
       "114  270 GREGORY PARK PLAZA Jersey City, NJ                2      1  None  \n",
       "186      107 SHEARWATER CT. Jersey City, NJ                1      1  None  "
      ],
      "text/html": "<div>\n<style scoped>\n    .dataframe tbody tr th:only-of-type {\n        vertical-align: middle;\n    }\n\n    .dataframe tbody tr th {\n        vertical-align: top;\n    }\n\n    .dataframe thead th {\n        text-align: right;\n    }\n</style>\n<table border=\"1\" class=\"dataframe\">\n  <thead>\n    <tr style=\"text-align: right;\">\n      <th></th>\n      <th>Unnamed: 0</th>\n      <th>propertyLocation</th>\n      <th>ownersName</th>\n      <th>ownersMailingAddress</th>\n      <th>cityStateZip</th>\n      <th>ownersFullMailingAddress</th>\n      <th>propertyFullAddress</th>\n      <th>propertiesOwned</th>\n      <th>units</th>\n      <th>gCode</th>\n    </tr>\n  </thead>\n  <tbody>\n    <tr>\n      <th>4</th>\n      <td>2529</td>\n      <td>78A RNE ST.</td>\n      <td>MITTAL,CHITRA KOTHARI &amp; DEEPAK</td>\n      <td>76 CONSTITUTION WAY</td>\n      <td>JERSEY CITY, N.J.  07302</td>\n      <td>76 CONSTITUTION WAY, JERSEY CITY, N.J.  07302</td>\n      <td>78A RNE ST. Jersey City, NJ</td>\n      <td>1</td>\n      <td>1</td>\n      <td>None</td>\n    </tr>\n    <tr>\n      <th>113</th>\n      <td>19691</td>\n      <td>280 GREGORY PARK PLAZA</td>\n      <td>METROPOLIS TOWERS APT. CORP. MGT.</td>\n      <td>280 GREGORY PARK PLAZA</td>\n      <td>JERSEY CITY, NJ  07302</td>\n      <td>280 GREGORY PARK PLAZA, JERSEY CITY, NJ  07302</td>\n      <td>280 GREGORY PARK PLAZA Jersey City, NJ</td>\n      <td>2</td>\n      <td>1</td>\n      <td>None</td>\n    </tr>\n    <tr>\n      <th>114</th>\n      <td>19692</td>\n      <td>270 GREGORY PARK PLAZA</td>\n      <td>METROPOLIS TOWERS APT. CORP. MGT.</td>\n      <td>270 GREGORY PARK PLAZA</td>\n      <td>JERSEY CITY, NJ  07302</td>\n      <td>270 GREGORY PARK PLAZA, JERSEY CITY, NJ  07302</td>\n      <td>270 GREGORY PARK PLAZA Jersey City, NJ</td>\n      <td>2</td>\n      <td>1</td>\n      <td>None</td>\n    </tr>\n    <tr>\n      <th>186</th>\n      <td>38254</td>\n      <td>107 SHEARWATER CT.</td>\n      <td>SANTANIELLO III, PHILLIP &amp; CLAIRE</td>\n      <td>107 SHEARWATER CT.</td>\n      <td>JERSEY CITY, NJ  07305</td>\n      <td>107 SHEARWATER CT., JERSEY CITY, NJ  07305</td>\n      <td>107 SHEARWATER CT. Jersey City, NJ</td>\n      <td>1</td>\n      <td>1</td>\n      <td>None</td>\n    </tr>\n  </tbody>\n</table>\n</div>"
     },
     "metadata": {},
     "execution_count": 157
    }
   ],
   "source": [
    "errors_df.to_csv('errors.csv')"
   ]
  },
  {
   "cell_type": "code",
   "execution_count": 3,
   "metadata": {},
   "outputs": [],
   "source": [
    "df.dropna(axis=0, subset=['gCode'], inplace=True)"
   ]
  },
  {
   "cell_type": "code",
   "execution_count": 32,
   "metadata": {},
   "outputs": [
    {
     "output_type": "execute_result",
     "data": {
      "text/plain": [
       "0        (677, Liberty Avenue, Jersey City, Hudson Coun...\n",
       "1        (675, Liberty Avenue, Jersey City, Hudson Coun...\n",
       "2        (673, Liberty Avenue, Jersey City, Hudson Coun...\n",
       "3        (671, Liberty Avenue, Jersey City, Hudson Coun...\n",
       "4        (669, Liberty Avenue, Jersey City, Hudson Coun...\n",
       "                               ...                        \n",
       "41799    (98, Garfield Avenue, Communipaw, Jersey City,...\n",
       "41800    (100, Garfield Avenue, Jersey City, Hudson Cou...\n",
       "41801    (102, Garfield Avenue, Jersey City, Hudson Cou...\n",
       "41802    (104, Garfield Avenue, Jersey City, Hudson Cou...\n",
       "41803    (106, Garfield Avenue, Jersey City, Hudson Cou...\n",
       "Name: gCode, Length: 41804, dtype: object"
      ]
     },
     "metadata": {},
     "execution_count": 32
    }
   ],
   "source": [
    "df.gCode"
   ]
  },
  {
   "cell_type": "code",
   "execution_count": 9,
   "metadata": {},
   "outputs": [],
   "source": [
    "geocode_errors = [i for i,e in enumerate(errors_df.gCode) if e == None]"
   ]
  },
  {
   "cell_type": "code",
   "execution_count": 14,
   "metadata": {},
   "outputs": [],
   "source": [
    "# number of addresses address which did not geocode\n",
    "geocode_errors = [i for i,e in enumerate(df.gCode) if e == None]"
   ]
  },
  {
   "cell_type": "code",
   "execution_count": 15,
   "metadata": {},
   "outputs": [
    {
     "output_type": "execute_result",
     "data": {
      "text/plain": [
       "12                653 LIBERTY ST. Jersey City, NJ\n",
       "112     3709 JOHN F KENNEDY BLVD. Jersey City, NJ\n",
       "113     3707 JOHN F KENNEDY BLVD. Jersey City, NJ\n",
       "114     3705 JOHN F KENNEDY BLVD. Jersey City, NJ\n",
       "115     3703 JOHN F KENNEDY BLVD. Jersey City, NJ\n",
       "175     3697 JOHN F KENNEDY BLVD. Jersey City, NJ\n",
       "177     3691 JOHN F KENNEDY BLVD. Jersey City, NJ\n",
       "178     3687 JOHN F KENNEDY BLVD. Jersey City, NJ\n",
       "179     3685 JOHN F KENNEDY BLVD. Jersey City, NJ\n",
       "180     3683 JOHN F KENNEDY BLVD. Jersey City, NJ\n",
       "181     3683 JOHN F KENNEDY BLVD. Jersey City, NJ\n",
       "182     3683 JOHN F KENNEDY BLVD. Jersey City, NJ\n",
       "183     3683 JOHN F KENNEDY BLVD. Jersey City, NJ\n",
       "184     3683 JOHN F KENNEDY BLVD. Jersey City, NJ\n",
       "185     3683 JOHN F KENNEDY BLVD. Jersey City, NJ\n",
       "263     3675 JOHN F KENNEDY BLVD. Jersey City, NJ\n",
       "264     3673 JOHN F KENNEDY BLVD. Jersey City, NJ\n",
       "265     3671 JOHN F KENNEDY BLVD. Jersey City, NJ\n",
       "266     3669 JOHN F KENNEDY BLVD. Jersey City, NJ\n",
       "268     3663 JOHN F KENNEDY BLVD. Jersey City, NJ\n",
       "347     3702 JOHN F KENNEDY BLVD. Jersey City, NJ\n",
       "348     3704 JOHN F KENNEDY BLVD. Jersey City, NJ\n",
       "349     3706 JOHN F KENNEDY BLVD. Jersey City, NJ\n",
       "350     3708 JOHN F KENNEDY BLVD. Jersey City, NJ\n",
       "351     3710 JOHN F KENNEDY BLVD. Jersey City, NJ\n",
       "352     3712 JOHN F KENNEDY BLVD. Jersey City, NJ\n",
       "353     3714 JOHN F KENNEDY BLVD. Jersey City, NJ\n",
       "480     3688 JOHN F KENNEDY BLVD. Jersey City, NJ\n",
       "648           274-76 COLUMBIA AVE Jersey City, NJ\n",
       "728     3655 JOHN F KENNEDY BLVD. Jersey City, NJ\n",
       "729     3653 JOHN F KENNEDY BLVD. Jersey City, NJ\n",
       "730     3651 JOHN F KENNEDY BLVD. Jersey City, NJ\n",
       "731     3649 JOHN F KENNEDY BLVD. Jersey City, NJ\n",
       "732     3647 JOHN F KENNEDY BLVD. Jersey City, NJ\n",
       "733     3645 JOHN F KENNEDY BLVD. Jersey City, NJ\n",
       "734     3643 JOHN F KENNEDY BLVD. Jersey City, NJ\n",
       "795     3637 JOHN F KENNEDY BLVD. Jersey City, NJ\n",
       "796     3635 JOHN F KENNEDY BLVD. Jersey City, NJ\n",
       "797    3633A JOHN F KENNEDY BLVD. Jersey City, NJ\n",
       "798     3633 JOHN F KENNEDY BLVD. Jersey City, NJ\n",
       "799     3631 JOHN F KENNEDY BLVD. Jersey City, NJ\n",
       "800     3629 JOHN F KENNEDY BLVD. Jersey City, NJ\n",
       "801     3627 JOHN F KENNEDY BLVD. Jersey City, NJ\n",
       "802     3625 JOHN F KENNEDY BLVD. Jersey City, NJ\n",
       "858     3613 JOHN F KENNEDY BLVD. Jersey City, NJ\n",
       "859     3615 JOHN F KENNEDY BLVD. Jersey City, NJ\n",
       "860     3611 JOHN F KENNEDY BLVD. Jersey City, NJ\n",
       "861     3609 JOHN F KENNEDY BLVD. Jersey City, NJ\n",
       "862     3607 JOHN F KENNEDY BLVD. Jersey City, NJ\n",
       "863     3603 JOHN F KENNEDY BLVD. Jersey City, NJ\n",
       "Name: propertyFullAddress, dtype: object"
      ]
     },
     "metadata": {},
     "execution_count": 15
    }
   ],
   "source": [
    "# plug them into iloc to return a dataframe of errors\n",
    "df.iloc[geocode_errors]['propertyFullAddress'].head(50)"
   ]
  },
  {
   "cell_type": "code",
   "execution_count": 52,
   "metadata": {},
   "outputs": [
    {
     "output_type": "execute_result",
     "data": {
      "text/plain": [
       "'653 LIBERTY ST. Jersey City, NJ'"
      ]
     },
     "metadata": {},
     "execution_count": 52
    }
   ],
   "source": [
    "# the reason why this didn't gecode properly is because there is no\n",
    "# Liberty Street in Jersey City\n",
    "df.propertyFullAddress[12]"
   ]
  },
  {
   "cell_type": "code",
   "execution_count": 56,
   "metadata": {},
   "outputs": [
    {
     "output_type": "execute_result",
     "data": {
      "text/plain": [
       "Location(653, Liberty Avenue, Jersey City, Hudson County, New Jersey, 07307, United States, (40.75896345454545, -74.05096481818181, 0.0))"
      ]
     },
     "metadata": {},
     "execution_count": 56
    }
   ],
   "source": [
    "geolocator.geocode('653 LIBERTY AVE, Jersey City, NJ')"
   ]
  },
  {
   "cell_type": "code",
   "execution_count": 63,
   "metadata": {},
   "outputs": [
    {
     "output_type": "execute_result",
     "data": {
      "text/plain": [
       "112    3709 KENNEDY BLVD. Jersey City, NJ\n",
       "113    3707 KENNEDY BLVD. Jersey City, NJ\n",
       "114    3705 KENNEDY BLVD. Jersey City, NJ\n",
       "Name: propertyFullAddress, dtype: object"
      ]
     },
     "metadata": {},
     "execution_count": 63
    }
   ],
   "source": [
    "# There is no \"Kennedy BLVD\" but a John F Kennedy BLVD\n",
    "df.propertyFullAddress[112:115]"
   ]
  },
  {
   "cell_type": "code",
   "execution_count": 71,
   "metadata": {},
   "outputs": [
    {
     "output_type": "execute_result",
     "data": {
      "text/plain": [
       "Location(274, Columbia Avenue, Jersey City, Hudson County, New Jersey, 07307, United States, (40.75704381395349, -74.05096265116279, 0.0))"
      ]
     },
     "metadata": {},
     "execution_count": 71
    }
   ],
   "source": [
    "#the hyphenated address threw off the geolocator\n",
    "geolocator.geocode('274 COLUMBIA AVE Jersey City, NJ')"
   ]
  },
  {
   "cell_type": "code",
   "execution_count": 8,
   "metadata": {},
   "outputs": [
    {
     "output_type": "execute_result",
     "data": {
      "text/plain": [
       "Location(John F. Kennedy Boulevard, Greenville, Jersey City, Hudson County, New Jersey, 07305, United States, (40.70124, -74.093112, 0.0))"
      ]
     },
     "metadata": {},
     "execution_count": 8
    }
   ],
   "source": [
    "# the geolocator needs to the full street name\n",
    "geolocator.geocode('3709 JOHN F KENNEDY BLVD. Jersey City, NJ')"
   ]
  },
  {
   "cell_type": "code",
   "execution_count": null,
   "metadata": {},
   "outputs": [],
   "source": [
    "df.propertyLocation = df.propertyLocation.str.replace('KENNEDY', 'JOHN F KENNEDY')\n",
    "df.propertyLocation = df.propertyLocation.str.replace('LIBERTY ST.', 'LIBERTY AVE.')"
   ]
  },
  {
   "cell_type": "code",
   "execution_count": 17,
   "metadata": {},
   "outputs": [
    {
     "output_type": "stream",
     "name": "stderr",
     "text": [
      "/var/folders/jn/0t9fgm4d05bdfp70phhgc1sr0000gn/T/ipykernel_20899/739789649.py:1: FutureWarning: The default value of regex will change from True to False in a future version.\n  df.propertyLocation = df.propertyLocation.str.replace('LIBERTY ST.', 'LIBERTY AVE.')\n"
     ]
    }
   ],
   "source": []
  },
  {
   "cell_type": "code",
   "execution_count": 20,
   "metadata": {},
   "outputs": [
    {
     "output_type": "stream",
     "name": "stderr",
     "text": [
      "/usr/local/lib/python3.9/site-packages/pandas/core/frame.py:3607: SettingWithCopyWarning: \nA value is trying to be set on a copy of a slice from a DataFrame.\nTry using .loc[row_indexer,col_indexer] = value instead\n\nSee the caveats in the documentation: https://pandas.pydata.org/pandas-docs/stable/user_guide/indexing.html#returning-a-view-versus-a-copy\n  self._set_item(key, value)\n"
     ]
    }
   ],
   "source": [
    "df.iloc[geocode_errors]['gCode'] = df.iloc[geocode_errors]['propertyFullAddress'].apply(geolocator.geocode)"
   ]
  },
  {
   "cell_type": "code",
   "execution_count": 72,
   "metadata": {},
   "outputs": [],
   "source": [
    "# pickling the dataframe to avoid waiting hours for the geocodes again\n",
    "# df.to_pickle('JC_residential.pkl')"
   ]
  },
  {
   "cell_type": "code",
   "execution_count": 29,
   "metadata": {},
   "outputs": [],
   "source": [
    "geocode_errors = [i for i,e in enumerate(df.gCode) if e == None]"
   ]
  },
  {
   "cell_type": "code",
   "execution_count": 31,
   "metadata": {},
   "outputs": [
    {
     "output_type": "execute_result",
     "data": {
      "text/plain": [
       "4174"
      ]
     },
     "metadata": {},
     "execution_count": 31
    }
   ],
   "source": [
    "len(geocode_errors)"
   ]
  },
  {
   "cell_type": "code",
   "execution_count": 34,
   "metadata": {},
   "outputs": [],
   "source": []
  },
  {
   "cell_type": "code",
   "execution_count": 66,
   "metadata": {},
   "outputs": [],
   "source": [
    "# errors_df['gCode'] = errors_df.propertyFullAddress.apply(geolocator.geocode)\n",
    "# geocode_errors = [i for i,e in enumerate(errors_df.gCode) if e == None]"
   ]
  },
  {
   "cell_type": "code",
   "execution_count": 39,
   "metadata": {},
   "outputs": [
    {
     "output_type": "execute_result",
     "data": {
      "text/plain": [
       "3149"
      ]
     },
     "metadata": {},
     "execution_count": 39
    }
   ],
   "source": [
    "# Yay! We've solved some errors!\n",
    "len(geocode_errors)"
   ]
  },
  {
   "cell_type": "code",
   "execution_count": 41,
   "metadata": {},
   "outputs": [
    {
     "output_type": "execute_result",
     "data": {
      "text/plain": [
       "                propertyLocation                           ownersName  \\\n",
       "12              653 LIBERTY AVE.                     CICCARELLI, MARC   \n",
       "648          274-76 COLUMBIA AVE             PERSAUD, PURAN & ANJAALI   \n",
       "797   3633A JOHN F KENNEDY BLVD.                 SCALIA HOLDINGS, LLC   \n",
       "1667        1074-1080 SUMMIT AVE                    1074 SUMMIT, LLC.   \n",
       "1821    19 PATERSON STREET -REAR                          BIRN, SUSAN   \n",
       "2529           78A-80 THORNE ST.       MITTAL,CHITRA KOTHARI & DEEPAK   \n",
       "3427              430 ODGEN AVE.                   DEVIRGILLO, DAMIAN   \n",
       "3511            608 TONNELE AVE.                ADVANCE TRANSIT, LLC.   \n",
       "3512            636 TONNELE AVE.              OFRZ & OZAN SHELL, INC.   \n",
       "4240          978-80 SUMMIT AVE.         978-980 SUMMIT AVE. KBB LLC.   \n",
       "4836            491 TONNELE AVE.                   LOGIX BUILDER, LLC   \n",
       "4837            493 TONNELE AVE.              MORALES, ANTONIO & IRIS   \n",
       "4838            509 TONNELE AVE.                  D'ANGELO, FRANK JR.   \n",
       "4839            483 TONNELE AVE.                 483 TONNELE AVE, LLC   \n",
       "4840            481 TONNELE AVE.           481 TONNELE AVENUE, L.L.C.   \n",
       "4842            537 TONNELE AVE.                       HACHEM, WASSIM   \n",
       "4843            572 TONNELE AVE.           BONILLA TONNELE AVE., LLC.   \n",
       "5409          223-221 HUTTON ST.      ZANZIBARWALA, PRITESH & JIGNESH   \n",
       "5561        882-882A SUMMIT AVE.             BO BO ENTERPRISES 1, LLC   \n",
       "5620   102 MANHATTAN AVE. (REAR)        M & A MANHATTAN AVE 102, LLC.   \n",
       "6223            450 TONNELE AVE.                      MODI, JAROOR H.   \n",
       "6224            452 TONNELE AVE.                     PANCHAL, NISHANT   \n",
       "6225            454 TONNELE AVE.                 BUDDY 1 REALTY, LLC.   \n",
       "6226            456 TONNELE AVE.                          CRUZ, NELLY   \n",
       "7442               15 LIENAU PL.             FINAN, THOMAS D & JUDITH   \n",
       "7443               13 LIENAU PL.                GRECO, ANDREA & CLARA   \n",
       "7444               11 LIENAU PL.  FARREN, ROBERT A & O'CONE, PATRICIA   \n",
       "7445                9 LIENAU PL.              9 LIENAU PLACE JC, LLC.   \n",
       "7446                7 LIENAU PL.                      MARELLA, EILEEN   \n",
       "7447                5 LIENAU PL.         PATEL,VYOMESH D.&PARULBEN V.   \n",
       "7448                3 LIENAU PL.          NAATUS, JOEL & MARY KATE R.   \n",
       "7449                1 LIENAU PL.                 PATEL, NIKHIL & LATA   \n",
       "7534             47 LIENAU PLACE                   HABIB FAMILY TRUST   \n",
       "7535             45 LIENAU PLACE                    MANASRA, RIFAH I.   \n",
       "7536               41 LIENAU PL.       CAVIANO, MICHAEL & DOLORES POE   \n",
       "7537               35 LIENAU PL.   WEISSMAN, JOSHUA & O'DONNELL, LISA   \n",
       "7549                2 LIENAU PL.                   BUSCAR, RICARDO N.   \n",
       "7550                4 LIENAU PL.            ESPINOLA, ANDRES & AMPARO   \n",
       "7551              6 LIENAU PLACE            WANG, DEVON & XU, TIANMEI   \n",
       "7552                8 LIENAU PL.                       DIAZ, RUBEN A.   \n",
       "7759               34 LIENAU PL.    VOSS, JENNA M.& AGHERA, SAMEER R.   \n",
       "7760               34 LIENAU PL.    DELIERRE ALBAN &MICSANSCHI, XENIA   \n",
       "7761               42 LIENAU PL.                42 LINEAU PLACE, LLC.   \n",
       "8103  3144A JOHN F KENNEDY BLVD.                   CABRERA, CARLOS A.   \n",
       "8534        88 LAIDLAW AVE. REAR                     GRENEE, ROCKELLE   \n",
       "8535      88 LAIDLAW AVE. -FRONT                     GRENEE, ROCKELLE   \n",
       "9029            235 TONNELE AVE.                        GOYAL, POONAM   \n",
       "9030            233 TONNELE AVE.      PINO, LUCILA, G. & GONZALEZ, M.   \n",
       "9031            231 TONNELE AVE.                         MIRZA, NAZAR   \n",
       "9032            229 TONNELE AVE.        TORRES, OSWALDO E.& DHANWANTI   \n",
       "\n",
       "         ownersMailingAddress                cityStateZip  \\\n",
       "12             308 LAGOON DR.         COPIAQUE, NY  11726   \n",
       "648   274-276 COLUMBIA AVENUE     JERSEY CITY,N.J.  07307   \n",
       "797          264 CENTRAL AVE.      JERSEY CITY, NJ  07307   \n",
       "1667             10 FULTON ST        WEEHAWKEN, NJ  07086   \n",
       "1821  19 PATERSON STREET-REAR    JERSEY CITY, N.J.  07307   \n",
       "2529      76 CONSTITUTION WAY    JERSEY CITY, N.J.  07302   \n",
       "3427   430 OGDEN AVE., UNIT 3      JERSEY CITY, NJ  07307   \n",
       "3511         608 TONNELE AVE.      JERSEY CITY, NJ  07307   \n",
       "3512          137-68 70TH AVE    FLUSHING   , N.Y.  11367   \n",
       "4240      978-980 SUMMIT AVE.      JERSEY CITY, NJ  07302   \n",
       "4836             P.O.BOX 7148    JERSEY CITY, N.J.  07307   \n",
       "4837              493 TONNELE    JERSEY CITY, N.J.  07307   \n",
       "4838            27 COUNTY RD.    JERSEY CITY, N.J.  07307   \n",
       "4839         470 TONNELE AVE.    JERSEY CITY, N.J.  07306   \n",
       "4840         470 TONNELE AVE.      JERSEY CITY, NJ  07307   \n",
       "4842         537 TONNELE AVE.      JERSEY CITY, NJ  07307   \n",
       "4843         572 TONNELE AVE.      JERSEY CITY, NJ  07307   \n",
       "5409        221-223 HUTTON ST     JERSEY CITY, N J  07307   \n",
       "5561         80 SHERMAN PLACE      JERSEY CITY, NJ  07307   \n",
       "5620         278 CENTRAL AVE.      JERSEY CITY, NJ  07307   \n",
       "6223         450 TONNELE AVE.      JERSEY CITY, NJ  07307   \n",
       "6224         452 TONNELE AVE.    JERSEY CITY, N.J.  07307   \n",
       "6225         454 TONNELE AVE.      JERSEY CITY, NJ  07307   \n",
       "6226            1310 51ST ST.     NORTH BERGEN, NJ  07047   \n",
       "7442            P.O BOX 17026     JERSEY CITY,N.J.  07307   \n",
       "7443      181 GRIFFITH STREET    JERSEY CITY, N.J.  07307   \n",
       "7444            11 LIENAU PL.      JERSEY CITY, NJ  07306   \n",
       "7445         390 CENTRAL AVE.      JERSEY CITY, NJ  07307   \n",
       "7446             7 LIENAU PL.    JERSEY CITY, N.J.  07306   \n",
       "7447            1011 PITT ST.  SO PLAINFIELD , NJ.  07080   \n",
       "7448             3 LIENAU PL.    JERSEY CITY, N.J.  07306   \n",
       "7449             1 LIENAU PL.    JERSEY CITY, N.J.  07306   \n",
       "7534      234 GRIFFITH STREET     JERSEY CITY, N J  07307   \n",
       "7535          45 LIENAU PLACE     JERSEY CITY, N J  07307   \n",
       "7536          41 LINEAU PLACE    JERSEY CITY, N.J.  07306   \n",
       "7537            35 LIENAU PL.      JERSEY CITY, NJ  07307   \n",
       "7549             2 LIENAU PL.    JERSEY CITY, N.J.  07306   \n",
       "7550             4 LIENAU PL.    JERSEY CITY, N.J.  07306   \n",
       "7551           78 HOBART AVE.      SHORT HILLS, NJ  07078   \n",
       "7552             8 LIENAU PL.      JERSEY CITY, NJ  07306   \n",
       "7759          34 LIENAU PL.#1      JERSEY CITY, NJ  07307   \n",
       "7760       34 LIENAU PLACE #2      JERSEY CITY, NJ  07302   \n",
       "7761            42 LIENAU PL.      JERSEY CITY, NJ  07307   \n",
       "8103      3144A KENNEDY BLVD.    JERSEY CITY, N.J.  07306   \n",
       "8534     88 LAIDLAW AVE.-REAR    JERSEY CITY, N.J.  07306   \n",
       "8535    88 LAIDLAW AVE.-FRONT    JERSEY CITY, N.J.  07306   \n",
       "9029         235 TONNELLE AVE      JERSEY CITY, NJ  07306   \n",
       "9030         233 TONNELE AVE.    JERSEY CITY, N.J.  07306   \n",
       "9031       324 ST. PAULS AVE.      JERSEY CITY, NJ  07306   \n",
       "9032         229 TONNELE AVE.    JERSEY CITY, N.J.  07306   \n",
       "\n",
       "                               ownersFullMailingAddress  \\\n",
       "12                  308 LAGOON DR., COPIAQUE, NY  11726   \n",
       "648    274-276 COLUMBIA AVENUE, JERSEY CITY,N.J.  07307   \n",
       "797            264 CENTRAL AVE., JERSEY CITY, NJ  07307   \n",
       "1667                 10 FULTON ST, WEEHAWKEN, NJ  07086   \n",
       "1821  19 PATERSON STREET-REAR, JERSEY CITY, N.J.  07307   \n",
       "2529      76 CONSTITUTION WAY, JERSEY CITY, N.J.  07302   \n",
       "3427     430 OGDEN AVE., UNIT 3, JERSEY CITY, NJ  07307   \n",
       "3511           608 TONNELE AVE., JERSEY CITY, NJ  07307   \n",
       "3512          137-68 70TH AVE, FLUSHING   , N.Y.  11367   \n",
       "4240        978-980 SUMMIT AVE., JERSEY CITY, NJ  07302   \n",
       "4836             P.O.BOX 7148, JERSEY CITY, N.J.  07307   \n",
       "4837              493 TONNELE, JERSEY CITY, N.J.  07307   \n",
       "4838            27 COUNTY RD., JERSEY CITY, N.J.  07307   \n",
       "4839         470 TONNELE AVE., JERSEY CITY, N.J.  07306   \n",
       "4840           470 TONNELE AVE., JERSEY CITY, NJ  07307   \n",
       "4842           537 TONNELE AVE., JERSEY CITY, NJ  07307   \n",
       "4843           572 TONNELE AVE., JERSEY CITY, NJ  07307   \n",
       "5409         221-223 HUTTON ST, JERSEY CITY, N J  07307   \n",
       "5561           80 SHERMAN PLACE, JERSEY CITY, NJ  07307   \n",
       "5620           278 CENTRAL AVE., JERSEY CITY, NJ  07307   \n",
       "6223           450 TONNELE AVE., JERSEY CITY, NJ  07307   \n",
       "6224         452 TONNELE AVE., JERSEY CITY, N.J.  07307   \n",
       "6225           454 TONNELE AVE., JERSEY CITY, NJ  07307   \n",
       "6226             1310 51ST ST., NORTH BERGEN, NJ  07047   \n",
       "7442             P.O BOX 17026, JERSEY CITY,N.J.  07307   \n",
       "7443      181 GRIFFITH STREET, JERSEY CITY, N.J.  07307   \n",
       "7444              11 LIENAU PL., JERSEY CITY, NJ  07306   \n",
       "7445           390 CENTRAL AVE., JERSEY CITY, NJ  07307   \n",
       "7446             7 LIENAU PL., JERSEY CITY, N.J.  07306   \n",
       "7447          1011 PITT ST., SO PLAINFIELD , NJ.  07080   \n",
       "7448             3 LIENAU PL., JERSEY CITY, N.J.  07306   \n",
       "7449             1 LIENAU PL., JERSEY CITY, N.J.  07306   \n",
       "7534       234 GRIFFITH STREET, JERSEY CITY, N J  07307   \n",
       "7535           45 LIENAU PLACE, JERSEY CITY, N J  07307   \n",
       "7536          41 LINEAU PLACE, JERSEY CITY, N.J.  07306   \n",
       "7537              35 LIENAU PL., JERSEY CITY, NJ  07307   \n",
       "7549             2 LIENAU PL., JERSEY CITY, N.J.  07306   \n",
       "7550             4 LIENAU PL., JERSEY CITY, N.J.  07306   \n",
       "7551             78 HOBART AVE., SHORT HILLS, NJ  07078   \n",
       "7552               8 LIENAU PL., JERSEY CITY, NJ  07306   \n",
       "7759            34 LIENAU PL.#1, JERSEY CITY, NJ  07307   \n",
       "7760         34 LIENAU PLACE #2, JERSEY CITY, NJ  07302   \n",
       "7761              42 LIENAU PL., JERSEY CITY, NJ  07307   \n",
       "8103      3144A KENNEDY BLVD., JERSEY CITY, N.J.  07306   \n",
       "8534     88 LAIDLAW AVE.-REAR, JERSEY CITY, N.J.  07306   \n",
       "8535    88 LAIDLAW AVE.-FRONT, JERSEY CITY, N.J.  07306   \n",
       "9029           235 TONNELLE AVE, JERSEY CITY, NJ  07306   \n",
       "9030         233 TONNELE AVE., JERSEY CITY, N.J.  07306   \n",
       "9031         324 ST. PAULS AVE., JERSEY CITY, NJ  07306   \n",
       "9032         229 TONNELE AVE., JERSEY CITY, N.J.  07306   \n",
       "\n",
       "                             propertyFullAddress  propertiesOwned  units gCode  \n",
       "12               653 LIBERTY ST. Jersey City, NJ                1      1  None  \n",
       "648          274-76 COLUMBIA AVE Jersey City, NJ                6      1  None  \n",
       "797   3633A JOHN F KENNEDY BLVD. Jersey City, NJ                5      1  None  \n",
       "1667        1074-1080 SUMMIT AVE Jersey City, NJ                1      1  None  \n",
       "1821    19 PATERSON STREET -REAR Jersey City, NJ                1      1  None  \n",
       "2529           78A-80 THORNE ST. Jersey City, NJ                1      1  None  \n",
       "3427              430 ODGEN AVE. Jersey City, NJ                1      1  None  \n",
       "3511            608 TONNELE AVE. Jersey City, NJ                1      1  None  \n",
       "3512            636 TONNELE AVE. Jersey City, NJ                1      1  None  \n",
       "4240          978-80 SUMMIT AVE. Jersey City, NJ                1      1  None  \n",
       "4836            491 TONNELE AVE. Jersey City, NJ                1      1  None  \n",
       "4837            493 TONNELE AVE. Jersey City, NJ                1      1  None  \n",
       "4838            509 TONNELE AVE. Jersey City, NJ                1      1  None  \n",
       "4839            483 TONNELE AVE. Jersey City, NJ                1      1  None  \n",
       "4840            481 TONNELE AVE. Jersey City, NJ                1      1  None  \n",
       "4842            537 TONNELE AVE. Jersey City, NJ                1      1  None  \n",
       "4843            572 TONNELE AVE. Jersey City, NJ                1      1  None  \n",
       "5409          223-221 HUTTON ST. Jersey City, NJ                1      1  None  \n",
       "5561        882-882A SUMMIT AVE. Jersey City, NJ                1      1  None  \n",
       "5620   102 MANHATTAN AVE. (REAR) Jersey City, NJ                1      1  None  \n",
       "6223            450 TONNELE AVE. Jersey City, NJ                1      1  None  \n",
       "6224            452 TONNELE AVE. Jersey City, NJ                1      1  None  \n",
       "6225            454 TONNELE AVE. Jersey City, NJ                1      1  None  \n",
       "6226            456 TONNELE AVE. Jersey City, NJ                1      1  None  \n",
       "7442               15 LIENAU PL. Jersey City, NJ                1      1  None  \n",
       "7443               13 LIENAU PL. Jersey City, NJ                2      1  None  \n",
       "7444               11 LIENAU PL. Jersey City, NJ                1      1  None  \n",
       "7445                9 LIENAU PL. Jersey City, NJ                1      1  None  \n",
       "7446                7 LIENAU PL. Jersey City, NJ                1      1  None  \n",
       "7447                5 LIENAU PL. Jersey City, NJ                1      1  None  \n",
       "7448                3 LIENAU PL. Jersey City, NJ                1      1  None  \n",
       "7449                1 LIENAU PL. Jersey City, NJ                1      1  None  \n",
       "7534             47 LIENAU PLACE Jersey City, NJ                3      1  None  \n",
       "7535             45 LIENAU PLACE Jersey City, NJ                1      1  None  \n",
       "7536               41 LIENAU PL. Jersey City, NJ                1      1  None  \n",
       "7537               35 LIENAU PL. Jersey City, NJ                1      1  None  \n",
       "7549                2 LIENAU PL. Jersey City, NJ                1      1  None  \n",
       "7550                4 LIENAU PL. Jersey City, NJ                1      1  None  \n",
       "7551              6 LIENAU PLACE Jersey City, NJ                2      1  None  \n",
       "7552                8 LIENAU PL. Jersey City, NJ                1      1  None  \n",
       "7759               34 LIENAU PL. Jersey City, NJ                1      2  None  \n",
       "7760               34 LIENAU PL. Jersey City, NJ                1      2  None  \n",
       "7761               42 LIENAU PL. Jersey City, NJ                1      1  None  \n",
       "8103  3144A JOHN F KENNEDY BLVD. Jersey City, NJ                2      1  None  \n",
       "8534        88 LAIDLAW AVE. REAR Jersey City, NJ                2      1  None  \n",
       "8535      88 LAIDLAW AVE. -FRONT Jersey City, NJ                2      1  None  \n",
       "9029            235 TONNELE AVE. Jersey City, NJ                1      1  None  \n",
       "9030            233 TONNELE AVE. Jersey City, NJ                1      1  None  \n",
       "9031            231 TONNELE AVE. Jersey City, NJ                1      1  None  \n",
       "9032            229 TONNELE AVE. Jersey City, NJ                1      1  None  "
      ],
      "text/html": "<div>\n<style scoped>\n    .dataframe tbody tr th:only-of-type {\n        vertical-align: middle;\n    }\n\n    .dataframe tbody tr th {\n        vertical-align: top;\n    }\n\n    .dataframe thead th {\n        text-align: right;\n    }\n</style>\n<table border=\"1\" class=\"dataframe\">\n  <thead>\n    <tr style=\"text-align: right;\">\n      <th></th>\n      <th>propertyLocation</th>\n      <th>ownersName</th>\n      <th>ownersMailingAddress</th>\n      <th>cityStateZip</th>\n      <th>ownersFullMailingAddress</th>\n      <th>propertyFullAddress</th>\n      <th>propertiesOwned</th>\n      <th>units</th>\n      <th>gCode</th>\n    </tr>\n  </thead>\n  <tbody>\n    <tr>\n      <th>12</th>\n      <td>653 LIBERTY AVE.</td>\n      <td>CICCARELLI, MARC</td>\n      <td>308 LAGOON DR.</td>\n      <td>COPIAQUE, NY  11726</td>\n      <td>308 LAGOON DR., COPIAQUE, NY  11726</td>\n      <td>653 LIBERTY ST. Jersey City, NJ</td>\n      <td>1</td>\n      <td>1</td>\n      <td>None</td>\n    </tr>\n    <tr>\n      <th>648</th>\n      <td>274-76 COLUMBIA AVE</td>\n      <td>PERSAUD, PURAN &amp; ANJAALI</td>\n      <td>274-276 COLUMBIA AVENUE</td>\n      <td>JERSEY CITY,N.J.  07307</td>\n      <td>274-276 COLUMBIA AVENUE, JERSEY CITY,N.J.  07307</td>\n      <td>274-76 COLUMBIA AVE Jersey City, NJ</td>\n      <td>6</td>\n      <td>1</td>\n      <td>None</td>\n    </tr>\n    <tr>\n      <th>797</th>\n      <td>3633A JOHN F KENNEDY BLVD.</td>\n      <td>SCALIA HOLDINGS, LLC</td>\n      <td>264 CENTRAL AVE.</td>\n      <td>JERSEY CITY, NJ  07307</td>\n      <td>264 CENTRAL AVE., JERSEY CITY, NJ  07307</td>\n      <td>3633A JOHN F KENNEDY BLVD. Jersey City, NJ</td>\n      <td>5</td>\n      <td>1</td>\n      <td>None</td>\n    </tr>\n    <tr>\n      <th>1667</th>\n      <td>1074-1080 SUMMIT AVE</td>\n      <td>1074 SUMMIT, LLC.</td>\n      <td>10 FULTON ST</td>\n      <td>WEEHAWKEN, NJ  07086</td>\n      <td>10 FULTON ST, WEEHAWKEN, NJ  07086</td>\n      <td>1074-1080 SUMMIT AVE Jersey City, NJ</td>\n      <td>1</td>\n      <td>1</td>\n      <td>None</td>\n    </tr>\n    <tr>\n      <th>1821</th>\n      <td>19 PATERSON STREET -REAR</td>\n      <td>BIRN, SUSAN</td>\n      <td>19 PATERSON STREET-REAR</td>\n      <td>JERSEY CITY, N.J.  07307</td>\n      <td>19 PATERSON STREET-REAR, JERSEY CITY, N.J.  07307</td>\n      <td>19 PATERSON STREET -REAR Jersey City, NJ</td>\n      <td>1</td>\n      <td>1</td>\n      <td>None</td>\n    </tr>\n    <tr>\n      <th>2529</th>\n      <td>78A-80 THORNE ST.</td>\n      <td>MITTAL,CHITRA KOTHARI &amp; DEEPAK</td>\n      <td>76 CONSTITUTION WAY</td>\n      <td>JERSEY CITY, N.J.  07302</td>\n      <td>76 CONSTITUTION WAY, JERSEY CITY, N.J.  07302</td>\n      <td>78A-80 THORNE ST. Jersey City, NJ</td>\n      <td>1</td>\n      <td>1</td>\n      <td>None</td>\n    </tr>\n    <tr>\n      <th>3427</th>\n      <td>430 ODGEN AVE.</td>\n      <td>DEVIRGILLO, DAMIAN</td>\n      <td>430 OGDEN AVE., UNIT 3</td>\n      <td>JERSEY CITY, NJ  07307</td>\n      <td>430 OGDEN AVE., UNIT 3, JERSEY CITY, NJ  07307</td>\n      <td>430 ODGEN AVE. Jersey City, NJ</td>\n      <td>1</td>\n      <td>1</td>\n      <td>None</td>\n    </tr>\n    <tr>\n      <th>3511</th>\n      <td>608 TONNELE AVE.</td>\n      <td>ADVANCE TRANSIT, LLC.</td>\n      <td>608 TONNELE AVE.</td>\n      <td>JERSEY CITY, NJ  07307</td>\n      <td>608 TONNELE AVE., JERSEY CITY, NJ  07307</td>\n      <td>608 TONNELE AVE. Jersey City, NJ</td>\n      <td>1</td>\n      <td>1</td>\n      <td>None</td>\n    </tr>\n    <tr>\n      <th>3512</th>\n      <td>636 TONNELE AVE.</td>\n      <td>OFRZ &amp; OZAN SHELL, INC.</td>\n      <td>137-68 70TH AVE</td>\n      <td>FLUSHING   , N.Y.  11367</td>\n      <td>137-68 70TH AVE, FLUSHING   , N.Y.  11367</td>\n      <td>636 TONNELE AVE. Jersey City, NJ</td>\n      <td>1</td>\n      <td>1</td>\n      <td>None</td>\n    </tr>\n    <tr>\n      <th>4240</th>\n      <td>978-80 SUMMIT AVE.</td>\n      <td>978-980 SUMMIT AVE. KBB LLC.</td>\n      <td>978-980 SUMMIT AVE.</td>\n      <td>JERSEY CITY, NJ  07302</td>\n      <td>978-980 SUMMIT AVE., JERSEY CITY, NJ  07302</td>\n      <td>978-80 SUMMIT AVE. Jersey City, NJ</td>\n      <td>1</td>\n      <td>1</td>\n      <td>None</td>\n    </tr>\n    <tr>\n      <th>4836</th>\n      <td>491 TONNELE AVE.</td>\n      <td>LOGIX BUILDER, LLC</td>\n      <td>P.O.BOX 7148</td>\n      <td>JERSEY CITY, N.J.  07307</td>\n      <td>P.O.BOX 7148, JERSEY CITY, N.J.  07307</td>\n      <td>491 TONNELE AVE. Jersey City, NJ</td>\n      <td>1</td>\n      <td>1</td>\n      <td>None</td>\n    </tr>\n    <tr>\n      <th>4837</th>\n      <td>493 TONNELE AVE.</td>\n      <td>MORALES, ANTONIO &amp; IRIS</td>\n      <td>493 TONNELE</td>\n      <td>JERSEY CITY, N.J.  07307</td>\n      <td>493 TONNELE, JERSEY CITY, N.J.  07307</td>\n      <td>493 TONNELE AVE. Jersey City, NJ</td>\n      <td>1</td>\n      <td>1</td>\n      <td>None</td>\n    </tr>\n    <tr>\n      <th>4838</th>\n      <td>509 TONNELE AVE.</td>\n      <td>D'ANGELO, FRANK JR.</td>\n      <td>27 COUNTY RD.</td>\n      <td>JERSEY CITY, N.J.  07307</td>\n      <td>27 COUNTY RD., JERSEY CITY, N.J.  07307</td>\n      <td>509 TONNELE AVE. Jersey City, NJ</td>\n      <td>1</td>\n      <td>1</td>\n      <td>None</td>\n    </tr>\n    <tr>\n      <th>4839</th>\n      <td>483 TONNELE AVE.</td>\n      <td>483 TONNELE AVE, LLC</td>\n      <td>470 TONNELE AVE.</td>\n      <td>JERSEY CITY, N.J.  07306</td>\n      <td>470 TONNELE AVE., JERSEY CITY, N.J.  07306</td>\n      <td>483 TONNELE AVE. Jersey City, NJ</td>\n      <td>1</td>\n      <td>1</td>\n      <td>None</td>\n    </tr>\n    <tr>\n      <th>4840</th>\n      <td>481 TONNELE AVE.</td>\n      <td>481 TONNELE AVENUE, L.L.C.</td>\n      <td>470 TONNELE AVE.</td>\n      <td>JERSEY CITY, NJ  07307</td>\n      <td>470 TONNELE AVE., JERSEY CITY, NJ  07307</td>\n      <td>481 TONNELE AVE. Jersey City, NJ</td>\n      <td>1</td>\n      <td>1</td>\n      <td>None</td>\n    </tr>\n    <tr>\n      <th>4842</th>\n      <td>537 TONNELE AVE.</td>\n      <td>HACHEM, WASSIM</td>\n      <td>537 TONNELE AVE.</td>\n      <td>JERSEY CITY, NJ  07307</td>\n      <td>537 TONNELE AVE., JERSEY CITY, NJ  07307</td>\n      <td>537 TONNELE AVE. Jersey City, NJ</td>\n      <td>1</td>\n      <td>1</td>\n      <td>None</td>\n    </tr>\n    <tr>\n      <th>4843</th>\n      <td>572 TONNELE AVE.</td>\n      <td>BONILLA TONNELE AVE., LLC.</td>\n      <td>572 TONNELE AVE.</td>\n      <td>JERSEY CITY, NJ  07307</td>\n      <td>572 TONNELE AVE., JERSEY CITY, NJ  07307</td>\n      <td>572 TONNELE AVE. Jersey City, NJ</td>\n      <td>1</td>\n      <td>1</td>\n      <td>None</td>\n    </tr>\n    <tr>\n      <th>5409</th>\n      <td>223-221 HUTTON ST.</td>\n      <td>ZANZIBARWALA, PRITESH &amp; JIGNESH</td>\n      <td>221-223 HUTTON ST</td>\n      <td>JERSEY CITY, N J  07307</td>\n      <td>221-223 HUTTON ST, JERSEY CITY, N J  07307</td>\n      <td>223-221 HUTTON ST. Jersey City, NJ</td>\n      <td>1</td>\n      <td>1</td>\n      <td>None</td>\n    </tr>\n    <tr>\n      <th>5561</th>\n      <td>882-882A SUMMIT AVE.</td>\n      <td>BO BO ENTERPRISES 1, LLC</td>\n      <td>80 SHERMAN PLACE</td>\n      <td>JERSEY CITY, NJ  07307</td>\n      <td>80 SHERMAN PLACE, JERSEY CITY, NJ  07307</td>\n      <td>882-882A SUMMIT AVE. Jersey City, NJ</td>\n      <td>1</td>\n      <td>1</td>\n      <td>None</td>\n    </tr>\n    <tr>\n      <th>5620</th>\n      <td>102 MANHATTAN AVE. (REAR)</td>\n      <td>M &amp; A MANHATTAN AVE 102, LLC.</td>\n      <td>278 CENTRAL AVE.</td>\n      <td>JERSEY CITY, NJ  07307</td>\n      <td>278 CENTRAL AVE., JERSEY CITY, NJ  07307</td>\n      <td>102 MANHATTAN AVE. (REAR) Jersey City, NJ</td>\n      <td>1</td>\n      <td>1</td>\n      <td>None</td>\n    </tr>\n    <tr>\n      <th>6223</th>\n      <td>450 TONNELE AVE.</td>\n      <td>MODI, JAROOR H.</td>\n      <td>450 TONNELE AVE.</td>\n      <td>JERSEY CITY, NJ  07307</td>\n      <td>450 TONNELE AVE., JERSEY CITY, NJ  07307</td>\n      <td>450 TONNELE AVE. Jersey City, NJ</td>\n      <td>1</td>\n      <td>1</td>\n      <td>None</td>\n    </tr>\n    <tr>\n      <th>6224</th>\n      <td>452 TONNELE AVE.</td>\n      <td>PANCHAL, NISHANT</td>\n      <td>452 TONNELE AVE.</td>\n      <td>JERSEY CITY, N.J.  07307</td>\n      <td>452 TONNELE AVE., JERSEY CITY, N.J.  07307</td>\n      <td>452 TONNELE AVE. Jersey City, NJ</td>\n      <td>1</td>\n      <td>1</td>\n      <td>None</td>\n    </tr>\n    <tr>\n      <th>6225</th>\n      <td>454 TONNELE AVE.</td>\n      <td>BUDDY 1 REALTY, LLC.</td>\n      <td>454 TONNELE AVE.</td>\n      <td>JERSEY CITY, NJ  07307</td>\n      <td>454 TONNELE AVE., JERSEY CITY, NJ  07307</td>\n      <td>454 TONNELE AVE. Jersey City, NJ</td>\n      <td>1</td>\n      <td>1</td>\n      <td>None</td>\n    </tr>\n    <tr>\n      <th>6226</th>\n      <td>456 TONNELE AVE.</td>\n      <td>CRUZ, NELLY</td>\n      <td>1310 51ST ST.</td>\n      <td>NORTH BERGEN, NJ  07047</td>\n      <td>1310 51ST ST., NORTH BERGEN, NJ  07047</td>\n      <td>456 TONNELE AVE. Jersey City, NJ</td>\n      <td>1</td>\n      <td>1</td>\n      <td>None</td>\n    </tr>\n    <tr>\n      <th>7442</th>\n      <td>15 LIENAU PL.</td>\n      <td>FINAN, THOMAS D &amp; JUDITH</td>\n      <td>P.O BOX 17026</td>\n      <td>JERSEY CITY,N.J.  07307</td>\n      <td>P.O BOX 17026, JERSEY CITY,N.J.  07307</td>\n      <td>15 LIENAU PL. Jersey City, NJ</td>\n      <td>1</td>\n      <td>1</td>\n      <td>None</td>\n    </tr>\n    <tr>\n      <th>7443</th>\n      <td>13 LIENAU PL.</td>\n      <td>GRECO, ANDREA &amp; CLARA</td>\n      <td>181 GRIFFITH STREET</td>\n      <td>JERSEY CITY, N.J.  07307</td>\n      <td>181 GRIFFITH STREET, JERSEY CITY, N.J.  07307</td>\n      <td>13 LIENAU PL. Jersey City, NJ</td>\n      <td>2</td>\n      <td>1</td>\n      <td>None</td>\n    </tr>\n    <tr>\n      <th>7444</th>\n      <td>11 LIENAU PL.</td>\n      <td>FARREN, ROBERT A &amp; O'CONE, PATRICIA</td>\n      <td>11 LIENAU PL.</td>\n      <td>JERSEY CITY, NJ  07306</td>\n      <td>11 LIENAU PL., JERSEY CITY, NJ  07306</td>\n      <td>11 LIENAU PL. Jersey City, NJ</td>\n      <td>1</td>\n      <td>1</td>\n      <td>None</td>\n    </tr>\n    <tr>\n      <th>7445</th>\n      <td>9 LIENAU PL.</td>\n      <td>9 LIENAU PLACE JC, LLC.</td>\n      <td>390 CENTRAL AVE.</td>\n      <td>JERSEY CITY, NJ  07307</td>\n      <td>390 CENTRAL AVE., JERSEY CITY, NJ  07307</td>\n      <td>9 LIENAU PL. Jersey City, NJ</td>\n      <td>1</td>\n      <td>1</td>\n      <td>None</td>\n    </tr>\n    <tr>\n      <th>7446</th>\n      <td>7 LIENAU PL.</td>\n      <td>MARELLA, EILEEN</td>\n      <td>7 LIENAU PL.</td>\n      <td>JERSEY CITY, N.J.  07306</td>\n      <td>7 LIENAU PL., JERSEY CITY, N.J.  07306</td>\n      <td>7 LIENAU PL. Jersey City, NJ</td>\n      <td>1</td>\n      <td>1</td>\n      <td>None</td>\n    </tr>\n    <tr>\n      <th>7447</th>\n      <td>5 LIENAU PL.</td>\n      <td>PATEL,VYOMESH D.&amp;PARULBEN V.</td>\n      <td>1011 PITT ST.</td>\n      <td>SO PLAINFIELD , NJ.  07080</td>\n      <td>1011 PITT ST., SO PLAINFIELD , NJ.  07080</td>\n      <td>5 LIENAU PL. Jersey City, NJ</td>\n      <td>1</td>\n      <td>1</td>\n      <td>None</td>\n    </tr>\n    <tr>\n      <th>7448</th>\n      <td>3 LIENAU PL.</td>\n      <td>NAATUS, JOEL &amp; MARY KATE R.</td>\n      <td>3 LIENAU PL.</td>\n      <td>JERSEY CITY, N.J.  07306</td>\n      <td>3 LIENAU PL., JERSEY CITY, N.J.  07306</td>\n      <td>3 LIENAU PL. Jersey City, NJ</td>\n      <td>1</td>\n      <td>1</td>\n      <td>None</td>\n    </tr>\n    <tr>\n      <th>7449</th>\n      <td>1 LIENAU PL.</td>\n      <td>PATEL, NIKHIL &amp; LATA</td>\n      <td>1 LIENAU PL.</td>\n      <td>JERSEY CITY, N.J.  07306</td>\n      <td>1 LIENAU PL., JERSEY CITY, N.J.  07306</td>\n      <td>1 LIENAU PL. Jersey City, NJ</td>\n      <td>1</td>\n      <td>1</td>\n      <td>None</td>\n    </tr>\n    <tr>\n      <th>7534</th>\n      <td>47 LIENAU PLACE</td>\n      <td>HABIB FAMILY TRUST</td>\n      <td>234 GRIFFITH STREET</td>\n      <td>JERSEY CITY, N J  07307</td>\n      <td>234 GRIFFITH STREET, JERSEY CITY, N J  07307</td>\n      <td>47 LIENAU PLACE Jersey City, NJ</td>\n      <td>3</td>\n      <td>1</td>\n      <td>None</td>\n    </tr>\n    <tr>\n      <th>7535</th>\n      <td>45 LIENAU PLACE</td>\n      <td>MANASRA, RIFAH I.</td>\n      <td>45 LIENAU PLACE</td>\n      <td>JERSEY CITY, N J  07307</td>\n      <td>45 LIENAU PLACE, JERSEY CITY, N J  07307</td>\n      <td>45 LIENAU PLACE Jersey City, NJ</td>\n      <td>1</td>\n      <td>1</td>\n      <td>None</td>\n    </tr>\n    <tr>\n      <th>7536</th>\n      <td>41 LIENAU PL.</td>\n      <td>CAVIANO, MICHAEL &amp; DOLORES POE</td>\n      <td>41 LINEAU PLACE</td>\n      <td>JERSEY CITY, N.J.  07306</td>\n      <td>41 LINEAU PLACE, JERSEY CITY, N.J.  07306</td>\n      <td>41 LIENAU PL. Jersey City, NJ</td>\n      <td>1</td>\n      <td>1</td>\n      <td>None</td>\n    </tr>\n    <tr>\n      <th>7537</th>\n      <td>35 LIENAU PL.</td>\n      <td>WEISSMAN, JOSHUA &amp; O'DONNELL, LISA</td>\n      <td>35 LIENAU PL.</td>\n      <td>JERSEY CITY, NJ  07307</td>\n      <td>35 LIENAU PL., JERSEY CITY, NJ  07307</td>\n      <td>35 LIENAU PL. Jersey City, NJ</td>\n      <td>1</td>\n      <td>1</td>\n      <td>None</td>\n    </tr>\n    <tr>\n      <th>7549</th>\n      <td>2 LIENAU PL.</td>\n      <td>BUSCAR, RICARDO N.</td>\n      <td>2 LIENAU PL.</td>\n      <td>JERSEY CITY, N.J.  07306</td>\n      <td>2 LIENAU PL., JERSEY CITY, N.J.  07306</td>\n      <td>2 LIENAU PL. Jersey City, NJ</td>\n      <td>1</td>\n      <td>1</td>\n      <td>None</td>\n    </tr>\n    <tr>\n      <th>7550</th>\n      <td>4 LIENAU PL.</td>\n      <td>ESPINOLA, ANDRES &amp; AMPARO</td>\n      <td>4 LIENAU PL.</td>\n      <td>JERSEY CITY, N.J.  07306</td>\n      <td>4 LIENAU PL., JERSEY CITY, N.J.  07306</td>\n      <td>4 LIENAU PL. Jersey City, NJ</td>\n      <td>1</td>\n      <td>1</td>\n      <td>None</td>\n    </tr>\n    <tr>\n      <th>7551</th>\n      <td>6 LIENAU PLACE</td>\n      <td>WANG, DEVON &amp; XU, TIANMEI</td>\n      <td>78 HOBART AVE.</td>\n      <td>SHORT HILLS, NJ  07078</td>\n      <td>78 HOBART AVE., SHORT HILLS, NJ  07078</td>\n      <td>6 LIENAU PLACE Jersey City, NJ</td>\n      <td>2</td>\n      <td>1</td>\n      <td>None</td>\n    </tr>\n    <tr>\n      <th>7552</th>\n      <td>8 LIENAU PL.</td>\n      <td>DIAZ, RUBEN A.</td>\n      <td>8 LIENAU PL.</td>\n      <td>JERSEY CITY, NJ  07306</td>\n      <td>8 LIENAU PL., JERSEY CITY, NJ  07306</td>\n      <td>8 LIENAU PL. Jersey City, NJ</td>\n      <td>1</td>\n      <td>1</td>\n      <td>None</td>\n    </tr>\n    <tr>\n      <th>7759</th>\n      <td>34 LIENAU PL.</td>\n      <td>VOSS, JENNA M.&amp; AGHERA, SAMEER R.</td>\n      <td>34 LIENAU PL.#1</td>\n      <td>JERSEY CITY, NJ  07307</td>\n      <td>34 LIENAU PL.#1, JERSEY CITY, NJ  07307</td>\n      <td>34 LIENAU PL. Jersey City, NJ</td>\n      <td>1</td>\n      <td>2</td>\n      <td>None</td>\n    </tr>\n    <tr>\n      <th>7760</th>\n      <td>34 LIENAU PL.</td>\n      <td>DELIERRE ALBAN &amp;MICSANSCHI, XENIA</td>\n      <td>34 LIENAU PLACE #2</td>\n      <td>JERSEY CITY, NJ  07302</td>\n      <td>34 LIENAU PLACE #2, JERSEY CITY, NJ  07302</td>\n      <td>34 LIENAU PL. Jersey City, NJ</td>\n      <td>1</td>\n      <td>2</td>\n      <td>None</td>\n    </tr>\n    <tr>\n      <th>7761</th>\n      <td>42 LIENAU PL.</td>\n      <td>42 LINEAU PLACE, LLC.</td>\n      <td>42 LIENAU PL.</td>\n      <td>JERSEY CITY, NJ  07307</td>\n      <td>42 LIENAU PL., JERSEY CITY, NJ  07307</td>\n      <td>42 LIENAU PL. Jersey City, NJ</td>\n      <td>1</td>\n      <td>1</td>\n      <td>None</td>\n    </tr>\n    <tr>\n      <th>8103</th>\n      <td>3144A JOHN F KENNEDY BLVD.</td>\n      <td>CABRERA, CARLOS A.</td>\n      <td>3144A KENNEDY BLVD.</td>\n      <td>JERSEY CITY, N.J.  07306</td>\n      <td>3144A KENNEDY BLVD., JERSEY CITY, N.J.  07306</td>\n      <td>3144A JOHN F KENNEDY BLVD. Jersey City, NJ</td>\n      <td>2</td>\n      <td>1</td>\n      <td>None</td>\n    </tr>\n    <tr>\n      <th>8534</th>\n      <td>88 LAIDLAW AVE. REAR</td>\n      <td>GRENEE, ROCKELLE</td>\n      <td>88 LAIDLAW AVE.-REAR</td>\n      <td>JERSEY CITY, N.J.  07306</td>\n      <td>88 LAIDLAW AVE.-REAR, JERSEY CITY, N.J.  07306</td>\n      <td>88 LAIDLAW AVE. REAR Jersey City, NJ</td>\n      <td>2</td>\n      <td>1</td>\n      <td>None</td>\n    </tr>\n    <tr>\n      <th>8535</th>\n      <td>88 LAIDLAW AVE. -FRONT</td>\n      <td>GRENEE, ROCKELLE</td>\n      <td>88 LAIDLAW AVE.-FRONT</td>\n      <td>JERSEY CITY, N.J.  07306</td>\n      <td>88 LAIDLAW AVE.-FRONT, JERSEY CITY, N.J.  07306</td>\n      <td>88 LAIDLAW AVE. -FRONT Jersey City, NJ</td>\n      <td>2</td>\n      <td>1</td>\n      <td>None</td>\n    </tr>\n    <tr>\n      <th>9029</th>\n      <td>235 TONNELE AVE.</td>\n      <td>GOYAL, POONAM</td>\n      <td>235 TONNELLE AVE</td>\n      <td>JERSEY CITY, NJ  07306</td>\n      <td>235 TONNELLE AVE, JERSEY CITY, NJ  07306</td>\n      <td>235 TONNELE AVE. Jersey City, NJ</td>\n      <td>1</td>\n      <td>1</td>\n      <td>None</td>\n    </tr>\n    <tr>\n      <th>9030</th>\n      <td>233 TONNELE AVE.</td>\n      <td>PINO, LUCILA, G. &amp; GONZALEZ, M.</td>\n      <td>233 TONNELE AVE.</td>\n      <td>JERSEY CITY, N.J.  07306</td>\n      <td>233 TONNELE AVE., JERSEY CITY, N.J.  07306</td>\n      <td>233 TONNELE AVE. Jersey City, NJ</td>\n      <td>1</td>\n      <td>1</td>\n      <td>None</td>\n    </tr>\n    <tr>\n      <th>9031</th>\n      <td>231 TONNELE AVE.</td>\n      <td>MIRZA, NAZAR</td>\n      <td>324 ST. PAULS AVE.</td>\n      <td>JERSEY CITY, NJ  07306</td>\n      <td>324 ST. PAULS AVE., JERSEY CITY, NJ  07306</td>\n      <td>231 TONNELE AVE. Jersey City, NJ</td>\n      <td>1</td>\n      <td>1</td>\n      <td>None</td>\n    </tr>\n    <tr>\n      <th>9032</th>\n      <td>229 TONNELE AVE.</td>\n      <td>TORRES, OSWALDO E.&amp; DHANWANTI</td>\n      <td>229 TONNELE AVE.</td>\n      <td>JERSEY CITY, N.J.  07306</td>\n      <td>229 TONNELE AVE., JERSEY CITY, N.J.  07306</td>\n      <td>229 TONNELE AVE. Jersey City, NJ</td>\n      <td>1</td>\n      <td>1</td>\n      <td>None</td>\n    </tr>\n  </tbody>\n</table>\n</div>"
     },
     "metadata": {},
     "execution_count": 41
    }
   ],
   "source": [
    "errors_df.iloc[geocode_errors].head(50)"
   ]
  },
  {
   "cell_type": "code",
   "execution_count": 59,
   "metadata": {},
   "outputs": [],
   "source": [
    "# There is no 'Tonnele Ave' – it's 'Tonnelle'\n",
    "geolocator.geocode('LIENAU PL., Jersey City, NJ')"
   ]
  },
  {
   "cell_type": "code",
   "execution_count": 60,
   "metadata": {},
   "outputs": [],
   "source": [
    "errors_df.propertyLocation = errors_df.propertyLocation.str.replace('TONNELE', 'TONNELLE')\n",
    "errors_df.propertyLocation = errors_df.propertyLocation.str.replace('MC ADOO', 'MCADOO')\n",
    "errors_df.propertyLocation = errors_df.propertyLocation.str.replace('M.L. KING DRIVE', 'MARTIN LUTHER KING DRIVE')\n",
    "errors_df.propertyLocation = errors_df.propertyLocation.str.replace('COLUMBUS', 'CHRISTOPHER COLUMBUS')\n",
    "errors_df.propertyLocation = errors_df.propertyLocation.str.replace('FIRST', '1st')\n",
    "errors_df.propertyLocation = errors_df.propertyLocation.str.replace('SECOND', '2nd')\n",
    "errors_df.propertyLocation = errors_df.propertyLocation.str.replace('THIRD', '3rd')\n",
    "errors_df.propertyLocation = errors_df.propertyLocation.str.replace('FOURTH', '4th')\n",
    "errors_df.propertyLocation = errors_df.propertyLocation.str.replace('FIFTH', '5th')\n",
    "errors_df.propertyLocation = errors_df.propertyLocation.str.replace('SIXTH', '6th')\n",
    "errors_df.propertyLocation = errors_df.propertyLocation.str.replace('SEVENTH', '7th')\n",
    "errors_df.propertyLocation = errors_df.propertyLocation.str.replace('EIGHTH', '8th')\n",
    "errors_df.propertyLocation = errors_df.propertyLocation.str.replace('NINETH', '9th')\n",
    "errors_df.propertyLocation = errors_df.propertyLocation.str.replace('TENTH', '10th')"
   ]
  },
  {
   "cell_type": "code",
   "execution_count": 14,
   "metadata": {},
   "outputs": [],
   "source": [
    "errors_df.propertyLocation = errors_df.propertyLocation.str.replace('NINTH', '9th')\n",
    "errors_df.propertyLocation = errors_df.propertyLocation.str.replace('FIFTEENTH', '15th')\n",
    "errors_df.propertyLocation = errors_df.propertyLocation.str.replace('SIXTEENTH', '16th')\n",
    "errors_df.propertyLocation = errors_df.propertyLocation.str.replace('MC DOUGALL', 'MCDOUGALL')"
   ]
  },
  {
   "cell_type": "code",
   "execution_count": 23,
   "metadata": {},
   "outputs": [],
   "source": [
    "errors_df.propertyLocation = errors_df.propertyLocation.str.replace('CARPENTIER', 'CARPENTER')\n",
    "errors_df.propertyLocation = errors_df.propertyLocation.str.replace('FOX HOUND', 'FOXHOUND')\n",
    "errors_df.propertyLocation = errors_df.propertyLocation.str.replace('SIEDLER', 'SEIDLER')\n",
    "errors_df.propertyLocation = errors_df.propertyLocation.str.replace('LIENAU', 'LINEAU')"
   ]
  },
  {
   "cell_type": "code",
   "execution_count": 26,
   "metadata": {},
   "outputs": [],
   "source": [
    "errors_df.propertyFullAddress = errors_df.propertyLocation + ', Jersey City, NJ'"
   ]
  },
  {
   "cell_type": "code",
   "execution_count": 28,
   "metadata": {},
   "outputs": [],
   "source": [
    "errors_df['gCode'] = errors_df.propertyFullAddress.apply(geolocator.geocode)"
   ]
  },
  {
   "cell_type": "code",
   "execution_count": 21,
   "metadata": {},
   "outputs": [],
   "source": [
    "geocode_errors = [i for i,e in enumerate(errors_df.gCode) if e == None]"
   ]
  },
  {
   "cell_type": "code",
   "execution_count": 31,
   "metadata": {},
   "outputs": [
    {
     "output_type": "execute_result",
     "data": {
      "text/plain": [
       "                   propertyLocation  ... gCode\n",
       "648             274-76 COLUMBIA AVE  ...  None\n",
       "797      3633A JOHN F KENNEDY BLVD.  ...  None\n",
       "1667           1074-1080 SUMMIT AVE  ...  None\n",
       "1821       19 PATERSON STREET -REAR  ...  None\n",
       "2529              78A-80 THORNE ST.  ...  None\n",
       "3427                 430 ODGEN AVE.  ...  None\n",
       "4240             978-80 SUMMIT AVE.  ...  None\n",
       "5409             223-221 HUTTON ST.  ...  None\n",
       "5561           882-882A SUMMIT AVE.  ...  None\n",
       "5620      102 MANHATTAN AVE. (REAR)  ...  None\n",
       "8103     3144A JOHN F KENNEDY BLVD.  ...  None\n",
       "8534           88 LAIDLAW AVE. REAR  ...  None\n",
       "8535         88 LAIDLAW AVE. -FRONT  ...  None\n",
       "10237            10 ST. PALUSL AVE.  ...  None\n",
       "10475                 2 RADEMAN PL.  ...  None\n",
       "10476                 4 RADEMAN PL.  ...  None\n",
       "10477                 6 RADEMAN PL.  ...  None\n",
       "10478                 5 RADEMAN PL.  ...  None\n",
       "10479                 3 RADEMAN PL.  ...  None\n",
       "10480                 1 RADEMAN PL.  ...  None\n",
       "11169              45 RIVER DR. SO.  ...  None\n",
       "11403             14-16 BERKLEY PL.  ...  None\n",
       "11460  3027-35 JOHN F KENNEDY BLVD.  ...  None\n",
       "11461  3027-35 JOHN F KENNEDY BLVD.  ...  None\n",
       "11462  3027-35 JOHN F KENNEDY BLVD.  ...  None\n",
       "11464  3027-35 JOHN F KENNEDY BLVD.  ...  None\n",
       "11465  3027-35 JOHN F KENNEDY BLVD.  ...  None\n",
       "11467  3027-35 JOHN F KENNEDY BLVD.  ...  None\n",
       "11468  3027-35 JOHN F KENNEDY BLVD.  ...  None\n",
       "11469  3027-35 JOHN F KENNEDY BLVD.  ...  None\n",
       "11470  3027-35 JOHN F KENNEDY BLVD.  ...  None\n",
       "11471  3027-35 JOHN F KENNEDY BLVD.  ...  None\n",
       "11472  3027-35 JOHN F KENNEDY BLVD.  ...  None\n",
       "11473  3027-35 JOHN F KENNEDY BLVD.  ...  None\n",
       "11474  3027-35 JOHN F KENNEDY BLVD.  ...  None\n",
       "11475  3027-35 JOHN F KENNEDY BLVD.  ...  None\n",
       "11476  3027-35 JOHN F KENNEDY BLVD.  ...  None\n",
       "11477  3027-35 JOHN F KENNEDY BLVD.  ...  None\n",
       "11478  3027-35 JOHN F KENNEDY BLVD.  ...  None\n",
       "11479  3027-35 JOHN F KENNEDY BLVD.  ...  None\n",
       "11480  3027-35 JOHN F KENNEDY BLVD.  ...  None\n",
       "11481  3027-35 JOHN F KENNEDY BLVD.  ...  None\n",
       "11482  3027-35 JOHN F KENNEDY BLVD.  ...  None\n",
       "11483  3027-35 JOHN F KENNEDY BLVD.  ...  None\n",
       "11484  3027-35 JOHN F KENNEDY BLVD.  ...  None\n",
       "11485  3027-35 JOHN F KENNEDY BLVD.  ...  None\n",
       "11486  3027-35 JOHN F KENNEDY BLVD.  ...  None\n",
       "11487  3027-35 JOHN F KENNEDY BLVD.  ...  None\n",
       "11488  3027-35 JOHN F KENNEDY BLVD.  ...  None\n",
       "11489  3027-35 JOHN F KENNEDY BLVD.  ...  None\n",
       "\n",
       "[50 rows x 9 columns]"
      ],
      "text/html": "<div>\n<style scoped>\n    .dataframe tbody tr th:only-of-type {\n        vertical-align: middle;\n    }\n\n    .dataframe tbody tr th {\n        vertical-align: top;\n    }\n\n    .dataframe thead th {\n        text-align: right;\n    }\n</style>\n<table border=\"1\" class=\"dataframe\">\n  <thead>\n    <tr style=\"text-align: right;\">\n      <th></th>\n      <th>propertyLocation</th>\n      <th>ownersName</th>\n      <th>ownersMailingAddress</th>\n      <th>cityStateZip</th>\n      <th>ownersFullMailingAddress</th>\n      <th>propertyFullAddress</th>\n      <th>propertiesOwned</th>\n      <th>units</th>\n      <th>gCode</th>\n    </tr>\n  </thead>\n  <tbody>\n    <tr>\n      <th>648</th>\n      <td>274-76 COLUMBIA AVE</td>\n      <td>PERSAUD, PURAN &amp; ANJAALI</td>\n      <td>274-276 COLUMBIA AVENUE</td>\n      <td>JERSEY CITY,N.J.  07307</td>\n      <td>274-276 COLUMBIA AVENUE, JERSEY CITY,N.J.  07307</td>\n      <td>274-76 COLUMBIA AVE, Jersey City, NJ</td>\n      <td>6</td>\n      <td>1</td>\n      <td>None</td>\n    </tr>\n    <tr>\n      <th>797</th>\n      <td>3633A JOHN F KENNEDY BLVD.</td>\n      <td>SCALIA HOLDINGS, LLC</td>\n      <td>264 CENTRAL AVE.</td>\n      <td>JERSEY CITY, NJ  07307</td>\n      <td>264 CENTRAL AVE., JERSEY CITY, NJ  07307</td>\n      <td>3633A JOHN F KENNEDY BLVD., Jersey City, NJ</td>\n      <td>5</td>\n      <td>1</td>\n      <td>None</td>\n    </tr>\n    <tr>\n      <th>1667</th>\n      <td>1074-1080 SUMMIT AVE</td>\n      <td>1074 SUMMIT, LLC.</td>\n      <td>10 FULTON ST</td>\n      <td>WEEHAWKEN, NJ  07086</td>\n      <td>10 FULTON ST, WEEHAWKEN, NJ  07086</td>\n      <td>1074-1080 SUMMIT AVE, Jersey City, NJ</td>\n      <td>1</td>\n      <td>1</td>\n      <td>None</td>\n    </tr>\n    <tr>\n      <th>1821</th>\n      <td>19 PATERSON STREET -REAR</td>\n      <td>BIRN, SUSAN</td>\n      <td>19 PATERSON STREET-REAR</td>\n      <td>JERSEY CITY, N.J.  07307</td>\n      <td>19 PATERSON STREET-REAR, JERSEY CITY, N.J.  07307</td>\n      <td>19 PATERSON STREET -REAR, Jersey City, NJ</td>\n      <td>1</td>\n      <td>1</td>\n      <td>None</td>\n    </tr>\n    <tr>\n      <th>2529</th>\n      <td>78A-80 THORNE ST.</td>\n      <td>MITTAL,CHITRA KOTHARI &amp; DEEPAK</td>\n      <td>76 CONSTITUTION WAY</td>\n      <td>JERSEY CITY, N.J.  07302</td>\n      <td>76 CONSTITUTION WAY, JERSEY CITY, N.J.  07302</td>\n      <td>78A-80 THORNE ST., Jersey City, NJ</td>\n      <td>1</td>\n      <td>1</td>\n      <td>None</td>\n    </tr>\n    <tr>\n      <th>3427</th>\n      <td>430 ODGEN AVE.</td>\n      <td>DEVIRGILLO, DAMIAN</td>\n      <td>430 OGDEN AVE., UNIT 3</td>\n      <td>JERSEY CITY, NJ  07307</td>\n      <td>430 OGDEN AVE., UNIT 3, JERSEY CITY, NJ  07307</td>\n      <td>430 ODGEN AVE., Jersey City, NJ</td>\n      <td>1</td>\n      <td>1</td>\n      <td>None</td>\n    </tr>\n    <tr>\n      <th>4240</th>\n      <td>978-80 SUMMIT AVE.</td>\n      <td>978-980 SUMMIT AVE. KBB LLC.</td>\n      <td>978-980 SUMMIT AVE.</td>\n      <td>JERSEY CITY, NJ  07302</td>\n      <td>978-980 SUMMIT AVE., JERSEY CITY, NJ  07302</td>\n      <td>978-80 SUMMIT AVE., Jersey City, NJ</td>\n      <td>1</td>\n      <td>1</td>\n      <td>None</td>\n    </tr>\n    <tr>\n      <th>5409</th>\n      <td>223-221 HUTTON ST.</td>\n      <td>ZANZIBARWALA, PRITESH &amp; JIGNESH</td>\n      <td>221-223 HUTTON ST</td>\n      <td>JERSEY CITY, N J  07307</td>\n      <td>221-223 HUTTON ST, JERSEY CITY, N J  07307</td>\n      <td>223-221 HUTTON ST., Jersey City, NJ</td>\n      <td>1</td>\n      <td>1</td>\n      <td>None</td>\n    </tr>\n    <tr>\n      <th>5561</th>\n      <td>882-882A SUMMIT AVE.</td>\n      <td>BO BO ENTERPRISES 1, LLC</td>\n      <td>80 SHERMAN PLACE</td>\n      <td>JERSEY CITY, NJ  07307</td>\n      <td>80 SHERMAN PLACE, JERSEY CITY, NJ  07307</td>\n      <td>882-882A SUMMIT AVE., Jersey City, NJ</td>\n      <td>1</td>\n      <td>1</td>\n      <td>None</td>\n    </tr>\n    <tr>\n      <th>5620</th>\n      <td>102 MANHATTAN AVE. (REAR)</td>\n      <td>M &amp; A MANHATTAN AVE 102, LLC.</td>\n      <td>278 CENTRAL AVE.</td>\n      <td>JERSEY CITY, NJ  07307</td>\n      <td>278 CENTRAL AVE., JERSEY CITY, NJ  07307</td>\n      <td>102 MANHATTAN AVE. (REAR), Jersey City, NJ</td>\n      <td>1</td>\n      <td>1</td>\n      <td>None</td>\n    </tr>\n    <tr>\n      <th>8103</th>\n      <td>3144A JOHN F KENNEDY BLVD.</td>\n      <td>CABRERA, CARLOS A.</td>\n      <td>3144A KENNEDY BLVD.</td>\n      <td>JERSEY CITY, N.J.  07306</td>\n      <td>3144A KENNEDY BLVD., JERSEY CITY, N.J.  07306</td>\n      <td>3144A JOHN F KENNEDY BLVD., Jersey City, NJ</td>\n      <td>2</td>\n      <td>1</td>\n      <td>None</td>\n    </tr>\n    <tr>\n      <th>8534</th>\n      <td>88 LAIDLAW AVE. REAR</td>\n      <td>GRENEE, ROCKELLE</td>\n      <td>88 LAIDLAW AVE.-REAR</td>\n      <td>JERSEY CITY, N.J.  07306</td>\n      <td>88 LAIDLAW AVE.-REAR, JERSEY CITY, N.J.  07306</td>\n      <td>88 LAIDLAW AVE. REAR, Jersey City, NJ</td>\n      <td>2</td>\n      <td>1</td>\n      <td>None</td>\n    </tr>\n    <tr>\n      <th>8535</th>\n      <td>88 LAIDLAW AVE. -FRONT</td>\n      <td>GRENEE, ROCKELLE</td>\n      <td>88 LAIDLAW AVE.-FRONT</td>\n      <td>JERSEY CITY, N.J.  07306</td>\n      <td>88 LAIDLAW AVE.-FRONT, JERSEY CITY, N.J.  07306</td>\n      <td>88 LAIDLAW AVE. -FRONT, Jersey City, NJ</td>\n      <td>2</td>\n      <td>1</td>\n      <td>None</td>\n    </tr>\n    <tr>\n      <th>10237</th>\n      <td>10 ST. PALUSL AVE.</td>\n      <td>10 ST. PAULS AVENUE LLC</td>\n      <td>61 HOPKINS AVENUE</td>\n      <td>JERSEY CITY, N.J.  07306</td>\n      <td>61 HOPKINS AVENUE, JERSEY CITY, N.J.  07306</td>\n      <td>10 ST. PALUSL AVE., Jersey City, NJ</td>\n      <td>1</td>\n      <td>1</td>\n      <td>None</td>\n    </tr>\n    <tr>\n      <th>10475</th>\n      <td>2 RADEMAN PL.</td>\n      <td>SANCHEZ, LUZ</td>\n      <td>2 RADEMANN PL.</td>\n      <td>JERSEY CITY, N.J.  07310</td>\n      <td>2 RADEMANN PL., JERSEY CITY, N.J.  07310</td>\n      <td>2 RADEMAN PL., Jersey City, NJ</td>\n      <td>1</td>\n      <td>1</td>\n      <td>None</td>\n    </tr>\n    <tr>\n      <th>10476</th>\n      <td>4 RADEMAN PL.</td>\n      <td>ZAVOLAS, NICK &amp; FANNY</td>\n      <td>17 PAUL AVE.</td>\n      <td>EATON TOWN, NJ  07724</td>\n      <td>17 PAUL AVE., EATON TOWN, NJ  07724</td>\n      <td>4 RADEMAN PL., Jersey City, NJ</td>\n      <td>1</td>\n      <td>1</td>\n      <td>None</td>\n    </tr>\n    <tr>\n      <th>10477</th>\n      <td>6 RADEMAN PL.</td>\n      <td>ROTSTEIN, S., J.&amp;MEDELLIN, N.,C.,H.</td>\n      <td>6 RADEMAN PL.</td>\n      <td>JERSEY CITY, NJ  07310</td>\n      <td>6 RADEMAN PL., JERSEY CITY, NJ  07310</td>\n      <td>6 RADEMAN PL., Jersey City, NJ</td>\n      <td>1</td>\n      <td>1</td>\n      <td>None</td>\n    </tr>\n    <tr>\n      <th>10478</th>\n      <td>5 RADEMAN PL.</td>\n      <td>CALERO, CARLOS</td>\n      <td>5 RADEMAN PL.</td>\n      <td>JERSEY CITY, NJ  07302</td>\n      <td>5 RADEMAN PL., JERSEY CITY, NJ  07302</td>\n      <td>5 RADEMAN PL., Jersey City, NJ</td>\n      <td>1</td>\n      <td>1</td>\n      <td>None</td>\n    </tr>\n    <tr>\n      <th>10479</th>\n      <td>3 RADEMAN PL.</td>\n      <td>ROCO, JESUS &amp; YNAYA, DON G.</td>\n      <td>3 RADEMAN PL.</td>\n      <td>JERSEY CITY, N.J.  07302</td>\n      <td>3 RADEMAN PL., JERSEY CITY, N.J.  07302</td>\n      <td>3 RADEMAN PL., Jersey City, NJ</td>\n      <td>1</td>\n      <td>1</td>\n      <td>None</td>\n    </tr>\n    <tr>\n      <th>10480</th>\n      <td>1 RADEMAN PL.</td>\n      <td>GARIBALDI, LLC</td>\n      <td>P.O. BOX 7442</td>\n      <td>NEW YORK, NY  10150</td>\n      <td>P.O. BOX 7442, NEW YORK, NY  10150</td>\n      <td>1 RADEMAN PL., Jersey City, NJ</td>\n      <td>1</td>\n      <td>1</td>\n      <td>None</td>\n    </tr>\n    <tr>\n      <th>11169</th>\n      <td>45 RIVER DR. SO.</td>\n      <td>SHEN, LONG</td>\n      <td>45 RIVER DR. SO. #1808</td>\n      <td>JERSEY CITY, NJ  07310</td>\n      <td>45 RIVER DR. SO. #1808, JERSEY CITY, NJ  07310</td>\n      <td>45 RIVER DR. SO., Jersey City, NJ</td>\n      <td>1</td>\n      <td>1</td>\n      <td>None</td>\n    </tr>\n    <tr>\n      <th>11403</th>\n      <td>14-16 BERKLEY PL.</td>\n      <td>14-16 BERKELEY PLACE 2004, L.L.C.</td>\n      <td>P.O. BOX 940</td>\n      <td>MONSEY, N.Y.  10952</td>\n      <td>P.O. BOX 940, MONSEY, N.Y.  10952</td>\n      <td>14-16 BERKLEY PL., Jersey City, NJ</td>\n      <td>1</td>\n      <td>1</td>\n      <td>None</td>\n    </tr>\n    <tr>\n      <th>11460</th>\n      <td>3027-35 JOHN F KENNEDY BLVD.</td>\n      <td>SHAH, BHARAT K. &amp; SMITA B</td>\n      <td>52 WASHBURN ST</td>\n      <td>JERSEY CITY, NJ  07306</td>\n      <td>52 WASHBURN ST, JERSEY CITY, NJ  07306</td>\n      <td>3027-35 JOHN F KENNEDY BLVD., Jersey City, NJ</td>\n      <td>1</td>\n      <td>28</td>\n      <td>None</td>\n    </tr>\n    <tr>\n      <th>11461</th>\n      <td>3027-35 JOHN F KENNEDY BLVD.</td>\n      <td>SEKULA, GLORIA</td>\n      <td>92 LANTERN LANE</td>\n      <td>SHIPPENSBURG, PA  17257</td>\n      <td>92 LANTERN LANE, SHIPPENSBURG, PA  17257</td>\n      <td>3027-35 JOHN F KENNEDY BLVD., Jersey City, NJ</td>\n      <td>1</td>\n      <td>28</td>\n      <td>None</td>\n    </tr>\n    <tr>\n      <th>11462</th>\n      <td>3027-35 JOHN F KENNEDY BLVD.</td>\n      <td>PO, CECILIO P., II (APT 3)</td>\n      <td>3027-3035 KENNEDY BLVD</td>\n      <td>JERSEY CITY, NJ  07306</td>\n      <td>3027-3035 KENNEDY BLVD, JERSEY CITY, NJ  07306</td>\n      <td>3027-35 JOHN F KENNEDY BLVD., Jersey City, NJ</td>\n      <td>1</td>\n      <td>28</td>\n      <td>None</td>\n    </tr>\n    <tr>\n      <th>11464</th>\n      <td>3027-35 JOHN F KENNEDY BLVD.</td>\n      <td>SUN, YAOJUN</td>\n      <td>81 GRAND ST.,#4A</td>\n      <td>HOBOKEN, NJ  07030</td>\n      <td>81 GRAND ST.,#4A, HOBOKEN, NJ  07030</td>\n      <td>3027-35 JOHN F KENNEDY BLVD., Jersey City, NJ</td>\n      <td>1</td>\n      <td>28</td>\n      <td>None</td>\n    </tr>\n    <tr>\n      <th>11465</th>\n      <td>3027-35 JOHN F KENNEDY BLVD.</td>\n      <td>HASSAN, SHAHNEZ KHALID</td>\n      <td>4677 HOMESTRETCH LN</td>\n      <td>MASON, OH  45040</td>\n      <td>4677 HOMESTRETCH LN, MASON, OH  45040</td>\n      <td>3027-35 JOHN F KENNEDY BLVD., Jersey City, NJ</td>\n      <td>1</td>\n      <td>28</td>\n      <td>None</td>\n    </tr>\n    <tr>\n      <th>11467</th>\n      <td>3027-35 JOHN F KENNEDY BLVD.</td>\n      <td>VYAS, POONAM K.</td>\n      <td>3027-35 KENNEDY BLVD.,#22</td>\n      <td>JERSEY CITY, NJ  07306</td>\n      <td>3027-35 KENNEDY BLVD.,#22, JERSEY CITY, NJ  07306</td>\n      <td>3027-35 JOHN F KENNEDY BLVD., Jersey City, NJ</td>\n      <td>1</td>\n      <td>28</td>\n      <td>None</td>\n    </tr>\n    <tr>\n      <th>11468</th>\n      <td>3027-35 JOHN F KENNEDY BLVD.</td>\n      <td>CHAN FOON CHING</td>\n      <td>3027-35 KENNEDY BLVD.</td>\n      <td>JERSEY CITY, N.J.  07306</td>\n      <td>3027-35 KENNEDY BLVD., JERSEY CITY, N.J.  07306</td>\n      <td>3027-35 JOHN F KENNEDY BLVD., Jersey City, NJ</td>\n      <td>1</td>\n      <td>28</td>\n      <td>None</td>\n    </tr>\n    <tr>\n      <th>11469</th>\n      <td>3027-35 JOHN F KENNEDY BLVD.</td>\n      <td>PATEL, SUSHREETA  L.</td>\n      <td>194 CHELMSFORD ST.</td>\n      <td>CHELMSFORD, MA  07824</td>\n      <td>194 CHELMSFORD ST., CHELMSFORD, MA  07824</td>\n      <td>3027-35 JOHN F KENNEDY BLVD., Jersey City, NJ</td>\n      <td>1</td>\n      <td>28</td>\n      <td>None</td>\n    </tr>\n    <tr>\n      <th>11470</th>\n      <td>3027-35 JOHN F KENNEDY BLVD.</td>\n      <td>HO, JULIA M.</td>\n      <td>767 CLIFTON AVE.</td>\n      <td>NEWARK, NJ  07104</td>\n      <td>767 CLIFTON AVE., NEWARK, NJ  07104</td>\n      <td>3027-35 JOHN F KENNEDY BLVD., Jersey City, NJ</td>\n      <td>2</td>\n      <td>28</td>\n      <td>None</td>\n    </tr>\n    <tr>\n      <th>11471</th>\n      <td>3027-35 JOHN F KENNEDY BLVD.</td>\n      <td>CHAN, KEVIN YUI-KEUNG</td>\n      <td>3033 KENNEDY BLVD.#26</td>\n      <td>JERSEY CITY, N.J.  07306</td>\n      <td>3033 KENNEDY BLVD.#26, JERSEY CITY, N.J.  07306</td>\n      <td>3027-35 JOHN F KENNEDY BLVD., Jersey City, NJ</td>\n      <td>1</td>\n      <td>28</td>\n      <td>None</td>\n    </tr>\n    <tr>\n      <th>11472</th>\n      <td>3027-35 JOHN F KENNEDY BLVD.</td>\n      <td>SHAH, BHARAT K. &amp; SMITA B.</td>\n      <td>52 WASHBURN ST.</td>\n      <td>JERSEY CITY, NJ  07306</td>\n      <td>52 WASHBURN ST., JERSEY CITY, NJ  07306</td>\n      <td>3027-35 JOHN F KENNEDY BLVD., Jersey City, NJ</td>\n      <td>2</td>\n      <td>28</td>\n      <td>None</td>\n    </tr>\n    <tr>\n      <th>11473</th>\n      <td>3027-35 JOHN F KENNEDY BLVD.</td>\n      <td>LINGALA, AMARNATH</td>\n      <td>5 GARDENIA LANE</td>\n      <td>HICKSVILLE, NY  11801</td>\n      <td>5 GARDENIA LANE, HICKSVILLE, NY  11801</td>\n      <td>3027-35 JOHN F KENNEDY BLVD., Jersey City, NJ</td>\n      <td>1</td>\n      <td>28</td>\n      <td>None</td>\n    </tr>\n    <tr>\n      <th>11474</th>\n      <td>3027-35 JOHN F KENNEDY BLVD.</td>\n      <td>DUVAL, MARIO</td>\n      <td>10 KILLIAN PLACE</td>\n      <td>TOTOWA, N.J.  07512</td>\n      <td>10 KILLIAN PLACE, TOTOWA, N.J.  07512</td>\n      <td>3027-35 JOHN F KENNEDY BLVD., Jersey City, NJ</td>\n      <td>1</td>\n      <td>28</td>\n      <td>None</td>\n    </tr>\n    <tr>\n      <th>11475</th>\n      <td>3027-35 JOHN F KENNEDY BLVD.</td>\n      <td>KEREN HAGSHAMA, LLC.</td>\n      <td>3027-35 KENNEDY BLVD, #34</td>\n      <td>JERSEY CITY, NJ  07306</td>\n      <td>3027-35 KENNEDY BLVD, #34, JERSEY CITY, NJ  07306</td>\n      <td>3027-35 JOHN F KENNEDY BLVD., Jersey City, NJ</td>\n      <td>10</td>\n      <td>28</td>\n      <td>None</td>\n    </tr>\n    <tr>\n      <th>11476</th>\n      <td>3027-35 JOHN F KENNEDY BLVD.</td>\n      <td>HAM, HYUNA</td>\n      <td>1377 MANOR LANE</td>\n      <td>BAY SHORE, NY  11706</td>\n      <td>1377 MANOR LANE, BAY SHORE, NY  11706</td>\n      <td>3027-35 JOHN F KENNEDY BLVD., Jersey City, NJ</td>\n      <td>2</td>\n      <td>28</td>\n      <td>None</td>\n    </tr>\n    <tr>\n      <th>11477</th>\n      <td>3027-35 JOHN F KENNEDY BLVD.</td>\n      <td>GUAN, JIAN YONG</td>\n      <td>3027-35 KENNEDY BLVD.#36</td>\n      <td>JERSEY CITY, N.J.  07306</td>\n      <td>3027-35 KENNEDY BLVD.#36, JERSEY CITY, N.J.  0...</td>\n      <td>3027-35 JOHN F KENNEDY BLVD., Jersey City, NJ</td>\n      <td>1</td>\n      <td>28</td>\n      <td>None</td>\n    </tr>\n    <tr>\n      <th>11478</th>\n      <td>3027-35 JOHN F KENNEDY BLVD.</td>\n      <td>MAXWELL MANAGMENT, LLC.</td>\n      <td>3199 VIA BUENA VISTA, #B</td>\n      <td>LAGUNA WOODS, CA  92637</td>\n      <td>3199 VIA BUENA VISTA, #B, LAGUNA WOODS, CA  92637</td>\n      <td>3027-35 JOHN F KENNEDY BLVD., Jersey City, NJ</td>\n      <td>1</td>\n      <td>28</td>\n      <td>None</td>\n    </tr>\n    <tr>\n      <th>11479</th>\n      <td>3027-35 JOHN F KENNEDY BLVD.</td>\n      <td>ROBINS OAK PROP,LLC%ROBINSOAK MGMT</td>\n      <td>541 42ND ST</td>\n      <td>UNION CITY, NJ  08087</td>\n      <td>541 42ND ST, UNION CITY, NJ  08087</td>\n      <td>3027-35 JOHN F KENNEDY BLVD., Jersey City, NJ</td>\n      <td>1</td>\n      <td>28</td>\n      <td>None</td>\n    </tr>\n    <tr>\n      <th>11480</th>\n      <td>3027-35 JOHN F KENNEDY BLVD.</td>\n      <td>CHOSEN INVESTMENTS, L.L.C.</td>\n      <td>61 JOANNA WAY</td>\n      <td>SHORT HILLS, NJ  07078</td>\n      <td>61 JOANNA WAY, SHORT HILLS, NJ  07078</td>\n      <td>3027-35 JOHN F KENNEDY BLVD., Jersey City, NJ</td>\n      <td>1</td>\n      <td>28</td>\n      <td>None</td>\n    </tr>\n    <tr>\n      <th>11481</th>\n      <td>3027-35 JOHN F KENNEDY BLVD.</td>\n      <td>WOOTTEN, NICOLE M.</td>\n      <td>3027-35 KENNEDY BLVD.,#44</td>\n      <td>JERSEY CITY, NJ  07306</td>\n      <td>3027-35 KENNEDY BLVD.,#44, JERSEY CITY, NJ  07306</td>\n      <td>3027-35 JOHN F KENNEDY BLVD., Jersey City, NJ</td>\n      <td>1</td>\n      <td>28</td>\n      <td>None</td>\n    </tr>\n    <tr>\n      <th>11482</th>\n      <td>3027-35 JOHN F KENNEDY BLVD.</td>\n      <td>CUENTO, PAUL S. &amp; SARAH FARGAS</td>\n      <td>11630 W. ADAMS ST.     5</td>\n      <td>AVONDALE, AZ  85323</td>\n      <td>11630 W. ADAMS ST.     5, AVONDALE, AZ  85323</td>\n      <td>3027-35 JOHN F KENNEDY BLVD., Jersey City, NJ</td>\n      <td>1</td>\n      <td>28</td>\n      <td>None</td>\n    </tr>\n    <tr>\n      <th>11483</th>\n      <td>3027-35 JOHN F KENNEDY BLVD.</td>\n      <td>KISELEVA,ALLA &amp; OZDEMIR,KEMAL S.</td>\n      <td>21 MAIN STREET</td>\n      <td>BUTLER, N.J.  07405</td>\n      <td>21 MAIN STREET, BUTLER, N.J.  07405</td>\n      <td>3027-35 JOHN F KENNEDY BLVD., Jersey City, NJ</td>\n      <td>1</td>\n      <td>28</td>\n      <td>None</td>\n    </tr>\n    <tr>\n      <th>11484</th>\n      <td>3027-35 JOHN F KENNEDY BLVD.</td>\n      <td>VALENCIA AKS, LLC</td>\n      <td>20 BRENTWOOD LN.</td>\n      <td>CRANBURY, N.J.  08512</td>\n      <td>20 BRENTWOOD LN., CRANBURY, N.J.  08512</td>\n      <td>3027-35 JOHN F KENNEDY BLVD., Jersey City, NJ</td>\n      <td>2</td>\n      <td>28</td>\n      <td>None</td>\n    </tr>\n    <tr>\n      <th>11485</th>\n      <td>3027-35 JOHN F KENNEDY BLVD.</td>\n      <td>ROJANKOVSKI, IOURI</td>\n      <td>3029 KENNEDY BLVD.#52</td>\n      <td>JERSEY CITY, NJ  07306</td>\n      <td>3029 KENNEDY BLVD.#52, JERSEY CITY, NJ  07306</td>\n      <td>3027-35 JOHN F KENNEDY BLVD., Jersey City, NJ</td>\n      <td>1</td>\n      <td>28</td>\n      <td>None</td>\n    </tr>\n    <tr>\n      <th>11486</th>\n      <td>3027-35 JOHN F KENNEDY BLVD.</td>\n      <td>MONTELEONE, VINCENT A. &amp; JACQUELINE</td>\n      <td>217 NEWARK AVE., #501</td>\n      <td>JERSEY CITY, NJ  07302</td>\n      <td>217 NEWARK AVE., #501, JERSEY CITY, NJ  07302</td>\n      <td>3027-35 JOHN F KENNEDY BLVD., Jersey City, NJ</td>\n      <td>1</td>\n      <td>28</td>\n      <td>None</td>\n    </tr>\n    <tr>\n      <th>11487</th>\n      <td>3027-35 JOHN F KENNEDY BLVD.</td>\n      <td>GILL, JACOB</td>\n      <td>6 HAWTHORNE LANE</td>\n      <td>LAWRENCE, N.Y.  11559</td>\n      <td>6 HAWTHORNE LANE, LAWRENCE, N.Y.  11559</td>\n      <td>3027-35 JOHN F KENNEDY BLVD., Jersey City, NJ</td>\n      <td>1</td>\n      <td>28</td>\n      <td>None</td>\n    </tr>\n    <tr>\n      <th>11488</th>\n      <td>3027-35 JOHN F KENNEDY BLVD.</td>\n      <td>KISELEVA,ALLA &amp; OZDEMIR,KEMAL</td>\n      <td>3027-35 KENNEDY BLVD#55</td>\n      <td>JERSEY CITY, NJ  07306</td>\n      <td>3027-35 KENNEDY BLVD#55, JERSEY CITY, NJ  07306</td>\n      <td>3027-35 JOHN F KENNEDY BLVD., Jersey City, NJ</td>\n      <td>1</td>\n      <td>28</td>\n      <td>None</td>\n    </tr>\n    <tr>\n      <th>11489</th>\n      <td>3027-35 JOHN F KENNEDY BLVD.</td>\n      <td>SANTOS LEGACY, LLC</td>\n      <td>114 LEXINGTON AVE.</td>\n      <td>JERSEY CITY, N.J.  07304</td>\n      <td>114 LEXINGTON AVE., JERSEY CITY, N.J.  07304</td>\n      <td>3027-35 JOHN F KENNEDY BLVD., Jersey City, NJ</td>\n      <td>4</td>\n      <td>28</td>\n      <td>None</td>\n    </tr>\n  </tbody>\n</table>\n</div>"
     },
     "metadata": {},
     "execution_count": 31
    }
   ],
   "source": [
    "errors_df.iloc[geocode_errors].head(50)"
   ]
  },
  {
   "cell_type": "code",
   "execution_count": 32,
   "metadata": {},
   "outputs": [],
   "source": []
  },
  {
   "cell_type": "code",
   "execution_count": 117,
   "metadata": {},
   "outputs": [],
   "source": [
    "#errors_df.to_pickle('errors_df.pkl')"
   ]
  },
  {
   "cell_type": "code",
   "execution_count": 36,
   "metadata": {},
   "outputs": [],
   "source": [
    "df_geocode_errors = [i for i,e in enumerate(df.gCode) if e == None]"
   ]
  },
  {
   "cell_type": "code",
   "execution_count": 38,
   "metadata": {},
   "outputs": [
    {
     "output_type": "execute_result",
     "data": {
      "text/plain": [
       "                propertyLocation                     ownersName  ... units gCode\n",
       "12              653 LIBERTY AVE.               CICCARELLI, MARC  ...     1  None\n",
       "112    3709 JOHN F KENNEDY BLVD.               CARLTON URF, LLC  ...     1  None\n",
       "113    3707 JOHN F KENNEDY BLVD.           K & R REALTY 183 LLC  ...     1  None\n",
       "114    3705 JOHN F KENNEDY BLVD.                K R HEIGHTS LLC  ...     1  None\n",
       "115    3703 JOHN F KENNEDY BLVD.                K R HEIGHTS LLC  ...     1  None\n",
       "...                          ...                            ...  ...   ...   ...\n",
       "40786             162 OLD BERGEN      162 OLD BERGEN AVE., LLC.  ...     1  None\n",
       "41496  1524 JOHN F KENNEDY BLVD.             FERNANDES, SHONNON  ...     1  None\n",
       "41497  1526 JOHN F KENNEDY BLVD.           SOLIMAN, AIDA NAGEEB  ...     1  None\n",
       "41498  1528 JOHN F KENNEDY BLVD.                    SALIB, HANY  ...     1  None\n",
       "41499  1532 JOHN F KENNEDY BLVD.  GEELONG, LLC % DIXON ADVISORY  ...     1  None\n",
       "\n",
       "[4174 rows x 9 columns]"
      ],
      "text/html": "<div>\n<style scoped>\n    .dataframe tbody tr th:only-of-type {\n        vertical-align: middle;\n    }\n\n    .dataframe tbody tr th {\n        vertical-align: top;\n    }\n\n    .dataframe thead th {\n        text-align: right;\n    }\n</style>\n<table border=\"1\" class=\"dataframe\">\n  <thead>\n    <tr style=\"text-align: right;\">\n      <th></th>\n      <th>propertyLocation</th>\n      <th>ownersName</th>\n      <th>ownersMailingAddress</th>\n      <th>cityStateZip</th>\n      <th>ownersFullMailingAddress</th>\n      <th>propertyFullAddress</th>\n      <th>propertiesOwned</th>\n      <th>units</th>\n      <th>gCode</th>\n    </tr>\n  </thead>\n  <tbody>\n    <tr>\n      <th>12</th>\n      <td>653 LIBERTY AVE.</td>\n      <td>CICCARELLI, MARC</td>\n      <td>308 LAGOON DR.</td>\n      <td>COPIAQUE, NY  11726</td>\n      <td>308 LAGOON DR., COPIAQUE, NY  11726</td>\n      <td>653 LIBERTY ST. Jersey City, NJ</td>\n      <td>1</td>\n      <td>1</td>\n      <td>None</td>\n    </tr>\n    <tr>\n      <th>112</th>\n      <td>3709 JOHN F KENNEDY BLVD.</td>\n      <td>CARLTON URF, LLC</td>\n      <td>1000 PLAZA 2, 10 FL</td>\n      <td>JERSEY CITY, NJ  07311</td>\n      <td>1000 PLAZA 2, 10 FL, JERSEY CITY, NJ  07311</td>\n      <td>3709 KENNEDY BLVD. Jersey City, NJ</td>\n      <td>7</td>\n      <td>1</td>\n      <td>None</td>\n    </tr>\n    <tr>\n      <th>113</th>\n      <td>3707 JOHN F KENNEDY BLVD.</td>\n      <td>K &amp; R REALTY 183 LLC</td>\n      <td>P.O. BOX 4443</td>\n      <td>WARREN, NJ  07059</td>\n      <td>P.O. BOX 4443, WARREN, NJ  07059</td>\n      <td>3707 KENNEDY BLVD. Jersey City, NJ</td>\n      <td>1</td>\n      <td>1</td>\n      <td>None</td>\n    </tr>\n    <tr>\n      <th>114</th>\n      <td>3705 JOHN F KENNEDY BLVD.</td>\n      <td>K R HEIGHTS LLC</td>\n      <td>P.O. BOX 4443</td>\n      <td>WARREN, NJ  07059</td>\n      <td>P.O. BOX 4443, WARREN, NJ  07059</td>\n      <td>3705 KENNEDY BLVD. Jersey City, NJ</td>\n      <td>2</td>\n      <td>1</td>\n      <td>None</td>\n    </tr>\n    <tr>\n      <th>115</th>\n      <td>3703 JOHN F KENNEDY BLVD.</td>\n      <td>K R HEIGHTS LLC</td>\n      <td>P.O. BOX 4443</td>\n      <td>WARREN, NJ  07059</td>\n      <td>P.O. BOX 4443, WARREN, NJ  07059</td>\n      <td>3703 KENNEDY BLVD. Jersey City, NJ</td>\n      <td>2</td>\n      <td>1</td>\n      <td>None</td>\n    </tr>\n    <tr>\n      <th>...</th>\n      <td>...</td>\n      <td>...</td>\n      <td>...</td>\n      <td>...</td>\n      <td>...</td>\n      <td>...</td>\n      <td>...</td>\n      <td>...</td>\n      <td>...</td>\n    </tr>\n    <tr>\n      <th>40786</th>\n      <td>162 OLD BERGEN</td>\n      <td>162 OLD BERGEN AVE., LLC.</td>\n      <td>96 ARLINGTON AVE.</td>\n      <td>JERSEY CITY, NJ  07305</td>\n      <td>96 ARLINGTON AVE., JERSEY CITY, NJ  07305</td>\n      <td>162 OLD BERGEN Jersey City, NJ</td>\n      <td>1</td>\n      <td>1</td>\n      <td>None</td>\n    </tr>\n    <tr>\n      <th>41496</th>\n      <td>1524 JOHN F KENNEDY BLVD.</td>\n      <td>FERNANDES, SHONNON</td>\n      <td>1524 KENNEDY BLVD.</td>\n      <td>JERSEY CITY, N.J.  07305</td>\n      <td>1524 KENNEDY BLVD., JERSEY CITY, N.J.  07305</td>\n      <td>1524 KENNEDY BLVD. Jersey City, NJ</td>\n      <td>1</td>\n      <td>1</td>\n      <td>None</td>\n    </tr>\n    <tr>\n      <th>41497</th>\n      <td>1526 JOHN F KENNEDY BLVD.</td>\n      <td>SOLIMAN, AIDA NAGEEB</td>\n      <td>1526 KENNEDY BLVD.</td>\n      <td>JERSEY CITY, N.J.  07306</td>\n      <td>1526 KENNEDY BLVD., JERSEY CITY, N.J.  07306</td>\n      <td>1526 KENNEDY BLVD. Jersey City, NJ</td>\n      <td>1</td>\n      <td>1</td>\n      <td>None</td>\n    </tr>\n    <tr>\n      <th>41498</th>\n      <td>1528 JOHN F KENNEDY BLVD.</td>\n      <td>SALIB, HANY</td>\n      <td>1528 KENNEDY BLVD.</td>\n      <td>JERSEY CITY, NJ  07305</td>\n      <td>1528 KENNEDY BLVD., JERSEY CITY, NJ  07305</td>\n      <td>1528 KENNEDY BLVD. Jersey City, NJ</td>\n      <td>1</td>\n      <td>1</td>\n      <td>None</td>\n    </tr>\n    <tr>\n      <th>41499</th>\n      <td>1532 JOHN F KENNEDY BLVD.</td>\n      <td>GEELONG, LLC % DIXON ADVISORY</td>\n      <td>1000 PLAZA 2, 10 FL</td>\n      <td>JERSEY CITY, NJ  07311</td>\n      <td>1000 PLAZA 2, 10 FL, JERSEY CITY, NJ  07311</td>\n      <td>1532 KENNEDY BLVD. Jersey City, NJ</td>\n      <td>19</td>\n      <td>1</td>\n      <td>None</td>\n    </tr>\n  </tbody>\n</table>\n<p>4174 rows × 9 columns</p>\n</div>"
     },
     "metadata": {},
     "execution_count": 38
    }
   ],
   "source": [
    "df.iloc[df_geocode_errors]"
   ]
  },
  {
   "cell_type": "code",
   "execution_count": 5,
   "metadata": {},
   "outputs": [
    {
     "output_type": "execute_result",
     "data": {
      "text/plain": [
       "                propertyLocation                     ownersName  \\\n",
       "12              653 LIBERTY AVE.               CICCARELLI, MARC   \n",
       "112    3709 JOHN F KENNEDY BLVD.               CARLTON URF, LLC   \n",
       "113    3707 JOHN F KENNEDY BLVD.           K & R REALTY 183 LLC   \n",
       "114    3705 JOHN F KENNEDY BLVD.                K R HEIGHTS LLC   \n",
       "115    3703 JOHN F KENNEDY BLVD.                K R HEIGHTS LLC   \n",
       "...                          ...                            ...   \n",
       "40786             162 OLD BERGEN      162 OLD BERGEN AVE., LLC.   \n",
       "41496  1524 JOHN F KENNEDY BLVD.             FERNANDES, SHONNON   \n",
       "41497  1526 JOHN F KENNEDY BLVD.           SOLIMAN, AIDA NAGEEB   \n",
       "41498  1528 JOHN F KENNEDY BLVD.                    SALIB, HANY   \n",
       "41499  1532 JOHN F KENNEDY BLVD.  GEELONG, LLC % DIXON ADVISORY   \n",
       "\n",
       "      ownersMailingAddress              cityStateZip  \\\n",
       "12          308 LAGOON DR.       COPIAQUE, NY  11726   \n",
       "112    1000 PLAZA 2, 10 FL    JERSEY CITY, NJ  07311   \n",
       "113          P.O. BOX 4443         WARREN, NJ  07059   \n",
       "114          P.O. BOX 4443         WARREN, NJ  07059   \n",
       "115          P.O. BOX 4443         WARREN, NJ  07059   \n",
       "...                    ...                       ...   \n",
       "40786    96 ARLINGTON AVE.    JERSEY CITY, NJ  07305   \n",
       "41496   1524 KENNEDY BLVD.  JERSEY CITY, N.J.  07305   \n",
       "41497   1526 KENNEDY BLVD.  JERSEY CITY, N.J.  07306   \n",
       "41498   1528 KENNEDY BLVD.    JERSEY CITY, NJ  07305   \n",
       "41499  1000 PLAZA 2, 10 FL    JERSEY CITY, NJ  07311   \n",
       "\n",
       "                           ownersFullMailingAddress  \\\n",
       "12              308 LAGOON DR., COPIAQUE, NY  11726   \n",
       "112     1000 PLAZA 2, 10 FL, JERSEY CITY, NJ  07311   \n",
       "113                P.O. BOX 4443, WARREN, NJ  07059   \n",
       "114                P.O. BOX 4443, WARREN, NJ  07059   \n",
       "115                P.O. BOX 4443, WARREN, NJ  07059   \n",
       "...                                             ...   \n",
       "40786     96 ARLINGTON AVE., JERSEY CITY, NJ  07305   \n",
       "41496  1524 KENNEDY BLVD., JERSEY CITY, N.J.  07305   \n",
       "41497  1526 KENNEDY BLVD., JERSEY CITY, N.J.  07306   \n",
       "41498    1528 KENNEDY BLVD., JERSEY CITY, NJ  07305   \n",
       "41499   1000 PLAZA 2, 10 FL, JERSEY CITY, NJ  07311   \n",
       "\n",
       "                              propertyFullAddress  propertiesOwned  units  \\\n",
       "12              653 LIBERTY AVE., Jersey City, NJ                1      1   \n",
       "112    3709 JOHN F KENNEDY BLVD., Jersey City, NJ                7      1   \n",
       "113    3707 JOHN F KENNEDY BLVD., Jersey City, NJ                1      1   \n",
       "114    3705 JOHN F KENNEDY BLVD., Jersey City, NJ                2      1   \n",
       "115    3703 JOHN F KENNEDY BLVD., Jersey City, NJ                2      1   \n",
       "...                                           ...              ...    ...   \n",
       "40786             162 OLD BERGEN, Jersey City, NJ                1      1   \n",
       "41496  1524 JOHN F KENNEDY BLVD., Jersey City, NJ                1      1   \n",
       "41497  1526 JOHN F KENNEDY BLVD., Jersey City, NJ                1      1   \n",
       "41498  1528 JOHN F KENNEDY BLVD., Jersey City, NJ                1      1   \n",
       "41499  1532 JOHN F KENNEDY BLVD., Jersey City, NJ               19      1   \n",
       "\n",
       "                                                   gCode  \n",
       "12     (653, Liberty Avenue, Jersey City, Hudson Coun...  \n",
       "112    (John F. Kennedy Boulevard, Greenville, Jersey...  \n",
       "113    (John F. Kennedy Boulevard, Greenville, Jersey...  \n",
       "114    (John F. Kennedy Boulevard, Greenville, Jersey...  \n",
       "115    (John F. Kennedy Boulevard, Greenville, Jersey...  \n",
       "...                                                  ...  \n",
       "40786                                               None  \n",
       "41496  (John F. Kennedy Boulevard, Greenville, Jersey...  \n",
       "41497  (John F. Kennedy Boulevard, Greenville, Jersey...  \n",
       "41498  (John F. Kennedy Boulevard, Greenville, Jersey...  \n",
       "41499  (John F. Kennedy Boulevard, Greenville, Jersey...  \n",
       "\n",
       "[4174 rows x 9 columns]"
      ],
      "text/html": "<div>\n<style scoped>\n    .dataframe tbody tr th:only-of-type {\n        vertical-align: middle;\n    }\n\n    .dataframe tbody tr th {\n        vertical-align: top;\n    }\n\n    .dataframe thead th {\n        text-align: right;\n    }\n</style>\n<table border=\"1\" class=\"dataframe\">\n  <thead>\n    <tr style=\"text-align: right;\">\n      <th></th>\n      <th>propertyLocation</th>\n      <th>ownersName</th>\n      <th>ownersMailingAddress</th>\n      <th>cityStateZip</th>\n      <th>ownersFullMailingAddress</th>\n      <th>propertyFullAddress</th>\n      <th>propertiesOwned</th>\n      <th>units</th>\n      <th>gCode</th>\n    </tr>\n  </thead>\n  <tbody>\n    <tr>\n      <th>12</th>\n      <td>653 LIBERTY AVE.</td>\n      <td>CICCARELLI, MARC</td>\n      <td>308 LAGOON DR.</td>\n      <td>COPIAQUE, NY  11726</td>\n      <td>308 LAGOON DR., COPIAQUE, NY  11726</td>\n      <td>653 LIBERTY AVE., Jersey City, NJ</td>\n      <td>1</td>\n      <td>1</td>\n      <td>(653, Liberty Avenue, Jersey City, Hudson Coun...</td>\n    </tr>\n    <tr>\n      <th>112</th>\n      <td>3709 JOHN F KENNEDY BLVD.</td>\n      <td>CARLTON URF, LLC</td>\n      <td>1000 PLAZA 2, 10 FL</td>\n      <td>JERSEY CITY, NJ  07311</td>\n      <td>1000 PLAZA 2, 10 FL, JERSEY CITY, NJ  07311</td>\n      <td>3709 JOHN F KENNEDY BLVD., Jersey City, NJ</td>\n      <td>7</td>\n      <td>1</td>\n      <td>(John F. Kennedy Boulevard, Greenville, Jersey...</td>\n    </tr>\n    <tr>\n      <th>113</th>\n      <td>3707 JOHN F KENNEDY BLVD.</td>\n      <td>K &amp; R REALTY 183 LLC</td>\n      <td>P.O. BOX 4443</td>\n      <td>WARREN, NJ  07059</td>\n      <td>P.O. BOX 4443, WARREN, NJ  07059</td>\n      <td>3707 JOHN F KENNEDY BLVD., Jersey City, NJ</td>\n      <td>1</td>\n      <td>1</td>\n      <td>(John F. Kennedy Boulevard, Greenville, Jersey...</td>\n    </tr>\n    <tr>\n      <th>114</th>\n      <td>3705 JOHN F KENNEDY BLVD.</td>\n      <td>K R HEIGHTS LLC</td>\n      <td>P.O. BOX 4443</td>\n      <td>WARREN, NJ  07059</td>\n      <td>P.O. BOX 4443, WARREN, NJ  07059</td>\n      <td>3705 JOHN F KENNEDY BLVD., Jersey City, NJ</td>\n      <td>2</td>\n      <td>1</td>\n      <td>(John F. Kennedy Boulevard, Greenville, Jersey...</td>\n    </tr>\n    <tr>\n      <th>115</th>\n      <td>3703 JOHN F KENNEDY BLVD.</td>\n      <td>K R HEIGHTS LLC</td>\n      <td>P.O. BOX 4443</td>\n      <td>WARREN, NJ  07059</td>\n      <td>P.O. BOX 4443, WARREN, NJ  07059</td>\n      <td>3703 JOHN F KENNEDY BLVD., Jersey City, NJ</td>\n      <td>2</td>\n      <td>1</td>\n      <td>(John F. Kennedy Boulevard, Greenville, Jersey...</td>\n    </tr>\n    <tr>\n      <th>...</th>\n      <td>...</td>\n      <td>...</td>\n      <td>...</td>\n      <td>...</td>\n      <td>...</td>\n      <td>...</td>\n      <td>...</td>\n      <td>...</td>\n      <td>...</td>\n    </tr>\n    <tr>\n      <th>40786</th>\n      <td>162 OLD BERGEN</td>\n      <td>162 OLD BERGEN AVE., LLC.</td>\n      <td>96 ARLINGTON AVE.</td>\n      <td>JERSEY CITY, NJ  07305</td>\n      <td>96 ARLINGTON AVE., JERSEY CITY, NJ  07305</td>\n      <td>162 OLD BERGEN, Jersey City, NJ</td>\n      <td>1</td>\n      <td>1</td>\n      <td>None</td>\n    </tr>\n    <tr>\n      <th>41496</th>\n      <td>1524 JOHN F KENNEDY BLVD.</td>\n      <td>FERNANDES, SHONNON</td>\n      <td>1524 KENNEDY BLVD.</td>\n      <td>JERSEY CITY, N.J.  07305</td>\n      <td>1524 KENNEDY BLVD., JERSEY CITY, N.J.  07305</td>\n      <td>1524 JOHN F KENNEDY BLVD., Jersey City, NJ</td>\n      <td>1</td>\n      <td>1</td>\n      <td>(John F. Kennedy Boulevard, Greenville, Jersey...</td>\n    </tr>\n    <tr>\n      <th>41497</th>\n      <td>1526 JOHN F KENNEDY BLVD.</td>\n      <td>SOLIMAN, AIDA NAGEEB</td>\n      <td>1526 KENNEDY BLVD.</td>\n      <td>JERSEY CITY, N.J.  07306</td>\n      <td>1526 KENNEDY BLVD., JERSEY CITY, N.J.  07306</td>\n      <td>1526 JOHN F KENNEDY BLVD., Jersey City, NJ</td>\n      <td>1</td>\n      <td>1</td>\n      <td>(John F. Kennedy Boulevard, Greenville, Jersey...</td>\n    </tr>\n    <tr>\n      <th>41498</th>\n      <td>1528 JOHN F KENNEDY BLVD.</td>\n      <td>SALIB, HANY</td>\n      <td>1528 KENNEDY BLVD.</td>\n      <td>JERSEY CITY, NJ  07305</td>\n      <td>1528 KENNEDY BLVD., JERSEY CITY, NJ  07305</td>\n      <td>1528 JOHN F KENNEDY BLVD., Jersey City, NJ</td>\n      <td>1</td>\n      <td>1</td>\n      <td>(John F. Kennedy Boulevard, Greenville, Jersey...</td>\n    </tr>\n    <tr>\n      <th>41499</th>\n      <td>1532 JOHN F KENNEDY BLVD.</td>\n      <td>GEELONG, LLC % DIXON ADVISORY</td>\n      <td>1000 PLAZA 2, 10 FL</td>\n      <td>JERSEY CITY, NJ  07311</td>\n      <td>1000 PLAZA 2, 10 FL, JERSEY CITY, NJ  07311</td>\n      <td>1532 JOHN F KENNEDY BLVD., Jersey City, NJ</td>\n      <td>19</td>\n      <td>1</td>\n      <td>(John F. Kennedy Boulevard, Greenville, Jersey...</td>\n    </tr>\n  </tbody>\n</table>\n<p>4174 rows × 9 columns</p>\n</div>"
     },
     "metadata": {},
     "execution_count": 5
    }
   ],
   "source": [
    "errors_df"
   ]
  },
  {
   "cell_type": "code",
   "execution_count": 40,
   "metadata": {},
   "outputs": [
    {
     "output_type": "execute_result",
     "data": {
      "text/plain": [
       "                 propertyLocation                      ownersName  ... units gCode\n",
       "648           274-76 COLUMBIA AVE        PERSAUD, PURAN & ANJAALI  ...     1  None\n",
       "797    3633A JOHN F KENNEDY BLVD.            SCALIA HOLDINGS, LLC  ...     1  None\n",
       "1667         1074-1080 SUMMIT AVE               1074 SUMMIT, LLC.  ...     1  None\n",
       "1821     19 PATERSON STREET -REAR                     BIRN, SUSAN  ...     1  None\n",
       "2529            78A-80 THORNE ST.  MITTAL,CHITRA KOTHARI & DEEPAK  ...     1  None\n",
       "...                           ...                             ...  ...   ...   ...\n",
       "38815         4 CONSTELLATION PL.                 PRAKASH, NIKHIL  ...    29  None\n",
       "38817         4 CONSTELLATION PL.         DOBSON, MABLE E & TANYA  ...    29  None\n",
       "38820         4 CONSTELLATION PL.            BANDYOPADHYAY, RAHUL  ...    29  None\n",
       "40216        12 DANFORTH AVE. THO      RIVERA, CARMEN & MAGDALENA  ...     1  None\n",
       "40786              162 OLD BERGEN       162 OLD BERGEN AVE., LLC.  ...     1  None\n",
       "\n",
       "[236 rows x 9 columns]"
      ],
      "text/html": "<div>\n<style scoped>\n    .dataframe tbody tr th:only-of-type {\n        vertical-align: middle;\n    }\n\n    .dataframe tbody tr th {\n        vertical-align: top;\n    }\n\n    .dataframe thead th {\n        text-align: right;\n    }\n</style>\n<table border=\"1\" class=\"dataframe\">\n  <thead>\n    <tr style=\"text-align: right;\">\n      <th></th>\n      <th>propertyLocation</th>\n      <th>ownersName</th>\n      <th>ownersMailingAddress</th>\n      <th>cityStateZip</th>\n      <th>ownersFullMailingAddress</th>\n      <th>propertyFullAddress</th>\n      <th>propertiesOwned</th>\n      <th>units</th>\n      <th>gCode</th>\n    </tr>\n  </thead>\n  <tbody>\n    <tr>\n      <th>648</th>\n      <td>274-76 COLUMBIA AVE</td>\n      <td>PERSAUD, PURAN &amp; ANJAALI</td>\n      <td>274-276 COLUMBIA AVENUE</td>\n      <td>JERSEY CITY,N.J.  07307</td>\n      <td>274-276 COLUMBIA AVENUE, JERSEY CITY,N.J.  07307</td>\n      <td>274-76 COLUMBIA AVE, Jersey City, NJ</td>\n      <td>6</td>\n      <td>1</td>\n      <td>None</td>\n    </tr>\n    <tr>\n      <th>797</th>\n      <td>3633A JOHN F KENNEDY BLVD.</td>\n      <td>SCALIA HOLDINGS, LLC</td>\n      <td>264 CENTRAL AVE.</td>\n      <td>JERSEY CITY, NJ  07307</td>\n      <td>264 CENTRAL AVE., JERSEY CITY, NJ  07307</td>\n      <td>3633A JOHN F KENNEDY BLVD., Jersey City, NJ</td>\n      <td>5</td>\n      <td>1</td>\n      <td>None</td>\n    </tr>\n    <tr>\n      <th>1667</th>\n      <td>1074-1080 SUMMIT AVE</td>\n      <td>1074 SUMMIT, LLC.</td>\n      <td>10 FULTON ST</td>\n      <td>WEEHAWKEN, NJ  07086</td>\n      <td>10 FULTON ST, WEEHAWKEN, NJ  07086</td>\n      <td>1074-1080 SUMMIT AVE, Jersey City, NJ</td>\n      <td>1</td>\n      <td>1</td>\n      <td>None</td>\n    </tr>\n    <tr>\n      <th>1821</th>\n      <td>19 PATERSON STREET -REAR</td>\n      <td>BIRN, SUSAN</td>\n      <td>19 PATERSON STREET-REAR</td>\n      <td>JERSEY CITY, N.J.  07307</td>\n      <td>19 PATERSON STREET-REAR, JERSEY CITY, N.J.  07307</td>\n      <td>19 PATERSON STREET -REAR, Jersey City, NJ</td>\n      <td>1</td>\n      <td>1</td>\n      <td>None</td>\n    </tr>\n    <tr>\n      <th>2529</th>\n      <td>78A-80 THORNE ST.</td>\n      <td>MITTAL,CHITRA KOTHARI &amp; DEEPAK</td>\n      <td>76 CONSTITUTION WAY</td>\n      <td>JERSEY CITY, N.J.  07302</td>\n      <td>76 CONSTITUTION WAY, JERSEY CITY, N.J.  07302</td>\n      <td>78A-80 THORNE ST., Jersey City, NJ</td>\n      <td>1</td>\n      <td>1</td>\n      <td>None</td>\n    </tr>\n    <tr>\n      <th>...</th>\n      <td>...</td>\n      <td>...</td>\n      <td>...</td>\n      <td>...</td>\n      <td>...</td>\n      <td>...</td>\n      <td>...</td>\n      <td>...</td>\n      <td>...</td>\n    </tr>\n    <tr>\n      <th>38815</th>\n      <td>4 CONSTELLATION PL.</td>\n      <td>PRAKASH, NIKHIL</td>\n      <td>4 CONSTELLATION PL.,#404</td>\n      <td>JERSEY CITY,  NJ  07305</td>\n      <td>4 CONSTELLATION PL.,#404, JERSEY CITY,  NJ  07305</td>\n      <td>4 CONSTELLATION PL., Jersey City, NJ</td>\n      <td>1</td>\n      <td>29</td>\n      <td>None</td>\n    </tr>\n    <tr>\n      <th>38817</th>\n      <td>4 CONSTELLATION PL.</td>\n      <td>DOBSON, MABLE E &amp; TANYA</td>\n      <td>2 BUCKS LN.</td>\n      <td>MARLBORO, NJ  07746</td>\n      <td>2 BUCKS LN., MARLBORO, NJ  07746</td>\n      <td>4 CONSTELLATION PL., Jersey City, NJ</td>\n      <td>1</td>\n      <td>29</td>\n      <td>None</td>\n    </tr>\n    <tr>\n      <th>38820</th>\n      <td>4 CONSTELLATION PL.</td>\n      <td>BANDYOPADHYAY, RAHUL</td>\n      <td>806 MORRIS TPKE APT 1A</td>\n      <td>SHORT HILLS, NJ  07078</td>\n      <td>806 MORRIS TPKE APT 1A, SHORT HILLS, NJ  07078</td>\n      <td>4 CONSTELLATION PL., Jersey City, NJ</td>\n      <td>1</td>\n      <td>29</td>\n      <td>None</td>\n    </tr>\n    <tr>\n      <th>40216</th>\n      <td>12 DANFORTH AVE. THO</td>\n      <td>RIVERA, CARMEN &amp; MAGDALENA</td>\n      <td>12 DANFORTH AVE.</td>\n      <td>JERSEY CITY, NJ  07305</td>\n      <td>12 DANFORTH AVE., JERSEY CITY, NJ  07305</td>\n      <td>12 DANFORTH AVE. THO, Jersey City, NJ</td>\n      <td>1</td>\n      <td>1</td>\n      <td>None</td>\n    </tr>\n    <tr>\n      <th>40786</th>\n      <td>162 OLD BERGEN</td>\n      <td>162 OLD BERGEN AVE., LLC.</td>\n      <td>96 ARLINGTON AVE.</td>\n      <td>JERSEY CITY, NJ  07305</td>\n      <td>96 ARLINGTON AVE., JERSEY CITY, NJ  07305</td>\n      <td>162 OLD BERGEN, Jersey City, NJ</td>\n      <td>1</td>\n      <td>1</td>\n      <td>None</td>\n    </tr>\n  </tbody>\n</table>\n<p>236 rows × 9 columns</p>\n</div>"
     },
     "metadata": {},
     "execution_count": 40
    }
   ],
   "source": [
    "errors_df.iloc[geocode_errors]"
   ]
  },
  {
   "cell_type": "code",
   "execution_count": 19,
   "metadata": {},
   "outputs": [],
   "source": [
    "# reassigning the dataframe to only geocoded addresses\n",
    "df = df.append(errors_df.dropna(axis=0, subset=['gCode']))"
   ]
  },
  {
   "cell_type": "code",
   "execution_count": 22,
   "metadata": {},
   "outputs": [],
   "source": [
    "# reassigning the errors_df to the remaining errors\n",
    "errors_df = errors_df.iloc[geocode_errors]"
   ]
  },
  {
   "cell_type": "code",
   "execution_count": 29,
   "metadata": {},
   "outputs": [],
   "source": [
    "df['latitude'] = [g.latitude for g in df.gCode]\n",
    "df['longitude'] = [g.longitude for g in df.gCode]"
   ]
  },
  {
   "cell_type": "code",
   "execution_count": 31,
   "metadata": {},
   "outputs": [],
   "source": [
    "df.to_pickle('JC_residential.pkl')\n",
    "errors_df('errors_df.pkl')"
   ]
  },
  {
   "cell_type": "code",
   "execution_count": 34,
   "metadata": {},
   "outputs": [],
   "source": [
    "df.to_csv('JC_residential.csv', index=None)"
   ]
  }
 ]
}