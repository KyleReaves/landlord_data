{
 "metadata": {
  "orig_nbformat": 4,
  "kernelspec": {
   "name": "python3",
   "display_name": "Python 3.9.6",
   "language": "python"
  },
  "interpreter": {
   "hash": "ac2eaa0ea0ebeafcc7822e65e46aa9d4f966f30b695406963e145ea4a91cd4fc"
  }
 },
 "nbformat": 4,
 "nbformat_minor": 2,
 "cells": [
  {
   "source": [
    "## Cleaning and Normalization"
   ],
   "cell_type": "markdown",
   "metadata": {}
  },
  {
   "cell_type": "code",
   "execution_count": 59,
   "metadata": {},
   "outputs": [],
   "source": [
    "import pandas as pd \n",
    "import numpy as np\n",
    "from geopy.geocoders import Nominatim\n",
    "from geopy.extra.rate_limiter import RateLimiter\n",
    "geolocator = Nominatim(user_agent=\"myGeolocator\", timeout=2)\n",
    "\n",
    "# loading saved objects into dataframe\n",
    "df = pd.read_pickle('JC_residential.pkl')\n",
    "errors_df = pd.read_pickle('errors_df.pkl')\n",
    "\n",
    "# number of times owner appears in second column\n",
    "def propertiesOwned(owner=str):\n",
    "    return len(df[df.ownersName == owner])\n",
    "\n",
    "# number of times property appears in first column\n",
    "def propertyAppearances(address=str): \n",
    "    return len(df[df.propertyLocation == address])\n",
    "\n",
    "df['ownersFullMailingAddress'] = df['ownersMailingAddress'] + ', ' + df.cityStateZip\n",
    "df['propertyFullAddress'] = df.propertyLocation + ' Jersey City, NJ'\n"
   ]
  },
  {
   "cell_type": "code",
   "execution_count": 61,
   "metadata": {},
   "outputs": [],
   "source": [
    "geocode_errors = [i for i,e in enumerate(errors_df.gCode) if e == None]"
   ]
  },
  {
   "cell_type": "code",
   "execution_count": 62,
   "metadata": {},
   "outputs": [
    {
     "output_type": "execute_result",
     "data": {
      "text/plain": [
       "50"
      ]
     },
     "metadata": {},
     "execution_count": 62
    }
   ],
   "source": [
    "len(geocode_errors)"
   ]
  },
  {
   "cell_type": "code",
   "execution_count": 63,
   "metadata": {},
   "outputs": [
    {
     "output_type": "execute_result",
     "data": {
      "text/plain": [
       "             propertyLocation                           ownersName  \\\n",
       "2529              78A RNE ST.       MITTAL,CHITRA KOTHARI & DEEPAK   \n",
       "19294         10 PAULMIER PL.     DOWLING, JAMES PATRICK & TOBY K.   \n",
       "19691  280 GREGORY PARK PLAZA    METROPOLIS TOWERS APT. CORP. MGT.   \n",
       "19692  270 GREGORY PARK PLAZA    METROPOLIS TOWERS APT. CORP. MGT.   \n",
       "32583        32 WILKINSON ST.                   HARIKRISHAN, HARRY   \n",
       "36106          1 BUTTRNUT ST.                 WONG, MARIA YUEN FAN   \n",
       "36107          2 BUTTRNUT ST.                  WISINEWSKI, MICHAEL   \n",
       "36108          3 BUTTRNUT ST.                   SCHILLINGS, MARCUS   \n",
       "36109          4 BUTTRNUT ST.    BATULE,MANUEL & MADELENE TRUSTEES   \n",
       "36110          5 BUTTRNUT ST.                    DARDEN, STEVEN E.   \n",
       "36111          6 BUTTRNUT ST.                        SHETH, VARSHA   \n",
       "36112          7 BUTTRNUT ST.                 JOHN,DEVON & NIKISHA   \n",
       "36113          8 BUTTRNUT ST.         HORSFORD, CHRISTINE VERONICA   \n",
       "36114          9 BUTTRNUT ST.                        ROGERS, SCOTT   \n",
       "36115         10 BUTTRNUT ST.                   MORRIS, BELINDA A.   \n",
       "36116         11 BUTTRNUT ST.                            FU, LITAO   \n",
       "36139         12 BUTTRNUT ST.          LIM, GEORGE C. & LAINNIE O.   \n",
       "36140         13 BUTTRNUT ST.                 O'DONNELL, EILEEN P.   \n",
       "36141         14 BUTTRNUT ST.         FERRERAS, EMILIO & FRANCISCA   \n",
       "36142         15 BUTTRNUT ST.                      CHACKO, LUCY P.   \n",
       "36143         16 BUTTRNUT ST.        PORRAS-CARRILLO,J. & CRISTIAN   \n",
       "36144         17 BUTTRNUT ST.                           ADDO, NANA   \n",
       "36145         18 BUTTRNUT ST.                            HA, LINKY   \n",
       "36146         19 BUTTRNUT ST.                     PETROSKY, EDWARD   \n",
       "36147         20 BUTTRNUT ST.                 MAHALINGAPPA, KOKILA   \n",
       "36148         21 BUTTRNUT ST.                     ARREZA , RENO M.   \n",
       "36149         22 BUTTRNUT ST.     IRIZARRY, MIGUEL & GAIL MERCADER   \n",
       "36225          2 CARPENTR CT.         O'CONNOR, DOREEN E.& MICHAEL   \n",
       "36226          4 CARPENTR CT.                         FAULCON, KIM   \n",
       "36227          6 CARPENTR CT.                        TSAI, YUN-SAN   \n",
       "36228          8 CARPENTR CT.    NINAN, JAICKS & KUNJUMON HANNA G.   \n",
       "36229          9 CARPENTR CT.        MOSS, JOHN H. & MARIA LOURDES   \n",
       "36230          7 CARPENTR CT.            SIDDIQI, ASIM & EEMAAN A.   \n",
       "36231          5 CARPENTR CT.   KANDASAMY,BARANEETHARAN & DHINAHAR   \n",
       "36232          3 CARPENTR CT.       GOODMAN, JONATHAN & TRINH, DUC   \n",
       "36233          1 CARPENTR CT.  NARASIMHADEVARA, S.S. &CHIVUKULA, D   \n",
       "38254      107 SHEARWATER CT.    SANTANIELLO III, PHILLIP & CLAIRE   \n",
       "38258      100 SHEARWATER CT.                IOSEBASHVILI, MICHAEL   \n",
       "38259      100 SHEARWATER CT.                      SOKOLOV, EUGENE   \n",
       "38260      100 SHEARWATER CT.                    HILLER, ARTHUR H.   \n",
       "38261      100 SHEARWATER CT.                   CALLONI, THOMAS B.   \n",
       "38262      100 SHEARWATER CT.    CALLONI, GIUSPPE & VITOLO, NICOLE   \n",
       "38263      100 SHEARWATER CT.        TODDYWALLA, PHIROZE & SHEHNAZ   \n",
       "38264      100 SHEARWATER CT.                        SAYERS, ROBIN   \n",
       "38270      100 SHEARWATER CT.                     KIZER, CHRISTINA   \n",
       "38273      100 SHEARWATER CT.            BALANLAYOS, JESUS & MYRNA   \n",
       "38276      100 SHEARWATER CT.   DANGCIL, PROCERFINA & WILLIAM A JR   \n",
       "38278      100 SHEARWATER CT.                   LAWSONS REALTY,LLC   \n",
       "38279      100 SHEARWATER CT.                     NATHAN, NAVIN D.   \n",
       "38280      100 SHEARWATER CT.                HORAN, CHRISTOPHER L.   \n",
       "\n",
       "            ownersMailingAddress                      cityStateZip  \\\n",
       "2529         76 CONSTITUTION WAY          JERSEY CITY, N.J.  07302   \n",
       "19294             10 PAULMIER PL           JERSEY CITY, N J  07302   \n",
       "19691     280 GREGORY PARK PLAZA            JERSEY CITY, NJ  07302   \n",
       "19692     270 GREGORY PARK PLAZA            JERSEY CITY, NJ  07302   \n",
       "32583            23 TERHUNE AVE.            JERSEY CITY, NJ  07305   \n",
       "36106         1 BUTTERNUT STREET          JERSEY CITY, N.J.  07305   \n",
       "36107            2 BUTTERNUT ST.          JERSEY CITY, N.J.  07305   \n",
       "36108  2090 B 15TH C MAIN HAL 2S  INDIRANAGAR BANGALORE IND  26102   \n",
       "36109        6802 TIMBERVIEW CT.               LOVELAND, OH  45140   \n",
       "36110            5 BUTTERNUT ST.           JERSEY CITY,N.J.  07305   \n",
       "36111            6 BUTTERNUT ST.            JERSEY CITY, NJ  07305   \n",
       "36112            7 BUTTERNUT ST.            JERSEY CITY, NJ  07302   \n",
       "36113            8 BUTTERNUT ST.            JERSEY CITY, NJ  07305   \n",
       "36114            9 BUTTERNUT ST.            JERSEY CITY, NJ  07305   \n",
       "36115           10 BUTTERNUT ST.           JERSEY CITY,N.J.  07305   \n",
       "36116           11 BUTTERNUT ST.           JERSEY CITY,N.J.  07305   \n",
       "36139           12 BUTTERNUT ST.            JERSEY CITY, NJ  07305   \n",
       "36140           13 BUTTERNUT ST.          JERSEY CITY, N.J.  07305   \n",
       "36141            336 MILFORD AVE           NEW MILFORD , NJ  07606   \n",
       "36142        15 BUTTERNUT STREET          JERSEY CITY, N.J.  07305   \n",
       "36143          211 TREBING PLACE                  UNION, NJ  07083   \n",
       "36144        17 BUTTERNUT STREET            JERSEY CITY, NJ  07305   \n",
       "36145           18 BUTTERNUT ST.            JERSEY CITY, NJ  07305   \n",
       "36146           19 BUTTERNUT ST.            JERSEY CITY, NJ  07305   \n",
       "36147           20 BUTTERNUT ST.            JERSEY CITY, NJ  07305   \n",
       "36148           21 BUTTERNUT ST.   JERSEY CITY , NEW JERSEY  07305   \n",
       "36149           22 BUTTERNUT ST.          JERSEY CITY, N.J.  07305   \n",
       "36225           2 CARPENTIER CT.            JERSEY CITY, NJ  07305   \n",
       "36226           4 CARPENTIER CT.          JERSEY CITY, N.J.  07305   \n",
       "36227         10 REGENT ST. #217          JERSEY CITY, N.J.  07302   \n",
       "36228           8 CARPENTIER CT.          JERSEY CITY, N.J.  07305   \n",
       "36229           9 CARPENTIER CT.          JERSEY CITY, N.J.  07305   \n",
       "36230           7 CARPENTIER CT.          JERSEY CITY, N.J.  07305   \n",
       "36231           5 CARPENTIER CT.           JERSEY CITY, N.J  07305   \n",
       "36232           3 CARPENTIER CT.          JERSEY CITY, N.J.  07305   \n",
       "36233           1 CARPENTIER CT.          JERSEY CITY, N.J.  07305   \n",
       "38254         107 SHEARWATER CT.            JERSEY CITY, NJ  07305   \n",
       "38258       100-21 SEHARWATER CT            JERSEY CITY, NJ  07305   \n",
       "38259      100-22 SHEARWATER CT.            JERSEY CITY, NJ  07305   \n",
       "38260            7 WADSWORTH PL.               BARNEGAT, NJ  08005   \n",
       "38261      100-24 SHEARWATER CT.            JERSEY CITY, NJ  07305   \n",
       "38262   100-25 E. SHEARWATER CT.            JERSEY CITY, NJ  07305   \n",
       "38263  102-25E. SHEARWATER CT#26            JERSEY CITY, NJ  07305   \n",
       "38264      100-31 SHEARWATER CT.            JERSEY CITY, NJ  07305   \n",
       "38270      100-41 SHEARWATER CT.            JERSEY CITY, NJ  07305   \n",
       "38273             31 HARMONY WAY                SEWAREN, NJ  07077   \n",
       "38276    100-51 E SHEARWATER CT.            JERSEY CITY, NJ  07305   \n",
       "38278          130 SHORE RD #198        PORT WASHINGTON, NY  11050   \n",
       "38279      100-54 SHEARWATER CT.            JERSEY CITY, NJ  07305   \n",
       "38280      100-55 SHEARWATER CT.          JERSEY CITY, N.J.  07305   \n",
       "\n",
       "                                ownersFullMailingAddress  \\\n",
       "2529       76 CONSTITUTION WAY, JERSEY CITY, N.J.  07302   \n",
       "19294            10 PAULMIER PL, JERSEY CITY, N J  07302   \n",
       "19691     280 GREGORY PARK PLAZA, JERSEY CITY, NJ  07302   \n",
       "19692     270 GREGORY PARK PLAZA, JERSEY CITY, NJ  07302   \n",
       "32583            23 TERHUNE AVE., JERSEY CITY, NJ  07305   \n",
       "36106       1 BUTTERNUT STREET, JERSEY CITY, N.J.  07305   \n",
       "36107          2 BUTTERNUT ST., JERSEY CITY, N.J.  07305   \n",
       "36108  2090 B 15TH C MAIN HAL 2S, INDIRANAGAR BANGALO...   \n",
       "36109           6802 TIMBERVIEW CT., LOVELAND, OH  45140   \n",
       "36110           5 BUTTERNUT ST., JERSEY CITY,N.J.  07305   \n",
       "36111            6 BUTTERNUT ST., JERSEY CITY, NJ  07305   \n",
       "36112            7 BUTTERNUT ST., JERSEY CITY, NJ  07302   \n",
       "36113            8 BUTTERNUT ST., JERSEY CITY, NJ  07305   \n",
       "36114            9 BUTTERNUT ST., JERSEY CITY, NJ  07305   \n",
       "36115          10 BUTTERNUT ST., JERSEY CITY,N.J.  07305   \n",
       "36116          11 BUTTERNUT ST., JERSEY CITY,N.J.  07305   \n",
       "36139           12 BUTTERNUT ST., JERSEY CITY, NJ  07305   \n",
       "36140         13 BUTTERNUT ST., JERSEY CITY, N.J.  07305   \n",
       "36141           336 MILFORD AVE, NEW MILFORD , NJ  07606   \n",
       "36142      15 BUTTERNUT STREET, JERSEY CITY, N.J.  07305   \n",
       "36143                211 TREBING PLACE, UNION, NJ  07083   \n",
       "36144        17 BUTTERNUT STREET, JERSEY CITY, NJ  07305   \n",
       "36145           18 BUTTERNUT ST., JERSEY CITY, NJ  07305   \n",
       "36146           19 BUTTERNUT ST., JERSEY CITY, NJ  07305   \n",
       "36147           20 BUTTERNUT ST., JERSEY CITY, NJ  07305   \n",
       "36148  21 BUTTERNUT ST., JERSEY CITY , NEW JERSEY  07305   \n",
       "36149         22 BUTTERNUT ST., JERSEY CITY, N.J.  07305   \n",
       "36225           2 CARPENTIER CT., JERSEY CITY, NJ  07305   \n",
       "36226         4 CARPENTIER CT., JERSEY CITY, N.J.  07305   \n",
       "36227       10 REGENT ST. #217, JERSEY CITY, N.J.  07302   \n",
       "36228         8 CARPENTIER CT., JERSEY CITY, N.J.  07305   \n",
       "36229         9 CARPENTIER CT., JERSEY CITY, N.J.  07305   \n",
       "36230         7 CARPENTIER CT., JERSEY CITY, N.J.  07305   \n",
       "36231          5 CARPENTIER CT., JERSEY CITY, N.J  07305   \n",
       "36232         3 CARPENTIER CT., JERSEY CITY, N.J.  07305   \n",
       "36233         1 CARPENTIER CT., JERSEY CITY, N.J.  07305   \n",
       "38254         107 SHEARWATER CT., JERSEY CITY, NJ  07305   \n",
       "38258       100-21 SEHARWATER CT, JERSEY CITY, NJ  07305   \n",
       "38259      100-22 SHEARWATER CT., JERSEY CITY, NJ  07305   \n",
       "38260               7 WADSWORTH PL., BARNEGAT, NJ  08005   \n",
       "38261      100-24 SHEARWATER CT., JERSEY CITY, NJ  07305   \n",
       "38262   100-25 E. SHEARWATER CT., JERSEY CITY, NJ  07305   \n",
       "38263  102-25E. SHEARWATER CT#26, JERSEY CITY, NJ  07305   \n",
       "38264      100-31 SHEARWATER CT., JERSEY CITY, NJ  07305   \n",
       "38270      100-41 SHEARWATER CT., JERSEY CITY, NJ  07305   \n",
       "38273                 31 HARMONY WAY, SEWAREN, NJ  07077   \n",
       "38276    100-51 E SHEARWATER CT., JERSEY CITY, NJ  07305   \n",
       "38278      130 SHORE RD #198, PORT WASHINGTON, NY  11050   \n",
       "38279      100-54 SHEARWATER CT., JERSEY CITY, NJ  07305   \n",
       "38280    100-55 SHEARWATER CT., JERSEY CITY, N.J.  07305   \n",
       "\n",
       "                          propertyFullAddress  propertiesOwned  units gCode  \n",
       "2529              78A RNE ST. Jersey City, NJ                1      1  None  \n",
       "19294         10 PAULMIER PL. Jersey City, NJ                1      1  None  \n",
       "19691  280 GREGORY PARK PLAZA Jersey City, NJ                2      1  None  \n",
       "19692  270 GREGORY PARK PLAZA Jersey City, NJ                2      1  None  \n",
       "32583        32 WILKINSON ST. Jersey City, NJ                1      1  None  \n",
       "36106          1 BUTTRNUT ST. Jersey City, NJ                1      1  None  \n",
       "36107          2 BUTTRNUT ST. Jersey City, NJ                1      1  None  \n",
       "36108          3 BUTTRNUT ST. Jersey City, NJ                1      1  None  \n",
       "36109          4 BUTTRNUT ST. Jersey City, NJ                1      1  None  \n",
       "36110          5 BUTTRNUT ST. Jersey City, NJ                1      1  None  \n",
       "36111          6 BUTTRNUT ST. Jersey City, NJ                1      1  None  \n",
       "36112          7 BUTTRNUT ST. Jersey City, NJ                1      1  None  \n",
       "36113          8 BUTTRNUT ST. Jersey City, NJ                1      1  None  \n",
       "36114          9 BUTTRNUT ST. Jersey City, NJ                1      1  None  \n",
       "36115         10 BUTTRNUT ST. Jersey City, NJ                1      1  None  \n",
       "36116         11 BUTTRNUT ST. Jersey City, NJ                3      1  None  \n",
       "36139         12 BUTTRNUT ST. Jersey City, NJ                1      1  None  \n",
       "36140         13 BUTTRNUT ST. Jersey City, NJ                1      1  None  \n",
       "36141         14 BUTTRNUT ST. Jersey City, NJ                1      1  None  \n",
       "36142         15 BUTTRNUT ST. Jersey City, NJ                1      1  None  \n",
       "36143         16 BUTTRNUT ST. Jersey City, NJ                1      1  None  \n",
       "36144         17 BUTTRNUT ST. Jersey City, NJ                1      1  None  \n",
       "36145         18 BUTTRNUT ST. Jersey City, NJ                1      1  None  \n",
       "36146         19 BUTTRNUT ST. Jersey City, NJ                1      1  None  \n",
       "36147         20 BUTTRNUT ST. Jersey City, NJ                1      1  None  \n",
       "36148         21 BUTTRNUT ST. Jersey City, NJ                1      1  None  \n",
       "36149         22 BUTTRNUT ST. Jersey City, NJ                1      1  None  \n",
       "36225          2 CARPENTR CT. Jersey City, NJ                1      1  None  \n",
       "36226          4 CARPENTR CT. Jersey City, NJ                1      1  None  \n",
       "36227          6 CARPENTR CT. Jersey City, NJ                1      1  None  \n",
       "36228          8 CARPENTR CT. Jersey City, NJ                1      1  None  \n",
       "36229          9 CARPENTR CT. Jersey City, NJ                1      1  None  \n",
       "36230          7 CARPENTR CT. Jersey City, NJ                1      1  None  \n",
       "36231          5 CARPENTR CT. Jersey City, NJ                1      1  None  \n",
       "36232          3 CARPENTR CT. Jersey City, NJ                1      1  None  \n",
       "36233          1 CARPENTR CT. Jersey City, NJ                1      1  None  \n",
       "38254      107 SHEARWATER CT. Jersey City, NJ                1      1  None  \n",
       "38258      100 SHEARWATER CT. Jersey City, NJ                1      1  None  \n",
       "38259      100 SHEARWATER CT. Jersey City, NJ                1      1  None  \n",
       "38260      100 SHEARWATER CT. Jersey City, NJ                1      1  None  \n",
       "38261      100 SHEARWATER CT. Jersey City, NJ                1      1  None  \n",
       "38262      100 SHEARWATER CT. Jersey City, NJ                1      1  None  \n",
       "38263      100 SHEARWATER CT. Jersey City, NJ                1      1  None  \n",
       "38264      100 SHEARWATER CT. Jersey City, NJ                1      1  None  \n",
       "38270      100 SHEARWATER CT. Jersey City, NJ                1      1  None  \n",
       "38273      100 SHEARWATER CT. Jersey City, NJ                1      1  None  \n",
       "38276      100 SHEARWATER CT. Jersey City, NJ                1      1  None  \n",
       "38278      100 SHEARWATER CT. Jersey City, NJ                1      1  None  \n",
       "38279      100 SHEARWATER CT. Jersey City, NJ                1      1  None  \n",
       "38280      100 SHEARWATER CT. Jersey City, NJ                1      1  None  "
      ],
      "text/html": "<div>\n<style scoped>\n    .dataframe tbody tr th:only-of-type {\n        vertical-align: middle;\n    }\n\n    .dataframe tbody tr th {\n        vertical-align: top;\n    }\n\n    .dataframe thead th {\n        text-align: right;\n    }\n</style>\n<table border=\"1\" class=\"dataframe\">\n  <thead>\n    <tr style=\"text-align: right;\">\n      <th></th>\n      <th>propertyLocation</th>\n      <th>ownersName</th>\n      <th>ownersMailingAddress</th>\n      <th>cityStateZip</th>\n      <th>ownersFullMailingAddress</th>\n      <th>propertyFullAddress</th>\n      <th>propertiesOwned</th>\n      <th>units</th>\n      <th>gCode</th>\n    </tr>\n  </thead>\n  <tbody>\n    <tr>\n      <th>2529</th>\n      <td>78A RNE ST.</td>\n      <td>MITTAL,CHITRA KOTHARI &amp; DEEPAK</td>\n      <td>76 CONSTITUTION WAY</td>\n      <td>JERSEY CITY, N.J.  07302</td>\n      <td>76 CONSTITUTION WAY, JERSEY CITY, N.J.  07302</td>\n      <td>78A RNE ST. Jersey City, NJ</td>\n      <td>1</td>\n      <td>1</td>\n      <td>None</td>\n    </tr>\n    <tr>\n      <th>19294</th>\n      <td>10 PAULMIER PL.</td>\n      <td>DOWLING, JAMES PATRICK &amp; TOBY K.</td>\n      <td>10 PAULMIER PL</td>\n      <td>JERSEY CITY, N J  07302</td>\n      <td>10 PAULMIER PL, JERSEY CITY, N J  07302</td>\n      <td>10 PAULMIER PL. Jersey City, NJ</td>\n      <td>1</td>\n      <td>1</td>\n      <td>None</td>\n    </tr>\n    <tr>\n      <th>19691</th>\n      <td>280 GREGORY PARK PLAZA</td>\n      <td>METROPOLIS TOWERS APT. CORP. MGT.</td>\n      <td>280 GREGORY PARK PLAZA</td>\n      <td>JERSEY CITY, NJ  07302</td>\n      <td>280 GREGORY PARK PLAZA, JERSEY CITY, NJ  07302</td>\n      <td>280 GREGORY PARK PLAZA Jersey City, NJ</td>\n      <td>2</td>\n      <td>1</td>\n      <td>None</td>\n    </tr>\n    <tr>\n      <th>19692</th>\n      <td>270 GREGORY PARK PLAZA</td>\n      <td>METROPOLIS TOWERS APT. CORP. MGT.</td>\n      <td>270 GREGORY PARK PLAZA</td>\n      <td>JERSEY CITY, NJ  07302</td>\n      <td>270 GREGORY PARK PLAZA, JERSEY CITY, NJ  07302</td>\n      <td>270 GREGORY PARK PLAZA Jersey City, NJ</td>\n      <td>2</td>\n      <td>1</td>\n      <td>None</td>\n    </tr>\n    <tr>\n      <th>32583</th>\n      <td>32 WILKINSON ST.</td>\n      <td>HARIKRISHAN, HARRY</td>\n      <td>23 TERHUNE AVE.</td>\n      <td>JERSEY CITY, NJ  07305</td>\n      <td>23 TERHUNE AVE., JERSEY CITY, NJ  07305</td>\n      <td>32 WILKINSON ST. Jersey City, NJ</td>\n      <td>1</td>\n      <td>1</td>\n      <td>None</td>\n    </tr>\n    <tr>\n      <th>36106</th>\n      <td>1 BUTTRNUT ST.</td>\n      <td>WONG, MARIA YUEN FAN</td>\n      <td>1 BUTTERNUT STREET</td>\n      <td>JERSEY CITY, N.J.  07305</td>\n      <td>1 BUTTERNUT STREET, JERSEY CITY, N.J.  07305</td>\n      <td>1 BUTTRNUT ST. Jersey City, NJ</td>\n      <td>1</td>\n      <td>1</td>\n      <td>None</td>\n    </tr>\n    <tr>\n      <th>36107</th>\n      <td>2 BUTTRNUT ST.</td>\n      <td>WISINEWSKI, MICHAEL</td>\n      <td>2 BUTTERNUT ST.</td>\n      <td>JERSEY CITY, N.J.  07305</td>\n      <td>2 BUTTERNUT ST., JERSEY CITY, N.J.  07305</td>\n      <td>2 BUTTRNUT ST. Jersey City, NJ</td>\n      <td>1</td>\n      <td>1</td>\n      <td>None</td>\n    </tr>\n    <tr>\n      <th>36108</th>\n      <td>3 BUTTRNUT ST.</td>\n      <td>SCHILLINGS, MARCUS</td>\n      <td>2090 B 15TH C MAIN HAL 2S</td>\n      <td>INDIRANAGAR BANGALORE IND  26102</td>\n      <td>2090 B 15TH C MAIN HAL 2S, INDIRANAGAR BANGALO...</td>\n      <td>3 BUTTRNUT ST. Jersey City, NJ</td>\n      <td>1</td>\n      <td>1</td>\n      <td>None</td>\n    </tr>\n    <tr>\n      <th>36109</th>\n      <td>4 BUTTRNUT ST.</td>\n      <td>BATULE,MANUEL &amp; MADELENE TRUSTEES</td>\n      <td>6802 TIMBERVIEW CT.</td>\n      <td>LOVELAND, OH  45140</td>\n      <td>6802 TIMBERVIEW CT., LOVELAND, OH  45140</td>\n      <td>4 BUTTRNUT ST. Jersey City, NJ</td>\n      <td>1</td>\n      <td>1</td>\n      <td>None</td>\n    </tr>\n    <tr>\n      <th>36110</th>\n      <td>5 BUTTRNUT ST.</td>\n      <td>DARDEN, STEVEN E.</td>\n      <td>5 BUTTERNUT ST.</td>\n      <td>JERSEY CITY,N.J.  07305</td>\n      <td>5 BUTTERNUT ST., JERSEY CITY,N.J.  07305</td>\n      <td>5 BUTTRNUT ST. Jersey City, NJ</td>\n      <td>1</td>\n      <td>1</td>\n      <td>None</td>\n    </tr>\n    <tr>\n      <th>36111</th>\n      <td>6 BUTTRNUT ST.</td>\n      <td>SHETH, VARSHA</td>\n      <td>6 BUTTERNUT ST.</td>\n      <td>JERSEY CITY, NJ  07305</td>\n      <td>6 BUTTERNUT ST., JERSEY CITY, NJ  07305</td>\n      <td>6 BUTTRNUT ST. Jersey City, NJ</td>\n      <td>1</td>\n      <td>1</td>\n      <td>None</td>\n    </tr>\n    <tr>\n      <th>36112</th>\n      <td>7 BUTTRNUT ST.</td>\n      <td>JOHN,DEVON &amp; NIKISHA</td>\n      <td>7 BUTTERNUT ST.</td>\n      <td>JERSEY CITY, NJ  07302</td>\n      <td>7 BUTTERNUT ST., JERSEY CITY, NJ  07302</td>\n      <td>7 BUTTRNUT ST. Jersey City, NJ</td>\n      <td>1</td>\n      <td>1</td>\n      <td>None</td>\n    </tr>\n    <tr>\n      <th>36113</th>\n      <td>8 BUTTRNUT ST.</td>\n      <td>HORSFORD, CHRISTINE VERONICA</td>\n      <td>8 BUTTERNUT ST.</td>\n      <td>JERSEY CITY, NJ  07305</td>\n      <td>8 BUTTERNUT ST., JERSEY CITY, NJ  07305</td>\n      <td>8 BUTTRNUT ST. Jersey City, NJ</td>\n      <td>1</td>\n      <td>1</td>\n      <td>None</td>\n    </tr>\n    <tr>\n      <th>36114</th>\n      <td>9 BUTTRNUT ST.</td>\n      <td>ROGERS, SCOTT</td>\n      <td>9 BUTTERNUT ST.</td>\n      <td>JERSEY CITY, NJ  07305</td>\n      <td>9 BUTTERNUT ST., JERSEY CITY, NJ  07305</td>\n      <td>9 BUTTRNUT ST. Jersey City, NJ</td>\n      <td>1</td>\n      <td>1</td>\n      <td>None</td>\n    </tr>\n    <tr>\n      <th>36115</th>\n      <td>10 BUTTRNUT ST.</td>\n      <td>MORRIS, BELINDA A.</td>\n      <td>10 BUTTERNUT ST.</td>\n      <td>JERSEY CITY,N.J.  07305</td>\n      <td>10 BUTTERNUT ST., JERSEY CITY,N.J.  07305</td>\n      <td>10 BUTTRNUT ST. Jersey City, NJ</td>\n      <td>1</td>\n      <td>1</td>\n      <td>None</td>\n    </tr>\n    <tr>\n      <th>36116</th>\n      <td>11 BUTTRNUT ST.</td>\n      <td>FU, LITAO</td>\n      <td>11 BUTTERNUT ST.</td>\n      <td>JERSEY CITY,N.J.  07305</td>\n      <td>11 BUTTERNUT ST., JERSEY CITY,N.J.  07305</td>\n      <td>11 BUTTRNUT ST. Jersey City, NJ</td>\n      <td>3</td>\n      <td>1</td>\n      <td>None</td>\n    </tr>\n    <tr>\n      <th>36139</th>\n      <td>12 BUTTRNUT ST.</td>\n      <td>LIM, GEORGE C. &amp; LAINNIE O.</td>\n      <td>12 BUTTERNUT ST.</td>\n      <td>JERSEY CITY, NJ  07305</td>\n      <td>12 BUTTERNUT ST., JERSEY CITY, NJ  07305</td>\n      <td>12 BUTTRNUT ST. Jersey City, NJ</td>\n      <td>1</td>\n      <td>1</td>\n      <td>None</td>\n    </tr>\n    <tr>\n      <th>36140</th>\n      <td>13 BUTTRNUT ST.</td>\n      <td>O'DONNELL, EILEEN P.</td>\n      <td>13 BUTTERNUT ST.</td>\n      <td>JERSEY CITY, N.J.  07305</td>\n      <td>13 BUTTERNUT ST., JERSEY CITY, N.J.  07305</td>\n      <td>13 BUTTRNUT ST. Jersey City, NJ</td>\n      <td>1</td>\n      <td>1</td>\n      <td>None</td>\n    </tr>\n    <tr>\n      <th>36141</th>\n      <td>14 BUTTRNUT ST.</td>\n      <td>FERRERAS, EMILIO &amp; FRANCISCA</td>\n      <td>336 MILFORD AVE</td>\n      <td>NEW MILFORD , NJ  07606</td>\n      <td>336 MILFORD AVE, NEW MILFORD , NJ  07606</td>\n      <td>14 BUTTRNUT ST. Jersey City, NJ</td>\n      <td>1</td>\n      <td>1</td>\n      <td>None</td>\n    </tr>\n    <tr>\n      <th>36142</th>\n      <td>15 BUTTRNUT ST.</td>\n      <td>CHACKO, LUCY P.</td>\n      <td>15 BUTTERNUT STREET</td>\n      <td>JERSEY CITY, N.J.  07305</td>\n      <td>15 BUTTERNUT STREET, JERSEY CITY, N.J.  07305</td>\n      <td>15 BUTTRNUT ST. Jersey City, NJ</td>\n      <td>1</td>\n      <td>1</td>\n      <td>None</td>\n    </tr>\n    <tr>\n      <th>36143</th>\n      <td>16 BUTTRNUT ST.</td>\n      <td>PORRAS-CARRILLO,J. &amp; CRISTIAN</td>\n      <td>211 TREBING PLACE</td>\n      <td>UNION, NJ  07083</td>\n      <td>211 TREBING PLACE, UNION, NJ  07083</td>\n      <td>16 BUTTRNUT ST. Jersey City, NJ</td>\n      <td>1</td>\n      <td>1</td>\n      <td>None</td>\n    </tr>\n    <tr>\n      <th>36144</th>\n      <td>17 BUTTRNUT ST.</td>\n      <td>ADDO, NANA</td>\n      <td>17 BUTTERNUT STREET</td>\n      <td>JERSEY CITY, NJ  07305</td>\n      <td>17 BUTTERNUT STREET, JERSEY CITY, NJ  07305</td>\n      <td>17 BUTTRNUT ST. Jersey City, NJ</td>\n      <td>1</td>\n      <td>1</td>\n      <td>None</td>\n    </tr>\n    <tr>\n      <th>36145</th>\n      <td>18 BUTTRNUT ST.</td>\n      <td>HA, LINKY</td>\n      <td>18 BUTTERNUT ST.</td>\n      <td>JERSEY CITY, NJ  07305</td>\n      <td>18 BUTTERNUT ST., JERSEY CITY, NJ  07305</td>\n      <td>18 BUTTRNUT ST. Jersey City, NJ</td>\n      <td>1</td>\n      <td>1</td>\n      <td>None</td>\n    </tr>\n    <tr>\n      <th>36146</th>\n      <td>19 BUTTRNUT ST.</td>\n      <td>PETROSKY, EDWARD</td>\n      <td>19 BUTTERNUT ST.</td>\n      <td>JERSEY CITY, NJ  07305</td>\n      <td>19 BUTTERNUT ST., JERSEY CITY, NJ  07305</td>\n      <td>19 BUTTRNUT ST. Jersey City, NJ</td>\n      <td>1</td>\n      <td>1</td>\n      <td>None</td>\n    </tr>\n    <tr>\n      <th>36147</th>\n      <td>20 BUTTRNUT ST.</td>\n      <td>MAHALINGAPPA, KOKILA</td>\n      <td>20 BUTTERNUT ST.</td>\n      <td>JERSEY CITY, NJ  07305</td>\n      <td>20 BUTTERNUT ST., JERSEY CITY, NJ  07305</td>\n      <td>20 BUTTRNUT ST. Jersey City, NJ</td>\n      <td>1</td>\n      <td>1</td>\n      <td>None</td>\n    </tr>\n    <tr>\n      <th>36148</th>\n      <td>21 BUTTRNUT ST.</td>\n      <td>ARREZA , RENO M.</td>\n      <td>21 BUTTERNUT ST.</td>\n      <td>JERSEY CITY , NEW JERSEY  07305</td>\n      <td>21 BUTTERNUT ST., JERSEY CITY , NEW JERSEY  07305</td>\n      <td>21 BUTTRNUT ST. Jersey City, NJ</td>\n      <td>1</td>\n      <td>1</td>\n      <td>None</td>\n    </tr>\n    <tr>\n      <th>36149</th>\n      <td>22 BUTTRNUT ST.</td>\n      <td>IRIZARRY, MIGUEL &amp; GAIL MERCADER</td>\n      <td>22 BUTTERNUT ST.</td>\n      <td>JERSEY CITY, N.J.  07305</td>\n      <td>22 BUTTERNUT ST., JERSEY CITY, N.J.  07305</td>\n      <td>22 BUTTRNUT ST. Jersey City, NJ</td>\n      <td>1</td>\n      <td>1</td>\n      <td>None</td>\n    </tr>\n    <tr>\n      <th>36225</th>\n      <td>2 CARPENTR CT.</td>\n      <td>O'CONNOR, DOREEN E.&amp; MICHAEL</td>\n      <td>2 CARPENTIER CT.</td>\n      <td>JERSEY CITY, NJ  07305</td>\n      <td>2 CARPENTIER CT., JERSEY CITY, NJ  07305</td>\n      <td>2 CARPENTR CT. Jersey City, NJ</td>\n      <td>1</td>\n      <td>1</td>\n      <td>None</td>\n    </tr>\n    <tr>\n      <th>36226</th>\n      <td>4 CARPENTR CT.</td>\n      <td>FAULCON, KIM</td>\n      <td>4 CARPENTIER CT.</td>\n      <td>JERSEY CITY, N.J.  07305</td>\n      <td>4 CARPENTIER CT., JERSEY CITY, N.J.  07305</td>\n      <td>4 CARPENTR CT. Jersey City, NJ</td>\n      <td>1</td>\n      <td>1</td>\n      <td>None</td>\n    </tr>\n    <tr>\n      <th>36227</th>\n      <td>6 CARPENTR CT.</td>\n      <td>TSAI, YUN-SAN</td>\n      <td>10 REGENT ST. #217</td>\n      <td>JERSEY CITY, N.J.  07302</td>\n      <td>10 REGENT ST. #217, JERSEY CITY, N.J.  07302</td>\n      <td>6 CARPENTR CT. Jersey City, NJ</td>\n      <td>1</td>\n      <td>1</td>\n      <td>None</td>\n    </tr>\n    <tr>\n      <th>36228</th>\n      <td>8 CARPENTR CT.</td>\n      <td>NINAN, JAICKS &amp; KUNJUMON HANNA G.</td>\n      <td>8 CARPENTIER CT.</td>\n      <td>JERSEY CITY, N.J.  07305</td>\n      <td>8 CARPENTIER CT., JERSEY CITY, N.J.  07305</td>\n      <td>8 CARPENTR CT. Jersey City, NJ</td>\n      <td>1</td>\n      <td>1</td>\n      <td>None</td>\n    </tr>\n    <tr>\n      <th>36229</th>\n      <td>9 CARPENTR CT.</td>\n      <td>MOSS, JOHN H. &amp; MARIA LOURDES</td>\n      <td>9 CARPENTIER CT.</td>\n      <td>JERSEY CITY, N.J.  07305</td>\n      <td>9 CARPENTIER CT., JERSEY CITY, N.J.  07305</td>\n      <td>9 CARPENTR CT. Jersey City, NJ</td>\n      <td>1</td>\n      <td>1</td>\n      <td>None</td>\n    </tr>\n    <tr>\n      <th>36230</th>\n      <td>7 CARPENTR CT.</td>\n      <td>SIDDIQI, ASIM &amp; EEMAAN A.</td>\n      <td>7 CARPENTIER CT.</td>\n      <td>JERSEY CITY, N.J.  07305</td>\n      <td>7 CARPENTIER CT., JERSEY CITY, N.J.  07305</td>\n      <td>7 CARPENTR CT. Jersey City, NJ</td>\n      <td>1</td>\n      <td>1</td>\n      <td>None</td>\n    </tr>\n    <tr>\n      <th>36231</th>\n      <td>5 CARPENTR CT.</td>\n      <td>KANDASAMY,BARANEETHARAN &amp; DHINAHAR</td>\n      <td>5 CARPENTIER CT.</td>\n      <td>JERSEY CITY, N.J  07305</td>\n      <td>5 CARPENTIER CT., JERSEY CITY, N.J  07305</td>\n      <td>5 CARPENTR CT. Jersey City, NJ</td>\n      <td>1</td>\n      <td>1</td>\n      <td>None</td>\n    </tr>\n    <tr>\n      <th>36232</th>\n      <td>3 CARPENTR CT.</td>\n      <td>GOODMAN, JONATHAN &amp; TRINH, DUC</td>\n      <td>3 CARPENTIER CT.</td>\n      <td>JERSEY CITY, N.J.  07305</td>\n      <td>3 CARPENTIER CT., JERSEY CITY, N.J.  07305</td>\n      <td>3 CARPENTR CT. Jersey City, NJ</td>\n      <td>1</td>\n      <td>1</td>\n      <td>None</td>\n    </tr>\n    <tr>\n      <th>36233</th>\n      <td>1 CARPENTR CT.</td>\n      <td>NARASIMHADEVARA, S.S. &amp;CHIVUKULA, D</td>\n      <td>1 CARPENTIER CT.</td>\n      <td>JERSEY CITY, N.J.  07305</td>\n      <td>1 CARPENTIER CT., JERSEY CITY, N.J.  07305</td>\n      <td>1 CARPENTR CT. Jersey City, NJ</td>\n      <td>1</td>\n      <td>1</td>\n      <td>None</td>\n    </tr>\n    <tr>\n      <th>38254</th>\n      <td>107 SHEARWATER CT.</td>\n      <td>SANTANIELLO III, PHILLIP &amp; CLAIRE</td>\n      <td>107 SHEARWATER CT.</td>\n      <td>JERSEY CITY, NJ  07305</td>\n      <td>107 SHEARWATER CT., JERSEY CITY, NJ  07305</td>\n      <td>107 SHEARWATER CT. Jersey City, NJ</td>\n      <td>1</td>\n      <td>1</td>\n      <td>None</td>\n    </tr>\n    <tr>\n      <th>38258</th>\n      <td>100 SHEARWATER CT.</td>\n      <td>IOSEBASHVILI, MICHAEL</td>\n      <td>100-21 SEHARWATER CT</td>\n      <td>JERSEY CITY, NJ  07305</td>\n      <td>100-21 SEHARWATER CT, JERSEY CITY, NJ  07305</td>\n      <td>100 SHEARWATER CT. Jersey City, NJ</td>\n      <td>1</td>\n      <td>1</td>\n      <td>None</td>\n    </tr>\n    <tr>\n      <th>38259</th>\n      <td>100 SHEARWATER CT.</td>\n      <td>SOKOLOV, EUGENE</td>\n      <td>100-22 SHEARWATER CT.</td>\n      <td>JERSEY CITY, NJ  07305</td>\n      <td>100-22 SHEARWATER CT., JERSEY CITY, NJ  07305</td>\n      <td>100 SHEARWATER CT. Jersey City, NJ</td>\n      <td>1</td>\n      <td>1</td>\n      <td>None</td>\n    </tr>\n    <tr>\n      <th>38260</th>\n      <td>100 SHEARWATER CT.</td>\n      <td>HILLER, ARTHUR H.</td>\n      <td>7 WADSWORTH PL.</td>\n      <td>BARNEGAT, NJ  08005</td>\n      <td>7 WADSWORTH PL., BARNEGAT, NJ  08005</td>\n      <td>100 SHEARWATER CT. Jersey City, NJ</td>\n      <td>1</td>\n      <td>1</td>\n      <td>None</td>\n    </tr>\n    <tr>\n      <th>38261</th>\n      <td>100 SHEARWATER CT.</td>\n      <td>CALLONI, THOMAS B.</td>\n      <td>100-24 SHEARWATER CT.</td>\n      <td>JERSEY CITY, NJ  07305</td>\n      <td>100-24 SHEARWATER CT., JERSEY CITY, NJ  07305</td>\n      <td>100 SHEARWATER CT. Jersey City, NJ</td>\n      <td>1</td>\n      <td>1</td>\n      <td>None</td>\n    </tr>\n    <tr>\n      <th>38262</th>\n      <td>100 SHEARWATER CT.</td>\n      <td>CALLONI, GIUSPPE &amp; VITOLO, NICOLE</td>\n      <td>100-25 E. SHEARWATER CT.</td>\n      <td>JERSEY CITY, NJ  07305</td>\n      <td>100-25 E. SHEARWATER CT., JERSEY CITY, NJ  07305</td>\n      <td>100 SHEARWATER CT. Jersey City, NJ</td>\n      <td>1</td>\n      <td>1</td>\n      <td>None</td>\n    </tr>\n    <tr>\n      <th>38263</th>\n      <td>100 SHEARWATER CT.</td>\n      <td>TODDYWALLA, PHIROZE &amp; SHEHNAZ</td>\n      <td>102-25E. SHEARWATER CT#26</td>\n      <td>JERSEY CITY, NJ  07305</td>\n      <td>102-25E. SHEARWATER CT#26, JERSEY CITY, NJ  07305</td>\n      <td>100 SHEARWATER CT. Jersey City, NJ</td>\n      <td>1</td>\n      <td>1</td>\n      <td>None</td>\n    </tr>\n    <tr>\n      <th>38264</th>\n      <td>100 SHEARWATER CT.</td>\n      <td>SAYERS, ROBIN</td>\n      <td>100-31 SHEARWATER CT.</td>\n      <td>JERSEY CITY, NJ  07305</td>\n      <td>100-31 SHEARWATER CT., JERSEY CITY, NJ  07305</td>\n      <td>100 SHEARWATER CT. Jersey City, NJ</td>\n      <td>1</td>\n      <td>1</td>\n      <td>None</td>\n    </tr>\n    <tr>\n      <th>38270</th>\n      <td>100 SHEARWATER CT.</td>\n      <td>KIZER, CHRISTINA</td>\n      <td>100-41 SHEARWATER CT.</td>\n      <td>JERSEY CITY, NJ  07305</td>\n      <td>100-41 SHEARWATER CT., JERSEY CITY, NJ  07305</td>\n      <td>100 SHEARWATER CT. Jersey City, NJ</td>\n      <td>1</td>\n      <td>1</td>\n      <td>None</td>\n    </tr>\n    <tr>\n      <th>38273</th>\n      <td>100 SHEARWATER CT.</td>\n      <td>BALANLAYOS, JESUS &amp; MYRNA</td>\n      <td>31 HARMONY WAY</td>\n      <td>SEWAREN, NJ  07077</td>\n      <td>31 HARMONY WAY, SEWAREN, NJ  07077</td>\n      <td>100 SHEARWATER CT. Jersey City, NJ</td>\n      <td>1</td>\n      <td>1</td>\n      <td>None</td>\n    </tr>\n    <tr>\n      <th>38276</th>\n      <td>100 SHEARWATER CT.</td>\n      <td>DANGCIL, PROCERFINA &amp; WILLIAM A JR</td>\n      <td>100-51 E SHEARWATER CT.</td>\n      <td>JERSEY CITY, NJ  07305</td>\n      <td>100-51 E SHEARWATER CT., JERSEY CITY, NJ  07305</td>\n      <td>100 SHEARWATER CT. Jersey City, NJ</td>\n      <td>1</td>\n      <td>1</td>\n      <td>None</td>\n    </tr>\n    <tr>\n      <th>38278</th>\n      <td>100 SHEARWATER CT.</td>\n      <td>LAWSONS REALTY,LLC</td>\n      <td>130 SHORE RD #198</td>\n      <td>PORT WASHINGTON, NY  11050</td>\n      <td>130 SHORE RD #198, PORT WASHINGTON, NY  11050</td>\n      <td>100 SHEARWATER CT. Jersey City, NJ</td>\n      <td>1</td>\n      <td>1</td>\n      <td>None</td>\n    </tr>\n    <tr>\n      <th>38279</th>\n      <td>100 SHEARWATER CT.</td>\n      <td>NATHAN, NAVIN D.</td>\n      <td>100-54 SHEARWATER CT.</td>\n      <td>JERSEY CITY, NJ  07305</td>\n      <td>100-54 SHEARWATER CT., JERSEY CITY, NJ  07305</td>\n      <td>100 SHEARWATER CT. Jersey City, NJ</td>\n      <td>1</td>\n      <td>1</td>\n      <td>None</td>\n    </tr>\n    <tr>\n      <th>38280</th>\n      <td>100 SHEARWATER CT.</td>\n      <td>HORAN, CHRISTOPHER L.</td>\n      <td>100-55 SHEARWATER CT.</td>\n      <td>JERSEY CITY, N.J.  07305</td>\n      <td>100-55 SHEARWATER CT., JERSEY CITY, N.J.  07305</td>\n      <td>100 SHEARWATER CT. Jersey City, NJ</td>\n      <td>1</td>\n      <td>1</td>\n      <td>None</td>\n    </tr>\n  </tbody>\n</table>\n</div>"
     },
     "metadata": {},
     "execution_count": 63
    }
   ],
   "source": [
    "errors_df.iloc[geocode_errors]"
   ]
  },
  {
   "cell_type": "code",
   "execution_count": 37,
   "metadata": {},
   "outputs": [],
   "source": [
    "errors_df = df.iloc[df_errors].copy()"
   ]
  },
  {
   "cell_type": "code",
   "execution_count": 64,
   "metadata": {},
   "outputs": [
    {
     "output_type": "stream",
     "name": "stderr",
     "text": [
      "/var/folders/jn/0t9fgm4d05bdfp70phhgc1sr0000gn/T/ipykernel_934/1195549210.py:67: FutureWarning: The default value of regex will change from True to False in a future version.\n  errors_df.propertyLocation = errors_df.propertyLocation.str.replace('100 SHEARWATER CT.', '100 EAST SHEARWATER CT.')\n"
     ]
    }
   ],
   "source": [
    "# errors_df.propertyLocation = errors_df.propertyLocation.str.replace('TONNELE', 'TONNELLE')\n",
    "# errors_df.propertyLocation = errors_df.propertyLocation.str.replace('MC ADOO', 'MCADOO')\n",
    "# errors_df.propertyLocation = errors_df.propertyLocation.str.replace('M.L. KING DRIVE', 'MARTIN LUTHER KING DRIVE')\n",
    "# errors_df.propertyLocation = errors_df.propertyLocation.str.replace('COLUMBUS', 'CHRISTOPHER COLUMBUS')\n",
    "# errors_df.propertyLocation = errors_df.propertyLocation.str.replace('FIRST', '1st')\n",
    "# errors_df.propertyLocation = errors_df.propertyLocation.str.replace('SECOND', '2nd')\n",
    "# errors_df.propertyLocation = errors_df.propertyLocation.str.replace('THIRD', '3rd')\n",
    "# errors_df.propertyLocation = errors_df.propertyLocation.str.replace('FOURTH', '4th')\n",
    "# errors_df.propertyLocation = errors_df.propertyLocation.str.replace('FIFTH', '5th')\n",
    "# errors_df.propertyLocation = errors_df.propertyLocation.str.replace('SIXTH', '6th')\n",
    "# errors_df.propertyLocation = errors_df.propertyLocation.str.replace('SEVENTH', '7th')\n",
    "# errors_df.propertyLocation = errors_df.propertyLocation.str.replace('EIGHTH', '8th')\n",
    "# errors_df.propertyLocation = errors_df.propertyLocation.str.replace('NINETH', '9th')\n",
    "# errors_df.propertyLocation = errors_df.propertyLocation.str.replace('TENTH', '10th')\n",
    "# errors_df.propertyLocation = errors_df.propertyLocation.str.replace('NINTH', '9th')\n",
    "# errors_df.propertyLocation = errors_df.propertyLocation.str.replace('FIFTEENTH', '15th')\n",
    "# errors_df.propertyLocation = errors_df.propertyLocation.str.replace('SIXTEENTH', '16th')\n",
    "# errors_df.propertyLocation = errors_df.propertyLocation.str.replace('MC DOUGALL', 'MCDOUGALL')\n",
    "# errors_df.propertyLocation = errors_df.propertyLocation.str.replace('CARPENTIER', 'CARPENTER')\n",
    "# errors_df.propertyLocation = errors_df.propertyLocation.str.replace('FOX HOUND', 'FOXHOUND')\n",
    "# errors_df.propertyLocation = errors_df.propertyLocation.str.replace('SIEDLER', 'SEIDLER')\n",
    "# errors_df.propertyLocation = errors_df.propertyLocation.str.replace('LIENAU', 'LINEAU')\n",
    "# errors_df.propertyLocation = errors_df.propertyLocation.str.replace('KENNEDY', 'JOHN F KENNEDY')\n",
    "# errors_df.propertyLocation = errors_df.propertyLocation.str.replace('LIBERTY ST.', 'LIBERTY AVE.')\n",
    "# errors_df.propertyLocation = errors_df.propertyLocation.str.replace('-REAR', '')\n",
    "# errors_df.propertyLocation = errors_df.propertyLocation.str.replace('(REAR)', '')\n",
    "# errors_df.propertyLocation = errors_df.propertyLocation.str.replace('-FRONT', '')\n",
    "# errors_df.propertyLocation = errors_df.propertyLocation.str.replace('HAMPTON CT.', 'HAMPTON COURT')\n",
    "# errors_df.propertyLocation = errors_df.propertyLocation.str.replace('VARCK', 'VARICK')\n",
    "# errors_df.propertyLocation = errors_df.propertyLocation.str.replace('THO', '')\n",
    "# errors_df.propertyLocation = errors_df.propertyLocation.str.replace('AVE AVE', 'AVE')\n",
    "# errors_df.propertyLocation = errors_df.propertyLocation.str.replace('TER', 'TR')\n",
    "# errors_df.propertyLocation = errors_df.propertyLocation.str.replace('3633A', '3633')\n",
    "# errors_df.propertyLocation = errors_df.propertyLocation.str.replace('3144A', '3144')\n",
    "# errors_df.propertyLocation = errors_df.propertyLocation.str.replace('SHEARWATR', 'SHEARWATER')\n",
    "# errors_df.propertyLocation = errors_df.propertyLocation.str.replace('PALUSL', \"PAUL'S\")\n",
    "# errors_df.propertyLocation = errors_df.propertyLocation.str.replace('COURT TR', \"CT\")\n",
    "# errors_df.propertyLocation = errors_df.propertyLocation.str.replace('EASTVIEW', \"E VIEW\")\n",
    "# errors_df.propertyLocation = errors_df.propertyLocation.str.replace('M.L. KING DR.', 'MARTIN LUTHER KING DR.')\n",
    "# errors_df.propertyLocation = errors_df.propertyLocation.str.replace(' 1ST FL.', '')\n",
    "# errors_df.propertyLocation = errors_df.propertyLocation.str.replace(' SO.', '')\n",
    "# errors_df.propertyLocation = errors_df.propertyLocation.str.replace(' N.', '')\n",
    "# errors_df.propertyLocation = errors_df.propertyLocation.str.replace('ODGEN', 'OGDEN')\n",
    "# errors_df.propertyLocation = errors_df.propertyLocation.str.replace('PATRSON', 'PATERSON')\n",
    "# errors_df.propertyLocation = errors_df.propertyLocation.str.replace(' 61 COLES', '')\n",
    "# errors_df.propertyLocation = errors_df.propertyLocation.str.replace('VAN HOUTEN ST.', 'VAN HOUTEN AVE.')\n",
    "# errors_df.propertyLocation = errors_df.propertyLocation.str.replace('MC PHERSON ST.', 'MCPHERSON PL.')\n",
    "# errors_df.propertyLocation = errors_df.propertyLocation.str.replace('MC PHERSON', 'MCPHERSON')\n",
    "# errors_df.propertyLocation = errors_df.propertyLocation.str.replace('FIR ROAD', 'FIR ST.')\n",
    "# errors_df.propertyLocation = errors_df.propertyLocation.str.replace('UNION AVE.', 'UNION ST.')\n",
    "# errors_df.propertyLocation = errors_df.propertyLocation.str.replace('OLD BERGEN', 'OLD BERGEN AVE.')\n",
    "# errors_df.propertyLocation = errors_df.propertyLocation.str.replace('AVE. AVE.', 'AVE.')\n",
    "# errors_df.propertyLocation = errors_df.propertyLocation.str.replace('JACKSON AVE.', 'JACKSON ST.')\n",
    "# errors_df.propertyLocation = errors_df.propertyLocation.str.replace('162 OLD BERGEN AVE. AVE.', '162 OLD BERGEN AVE.')\n",
    "# errors_df.propertyLocation = errors_df.propertyLocation.str.replace('GLEN', 'GLENN')\n",
    "# errors_df.propertyLocation = errors_df.propertyLocation.str.replace('GLENNN', 'GLENN')\n",
    "# errors_df.propertyLocation = errors_df.propertyLocation.str.replace('DR.VE', 'DRIVE')\n",
    "# errors_df.propertyLocation = errors_df.propertyLocation.str.replace('1 GLENNN LANE', '1 GLENN LANE')\n",
    "# errors_df.propertyLocation = errors_df.propertyLocation.str.replace(r'\\(\\)', '')\n",
    "# errors_df.propertyLocation = errors_df.propertyLocation.str.replace(r'-\\d{2,}(.?\\d{1}(A)?)?A?\\b', '')\n",
    "# errors_df.propertyLocation = errors_df.propertyLocation.str.replace(r'-\\d{2,}', '')\n",
    "# errors_df.propertyLocation = errors_df.propertyLocation.str.replace(r'\\s#\\d', '')\n",
    "\n",
    "\n",
    "# errors_df.propertyLocation = errors_df.propertyLocation.str.replace('BUTTRNUT', 'BUTTERNUT')\n",
    "# errors_df.propertyLocation = errors_df.propertyLocation.str.replace('CARPENTR', 'CARPENTER')\n",
    "# errors_df.propertyLocation = errors_df.propertyLocation.str.replace('100 SHEARWATER CT.', '100 EAST SHEARWATER CT.')\n",
    "\n",
    "#overwriting past mistakes\n",
    "errors_df.propertyFullAddress = errors_df.propertyLocation + ' Jersey City, NJ'"
   ]
  },
  {
   "cell_type": "code",
   "execution_count": 65,
   "metadata": {},
   "outputs": [
    {
     "output_type": "stream",
     "name": "stdout",
     "text": [
      "CPU times: user 87.7 ms, sys: 13.7 ms, total: 101 ms\nWall time: 26 s\n"
     ]
    }
   ],
   "source": [
    "%%time\n",
    "errors_df['gCode'] = errors_df.propertyFullAddress.apply(geolocator.geocode)"
   ]
  },
  {
   "cell_type": "code",
   "execution_count": 66,
   "metadata": {},
   "outputs": [],
   "source": [
    "geocode_errors = [i for i,e in enumerate(errors_df.gCode) if e == None]"
   ]
  },
  {
   "cell_type": "code",
   "execution_count": 67,
   "metadata": {},
   "outputs": [
    {
     "output_type": "execute_result",
     "data": {
      "text/plain": [
       "array(['78A RNE ST.', '10 PAULMIER PL.', '280 GREGORY PARK PLAZA',\n",
       "       '270 GREGORY PARK PLAZA', '32 WILKINSON ST.', '107 SHEARWATER CT.'],\n",
       "      dtype=object)"
      ]
     },
     "metadata": {},
     "execution_count": 67
    }
   ],
   "source": [
    "errors_df.iloc[geocode_errors].propertyLocation.unique()"
   ]
  },
  {
   "cell_type": "code",
   "execution_count": 68,
   "metadata": {},
   "outputs": [
    {
     "output_type": "execute_result",
     "data": {
      "text/plain": [
       "6"
      ]
     },
     "metadata": {},
     "execution_count": 68
    }
   ],
   "source": [
    "len(errors_df.iloc[geocode_errors].propertyLocation.unique())"
   ]
  },
  {
   "source": [
    "### Before we save the smaller errors data frame, we need to append the cleaned errors to the original df"
   ],
   "cell_type": "markdown",
   "metadata": {}
  },
  {
   "cell_type": "code",
   "execution_count": 69,
   "metadata": {},
   "outputs": [],
   "source": [
    "df.append(errors_df.dropna(axis=0, subset=['gCode'])).to_pickle('JC_residential.pkl')"
   ]
  },
  {
   "cell_type": "code",
   "execution_count": 70,
   "metadata": {},
   "outputs": [],
   "source": [
    "geocode_errors = [i for i,e in enumerate(errors_df.gCode) if e == None]"
   ]
  },
  {
   "cell_type": "code",
   "execution_count": 71,
   "metadata": {},
   "outputs": [
    {
     "output_type": "execute_result",
     "data": {
      "text/plain": [
       "             propertyLocation                         ownersName  \\\n",
       "2529              78A RNE ST.     MITTAL,CHITRA KOTHARI & DEEPAK   \n",
       "19294         10 PAULMIER PL.   DOWLING, JAMES PATRICK & TOBY K.   \n",
       "19691  280 GREGORY PARK PLAZA  METROPOLIS TOWERS APT. CORP. MGT.   \n",
       "19692  270 GREGORY PARK PLAZA  METROPOLIS TOWERS APT. CORP. MGT.   \n",
       "32583        32 WILKINSON ST.                 HARIKRISHAN, HARRY   \n",
       "38254      107 SHEARWATER CT.  SANTANIELLO III, PHILLIP & CLAIRE   \n",
       "\n",
       "         ownersMailingAddress              cityStateZip  \\\n",
       "2529      76 CONSTITUTION WAY  JERSEY CITY, N.J.  07302   \n",
       "19294          10 PAULMIER PL   JERSEY CITY, N J  07302   \n",
       "19691  280 GREGORY PARK PLAZA    JERSEY CITY, NJ  07302   \n",
       "19692  270 GREGORY PARK PLAZA    JERSEY CITY, NJ  07302   \n",
       "32583         23 TERHUNE AVE.    JERSEY CITY, NJ  07305   \n",
       "38254      107 SHEARWATER CT.    JERSEY CITY, NJ  07305   \n",
       "\n",
       "                             ownersFullMailingAddress  \\\n",
       "2529    76 CONSTITUTION WAY, JERSEY CITY, N.J.  07302   \n",
       "19294         10 PAULMIER PL, JERSEY CITY, N J  07302   \n",
       "19691  280 GREGORY PARK PLAZA, JERSEY CITY, NJ  07302   \n",
       "19692  270 GREGORY PARK PLAZA, JERSEY CITY, NJ  07302   \n",
       "32583         23 TERHUNE AVE., JERSEY CITY, NJ  07305   \n",
       "38254      107 SHEARWATER CT., JERSEY CITY, NJ  07305   \n",
       "\n",
       "                          propertyFullAddress  propertiesOwned  units gCode  \n",
       "2529              78A RNE ST. Jersey City, NJ                1      1  None  \n",
       "19294         10 PAULMIER PL. Jersey City, NJ                1      1  None  \n",
       "19691  280 GREGORY PARK PLAZA Jersey City, NJ                2      1  None  \n",
       "19692  270 GREGORY PARK PLAZA Jersey City, NJ                2      1  None  \n",
       "32583        32 WILKINSON ST. Jersey City, NJ                1      1  None  \n",
       "38254      107 SHEARWATER CT. Jersey City, NJ                1      1  None  "
      ],
      "text/html": "<div>\n<style scoped>\n    .dataframe tbody tr th:only-of-type {\n        vertical-align: middle;\n    }\n\n    .dataframe tbody tr th {\n        vertical-align: top;\n    }\n\n    .dataframe thead th {\n        text-align: right;\n    }\n</style>\n<table border=\"1\" class=\"dataframe\">\n  <thead>\n    <tr style=\"text-align: right;\">\n      <th></th>\n      <th>propertyLocation</th>\n      <th>ownersName</th>\n      <th>ownersMailingAddress</th>\n      <th>cityStateZip</th>\n      <th>ownersFullMailingAddress</th>\n      <th>propertyFullAddress</th>\n      <th>propertiesOwned</th>\n      <th>units</th>\n      <th>gCode</th>\n    </tr>\n  </thead>\n  <tbody>\n    <tr>\n      <th>2529</th>\n      <td>78A RNE ST.</td>\n      <td>MITTAL,CHITRA KOTHARI &amp; DEEPAK</td>\n      <td>76 CONSTITUTION WAY</td>\n      <td>JERSEY CITY, N.J.  07302</td>\n      <td>76 CONSTITUTION WAY, JERSEY CITY, N.J.  07302</td>\n      <td>78A RNE ST. Jersey City, NJ</td>\n      <td>1</td>\n      <td>1</td>\n      <td>None</td>\n    </tr>\n    <tr>\n      <th>19294</th>\n      <td>10 PAULMIER PL.</td>\n      <td>DOWLING, JAMES PATRICK &amp; TOBY K.</td>\n      <td>10 PAULMIER PL</td>\n      <td>JERSEY CITY, N J  07302</td>\n      <td>10 PAULMIER PL, JERSEY CITY, N J  07302</td>\n      <td>10 PAULMIER PL. Jersey City, NJ</td>\n      <td>1</td>\n      <td>1</td>\n      <td>None</td>\n    </tr>\n    <tr>\n      <th>19691</th>\n      <td>280 GREGORY PARK PLAZA</td>\n      <td>METROPOLIS TOWERS APT. CORP. MGT.</td>\n      <td>280 GREGORY PARK PLAZA</td>\n      <td>JERSEY CITY, NJ  07302</td>\n      <td>280 GREGORY PARK PLAZA, JERSEY CITY, NJ  07302</td>\n      <td>280 GREGORY PARK PLAZA Jersey City, NJ</td>\n      <td>2</td>\n      <td>1</td>\n      <td>None</td>\n    </tr>\n    <tr>\n      <th>19692</th>\n      <td>270 GREGORY PARK PLAZA</td>\n      <td>METROPOLIS TOWERS APT. CORP. MGT.</td>\n      <td>270 GREGORY PARK PLAZA</td>\n      <td>JERSEY CITY, NJ  07302</td>\n      <td>270 GREGORY PARK PLAZA, JERSEY CITY, NJ  07302</td>\n      <td>270 GREGORY PARK PLAZA Jersey City, NJ</td>\n      <td>2</td>\n      <td>1</td>\n      <td>None</td>\n    </tr>\n    <tr>\n      <th>32583</th>\n      <td>32 WILKINSON ST.</td>\n      <td>HARIKRISHAN, HARRY</td>\n      <td>23 TERHUNE AVE.</td>\n      <td>JERSEY CITY, NJ  07305</td>\n      <td>23 TERHUNE AVE., JERSEY CITY, NJ  07305</td>\n      <td>32 WILKINSON ST. Jersey City, NJ</td>\n      <td>1</td>\n      <td>1</td>\n      <td>None</td>\n    </tr>\n    <tr>\n      <th>38254</th>\n      <td>107 SHEARWATER CT.</td>\n      <td>SANTANIELLO III, PHILLIP &amp; CLAIRE</td>\n      <td>107 SHEARWATER CT.</td>\n      <td>JERSEY CITY, NJ  07305</td>\n      <td>107 SHEARWATER CT., JERSEY CITY, NJ  07305</td>\n      <td>107 SHEARWATER CT. Jersey City, NJ</td>\n      <td>1</td>\n      <td>1</td>\n      <td>None</td>\n    </tr>\n  </tbody>\n</table>\n</div>"
     },
     "metadata": {},
     "execution_count": 71
    }
   ],
   "source": [
    "errors_df.iloc[geocode_errors]"
   ]
  },
  {
   "cell_type": "code",
   "execution_count": 72,
   "metadata": {},
   "outputs": [],
   "source": [
    "# reassigning the errors_df to the remaining errors\n",
    "errors_df = errors_df.iloc[geocode_errors].copy()"
   ]
  },
  {
   "cell_type": "code",
   "execution_count": 73,
   "metadata": {},
   "outputs": [
    {
     "output_type": "execute_result",
     "data": {
      "text/plain": [
       "             propertyLocation                         ownersName  \\\n",
       "2529              78A RNE ST.     MITTAL,CHITRA KOTHARI & DEEPAK   \n",
       "19294         10 PAULMIER PL.   DOWLING, JAMES PATRICK & TOBY K.   \n",
       "19691  280 GREGORY PARK PLAZA  METROPOLIS TOWERS APT. CORP. MGT.   \n",
       "19692  270 GREGORY PARK PLAZA  METROPOLIS TOWERS APT. CORP. MGT.   \n",
       "32583        32 WILKINSON ST.                 HARIKRISHAN, HARRY   \n",
       "38254      107 SHEARWATER CT.  SANTANIELLO III, PHILLIP & CLAIRE   \n",
       "\n",
       "         ownersMailingAddress              cityStateZip  \\\n",
       "2529      76 CONSTITUTION WAY  JERSEY CITY, N.J.  07302   \n",
       "19294          10 PAULMIER PL   JERSEY CITY, N J  07302   \n",
       "19691  280 GREGORY PARK PLAZA    JERSEY CITY, NJ  07302   \n",
       "19692  270 GREGORY PARK PLAZA    JERSEY CITY, NJ  07302   \n",
       "32583         23 TERHUNE AVE.    JERSEY CITY, NJ  07305   \n",
       "38254      107 SHEARWATER CT.    JERSEY CITY, NJ  07305   \n",
       "\n",
       "                             ownersFullMailingAddress  \\\n",
       "2529    76 CONSTITUTION WAY, JERSEY CITY, N.J.  07302   \n",
       "19294         10 PAULMIER PL, JERSEY CITY, N J  07302   \n",
       "19691  280 GREGORY PARK PLAZA, JERSEY CITY, NJ  07302   \n",
       "19692  270 GREGORY PARK PLAZA, JERSEY CITY, NJ  07302   \n",
       "32583         23 TERHUNE AVE., JERSEY CITY, NJ  07305   \n",
       "38254      107 SHEARWATER CT., JERSEY CITY, NJ  07305   \n",
       "\n",
       "                          propertyFullAddress  propertiesOwned  units gCode  \n",
       "2529              78A RNE ST. Jersey City, NJ                1      1  None  \n",
       "19294         10 PAULMIER PL. Jersey City, NJ                1      1  None  \n",
       "19691  280 GREGORY PARK PLAZA Jersey City, NJ                2      1  None  \n",
       "19692  270 GREGORY PARK PLAZA Jersey City, NJ                2      1  None  \n",
       "32583        32 WILKINSON ST. Jersey City, NJ                1      1  None  \n",
       "38254      107 SHEARWATER CT. Jersey City, NJ                1      1  None  "
      ],
      "text/html": "<div>\n<style scoped>\n    .dataframe tbody tr th:only-of-type {\n        vertical-align: middle;\n    }\n\n    .dataframe tbody tr th {\n        vertical-align: top;\n    }\n\n    .dataframe thead th {\n        text-align: right;\n    }\n</style>\n<table border=\"1\" class=\"dataframe\">\n  <thead>\n    <tr style=\"text-align: right;\">\n      <th></th>\n      <th>propertyLocation</th>\n      <th>ownersName</th>\n      <th>ownersMailingAddress</th>\n      <th>cityStateZip</th>\n      <th>ownersFullMailingAddress</th>\n      <th>propertyFullAddress</th>\n      <th>propertiesOwned</th>\n      <th>units</th>\n      <th>gCode</th>\n    </tr>\n  </thead>\n  <tbody>\n    <tr>\n      <th>2529</th>\n      <td>78A RNE ST.</td>\n      <td>MITTAL,CHITRA KOTHARI &amp; DEEPAK</td>\n      <td>76 CONSTITUTION WAY</td>\n      <td>JERSEY CITY, N.J.  07302</td>\n      <td>76 CONSTITUTION WAY, JERSEY CITY, N.J.  07302</td>\n      <td>78A RNE ST. Jersey City, NJ</td>\n      <td>1</td>\n      <td>1</td>\n      <td>None</td>\n    </tr>\n    <tr>\n      <th>19294</th>\n      <td>10 PAULMIER PL.</td>\n      <td>DOWLING, JAMES PATRICK &amp; TOBY K.</td>\n      <td>10 PAULMIER PL</td>\n      <td>JERSEY CITY, N J  07302</td>\n      <td>10 PAULMIER PL, JERSEY CITY, N J  07302</td>\n      <td>10 PAULMIER PL. Jersey City, NJ</td>\n      <td>1</td>\n      <td>1</td>\n      <td>None</td>\n    </tr>\n    <tr>\n      <th>19691</th>\n      <td>280 GREGORY PARK PLAZA</td>\n      <td>METROPOLIS TOWERS APT. CORP. MGT.</td>\n      <td>280 GREGORY PARK PLAZA</td>\n      <td>JERSEY CITY, NJ  07302</td>\n      <td>280 GREGORY PARK PLAZA, JERSEY CITY, NJ  07302</td>\n      <td>280 GREGORY PARK PLAZA Jersey City, NJ</td>\n      <td>2</td>\n      <td>1</td>\n      <td>None</td>\n    </tr>\n    <tr>\n      <th>19692</th>\n      <td>270 GREGORY PARK PLAZA</td>\n      <td>METROPOLIS TOWERS APT. CORP. MGT.</td>\n      <td>270 GREGORY PARK PLAZA</td>\n      <td>JERSEY CITY, NJ  07302</td>\n      <td>270 GREGORY PARK PLAZA, JERSEY CITY, NJ  07302</td>\n      <td>270 GREGORY PARK PLAZA Jersey City, NJ</td>\n      <td>2</td>\n      <td>1</td>\n      <td>None</td>\n    </tr>\n    <tr>\n      <th>32583</th>\n      <td>32 WILKINSON ST.</td>\n      <td>HARIKRISHAN, HARRY</td>\n      <td>23 TERHUNE AVE.</td>\n      <td>JERSEY CITY, NJ  07305</td>\n      <td>23 TERHUNE AVE., JERSEY CITY, NJ  07305</td>\n      <td>32 WILKINSON ST. Jersey City, NJ</td>\n      <td>1</td>\n      <td>1</td>\n      <td>None</td>\n    </tr>\n    <tr>\n      <th>38254</th>\n      <td>107 SHEARWATER CT.</td>\n      <td>SANTANIELLO III, PHILLIP &amp; CLAIRE</td>\n      <td>107 SHEARWATER CT.</td>\n      <td>JERSEY CITY, NJ  07305</td>\n      <td>107 SHEARWATER CT., JERSEY CITY, NJ  07305</td>\n      <td>107 SHEARWATER CT. Jersey City, NJ</td>\n      <td>1</td>\n      <td>1</td>\n      <td>None</td>\n    </tr>\n  </tbody>\n</table>\n</div>"
     },
     "metadata": {},
     "execution_count": 73
    }
   ],
   "source": [
    "errors_df"
   ]
  },
  {
   "cell_type": "code",
   "execution_count": 74,
   "metadata": {},
   "outputs": [],
   "source": [
    "errors_df.to_pickle('errors_df.pkl')"
   ]
  },
  {
   "cell_type": "code",
   "execution_count": 56,
   "metadata": {},
   "outputs": [
    {
     "output_type": "execute_result",
     "data": {
      "text/plain": [
       "\"df['latitude'] = [g.latitude for g in df.gCode]\\ndf['longitude'] = [g.longitude for g in df.gCode]\""
      ]
     },
     "metadata": {},
     "execution_count": 56
    }
   ],
   "source": [
    "\"\"\"df['latitude'] = [g.latitude for g in df.gCode]\n",
    "df['longitude'] = [g.longitude for g in df.gCode]\"\"\""
   ]
  }
 ]
}