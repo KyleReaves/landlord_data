{
 "metadata": {
  "orig_nbformat": 4,
  "kernelspec": {
   "name": "python3",
   "display_name": "Python 3.9.6",
   "language": "python"
  },
  "interpreter": {
   "hash": "ac2eaa0ea0ebeafcc7822e65e46aa9d4f966f30b695406963e145ea4a91cd4fc"
  }
 },
 "nbformat": 4,
 "nbformat_minor": 2,
 "cells": [
  {
   "source": [
    "# FindYourLandlord Data Cleaning\n",
    "### This project aims to:\n",
    "* provide a visual representation for who or what entity owns the most property, what other properties the owner owns, and where\n",
    "* provide tenants in North Jersey with pertinent information about who or what owns their building or apartment\n",
    "### Beginning with Jersey City, I'll eventually expand to other cities throughout North Jersey: Paterson, Newark, Hackensack…\n",
    "### This notebook is the data portion of the project, where I will test out methods for cleaning and extracting the relevant data. The data will eventually be picked up by React and mapboxGL.\n",
    "### The csv's were retrieved from Monmouth County's Tax Assessor website:\n",
    "### https://tax1.co.monmouth.nj.us/cgi-bin/prc6.cgi?menu=index&ms_user=monm&passwd=data&district=1301&mode=11\n",
    "\n",
    "## To Do:\n",
    "* the data is unbelievably irregular: needs cleaning and normalization\n",
    "* create column of integers representing the number of unique properties associated with the owner: this informs the size of the circle's radius on the map\n",
    "* create column of an array of strings of the properties associated with the owner: this informs the size of the bounding box of selected properties on the map\n",
    "* units: if the cells in the column of string arrays has a len of 1, but the column of integers is < 1, it represents the number of units at the property"
   ],
   "cell_type": "markdown",
   "metadata": {}
  },
  {
   "cell_type": "code",
   "execution_count": 1,
   "metadata": {},
   "outputs": [],
   "source": [
    "import pandas as pd\n",
    "import os\n",
    "import numpy as np\n",
    "from geopy.geocoders import Nominatim\n",
    "from geopy.extra.rate_limiter import RateLimiter\n",
    "\n",
    "# for returning lat long coordinates from addresses\n",
    "geolocator = Nominatim(user_agent=\"myGeolocator\", timeout=2)"
   ]
  },
  {
   "cell_type": "code",
   "execution_count": 2,
   "metadata": {},
   "outputs": [],
   "source": [
    "hackensack = pd.read_csv('0223monm205221.csv', dtype={14: str, 20: str, 24: str})\n",
    "\n",
    "jersey_city = pd.read_csv('0906monm220028.csv', dtype={20: str,\n",
    "                                                       22: str,\n",
    "                                                       23: str,\n",
    "                                                       25: str,\n",
    "                                                       42: str,\n",
    "                                                       43: str,\n",
    "                                                       47: str,\n",
    "                                                       87: str,\n",
    "                                                       89: str})\n",
    "\n",
    "jersey_city.rename(columns={'Property Location': 'property_location', \n",
    "                            \"Owner's Name\": 'owners_name', \n",
    "                            \"Owner's Mailing Address\": 'owners_mailing_address', \n",
    "                            \"City/State/Zip\": \"city_state_zip\"}, inplace=True)\n",
    "\n",
    "hackensack.rename(columns={'Property Location': 'property_location', \n",
    "                            \"Owner's Name\": 'owners_name', \n",
    "                            \"Owner's Mailing Address\": 'owners_mailing_address',\n",
    "                            \"City/State/Zip\": \"city_state_zip\"}, inplace=True)\n",
    "\n",
    "\n",
    "# title() case is necessary in order to return coordinates with Nominatim \n",
    "jersey_city['property_full_address'] = jersey_city.property_location.str.title() + ', Jersey City, NJ'\n",
    "# we also need a column for the owner's full address\n",
    "# city_state_zip refers to the owners_mailing_address, not property_location\n",
    "jersey_city['owners_full_address'] = jersey_city.owners_mailing_address + ', ' + jersey_city.city_state_zip"
   ]
  },
  {
   "cell_type": "code",
   "execution_count": 3,
   "metadata": {},
   "outputs": [],
   "source": [
    "def get_owner(address=str):\n",
    "    owner = jersey_city[jersey_city.property_location == address.strip()]['owners_name'] \n",
    "    return owner\n",
    "\n",
    "def get_properties(owner=str):\n",
    "    unique_properties = jersey_city[jersey_city.owners_name == owner]['property_location'].unique()\n",
    "    return unique_properties.tolist()\n",
    "\n",
    "def get_number_properties_owned(owner=str):\n",
    "    number_properties_owned = jersey_city[jersey_city.owners_name == owner]['property_location'].count()\n",
    "    return number_properties_owned"
   ]
  },
  {
   "cell_type": "code",
   "execution_count": 4,
   "metadata": {},
   "outputs": [
    {
     "output_type": "execute_result",
     "data": {
      "text/plain": [
       "       Municipality    Block   Lot Qual    property_location Property Class  \\\n",
       "0               906    101.0  1.01   HM    1075 SECAUCUS RD.              1   \n",
       "1               906    101.0  2.00   HM    1045 SECAUCUS RD.             4A   \n",
       "2               906    101.0  3.00   HM        SECAUCUS ROAD            15C   \n",
       "3               906    101.0  5.00   HM  INSIDE SECAUCUS RD.             4A   \n",
       "4               906    101.0  6.00   HM          SECAUCUS RD            15C   \n",
       "...             ...      ...   ...  ...                  ...            ...   \n",
       "63829           906  99990.0  1.00  NaN              VARIOUS             6A   \n",
       "63830           906  99990.0  2.00  NaN              VARIOUS              1   \n",
       "63831           906  99990.0  3.00  NaN              VARIOUS            15F   \n",
       "63832           906  99990.0  4.00  NaN              VARIOUS             4B   \n",
       "63833           906  99990.0  5.00  NaN         75 ROUTE 440            15C   \n",
       "\n",
       "                               owners_name     owners_mailing_address  \\\n",
       "0         20 AQUARIUM DR.,LLC%NAT'L RETAIL          611 ROUTE 46 WEST   \n",
       "1        PUBLIC SERVICE ELECTRIC & GAS CO.   80 PARK PL.TAX DEPT.T-6B   \n",
       "2                 UNITED STATES OF AMERICA     475 L'ENFANT PLAZA, SW   \n",
       "3      HOLLAND CO.C/O PUB.SER.GAS&ELEC.CO.  80 PARK PL.-TAX DEPT.T-6B   \n",
       "4                 UNITED STATES OF AMERICA     475 L'ENFANT PLAZA, SW   \n",
       "...                                    ...                        ...   \n",
       "63829         VERIZON-NJ C/O DUFF & PHELPS              P.O. BOX 2749   \n",
       "63830        TEXAS EASTERN TRANSMISSION,LP              P.O. BOX 2629   \n",
       "63831                          AIRBNB, INC            888 BRANNAN ST.   \n",
       "63832       TRANSCONTINENTAL GAS PIPE LINE     P.O. BOX 2400, MD 46-4   \n",
       "63833                STATE OF NJ C/O JCMUA           13 E. LINDEN AVE   \n",
       "\n",
       "                       city_state_zip  Sq. Ft.  ...  Assessed.3 Latitude  \\\n",
       "0      HASBROUCK HEIGHTS, N.J.  07604        0  ...  20733400.0        0   \n",
       "1                 NEWARK, N.J.  07102        0  ...    227600.0        0   \n",
       "2              WASHINGTON, D C  20260        0  ...   4182300.0        0   \n",
       "3                 NEWARK, N.J.  07102        0  ...    682400.0        0   \n",
       "4              WASHINGTON, D C  20260        0  ...   7122400.0        0   \n",
       "...                               ...      ...  ...         ...      ...   \n",
       "63829              ADDISON, TX  75001        0  ...  64373216.0        0   \n",
       "63830              ADDISON, TX  75001        0  ...  22067400.0        0   \n",
       "63831        SAN FRANCISCO, CA  94103        0  ...         0.0        0   \n",
       "63832                TULSA, OK  74102        0  ...   2286000.0        0   \n",
       "63833          JERSEY CITY, NJ  07304        0  ...         0.0        0   \n",
       "\n",
       "      Longitude Neigh  VCS StyDesc Style  Unnamed: 90  \\\n",
       "0             0   NaN  NaN     NaN   NaN          NaN   \n",
       "1             0   NaN  NaN     NaN   NaN          NaN   \n",
       "2             0   NaN  NaN     NaN   NaN          NaN   \n",
       "3             0   NaN  NaN     NaN   NaN          NaN   \n",
       "4             0   NaN  NaN     NaN   NaN          NaN   \n",
       "...         ...   ...  ...     ...   ...          ...   \n",
       "63829         0   NaN  NaN     NaN   NaN          NaN   \n",
       "63830         0   NaN  NaN     NaN   NaN          NaN   \n",
       "63831         0   NaN  NaN     NaN   NaN          NaN   \n",
       "63832         0   NaN  NaN     NaN   NaN          NaN   \n",
       "63833         0   NaN  NaN     NaN   NaN          NaN   \n",
       "\n",
       "                      property_full_address  \\\n",
       "0        1075 Secaucus Rd., Jersey City, NJ   \n",
       "1        1045 Secaucus Rd., Jersey City, NJ   \n",
       "2            Secaucus Road, Jersey City, NJ   \n",
       "3      Inside Secaucus Rd., Jersey City, NJ   \n",
       "4              Secaucus Rd, Jersey City, NJ   \n",
       "...                                     ...   \n",
       "63829              Various, Jersey City, NJ   \n",
       "63830              Various, Jersey City, NJ   \n",
       "63831              Various, Jersey City, NJ   \n",
       "63832              Various, Jersey City, NJ   \n",
       "63833         75 Route 440, Jersey City, NJ   \n",
       "\n",
       "                                     owners_full_address  \n",
       "0      611 ROUTE 46 WEST, HASBROUCK HEIGHTS, N.J.  07604  \n",
       "1          80 PARK PL.TAX DEPT.T-6B, NEWARK, N.J.  07102  \n",
       "2         475 L'ENFANT PLAZA, SW, WASHINGTON, D C  20260  \n",
       "3         80 PARK PL.-TAX DEPT.T-6B, NEWARK, N.J.  07102  \n",
       "4         475 L'ENFANT PLAZA, SW, WASHINGTON, D C  20260  \n",
       "...                                                  ...  \n",
       "63829                  P.O. BOX 2749, ADDISON, TX  75001  \n",
       "63830                  P.O. BOX 2629, ADDISON, TX  75001  \n",
       "63831          888 BRANNAN ST., SAN FRANCISCO, CA  94103  \n",
       "63832           P.O. BOX 2400, MD 46-4, TULSA, OK  74102  \n",
       "63833           13 E. LINDEN AVE, JERSEY CITY, NJ  07304  \n",
       "\n",
       "[63834 rows x 93 columns]"
      ],
      "text/html": "<div>\n<style scoped>\n    .dataframe tbody tr th:only-of-type {\n        vertical-align: middle;\n    }\n\n    .dataframe tbody tr th {\n        vertical-align: top;\n    }\n\n    .dataframe thead th {\n        text-align: right;\n    }\n</style>\n<table border=\"1\" class=\"dataframe\">\n  <thead>\n    <tr style=\"text-align: right;\">\n      <th></th>\n      <th>Municipality</th>\n      <th>Block</th>\n      <th>Lot</th>\n      <th>Qual</th>\n      <th>property_location</th>\n      <th>Property Class</th>\n      <th>owners_name</th>\n      <th>owners_mailing_address</th>\n      <th>city_state_zip</th>\n      <th>Sq. Ft.</th>\n      <th>...</th>\n      <th>Assessed.3</th>\n      <th>Latitude</th>\n      <th>Longitude</th>\n      <th>Neigh</th>\n      <th>VCS</th>\n      <th>StyDesc</th>\n      <th>Style</th>\n      <th>Unnamed: 90</th>\n      <th>property_full_address</th>\n      <th>owners_full_address</th>\n    </tr>\n  </thead>\n  <tbody>\n    <tr>\n      <th>0</th>\n      <td>906</td>\n      <td>101.0</td>\n      <td>1.01</td>\n      <td>HM</td>\n      <td>1075 SECAUCUS RD.</td>\n      <td>1</td>\n      <td>20 AQUARIUM DR.,LLC%NAT'L RETAIL</td>\n      <td>611 ROUTE 46 WEST</td>\n      <td>HASBROUCK HEIGHTS, N.J.  07604</td>\n      <td>0</td>\n      <td>...</td>\n      <td>20733400.0</td>\n      <td>0</td>\n      <td>0</td>\n      <td>NaN</td>\n      <td>NaN</td>\n      <td>NaN</td>\n      <td>NaN</td>\n      <td>NaN</td>\n      <td>1075 Secaucus Rd., Jersey City, NJ</td>\n      <td>611 ROUTE 46 WEST, HASBROUCK HEIGHTS, N.J.  07604</td>\n    </tr>\n    <tr>\n      <th>1</th>\n      <td>906</td>\n      <td>101.0</td>\n      <td>2.00</td>\n      <td>HM</td>\n      <td>1045 SECAUCUS RD.</td>\n      <td>4A</td>\n      <td>PUBLIC SERVICE ELECTRIC &amp; GAS CO.</td>\n      <td>80 PARK PL.TAX DEPT.T-6B</td>\n      <td>NEWARK, N.J.  07102</td>\n      <td>0</td>\n      <td>...</td>\n      <td>227600.0</td>\n      <td>0</td>\n      <td>0</td>\n      <td>NaN</td>\n      <td>NaN</td>\n      <td>NaN</td>\n      <td>NaN</td>\n      <td>NaN</td>\n      <td>1045 Secaucus Rd., Jersey City, NJ</td>\n      <td>80 PARK PL.TAX DEPT.T-6B, NEWARK, N.J.  07102</td>\n    </tr>\n    <tr>\n      <th>2</th>\n      <td>906</td>\n      <td>101.0</td>\n      <td>3.00</td>\n      <td>HM</td>\n      <td>SECAUCUS ROAD</td>\n      <td>15C</td>\n      <td>UNITED STATES OF AMERICA</td>\n      <td>475 L'ENFANT PLAZA, SW</td>\n      <td>WASHINGTON, D C  20260</td>\n      <td>0</td>\n      <td>...</td>\n      <td>4182300.0</td>\n      <td>0</td>\n      <td>0</td>\n      <td>NaN</td>\n      <td>NaN</td>\n      <td>NaN</td>\n      <td>NaN</td>\n      <td>NaN</td>\n      <td>Secaucus Road, Jersey City, NJ</td>\n      <td>475 L'ENFANT PLAZA, SW, WASHINGTON, D C  20260</td>\n    </tr>\n    <tr>\n      <th>3</th>\n      <td>906</td>\n      <td>101.0</td>\n      <td>5.00</td>\n      <td>HM</td>\n      <td>INSIDE SECAUCUS RD.</td>\n      <td>4A</td>\n      <td>HOLLAND CO.C/O PUB.SER.GAS&amp;ELEC.CO.</td>\n      <td>80 PARK PL.-TAX DEPT.T-6B</td>\n      <td>NEWARK, N.J.  07102</td>\n      <td>0</td>\n      <td>...</td>\n      <td>682400.0</td>\n      <td>0</td>\n      <td>0</td>\n      <td>NaN</td>\n      <td>NaN</td>\n      <td>NaN</td>\n      <td>NaN</td>\n      <td>NaN</td>\n      <td>Inside Secaucus Rd., Jersey City, NJ</td>\n      <td>80 PARK PL.-TAX DEPT.T-6B, NEWARK, N.J.  07102</td>\n    </tr>\n    <tr>\n      <th>4</th>\n      <td>906</td>\n      <td>101.0</td>\n      <td>6.00</td>\n      <td>HM</td>\n      <td>SECAUCUS RD</td>\n      <td>15C</td>\n      <td>UNITED STATES OF AMERICA</td>\n      <td>475 L'ENFANT PLAZA, SW</td>\n      <td>WASHINGTON, D C  20260</td>\n      <td>0</td>\n      <td>...</td>\n      <td>7122400.0</td>\n      <td>0</td>\n      <td>0</td>\n      <td>NaN</td>\n      <td>NaN</td>\n      <td>NaN</td>\n      <td>NaN</td>\n      <td>NaN</td>\n      <td>Secaucus Rd, Jersey City, NJ</td>\n      <td>475 L'ENFANT PLAZA, SW, WASHINGTON, D C  20260</td>\n    </tr>\n    <tr>\n      <th>...</th>\n      <td>...</td>\n      <td>...</td>\n      <td>...</td>\n      <td>...</td>\n      <td>...</td>\n      <td>...</td>\n      <td>...</td>\n      <td>...</td>\n      <td>...</td>\n      <td>...</td>\n      <td>...</td>\n      <td>...</td>\n      <td>...</td>\n      <td>...</td>\n      <td>...</td>\n      <td>...</td>\n      <td>...</td>\n      <td>...</td>\n      <td>...</td>\n      <td>...</td>\n      <td>...</td>\n    </tr>\n    <tr>\n      <th>63829</th>\n      <td>906</td>\n      <td>99990.0</td>\n      <td>1.00</td>\n      <td>NaN</td>\n      <td>VARIOUS</td>\n      <td>6A</td>\n      <td>VERIZON-NJ C/O DUFF &amp; PHELPS</td>\n      <td>P.O. BOX 2749</td>\n      <td>ADDISON, TX  75001</td>\n      <td>0</td>\n      <td>...</td>\n      <td>64373216.0</td>\n      <td>0</td>\n      <td>0</td>\n      <td>NaN</td>\n      <td>NaN</td>\n      <td>NaN</td>\n      <td>NaN</td>\n      <td>NaN</td>\n      <td>Various, Jersey City, NJ</td>\n      <td>P.O. BOX 2749, ADDISON, TX  75001</td>\n    </tr>\n    <tr>\n      <th>63830</th>\n      <td>906</td>\n      <td>99990.0</td>\n      <td>2.00</td>\n      <td>NaN</td>\n      <td>VARIOUS</td>\n      <td>1</td>\n      <td>TEXAS EASTERN TRANSMISSION,LP</td>\n      <td>P.O. BOX 2629</td>\n      <td>ADDISON, TX  75001</td>\n      <td>0</td>\n      <td>...</td>\n      <td>22067400.0</td>\n      <td>0</td>\n      <td>0</td>\n      <td>NaN</td>\n      <td>NaN</td>\n      <td>NaN</td>\n      <td>NaN</td>\n      <td>NaN</td>\n      <td>Various, Jersey City, NJ</td>\n      <td>P.O. BOX 2629, ADDISON, TX  75001</td>\n    </tr>\n    <tr>\n      <th>63831</th>\n      <td>906</td>\n      <td>99990.0</td>\n      <td>3.00</td>\n      <td>NaN</td>\n      <td>VARIOUS</td>\n      <td>15F</td>\n      <td>AIRBNB, INC</td>\n      <td>888 BRANNAN ST.</td>\n      <td>SAN FRANCISCO, CA  94103</td>\n      <td>0</td>\n      <td>...</td>\n      <td>0.0</td>\n      <td>0</td>\n      <td>0</td>\n      <td>NaN</td>\n      <td>NaN</td>\n      <td>NaN</td>\n      <td>NaN</td>\n      <td>NaN</td>\n      <td>Various, Jersey City, NJ</td>\n      <td>888 BRANNAN ST., SAN FRANCISCO, CA  94103</td>\n    </tr>\n    <tr>\n      <th>63832</th>\n      <td>906</td>\n      <td>99990.0</td>\n      <td>4.00</td>\n      <td>NaN</td>\n      <td>VARIOUS</td>\n      <td>4B</td>\n      <td>TRANSCONTINENTAL GAS PIPE LINE</td>\n      <td>P.O. BOX 2400, MD 46-4</td>\n      <td>TULSA, OK  74102</td>\n      <td>0</td>\n      <td>...</td>\n      <td>2286000.0</td>\n      <td>0</td>\n      <td>0</td>\n      <td>NaN</td>\n      <td>NaN</td>\n      <td>NaN</td>\n      <td>NaN</td>\n      <td>NaN</td>\n      <td>Various, Jersey City, NJ</td>\n      <td>P.O. BOX 2400, MD 46-4, TULSA, OK  74102</td>\n    </tr>\n    <tr>\n      <th>63833</th>\n      <td>906</td>\n      <td>99990.0</td>\n      <td>5.00</td>\n      <td>NaN</td>\n      <td>75 ROUTE 440</td>\n      <td>15C</td>\n      <td>STATE OF NJ C/O JCMUA</td>\n      <td>13 E. LINDEN AVE</td>\n      <td>JERSEY CITY, NJ  07304</td>\n      <td>0</td>\n      <td>...</td>\n      <td>0.0</td>\n      <td>0</td>\n      <td>0</td>\n      <td>NaN</td>\n      <td>NaN</td>\n      <td>NaN</td>\n      <td>NaN</td>\n      <td>NaN</td>\n      <td>75 Route 440, Jersey City, NJ</td>\n      <td>13 E. LINDEN AVE, JERSEY CITY, NJ  07304</td>\n    </tr>\n  </tbody>\n</table>\n<p>63834 rows × 93 columns</p>\n</div>"
     },
     "metadata": {},
     "execution_count": 4
    }
   ],
   "source": [
    "jersey_city"
   ]
  },
  {
   "source": [
    "#### The following five cells are columns which can be deleted from the dataframe...\n",
    "#### ...I needed to figure out their respective indices"
   ],
   "cell_type": "markdown",
   "metadata": {}
  },
  {
   "cell_type": "code",
   "execution_count": 5,
   "metadata": {},
   "outputs": [
    {
     "output_type": "execute_result",
     "data": {
      "text/plain": [
       "'Property Class'"
      ]
     },
     "metadata": {},
     "execution_count": 5
    }
   ],
   "source": [
    "jersey_city.columns[5]"
   ]
  },
  {
   "cell_type": "code",
   "execution_count": 6,
   "metadata": {},
   "outputs": [
    {
     "output_type": "execute_result",
     "data": {
      "text/plain": [
       "'Sq. Ft.'"
      ]
     },
     "metadata": {},
     "execution_count": 6
    }
   ],
   "source": [
    "jersey_city.columns[9]"
   ]
  },
  {
   "cell_type": "code",
   "execution_count": 7,
   "metadata": {},
   "outputs": [
    {
     "output_type": "execute_result",
     "data": {
      "text/plain": [
       "Index(['Building Class', 'Prior Block', 'Prior Lot', 'Prior Qual', 'Updated',\n",
       "       'Zone', 'Account', 'Mortgage Account', 'Bank Code', 'Sp Tax Cd',\n",
       "       'Sp Tax Cd.1', 'Sp Tax Cd.2', 'Sp Tax Cd.3', 'Map Page',\n",
       "       'Additional Lots', 'Land Desc', 'Building Desc', 'Class 4 Code',\n",
       "       'Acreage', 'EPL Own', 'EPL Use', 'EPL Desc', 'EPL Statute', 'EPL Init',\n",
       "       'EPL Further', 'EPL Facility Name', 'Taxes 1', 'Taxes 2', 'Taxes 3',\n",
       "       'Taxes 4', 'Sale Date', 'Deed Book', 'Deed Page', 'Sale Price',\n",
       "       'NU Code', 'Ratio', 'Type/Use', 'Year', 'Owner', 'Street',\n",
       "       'City/State/Zip.1', 'Land Assmnt', 'Building Assmnt', 'Exempt',\n",
       "       'Total Assmnt', 'Assessed', 'Year.1', 'Owner.1', 'Street.1',\n",
       "       'City/State/Zip.2', 'Land Assmnt.1', 'Building Assmnt.1', 'Exempt.1',\n",
       "       'Total Assmnt.1', 'Assessed.1', 'Year.2', 'Owner.2', 'Street.2',\n",
       "       'City/State/Zip.3', 'Land Assmnt.2', 'Building Assmnt.2', 'Exempt.2',\n",
       "       'Total Assmnt.2', 'Assessed.2', 'Year.3', 'Owner.3', 'Street.3',\n",
       "       'City/State/Zip.4', 'Land Assmnt.3', 'Building Assmnt.3', 'Exempt.3',\n",
       "       'Total Assmnt.3'],\n",
       "      dtype='object')"
      ]
     },
     "metadata": {},
     "execution_count": 7
    }
   ],
   "source": [
    "jersey_city.columns[11:83]"
   ]
  },
  {
   "cell_type": "code",
   "execution_count": 8,
   "metadata": {},
   "outputs": [
    {
     "output_type": "execute_result",
     "data": {
      "text/plain": [
       "'Assessed.3'"
      ]
     },
     "metadata": {},
     "execution_count": 8
    }
   ],
   "source": [
    "jersey_city.columns[83]"
   ]
  },
  {
   "cell_type": "code",
   "execution_count": 9,
   "metadata": {},
   "outputs": [
    {
     "output_type": "execute_result",
     "data": {
      "text/plain": [
       "Index(['Neigh', 'VCS', 'StyDesc', 'Style', 'Unnamed: 90'], dtype='object')"
      ]
     },
     "metadata": {},
     "execution_count": 9
    }
   ],
   "source": [
    "jersey_city.columns[86:91]"
   ]
  },
  {
   "source": [
    "## Does the owner live in the building? \n",
    "## Does the 'property location' match the 'owner's mailing address'?"
   ],
   "cell_type": "markdown",
   "metadata": {}
  },
  {
   "cell_type": "code",
   "execution_count": 10,
   "metadata": {},
   "outputs": [
    {
     "output_type": "execute_result",
     "data": {
      "text/plain": [
       "0        False\n",
       "1        False\n",
       "2        False\n",
       "3        False\n",
       "4        False\n",
       "         ...  \n",
       "63829    False\n",
       "63830    False\n",
       "63831    False\n",
       "63832    False\n",
       "63833    False\n",
       "Length: 63834, dtype: bool"
      ]
     },
     "metadata": {},
     "execution_count": 10
    }
   ],
   "source": [
    "# this method is inefficient, given we are searching 60k+ rows\n",
    "jersey_city.property_location == jersey_city.owners_mailing_address"
   ]
  },
  {
   "cell_type": "code",
   "execution_count": 11,
   "metadata": {},
   "outputs": [
    {
     "output_type": "execute_result",
     "data": {
      "text/plain": [
       "(array([   27,    29,    34, ..., 63776, 63796, 63797]),)"
      ]
     },
     "metadata": {},
     "execution_count": 11
    }
   ],
   "source": [
    "# numpy has better methods for quickly checking\n",
    "# a quick look by wrapping the same equivalence in a numpy function to see if our intuition is correct\n",
    "np.where(jersey_city.property_location == jersey_city.owners_mailing_address)"
   ]
  },
  {
   "cell_type": "code",
   "execution_count": 12,
   "metadata": {},
   "outputs": [
    {
     "output_type": "execute_result",
     "data": {
      "text/plain": [
       "COA 99 HUDSON,LLC                      626\n",
       "CITY OF JERSEY CITY                    325\n",
       "75 PARK LANE, LLC                      215\n",
       "95 VAN DAM URBAN RENEWAL, L.L.C.       129\n",
       "CONSOLIDATED RAIL                      124\n",
       "160 FIRST STREET URBAN RENEWAL, LLC    104\n",
       "JERSEY CITY REDEVELOPMENT AGENCY        92\n",
       "NEW JERSEY TRANSIT                      86\n",
       "HOUSING AUTHORITY OF JERSEY CITY        74\n",
       "LIBERTY HARBOR NORTH URBAN R., LLC      71\n",
       "STATE OF N J DEPT OF ENV PROTECTION     57\n",
       "BOARD OF EDUCATION OF J C               54\n",
       "NJ DEPARTMENT OF TRANSPORTATION         51\n",
       "300 COMMUNIPAW, INC.                    48\n",
       "VILLAGE CONDOS III, LLC.                46\n",
       "BERGEN AVE.ASSOC.C/O OSTROW             46\n",
       "PUBLIC SERVICE ELECTRIC & GAS CO.       44\n",
       "NEWPORT CENTRE                          40\n",
       "N.J. DEPT. OF TRANSPORTATION            39\n",
       "BLOCK 284 NORTH URBAN RENEWAL, LLC      33\n",
       "AUDUBON AV.RLTY. %JASCO MANAGEMENT      32\n",
       "CCA NEWPORT, INC.                       32\n",
       "ERIE 10TH URBAN RENEWAL, L.L.C.         28\n",
       "LIBERTY HARBOR NORTH U.R.CO.,LLC        28\n",
       "COUNTY OF HUDSON                        28\n",
       "ESSENDON, LLC % DIXON ADVISORY          28\n",
       "LIBERTY HARBOR HOLDING, LLC             27\n",
       "BRT, LLC % SHUSTER MANAGEMENT, LLC      27\n",
       "M.L.K. DRIVE U.R. % J.C. ECON. DEV.     26\n",
       "CONSOLIDATED R.R.                       25\n",
       "NJ PENELOPE LLC.                        24\n",
       "NEW UNITED ENTERPRISES, LLC.            24\n",
       "PORT AUTHORITY OF NY & NJ               23\n",
       "CANCRO, ALAN                            23\n",
       "LADYBUG LOFTS, LLC                      22\n",
       "J.& S. EQUITY ASSOC.C/O W.R. CLEVEN     21\n",
       "HRP HUDSON, LLC. % RYAN, LLC            21\n",
       "COLLINGWOOD URF LLC %DIXON ADVISORY     21\n",
       "LEXINGTON MANOR OWNER, LP               20\n",
       "HUDSON COUNTY COMMUNITY COLLEGE         20\n",
       "BRISBANE URF LLC                        20\n",
       "1865 KENNEDY REALTY, %JASCO MGMNT       20\n",
       "STEGMAN APARTMENTS JC, LLC              19\n",
       "PARKING AUTHORITY OF JERSEY CITY        19\n",
       "GEELONG, LLC % DIXON ADVISORY           19\n",
       "AK REALTY, LLC.                         19\n",
       "MELBOURNE, LLC.                         18\n",
       "COLLINGWOOD URF LLC% DIXON ADVISORY     18\n",
       "972-976 SUMMIT AVE.DEV.,LLC             18\n",
       "JC MOCH FM, LLC                         18\n",
       "Name: owners_name, dtype: int64"
      ]
     },
     "metadata": {},
     "execution_count": 12
    }
   ],
   "source": [
    "# owners associated with the most property addresses, in descending order\n",
    "# note that these include non-residential, commerical, and industrial zoned properties \n",
    "jersey_city.owners_name.value_counts().head(50)"
   ]
  },
  {
   "source": [
    "### property location matching the owners mailing address…can we safely assume they reside at the address?\n",
    "### as many as 16544 owners reside in the building they own: \n",
    "### however they might not all be residential properties"
   ],
   "cell_type": "markdown",
   "metadata": {}
  },
  {
   "cell_type": "code",
   "execution_count": 13,
   "metadata": {},
   "outputs": [
    {
     "output_type": "execute_result",
     "data": {
      "text/plain": [
       "       Municipality    Block   Lot Qual      property_location Property Class  \\\n",
       "27              906    201.0   7.0  NaN       817 TONNELE AVE.              1   \n",
       "29              906    201.0   9.0  NaN       823 TONNELE AVE.             4A   \n",
       "34              906    301.0   1.0  NaN       677 LIBERTY AVE.              2   \n",
       "35              906    301.0   2.0  NaN       675 LIBERTY AVE.              2   \n",
       "36              906    301.0   3.0  NaN       673 LIBERTY AVE.              2   \n",
       "...             ...      ...   ...  ...                    ...            ...   \n",
       "63740           906  30304.0  14.0  NaN      100 GARFIELD AVE.              2   \n",
       "63742           906  30304.0  16.0  NaN      104 GARFIELD AVE.              2   \n",
       "63776           906  30306.0   8.0  NaN       100 SUMMIT PLACE             4B   \n",
       "63796           906  30307.0  10.0  NaN  109 PORT JERSEY BLVD.             4B   \n",
       "63797           906  30307.0  11.0  NaN  111 PORT JERSEY BLVD.            15F   \n",
       "\n",
       "                               owners_name owners_mailing_address  \\\n",
       "27                   NELMIR REALTY, L.L.C.       817 TONNELE AVE.   \n",
       "29           GERRY GAS SUPPLY INC.C/O LILH       823 TONNELE AVE.   \n",
       "34                          PEDDI, PRADEEP       677 LIBERTY AVE.   \n",
       "35            PAREJA, HENRY A. & MIRYAM C.       675 LIBERTY AVE.   \n",
       "36                         HIRPARA, PRAVIN       673 LIBERTY AVE.   \n",
       "...                                    ...                    ...   \n",
       "63740                       SERVIDA, AUREA      100 GARFIELD AVE.   \n",
       "63742                  RODRIGUEZ, BENJAMIN      104 GARFIELD AVE.   \n",
       "63776  SUMMIT/GREENWICH URBAN RENEWAL, LLC       100 SUMMIT PLACE   \n",
       "63796                           DOMISA LLC  109 PORT JERSEY BLVD.   \n",
       "63797   111 PORT JERSEY CONDOMINIUM ASSOC.  111 PORT JERSEY BLVD.   \n",
       "\n",
       "                 city_state_zip  Sq. Ft.  ...  Assessed.3 Latitude Longitude  \\\n",
       "27       JERSEY CITY, NJ  07307        0  ...    111900.0        0         0   \n",
       "29     JERSEY CITY, N.J.  07307        0  ...   1699500.0        0         0   \n",
       "34     JERSEY CITY, N.J.  07307     1600  ...    416500.0        0         0   \n",
       "35     JERSEY CITY, N.J.  07307     1616  ...    363300.0        0         0   \n",
       "36       JERSEY CITY, NJ  07307     1600  ...    364900.0        0         0   \n",
       "...                         ...      ...  ...         ...      ...       ...   \n",
       "63740    JERSEY CITY, NJ  07305     1882  ...    271000.0        0         0   \n",
       "63742  JERSEY CITY, N.J.  07305     2412  ...    268200.0        0         0   \n",
       "63776    JERSEY CITY, NJ  07305        0  ...  13139700.0        0         0   \n",
       "63796  JERSEY CITY, N.J.  07305        0  ...   2863800.0        0         0   \n",
       "63797    JERSEY CITY, NJ  07305        0  ...         0.0        0         0   \n",
       "\n",
       "      Neigh  VCS StyDesc Style  Unnamed: 90  \\\n",
       "27      NaN  NaN     NaN   NaN          NaN   \n",
       "29      NaN  NaN     NaN   NaN          NaN   \n",
       "34      NaN  NaN     NaN   NaN          NaN   \n",
       "35      NaN  NaN     NaN   NaN          NaN   \n",
       "36      NaN  NaN     NaN   NaN          NaN   \n",
       "...     ...  ...     ...   ...          ...   \n",
       "63740   NaN  NaN     NaN   NaN          NaN   \n",
       "63742   NaN  NaN     NaN   NaN          NaN   \n",
       "63776   NaN  NaN     NaN   NaN          NaN   \n",
       "63796   NaN  NaN     NaN   NaN          NaN   \n",
       "63797   NaN  NaN     NaN   NaN          NaN   \n",
       "\n",
       "                        property_full_address  \\\n",
       "27          817 Tonnele Ave., Jersey City, NJ   \n",
       "29          823 Tonnele Ave., Jersey City, NJ   \n",
       "34          677 Liberty Ave., Jersey City, NJ   \n",
       "35          675 Liberty Ave., Jersey City, NJ   \n",
       "36          673 Liberty Ave., Jersey City, NJ   \n",
       "...                                       ...   \n",
       "63740      100 Garfield Ave., Jersey City, NJ   \n",
       "63742      104 Garfield Ave., Jersey City, NJ   \n",
       "63776       100 Summit Place, Jersey City, NJ   \n",
       "63796  109 Port Jersey Blvd., Jersey City, NJ   \n",
       "63797  111 Port Jersey Blvd., Jersey City, NJ   \n",
       "\n",
       "                                   owners_full_address  \n",
       "27            817 TONNELE AVE., JERSEY CITY, NJ  07307  \n",
       "29          823 TONNELE AVE., JERSEY CITY, N.J.  07307  \n",
       "34          677 LIBERTY AVE., JERSEY CITY, N.J.  07307  \n",
       "35          675 LIBERTY AVE., JERSEY CITY, N.J.  07307  \n",
       "36            673 LIBERTY AVE., JERSEY CITY, NJ  07307  \n",
       "...                                                ...  \n",
       "63740        100 GARFIELD AVE., JERSEY CITY, NJ  07305  \n",
       "63742      104 GARFIELD AVE., JERSEY CITY, N.J.  07305  \n",
       "63776         100 SUMMIT PLACE, JERSEY CITY, NJ  07305  \n",
       "63796  109 PORT JERSEY BLVD., JERSEY CITY, N.J.  07305  \n",
       "63797    111 PORT JERSEY BLVD., JERSEY CITY, NJ  07305  \n",
       "\n",
       "[16544 rows x 93 columns]"
      ],
      "text/html": "<div>\n<style scoped>\n    .dataframe tbody tr th:only-of-type {\n        vertical-align: middle;\n    }\n\n    .dataframe tbody tr th {\n        vertical-align: top;\n    }\n\n    .dataframe thead th {\n        text-align: right;\n    }\n</style>\n<table border=\"1\" class=\"dataframe\">\n  <thead>\n    <tr style=\"text-align: right;\">\n      <th></th>\n      <th>Municipality</th>\n      <th>Block</th>\n      <th>Lot</th>\n      <th>Qual</th>\n      <th>property_location</th>\n      <th>Property Class</th>\n      <th>owners_name</th>\n      <th>owners_mailing_address</th>\n      <th>city_state_zip</th>\n      <th>Sq. Ft.</th>\n      <th>...</th>\n      <th>Assessed.3</th>\n      <th>Latitude</th>\n      <th>Longitude</th>\n      <th>Neigh</th>\n      <th>VCS</th>\n      <th>StyDesc</th>\n      <th>Style</th>\n      <th>Unnamed: 90</th>\n      <th>property_full_address</th>\n      <th>owners_full_address</th>\n    </tr>\n  </thead>\n  <tbody>\n    <tr>\n      <th>27</th>\n      <td>906</td>\n      <td>201.0</td>\n      <td>7.0</td>\n      <td>NaN</td>\n      <td>817 TONNELE AVE.</td>\n      <td>1</td>\n      <td>NELMIR REALTY, L.L.C.</td>\n      <td>817 TONNELE AVE.</td>\n      <td>JERSEY CITY, NJ  07307</td>\n      <td>0</td>\n      <td>...</td>\n      <td>111900.0</td>\n      <td>0</td>\n      <td>0</td>\n      <td>NaN</td>\n      <td>NaN</td>\n      <td>NaN</td>\n      <td>NaN</td>\n      <td>NaN</td>\n      <td>817 Tonnele Ave., Jersey City, NJ</td>\n      <td>817 TONNELE AVE., JERSEY CITY, NJ  07307</td>\n    </tr>\n    <tr>\n      <th>29</th>\n      <td>906</td>\n      <td>201.0</td>\n      <td>9.0</td>\n      <td>NaN</td>\n      <td>823 TONNELE AVE.</td>\n      <td>4A</td>\n      <td>GERRY GAS SUPPLY INC.C/O LILH</td>\n      <td>823 TONNELE AVE.</td>\n      <td>JERSEY CITY, N.J.  07307</td>\n      <td>0</td>\n      <td>...</td>\n      <td>1699500.0</td>\n      <td>0</td>\n      <td>0</td>\n      <td>NaN</td>\n      <td>NaN</td>\n      <td>NaN</td>\n      <td>NaN</td>\n      <td>NaN</td>\n      <td>823 Tonnele Ave., Jersey City, NJ</td>\n      <td>823 TONNELE AVE., JERSEY CITY, N.J.  07307</td>\n    </tr>\n    <tr>\n      <th>34</th>\n      <td>906</td>\n      <td>301.0</td>\n      <td>1.0</td>\n      <td>NaN</td>\n      <td>677 LIBERTY AVE.</td>\n      <td>2</td>\n      <td>PEDDI, PRADEEP</td>\n      <td>677 LIBERTY AVE.</td>\n      <td>JERSEY CITY, N.J.  07307</td>\n      <td>1600</td>\n      <td>...</td>\n      <td>416500.0</td>\n      <td>0</td>\n      <td>0</td>\n      <td>NaN</td>\n      <td>NaN</td>\n      <td>NaN</td>\n      <td>NaN</td>\n      <td>NaN</td>\n      <td>677 Liberty Ave., Jersey City, NJ</td>\n      <td>677 LIBERTY AVE., JERSEY CITY, N.J.  07307</td>\n    </tr>\n    <tr>\n      <th>35</th>\n      <td>906</td>\n      <td>301.0</td>\n      <td>2.0</td>\n      <td>NaN</td>\n      <td>675 LIBERTY AVE.</td>\n      <td>2</td>\n      <td>PAREJA, HENRY A. &amp; MIRYAM C.</td>\n      <td>675 LIBERTY AVE.</td>\n      <td>JERSEY CITY, N.J.  07307</td>\n      <td>1616</td>\n      <td>...</td>\n      <td>363300.0</td>\n      <td>0</td>\n      <td>0</td>\n      <td>NaN</td>\n      <td>NaN</td>\n      <td>NaN</td>\n      <td>NaN</td>\n      <td>NaN</td>\n      <td>675 Liberty Ave., Jersey City, NJ</td>\n      <td>675 LIBERTY AVE., JERSEY CITY, N.J.  07307</td>\n    </tr>\n    <tr>\n      <th>36</th>\n      <td>906</td>\n      <td>301.0</td>\n      <td>3.0</td>\n      <td>NaN</td>\n      <td>673 LIBERTY AVE.</td>\n      <td>2</td>\n      <td>HIRPARA, PRAVIN</td>\n      <td>673 LIBERTY AVE.</td>\n      <td>JERSEY CITY, NJ  07307</td>\n      <td>1600</td>\n      <td>...</td>\n      <td>364900.0</td>\n      <td>0</td>\n      <td>0</td>\n      <td>NaN</td>\n      <td>NaN</td>\n      <td>NaN</td>\n      <td>NaN</td>\n      <td>NaN</td>\n      <td>673 Liberty Ave., Jersey City, NJ</td>\n      <td>673 LIBERTY AVE., JERSEY CITY, NJ  07307</td>\n    </tr>\n    <tr>\n      <th>...</th>\n      <td>...</td>\n      <td>...</td>\n      <td>...</td>\n      <td>...</td>\n      <td>...</td>\n      <td>...</td>\n      <td>...</td>\n      <td>...</td>\n      <td>...</td>\n      <td>...</td>\n      <td>...</td>\n      <td>...</td>\n      <td>...</td>\n      <td>...</td>\n      <td>...</td>\n      <td>...</td>\n      <td>...</td>\n      <td>...</td>\n      <td>...</td>\n      <td>...</td>\n      <td>...</td>\n    </tr>\n    <tr>\n      <th>63740</th>\n      <td>906</td>\n      <td>30304.0</td>\n      <td>14.0</td>\n      <td>NaN</td>\n      <td>100 GARFIELD AVE.</td>\n      <td>2</td>\n      <td>SERVIDA, AUREA</td>\n      <td>100 GARFIELD AVE.</td>\n      <td>JERSEY CITY, NJ  07305</td>\n      <td>1882</td>\n      <td>...</td>\n      <td>271000.0</td>\n      <td>0</td>\n      <td>0</td>\n      <td>NaN</td>\n      <td>NaN</td>\n      <td>NaN</td>\n      <td>NaN</td>\n      <td>NaN</td>\n      <td>100 Garfield Ave., Jersey City, NJ</td>\n      <td>100 GARFIELD AVE., JERSEY CITY, NJ  07305</td>\n    </tr>\n    <tr>\n      <th>63742</th>\n      <td>906</td>\n      <td>30304.0</td>\n      <td>16.0</td>\n      <td>NaN</td>\n      <td>104 GARFIELD AVE.</td>\n      <td>2</td>\n      <td>RODRIGUEZ, BENJAMIN</td>\n      <td>104 GARFIELD AVE.</td>\n      <td>JERSEY CITY, N.J.  07305</td>\n      <td>2412</td>\n      <td>...</td>\n      <td>268200.0</td>\n      <td>0</td>\n      <td>0</td>\n      <td>NaN</td>\n      <td>NaN</td>\n      <td>NaN</td>\n      <td>NaN</td>\n      <td>NaN</td>\n      <td>104 Garfield Ave., Jersey City, NJ</td>\n      <td>104 GARFIELD AVE., JERSEY CITY, N.J.  07305</td>\n    </tr>\n    <tr>\n      <th>63776</th>\n      <td>906</td>\n      <td>30306.0</td>\n      <td>8.0</td>\n      <td>NaN</td>\n      <td>100 SUMMIT PLACE</td>\n      <td>4B</td>\n      <td>SUMMIT/GREENWICH URBAN RENEWAL, LLC</td>\n      <td>100 SUMMIT PLACE</td>\n      <td>JERSEY CITY, NJ  07305</td>\n      <td>0</td>\n      <td>...</td>\n      <td>13139700.0</td>\n      <td>0</td>\n      <td>0</td>\n      <td>NaN</td>\n      <td>NaN</td>\n      <td>NaN</td>\n      <td>NaN</td>\n      <td>NaN</td>\n      <td>100 Summit Place, Jersey City, NJ</td>\n      <td>100 SUMMIT PLACE, JERSEY CITY, NJ  07305</td>\n    </tr>\n    <tr>\n      <th>63796</th>\n      <td>906</td>\n      <td>30307.0</td>\n      <td>10.0</td>\n      <td>NaN</td>\n      <td>109 PORT JERSEY BLVD.</td>\n      <td>4B</td>\n      <td>DOMISA LLC</td>\n      <td>109 PORT JERSEY BLVD.</td>\n      <td>JERSEY CITY, N.J.  07305</td>\n      <td>0</td>\n      <td>...</td>\n      <td>2863800.0</td>\n      <td>0</td>\n      <td>0</td>\n      <td>NaN</td>\n      <td>NaN</td>\n      <td>NaN</td>\n      <td>NaN</td>\n      <td>NaN</td>\n      <td>109 Port Jersey Blvd., Jersey City, NJ</td>\n      <td>109 PORT JERSEY BLVD., JERSEY CITY, N.J.  07305</td>\n    </tr>\n    <tr>\n      <th>63797</th>\n      <td>906</td>\n      <td>30307.0</td>\n      <td>11.0</td>\n      <td>NaN</td>\n      <td>111 PORT JERSEY BLVD.</td>\n      <td>15F</td>\n      <td>111 PORT JERSEY CONDOMINIUM ASSOC.</td>\n      <td>111 PORT JERSEY BLVD.</td>\n      <td>JERSEY CITY, NJ  07305</td>\n      <td>0</td>\n      <td>...</td>\n      <td>0.0</td>\n      <td>0</td>\n      <td>0</td>\n      <td>NaN</td>\n      <td>NaN</td>\n      <td>NaN</td>\n      <td>NaN</td>\n      <td>NaN</td>\n      <td>111 Port Jersey Blvd., Jersey City, NJ</td>\n      <td>111 PORT JERSEY BLVD., JERSEY CITY, NJ  07305</td>\n    </tr>\n  </tbody>\n</table>\n<p>16544 rows × 93 columns</p>\n</div>"
     },
     "metadata": {},
     "execution_count": 13
    }
   ],
   "source": [
    "jersey_city.loc[jersey_city.property_location == jersey_city.owners_mailing_address]"
   ]
  },
  {
   "cell_type": "code",
   "execution_count": 14,
   "metadata": {},
   "outputs": [
    {
     "output_type": "execute_result",
     "data": {
      "text/plain": [
       "215"
      ]
     },
     "metadata": {},
     "execution_count": 14
    }
   ],
   "source": [
    "# number of units at this propety \n",
    "jersey_city[jersey_city.owners_name == '75 PARK LANE, LLC']['property_location'].count()"
   ]
  },
  {
   "cell_type": "code",
   "execution_count": 15,
   "metadata": {},
   "outputs": [
    {
     "output_type": "execute_result",
     "data": {
      "text/plain": [
       "array(['75 PARK LANE SOUTH'], dtype=object)"
      ]
     },
     "metadata": {},
     "execution_count": 15
    }
   ],
   "source": [
    "# we know these are units when we add the .unique() accessor \n",
    "jersey_city[jersey_city.owners_name == '75 PARK LANE, LLC']['property_location'].unique()"
   ]
  },
  {
   "cell_type": "code",
   "execution_count": 16,
   "metadata": {},
   "outputs": [
    {
     "output_type": "execute_result",
     "data": {
      "text/plain": [
       "49247"
      ]
     },
     "metadata": {},
     "execution_count": 16
    }
   ],
   "source": [
    "# As we'll see below, many of the addresses and owners are spelled incorrectly \n",
    "len(jersey_city['owners_name'].unique())"
   ]
  },
  {
   "cell_type": "code",
   "execution_count": 17,
   "metadata": {},
   "outputs": [
    {
     "output_type": "execute_result",
     "data": {
      "text/plain": [
       "37842"
      ]
     },
     "metadata": {},
     "execution_count": 17
    }
   ],
   "source": [
    "len(jersey_city['property_location'].unique())"
   ]
  },
  {
   "source": [
    "## How many LLCs have \"UR\" or \"Urban Renewal\" in the owner's name?"
   ],
   "cell_type": "markdown",
   "metadata": {}
  },
  {
   "cell_type": "code",
   "execution_count": 18,
   "metadata": {},
   "outputs": [
    {
     "output_type": "execute_result",
     "data": {
      "text/plain": [
       "array(['HEIGHTS URBAN RENEWAL SENIOR H.',\n",
       "       'RATAN JERSEY CITY URBAN RENEWAL,LLC',\n",
       "       'BRASS WORKS URBAN RENEWAL CO., LLC',\n",
       "       'HUDSON PALISADES URBAN RENEWAL,LLC',\n",
       "       '364 NINTH STREET URBAN RENEWAL, LLC',\n",
       "       'NINTH STREET TWO URBAN RENEWAL,LLC',\n",
       "       'TOWER EAST URBAN RENEWAL COMPANY',\n",
       "       'JAMES MONROE URBAN RENEWAL CO.', '25 RIVER DR.SO.URBAN RENEWAL',\n",
       "       'SENATE PLACE URBAN RENEWAL, LLC',\n",
       "       'H.P. LINCOLN URBAN RENEWAL COMPANY',\n",
       "       'ERIE 10TH URBAN RENEWAL, L.L.C.', '9TH STREET URBAN RENEWAL,LLC',\n",
       "       'VAN WAGENEN II URBAN RENEWAL, LLC.',\n",
       "       '17-19 DIVISION ST URBAN RENEWAL,LLC',\n",
       "       '380 NEWARK REALTY URBAN RENEWAL LLC',\n",
       "       'BLOCK 284 NORTH URBAN RENEWAL, LLC',\n",
       "       '500 MANILA AVE.URBAN RENEWAL, LLC',\n",
       "       '500 MANILA AVE.URBAN RENEWAL LLC',\n",
       "       'KRE HAMILTON URBAN RENEWAL LLC',\n",
       "       'VAN WAGENEN I URBAN RENEWAL, LLC.',\n",
       "       '160 FIRST STREET URBAN RENEWAL, LLC',\n",
       "       'PS FIRST HUDSON URBAN RENEWAL LLC',\n",
       "       '140 BAY STREET URBAN RENEWAL, LLC',\n",
       "       'PROVOST SQUARE I URBAN RENEWAL, LLC',\n",
       "       'PINNACLE TOWER URBAN RENEWAL, LLC',\n",
       "       'MORGAN ST. DEVEL.URBAN RENEWAL LLC',\n",
       "       'MORGAN ST. DEVELOPERS URBAN RENEWAL',\n",
       "       'MAJESTIC URBAN RENEWAL, LLC.', '70 COLUMBUS URBAN RENEWAL, LLC',\n",
       "       'COLUMBUS HOTEL URBAN RENEWAL, LLC',\n",
       "       'PH URBAN RENEWAL LLC%MACK CALI CORP',\n",
       "       'SIENA URBAN RENEWAL ASSOC., LP',\n",
       "       'BR MERCURY URBAN RENEWAL CO,LLC.,',\n",
       "       'BR TOWER URBAN RENEWAL COMPANY, LLC',\n",
       "       'ADELE FASHION URBAN RENEWAL A.,LLC',\n",
       "       'MARBACH URBAN RENEWAL RLTY ASSO.',\n",
       "       '456 GRAND REALTY URBAN RENEWAL, LLC',\n",
       "       'BRIGHT & VARICK URBAN RENEWAL LLC',\n",
       "       '272 GROVE STREET URBAN RENEWAL, LLC',\n",
       "       'LIBERTY POINT URBAN RENEWAL, LLC',\n",
       "       'LIBERTY POINT URBAN RENEWAL,L.L.C.',\n",
       "       'MONTGOMERY GREENE URBAN RENEWAL,LLC',\n",
       "       '280 FAIRMOUNT URBAN RENEWAL, LLC.',\n",
       "       'AETNA MONMOUTH URBAN RENEWAL, LLC',\n",
       "       '95 VAN DAM URBAN RENEWAL, L.L.C.',\n",
       "       'GRAND LHN II URBAN RENEWAL, LLC',\n",
       "       'GRAND LHN I URBAN RENEWAL, LLC', 'BERGENVIEW URBAN RENEWAL, LLC.',\n",
       "       '170 LAFAYETTE URBAN RENEWAL,LLC',\n",
       "       'ASH URBAN RENEWAL DEVELOPMENT,LLC',\n",
       "       'KENNEDY MANOR URBAN RENEWAL LLC',\n",
       "       'SALEM LAFAYETTE URBAN RENEWAL, L.P.',\n",
       "       'MONITOR MAPLE URBAN RENEWAL, LLC',\n",
       "       'SALEM LAFAYETTER URBAN RENEWAL, L.P',\n",
       "       '234 SUYDAM AVENUE URBAN RENEWAL LLC',\n",
       "       '16 BENNETT ST. URBAN RENEWAL LLC',\n",
       "       '16 BENNETT ST. URBAN RENEWAL CO.',\n",
       "       'OCEAN MLK URBAN RENEWAL ASSOC.',\n",
       "       'CICF II - NJ1B02 URBAN RENEWAL, LLC',\n",
       "       '400 CLAREMONT URBAN RENEWAL LLC',\n",
       "       '400 CLAREMENT URBAN RENEWAL LLC',\n",
       "       '305 WEST SIDE AVE URBAN RENEWAL,LLC',\n",
       "       'BERGEN MANOR URBAN RENEWAL LLC',\n",
       "       'OCEAN MLK URBAN RENEWAL ASSOCIATES',\n",
       "       'AUDOBON URBAN RENEWAL% SIG MGNT,LLC',\n",
       "       'AUDOBON URBAN RENEWAL%SIG MNGT, LLC',\n",
       "       'AUDOBON URBAN RENEWAL% SIG MNGT,LLC',\n",
       "       'AUDOBON URBAN RENEWAL%AMISTAD MGT.',\n",
       "       'CLAREMONT URBAN RENEWAL CORP.',\n",
       "       'WA RESIDENTIAL URBAN RENEWAL CO.LLC',\n",
       "       'AUDOBON URBAN RENEWAL PROPERTIES,LP',\n",
       "       'GENESIS OCEAN URBAN RENEWAL ASSOC.',\n",
       "       \"LET'S CELEBRATE URBAN RENEWAL, LLC\",\n",
       "       '99 RUTGERS URBAN RENEWAL, L.P.',\n",
       "       '45-51 MLK URBAN RENEWAL CO., INC.',\n",
       "       '45-51 MLK URBAN RENEWAL CORP',\n",
       "       '45-51 MLK URBAN RENEWAL COMPANY LLC',\n",
       "       'HUDSON MAIN URBAN RENEWAL,LLC',\n",
       "       'SUMMIT/GREENWICH URBAN RENEWAL, LLC',\n",
       "       'SUMMIT GREENWICH URBAN RENEWAL, LLC'], dtype=object)"
      ]
     },
     "metadata": {},
     "execution_count": 18
    }
   ],
   "source": [
    "# More examples of how unclean the data is, even on a state database\n",
    "jersey_city[jersey_city.owners_name.str.contains('URBAN RENEWAL')]['owners_name'].unique()"
   ]
  },
  {
   "cell_type": "code",
   "execution_count": 19,
   "metadata": {},
   "outputs": [
    {
     "output_type": "execute_result",
     "data": {
      "text/plain": [
       "array(['SUMMIT PLAZA ASSOCIATES, UR LTD PTN',\n",
       "       'PADUA COURT UR C/O INSPIRED VISION',\n",
       "       'PADUA COURT UR C/O INSPRED VISION',\n",
       "       'CAL-HARBOR SO. PIER UR ASC %M CALI'], dtype=object)"
      ]
     },
     "metadata": {},
     "execution_count": 19
    }
   ],
   "source": [
    "jersey_city[jersey_city.owners_name.str.contains(' UR ')]['owners_name'].unique()"
   ]
  },
  {
   "cell_type": "code",
   "execution_count": 20,
   "metadata": {},
   "outputs": [
    {
     "output_type": "execute_result",
     "data": {
      "text/plain": [
       "array(['99 HUDSON ST.'], dtype=object)"
      ]
     },
     "metadata": {},
     "execution_count": 20
    }
   ],
   "source": [
    "jersey_city[jersey_city.owners_name == 'COA 99 HUDSON,LLC']['property_location'].unique()"
   ]
  },
  {
   "cell_type": "code",
   "execution_count": 21,
   "metadata": {},
   "outputs": [
    {
     "output_type": "stream",
     "name": "stdout",
     "text": [
      "CPU times: user 1.53 s, sys: 234 ms, total: 1.77 s\nWall time: 7min 8s\n"
     ]
    }
   ],
   "source": [
    "%%time\n",
    "# a smaller dataset to view inconsistencies\n",
    "# are there duplicate addresses in this subset of data?\n",
    "# are the addresses accurate? \n",
    "\n",
    "# a copy() is used to avoid writing on the original dataframe\n",
    "js_ha = jersey_city[jersey_city.owners_name == 'HOUSING AUTHORITY OF JERSEY CITY'].copy()\n",
    "js_ha.reset_index(inplace=True, drop=True)\n",
    "js_ha['gcode'] = js_ha.property_full_address.apply(geolocator.geocode)\n",
    "\n",
    "city_of_js = jersey_city[jersey_city.owners_name == 'CITY OF JERSEY CITY'].copy()\n",
    "city_of_js.reset_index(inplace=True, drop=True)\n",
    "city_of_js['gcode'] = city_of_js.property_full_address.apply(geolocator.geocode)\n",
    "\n",
    "urban_renewal = jersey_city[jersey_city.owners_name.str.contains('URBAN RENEWAL')].copy()\n",
    "urban_renewal.reset_index(inplace=True, drop=True)\n",
    "urban_renewal['gcode'] = urban_renewal.property_full_address.apply(geolocator.geocode)"
   ]
  },
  {
   "cell_type": "code",
   "execution_count": 22,
   "metadata": {},
   "outputs": [],
   "source": [
    "# for now, we'll drop the None values in the gcode column to make our lives easier \n",
    "# this does not however solve the issue of duplicate values in that column\n",
    "js_ha.dropna(axis=0, subset=['gcode'], inplace=True)\n",
    "city_of_js.dropna(axis=0, subset=['gcode'], inplace=True)\n",
    "urban_renewal.dropna(axis=0, subset=['gcode'], inplace=True)\n",
    "\n",
    "# since the dataframe already contains Latitude and Longitude columns, we can write to them directly\n",
    "js_ha['Latitude'] = [g.latitude for g in js_ha.gcode]\n",
    "js_ha['Longitude'] = [g.longitude for g in js_ha.gcode]\n",
    "\n",
    "city_of_js['Latitude'] = [g.latitude for g in city_of_js.gcode]\n",
    "city_of_js['Longitude'] = [g.longitude for g in city_of_js.gcode]\n",
    "\n",
    "urban_renewal['Latitude'] = [g.latitude for g in urban_renewal.gcode]\n",
    "urban_renewal['Longitude'] = [g.longitude for g in urban_renewal.gcode]"
   ]
  },
  {
   "cell_type": "code",
   "execution_count": 23,
   "metadata": {},
   "outputs": [],
   "source": [
    "# a less tedious way to execute this might be drop ranges of columns instead of doing it all manually\n",
    "js_ha.drop(columns=['Municipality', \n",
    "                    'Block', \n",
    "                    'Lot', \n",
    "                    'Qual', \n",
    "                    'Property Class', \n",
    "                    'Sq. Ft.', \n",
    "                    'Building Class', \n",
    "                    'Prior Block', \n",
    "                    'Prior Lot', \n",
    "                    'Prior Qual', \n",
    "                    'Updated', \n",
    "                    'Zone', \n",
    "                    'Account', \n",
    "                    'Mortgage Account', \n",
    "                    'Bank Code', \n",
    "                    'Sp Tax Cd', \n",
    "                    'Sp Tax Cd.1', \n",
    "                    'Sp Tax Cd.2', \n",
    "                    'Sp Tax Cd.3', \n",
    "                    'Map Page',\n",
    "                    'Additional Lots', \n",
    "                    'Land Desc', \n",
    "                    'Building Desc', \n",
    "                    'Class 4 Code', \n",
    "                    'Acreage', \n",
    "                    'EPL Own', \n",
    "                    'EPL Use', \n",
    "                    'EPL Desc', \n",
    "                    'EPL Statute', \n",
    "                    'EPL Init', \n",
    "                    'EPL Further', \n",
    "                    'EPL Facility Name', \n",
    "                    'Taxes 1', \n",
    "                    'Taxes 2', \n",
    "                    'Taxes 3', \n",
    "                    'Taxes 4', \n",
    "                    'Sale Date', \n",
    "                    'Deed Book', \n",
    "                    'Deed Page', \n",
    "                    'Sale Price', \n",
    "                    'NU Code', \n",
    "                    'Ratio', \n",
    "                    'Type/Use', \n",
    "                    'Year', \n",
    "                    'Owner', \n",
    "                    'Street', \n",
    "                    'City/State/Zip.1',\n",
    "                    'Land Assmnt', \n",
    "                    'Building Assmnt', \n",
    "                    'Exempt', \n",
    "                    'Total Assmnt', \n",
    "                    'Assessed',\n",
    "                    'Year.1', \n",
    "                    'Owner.1', \n",
    "                    'Street.1', \n",
    "                    'City/State/Zip.2', \n",
    "                    'Land Assmnt.1',\n",
    "                    'Building Assmnt.1', \n",
    "                    'Exempt.1', \n",
    "                    'Total Assmnt.1', \n",
    "                    'Assessed.1',\n",
    "                    'Year.2', \n",
    "                    'Owner.2', \n",
    "                    'Street.2', \n",
    "                    'City/State/Zip.3', \n",
    "                    'Land Assmnt.2',\n",
    "                    'Building Assmnt.2', \n",
    "                    'Exempt.2', \n",
    "                    'Total Assmnt.2', \n",
    "                    'Assessed.2',\n",
    "                    'Year.3', \n",
    "                    'Owner.3', \n",
    "                    'Street.3', \n",
    "                    'City/State/Zip.4', \n",
    "                    'Land Assmnt.3',\n",
    "                    'Building Assmnt.3', \n",
    "                    'Exempt.3', \n",
    "                    'Total Assmnt.3', \n",
    "                    'Assessed.3', \n",
    "                    'Neigh', \n",
    "                    'VCS', \n",
    "                    'StyDesc', \n",
    "                    'Style',\n",
    "                    'Unnamed: 90'], inplace=True) "
   ]
  },
  {
   "cell_type": "code",
   "execution_count": 24,
   "metadata": {},
   "outputs": [],
   "source": [
    "# a less tedious way to execute this might be drop ranges of columns instead of doing it all manually\n",
    "city_of_js.drop(columns=['Municipality', \n",
    "                    'Block', \n",
    "                    'Lot', \n",
    "                    'Qual', \n",
    "                    'Property Class', \n",
    "                    'Sq. Ft.', \n",
    "                    'Building Class', \n",
    "                    'Prior Block', \n",
    "                    'Prior Lot', \n",
    "                    'Prior Qual', \n",
    "                    'Updated', \n",
    "                    'Zone', \n",
    "                    'Account', \n",
    "                    'Mortgage Account', \n",
    "                    'Bank Code', \n",
    "                    'Sp Tax Cd', \n",
    "                    'Sp Tax Cd.1', \n",
    "                    'Sp Tax Cd.2', \n",
    "                    'Sp Tax Cd.3', \n",
    "                    'Map Page',\n",
    "                    'Additional Lots', \n",
    "                    'Land Desc', \n",
    "                    'Building Desc', \n",
    "                    'Class 4 Code', \n",
    "                    'Acreage', \n",
    "                    'EPL Own', \n",
    "                    'EPL Use', \n",
    "                    'EPL Desc', \n",
    "                    'EPL Statute', \n",
    "                    'EPL Init', \n",
    "                    'EPL Further', \n",
    "                    'EPL Facility Name', \n",
    "                    'Taxes 1', \n",
    "                    'Taxes 2', \n",
    "                    'Taxes 3', \n",
    "                    'Taxes 4', \n",
    "                    'Sale Date', \n",
    "                    'Deed Book', \n",
    "                    'Deed Page', \n",
    "                    'Sale Price', \n",
    "                    'NU Code', \n",
    "                    'Ratio', \n",
    "                    'Type/Use', \n",
    "                    'Year', \n",
    "                    'Owner', \n",
    "                    'Street', \n",
    "                    'City/State/Zip.1',\n",
    "                    'Land Assmnt', \n",
    "                    'Building Assmnt', \n",
    "                    'Exempt', \n",
    "                    'Total Assmnt', \n",
    "                    'Assessed',\n",
    "                    'Year.1', \n",
    "                    'Owner.1', \n",
    "                    'Street.1', \n",
    "                    'City/State/Zip.2', \n",
    "                    'Land Assmnt.1',\n",
    "                    'Building Assmnt.1', \n",
    "                    'Exempt.1', \n",
    "                    'Total Assmnt.1', \n",
    "                    'Assessed.1',\n",
    "                    'Year.2', \n",
    "                    'Owner.2', \n",
    "                    'Street.2', \n",
    "                    'City/State/Zip.3', \n",
    "                    'Land Assmnt.2',\n",
    "                    'Building Assmnt.2', \n",
    "                    'Exempt.2', \n",
    "                    'Total Assmnt.2', \n",
    "                    'Assessed.2',\n",
    "                    'Year.3', \n",
    "                    'Owner.3', \n",
    "                    'Street.3', \n",
    "                    'City/State/Zip.4', \n",
    "                    'Land Assmnt.3',\n",
    "                    'Building Assmnt.3', \n",
    "                    'Exempt.3', \n",
    "                    'Total Assmnt.3', \n",
    "                    'Assessed.3', \n",
    "                    'Neigh', \n",
    "                    'VCS', \n",
    "                    'StyDesc', \n",
    "                    'Style',\n",
    "                    'Unnamed: 90'], inplace=True) "
   ]
  },
  {
   "cell_type": "code",
   "execution_count": 25,
   "metadata": {},
   "outputs": [],
   "source": [
    "urban_renewal.drop(columns=['Municipality', \n",
    "                    'Block', \n",
    "                    'Lot', \n",
    "                    'Qual', \n",
    "                    'Property Class', \n",
    "                    'Sq. Ft.', \n",
    "                    'Building Class', \n",
    "                    'Prior Block', \n",
    "                    'Prior Lot', \n",
    "                    'Prior Qual', \n",
    "                    'Updated', \n",
    "                    'Zone', \n",
    "                    'Account', \n",
    "                    'Mortgage Account', \n",
    "                    'Bank Code', \n",
    "                    'Sp Tax Cd', \n",
    "                    'Sp Tax Cd.1', \n",
    "                    'Sp Tax Cd.2', \n",
    "                    'Sp Tax Cd.3', \n",
    "                    'Map Page',\n",
    "                    'Additional Lots', \n",
    "                    'Land Desc', \n",
    "                    'Building Desc', \n",
    "                    'Class 4 Code', \n",
    "                    'Acreage', \n",
    "                    'EPL Own', \n",
    "                    'EPL Use', \n",
    "                    'EPL Desc', \n",
    "                    'EPL Statute', \n",
    "                    'EPL Init', \n",
    "                    'EPL Further', \n",
    "                    'EPL Facility Name', \n",
    "                    'Taxes 1', \n",
    "                    'Taxes 2', \n",
    "                    'Taxes 3', \n",
    "                    'Taxes 4', \n",
    "                    'Sale Date', \n",
    "                    'Deed Book', \n",
    "                    'Deed Page', \n",
    "                    'Sale Price', \n",
    "                    'NU Code', \n",
    "                    'Ratio', \n",
    "                    'Type/Use', \n",
    "                    'Year', \n",
    "                    'Owner', \n",
    "                    'Street', \n",
    "                    'City/State/Zip.1',\n",
    "                    'Land Assmnt', \n",
    "                    'Building Assmnt', \n",
    "                    'Exempt', \n",
    "                    'Total Assmnt', \n",
    "                    'Assessed',\n",
    "                    'Year.1', \n",
    "                    'Owner.1', \n",
    "                    'Street.1', \n",
    "                    'City/State/Zip.2', \n",
    "                    'Land Assmnt.1',\n",
    "                    'Building Assmnt.1', \n",
    "                    'Exempt.1', \n",
    "                    'Total Assmnt.1', \n",
    "                    'Assessed.1',\n",
    "                    'Year.2', \n",
    "                    'Owner.2', \n",
    "                    'Street.2', \n",
    "                    'City/State/Zip.3', \n",
    "                    'Land Assmnt.2',\n",
    "                    'Building Assmnt.2', \n",
    "                    'Exempt.2', \n",
    "                    'Total Assmnt.2', \n",
    "                    'Assessed.2',\n",
    "                    'Year.3', \n",
    "                    'Owner.3', \n",
    "                    'Street.3', \n",
    "                    'City/State/Zip.4', \n",
    "                    'Land Assmnt.3',\n",
    "                    'Building Assmnt.3', \n",
    "                    'Exempt.3', \n",
    "                    'Total Assmnt.3', \n",
    "                    'Assessed.3', \n",
    "                    'Neigh', \n",
    "                    'VCS', \n",
    "                    'StyDesc', \n",
    "                    'Style',\n",
    "                    'Unnamed: 90'], inplace=True) "
   ]
  },
  {
   "cell_type": "code",
   "execution_count": 26,
   "metadata": {},
   "outputs": [],
   "source": [
    "test_data = js_ha.append([city_of_js, urban_renewal])\n",
    "test_data.reset_index(inplace=True, drop=True)"
   ]
  },
  {
   "cell_type": "code",
   "execution_count": 39,
   "metadata": {},
   "outputs": [],
   "source": [
    "def test_get_owner(address=str):\n",
    "    owner = test_data[test_data.property_location == address.strip()]['owners_name']\n",
    "    return owner\n",
    "\n",
    "def test_get_properties(owner=str):\n",
    "    unique_properties = test_data[test_data.owners_name == owner]['property_location'].unique()\n",
    "    return unique_properties.tolist()\n",
    "\n",
    "def test_get_number_owned(owner=str):\n",
    "    number_owned = test_data[test_data.owners_name == owner]['property_location'].count()\n",
    "    return number_owned\n",
    "\n",
    "def test_get_count(address=str):\n",
    "    count = test_data[test_data.property_location == address]['property_location'].count()\n",
    "    return count\n"
   ]
  },
  {
   "cell_type": "code",
   "execution_count": 43,
   "metadata": {},
   "outputs": [],
   "source": [
    "test_data['asc_properties'] = [test_get_properties(owner) for owner in test_data.owners_name]\n",
    "test_data['num_asc_properties'] = [test_get_number_owned(owner) for owner in test_data.owners_name]\n",
    "# ATTENTION! This is not the correct way to derive the number of units at a given address\n",
    "# I am use this to generate data to build functionality for the landlord-app\n",
    "test_data['units'] = [test_get_count(address) for address in test_data.property_location]"
   ]
  },
  {
   "cell_type": "code",
   "execution_count": 76,
   "metadata": {},
   "outputs": [
    {
     "output_type": "execute_result",
     "data": {
      "text/plain": [
       "['272 OGDEN AVE.',\n",
       " '31 SHERMAN AVE.',\n",
       " '123 WEBSTER AVE.',\n",
       " '39.5 WAVERLY STREET',\n",
       " '19 WAVERLY ST.',\n",
       " '656 JERSEY AVE.',\n",
       " '660 JERSEY AVE.',\n",
       " '279 EIGHTH ST.',\n",
       " '151 COLES ST.',\n",
       " '511 MANILA AVE.',\n",
       " '286 FIFTH ST.',\n",
       " '220.5 THIRD STREET',\n",
       " '2 HAMPTON CT. TER.',\n",
       " '1 HAMPTON CT. TER.',\n",
       " '101 MERCER ST.',\n",
       " '459 JERSEY AVE.',\n",
       " '328 YORK ST.',\n",
       " '295 VARICK ST.',\n",
       " '137 MERCER ST.',\n",
       " '244 MONTGOMERY ST.',\n",
       " '268 BARROW ST.',\n",
       " '317 HALLADAY ST.',\n",
       " '14 MONTICELLO AVE.',\n",
       " '69 WILLIAMS AVE.']"
      ]
     },
     "metadata": {},
     "execution_count": 76
    }
   ],
   "source": [
    "get_properties('NJ PENELOPE LLC.')"
   ]
  },
  {
   "cell_type": "code",
   "execution_count": 77,
   "metadata": {},
   "outputs": [
    {
     "output_type": "execute_result",
     "data": {
      "text/plain": [
       "24"
      ]
     },
     "metadata": {},
     "execution_count": 77
    }
   ],
   "source": [
    "get_number_properties_owned('NJ PENELOPE LLC.')"
   ]
  },
  {
   "cell_type": "code",
   "execution_count": 59,
   "metadata": {},
   "outputs": [
    {
     "output_type": "execute_result",
     "data": {
      "text/plain": [
       "7512    NJ PENELOPE LLC.\n",
       "Name: owners_name, dtype: object"
      ]
     },
     "metadata": {},
     "execution_count": 59
    }
   ],
   "source": [
    "get_owner('272 OGDEN AVE.')"
   ]
  },
  {
   "cell_type": "code",
   "execution_count": 32,
   "metadata": {},
   "outputs": [
    {
     "output_type": "execute_result",
     "data": {
      "text/plain": [
       "604    HUDSON MAIN URBAN RENEWAL,LLC\n",
       "605    HUDSON MAIN URBAN RENEWAL,LLC\n",
       "Name: owners_name, dtype: object"
      ]
     },
     "metadata": {},
     "execution_count": 32
    }
   ],
   "source": [
    "get_owner('143 CHAPEL AVE\t')"
   ]
  },
  {
   "cell_type": "code",
   "execution_count": 45,
   "metadata": {},
   "outputs": [],
   "source": [
    "test_data.to_csv('test_data.csv', index=None)"
   ]
  },
  {
   "cell_type": "code",
   "execution_count": 22,
   "metadata": {},
   "outputs": [
    {
     "output_type": "execute_result",
     "data": {
      "text/plain": [
       "[0, 4, 14, 15, 23, 24, 25, 26, 29, 30, 35, 36, 37, 39, 45, 54]"
      ]
     },
     "metadata": {},
     "execution_count": 22
    }
   ],
   "source": [
    "#  finding the indices of the properties which were not geocoded\n",
    "[i for i,e in enumerate([geolocator.geocode(address) for address in js_ha.property_full_address]) if e == None]"
   ]
  },
  {
   "source": [
    "### We know the addresses are unclean when we substitute parts of the address\n",
    "### For example, \"Sixteenth\" for \"16th\": "
   ],
   "cell_type": "markdown",
   "metadata": {}
  },
  {
   "cell_type": "code",
   "execution_count": 162,
   "metadata": {},
   "outputs": [
    {
     "output_type": "execute_result",
     "data": {
      "text/plain": [
       "Location(235, 16th Street, Jersey City, Hudson County, New Jersey, 07310, United States, (40.73314597560976, -74.04304924390243, 0.0))"
      ]
     },
     "metadata": {},
     "execution_count": 162
    }
   ],
   "source": [
    "geolocator.geocode('235 16th St. Jersey City, NJ 07307')"
   ]
  },
  {
   "cell_type": "code",
   "execution_count": 168,
   "metadata": {},
   "outputs": [
    {
     "output_type": "execute_result",
     "data": {
      "text/plain": [
       "'9-31 Wilmot Ave. Jersey City, NJ 07307'"
      ]
     },
     "metadata": {},
     "execution_count": 168
    }
   ],
   "source": [
    "js_ha.property_full_address[23]"
   ]
  },
  {
   "cell_type": "code",
   "execution_count": 123,
   "metadata": {},
   "outputs": [
    {
     "output_type": "execute_result",
     "data": {
      "text/plain": [
       "Point(40.6888175, -74.0973369, 0.0)"
      ]
     },
     "metadata": {},
     "execution_count": 123
    }
   ],
   "source": [
    "geolocator.geocode('61 Merritt St. Jersey City, NJ 07307').point"
   ]
  },
  {
   "cell_type": "code",
   "execution_count": 118,
   "metadata": {},
   "outputs": [
    {
     "output_type": "execute_result",
     "data": {
      "text/plain": [
       "23540    160 FIRST ST.\n",
       "23541    160 FIRST ST.\n",
       "23544    160 FIRST ST.\n",
       "23545    160 FIRST ST.\n",
       "23556    160 FIRST ST.\n",
       "             ...      \n",
       "23857    160 FIRST ST.\n",
       "23858    160 FIRST ST.\n",
       "23859    160 FIRST ST.\n",
       "23860    160 FIRST ST.\n",
       "23861    160 FIRST ST.\n",
       "Name: property_location, Length: 104, dtype: object"
      ]
     },
     "metadata": {},
     "execution_count": 118
    }
   ],
   "source": [
    "jersey_city[jersey_city.owners_name == '160 FIRST STREET URBAN RENEWAL, LLC']['property_location']"
   ]
  },
  {
   "cell_type": "code",
   "execution_count": 14,
   "metadata": {},
   "outputs": [
    {
     "output_type": "execute_result",
     "data": {
      "text/plain": [
       "CITY OF HACKENSACK                     69\n",
       "WORLD PLAZA AC, LLC                    29\n",
       "ESSEX COURT REALTY CORP.               28\n",
       "HACKENSACK DEVELOPERS, LLC             25\n",
       "TERRACE SQUARE CONDOS % J LOMBARDO     21\n",
       "N Y S & W R R C/O N. STECKLER          19\n",
       "HACK & N.Y. R.R. CO C/O LAND & TAX     19\n",
       "SKYVIEW AT HACKENSACK, LLC             19\n",
       "COUNTY OF BERGEN                       16\n",
       "WORLD PLAZA PROPERTIES, LLC            13\n",
       "ATTESSA PROPERTIES LLC                 13\n",
       "HEKEMIAN,SAMUEL %THE S HEKEMIAN GRP    12\n",
       "BD OF ED CITY OF HACK                  12\n",
       "ELYASH, ADELAIDA                       10\n",
       "FAIRLEIGH DICKINSON UNIVERSITY          9\n",
       "400 E MAIN STREET, LLC                  9\n",
       "NEW HOPE BAPTIST CHURCH                 8\n",
       "RUDDOCK, WAYNE & ROSA                   7\n",
       "DI CAROLIS REALTY CO.                   7\n",
       "JACKSON PINK LLC                        7\n",
       "NESS REALTY 1 LLC                       7\n",
       "MAIN PORTFOLIO LLC                      6\n",
       "US BANK TRUST NA TRSTE                  6\n",
       "CYPRUS HOLDING COMPANY LLC              6\n",
       "HACKENSACK UNIVERSITY MEDICAL CTR       5\n",
       "FTA REALTY, L.P.                        5\n",
       "SALEMME, JOHN & REGINA                  5\n",
       "PEDIATRIC OFFICE ASSOCIATES             5\n",
       "FELDMAN, VITALI                         4\n",
       "CD PAC LLC                              4\n",
       "SPAETH, SOHEILA                         4\n",
       "LANDFRANK, LLC                          4\n",
       "ROTHMAN, LEONARD & MILDRED              4\n",
       "CASTILLO, HECTOR                        4\n",
       "SANZARI, ALFRED, C/O ACCOUNTS PAYAB     4\n",
       "INVESCO REALTY INC                      4\n",
       "DILORENZO, RAYMOND A                    4\n",
       "TABENSHLAK, FELIKS                      4\n",
       "ROMANY CORP. C/O P. SCHMIDT             4\n",
       "400 E MAIN ST LLC                       4\n",
       "COHEN, AARON                            3\n",
       "HACKENSACK DEVELOPMENT COMPANY LLC      3\n",
       "GIANFRANCESCO, ANTONIO & ROSINA         3\n",
       "RIOTTO, ROCCO & ROSA                    3\n",
       "HACKENSACK GARDENS APTS % HOME PROP     3\n",
       "US BANK TRUST NA TRSTE C/O RESICAP      3\n",
       "DEGSA WASHINGTON LLC                    3\n",
       "INGALLINERA, JOHN & ELISA               3\n",
       "MLC RLTY LLC                            3\n",
       "COLOMBO, PAUL                           3\n",
       "Name: owners_name, dtype: int64"
      ]
     },
     "metadata": {},
     "execution_count": 14
    }
   ],
   "source": [
    "hackensack.owners_name.value_counts().head(50)"
   ]
  }
 ]
}