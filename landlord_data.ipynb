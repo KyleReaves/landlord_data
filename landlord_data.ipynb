{
 "metadata": {
  "orig_nbformat": 4,
  "kernelspec": {
   "name": "python3",
   "display_name": "Python 3.9.6",
   "language": "python"
  },
  "interpreter": {
   "hash": "ac2eaa0ea0ebeafcc7822e65e46aa9d4f966f30b695406963e145ea4a91cd4fc"
  }
 },
 "nbformat": 4,
 "nbformat_minor": 2,
 "cells": [
  {
   "source": [
    "# FindYourLandlord Data Cleaning\n",
    "### This project aims to:\n",
    "* provide a visual representation for who or what entity owns the most property, what other properties the owner owns, and where\n",
    "* provide tenants in North Jersey with pertinent information about who or what owns their building or apartment\n",
    "### Beginning with Jersey City, I'll eventually expand to other cities throughout North Jersey: Paterson, Newark, Hackensack…\n",
    "### This notebook is the data portion of the project, where I will test out methods for cleaning and extracting the relevant data. The data will eventually be picked up by React and mapboxGL.\n",
    "### The csv's were retrieved from Monmouth County's Tax Assessor website:\n",
    "### https://tax1.co.monmouth.nj.us/cgi-bin/prc6.cgi?menu=index&ms_user=monm&passwd=data&district=1301&mode=11\n",
    "\n",
    "## To Do:\n",
    "* the data is unbelievably irregular: needs cleaning and normalization\n",
    "* create column of integers representing the number of unique properties associated with the owner: this informs the size of the circle's radius on the map\n",
    "* create column of an array of strings of the properties associated with the owner: this informs the size of the bounding box of selected properties on the map\n",
    "* units: if the cells in the column of string arrays has a len of 1, but the column of integers is < 1, it represents the number of units at the property"
   ],
   "cell_type": "markdown",
   "metadata": {}
  },
  {
   "cell_type": "code",
   "execution_count": 2,
   "metadata": {},
   "outputs": [],
   "source": [
    "import pandas as pd\n",
    "import os\n",
    "import numpy as np\n",
    "from geopy.geocoders import Nominatim\n",
    "from geopy.extra.rate_limiter import RateLimiter"
   ]
  },
  {
   "cell_type": "code",
   "execution_count": 3,
   "metadata": {},
   "outputs": [],
   "source": [
    "# for returning lat long coordinates from addresses\n",
    "geolocator = Nominatim(user_agent=\"myGeolocator\", timeout=2)"
   ]
  },
  {
   "cell_type": "code",
   "execution_count": 4,
   "metadata": {},
   "outputs": [],
   "source": [
    "hackensack = pd.read_csv('0223monm205221.csv', dtype={14: str, 20: str, 24: str})\n",
    "\n",
    "jersey_city = pd.read_csv('0906monm220028.csv', dtype={20: str,\n",
    "                                                       22: str,\n",
    "                                                       23: str,\n",
    "                                                       25: str,\n",
    "                                                       42: str,\n",
    "                                                       43: str,\n",
    "                                                       47: str,\n",
    "                                                       87: str,\n",
    "                                                       89: str})\n",
    "\n",
    "jersey_city.rename(columns={'Property Location': 'property_location', \n",
    "                            \"Owner's Name\": 'owners_name', \n",
    "                            \"Owner's Mailing Address\": 'owners_mailing_address', \n",
    "                            \"City/State/Zip\": \"city_state_zip\"}, inplace=True)\n",
    "\n",
    "hackensack.rename(columns={'Property Location': 'property_location', \n",
    "                            \"Owner's Name\": 'owners_name', \n",
    "                            \"Owner's Mailing Address\": 'owners_mailing_address',\n",
    "                            \"City/State/Zip\": \"city_state_zip\"}, inplace=True)\n",
    "\n",
    "# title() case is necessary in order to return coordinates with Nominatim \n",
    "# we also can't assume the same city has the same zipcode throughout\n",
    "# the zipcode must be extracted from the city/state/zip column\n",
    "jersey_city['property_full_address'] = jersey_city.property_location.str.title() + \" \" + jersey_city.city_state_zip.str.title()"
   ]
  },
  {
   "cell_type": "code",
   "execution_count": 5,
   "metadata": {},
   "outputs": [
    {
     "output_type": "execute_result",
     "data": {
      "text/plain": [
       "Index(['Municipality', 'Block', 'Lot', 'Qual', 'property_location',\n",
       "       'Property Class', 'owners_name', 'owners_mailing_address',\n",
       "       'city_state_zip', 'Sq. Ft.', 'Yr. Built', 'Building Class',\n",
       "       'Prior Block', 'Prior Lot', 'Prior Qual', 'Updated', 'Zone', 'Account',\n",
       "       'Mortgage Account', 'Bank Code', 'Sp Tax Cd', 'Sp Tax Cd.1',\n",
       "       'Sp Tax Cd.2', 'Sp Tax Cd.3', 'Map Page', 'Additional Lots',\n",
       "       'Land Desc', 'Building Desc', 'Class 4 Code', 'Acreage', 'EPL Own',\n",
       "       'EPL Use', 'EPL Desc', 'EPL Statute', 'EPL Init', 'EPL Further',\n",
       "       'EPL Facility Name', 'Taxes 1', 'Taxes 2', 'Taxes 3', 'Taxes 4',\n",
       "       'Sale Date', 'Deed Book', 'Deed Page', 'Sale Price', 'NU Code', 'Ratio',\n",
       "       'Type/Use', 'Year', 'Owner', 'Street', 'City/State/Zip.1',\n",
       "       'Land Assmnt', 'Building Assmnt', 'Exempt', 'Total Assmnt', 'Assessed',\n",
       "       'Year.1', 'Owner.1', 'Street.1', 'City/State/Zip.2', 'Land Assmnt.1',\n",
       "       'Building Assmnt.1', 'Exempt.1', 'Total Assmnt.1', 'Assessed.1',\n",
       "       'Year.2', 'Owner.2', 'Street.2', 'City/State/Zip.3', 'Land Assmnt.2',\n",
       "       'Building Assmnt.2', 'Exempt.2', 'Total Assmnt.2', 'Assessed.2',\n",
       "       'Year.3', 'Owner.3', 'Street.3', 'City/State/Zip.4', 'Land Assmnt.3',\n",
       "       'Building Assmnt.3', 'Exempt.3', 'Total Assmnt.3', 'Assessed.3',\n",
       "       'Latitude', 'Longitude', 'Neigh', 'VCS', 'StyDesc', 'Style',\n",
       "       'Unnamed: 90', 'property_full_address'],\n",
       "      dtype='object')"
      ]
     },
     "metadata": {},
     "execution_count": 5
    }
   ],
   "source": [
    "jersey_city.columns"
   ]
  },
  {
   "source": [
    "#### The following five cells are columns which can be deleted from the dataframe...\n",
    "#### ...I needed to figure out their respective indices"
   ],
   "cell_type": "markdown",
   "metadata": {}
  },
  {
   "cell_type": "code",
   "execution_count": 6,
   "metadata": {},
   "outputs": [
    {
     "output_type": "execute_result",
     "data": {
      "text/plain": [
       "'Property Class'"
      ]
     },
     "metadata": {},
     "execution_count": 6
    }
   ],
   "source": [
    "jersey_city.columns[5]"
   ]
  },
  {
   "cell_type": "code",
   "execution_count": 7,
   "metadata": {},
   "outputs": [
    {
     "output_type": "execute_result",
     "data": {
      "text/plain": [
       "'Sq. Ft.'"
      ]
     },
     "metadata": {},
     "execution_count": 7
    }
   ],
   "source": [
    "jersey_city.columns[9]"
   ]
  },
  {
   "cell_type": "code",
   "execution_count": 8,
   "metadata": {},
   "outputs": [
    {
     "output_type": "execute_result",
     "data": {
      "text/plain": [
       "Index(['Building Class', 'Prior Block', 'Prior Lot', 'Prior Qual', 'Updated',\n",
       "       'Zone', 'Account', 'Mortgage Account', 'Bank Code', 'Sp Tax Cd',\n",
       "       'Sp Tax Cd.1', 'Sp Tax Cd.2', 'Sp Tax Cd.3', 'Map Page',\n",
       "       'Additional Lots', 'Land Desc', 'Building Desc', 'Class 4 Code',\n",
       "       'Acreage', 'EPL Own', 'EPL Use', 'EPL Desc', 'EPL Statute', 'EPL Init',\n",
       "       'EPL Further', 'EPL Facility Name', 'Taxes 1', 'Taxes 2', 'Taxes 3',\n",
       "       'Taxes 4', 'Sale Date', 'Deed Book', 'Deed Page', 'Sale Price',\n",
       "       'NU Code', 'Ratio', 'Type/Use', 'Year', 'Owner', 'Street',\n",
       "       'City/State/Zip.1', 'Land Assmnt', 'Building Assmnt', 'Exempt',\n",
       "       'Total Assmnt', 'Assessed', 'Year.1', 'Owner.1', 'Street.1',\n",
       "       'City/State/Zip.2', 'Land Assmnt.1', 'Building Assmnt.1', 'Exempt.1',\n",
       "       'Total Assmnt.1', 'Assessed.1', 'Year.2', 'Owner.2', 'Street.2',\n",
       "       'City/State/Zip.3', 'Land Assmnt.2', 'Building Assmnt.2', 'Exempt.2',\n",
       "       'Total Assmnt.2', 'Assessed.2', 'Year.3', 'Owner.3', 'Street.3',\n",
       "       'City/State/Zip.4', 'Land Assmnt.3', 'Building Assmnt.3', 'Exempt.3',\n",
       "       'Total Assmnt.3'],\n",
       "      dtype='object')"
      ]
     },
     "metadata": {},
     "execution_count": 8
    }
   ],
   "source": [
    "jersey_city.columns[11:83]"
   ]
  },
  {
   "cell_type": "code",
   "execution_count": 9,
   "metadata": {},
   "outputs": [
    {
     "output_type": "execute_result",
     "data": {
      "text/plain": [
       "'Assessed.3'"
      ]
     },
     "metadata": {},
     "execution_count": 9
    }
   ],
   "source": [
    "jersey_city.columns[83]"
   ]
  },
  {
   "cell_type": "code",
   "execution_count": 10,
   "metadata": {},
   "outputs": [
    {
     "output_type": "execute_result",
     "data": {
      "text/plain": [
       "Index(['Neigh', 'VCS', 'StyDesc', 'Style', 'Unnamed: 90'], dtype='object')"
      ]
     },
     "metadata": {},
     "execution_count": 10
    }
   ],
   "source": [
    "jersey_city.columns[86:91]"
   ]
  },
  {
   "source": [
    "## Does the owner live in the building? \n",
    "## Does the 'property location' match the 'owner's mailing address'?"
   ],
   "cell_type": "markdown",
   "metadata": {}
  },
  {
   "cell_type": "code",
   "execution_count": 11,
   "metadata": {},
   "outputs": [
    {
     "output_type": "execute_result",
     "data": {
      "text/plain": [
       "0        False\n",
       "1        False\n",
       "2        False\n",
       "3        False\n",
       "4        False\n",
       "         ...  \n",
       "63829    False\n",
       "63830    False\n",
       "63831    False\n",
       "63832    False\n",
       "63833    False\n",
       "Length: 63834, dtype: bool"
      ]
     },
     "metadata": {},
     "execution_count": 11
    }
   ],
   "source": [
    "# this method is inefficient, given we are searching 60k+ rows\n",
    "jersey_city.property_location == jersey_city.owners_mailing_address"
   ]
  },
  {
   "cell_type": "code",
   "execution_count": 12,
   "metadata": {},
   "outputs": [
    {
     "output_type": "execute_result",
     "data": {
      "text/plain": [
       "(array([   27,    29,    34, ..., 63776, 63796, 63797]),)"
      ]
     },
     "metadata": {},
     "execution_count": 12
    }
   ],
   "source": [
    "# numpy has better methods for quickly checking\n",
    "# a quick look by wrapping the same equivalence in a numpy function to see if our intuition is correct\n",
    "np.where(jersey_city.property_location == jersey_city.owners_mailing_address)"
   ]
  },
  {
   "source": [
    "### property location matching the owners mailing address…can we safely assume they reside at the address?\n",
    "### as many as 16544 owners reside in the building they own: \n",
    "### however they might not all be residential properties"
   ],
   "cell_type": "markdown",
   "metadata": {}
  },
  {
   "cell_type": "code",
   "execution_count": 13,
   "metadata": {},
   "outputs": [
    {
     "output_type": "execute_result",
     "data": {
      "text/plain": [
       "       Municipality    Block   Lot Qual      property_location Property Class  \\\n",
       "27              906    201.0   7.0  NaN       817 TONNELE AVE.              1   \n",
       "29              906    201.0   9.0  NaN       823 TONNELE AVE.             4A   \n",
       "34              906    301.0   1.0  NaN       677 LIBERTY AVE.              2   \n",
       "35              906    301.0   2.0  NaN       675 LIBERTY AVE.              2   \n",
       "36              906    301.0   3.0  NaN       673 LIBERTY AVE.              2   \n",
       "...             ...      ...   ...  ...                    ...            ...   \n",
       "63740           906  30304.0  14.0  NaN      100 GARFIELD AVE.              2   \n",
       "63742           906  30304.0  16.0  NaN      104 GARFIELD AVE.              2   \n",
       "63776           906  30306.0   8.0  NaN       100 SUMMIT PLACE             4B   \n",
       "63796           906  30307.0  10.0  NaN  109 PORT JERSEY BLVD.             4B   \n",
       "63797           906  30307.0  11.0  NaN  111 PORT JERSEY BLVD.            15F   \n",
       "\n",
       "                               owners_name owners_mailing_address  \\\n",
       "27                   NELMIR REALTY, L.L.C.       817 TONNELE AVE.   \n",
       "29           GERRY GAS SUPPLY INC.C/O LILH       823 TONNELE AVE.   \n",
       "34                          PEDDI, PRADEEP       677 LIBERTY AVE.   \n",
       "35            PAREJA, HENRY A. & MIRYAM C.       675 LIBERTY AVE.   \n",
       "36                         HIRPARA, PRAVIN       673 LIBERTY AVE.   \n",
       "...                                    ...                    ...   \n",
       "63740                       SERVIDA, AUREA      100 GARFIELD AVE.   \n",
       "63742                  RODRIGUEZ, BENJAMIN      104 GARFIELD AVE.   \n",
       "63776  SUMMIT/GREENWICH URBAN RENEWAL, LLC       100 SUMMIT PLACE   \n",
       "63796                           DOMISA LLC  109 PORT JERSEY BLVD.   \n",
       "63797   111 PORT JERSEY CONDOMINIUM ASSOC.  111 PORT JERSEY BLVD.   \n",
       "\n",
       "                 city_state_zip  Sq. Ft.  ...  Total Assmnt.3  Assessed.3  \\\n",
       "27       JERSEY CITY, NJ  07307        0  ...          111900    111900.0   \n",
       "29     JERSEY CITY, N.J.  07307        0  ...         1699500   1699500.0   \n",
       "34     JERSEY CITY, N.J.  07307     1600  ...          416500    416500.0   \n",
       "35     JERSEY CITY, N.J.  07307     1616  ...          363300    363300.0   \n",
       "36       JERSEY CITY, NJ  07307     1600  ...          364900    364900.0   \n",
       "...                         ...      ...  ...             ...         ...   \n",
       "63740    JERSEY CITY, NJ  07305     1882  ...          271000    271000.0   \n",
       "63742  JERSEY CITY, N.J.  07305     2412  ...          268200    268200.0   \n",
       "63776    JERSEY CITY, NJ  07305        0  ...        13139700  13139700.0   \n",
       "63796  JERSEY CITY, N.J.  07305        0  ...         2863800   2863800.0   \n",
       "63797    JERSEY CITY, NJ  07305        0  ...               0         0.0   \n",
       "\n",
       "      Latitude Longitude Neigh  VCS StyDesc  Style Unnamed: 90  \\\n",
       "27           0         0   NaN  NaN     NaN    NaN         NaN   \n",
       "29           0         0   NaN  NaN     NaN    NaN         NaN   \n",
       "34           0         0   NaN  NaN     NaN    NaN         NaN   \n",
       "35           0         0   NaN  NaN     NaN    NaN         NaN   \n",
       "36           0         0   NaN  NaN     NaN    NaN         NaN   \n",
       "...        ...       ...   ...  ...     ...    ...         ...   \n",
       "63740        0         0   NaN  NaN     NaN    NaN         NaN   \n",
       "63742        0         0   NaN  NaN     NaN    NaN         NaN   \n",
       "63776        0         0   NaN  NaN     NaN    NaN         NaN   \n",
       "63796        0         0   NaN  NaN     NaN    NaN         NaN   \n",
       "63797        0         0   NaN  NaN     NaN    NaN         NaN   \n",
       "\n",
       "                                property_full_address  \n",
       "27            817 Tonnele Ave. Jersey City, Nj  07307  \n",
       "29          823 Tonnele Ave. Jersey City, N.J.  07307  \n",
       "34          677 Liberty Ave. Jersey City, N.J.  07307  \n",
       "35          675 Liberty Ave. Jersey City, N.J.  07307  \n",
       "36            673 Liberty Ave. Jersey City, Nj  07307  \n",
       "...                                               ...  \n",
       "63740        100 Garfield Ave. Jersey City, Nj  07305  \n",
       "63742      104 Garfield Ave. Jersey City, N.J.  07305  \n",
       "63776         100 Summit Place Jersey City, Nj  07305  \n",
       "63796  109 Port Jersey Blvd. Jersey City, N.J.  07305  \n",
       "63797    111 Port Jersey Blvd. Jersey City, Nj  07305  \n",
       "\n",
       "[16544 rows x 92 columns]"
      ],
      "text/html": "<div>\n<style scoped>\n    .dataframe tbody tr th:only-of-type {\n        vertical-align: middle;\n    }\n\n    .dataframe tbody tr th {\n        vertical-align: top;\n    }\n\n    .dataframe thead th {\n        text-align: right;\n    }\n</style>\n<table border=\"1\" class=\"dataframe\">\n  <thead>\n    <tr style=\"text-align: right;\">\n      <th></th>\n      <th>Municipality</th>\n      <th>Block</th>\n      <th>Lot</th>\n      <th>Qual</th>\n      <th>property_location</th>\n      <th>Property Class</th>\n      <th>owners_name</th>\n      <th>owners_mailing_address</th>\n      <th>city_state_zip</th>\n      <th>Sq. Ft.</th>\n      <th>...</th>\n      <th>Total Assmnt.3</th>\n      <th>Assessed.3</th>\n      <th>Latitude</th>\n      <th>Longitude</th>\n      <th>Neigh</th>\n      <th>VCS</th>\n      <th>StyDesc</th>\n      <th>Style</th>\n      <th>Unnamed: 90</th>\n      <th>property_full_address</th>\n    </tr>\n  </thead>\n  <tbody>\n    <tr>\n      <th>27</th>\n      <td>906</td>\n      <td>201.0</td>\n      <td>7.0</td>\n      <td>NaN</td>\n      <td>817 TONNELE AVE.</td>\n      <td>1</td>\n      <td>NELMIR REALTY, L.L.C.</td>\n      <td>817 TONNELE AVE.</td>\n      <td>JERSEY CITY, NJ  07307</td>\n      <td>0</td>\n      <td>...</td>\n      <td>111900</td>\n      <td>111900.0</td>\n      <td>0</td>\n      <td>0</td>\n      <td>NaN</td>\n      <td>NaN</td>\n      <td>NaN</td>\n      <td>NaN</td>\n      <td>NaN</td>\n      <td>817 Tonnele Ave. Jersey City, Nj  07307</td>\n    </tr>\n    <tr>\n      <th>29</th>\n      <td>906</td>\n      <td>201.0</td>\n      <td>9.0</td>\n      <td>NaN</td>\n      <td>823 TONNELE AVE.</td>\n      <td>4A</td>\n      <td>GERRY GAS SUPPLY INC.C/O LILH</td>\n      <td>823 TONNELE AVE.</td>\n      <td>JERSEY CITY, N.J.  07307</td>\n      <td>0</td>\n      <td>...</td>\n      <td>1699500</td>\n      <td>1699500.0</td>\n      <td>0</td>\n      <td>0</td>\n      <td>NaN</td>\n      <td>NaN</td>\n      <td>NaN</td>\n      <td>NaN</td>\n      <td>NaN</td>\n      <td>823 Tonnele Ave. Jersey City, N.J.  07307</td>\n    </tr>\n    <tr>\n      <th>34</th>\n      <td>906</td>\n      <td>301.0</td>\n      <td>1.0</td>\n      <td>NaN</td>\n      <td>677 LIBERTY AVE.</td>\n      <td>2</td>\n      <td>PEDDI, PRADEEP</td>\n      <td>677 LIBERTY AVE.</td>\n      <td>JERSEY CITY, N.J.  07307</td>\n      <td>1600</td>\n      <td>...</td>\n      <td>416500</td>\n      <td>416500.0</td>\n      <td>0</td>\n      <td>0</td>\n      <td>NaN</td>\n      <td>NaN</td>\n      <td>NaN</td>\n      <td>NaN</td>\n      <td>NaN</td>\n      <td>677 Liberty Ave. Jersey City, N.J.  07307</td>\n    </tr>\n    <tr>\n      <th>35</th>\n      <td>906</td>\n      <td>301.0</td>\n      <td>2.0</td>\n      <td>NaN</td>\n      <td>675 LIBERTY AVE.</td>\n      <td>2</td>\n      <td>PAREJA, HENRY A. &amp; MIRYAM C.</td>\n      <td>675 LIBERTY AVE.</td>\n      <td>JERSEY CITY, N.J.  07307</td>\n      <td>1616</td>\n      <td>...</td>\n      <td>363300</td>\n      <td>363300.0</td>\n      <td>0</td>\n      <td>0</td>\n      <td>NaN</td>\n      <td>NaN</td>\n      <td>NaN</td>\n      <td>NaN</td>\n      <td>NaN</td>\n      <td>675 Liberty Ave. Jersey City, N.J.  07307</td>\n    </tr>\n    <tr>\n      <th>36</th>\n      <td>906</td>\n      <td>301.0</td>\n      <td>3.0</td>\n      <td>NaN</td>\n      <td>673 LIBERTY AVE.</td>\n      <td>2</td>\n      <td>HIRPARA, PRAVIN</td>\n      <td>673 LIBERTY AVE.</td>\n      <td>JERSEY CITY, NJ  07307</td>\n      <td>1600</td>\n      <td>...</td>\n      <td>364900</td>\n      <td>364900.0</td>\n      <td>0</td>\n      <td>0</td>\n      <td>NaN</td>\n      <td>NaN</td>\n      <td>NaN</td>\n      <td>NaN</td>\n      <td>NaN</td>\n      <td>673 Liberty Ave. Jersey City, Nj  07307</td>\n    </tr>\n    <tr>\n      <th>...</th>\n      <td>...</td>\n      <td>...</td>\n      <td>...</td>\n      <td>...</td>\n      <td>...</td>\n      <td>...</td>\n      <td>...</td>\n      <td>...</td>\n      <td>...</td>\n      <td>...</td>\n      <td>...</td>\n      <td>...</td>\n      <td>...</td>\n      <td>...</td>\n      <td>...</td>\n      <td>...</td>\n      <td>...</td>\n      <td>...</td>\n      <td>...</td>\n      <td>...</td>\n      <td>...</td>\n    </tr>\n    <tr>\n      <th>63740</th>\n      <td>906</td>\n      <td>30304.0</td>\n      <td>14.0</td>\n      <td>NaN</td>\n      <td>100 GARFIELD AVE.</td>\n      <td>2</td>\n      <td>SERVIDA, AUREA</td>\n      <td>100 GARFIELD AVE.</td>\n      <td>JERSEY CITY, NJ  07305</td>\n      <td>1882</td>\n      <td>...</td>\n      <td>271000</td>\n      <td>271000.0</td>\n      <td>0</td>\n      <td>0</td>\n      <td>NaN</td>\n      <td>NaN</td>\n      <td>NaN</td>\n      <td>NaN</td>\n      <td>NaN</td>\n      <td>100 Garfield Ave. Jersey City, Nj  07305</td>\n    </tr>\n    <tr>\n      <th>63742</th>\n      <td>906</td>\n      <td>30304.0</td>\n      <td>16.0</td>\n      <td>NaN</td>\n      <td>104 GARFIELD AVE.</td>\n      <td>2</td>\n      <td>RODRIGUEZ, BENJAMIN</td>\n      <td>104 GARFIELD AVE.</td>\n      <td>JERSEY CITY, N.J.  07305</td>\n      <td>2412</td>\n      <td>...</td>\n      <td>268200</td>\n      <td>268200.0</td>\n      <td>0</td>\n      <td>0</td>\n      <td>NaN</td>\n      <td>NaN</td>\n      <td>NaN</td>\n      <td>NaN</td>\n      <td>NaN</td>\n      <td>104 Garfield Ave. Jersey City, N.J.  07305</td>\n    </tr>\n    <tr>\n      <th>63776</th>\n      <td>906</td>\n      <td>30306.0</td>\n      <td>8.0</td>\n      <td>NaN</td>\n      <td>100 SUMMIT PLACE</td>\n      <td>4B</td>\n      <td>SUMMIT/GREENWICH URBAN RENEWAL, LLC</td>\n      <td>100 SUMMIT PLACE</td>\n      <td>JERSEY CITY, NJ  07305</td>\n      <td>0</td>\n      <td>...</td>\n      <td>13139700</td>\n      <td>13139700.0</td>\n      <td>0</td>\n      <td>0</td>\n      <td>NaN</td>\n      <td>NaN</td>\n      <td>NaN</td>\n      <td>NaN</td>\n      <td>NaN</td>\n      <td>100 Summit Place Jersey City, Nj  07305</td>\n    </tr>\n    <tr>\n      <th>63796</th>\n      <td>906</td>\n      <td>30307.0</td>\n      <td>10.0</td>\n      <td>NaN</td>\n      <td>109 PORT JERSEY BLVD.</td>\n      <td>4B</td>\n      <td>DOMISA LLC</td>\n      <td>109 PORT JERSEY BLVD.</td>\n      <td>JERSEY CITY, N.J.  07305</td>\n      <td>0</td>\n      <td>...</td>\n      <td>2863800</td>\n      <td>2863800.0</td>\n      <td>0</td>\n      <td>0</td>\n      <td>NaN</td>\n      <td>NaN</td>\n      <td>NaN</td>\n      <td>NaN</td>\n      <td>NaN</td>\n      <td>109 Port Jersey Blvd. Jersey City, N.J.  07305</td>\n    </tr>\n    <tr>\n      <th>63797</th>\n      <td>906</td>\n      <td>30307.0</td>\n      <td>11.0</td>\n      <td>NaN</td>\n      <td>111 PORT JERSEY BLVD.</td>\n      <td>15F</td>\n      <td>111 PORT JERSEY CONDOMINIUM ASSOC.</td>\n      <td>111 PORT JERSEY BLVD.</td>\n      <td>JERSEY CITY, NJ  07305</td>\n      <td>0</td>\n      <td>...</td>\n      <td>0</td>\n      <td>0.0</td>\n      <td>0</td>\n      <td>0</td>\n      <td>NaN</td>\n      <td>NaN</td>\n      <td>NaN</td>\n      <td>NaN</td>\n      <td>NaN</td>\n      <td>111 Port Jersey Blvd. Jersey City, Nj  07305</td>\n    </tr>\n  </tbody>\n</table>\n<p>16544 rows × 92 columns</p>\n</div>"
     },
     "metadata": {},
     "execution_count": 13
    }
   ],
   "source": [
    "jersey_city.loc[jersey_city.property_location == jersey_city.owners_mailing_address]"
   ]
  },
  {
   "source": [
    "## Does the property owner own more than one property? Which property owner owns the most properties?\n",
    "### These numbers can be deceiving; many properties or units can exist in a single address.\n",
    "### The same address can be included twice. "
   ],
   "cell_type": "markdown",
   "metadata": {}
  },
  {
   "cell_type": "code",
   "execution_count": 14,
   "metadata": {},
   "outputs": [
    {
     "output_type": "execute_result",
     "data": {
      "text/plain": [
       "49247"
      ]
     },
     "metadata": {},
     "execution_count": 14
    }
   ],
   "source": [
    "# As we'll see below, many of the addresses and owners are spelled incorrectly \n",
    "len(jersey_city['owners_name'].unique())"
   ]
  },
  {
   "cell_type": "code",
   "execution_count": 15,
   "metadata": {},
   "outputs": [
    {
     "output_type": "execute_result",
     "data": {
      "text/plain": [
       "37842"
      ]
     },
     "metadata": {},
     "execution_count": 15
    }
   ],
   "source": [
    "len(jersey_city['property_location'].unique())"
   ]
  },
  {
   "source": [
    "### multiple units can appear in a single property, adding to the value counts below"
   ],
   "cell_type": "markdown",
   "metadata": {}
  },
  {
   "source": [
    "## How many LLCs have \"UR\" or \"Urban Renewal\" in the owner's name?"
   ],
   "cell_type": "markdown",
   "metadata": {}
  },
  {
   "cell_type": "code",
   "execution_count": 17,
   "metadata": {},
   "outputs": [
    {
     "output_type": "execute_result",
     "data": {
      "text/plain": [
       "array(['HEIGHTS URBAN RENEWAL SENIOR H.',\n",
       "       'RATAN JERSEY CITY URBAN RENEWAL,LLC',\n",
       "       'BRASS WORKS URBAN RENEWAL CO., LLC',\n",
       "       'HUDSON PALISADES URBAN RENEWAL,LLC',\n",
       "       '364 NINTH STREET URBAN RENEWAL, LLC',\n",
       "       'NINTH STREET TWO URBAN RENEWAL,LLC',\n",
       "       'TOWER EAST URBAN RENEWAL COMPANY',\n",
       "       'JAMES MONROE URBAN RENEWAL CO.', '25 RIVER DR.SO.URBAN RENEWAL',\n",
       "       'SENATE PLACE URBAN RENEWAL, LLC',\n",
       "       'H.P. LINCOLN URBAN RENEWAL COMPANY',\n",
       "       'ERIE 10TH URBAN RENEWAL, L.L.C.', '9TH STREET URBAN RENEWAL,LLC',\n",
       "       'VAN WAGENEN II URBAN RENEWAL, LLC.',\n",
       "       '17-19 DIVISION ST URBAN RENEWAL,LLC',\n",
       "       '380 NEWARK REALTY URBAN RENEWAL LLC',\n",
       "       'BLOCK 284 NORTH URBAN RENEWAL, LLC',\n",
       "       '500 MANILA AVE.URBAN RENEWAL, LLC',\n",
       "       '500 MANILA AVE.URBAN RENEWAL LLC',\n",
       "       'KRE HAMILTON URBAN RENEWAL LLC',\n",
       "       'VAN WAGENEN I URBAN RENEWAL, LLC.',\n",
       "       '160 FIRST STREET URBAN RENEWAL, LLC',\n",
       "       'PS FIRST HUDSON URBAN RENEWAL LLC',\n",
       "       '140 BAY STREET URBAN RENEWAL, LLC',\n",
       "       'PROVOST SQUARE I URBAN RENEWAL, LLC',\n",
       "       'PINNACLE TOWER URBAN RENEWAL, LLC',\n",
       "       'MORGAN ST. DEVEL.URBAN RENEWAL LLC',\n",
       "       'MORGAN ST. DEVELOPERS URBAN RENEWAL',\n",
       "       'MAJESTIC URBAN RENEWAL, LLC.', '70 COLUMBUS URBAN RENEWAL, LLC',\n",
       "       'COLUMBUS HOTEL URBAN RENEWAL, LLC',\n",
       "       'PH URBAN RENEWAL LLC%MACK CALI CORP',\n",
       "       'SIENA URBAN RENEWAL ASSOC., LP',\n",
       "       'BR MERCURY URBAN RENEWAL CO,LLC.,',\n",
       "       'BR TOWER URBAN RENEWAL COMPANY, LLC',\n",
       "       'ADELE FASHION URBAN RENEWAL A.,LLC',\n",
       "       'MARBACH URBAN RENEWAL RLTY ASSO.',\n",
       "       '456 GRAND REALTY URBAN RENEWAL, LLC',\n",
       "       'BRIGHT & VARICK URBAN RENEWAL LLC',\n",
       "       '272 GROVE STREET URBAN RENEWAL, LLC',\n",
       "       'LIBERTY POINT URBAN RENEWAL, LLC',\n",
       "       'LIBERTY POINT URBAN RENEWAL,L.L.C.',\n",
       "       'MONTGOMERY GREENE URBAN RENEWAL,LLC',\n",
       "       '280 FAIRMOUNT URBAN RENEWAL, LLC.',\n",
       "       'AETNA MONMOUTH URBAN RENEWAL, LLC',\n",
       "       '95 VAN DAM URBAN RENEWAL, L.L.C.',\n",
       "       'GRAND LHN II URBAN RENEWAL, LLC',\n",
       "       'GRAND LHN I URBAN RENEWAL, LLC', 'BERGENVIEW URBAN RENEWAL, LLC.',\n",
       "       '170 LAFAYETTE URBAN RENEWAL,LLC',\n",
       "       'ASH URBAN RENEWAL DEVELOPMENT,LLC',\n",
       "       'KENNEDY MANOR URBAN RENEWAL LLC',\n",
       "       'SALEM LAFAYETTE URBAN RENEWAL, L.P.',\n",
       "       'MONITOR MAPLE URBAN RENEWAL, LLC',\n",
       "       'SALEM LAFAYETTER URBAN RENEWAL, L.P',\n",
       "       '234 SUYDAM AVENUE URBAN RENEWAL LLC',\n",
       "       '16 BENNETT ST. URBAN RENEWAL LLC',\n",
       "       '16 BENNETT ST. URBAN RENEWAL CO.',\n",
       "       'OCEAN MLK URBAN RENEWAL ASSOC.',\n",
       "       'CICF II - NJ1B02 URBAN RENEWAL, LLC',\n",
       "       '400 CLAREMONT URBAN RENEWAL LLC',\n",
       "       '400 CLAREMENT URBAN RENEWAL LLC',\n",
       "       '305 WEST SIDE AVE URBAN RENEWAL,LLC',\n",
       "       'BERGEN MANOR URBAN RENEWAL LLC',\n",
       "       'OCEAN MLK URBAN RENEWAL ASSOCIATES',\n",
       "       'AUDOBON URBAN RENEWAL% SIG MGNT,LLC',\n",
       "       'AUDOBON URBAN RENEWAL%SIG MNGT, LLC',\n",
       "       'AUDOBON URBAN RENEWAL% SIG MNGT,LLC',\n",
       "       'AUDOBON URBAN RENEWAL%AMISTAD MGT.',\n",
       "       'CLAREMONT URBAN RENEWAL CORP.',\n",
       "       'WA RESIDENTIAL URBAN RENEWAL CO.LLC',\n",
       "       'AUDOBON URBAN RENEWAL PROPERTIES,LP',\n",
       "       'GENESIS OCEAN URBAN RENEWAL ASSOC.',\n",
       "       \"LET'S CELEBRATE URBAN RENEWAL, LLC\",\n",
       "       '99 RUTGERS URBAN RENEWAL, L.P.',\n",
       "       '45-51 MLK URBAN RENEWAL CO., INC.',\n",
       "       '45-51 MLK URBAN RENEWAL CORP',\n",
       "       '45-51 MLK URBAN RENEWAL COMPANY LLC',\n",
       "       'HUDSON MAIN URBAN RENEWAL,LLC',\n",
       "       'SUMMIT/GREENWICH URBAN RENEWAL, LLC',\n",
       "       'SUMMIT GREENWICH URBAN RENEWAL, LLC'], dtype=object)"
      ]
     },
     "metadata": {},
     "execution_count": 17
    }
   ],
   "source": [
    "# More examples of how unclean the data is, even on a state database\n",
    "jersey_city[jersey_city.owners_name.str.contains('URBAN RENEWAL')]['owners_name'].unique()"
   ]
  },
  {
   "cell_type": "code",
   "execution_count": 18,
   "metadata": {},
   "outputs": [
    {
     "output_type": "execute_result",
     "data": {
      "text/plain": [
       "array(['SUMMIT PLAZA ASSOCIATES, UR LTD PTN',\n",
       "       'PADUA COURT UR C/O INSPIRED VISION',\n",
       "       'PADUA COURT UR C/O INSPRED VISION',\n",
       "       'CAL-HARBOR SO. PIER UR ASC %M CALI'], dtype=object)"
      ]
     },
     "metadata": {},
     "execution_count": 18
    }
   ],
   "source": [
    "jersey_city[jersey_city.owners_name.str.contains(' UR ')]['owners_name'].unique()"
   ]
  },
  {
   "cell_type": "code",
   "execution_count": 19,
   "metadata": {},
   "outputs": [
    {
     "output_type": "execute_result",
     "data": {
      "text/plain": [
       "array(['99 HUDSON ST.'], dtype=object)"
      ]
     },
     "metadata": {},
     "execution_count": 19
    }
   ],
   "source": [
    "jersey_city[jersey_city.owners_name == 'COA 99 HUDSON,LLC']['property_location'].unique()"
   ]
  },
  {
   "cell_type": "code",
   "execution_count": 154,
   "metadata": {},
   "outputs": [
    {
     "output_type": "execute_result",
     "data": {
      "text/plain": [
       "Index(['property_location', 'owners_name', 'owners_mailing_address',\n",
       "       'city_state_zip', 'Yr. Built', 'Latitude', 'Longitude',\n",
       "       'property_full_address', 'gcode'],\n",
       "      dtype='object')"
      ]
     },
     "metadata": {},
     "execution_count": 154
    }
   ],
   "source": [
    "test_data.columns"
   ]
  },
  {
   "cell_type": "code",
   "execution_count": 20,
   "metadata": {},
   "outputs": [],
   "source": [
    "def return_jc_properties(owner=str): \n",
    "    return jersey_city[jersey_city.owners_name == owner.rstrip()]['property_location'].unique()"
   ]
  },
  {
   "cell_type": "code",
   "execution_count": 152,
   "metadata": {},
   "outputs": [],
   "source": [
    "def return_testData_properties(owner=str): \n",
    "    return len(test_data[test_data.owners_name == owner.rstrip()]['property_location'].unique())"
   ]
  },
  {
   "cell_type": "code",
   "execution_count": 160,
   "metadata": {},
   "outputs": [],
   "source": [
    "def return_owner(address=str):\n",
    "    owner = test_data[test_data.property_location == address.strip()]['owners_name'] \n",
    "    return owner\n",
    "    # if the following conditional is true, it means the owner is associated with other properties \n",
    "    if len(owner) < 1:\n",
    "        other_properties = test_data[test_data.owners_name == owner]['property_location'].unique()\n",
    "        # return the other address or addresses associated with owner\n",
    "        return other_properties"
   ]
  },
  {
   "cell_type": "code",
   "execution_count": 175,
   "metadata": {},
   "outputs": [],
   "source": [
    "def return_properties(owner=str):\n",
    "    unique_properties = test_data[test_data.owners_name == owner]['property_location'].unique()\n",
    "    units = len(test_data[test_data.owners_name == owner]['property_location'])\n",
    "    if units > 1:\n",
    "        return f'{units} units at {unique_properties[0]}'\n",
    "    else:\n",
    "        return unique_properties"
   ]
  },
  {
   "cell_type": "code",
   "execution_count": 176,
   "metadata": {},
   "outputs": [
    {
     "output_type": "execute_result",
     "data": {
      "text/plain": [
       "'2 units at 143 CHAPEL AVE'"
      ]
     },
     "metadata": {},
     "execution_count": 176
    }
   ],
   "source": [
    "return_properties('HUDSON MAIN URBAN RENEWAL,LLC')"
   ]
  },
  {
   "cell_type": "code",
   "execution_count": 168,
   "metadata": {},
   "outputs": [
    {
     "output_type": "execute_result",
     "data": {
      "text/plain": [
       "632    HUDSON MAIN URBAN RENEWAL,LLC\n",
       "633    HUDSON MAIN URBAN RENEWAL,LLC\n",
       "Name: owners_name, dtype: object"
      ]
     },
     "metadata": {},
     "execution_count": 168
    }
   ],
   "source": [
    "return_owner('143 CHAPEL AVE\t')"
   ]
  },
  {
   "cell_type": "code",
   "execution_count": 153,
   "metadata": {},
   "outputs": [
    {
     "output_type": "execute_result",
     "data": {
      "text/plain": [
       "45"
      ]
     },
     "metadata": {},
     "execution_count": 153
    }
   ],
   "source": [
    "return_testData_properties('HOUSING AUTHORITY OF JERSEY CITY')"
   ]
  },
  {
   "cell_type": "code",
   "execution_count": 22,
   "metadata": {},
   "outputs": [
    {
     "output_type": "stream",
     "name": "stdout",
     "text": [
      "CPU times: user 1.46 s, sys: 224 ms, total: 1.69 s\nWall time: 7min 11s\n"
     ]
    }
   ],
   "source": [
    "%%time\n",
    "# a smaller dataset to view inconsistencies\n",
    "# are there duplicate addresses in this subset of data?\n",
    "# are the addresses accurate? \n",
    "\n",
    "# a copy() is used to avoid writing on the original dataframe\n",
    "js_ha = jersey_city[jersey_city.owners_name == 'HOUSING AUTHORITY OF JERSEY CITY'].copy()\n",
    "js_ha.reset_index(inplace=True, drop=True)\n",
    "js_ha['gcode'] = js_ha.property_full_address.apply(geolocator.geocode)\n",
    "\n",
    "city_of_js = jersey_city[jersey_city.owners_name == 'CITY OF JERSEY CITY'].copy()\n",
    "city_of_js.reset_index(inplace=True, drop=True)\n",
    "city_of_js['gcode'] = city_of_js.property_full_address.apply(geolocator.geocode)\n",
    "\n",
    "urban_renewal = jersey_city[jersey_city.owners_name.str.contains('URBAN RENEWAL')].copy()\n",
    "urban_renewal.reset_index(inplace=True, drop=True)\n",
    "urban_renewal['gcode'] = urban_renewal.property_full_address.apply(geolocator.geocode)"
   ]
  },
  {
   "cell_type": "code",
   "execution_count": 25,
   "metadata": {},
   "outputs": [],
   "source": [
    "# for now, we'll drop the None values in the gcode column to make our lives easier \n",
    "# this does not however solve the issue of duplicate values in that column\n",
    "js_ha.dropna(axis=0, subset=['gcode'], inplace=True)\n",
    "city_of_js.dropna(axis=0, subset=['gcode'], inplace=True)\n",
    "urban_renewal.dropna(axis=0, subset=['gcode'], inplace=True)\n",
    "\n",
    "# since the dataframe already contains Latitude and Longitude columns, we can write to them directly\n",
    "js_ha['Latitude'] = [g.latitude for g in js_ha.gcode]\n",
    "js_ha['Longitude'] = [g.longitude for g in js_ha.gcode]\n",
    "\n",
    "city_of_js['Latitude'] = [g.latitude for g in city_of_js.gcode]\n",
    "city_of_js['Longitude'] = [g.longitude for g in city_of_js.gcode]\n",
    "\n",
    "urban_renewal['Latitude'] = [g.latitude for g in urban_renewal.gcode]\n",
    "urban_renewal['Longitude'] = [g.longitude for g in urban_renewal.gcode]"
   ]
  },
  {
   "cell_type": "code",
   "execution_count": 26,
   "metadata": {},
   "outputs": [],
   "source": [
    "# a less tedious way to execute this might be drop ranges of columns instead of doing it all manually\n",
    "js_ha.drop(columns=['Municipality', \n",
    "                    'Block', \n",
    "                    'Lot', \n",
    "                    'Qual', \n",
    "                    'Property Class', \n",
    "                    'Sq. Ft.', \n",
    "                    'Building Class', \n",
    "                    'Prior Block', \n",
    "                    'Prior Lot', \n",
    "                    'Prior Qual', \n",
    "                    'Updated', \n",
    "                    'Zone', \n",
    "                    'Account', \n",
    "                    'Mortgage Account', \n",
    "                    'Bank Code', \n",
    "                    'Sp Tax Cd', \n",
    "                    'Sp Tax Cd.1', \n",
    "                    'Sp Tax Cd.2', \n",
    "                    'Sp Tax Cd.3', \n",
    "                    'Map Page',\n",
    "                    'Additional Lots', \n",
    "                    'Land Desc', \n",
    "                    'Building Desc', \n",
    "                    'Class 4 Code', \n",
    "                    'Acreage', \n",
    "                    'EPL Own', \n",
    "                    'EPL Use', \n",
    "                    'EPL Desc', \n",
    "                    'EPL Statute', \n",
    "                    'EPL Init', \n",
    "                    'EPL Further', \n",
    "                    'EPL Facility Name', \n",
    "                    'Taxes 1', \n",
    "                    'Taxes 2', \n",
    "                    'Taxes 3', \n",
    "                    'Taxes 4', \n",
    "                    'Sale Date', \n",
    "                    'Deed Book', \n",
    "                    'Deed Page', \n",
    "                    'Sale Price', \n",
    "                    'NU Code', \n",
    "                    'Ratio', \n",
    "                    'Type/Use', \n",
    "                    'Year', \n",
    "                    'Owner', \n",
    "                    'Street', \n",
    "                    'City/State/Zip.1',\n",
    "                    'Land Assmnt', \n",
    "                    'Building Assmnt', \n",
    "                    'Exempt', \n",
    "                    'Total Assmnt', \n",
    "                    'Assessed',\n",
    "                    'Year.1', \n",
    "                    'Owner.1', \n",
    "                    'Street.1', \n",
    "                    'City/State/Zip.2', \n",
    "                    'Land Assmnt.1',\n",
    "                    'Building Assmnt.1', \n",
    "                    'Exempt.1', \n",
    "                    'Total Assmnt.1', \n",
    "                    'Assessed.1',\n",
    "                    'Year.2', \n",
    "                    'Owner.2', \n",
    "                    'Street.2', \n",
    "                    'City/State/Zip.3', \n",
    "                    'Land Assmnt.2',\n",
    "                    'Building Assmnt.2', \n",
    "                    'Exempt.2', \n",
    "                    'Total Assmnt.2', \n",
    "                    'Assessed.2',\n",
    "                    'Year.3', \n",
    "                    'Owner.3', \n",
    "                    'Street.3', \n",
    "                    'City/State/Zip.4', \n",
    "                    'Land Assmnt.3',\n",
    "                    'Building Assmnt.3', \n",
    "                    'Exempt.3', \n",
    "                    'Total Assmnt.3', \n",
    "                    'Assessed.3', \n",
    "                    'Neigh', \n",
    "                    'VCS', \n",
    "                    'StyDesc', \n",
    "                    'Style',\n",
    "                    'Unnamed: 90'], inplace=True) "
   ]
  },
  {
   "cell_type": "code",
   "execution_count": 27,
   "metadata": {},
   "outputs": [],
   "source": [
    "# a less tedious way to execute this might be drop ranges of columns instead of doing it all manually\n",
    "city_of_js.drop(columns=['Municipality', \n",
    "                    'Block', \n",
    "                    'Lot', \n",
    "                    'Qual', \n",
    "                    'Property Class', \n",
    "                    'Sq. Ft.', \n",
    "                    'Building Class', \n",
    "                    'Prior Block', \n",
    "                    'Prior Lot', \n",
    "                    'Prior Qual', \n",
    "                    'Updated', \n",
    "                    'Zone', \n",
    "                    'Account', \n",
    "                    'Mortgage Account', \n",
    "                    'Bank Code', \n",
    "                    'Sp Tax Cd', \n",
    "                    'Sp Tax Cd.1', \n",
    "                    'Sp Tax Cd.2', \n",
    "                    'Sp Tax Cd.3', \n",
    "                    'Map Page',\n",
    "                    'Additional Lots', \n",
    "                    'Land Desc', \n",
    "                    'Building Desc', \n",
    "                    'Class 4 Code', \n",
    "                    'Acreage', \n",
    "                    'EPL Own', \n",
    "                    'EPL Use', \n",
    "                    'EPL Desc', \n",
    "                    'EPL Statute', \n",
    "                    'EPL Init', \n",
    "                    'EPL Further', \n",
    "                    'EPL Facility Name', \n",
    "                    'Taxes 1', \n",
    "                    'Taxes 2', \n",
    "                    'Taxes 3', \n",
    "                    'Taxes 4', \n",
    "                    'Sale Date', \n",
    "                    'Deed Book', \n",
    "                    'Deed Page', \n",
    "                    'Sale Price', \n",
    "                    'NU Code', \n",
    "                    'Ratio', \n",
    "                    'Type/Use', \n",
    "                    'Year', \n",
    "                    'Owner', \n",
    "                    'Street', \n",
    "                    'City/State/Zip.1',\n",
    "                    'Land Assmnt', \n",
    "                    'Building Assmnt', \n",
    "                    'Exempt', \n",
    "                    'Total Assmnt', \n",
    "                    'Assessed',\n",
    "                    'Year.1', \n",
    "                    'Owner.1', \n",
    "                    'Street.1', \n",
    "                    'City/State/Zip.2', \n",
    "                    'Land Assmnt.1',\n",
    "                    'Building Assmnt.1', \n",
    "                    'Exempt.1', \n",
    "                    'Total Assmnt.1', \n",
    "                    'Assessed.1',\n",
    "                    'Year.2', \n",
    "                    'Owner.2', \n",
    "                    'Street.2', \n",
    "                    'City/State/Zip.3', \n",
    "                    'Land Assmnt.2',\n",
    "                    'Building Assmnt.2', \n",
    "                    'Exempt.2', \n",
    "                    'Total Assmnt.2', \n",
    "                    'Assessed.2',\n",
    "                    'Year.3', \n",
    "                    'Owner.3', \n",
    "                    'Street.3', \n",
    "                    'City/State/Zip.4', \n",
    "                    'Land Assmnt.3',\n",
    "                    'Building Assmnt.3', \n",
    "                    'Exempt.3', \n",
    "                    'Total Assmnt.3', \n",
    "                    'Assessed.3', \n",
    "                    'Neigh', \n",
    "                    'VCS', \n",
    "                    'StyDesc', \n",
    "                    'Style',\n",
    "                    'Unnamed: 90'], inplace=True) "
   ]
  },
  {
   "cell_type": "code",
   "execution_count": 28,
   "metadata": {},
   "outputs": [],
   "source": [
    "urban_renewal.drop(columns=['Municipality', \n",
    "                    'Block', \n",
    "                    'Lot', \n",
    "                    'Qual', \n",
    "                    'Property Class', \n",
    "                    'Sq. Ft.', \n",
    "                    'Building Class', \n",
    "                    'Prior Block', \n",
    "                    'Prior Lot', \n",
    "                    'Prior Qual', \n",
    "                    'Updated', \n",
    "                    'Zone', \n",
    "                    'Account', \n",
    "                    'Mortgage Account', \n",
    "                    'Bank Code', \n",
    "                    'Sp Tax Cd', \n",
    "                    'Sp Tax Cd.1', \n",
    "                    'Sp Tax Cd.2', \n",
    "                    'Sp Tax Cd.3', \n",
    "                    'Map Page',\n",
    "                    'Additional Lots', \n",
    "                    'Land Desc', \n",
    "                    'Building Desc', \n",
    "                    'Class 4 Code', \n",
    "                    'Acreage', \n",
    "                    'EPL Own', \n",
    "                    'EPL Use', \n",
    "                    'EPL Desc', \n",
    "                    'EPL Statute', \n",
    "                    'EPL Init', \n",
    "                    'EPL Further', \n",
    "                    'EPL Facility Name', \n",
    "                    'Taxes 1', \n",
    "                    'Taxes 2', \n",
    "                    'Taxes 3', \n",
    "                    'Taxes 4', \n",
    "                    'Sale Date', \n",
    "                    'Deed Book', \n",
    "                    'Deed Page', \n",
    "                    'Sale Price', \n",
    "                    'NU Code', \n",
    "                    'Ratio', \n",
    "                    'Type/Use', \n",
    "                    'Year', \n",
    "                    'Owner', \n",
    "                    'Street', \n",
    "                    'City/State/Zip.1',\n",
    "                    'Land Assmnt', \n",
    "                    'Building Assmnt', \n",
    "                    'Exempt', \n",
    "                    'Total Assmnt', \n",
    "                    'Assessed',\n",
    "                    'Year.1', \n",
    "                    'Owner.1', \n",
    "                    'Street.1', \n",
    "                    'City/State/Zip.2', \n",
    "                    'Land Assmnt.1',\n",
    "                    'Building Assmnt.1', \n",
    "                    'Exempt.1', \n",
    "                    'Total Assmnt.1', \n",
    "                    'Assessed.1',\n",
    "                    'Year.2', \n",
    "                    'Owner.2', \n",
    "                    'Street.2', \n",
    "                    'City/State/Zip.3', \n",
    "                    'Land Assmnt.2',\n",
    "                    'Building Assmnt.2', \n",
    "                    'Exempt.2', \n",
    "                    'Total Assmnt.2', \n",
    "                    'Assessed.2',\n",
    "                    'Year.3', \n",
    "                    'Owner.3', \n",
    "                    'Street.3', \n",
    "                    'City/State/Zip.4', \n",
    "                    'Land Assmnt.3',\n",
    "                    'Building Assmnt.3', \n",
    "                    'Exempt.3', \n",
    "                    'Total Assmnt.3', \n",
    "                    'Assessed.3', \n",
    "                    'Neigh', \n",
    "                    'VCS', \n",
    "                    'StyDesc', \n",
    "                    'Style',\n",
    "                    'Unnamed: 90'], inplace=True) "
   ]
  },
  {
   "cell_type": "code",
   "execution_count": 120,
   "metadata": {},
   "outputs": [],
   "source": [
    "test_data = js_ha.append([city_of_js, urban_renewal])\n",
    "test_data.reset_index(inplace=True, drop=True)"
   ]
  },
  {
   "cell_type": "code",
   "execution_count": 121,
   "metadata": {},
   "outputs": [
    {
     "output_type": "execute_result",
     "data": {
      "text/plain": [
       "      property_location                          owners_name  \\\n",
       "0       514 NEWARK AVE.     HOUSING AUTHORITY OF JERSEY CITY   \n",
       "1           88 ERIE ST.     HOUSING AUTHORITY OF JERSEY CITY   \n",
       "2         57 DALES AVE.     HOUSING AUTHORITY OF JERSEY CITY   \n",
       "3    547 MONTGOMERY ST.     HOUSING AUTHORITY OF JERSEY CITY   \n",
       "4       20 FLORENCE ST.     HOUSING AUTHORITY OF JERSEY CITY   \n",
       "..                  ...                                  ...   \n",
       "631      455 OCEAN AVE.   GENESIS OCEAN URBAN RENEWAL ASSOC.   \n",
       "632      143 CHAPEL AVE        HUDSON MAIN URBAN RENEWAL,LLC   \n",
       "633      143 CHAPEL AVE        HUDSON MAIN URBAN RENEWAL,LLC   \n",
       "634    100 SUMMIT PLACE  SUMMIT/GREENWICH URBAN RENEWAL, LLC   \n",
       "635        SUMMIT PLACE  SUMMIT GREENWICH URBAN RENEWAL, LLC   \n",
       "\n",
       "    owners_mailing_address                   city_state_zip  Yr. Built  \\\n",
       "0        514 NEWARK AVENUE           JERSEY CITY, NJ  07306        NaN   \n",
       "1      400 U.S. HIGHWAY #1           JERSEY CITY, NJ  07306     1870.0   \n",
       "2              400 ROUTE 1           JERSEY CITY, NJ  07306     1941.0   \n",
       "3      400 U.S. HIGHWAY #1           JERSEY CITY, NJ  07306        NaN   \n",
       "4      400 U.S. HIGHWAY #1           JERSEY CITY, NJ  07306        NaN   \n",
       "..                     ...                              ...        ...   \n",
       "631         455 OCEAN AVE.  JERSEY CITY , NEW JERSEY  07305     2018.0   \n",
       "632    17 INDEPENDENCE WAY           JERSEY CITY, NJ  07302        NaN   \n",
       "633    17 INDEPENDENCE WAY           JERSEY CITY, NJ  07302     2017.0   \n",
       "634       100 SUMMIT PLACE           JERSEY CITY, NJ  07305     2000.0   \n",
       "635       100 SUMMIT PLACE           JERSEY CITY, NJ  07305        NaN   \n",
       "\n",
       "      Latitude  Longitude                           property_full_address  \\\n",
       "0    40.730082 -74.055283          514 Newark Ave. Jersey City, Nj  07306   \n",
       "1    40.724742 -74.043713              88 Erie St. Jersey City, Nj  07306   \n",
       "2    40.735895 -74.076336            57 Dales Ave. Jersey City, Nj  07306   \n",
       "3    40.722429 -74.060221       547 Montgomery St. Jersey City, Nj  07306   \n",
       "4    40.723183 -74.060375          20 Florence St. Jersey City, Nj  07306   \n",
       "..         ...        ...                                             ...   \n",
       "631  40.702127 -74.082018  455 Ocean Ave. Jersey City , New Jersey  07305   \n",
       "632  40.694191 -74.084210           143 Chapel Ave Jersey City, Nj  07302   \n",
       "633  40.694191 -74.084210           143 Chapel Ave Jersey City, Nj  07302   \n",
       "634  40.683216 -74.093701         100 Summit Place Jersey City, Nj  07305   \n",
       "635  40.684226 -74.092052             Summit Place Jersey City, Nj  07305   \n",
       "\n",
       "                                                 gcode  \n",
       "0    (514, Newark Avenue, Jersey City, Hudson Count...  \n",
       "1    (88, Erie Street, Newport, Jersey City, Hudson...  \n",
       "2    (57, Dales Avenue, Marion, Jersey City, Hudson...  \n",
       "3    (547, Montgomery Street, Bergen, Jersey City, ...  \n",
       "4    (Florence Street, Bergen, Jersey City, Hudson ...  \n",
       "..                                                 ...  \n",
       "631  (455, Ocean Avenue, Greenville, Jersey City, H...  \n",
       "632  (143, Chapel Avenue, Jersey City, Hudson Count...  \n",
       "633  (143, Chapel Avenue, Jersey City, Hudson Count...  \n",
       "634  (100, Summit Place, Jersey City, Hudson County...  \n",
       "635  (Summit Place, Jersey City, Hudson County, New...  \n",
       "\n",
       "[636 rows x 9 columns]"
      ],
      "text/html": "<div>\n<style scoped>\n    .dataframe tbody tr th:only-of-type {\n        vertical-align: middle;\n    }\n\n    .dataframe tbody tr th {\n        vertical-align: top;\n    }\n\n    .dataframe thead th {\n        text-align: right;\n    }\n</style>\n<table border=\"1\" class=\"dataframe\">\n  <thead>\n    <tr style=\"text-align: right;\">\n      <th></th>\n      <th>property_location</th>\n      <th>owners_name</th>\n      <th>owners_mailing_address</th>\n      <th>city_state_zip</th>\n      <th>Yr. Built</th>\n      <th>Latitude</th>\n      <th>Longitude</th>\n      <th>property_full_address</th>\n      <th>gcode</th>\n    </tr>\n  </thead>\n  <tbody>\n    <tr>\n      <th>0</th>\n      <td>514 NEWARK AVE.</td>\n      <td>HOUSING AUTHORITY OF JERSEY CITY</td>\n      <td>514 NEWARK AVENUE</td>\n      <td>JERSEY CITY, NJ  07306</td>\n      <td>NaN</td>\n      <td>40.730082</td>\n      <td>-74.055283</td>\n      <td>514 Newark Ave. Jersey City, Nj  07306</td>\n      <td>(514, Newark Avenue, Jersey City, Hudson Count...</td>\n    </tr>\n    <tr>\n      <th>1</th>\n      <td>88 ERIE ST.</td>\n      <td>HOUSING AUTHORITY OF JERSEY CITY</td>\n      <td>400 U.S. HIGHWAY #1</td>\n      <td>JERSEY CITY, NJ  07306</td>\n      <td>1870.0</td>\n      <td>40.724742</td>\n      <td>-74.043713</td>\n      <td>88 Erie St. Jersey City, Nj  07306</td>\n      <td>(88, Erie Street, Newport, Jersey City, Hudson...</td>\n    </tr>\n    <tr>\n      <th>2</th>\n      <td>57 DALES AVE.</td>\n      <td>HOUSING AUTHORITY OF JERSEY CITY</td>\n      <td>400 ROUTE 1</td>\n      <td>JERSEY CITY, NJ  07306</td>\n      <td>1941.0</td>\n      <td>40.735895</td>\n      <td>-74.076336</td>\n      <td>57 Dales Ave. Jersey City, Nj  07306</td>\n      <td>(57, Dales Avenue, Marion, Jersey City, Hudson...</td>\n    </tr>\n    <tr>\n      <th>3</th>\n      <td>547 MONTGOMERY ST.</td>\n      <td>HOUSING AUTHORITY OF JERSEY CITY</td>\n      <td>400 U.S. HIGHWAY #1</td>\n      <td>JERSEY CITY, NJ  07306</td>\n      <td>NaN</td>\n      <td>40.722429</td>\n      <td>-74.060221</td>\n      <td>547 Montgomery St. Jersey City, Nj  07306</td>\n      <td>(547, Montgomery Street, Bergen, Jersey City, ...</td>\n    </tr>\n    <tr>\n      <th>4</th>\n      <td>20 FLORENCE ST.</td>\n      <td>HOUSING AUTHORITY OF JERSEY CITY</td>\n      <td>400 U.S. HIGHWAY #1</td>\n      <td>JERSEY CITY, NJ  07306</td>\n      <td>NaN</td>\n      <td>40.723183</td>\n      <td>-74.060375</td>\n      <td>20 Florence St. Jersey City, Nj  07306</td>\n      <td>(Florence Street, Bergen, Jersey City, Hudson ...</td>\n    </tr>\n    <tr>\n      <th>...</th>\n      <td>...</td>\n      <td>...</td>\n      <td>...</td>\n      <td>...</td>\n      <td>...</td>\n      <td>...</td>\n      <td>...</td>\n      <td>...</td>\n      <td>...</td>\n    </tr>\n    <tr>\n      <th>631</th>\n      <td>455 OCEAN AVE.</td>\n      <td>GENESIS OCEAN URBAN RENEWAL ASSOC.</td>\n      <td>455 OCEAN AVE.</td>\n      <td>JERSEY CITY , NEW JERSEY  07305</td>\n      <td>2018.0</td>\n      <td>40.702127</td>\n      <td>-74.082018</td>\n      <td>455 Ocean Ave. Jersey City , New Jersey  07305</td>\n      <td>(455, Ocean Avenue, Greenville, Jersey City, H...</td>\n    </tr>\n    <tr>\n      <th>632</th>\n      <td>143 CHAPEL AVE</td>\n      <td>HUDSON MAIN URBAN RENEWAL,LLC</td>\n      <td>17 INDEPENDENCE WAY</td>\n      <td>JERSEY CITY, NJ  07302</td>\n      <td>NaN</td>\n      <td>40.694191</td>\n      <td>-74.084210</td>\n      <td>143 Chapel Ave Jersey City, Nj  07302</td>\n      <td>(143, Chapel Avenue, Jersey City, Hudson Count...</td>\n    </tr>\n    <tr>\n      <th>633</th>\n      <td>143 CHAPEL AVE</td>\n      <td>HUDSON MAIN URBAN RENEWAL,LLC</td>\n      <td>17 INDEPENDENCE WAY</td>\n      <td>JERSEY CITY, NJ  07302</td>\n      <td>2017.0</td>\n      <td>40.694191</td>\n      <td>-74.084210</td>\n      <td>143 Chapel Ave Jersey City, Nj  07302</td>\n      <td>(143, Chapel Avenue, Jersey City, Hudson Count...</td>\n    </tr>\n    <tr>\n      <th>634</th>\n      <td>100 SUMMIT PLACE</td>\n      <td>SUMMIT/GREENWICH URBAN RENEWAL, LLC</td>\n      <td>100 SUMMIT PLACE</td>\n      <td>JERSEY CITY, NJ  07305</td>\n      <td>2000.0</td>\n      <td>40.683216</td>\n      <td>-74.093701</td>\n      <td>100 Summit Place Jersey City, Nj  07305</td>\n      <td>(100, Summit Place, Jersey City, Hudson County...</td>\n    </tr>\n    <tr>\n      <th>635</th>\n      <td>SUMMIT PLACE</td>\n      <td>SUMMIT GREENWICH URBAN RENEWAL, LLC</td>\n      <td>100 SUMMIT PLACE</td>\n      <td>JERSEY CITY, NJ  07305</td>\n      <td>NaN</td>\n      <td>40.684226</td>\n      <td>-74.092052</td>\n      <td>Summit Place Jersey City, Nj  07305</td>\n      <td>(Summit Place, Jersey City, Hudson County, New...</td>\n    </tr>\n  </tbody>\n</table>\n<p>636 rows × 9 columns</p>\n</div>"
     },
     "metadata": {},
     "execution_count": 121
    }
   ],
   "source": [
    "test_data"
   ]
  },
  {
   "cell_type": "code",
   "execution_count": 143,
   "metadata": {},
   "outputs": [
    {
     "output_type": "execute_result",
     "data": {
      "text/plain": [
       "owners_name\n",
       "140 BAY STREET URBAN RENEWAL, LLC                                          [140 BAY ST.]\n",
       "160 FIRST STREET URBAN RENEWAL, LLC                                      [160 FIRST ST.]\n",
       "170 LAFAYETTE URBAN RENEWAL,LLC                                      [170 LAFAYETTE ST.]\n",
       "272 GROVE STREET URBAN RENEWAL, LLC                                 [201 MONTGOMERY ST.]\n",
       "280 FAIRMOUNT URBAN RENEWAL, LLC.                                   [280 FAIRMOUNT AVE.]\n",
       "364 NINTH STREET URBAN RENEWAL, LLC                                  [255 BRUNSWICK ST.]\n",
       "380 NEWARK REALTY URBAN RENEWAL LLC                                    [380 NEWARK AVE.]\n",
       "400 CLAREMENT URBAN RENEWAL LLC                                     [382 CLAREMONT AVE.]\n",
       "400 CLAREMONT URBAN RENEWAL LLC                                     [400 CLAREMONT AVE.]\n",
       "456 GRAND REALTY URBAN RENEWAL, LLC                                      [460 GRAND ST.]\n",
       "70 COLUMBUS URBAN RENEWAL, LLC                                         [70 COLUMBUS DR.]\n",
       "95 VAN DAM URBAN RENEWAL, L.L.C.                                   [300 COMMUNIPAW AVE.]\n",
       "ADELE FASHION URBAN RENEWAL A.,LLC                                     [55 AMITY STREET]\n",
       "ASH URBAN RENEWAL DEVELOPMENT,LLC                                            [6 ASH ST.]\n",
       "AUDOBON URBAN RENEWAL PROPERTIES,LP                                     [96 BERGEN AVE.]\n",
       "AUDOBON URBAN RENEWAL% SIG MGNT,LLC                                    [177 BERGEN AVE.]\n",
       "AUDOBON URBAN RENEWAL% SIG MNGT,LLC                                [112-118 BERGEN AVE.]\n",
       "AUDOBON URBAN RENEWAL%AMISTAD MGT.                                      [83 BERGEN AVE.]\n",
       "AUDOBON URBAN RENEWAL%SIG MNGT, LLC                                    [135 BERGEN AVE.]\n",
       "BERGEN MANOR URBAN RENEWAL LLC                                         [277 BERGEN AVE.]\n",
       "BERGENVIEW URBAN RENEWAL, LLC.                                       [654 BERGEN AVENUE]\n",
       "BRASS WORKS URBAN RENEWAL CO., LLC                              [100 PATERSON PLANK RD.]\n",
       "CITY OF JERSEY CITY                    [SECAUCUS RD., 929 SECAUCUS RD, 386 TERRACE AV...\n",
       "COLUMBUS HOTEL URBAN RENEWAL, LLC                                      [80 COLUMBUS DR.]\n",
       "GENESIS OCEAN URBAN RENEWAL ASSOC.                                      [455 OCEAN AVE.]\n",
       "GRAND LHN II URBAN RENEWAL, LLC                           [229 GRAND ST., 225 GRAND ST.]\n",
       "H.P. LINCOLN URBAN RENEWAL COMPANY     [201 ERIE STREET, 545 MANILA AVE., 543.5 MANIL...\n",
       "HOUSING AUTHORITY OF JERSEY CITY       [514 NEWARK AVE., 88 ERIE ST., 57 DALES AVE., ...\n",
       "HUDSON MAIN URBAN RENEWAL,LLC                                           [143 CHAPEL AVE]\n",
       "JAMES MONROE URBAN RENEWAL CO.                                       [45 RIVER DR.SOUTH]\n",
       "KENNEDY MANOR URBAN RENEWAL LLC              [2348 KENNEDY BLVD., 2348-54 KENNEDY BLVD.]\n",
       "LIBERTY POINT URBAN RENEWAL, LLC                                        [187 WARREN ST.]\n",
       "LIBERTY POINT URBAN RENEWAL,L.L.C.                                      [187 WARREN ST.]\n",
       "MAJESTIC URBAN RENEWAL, LLC.                                     [222 MONTGOMERY STREET]\n",
       "MARBACH URBAN RENEWAL RLTY ASSO.                                         [570 GRAND ST.]\n",
       "MONITOR MAPLE URBAN RENEWAL, LLC                                          [65 MAPLE ST.]\n",
       "MONTGOMERY GREENE URBAN RENEWAL,LLC                                     [105 GREENE ST.]\n",
       "NINTH STREET TWO URBAN RENEWAL,LLC                                       [372 NINTH ST.]\n",
       "OCEAN MLK URBAN RENEWAL ASSOC.                       [61 VIRGINIA AVE., 3 VIRGINIA AVE.]\n",
       "PH URBAN RENEWAL LLC%MACK CALI CORP                 [25 COLUMBUS DR., 275 WASHINGTON ST]\n",
       "SENATE PLACE URBAN RENEWAL, LLC                                          [25 SENATE PL.]\n",
       "SUMMIT GREENWICH URBAN RENEWAL, LLC                                       [SUMMIT PLACE]\n",
       "SUMMIT/GREENWICH URBAN RENEWAL, LLC                                   [100 SUMMIT PLACE]\n",
       "TOWER EAST URBAN RENEWAL COMPANY                                        [31 RIVER COURT]\n",
       "VAN WAGENEN I URBAN RENEWAL, LLC.      [881.5 VAN WAGENEN AVE., 103-05 VAN WAGENEN AV...\n",
       "VAN WAGENEN II URBAN RENEWAL, LLC.     [133 VAN WAGENEN AVE, 127 VAN WAGENEN AVE., 11...\n",
       "WA RESIDENTIAL URBAN RENEWAL CO.LLC                                   [CAVEN POINT ROAD]\n",
       "Name: property_location, dtype: object"
      ]
     },
     "metadata": {},
     "execution_count": 143
    }
   ],
   "source": [
    "# this groupby result will be used for the associatedProperties feature\n",
    "# ie, the number of properties associated with a selected owner\n",
    "# it will become the associatedProperties column\n",
    "\n",
    "# cell 15 performed a similar function, however, this is more accurate\n",
    "\n",
    "\n",
    "# number of properties associated with owners_name\n",
    "test_data.groupby('owners_name')['property_location'].unique()"
   ]
  },
  {
   "cell_type": "code",
   "execution_count": 127,
   "metadata": {},
   "outputs": [],
   "source": [
    "#addresses of the properties associated with the owners_name\n",
    "[len(i) for i in test_data.groupby(test_data.owners_name)['property_location'].unique()]"
   ]
  },
  {
   "cell_type": "code",
   "execution_count": 134,
   "metadata": {},
   "outputs": [
    {
     "output_type": "execute_result",
     "data": {
      "text/plain": [
       "                            owners_name  property_location\n",
       "0     140 BAY STREET URBAN RENEWAL, LLC                  1\n",
       "1   160 FIRST STREET URBAN RENEWAL, LLC                104\n",
       "2       170 LAFAYETTE URBAN RENEWAL,LLC                  2\n",
       "3   272 GROVE STREET URBAN RENEWAL, LLC                  1\n",
       "4     280 FAIRMOUNT URBAN RENEWAL, LLC.                  2\n",
       "5   364 NINTH STREET URBAN RENEWAL, LLC                  2\n",
       "6   380 NEWARK REALTY URBAN RENEWAL LLC                  5\n",
       "7       400 CLAREMENT URBAN RENEWAL LLC                  1\n",
       "8       400 CLAREMONT URBAN RENEWAL LLC                  1\n",
       "9   456 GRAND REALTY URBAN RENEWAL, LLC                  1\n",
       "10       70 COLUMBUS URBAN RENEWAL, LLC                  2\n",
       "11     95 VAN DAM URBAN RENEWAL, L.L.C.                129\n",
       "12   ADELE FASHION URBAN RENEWAL A.,LLC                  1\n",
       "13    ASH URBAN RENEWAL DEVELOPMENT,LLC                  2\n",
       "14  AUDOBON URBAN RENEWAL PROPERTIES,LP                  1\n",
       "15  AUDOBON URBAN RENEWAL% SIG MGNT,LLC                  1\n",
       "16  AUDOBON URBAN RENEWAL% SIG MNGT,LLC                  1\n",
       "17   AUDOBON URBAN RENEWAL%AMISTAD MGT.                  1\n",
       "18  AUDOBON URBAN RENEWAL%SIG MNGT, LLC                  2\n",
       "19       BERGEN MANOR URBAN RENEWAL LLC                  3\n",
       "20       BERGENVIEW URBAN RENEWAL, LLC.                  1\n",
       "21   BRASS WORKS URBAN RENEWAL CO., LLC                  1\n",
       "22                  CITY OF JERSEY CITY                252\n",
       "23    COLUMBUS HOTEL URBAN RENEWAL, LLC                  2\n",
       "24   GENESIS OCEAN URBAN RENEWAL ASSOC.                  2\n",
       "25      GRAND LHN II URBAN RENEWAL, LLC                  2\n",
       "26   H.P. LINCOLN URBAN RENEWAL COMPANY                  5\n",
       "27     HOUSING AUTHORITY OF JERSEY CITY                 58\n",
       "28        HUDSON MAIN URBAN RENEWAL,LLC                  2\n",
       "29       JAMES MONROE URBAN RENEWAL CO.                  1\n",
       "30      KENNEDY MANOR URBAN RENEWAL LLC                  3\n",
       "31     LIBERTY POINT URBAN RENEWAL, LLC                  4\n",
       "32   LIBERTY POINT URBAN RENEWAL,L.L.C.                  1\n",
       "33         MAJESTIC URBAN RENEWAL, LLC.                  2\n",
       "34     MARBACH URBAN RENEWAL RLTY ASSO.                  1\n",
       "35     MONITOR MAPLE URBAN RENEWAL, LLC                  1\n",
       "36  MONTGOMERY GREENE URBAN RENEWAL,LLC                  2\n",
       "37   NINTH STREET TWO URBAN RENEWAL,LLC                  1\n",
       "38       OCEAN MLK URBAN RENEWAL ASSOC.                  2\n",
       "39  PH URBAN RENEWAL LLC%MACK CALI CORP                  2\n",
       "40      SENATE PLACE URBAN RENEWAL, LLC                  2\n",
       "41  SUMMIT GREENWICH URBAN RENEWAL, LLC                  1\n",
       "42  SUMMIT/GREENWICH URBAN RENEWAL, LLC                  1\n",
       "43     TOWER EAST URBAN RENEWAL COMPANY                  1\n",
       "44    VAN WAGENEN I URBAN RENEWAL, LLC.                 13\n",
       "45   VAN WAGENEN II URBAN RENEWAL, LLC.                  8\n",
       "46  WA RESIDENTIAL URBAN RENEWAL CO.LLC                  2"
      ],
      "text/html": "<div>\n<style scoped>\n    .dataframe tbody tr th:only-of-type {\n        vertical-align: middle;\n    }\n\n    .dataframe tbody tr th {\n        vertical-align: top;\n    }\n\n    .dataframe thead th {\n        text-align: right;\n    }\n</style>\n<table border=\"1\" class=\"dataframe\">\n  <thead>\n    <tr style=\"text-align: right;\">\n      <th></th>\n      <th>owners_name</th>\n      <th>property_location</th>\n    </tr>\n  </thead>\n  <tbody>\n    <tr>\n      <th>0</th>\n      <td>140 BAY STREET URBAN RENEWAL, LLC</td>\n      <td>1</td>\n    </tr>\n    <tr>\n      <th>1</th>\n      <td>160 FIRST STREET URBAN RENEWAL, LLC</td>\n      <td>104</td>\n    </tr>\n    <tr>\n      <th>2</th>\n      <td>170 LAFAYETTE URBAN RENEWAL,LLC</td>\n      <td>2</td>\n    </tr>\n    <tr>\n      <th>3</th>\n      <td>272 GROVE STREET URBAN RENEWAL, LLC</td>\n      <td>1</td>\n    </tr>\n    <tr>\n      <th>4</th>\n      <td>280 FAIRMOUNT URBAN RENEWAL, LLC.</td>\n      <td>2</td>\n    </tr>\n    <tr>\n      <th>5</th>\n      <td>364 NINTH STREET URBAN RENEWAL, LLC</td>\n      <td>2</td>\n    </tr>\n    <tr>\n      <th>6</th>\n      <td>380 NEWARK REALTY URBAN RENEWAL LLC</td>\n      <td>5</td>\n    </tr>\n    <tr>\n      <th>7</th>\n      <td>400 CLAREMENT URBAN RENEWAL LLC</td>\n      <td>1</td>\n    </tr>\n    <tr>\n      <th>8</th>\n      <td>400 CLAREMONT URBAN RENEWAL LLC</td>\n      <td>1</td>\n    </tr>\n    <tr>\n      <th>9</th>\n      <td>456 GRAND REALTY URBAN RENEWAL, LLC</td>\n      <td>1</td>\n    </tr>\n    <tr>\n      <th>10</th>\n      <td>70 COLUMBUS URBAN RENEWAL, LLC</td>\n      <td>2</td>\n    </tr>\n    <tr>\n      <th>11</th>\n      <td>95 VAN DAM URBAN RENEWAL, L.L.C.</td>\n      <td>129</td>\n    </tr>\n    <tr>\n      <th>12</th>\n      <td>ADELE FASHION URBAN RENEWAL A.,LLC</td>\n      <td>1</td>\n    </tr>\n    <tr>\n      <th>13</th>\n      <td>ASH URBAN RENEWAL DEVELOPMENT,LLC</td>\n      <td>2</td>\n    </tr>\n    <tr>\n      <th>14</th>\n      <td>AUDOBON URBAN RENEWAL PROPERTIES,LP</td>\n      <td>1</td>\n    </tr>\n    <tr>\n      <th>15</th>\n      <td>AUDOBON URBAN RENEWAL% SIG MGNT,LLC</td>\n      <td>1</td>\n    </tr>\n    <tr>\n      <th>16</th>\n      <td>AUDOBON URBAN RENEWAL% SIG MNGT,LLC</td>\n      <td>1</td>\n    </tr>\n    <tr>\n      <th>17</th>\n      <td>AUDOBON URBAN RENEWAL%AMISTAD MGT.</td>\n      <td>1</td>\n    </tr>\n    <tr>\n      <th>18</th>\n      <td>AUDOBON URBAN RENEWAL%SIG MNGT, LLC</td>\n      <td>2</td>\n    </tr>\n    <tr>\n      <th>19</th>\n      <td>BERGEN MANOR URBAN RENEWAL LLC</td>\n      <td>3</td>\n    </tr>\n    <tr>\n      <th>20</th>\n      <td>BERGENVIEW URBAN RENEWAL, LLC.</td>\n      <td>1</td>\n    </tr>\n    <tr>\n      <th>21</th>\n      <td>BRASS WORKS URBAN RENEWAL CO., LLC</td>\n      <td>1</td>\n    </tr>\n    <tr>\n      <th>22</th>\n      <td>CITY OF JERSEY CITY</td>\n      <td>252</td>\n    </tr>\n    <tr>\n      <th>23</th>\n      <td>COLUMBUS HOTEL URBAN RENEWAL, LLC</td>\n      <td>2</td>\n    </tr>\n    <tr>\n      <th>24</th>\n      <td>GENESIS OCEAN URBAN RENEWAL ASSOC.</td>\n      <td>2</td>\n    </tr>\n    <tr>\n      <th>25</th>\n      <td>GRAND LHN II URBAN RENEWAL, LLC</td>\n      <td>2</td>\n    </tr>\n    <tr>\n      <th>26</th>\n      <td>H.P. LINCOLN URBAN RENEWAL COMPANY</td>\n      <td>5</td>\n    </tr>\n    <tr>\n      <th>27</th>\n      <td>HOUSING AUTHORITY OF JERSEY CITY</td>\n      <td>58</td>\n    </tr>\n    <tr>\n      <th>28</th>\n      <td>HUDSON MAIN URBAN RENEWAL,LLC</td>\n      <td>2</td>\n    </tr>\n    <tr>\n      <th>29</th>\n      <td>JAMES MONROE URBAN RENEWAL CO.</td>\n      <td>1</td>\n    </tr>\n    <tr>\n      <th>30</th>\n      <td>KENNEDY MANOR URBAN RENEWAL LLC</td>\n      <td>3</td>\n    </tr>\n    <tr>\n      <th>31</th>\n      <td>LIBERTY POINT URBAN RENEWAL, LLC</td>\n      <td>4</td>\n    </tr>\n    <tr>\n      <th>32</th>\n      <td>LIBERTY POINT URBAN RENEWAL,L.L.C.</td>\n      <td>1</td>\n    </tr>\n    <tr>\n      <th>33</th>\n      <td>MAJESTIC URBAN RENEWAL, LLC.</td>\n      <td>2</td>\n    </tr>\n    <tr>\n      <th>34</th>\n      <td>MARBACH URBAN RENEWAL RLTY ASSO.</td>\n      <td>1</td>\n    </tr>\n    <tr>\n      <th>35</th>\n      <td>MONITOR MAPLE URBAN RENEWAL, LLC</td>\n      <td>1</td>\n    </tr>\n    <tr>\n      <th>36</th>\n      <td>MONTGOMERY GREENE URBAN RENEWAL,LLC</td>\n      <td>2</td>\n    </tr>\n    <tr>\n      <th>37</th>\n      <td>NINTH STREET TWO URBAN RENEWAL,LLC</td>\n      <td>1</td>\n    </tr>\n    <tr>\n      <th>38</th>\n      <td>OCEAN MLK URBAN RENEWAL ASSOC.</td>\n      <td>2</td>\n    </tr>\n    <tr>\n      <th>39</th>\n      <td>PH URBAN RENEWAL LLC%MACK CALI CORP</td>\n      <td>2</td>\n    </tr>\n    <tr>\n      <th>40</th>\n      <td>SENATE PLACE URBAN RENEWAL, LLC</td>\n      <td>2</td>\n    </tr>\n    <tr>\n      <th>41</th>\n      <td>SUMMIT GREENWICH URBAN RENEWAL, LLC</td>\n      <td>1</td>\n    </tr>\n    <tr>\n      <th>42</th>\n      <td>SUMMIT/GREENWICH URBAN RENEWAL, LLC</td>\n      <td>1</td>\n    </tr>\n    <tr>\n      <th>43</th>\n      <td>TOWER EAST URBAN RENEWAL COMPANY</td>\n      <td>1</td>\n    </tr>\n    <tr>\n      <th>44</th>\n      <td>VAN WAGENEN I URBAN RENEWAL, LLC.</td>\n      <td>13</td>\n    </tr>\n    <tr>\n      <th>45</th>\n      <td>VAN WAGENEN II URBAN RENEWAL, LLC.</td>\n      <td>8</td>\n    </tr>\n    <tr>\n      <th>46</th>\n      <td>WA RESIDENTIAL URBAN RENEWAL CO.LLC</td>\n      <td>2</td>\n    </tr>\n  </tbody>\n</table>\n</div>"
     },
     "metadata": {},
     "execution_count": 134
    }
   ],
   "source": [
    "test_data.groupby(test_data.owners_name, as_index=False)['property_location'].count()"
   ]
  },
  {
   "cell_type": "code",
   "execution_count": 122,
   "metadata": {},
   "outputs": [
    {
     "output_type": "execute_result",
     "data": {
      "text/plain": [
       "                            owners_name  property_location\n",
       "0                        0LALEKAN, RODA                  1\n",
       "1      1 CAVEN POINT ROAD ASSOC. L.L.C.                  1\n",
       "2                1 EDWARD HART ROAD LLC                  1\n",
       "3        1 EXCHANGE JC, LLC % RYAN, LLC                  2\n",
       "4           1-12 CATHERINE COURT JC LLC                  1\n",
       "...                                 ...                ...\n",
       "49242                   ZYSKOWSKA, ANNA                  1\n",
       "49243                    ZYZYCK, STACEY                  1\n",
       "49244                 \\OA 99 HUDSON,LLC                  1\n",
       "49245                    `ENG, MENG RAN                  1\n",
       "49246          `WEKE, IKEENA & PRECIOUS                  1\n",
       "\n",
       "[49247 rows x 2 columns]"
      ],
      "text/html": "<div>\n<style scoped>\n    .dataframe tbody tr th:only-of-type {\n        vertical-align: middle;\n    }\n\n    .dataframe tbody tr th {\n        vertical-align: top;\n    }\n\n    .dataframe thead th {\n        text-align: right;\n    }\n</style>\n<table border=\"1\" class=\"dataframe\">\n  <thead>\n    <tr style=\"text-align: right;\">\n      <th></th>\n      <th>owners_name</th>\n      <th>property_location</th>\n    </tr>\n  </thead>\n  <tbody>\n    <tr>\n      <th>0</th>\n      <td>0LALEKAN, RODA</td>\n      <td>1</td>\n    </tr>\n    <tr>\n      <th>1</th>\n      <td>1 CAVEN POINT ROAD ASSOC. L.L.C.</td>\n      <td>1</td>\n    </tr>\n    <tr>\n      <th>2</th>\n      <td>1 EDWARD HART ROAD LLC</td>\n      <td>1</td>\n    </tr>\n    <tr>\n      <th>3</th>\n      <td>1 EXCHANGE JC, LLC % RYAN, LLC</td>\n      <td>2</td>\n    </tr>\n    <tr>\n      <th>4</th>\n      <td>1-12 CATHERINE COURT JC LLC</td>\n      <td>1</td>\n    </tr>\n    <tr>\n      <th>...</th>\n      <td>...</td>\n      <td>...</td>\n    </tr>\n    <tr>\n      <th>49242</th>\n      <td>ZYSKOWSKA, ANNA</td>\n      <td>1</td>\n    </tr>\n    <tr>\n      <th>49243</th>\n      <td>ZYZYCK, STACEY</td>\n      <td>1</td>\n    </tr>\n    <tr>\n      <th>49244</th>\n      <td>\\OA 99 HUDSON,LLC</td>\n      <td>1</td>\n    </tr>\n    <tr>\n      <th>49245</th>\n      <td>`ENG, MENG RAN</td>\n      <td>1</td>\n    </tr>\n    <tr>\n      <th>49246</th>\n      <td>`WEKE, IKEENA &amp; PRECIOUS</td>\n      <td>1</td>\n    </tr>\n  </tbody>\n</table>\n<p>49247 rows × 2 columns</p>\n</div>"
     },
     "metadata": {},
     "execution_count": 122
    }
   ],
   "source": [
    "jersey_city.groupby('owners_name', as_index=False)['property_location'].count()"
   ]
  },
  {
   "cell_type": "code",
   "execution_count": 61,
   "metadata": {},
   "outputs": [],
   "source": [
    "test_data.to_csv('test_data.csv', index=None)"
   ]
  },
  {
   "source": [
    "### a list comprehension is used to return the raw data of the address\n",
    "### a nested enumerating list comprehension is used to return the indices of unclean addresses\n",
    "#### the example below is actually a list comprehension within a list comprehension "
   ],
   "cell_type": "markdown",
   "metadata": {}
  },
  {
   "cell_type": "code",
   "execution_count": 22,
   "metadata": {},
   "outputs": [
    {
     "output_type": "execute_result",
     "data": {
      "text/plain": [
       "[0, 4, 14, 15, 23, 24, 25, 26, 29, 30, 35, 36, 37, 39, 45, 54]"
      ]
     },
     "metadata": {},
     "execution_count": 22
    }
   ],
   "source": [
    "[i for i,e in enumerate([geolocator.geocode(address) for address in js_ha.property_full_address]) if e == None]"
   ]
  },
  {
   "source": [
    "### We know the addresses are unclean when we substitute parts of the address\n",
    "### For example, \"Sixteenth\" for \"16th\": "
   ],
   "cell_type": "markdown",
   "metadata": {}
  },
  {
   "cell_type": "code",
   "execution_count": 162,
   "metadata": {},
   "outputs": [
    {
     "output_type": "execute_result",
     "data": {
      "text/plain": [
       "Location(235, 16th Street, Jersey City, Hudson County, New Jersey, 07310, United States, (40.73314597560976, -74.04304924390243, 0.0))"
      ]
     },
     "metadata": {},
     "execution_count": 162
    }
   ],
   "source": [
    "geolocator.geocode('235 16th St. Jersey City, NJ 07307')"
   ]
  },
  {
   "cell_type": "code",
   "execution_count": 168,
   "metadata": {},
   "outputs": [
    {
     "output_type": "execute_result",
     "data": {
      "text/plain": [
       "'9-31 Wilmot Ave. Jersey City, NJ 07307'"
      ]
     },
     "metadata": {},
     "execution_count": 168
    }
   ],
   "source": [
    "js_ha.property_full_address[23]"
   ]
  },
  {
   "cell_type": "code",
   "execution_count": 123,
   "metadata": {},
   "outputs": [
    {
     "output_type": "execute_result",
     "data": {
      "text/plain": [
       "Point(40.6888175, -74.0973369, 0.0)"
      ]
     },
     "metadata": {},
     "execution_count": 123
    }
   ],
   "source": [
    "geolocator.geocode('61 Merritt St. Jersey City, NJ 07307').point"
   ]
  },
  {
   "cell_type": "code",
   "execution_count": 118,
   "metadata": {},
   "outputs": [
    {
     "output_type": "execute_result",
     "data": {
      "text/plain": [
       "23540    160 FIRST ST.\n",
       "23541    160 FIRST ST.\n",
       "23544    160 FIRST ST.\n",
       "23545    160 FIRST ST.\n",
       "23556    160 FIRST ST.\n",
       "             ...      \n",
       "23857    160 FIRST ST.\n",
       "23858    160 FIRST ST.\n",
       "23859    160 FIRST ST.\n",
       "23860    160 FIRST ST.\n",
       "23861    160 FIRST ST.\n",
       "Name: property_location, Length: 104, dtype: object"
      ]
     },
     "metadata": {},
     "execution_count": 118
    }
   ],
   "source": [
    "jersey_city[jersey_city.owners_name == '160 FIRST STREET URBAN RENEWAL, LLC']['property_location']"
   ]
  },
  {
   "cell_type": "code",
   "execution_count": 14,
   "metadata": {},
   "outputs": [
    {
     "output_type": "execute_result",
     "data": {
      "text/plain": [
       "CITY OF HACKENSACK                     69\n",
       "WORLD PLAZA AC, LLC                    29\n",
       "ESSEX COURT REALTY CORP.               28\n",
       "HACKENSACK DEVELOPERS, LLC             25\n",
       "TERRACE SQUARE CONDOS % J LOMBARDO     21\n",
       "N Y S & W R R C/O N. STECKLER          19\n",
       "HACK & N.Y. R.R. CO C/O LAND & TAX     19\n",
       "SKYVIEW AT HACKENSACK, LLC             19\n",
       "COUNTY OF BERGEN                       16\n",
       "WORLD PLAZA PROPERTIES, LLC            13\n",
       "ATTESSA PROPERTIES LLC                 13\n",
       "HEKEMIAN,SAMUEL %THE S HEKEMIAN GRP    12\n",
       "BD OF ED CITY OF HACK                  12\n",
       "ELYASH, ADELAIDA                       10\n",
       "FAIRLEIGH DICKINSON UNIVERSITY          9\n",
       "400 E MAIN STREET, LLC                  9\n",
       "NEW HOPE BAPTIST CHURCH                 8\n",
       "RUDDOCK, WAYNE & ROSA                   7\n",
       "DI CAROLIS REALTY CO.                   7\n",
       "JACKSON PINK LLC                        7\n",
       "NESS REALTY 1 LLC                       7\n",
       "MAIN PORTFOLIO LLC                      6\n",
       "US BANK TRUST NA TRSTE                  6\n",
       "CYPRUS HOLDING COMPANY LLC              6\n",
       "HACKENSACK UNIVERSITY MEDICAL CTR       5\n",
       "FTA REALTY, L.P.                        5\n",
       "SALEMME, JOHN & REGINA                  5\n",
       "PEDIATRIC OFFICE ASSOCIATES             5\n",
       "FELDMAN, VITALI                         4\n",
       "CD PAC LLC                              4\n",
       "SPAETH, SOHEILA                         4\n",
       "LANDFRANK, LLC                          4\n",
       "ROTHMAN, LEONARD & MILDRED              4\n",
       "CASTILLO, HECTOR                        4\n",
       "SANZARI, ALFRED, C/O ACCOUNTS PAYAB     4\n",
       "INVESCO REALTY INC                      4\n",
       "DILORENZO, RAYMOND A                    4\n",
       "TABENSHLAK, FELIKS                      4\n",
       "ROMANY CORP. C/O P. SCHMIDT             4\n",
       "400 E MAIN ST LLC                       4\n",
       "COHEN, AARON                            3\n",
       "HACKENSACK DEVELOPMENT COMPANY LLC      3\n",
       "GIANFRANCESCO, ANTONIO & ROSINA         3\n",
       "RIOTTO, ROCCO & ROSA                    3\n",
       "HACKENSACK GARDENS APTS % HOME PROP     3\n",
       "US BANK TRUST NA TRSTE C/O RESICAP      3\n",
       "DEGSA WASHINGTON LLC                    3\n",
       "INGALLINERA, JOHN & ELISA               3\n",
       "MLC RLTY LLC                            3\n",
       "COLOMBO, PAUL                           3\n",
       "Name: owners_name, dtype: int64"
      ]
     },
     "metadata": {},
     "execution_count": 14
    }
   ],
   "source": [
    "hackensack.owners_name.value_counts().head(50)"
   ]
  },
  {
   "cell_type": "code",
   "execution_count": 124,
   "metadata": {},
   "outputs": [
    {
     "output_type": "execute_result",
     "data": {
      "text/plain": [
       "      property_location                          owners_name  \\\n",
       "0       514 NEWARK AVE.     HOUSING AUTHORITY OF JERSEY CITY   \n",
       "1           88 ERIE ST.     HOUSING AUTHORITY OF JERSEY CITY   \n",
       "2         57 DALES AVE.     HOUSING AUTHORITY OF JERSEY CITY   \n",
       "3    547 MONTGOMERY ST.     HOUSING AUTHORITY OF JERSEY CITY   \n",
       "4       20 FLORENCE ST.     HOUSING AUTHORITY OF JERSEY CITY   \n",
       "..                  ...                                  ...   \n",
       "631      455 OCEAN AVE.   GENESIS OCEAN URBAN RENEWAL ASSOC.   \n",
       "632      143 CHAPEL AVE        HUDSON MAIN URBAN RENEWAL,LLC   \n",
       "633      143 CHAPEL AVE        HUDSON MAIN URBAN RENEWAL,LLC   \n",
       "634    100 SUMMIT PLACE  SUMMIT/GREENWICH URBAN RENEWAL, LLC   \n",
       "635        SUMMIT PLACE  SUMMIT GREENWICH URBAN RENEWAL, LLC   \n",
       "\n",
       "    owners_mailing_address                   city_state_zip  Yr. Built  \\\n",
       "0        514 NEWARK AVENUE           JERSEY CITY, NJ  07306        NaN   \n",
       "1      400 U.S. HIGHWAY #1           JERSEY CITY, NJ  07306     1870.0   \n",
       "2              400 ROUTE 1           JERSEY CITY, NJ  07306     1941.0   \n",
       "3      400 U.S. HIGHWAY #1           JERSEY CITY, NJ  07306        NaN   \n",
       "4      400 U.S. HIGHWAY #1           JERSEY CITY, NJ  07306        NaN   \n",
       "..                     ...                              ...        ...   \n",
       "631         455 OCEAN AVE.  JERSEY CITY , NEW JERSEY  07305     2018.0   \n",
       "632    17 INDEPENDENCE WAY           JERSEY CITY, NJ  07302        NaN   \n",
       "633    17 INDEPENDENCE WAY           JERSEY CITY, NJ  07302     2017.0   \n",
       "634       100 SUMMIT PLACE           JERSEY CITY, NJ  07305     2000.0   \n",
       "635       100 SUMMIT PLACE           JERSEY CITY, NJ  07305        NaN   \n",
       "\n",
       "      Latitude  Longitude                           property_full_address  \\\n",
       "0    40.730082 -74.055283          514 Newark Ave. Jersey City, Nj  07306   \n",
       "1    40.724742 -74.043713              88 Erie St. Jersey City, Nj  07306   \n",
       "2    40.735895 -74.076336            57 Dales Ave. Jersey City, Nj  07306   \n",
       "3    40.722429 -74.060221       547 Montgomery St. Jersey City, Nj  07306   \n",
       "4    40.723183 -74.060375          20 Florence St. Jersey City, Nj  07306   \n",
       "..         ...        ...                                             ...   \n",
       "631  40.702127 -74.082018  455 Ocean Ave. Jersey City , New Jersey  07305   \n",
       "632  40.694191 -74.084210           143 Chapel Ave Jersey City, Nj  07302   \n",
       "633  40.694191 -74.084210           143 Chapel Ave Jersey City, Nj  07302   \n",
       "634  40.683216 -74.093701         100 Summit Place Jersey City, Nj  07305   \n",
       "635  40.684226 -74.092052             Summit Place Jersey City, Nj  07305   \n",
       "\n",
       "                                                 gcode  \n",
       "0    (514, Newark Avenue, Jersey City, Hudson Count...  \n",
       "1    (88, Erie Street, Newport, Jersey City, Hudson...  \n",
       "2    (57, Dales Avenue, Marion, Jersey City, Hudson...  \n",
       "3    (547, Montgomery Street, Bergen, Jersey City, ...  \n",
       "4    (Florence Street, Bergen, Jersey City, Hudson ...  \n",
       "..                                                 ...  \n",
       "631  (455, Ocean Avenue, Greenville, Jersey City, H...  \n",
       "632  (143, Chapel Avenue, Jersey City, Hudson Count...  \n",
       "633  (143, Chapel Avenue, Jersey City, Hudson Count...  \n",
       "634  (100, Summit Place, Jersey City, Hudson County...  \n",
       "635  (Summit Place, Jersey City, Hudson County, New...  \n",
       "\n",
       "[636 rows x 9 columns]"
      ],
      "text/html": "<div>\n<style scoped>\n    .dataframe tbody tr th:only-of-type {\n        vertical-align: middle;\n    }\n\n    .dataframe tbody tr th {\n        vertical-align: top;\n    }\n\n    .dataframe thead th {\n        text-align: right;\n    }\n</style>\n<table border=\"1\" class=\"dataframe\">\n  <thead>\n    <tr style=\"text-align: right;\">\n      <th></th>\n      <th>property_location</th>\n      <th>owners_name</th>\n      <th>owners_mailing_address</th>\n      <th>city_state_zip</th>\n      <th>Yr. Built</th>\n      <th>Latitude</th>\n      <th>Longitude</th>\n      <th>property_full_address</th>\n      <th>gcode</th>\n    </tr>\n  </thead>\n  <tbody>\n    <tr>\n      <th>0</th>\n      <td>514 NEWARK AVE.</td>\n      <td>HOUSING AUTHORITY OF JERSEY CITY</td>\n      <td>514 NEWARK AVENUE</td>\n      <td>JERSEY CITY, NJ  07306</td>\n      <td>NaN</td>\n      <td>40.730082</td>\n      <td>-74.055283</td>\n      <td>514 Newark Ave. Jersey City, Nj  07306</td>\n      <td>(514, Newark Avenue, Jersey City, Hudson Count...</td>\n    </tr>\n    <tr>\n      <th>1</th>\n      <td>88 ERIE ST.</td>\n      <td>HOUSING AUTHORITY OF JERSEY CITY</td>\n      <td>400 U.S. HIGHWAY #1</td>\n      <td>JERSEY CITY, NJ  07306</td>\n      <td>1870.0</td>\n      <td>40.724742</td>\n      <td>-74.043713</td>\n      <td>88 Erie St. Jersey City, Nj  07306</td>\n      <td>(88, Erie Street, Newport, Jersey City, Hudson...</td>\n    </tr>\n    <tr>\n      <th>2</th>\n      <td>57 DALES AVE.</td>\n      <td>HOUSING AUTHORITY OF JERSEY CITY</td>\n      <td>400 ROUTE 1</td>\n      <td>JERSEY CITY, NJ  07306</td>\n      <td>1941.0</td>\n      <td>40.735895</td>\n      <td>-74.076336</td>\n      <td>57 Dales Ave. Jersey City, Nj  07306</td>\n      <td>(57, Dales Avenue, Marion, Jersey City, Hudson...</td>\n    </tr>\n    <tr>\n      <th>3</th>\n      <td>547 MONTGOMERY ST.</td>\n      <td>HOUSING AUTHORITY OF JERSEY CITY</td>\n      <td>400 U.S. HIGHWAY #1</td>\n      <td>JERSEY CITY, NJ  07306</td>\n      <td>NaN</td>\n      <td>40.722429</td>\n      <td>-74.060221</td>\n      <td>547 Montgomery St. Jersey City, Nj  07306</td>\n      <td>(547, Montgomery Street, Bergen, Jersey City, ...</td>\n    </tr>\n    <tr>\n      <th>4</th>\n      <td>20 FLORENCE ST.</td>\n      <td>HOUSING AUTHORITY OF JERSEY CITY</td>\n      <td>400 U.S. HIGHWAY #1</td>\n      <td>JERSEY CITY, NJ  07306</td>\n      <td>NaN</td>\n      <td>40.723183</td>\n      <td>-74.060375</td>\n      <td>20 Florence St. Jersey City, Nj  07306</td>\n      <td>(Florence Street, Bergen, Jersey City, Hudson ...</td>\n    </tr>\n    <tr>\n      <th>...</th>\n      <td>...</td>\n      <td>...</td>\n      <td>...</td>\n      <td>...</td>\n      <td>...</td>\n      <td>...</td>\n      <td>...</td>\n      <td>...</td>\n      <td>...</td>\n    </tr>\n    <tr>\n      <th>631</th>\n      <td>455 OCEAN AVE.</td>\n      <td>GENESIS OCEAN URBAN RENEWAL ASSOC.</td>\n      <td>455 OCEAN AVE.</td>\n      <td>JERSEY CITY , NEW JERSEY  07305</td>\n      <td>2018.0</td>\n      <td>40.702127</td>\n      <td>-74.082018</td>\n      <td>455 Ocean Ave. Jersey City , New Jersey  07305</td>\n      <td>(455, Ocean Avenue, Greenville, Jersey City, H...</td>\n    </tr>\n    <tr>\n      <th>632</th>\n      <td>143 CHAPEL AVE</td>\n      <td>HUDSON MAIN URBAN RENEWAL,LLC</td>\n      <td>17 INDEPENDENCE WAY</td>\n      <td>JERSEY CITY, NJ  07302</td>\n      <td>NaN</td>\n      <td>40.694191</td>\n      <td>-74.084210</td>\n      <td>143 Chapel Ave Jersey City, Nj  07302</td>\n      <td>(143, Chapel Avenue, Jersey City, Hudson Count...</td>\n    </tr>\n    <tr>\n      <th>633</th>\n      <td>143 CHAPEL AVE</td>\n      <td>HUDSON MAIN URBAN RENEWAL,LLC</td>\n      <td>17 INDEPENDENCE WAY</td>\n      <td>JERSEY CITY, NJ  07302</td>\n      <td>2017.0</td>\n      <td>40.694191</td>\n      <td>-74.084210</td>\n      <td>143 Chapel Ave Jersey City, Nj  07302</td>\n      <td>(143, Chapel Avenue, Jersey City, Hudson Count...</td>\n    </tr>\n    <tr>\n      <th>634</th>\n      <td>100 SUMMIT PLACE</td>\n      <td>SUMMIT/GREENWICH URBAN RENEWAL, LLC</td>\n      <td>100 SUMMIT PLACE</td>\n      <td>JERSEY CITY, NJ  07305</td>\n      <td>2000.0</td>\n      <td>40.683216</td>\n      <td>-74.093701</td>\n      <td>100 Summit Place Jersey City, Nj  07305</td>\n      <td>(100, Summit Place, Jersey City, Hudson County...</td>\n    </tr>\n    <tr>\n      <th>635</th>\n      <td>SUMMIT PLACE</td>\n      <td>SUMMIT GREENWICH URBAN RENEWAL, LLC</td>\n      <td>100 SUMMIT PLACE</td>\n      <td>JERSEY CITY, NJ  07305</td>\n      <td>NaN</td>\n      <td>40.684226</td>\n      <td>-74.092052</td>\n      <td>Summit Place Jersey City, Nj  07305</td>\n      <td>(Summit Place, Jersey City, Hudson County, New...</td>\n    </tr>\n  </tbody>\n</table>\n<p>636 rows × 9 columns</p>\n</div>"
     },
     "metadata": {},
     "execution_count": 124
    }
   ],
   "source": [
    "test_data"
   ]
  },
  {
   "cell_type": "code",
   "execution_count": 125,
   "metadata": {},
   "outputs": [
    {
     "output_type": "execute_result",
     "data": {
      "text/plain": [
       "0         HOUSING AUTHORITY OF JERSEY CITY\n",
       "1         HOUSING AUTHORITY OF JERSEY CITY\n",
       "2         HOUSING AUTHORITY OF JERSEY CITY\n",
       "3         HOUSING AUTHORITY OF JERSEY CITY\n",
       "4         HOUSING AUTHORITY OF JERSEY CITY\n",
       "                      ...                 \n",
       "631     GENESIS OCEAN URBAN RENEWAL ASSOC.\n",
       "632          HUDSON MAIN URBAN RENEWAL,LLC\n",
       "633          HUDSON MAIN URBAN RENEWAL,LLC\n",
       "634    SUMMIT/GREENWICH URBAN RENEWAL, LLC\n",
       "635    SUMMIT GREENWICH URBAN RENEWAL, LLC\n",
       "Name: owners_name, Length: 636, dtype: object"
      ]
     },
     "metadata": {},
     "execution_count": 125
    }
   ],
   "source": [
    "i for i in test_data.owners_name"
   ]
  },
  {
   "cell_type": "code",
   "execution_count": null,
   "metadata": {},
   "outputs": [],
   "source": []
  }
 ]
}