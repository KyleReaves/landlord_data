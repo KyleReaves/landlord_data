{
 "metadata": {
  "orig_nbformat": 4,
  "kernelspec": {
   "name": "python3",
   "display_name": "Python 3.9.6 64-bit ('python@3.9')"
  },
  "interpreter": {
   "hash": "ac2eaa0ea0ebeafcc7822e65e46aa9d4f966f30b695406963e145ea4a91cd4fc"
  },
  "language_info": {
   "name": "python",
   "version": "3.9.6"
  }
 },
 "nbformat": 4,
 "nbformat_minor": 2,
 "cells": [
  {
   "source": [
    "# FindYourLandlord Data Cleaning\n",
    "### This project aims to:\n",
    "* provide a visual representation for who or what entity owns the most property, what other properties the owner owns, and where\n",
    "* provide tenants in North Jersey with pertinent information about who or what owns their building or apartment\n",
    "### Beginning with Jersey City, I'll eventually expand to other cities throughout North Jersey: Paterson, Newark, Hackensack…\n",
    "### This notebook is the data portion of the project, where I will test out methods for cleaning and extracting the relevant data. The data will eventually be picked up by React and mapboxGL.\n",
    "### The csv's were retrieved from Monmouth County's Tax Assessor website:\n",
    "### https://tax1.co.monmouth.nj.us/cgi-bin/prc6.cgi?menu=index&ms_user=monm&passwd=data&district=1301&mode=11"
   ],
   "cell_type": "markdown",
   "metadata": {}
  },
  {
   "cell_type": "code",
   "execution_count": 1,
   "metadata": {},
   "outputs": [],
   "source": [
    "import pandas as pd\n",
    "import os\n",
    "import numpy as np\n",
    "from geopy.geocoders import Nominatim\n",
    "from geopy.extra.rate_limiter import RateLimiter"
   ]
  },
  {
   "cell_type": "code",
   "execution_count": 2,
   "metadata": {},
   "outputs": [],
   "source": [
    "# for returning lat long coordinates from addresses\n",
    "geolocator = Nominatim(user_agent=\"myGeolocator\", timeout=2)"
   ]
  },
  {
   "cell_type": "code",
   "execution_count": 3,
   "metadata": {},
   "outputs": [],
   "source": [
    "hackensack = pd.read_csv('0223monm205221.csv', dtype={14: str, 20: str, 24: str})\n",
    "\n",
    "jersey_city = pd.read_csv('0906monm220028.csv', dtype={20: str,\n",
    "                                                       22: str,\n",
    "                                                       23: str,\n",
    "                                                       25: str,\n",
    "                                                       42: str,\n",
    "                                                       43: str,\n",
    "                                                       47: str,\n",
    "                                                       87: str,\n",
    "                                                       89: str})\n",
    "\n",
    "jersey_city.rename(columns={'Property Location': 'property_location', \n",
    "                            \"Owner's Name\": 'owners_name', \n",
    "                            \"Owner's Mailing Address\": 'owners_mailing_address', \n",
    "                            \"City/State/Zip\": \"city_state_zip\"}, inplace=True)\n",
    "\n",
    "hackensack.rename(columns={'Property Location': 'property_location', \n",
    "                            \"Owner's Name\": 'owners_name', \n",
    "                            \"Owner's Mailing Address\": 'owners_mailing_address',\n",
    "                            \"City/State/Zip\": \"city_state_zip\"}, inplace=True)\n",
    "\n",
    "# title() case is necessary in order to return coordinates with Nominatim \n",
    "# we also can't assume the same city has the same zipcode throughout\n",
    "# the zipcode must be extracted from the city/state/zip column\n",
    "jersey_city['property_full_address'] = jersey_city.property_location.str.title() + \" \" + jersey_city.city_state_zip.str.title()"
   ]
  },
  {
   "cell_type": "code",
   "execution_count": 4,
   "metadata": {},
   "outputs": [
    {
     "output_type": "execute_result",
     "data": {
      "text/plain": [
       "Index(['Municipality', 'Block', 'Lot', 'Qual', 'property_location',\n",
       "       'Property Class', 'owners_name', 'owners_mailing_address',\n",
       "       'city_state_zip', 'Sq. Ft.', 'Yr. Built', 'Building Class',\n",
       "       'Prior Block', 'Prior Lot', 'Prior Qual', 'Updated', 'Zone', 'Account',\n",
       "       'Mortgage Account', 'Bank Code', 'Sp Tax Cd', 'Sp Tax Cd.1',\n",
       "       'Sp Tax Cd.2', 'Sp Tax Cd.3', 'Map Page', 'Additional Lots',\n",
       "       'Land Desc', 'Building Desc', 'Class 4 Code', 'Acreage', 'EPL Own',\n",
       "       'EPL Use', 'EPL Desc', 'EPL Statute', 'EPL Init', 'EPL Further',\n",
       "       'EPL Facility Name', 'Taxes 1', 'Taxes 2', 'Taxes 3', 'Taxes 4',\n",
       "       'Sale Date', 'Deed Book', 'Deed Page', 'Sale Price', 'NU Code', 'Ratio',\n",
       "       'Type/Use', 'Year', 'Owner', 'Street', 'City/State/Zip.1',\n",
       "       'Land Assmnt', 'Building Assmnt', 'Exempt', 'Total Assmnt', 'Assessed',\n",
       "       'Year.1', 'Owner.1', 'Street.1', 'City/State/Zip.2', 'Land Assmnt.1',\n",
       "       'Building Assmnt.1', 'Exempt.1', 'Total Assmnt.1', 'Assessed.1',\n",
       "       'Year.2', 'Owner.2', 'Street.2', 'City/State/Zip.3', 'Land Assmnt.2',\n",
       "       'Building Assmnt.2', 'Exempt.2', 'Total Assmnt.2', 'Assessed.2',\n",
       "       'Year.3', 'Owner.3', 'Street.3', 'City/State/Zip.4', 'Land Assmnt.3',\n",
       "       'Building Assmnt.3', 'Exempt.3', 'Total Assmnt.3', 'Assessed.3',\n",
       "       'Latitude', 'Longitude', 'Neigh', 'VCS', 'StyDesc', 'Style',\n",
       "       'Unnamed: 90', 'property_full_address'],\n",
       "      dtype='object')"
      ]
     },
     "metadata": {},
     "execution_count": 4
    }
   ],
   "source": [
    "jersey_city.columns"
   ]
  },
  {
   "source": [
    "#### The following five cells are columns which can be deleted from the dataframe...\n",
    "#### ...I needed to figure out their respective indices"
   ],
   "cell_type": "markdown",
   "metadata": {}
  },
  {
   "cell_type": "code",
   "execution_count": 5,
   "metadata": {},
   "outputs": [
    {
     "output_type": "execute_result",
     "data": {
      "text/plain": [
       "'Property Class'"
      ]
     },
     "metadata": {},
     "execution_count": 5
    }
   ],
   "source": [
    "jersey_city.columns[5]"
   ]
  },
  {
   "cell_type": "code",
   "execution_count": 6,
   "metadata": {},
   "outputs": [
    {
     "output_type": "execute_result",
     "data": {
      "text/plain": [
       "'Sq. Ft.'"
      ]
     },
     "metadata": {},
     "execution_count": 6
    }
   ],
   "source": [
    "jersey_city.columns[9]"
   ]
  },
  {
   "cell_type": "code",
   "execution_count": 7,
   "metadata": {},
   "outputs": [
    {
     "output_type": "execute_result",
     "data": {
      "text/plain": [
       "Index(['Building Class', 'Prior Block', 'Prior Lot', 'Prior Qual', 'Updated',\n",
       "       'Zone', 'Account', 'Mortgage Account', 'Bank Code', 'Sp Tax Cd',\n",
       "       'Sp Tax Cd.1', 'Sp Tax Cd.2', 'Sp Tax Cd.3', 'Map Page',\n",
       "       'Additional Lots', 'Land Desc', 'Building Desc', 'Class 4 Code',\n",
       "       'Acreage', 'EPL Own', 'EPL Use', 'EPL Desc', 'EPL Statute', 'EPL Init',\n",
       "       'EPL Further', 'EPL Facility Name', 'Taxes 1', 'Taxes 2', 'Taxes 3',\n",
       "       'Taxes 4', 'Sale Date', 'Deed Book', 'Deed Page', 'Sale Price',\n",
       "       'NU Code', 'Ratio', 'Type/Use', 'Year', 'Owner', 'Street',\n",
       "       'City/State/Zip.1', 'Land Assmnt', 'Building Assmnt', 'Exempt',\n",
       "       'Total Assmnt', 'Assessed', 'Year.1', 'Owner.1', 'Street.1',\n",
       "       'City/State/Zip.2', 'Land Assmnt.1', 'Building Assmnt.1', 'Exempt.1',\n",
       "       'Total Assmnt.1', 'Assessed.1', 'Year.2', 'Owner.2', 'Street.2',\n",
       "       'City/State/Zip.3', 'Land Assmnt.2', 'Building Assmnt.2', 'Exempt.2',\n",
       "       'Total Assmnt.2', 'Assessed.2', 'Year.3', 'Owner.3', 'Street.3',\n",
       "       'City/State/Zip.4', 'Land Assmnt.3', 'Building Assmnt.3', 'Exempt.3',\n",
       "       'Total Assmnt.3'],\n",
       "      dtype='object')"
      ]
     },
     "metadata": {},
     "execution_count": 7
    }
   ],
   "source": [
    "jersey_city.columns[11:83]"
   ]
  },
  {
   "cell_type": "code",
   "execution_count": 8,
   "metadata": {},
   "outputs": [
    {
     "output_type": "execute_result",
     "data": {
      "text/plain": [
       "'Assessed.3'"
      ]
     },
     "metadata": {},
     "execution_count": 8
    }
   ],
   "source": [
    "jersey_city.columns[83]"
   ]
  },
  {
   "cell_type": "code",
   "execution_count": 9,
   "metadata": {},
   "outputs": [
    {
     "output_type": "execute_result",
     "data": {
      "text/plain": [
       "Index(['Neigh', 'VCS', 'StyDesc', 'Style', 'Unnamed: 90'], dtype='object')"
      ]
     },
     "metadata": {},
     "execution_count": 9
    }
   ],
   "source": [
    "jersey_city.columns[86:91]"
   ]
  },
  {
   "source": [
    "## Does the owner live in the building? \n",
    "## Does the 'property location' match the 'owner's mailing address'?"
   ],
   "cell_type": "markdown",
   "metadata": {}
  },
  {
   "cell_type": "code",
   "execution_count": 10,
   "metadata": {},
   "outputs": [
    {
     "output_type": "execute_result",
     "data": {
      "text/plain": [
       "0        False\n",
       "1        False\n",
       "2        False\n",
       "3        False\n",
       "4        False\n",
       "         ...  \n",
       "63829    False\n",
       "63830    False\n",
       "63831    False\n",
       "63832    False\n",
       "63833    False\n",
       "Length: 63834, dtype: bool"
      ]
     },
     "metadata": {},
     "execution_count": 10
    }
   ],
   "source": [
    "# this method is inefficient, given we are searching 60k+ rows\n",
    "jersey_city.property_location == jersey_city.owners_mailing_address"
   ]
  },
  {
   "cell_type": "code",
   "execution_count": 11,
   "metadata": {},
   "outputs": [
    {
     "output_type": "execute_result",
     "data": {
      "text/plain": [
       "(array([   27,    29,    34, ..., 63776, 63796, 63797]),)"
      ]
     },
     "metadata": {},
     "execution_count": 11
    }
   ],
   "source": [
    "# numpy has better methods for quickly checking\n",
    "# a quick look by wrapping the same equivalence in a numpy function to see if our intuition is correct\n",
    "np.where(jersey_city.property_location == jersey_city.owners_mailing_address)"
   ]
  },
  {
   "source": [
    "### property location matching the owners mailing address…can we safely assume they reside at the address?\n",
    "### as many as 16544 owners reside in the building they own: \n",
    "### however they might not all be residential properties"
   ],
   "cell_type": "markdown",
   "metadata": {}
  },
  {
   "cell_type": "code",
   "execution_count": 12,
   "metadata": {},
   "outputs": [
    {
     "output_type": "execute_result",
     "data": {
      "text/plain": [
       "       Municipality    Block   Lot Qual      property_location Property Class  \\\n",
       "27              906    201.0   7.0  NaN       817 TONNELE AVE.              1   \n",
       "29              906    201.0   9.0  NaN       823 TONNELE AVE.             4A   \n",
       "34              906    301.0   1.0  NaN       677 LIBERTY AVE.              2   \n",
       "35              906    301.0   2.0  NaN       675 LIBERTY AVE.              2   \n",
       "36              906    301.0   3.0  NaN       673 LIBERTY AVE.              2   \n",
       "...             ...      ...   ...  ...                    ...            ...   \n",
       "63740           906  30304.0  14.0  NaN      100 GARFIELD AVE.              2   \n",
       "63742           906  30304.0  16.0  NaN      104 GARFIELD AVE.              2   \n",
       "63776           906  30306.0   8.0  NaN       100 SUMMIT PLACE             4B   \n",
       "63796           906  30307.0  10.0  NaN  109 PORT JERSEY BLVD.             4B   \n",
       "63797           906  30307.0  11.0  NaN  111 PORT JERSEY BLVD.            15F   \n",
       "\n",
       "                               owners_name owners_mailing_address  \\\n",
       "27                   NELMIR REALTY, L.L.C.       817 TONNELE AVE.   \n",
       "29           GERRY GAS SUPPLY INC.C/O LILH       823 TONNELE AVE.   \n",
       "34                          PEDDI, PRADEEP       677 LIBERTY AVE.   \n",
       "35            PAREJA, HENRY A. & MIRYAM C.       675 LIBERTY AVE.   \n",
       "36                         HIRPARA, PRAVIN       673 LIBERTY AVE.   \n",
       "...                                    ...                    ...   \n",
       "63740                       SERVIDA, AUREA      100 GARFIELD AVE.   \n",
       "63742                  RODRIGUEZ, BENJAMIN      104 GARFIELD AVE.   \n",
       "63776  SUMMIT/GREENWICH URBAN RENEWAL, LLC       100 SUMMIT PLACE   \n",
       "63796                           DOMISA LLC  109 PORT JERSEY BLVD.   \n",
       "63797   111 PORT JERSEY CONDOMINIUM ASSOC.  111 PORT JERSEY BLVD.   \n",
       "\n",
       "                 city_state_zip  Sq. Ft.  ...  Total Assmnt.3  Assessed.3  \\\n",
       "27       JERSEY CITY, NJ  07307        0  ...          111900    111900.0   \n",
       "29     JERSEY CITY, N.J.  07307        0  ...         1699500   1699500.0   \n",
       "34     JERSEY CITY, N.J.  07307     1600  ...          416500    416500.0   \n",
       "35     JERSEY CITY, N.J.  07307     1616  ...          363300    363300.0   \n",
       "36       JERSEY CITY, NJ  07307     1600  ...          364900    364900.0   \n",
       "...                         ...      ...  ...             ...         ...   \n",
       "63740    JERSEY CITY, NJ  07305     1882  ...          271000    271000.0   \n",
       "63742  JERSEY CITY, N.J.  07305     2412  ...          268200    268200.0   \n",
       "63776    JERSEY CITY, NJ  07305        0  ...        13139700  13139700.0   \n",
       "63796  JERSEY CITY, N.J.  07305        0  ...         2863800   2863800.0   \n",
       "63797    JERSEY CITY, NJ  07305        0  ...               0         0.0   \n",
       "\n",
       "      Latitude Longitude Neigh  VCS StyDesc  Style Unnamed: 90  \\\n",
       "27           0         0   NaN  NaN     NaN    NaN         NaN   \n",
       "29           0         0   NaN  NaN     NaN    NaN         NaN   \n",
       "34           0         0   NaN  NaN     NaN    NaN         NaN   \n",
       "35           0         0   NaN  NaN     NaN    NaN         NaN   \n",
       "36           0         0   NaN  NaN     NaN    NaN         NaN   \n",
       "...        ...       ...   ...  ...     ...    ...         ...   \n",
       "63740        0         0   NaN  NaN     NaN    NaN         NaN   \n",
       "63742        0         0   NaN  NaN     NaN    NaN         NaN   \n",
       "63776        0         0   NaN  NaN     NaN    NaN         NaN   \n",
       "63796        0         0   NaN  NaN     NaN    NaN         NaN   \n",
       "63797        0         0   NaN  NaN     NaN    NaN         NaN   \n",
       "\n",
       "                                property_full_address  \n",
       "27            817 Tonnele Ave. Jersey City, Nj  07307  \n",
       "29          823 Tonnele Ave. Jersey City, N.J.  07307  \n",
       "34          677 Liberty Ave. Jersey City, N.J.  07307  \n",
       "35          675 Liberty Ave. Jersey City, N.J.  07307  \n",
       "36            673 Liberty Ave. Jersey City, Nj  07307  \n",
       "...                                               ...  \n",
       "63740        100 Garfield Ave. Jersey City, Nj  07305  \n",
       "63742      104 Garfield Ave. Jersey City, N.J.  07305  \n",
       "63776         100 Summit Place Jersey City, Nj  07305  \n",
       "63796  109 Port Jersey Blvd. Jersey City, N.J.  07305  \n",
       "63797    111 Port Jersey Blvd. Jersey City, Nj  07305  \n",
       "\n",
       "[16544 rows x 92 columns]"
      ],
      "text/html": "<div>\n<style scoped>\n    .dataframe tbody tr th:only-of-type {\n        vertical-align: middle;\n    }\n\n    .dataframe tbody tr th {\n        vertical-align: top;\n    }\n\n    .dataframe thead th {\n        text-align: right;\n    }\n</style>\n<table border=\"1\" class=\"dataframe\">\n  <thead>\n    <tr style=\"text-align: right;\">\n      <th></th>\n      <th>Municipality</th>\n      <th>Block</th>\n      <th>Lot</th>\n      <th>Qual</th>\n      <th>property_location</th>\n      <th>Property Class</th>\n      <th>owners_name</th>\n      <th>owners_mailing_address</th>\n      <th>city_state_zip</th>\n      <th>Sq. Ft.</th>\n      <th>...</th>\n      <th>Total Assmnt.3</th>\n      <th>Assessed.3</th>\n      <th>Latitude</th>\n      <th>Longitude</th>\n      <th>Neigh</th>\n      <th>VCS</th>\n      <th>StyDesc</th>\n      <th>Style</th>\n      <th>Unnamed: 90</th>\n      <th>property_full_address</th>\n    </tr>\n  </thead>\n  <tbody>\n    <tr>\n      <th>27</th>\n      <td>906</td>\n      <td>201.0</td>\n      <td>7.0</td>\n      <td>NaN</td>\n      <td>817 TONNELE AVE.</td>\n      <td>1</td>\n      <td>NELMIR REALTY, L.L.C.</td>\n      <td>817 TONNELE AVE.</td>\n      <td>JERSEY CITY, NJ  07307</td>\n      <td>0</td>\n      <td>...</td>\n      <td>111900</td>\n      <td>111900.0</td>\n      <td>0</td>\n      <td>0</td>\n      <td>NaN</td>\n      <td>NaN</td>\n      <td>NaN</td>\n      <td>NaN</td>\n      <td>NaN</td>\n      <td>817 Tonnele Ave. Jersey City, Nj  07307</td>\n    </tr>\n    <tr>\n      <th>29</th>\n      <td>906</td>\n      <td>201.0</td>\n      <td>9.0</td>\n      <td>NaN</td>\n      <td>823 TONNELE AVE.</td>\n      <td>4A</td>\n      <td>GERRY GAS SUPPLY INC.C/O LILH</td>\n      <td>823 TONNELE AVE.</td>\n      <td>JERSEY CITY, N.J.  07307</td>\n      <td>0</td>\n      <td>...</td>\n      <td>1699500</td>\n      <td>1699500.0</td>\n      <td>0</td>\n      <td>0</td>\n      <td>NaN</td>\n      <td>NaN</td>\n      <td>NaN</td>\n      <td>NaN</td>\n      <td>NaN</td>\n      <td>823 Tonnele Ave. Jersey City, N.J.  07307</td>\n    </tr>\n    <tr>\n      <th>34</th>\n      <td>906</td>\n      <td>301.0</td>\n      <td>1.0</td>\n      <td>NaN</td>\n      <td>677 LIBERTY AVE.</td>\n      <td>2</td>\n      <td>PEDDI, PRADEEP</td>\n      <td>677 LIBERTY AVE.</td>\n      <td>JERSEY CITY, N.J.  07307</td>\n      <td>1600</td>\n      <td>...</td>\n      <td>416500</td>\n      <td>416500.0</td>\n      <td>0</td>\n      <td>0</td>\n      <td>NaN</td>\n      <td>NaN</td>\n      <td>NaN</td>\n      <td>NaN</td>\n      <td>NaN</td>\n      <td>677 Liberty Ave. Jersey City, N.J.  07307</td>\n    </tr>\n    <tr>\n      <th>35</th>\n      <td>906</td>\n      <td>301.0</td>\n      <td>2.0</td>\n      <td>NaN</td>\n      <td>675 LIBERTY AVE.</td>\n      <td>2</td>\n      <td>PAREJA, HENRY A. &amp; MIRYAM C.</td>\n      <td>675 LIBERTY AVE.</td>\n      <td>JERSEY CITY, N.J.  07307</td>\n      <td>1616</td>\n      <td>...</td>\n      <td>363300</td>\n      <td>363300.0</td>\n      <td>0</td>\n      <td>0</td>\n      <td>NaN</td>\n      <td>NaN</td>\n      <td>NaN</td>\n      <td>NaN</td>\n      <td>NaN</td>\n      <td>675 Liberty Ave. Jersey City, N.J.  07307</td>\n    </tr>\n    <tr>\n      <th>36</th>\n      <td>906</td>\n      <td>301.0</td>\n      <td>3.0</td>\n      <td>NaN</td>\n      <td>673 LIBERTY AVE.</td>\n      <td>2</td>\n      <td>HIRPARA, PRAVIN</td>\n      <td>673 LIBERTY AVE.</td>\n      <td>JERSEY CITY, NJ  07307</td>\n      <td>1600</td>\n      <td>...</td>\n      <td>364900</td>\n      <td>364900.0</td>\n      <td>0</td>\n      <td>0</td>\n      <td>NaN</td>\n      <td>NaN</td>\n      <td>NaN</td>\n      <td>NaN</td>\n      <td>NaN</td>\n      <td>673 Liberty Ave. Jersey City, Nj  07307</td>\n    </tr>\n    <tr>\n      <th>...</th>\n      <td>...</td>\n      <td>...</td>\n      <td>...</td>\n      <td>...</td>\n      <td>...</td>\n      <td>...</td>\n      <td>...</td>\n      <td>...</td>\n      <td>...</td>\n      <td>...</td>\n      <td>...</td>\n      <td>...</td>\n      <td>...</td>\n      <td>...</td>\n      <td>...</td>\n      <td>...</td>\n      <td>...</td>\n      <td>...</td>\n      <td>...</td>\n      <td>...</td>\n      <td>...</td>\n    </tr>\n    <tr>\n      <th>63740</th>\n      <td>906</td>\n      <td>30304.0</td>\n      <td>14.0</td>\n      <td>NaN</td>\n      <td>100 GARFIELD AVE.</td>\n      <td>2</td>\n      <td>SERVIDA, AUREA</td>\n      <td>100 GARFIELD AVE.</td>\n      <td>JERSEY CITY, NJ  07305</td>\n      <td>1882</td>\n      <td>...</td>\n      <td>271000</td>\n      <td>271000.0</td>\n      <td>0</td>\n      <td>0</td>\n      <td>NaN</td>\n      <td>NaN</td>\n      <td>NaN</td>\n      <td>NaN</td>\n      <td>NaN</td>\n      <td>100 Garfield Ave. Jersey City, Nj  07305</td>\n    </tr>\n    <tr>\n      <th>63742</th>\n      <td>906</td>\n      <td>30304.0</td>\n      <td>16.0</td>\n      <td>NaN</td>\n      <td>104 GARFIELD AVE.</td>\n      <td>2</td>\n      <td>RODRIGUEZ, BENJAMIN</td>\n      <td>104 GARFIELD AVE.</td>\n      <td>JERSEY CITY, N.J.  07305</td>\n      <td>2412</td>\n      <td>...</td>\n      <td>268200</td>\n      <td>268200.0</td>\n      <td>0</td>\n      <td>0</td>\n      <td>NaN</td>\n      <td>NaN</td>\n      <td>NaN</td>\n      <td>NaN</td>\n      <td>NaN</td>\n      <td>104 Garfield Ave. Jersey City, N.J.  07305</td>\n    </tr>\n    <tr>\n      <th>63776</th>\n      <td>906</td>\n      <td>30306.0</td>\n      <td>8.0</td>\n      <td>NaN</td>\n      <td>100 SUMMIT PLACE</td>\n      <td>4B</td>\n      <td>SUMMIT/GREENWICH URBAN RENEWAL, LLC</td>\n      <td>100 SUMMIT PLACE</td>\n      <td>JERSEY CITY, NJ  07305</td>\n      <td>0</td>\n      <td>...</td>\n      <td>13139700</td>\n      <td>13139700.0</td>\n      <td>0</td>\n      <td>0</td>\n      <td>NaN</td>\n      <td>NaN</td>\n      <td>NaN</td>\n      <td>NaN</td>\n      <td>NaN</td>\n      <td>100 Summit Place Jersey City, Nj  07305</td>\n    </tr>\n    <tr>\n      <th>63796</th>\n      <td>906</td>\n      <td>30307.0</td>\n      <td>10.0</td>\n      <td>NaN</td>\n      <td>109 PORT JERSEY BLVD.</td>\n      <td>4B</td>\n      <td>DOMISA LLC</td>\n      <td>109 PORT JERSEY BLVD.</td>\n      <td>JERSEY CITY, N.J.  07305</td>\n      <td>0</td>\n      <td>...</td>\n      <td>2863800</td>\n      <td>2863800.0</td>\n      <td>0</td>\n      <td>0</td>\n      <td>NaN</td>\n      <td>NaN</td>\n      <td>NaN</td>\n      <td>NaN</td>\n      <td>NaN</td>\n      <td>109 Port Jersey Blvd. Jersey City, N.J.  07305</td>\n    </tr>\n    <tr>\n      <th>63797</th>\n      <td>906</td>\n      <td>30307.0</td>\n      <td>11.0</td>\n      <td>NaN</td>\n      <td>111 PORT JERSEY BLVD.</td>\n      <td>15F</td>\n      <td>111 PORT JERSEY CONDOMINIUM ASSOC.</td>\n      <td>111 PORT JERSEY BLVD.</td>\n      <td>JERSEY CITY, NJ  07305</td>\n      <td>0</td>\n      <td>...</td>\n      <td>0</td>\n      <td>0.0</td>\n      <td>0</td>\n      <td>0</td>\n      <td>NaN</td>\n      <td>NaN</td>\n      <td>NaN</td>\n      <td>NaN</td>\n      <td>NaN</td>\n      <td>111 Port Jersey Blvd. Jersey City, Nj  07305</td>\n    </tr>\n  </tbody>\n</table>\n<p>16544 rows × 92 columns</p>\n</div>"
     },
     "metadata": {},
     "execution_count": 12
    }
   ],
   "source": [
    "jersey_city.loc[jersey_city.property_location == jersey_city.owners_mailing_address]"
   ]
  },
  {
   "source": [
    "## Does the property owner own more than one property? Which property owner owns the most properties?\n",
    "### These numbers can be deceiving; many properties or units can exist in a single address.\n",
    "### The same address can be included twice. "
   ],
   "cell_type": "markdown",
   "metadata": {}
  },
  {
   "cell_type": "code",
   "execution_count": 13,
   "metadata": {},
   "outputs": [
    {
     "output_type": "execute_result",
     "data": {
      "text/plain": [
       "49247"
      ]
     },
     "metadata": {},
     "execution_count": 13
    }
   ],
   "source": [
    "# As we'll see below, many of the addresses and owners are spelled incorrectly \n",
    "len(jersey_city['owners_name'].unique())"
   ]
  },
  {
   "cell_type": "code",
   "execution_count": 14,
   "metadata": {},
   "outputs": [
    {
     "output_type": "execute_result",
     "data": {
      "text/plain": [
       "37842"
      ]
     },
     "metadata": {},
     "execution_count": 14
    }
   ],
   "source": [
    "len(jersey_city['property_location'].unique())"
   ]
  },
  {
   "source": [
    "### multiple units can appear in a single property, adding to the value counts below"
   ],
   "cell_type": "markdown",
   "metadata": {}
  },
  {
   "cell_type": "code",
   "execution_count": 15,
   "metadata": {},
   "outputs": [
    {
     "output_type": "execute_result",
     "data": {
      "text/plain": [
       "COA 99 HUDSON,LLC                      626\n",
       "CITY OF JERSEY CITY                    325\n",
       "75 PARK LANE, LLC                      215\n",
       "95 VAN DAM URBAN RENEWAL, L.L.C.       129\n",
       "CONSOLIDATED RAIL                      124\n",
       "160 FIRST STREET URBAN RENEWAL, LLC    104\n",
       "JERSEY CITY REDEVELOPMENT AGENCY        92\n",
       "NEW JERSEY TRANSIT                      86\n",
       "HOUSING AUTHORITY OF JERSEY CITY        74\n",
       "LIBERTY HARBOR NORTH URBAN R., LLC      71\n",
       "STATE OF N J DEPT OF ENV PROTECTION     57\n",
       "BOARD OF EDUCATION OF J C               54\n",
       "NJ DEPARTMENT OF TRANSPORTATION         51\n",
       "300 COMMUNIPAW, INC.                    48\n",
       "VILLAGE CONDOS III, LLC.                46\n",
       "BERGEN AVE.ASSOC.C/O OSTROW             46\n",
       "PUBLIC SERVICE ELECTRIC & GAS CO.       44\n",
       "NEWPORT CENTRE                          40\n",
       "N.J. DEPT. OF TRANSPORTATION            39\n",
       "BLOCK 284 NORTH URBAN RENEWAL, LLC      33\n",
       "AUDUBON AV.RLTY. %JASCO MANAGEMENT      32\n",
       "CCA NEWPORT, INC.                       32\n",
       "ERIE 10TH URBAN RENEWAL, L.L.C.         28\n",
       "LIBERTY HARBOR NORTH U.R.CO.,LLC        28\n",
       "COUNTY OF HUDSON                        28\n",
       "ESSENDON, LLC % DIXON ADVISORY          28\n",
       "LIBERTY HARBOR HOLDING, LLC             27\n",
       "BRT, LLC % SHUSTER MANAGEMENT, LLC      27\n",
       "M.L.K. DRIVE U.R. % J.C. ECON. DEV.     26\n",
       "CONSOLIDATED R.R.                       25\n",
       "NJ PENELOPE LLC.                        24\n",
       "NEW UNITED ENTERPRISES, LLC.            24\n",
       "PORT AUTHORITY OF NY & NJ               23\n",
       "CANCRO, ALAN                            23\n",
       "LADYBUG LOFTS, LLC                      22\n",
       "J.& S. EQUITY ASSOC.C/O W.R. CLEVEN     21\n",
       "HRP HUDSON, LLC. % RYAN, LLC            21\n",
       "COLLINGWOOD URF LLC %DIXON ADVISORY     21\n",
       "LEXINGTON MANOR OWNER, LP               20\n",
       "HUDSON COUNTY COMMUNITY COLLEGE         20\n",
       "BRISBANE URF LLC                        20\n",
       "1865 KENNEDY REALTY, %JASCO MGMNT       20\n",
       "STEGMAN APARTMENTS JC, LLC              19\n",
       "PARKING AUTHORITY OF JERSEY CITY        19\n",
       "GEELONG, LLC % DIXON ADVISORY           19\n",
       "AK REALTY, LLC.                         19\n",
       "MELBOURNE, LLC.                         18\n",
       "COLLINGWOOD URF LLC% DIXON ADVISORY     18\n",
       "972-976 SUMMIT AVE.DEV.,LLC             18\n",
       "JC MOCH FM, LLC                         18\n",
       "Name: owners_name, dtype: int64"
      ]
     },
     "metadata": {},
     "execution_count": 15
    }
   ],
   "source": [
    "jersey_city.owners_name.value_counts().head(50)"
   ]
  },
  {
   "source": [
    "## How many LLCs have \"UR\" or \"Urban Renewal\" in the owner's name?"
   ],
   "cell_type": "markdown",
   "metadata": {}
  },
  {
   "cell_type": "code",
   "execution_count": 16,
   "metadata": {},
   "outputs": [
    {
     "output_type": "execute_result",
     "data": {
      "text/plain": [
       "array(['HEIGHTS URBAN RENEWAL SENIOR H.',\n",
       "       'RATAN JERSEY CITY URBAN RENEWAL,LLC',\n",
       "       'BRASS WORKS URBAN RENEWAL CO., LLC',\n",
       "       'HUDSON PALISADES URBAN RENEWAL,LLC',\n",
       "       '364 NINTH STREET URBAN RENEWAL, LLC',\n",
       "       'NINTH STREET TWO URBAN RENEWAL,LLC',\n",
       "       'TOWER EAST URBAN RENEWAL COMPANY',\n",
       "       'JAMES MONROE URBAN RENEWAL CO.', '25 RIVER DR.SO.URBAN RENEWAL',\n",
       "       'SENATE PLACE URBAN RENEWAL, LLC',\n",
       "       'H.P. LINCOLN URBAN RENEWAL COMPANY',\n",
       "       'ERIE 10TH URBAN RENEWAL, L.L.C.', '9TH STREET URBAN RENEWAL,LLC',\n",
       "       'VAN WAGENEN II URBAN RENEWAL, LLC.',\n",
       "       '17-19 DIVISION ST URBAN RENEWAL,LLC',\n",
       "       '380 NEWARK REALTY URBAN RENEWAL LLC',\n",
       "       'BLOCK 284 NORTH URBAN RENEWAL, LLC',\n",
       "       '500 MANILA AVE.URBAN RENEWAL, LLC',\n",
       "       '500 MANILA AVE.URBAN RENEWAL LLC',\n",
       "       'KRE HAMILTON URBAN RENEWAL LLC',\n",
       "       'VAN WAGENEN I URBAN RENEWAL, LLC.',\n",
       "       '160 FIRST STREET URBAN RENEWAL, LLC',\n",
       "       'PS FIRST HUDSON URBAN RENEWAL LLC',\n",
       "       '140 BAY STREET URBAN RENEWAL, LLC',\n",
       "       'PROVOST SQUARE I URBAN RENEWAL, LLC',\n",
       "       'PINNACLE TOWER URBAN RENEWAL, LLC',\n",
       "       'MORGAN ST. DEVEL.URBAN RENEWAL LLC',\n",
       "       'MORGAN ST. DEVELOPERS URBAN RENEWAL',\n",
       "       'MAJESTIC URBAN RENEWAL, LLC.', '70 COLUMBUS URBAN RENEWAL, LLC',\n",
       "       'COLUMBUS HOTEL URBAN RENEWAL, LLC',\n",
       "       'PH URBAN RENEWAL LLC%MACK CALI CORP',\n",
       "       'SIENA URBAN RENEWAL ASSOC., LP',\n",
       "       'BR MERCURY URBAN RENEWAL CO,LLC.,',\n",
       "       'BR TOWER URBAN RENEWAL COMPANY, LLC',\n",
       "       'ADELE FASHION URBAN RENEWAL A.,LLC',\n",
       "       'MARBACH URBAN RENEWAL RLTY ASSO.',\n",
       "       '456 GRAND REALTY URBAN RENEWAL, LLC',\n",
       "       'BRIGHT & VARICK URBAN RENEWAL LLC',\n",
       "       '272 GROVE STREET URBAN RENEWAL, LLC',\n",
       "       'LIBERTY POINT URBAN RENEWAL, LLC',\n",
       "       'LIBERTY POINT URBAN RENEWAL,L.L.C.',\n",
       "       'MONTGOMERY GREENE URBAN RENEWAL,LLC',\n",
       "       '280 FAIRMOUNT URBAN RENEWAL, LLC.',\n",
       "       'AETNA MONMOUTH URBAN RENEWAL, LLC',\n",
       "       '95 VAN DAM URBAN RENEWAL, L.L.C.',\n",
       "       'GRAND LHN II URBAN RENEWAL, LLC',\n",
       "       'GRAND LHN I URBAN RENEWAL, LLC', 'BERGENVIEW URBAN RENEWAL, LLC.',\n",
       "       '170 LAFAYETTE URBAN RENEWAL,LLC',\n",
       "       'ASH URBAN RENEWAL DEVELOPMENT,LLC',\n",
       "       'KENNEDY MANOR URBAN RENEWAL LLC',\n",
       "       'SALEM LAFAYETTE URBAN RENEWAL, L.P.',\n",
       "       'MONITOR MAPLE URBAN RENEWAL, LLC',\n",
       "       'SALEM LAFAYETTER URBAN RENEWAL, L.P',\n",
       "       '234 SUYDAM AVENUE URBAN RENEWAL LLC',\n",
       "       '16 BENNETT ST. URBAN RENEWAL LLC',\n",
       "       '16 BENNETT ST. URBAN RENEWAL CO.',\n",
       "       'OCEAN MLK URBAN RENEWAL ASSOC.',\n",
       "       'CICF II - NJ1B02 URBAN RENEWAL, LLC',\n",
       "       '400 CLAREMONT URBAN RENEWAL LLC',\n",
       "       '400 CLAREMENT URBAN RENEWAL LLC',\n",
       "       '305 WEST SIDE AVE URBAN RENEWAL,LLC',\n",
       "       'BERGEN MANOR URBAN RENEWAL LLC',\n",
       "       'OCEAN MLK URBAN RENEWAL ASSOCIATES',\n",
       "       'AUDOBON URBAN RENEWAL% SIG MGNT,LLC',\n",
       "       'AUDOBON URBAN RENEWAL%SIG MNGT, LLC',\n",
       "       'AUDOBON URBAN RENEWAL% SIG MNGT,LLC',\n",
       "       'AUDOBON URBAN RENEWAL%AMISTAD MGT.',\n",
       "       'CLAREMONT URBAN RENEWAL CORP.',\n",
       "       'WA RESIDENTIAL URBAN RENEWAL CO.LLC',\n",
       "       'AUDOBON URBAN RENEWAL PROPERTIES,LP',\n",
       "       'GENESIS OCEAN URBAN RENEWAL ASSOC.',\n",
       "       \"LET'S CELEBRATE URBAN RENEWAL, LLC\",\n",
       "       '99 RUTGERS URBAN RENEWAL, L.P.',\n",
       "       '45-51 MLK URBAN RENEWAL CO., INC.',\n",
       "       '45-51 MLK URBAN RENEWAL CORP',\n",
       "       '45-51 MLK URBAN RENEWAL COMPANY LLC',\n",
       "       'HUDSON MAIN URBAN RENEWAL,LLC',\n",
       "       'SUMMIT/GREENWICH URBAN RENEWAL, LLC',\n",
       "       'SUMMIT GREENWICH URBAN RENEWAL, LLC'], dtype=object)"
      ]
     },
     "metadata": {},
     "execution_count": 16
    }
   ],
   "source": [
    "# More examples of how unclean the data is, even on a state database\n",
    "jersey_city[jersey_city.owners_name.str.contains('URBAN RENEWAL')]['owners_name'].unique()"
   ]
  },
  {
   "cell_type": "code",
   "execution_count": 17,
   "metadata": {},
   "outputs": [
    {
     "output_type": "execute_result",
     "data": {
      "text/plain": [
       "array(['SUMMIT PLAZA ASSOCIATES, UR LTD PTN',\n",
       "       'PADUA COURT UR C/O INSPIRED VISION',\n",
       "       'PADUA COURT UR C/O INSPRED VISION',\n",
       "       'CAL-HARBOR SO. PIER UR ASC %M CALI'], dtype=object)"
      ]
     },
     "metadata": {},
     "execution_count": 17
    }
   ],
   "source": [
    "jersey_city[jersey_city.owners_name.str.contains(' UR ')]['owners_name'].unique()"
   ]
  },
  {
   "cell_type": "code",
   "execution_count": 18,
   "metadata": {},
   "outputs": [
    {
     "output_type": "execute_result",
     "data": {
      "text/plain": [
       "array(['99 HUDSON ST.'], dtype=object)"
      ]
     },
     "metadata": {},
     "execution_count": 18
    }
   ],
   "source": [
    "jersey_city[jersey_city.owners_name == 'COA 99 HUDSON,LLC']['property_location'].unique()"
   ]
  },
  {
   "cell_type": "code",
   "execution_count": 19,
   "metadata": {},
   "outputs": [],
   "source": [
    "def return_jc_properties(owner=str): \n",
    "    return jersey_city[jersey_city.owners_name == owner.rstrip()]['property_location'].unique()"
   ]
  },
  {
   "cell_type": "code",
   "execution_count": 21,
   "metadata": {},
   "outputs": [
    {
     "output_type": "execute_result",
     "data": {
      "text/plain": [
       "55"
      ]
     },
     "metadata": {},
     "execution_count": 21
    }
   ],
   "source": [
    "len(return_jc_properties('HOUSING AUTHORITY OF JERSEY CITY'))"
   ]
  },
  {
   "cell_type": "code",
   "execution_count": 22,
   "metadata": {},
   "outputs": [
    {
     "output_type": "stream",
     "name": "stdout",
     "text": [
      "CPU times: user 152 ms, sys: 23 ms, total: 175 ms\nWall time: 37.7 s\n"
     ]
    }
   ],
   "source": [
    "%%time\n",
    "# a smaller dataset to view inconsistencies in the data\n",
    "# are there duplicate addresses in this subset of data?\n",
    "# are the addresses accurate? \n",
    "\n",
    "# a copy() is used to avoid writing on the original dataframe\n",
    "js_ha = jersey_city[jersey_city.owners_name == 'HOUSING AUTHORITY OF JERSEY CITY'].copy()\n",
    "js_ha.reset_index(inplace=True, drop=True)\n",
    "js_ha['gcode'] = js_ha.property_full_address.apply(geolocator.geocode)"
   ]
  },
  {
   "cell_type": "code",
   "execution_count": 23,
   "metadata": {},
   "outputs": [
    {
     "output_type": "stream",
     "name": "stdout",
     "text": [
      "CPU times: user 572 ms, sys: 86 ms, total: 658 ms\nWall time: 2min 42s\n"
     ]
    }
   ],
   "source": [
    "%%time\n",
    "city_of_js = jersey_city[jersey_city.owners_name == 'CITY OF JERSEY CITY'].copy()\n",
    "city_of_js.reset_index(inplace=True, drop=True)\n",
    "city_of_js['gcode'] = city_of_js.property_full_address.apply(geolocator.geocode)"
   ]
  },
  {
   "cell_type": "code",
   "execution_count": 24,
   "metadata": {},
   "outputs": [
    {
     "output_type": "stream",
     "name": "stdout",
     "text": [
      "CPU times: user 886 ms, sys: 133 ms, total: 1.02 s\nWall time: 3min 54s\n"
     ]
    }
   ],
   "source": [
    "%%time\n",
    "urban_renewal = jersey_city[jersey_city.owners_name.str.contains('URBAN RENEWAL')].copy()\n",
    "urban_renewal.reset_index(inplace=True, drop=True)\n",
    "urban_renewal['gcode'] = urban_renewal.property_full_address.apply(geolocator.geocode)"
   ]
  },
  {
   "cell_type": "code",
   "execution_count": 26,
   "metadata": {},
   "outputs": [
    {
     "output_type": "execute_result",
     "data": {
      "text/plain": [
       "     Municipality    Block   Lot Qual    property_location Property Class  \\\n",
       "0             906    101.0   7.0   HM         SECAUCUS RD.            15C   \n",
       "1             906    201.0  13.0  NaN      929 SECAUCUS RD            15C   \n",
       "2             906    301.0  23.0  NaN     386 TERRACE AVE.            15C   \n",
       "3             906    303.0   1.0  NaN      191 NELSON AVE.            15C   \n",
       "4             906   1201.0  47.0  NaN     194 BLEECKER ST.            15C   \n",
       "..            ...      ...   ...  ...                  ...            ...   \n",
       "320           906  30305.0  25.0  NaN  35 LINDEN AVE. EAST            15C   \n",
       "321           906  30305.0  26.0  NaN   9 EAST LINDEN AVE.            15C   \n",
       "322           906  30305.0  27.0  NaN         CENTRAL R.R.            15C   \n",
       "323           906  30305.0  28.0  NaN    BROWN PL TO GATES            15C   \n",
       "324           906  30305.0  30.0  NaN   13 LINDEN AVE.EAST            15C   \n",
       "\n",
       "             owners_name owners_mailing_address            city_state_zip  \\\n",
       "0    CITY OF JERSEY CITY           280 GROVE ST    JERSEY CITY N J  07302   \n",
       "1    CITY OF JERSEY CITY           280 GROVE ST    JERSEY CITY N J  07302   \n",
       "2    CITY OF JERSEY CITY           280 GROVE ST    JERSEY CITY N J  07302   \n",
       "3    CITY OF JERSEY CITY          280 GROVE ST.    JERSEY CITY, NJ  07302   \n",
       "4    CITY OF JERSEY CITY           280 GROVE ST  JERSEY CITY, N.J.  07307   \n",
       "..                   ...                    ...                       ...   \n",
       "320  CITY OF JERSEY CITY          280 GROVE ST.    JERSEY CITY, NJ  07302   \n",
       "321  CITY OF JERSEY CITY       280 GROVE STREET    JERSEY CITY, NJ  07302   \n",
       "322  CITY OF JERSEY CITY          280 GROVE ST.    JERSEY CITY, NJ  07305   \n",
       "323  CITY OF JERSEY CITY           280 GROVE ST   JERSEY CITY, N J  07305   \n",
       "324  CITY OF JERSEY CITY       280 GROVE STREET    JERSEY CITY, NJ  07302   \n",
       "\n",
       "     Sq. Ft.  ...  Assessed.3 Latitude Longitude Neigh  VCS StyDesc Style  \\\n",
       "0          0  ...    239400.0        0         0   NaN  NaN     NaN   NaN   \n",
       "1          0  ...    403400.0        0         0   NaN  NaN     NaN   NaN   \n",
       "2          0  ...    567200.0        0         0   NaN  NaN     NaN   NaN   \n",
       "3          0  ...    323500.0        0         0   NaN  NaN     NaN   NaN   \n",
       "4          0  ...    289400.0        0         0   NaN  NaN     NaN   NaN   \n",
       "..       ...  ...         ...      ...       ...   ...  ...     ...   ...   \n",
       "320        0  ...   1851000.0        0         0   NaN  NaN     NaN   NaN   \n",
       "321        0  ...    638300.0        0         0   NaN  NaN     NaN   NaN   \n",
       "322        0  ...     45500.0        0         0   NaN  NaN     NaN   NaN   \n",
       "323        0  ...    143000.0        0         0   NaN  NaN     NaN   NaN   \n",
       "324        0  ...  17591600.0        0         0   NaN  NaN     NaN   NaN   \n",
       "\n",
       "     Unnamed: 90                       property_full_address  \\\n",
       "0            NaN         Secaucus Rd. Jersey City N J  07302   \n",
       "1            NaN      929 Secaucus Rd Jersey City N J  07302   \n",
       "2            NaN     386 Terrace Ave. Jersey City N J  07302   \n",
       "3            NaN      191 Nelson Ave. Jersey City, Nj  07302   \n",
       "4            NaN   194 Bleecker St. Jersey City, N.J.  07307   \n",
       "..           ...                                         ...   \n",
       "320          NaN  35 Linden Ave. East Jersey City, Nj  07302   \n",
       "321          NaN   9 East Linden Ave. Jersey City, Nj  07302   \n",
       "322          NaN         Central R.R. Jersey City, Nj  07305   \n",
       "323          NaN   Brown Pl To Gates Jersey City, N J  07305   \n",
       "324          NaN   13 Linden Ave.East Jersey City, Nj  07302   \n",
       "\n",
       "                                                 gcode  \n",
       "0    (Secaucus Road, Jersey City, Hudson County, Ne...  \n",
       "1    (Secaucus Road, Jersey City, Hudson County, Ne...  \n",
       "2    (386, Terrace Avenue, Jersey City, Hudson Coun...  \n",
       "3    (191, Nelson Avenue, Jersey City, Hudson Count...  \n",
       "4    (194, Bleecker Street, Jersey City, Hudson Cou...  \n",
       "..                                                 ...  \n",
       "320  (35, Linden Avenue East, Jersey City, Hudson C...  \n",
       "321  (9, Linden Avenue, Greenville, Jersey City, Hu...  \n",
       "322                                               None  \n",
       "323                                               None  \n",
       "324  (13, Linden Avenue East, Jersey City, Hudson C...  \n",
       "\n",
       "[325 rows x 93 columns]"
      ],
      "text/html": "<div>\n<style scoped>\n    .dataframe tbody tr th:only-of-type {\n        vertical-align: middle;\n    }\n\n    .dataframe tbody tr th {\n        vertical-align: top;\n    }\n\n    .dataframe thead th {\n        text-align: right;\n    }\n</style>\n<table border=\"1\" class=\"dataframe\">\n  <thead>\n    <tr style=\"text-align: right;\">\n      <th></th>\n      <th>Municipality</th>\n      <th>Block</th>\n      <th>Lot</th>\n      <th>Qual</th>\n      <th>property_location</th>\n      <th>Property Class</th>\n      <th>owners_name</th>\n      <th>owners_mailing_address</th>\n      <th>city_state_zip</th>\n      <th>Sq. Ft.</th>\n      <th>...</th>\n      <th>Assessed.3</th>\n      <th>Latitude</th>\n      <th>Longitude</th>\n      <th>Neigh</th>\n      <th>VCS</th>\n      <th>StyDesc</th>\n      <th>Style</th>\n      <th>Unnamed: 90</th>\n      <th>property_full_address</th>\n      <th>gcode</th>\n    </tr>\n  </thead>\n  <tbody>\n    <tr>\n      <th>0</th>\n      <td>906</td>\n      <td>101.0</td>\n      <td>7.0</td>\n      <td>HM</td>\n      <td>SECAUCUS RD.</td>\n      <td>15C</td>\n      <td>CITY OF JERSEY CITY</td>\n      <td>280 GROVE ST</td>\n      <td>JERSEY CITY N J  07302</td>\n      <td>0</td>\n      <td>...</td>\n      <td>239400.0</td>\n      <td>0</td>\n      <td>0</td>\n      <td>NaN</td>\n      <td>NaN</td>\n      <td>NaN</td>\n      <td>NaN</td>\n      <td>NaN</td>\n      <td>Secaucus Rd. Jersey City N J  07302</td>\n      <td>(Secaucus Road, Jersey City, Hudson County, Ne...</td>\n    </tr>\n    <tr>\n      <th>1</th>\n      <td>906</td>\n      <td>201.0</td>\n      <td>13.0</td>\n      <td>NaN</td>\n      <td>929 SECAUCUS RD</td>\n      <td>15C</td>\n      <td>CITY OF JERSEY CITY</td>\n      <td>280 GROVE ST</td>\n      <td>JERSEY CITY N J  07302</td>\n      <td>0</td>\n      <td>...</td>\n      <td>403400.0</td>\n      <td>0</td>\n      <td>0</td>\n      <td>NaN</td>\n      <td>NaN</td>\n      <td>NaN</td>\n      <td>NaN</td>\n      <td>NaN</td>\n      <td>929 Secaucus Rd Jersey City N J  07302</td>\n      <td>(Secaucus Road, Jersey City, Hudson County, Ne...</td>\n    </tr>\n    <tr>\n      <th>2</th>\n      <td>906</td>\n      <td>301.0</td>\n      <td>23.0</td>\n      <td>NaN</td>\n      <td>386 TERRACE AVE.</td>\n      <td>15C</td>\n      <td>CITY OF JERSEY CITY</td>\n      <td>280 GROVE ST</td>\n      <td>JERSEY CITY N J  07302</td>\n      <td>0</td>\n      <td>...</td>\n      <td>567200.0</td>\n      <td>0</td>\n      <td>0</td>\n      <td>NaN</td>\n      <td>NaN</td>\n      <td>NaN</td>\n      <td>NaN</td>\n      <td>NaN</td>\n      <td>386 Terrace Ave. Jersey City N J  07302</td>\n      <td>(386, Terrace Avenue, Jersey City, Hudson Coun...</td>\n    </tr>\n    <tr>\n      <th>3</th>\n      <td>906</td>\n      <td>303.0</td>\n      <td>1.0</td>\n      <td>NaN</td>\n      <td>191 NELSON AVE.</td>\n      <td>15C</td>\n      <td>CITY OF JERSEY CITY</td>\n      <td>280 GROVE ST.</td>\n      <td>JERSEY CITY, NJ  07302</td>\n      <td>0</td>\n      <td>...</td>\n      <td>323500.0</td>\n      <td>0</td>\n      <td>0</td>\n      <td>NaN</td>\n      <td>NaN</td>\n      <td>NaN</td>\n      <td>NaN</td>\n      <td>NaN</td>\n      <td>191 Nelson Ave. Jersey City, Nj  07302</td>\n      <td>(191, Nelson Avenue, Jersey City, Hudson Count...</td>\n    </tr>\n    <tr>\n      <th>4</th>\n      <td>906</td>\n      <td>1201.0</td>\n      <td>47.0</td>\n      <td>NaN</td>\n      <td>194 BLEECKER ST.</td>\n      <td>15C</td>\n      <td>CITY OF JERSEY CITY</td>\n      <td>280 GROVE ST</td>\n      <td>JERSEY CITY, N.J.  07307</td>\n      <td>0</td>\n      <td>...</td>\n      <td>289400.0</td>\n      <td>0</td>\n      <td>0</td>\n      <td>NaN</td>\n      <td>NaN</td>\n      <td>NaN</td>\n      <td>NaN</td>\n      <td>NaN</td>\n      <td>194 Bleecker St. Jersey City, N.J.  07307</td>\n      <td>(194, Bleecker Street, Jersey City, Hudson Cou...</td>\n    </tr>\n    <tr>\n      <th>...</th>\n      <td>...</td>\n      <td>...</td>\n      <td>...</td>\n      <td>...</td>\n      <td>...</td>\n      <td>...</td>\n      <td>...</td>\n      <td>...</td>\n      <td>...</td>\n      <td>...</td>\n      <td>...</td>\n      <td>...</td>\n      <td>...</td>\n      <td>...</td>\n      <td>...</td>\n      <td>...</td>\n      <td>...</td>\n      <td>...</td>\n      <td>...</td>\n      <td>...</td>\n      <td>...</td>\n    </tr>\n    <tr>\n      <th>320</th>\n      <td>906</td>\n      <td>30305.0</td>\n      <td>25.0</td>\n      <td>NaN</td>\n      <td>35 LINDEN AVE. EAST</td>\n      <td>15C</td>\n      <td>CITY OF JERSEY CITY</td>\n      <td>280 GROVE ST.</td>\n      <td>JERSEY CITY, NJ  07302</td>\n      <td>0</td>\n      <td>...</td>\n      <td>1851000.0</td>\n      <td>0</td>\n      <td>0</td>\n      <td>NaN</td>\n      <td>NaN</td>\n      <td>NaN</td>\n      <td>NaN</td>\n      <td>NaN</td>\n      <td>35 Linden Ave. East Jersey City, Nj  07302</td>\n      <td>(35, Linden Avenue East, Jersey City, Hudson C...</td>\n    </tr>\n    <tr>\n      <th>321</th>\n      <td>906</td>\n      <td>30305.0</td>\n      <td>26.0</td>\n      <td>NaN</td>\n      <td>9 EAST LINDEN AVE.</td>\n      <td>15C</td>\n      <td>CITY OF JERSEY CITY</td>\n      <td>280 GROVE STREET</td>\n      <td>JERSEY CITY, NJ  07302</td>\n      <td>0</td>\n      <td>...</td>\n      <td>638300.0</td>\n      <td>0</td>\n      <td>0</td>\n      <td>NaN</td>\n      <td>NaN</td>\n      <td>NaN</td>\n      <td>NaN</td>\n      <td>NaN</td>\n      <td>9 East Linden Ave. Jersey City, Nj  07302</td>\n      <td>(9, Linden Avenue, Greenville, Jersey City, Hu...</td>\n    </tr>\n    <tr>\n      <th>322</th>\n      <td>906</td>\n      <td>30305.0</td>\n      <td>27.0</td>\n      <td>NaN</td>\n      <td>CENTRAL R.R.</td>\n      <td>15C</td>\n      <td>CITY OF JERSEY CITY</td>\n      <td>280 GROVE ST.</td>\n      <td>JERSEY CITY, NJ  07305</td>\n      <td>0</td>\n      <td>...</td>\n      <td>45500.0</td>\n      <td>0</td>\n      <td>0</td>\n      <td>NaN</td>\n      <td>NaN</td>\n      <td>NaN</td>\n      <td>NaN</td>\n      <td>NaN</td>\n      <td>Central R.R. Jersey City, Nj  07305</td>\n      <td>None</td>\n    </tr>\n    <tr>\n      <th>323</th>\n      <td>906</td>\n      <td>30305.0</td>\n      <td>28.0</td>\n      <td>NaN</td>\n      <td>BROWN PL TO GATES</td>\n      <td>15C</td>\n      <td>CITY OF JERSEY CITY</td>\n      <td>280 GROVE ST</td>\n      <td>JERSEY CITY, N J  07305</td>\n      <td>0</td>\n      <td>...</td>\n      <td>143000.0</td>\n      <td>0</td>\n      <td>0</td>\n      <td>NaN</td>\n      <td>NaN</td>\n      <td>NaN</td>\n      <td>NaN</td>\n      <td>NaN</td>\n      <td>Brown Pl To Gates Jersey City, N J  07305</td>\n      <td>None</td>\n    </tr>\n    <tr>\n      <th>324</th>\n      <td>906</td>\n      <td>30305.0</td>\n      <td>30.0</td>\n      <td>NaN</td>\n      <td>13 LINDEN AVE.EAST</td>\n      <td>15C</td>\n      <td>CITY OF JERSEY CITY</td>\n      <td>280 GROVE STREET</td>\n      <td>JERSEY CITY, NJ  07302</td>\n      <td>0</td>\n      <td>...</td>\n      <td>17591600.0</td>\n      <td>0</td>\n      <td>0</td>\n      <td>NaN</td>\n      <td>NaN</td>\n      <td>NaN</td>\n      <td>NaN</td>\n      <td>NaN</td>\n      <td>13 Linden Ave.East Jersey City, Nj  07302</td>\n      <td>(13, Linden Avenue East, Jersey City, Hudson C...</td>\n    </tr>\n  </tbody>\n</table>\n<p>325 rows × 93 columns</p>\n</div>"
     },
     "metadata": {},
     "execution_count": 26
    }
   ],
   "source": [
    "city_of_js"
   ]
  },
  {
   "cell_type": "code",
   "execution_count": 27,
   "metadata": {},
   "outputs": [
    {
     "output_type": "execute_result",
     "data": {
      "text/plain": [
       "    Municipality    Block    Lot Qual   property_location Property Class  \\\n",
       "0            906   7101.0   1.00  NaN   235 SIXTEENTH ST.            15C   \n",
       "1            906   8301.0   1.00  NaN     514 NEWARK AVE.            15C   \n",
       "2            906  11304.0  15.00  NaN         88 ERIE ST.            15C   \n",
       "3            906  11703.0   2.00  NaN       57 DALES AVE.            15A   \n",
       "4            906  13602.0   1.02  NaN  547 MONTGOMERY ST.              1   \n",
       "..           ...      ...    ...  ...                 ...            ...   \n",
       "69           906  28801.0   3.00  NaN       71 CATOR AVE.            15C   \n",
       "70           906  28801.0  21.00  NaN    72 DANFORTH AVE.            15C   \n",
       "71           906  28801.0  22.00  NaN    82 DANFORTH AVE.            15C   \n",
       "72           906  29902.0  45.00  NaN   15 OLD BERGEN RD.            15C   \n",
       "73           906  30201.0   1.00  NaN      61 MERRITT ST.            15C   \n",
       "\n",
       "                         owners_name owners_mailing_address  \\\n",
       "0   HOUSING AUTHORITY OF JERSEY CITY      514 NEWARK AVENUE   \n",
       "1   HOUSING AUTHORITY OF JERSEY CITY      514 NEWARK AVENUE   \n",
       "2   HOUSING AUTHORITY OF JERSEY CITY    400 U.S. HIGHWAY #1   \n",
       "3   HOUSING AUTHORITY OF JERSEY CITY            400 ROUTE 1   \n",
       "4   HOUSING AUTHORITY OF JERSEY CITY         P.O. BOX 90708   \n",
       "..                               ...                    ...   \n",
       "69  HOUSING AUTHORITY OF JERSEY CITY    400 U.S. HIGHWAY #1   \n",
       "70  HOUSING AUTHORITY OF JERSEY CITY    400 U.S. HIGHWAY #1   \n",
       "71  HOUSING AUTHORITY OF JERSEY CITY    400 U.S. HIGHWAY #1   \n",
       "72  HOUSING AUTHORITY OF JERSEY CITY    400 U.S. HIGHWAY #1   \n",
       "73  HOUSING AUTHORITY OF JERSEY CITY       400 US HIGHWAY 1   \n",
       "\n",
       "            city_state_zip  Sq. Ft.  ...  Assessed.3 Latitude Longitude Neigh  \\\n",
       "0   JERSEY CITY, NJ  07306        0  ...  33056100.0        0         0   NaN   \n",
       "1   JERSEY CITY, NJ  07306        0  ...  20199600.0        0         0   NaN   \n",
       "2   JERSEY CITY, NJ  07306        0  ...   8320900.0        0         0   NaN   \n",
       "3   JERSEY CITY, NJ  07306        0  ...  45160600.0        0         0   NaN   \n",
       "4        CAMDEN, NJ  08101        0  ...   4235000.0        0         0   NaN   \n",
       "..                     ...      ...  ...         ...      ...       ...   ...   \n",
       "69  JERSEY CITY, NJ  07306        0  ...    475600.0        0         0   NaN   \n",
       "70  JERSEY CITY, NJ  07306        0  ...   2499700.0        0         0   NaN   \n",
       "71  JERSEY CITY, NJ  07306        0  ...   4214200.0        0         0   NaN   \n",
       "72  JERSEY CITY, NJ  07306        0  ...    255800.0        0         0   NaN   \n",
       "73  JERSEY CITY, NJ  07306        0  ...  79682600.0        0         0   NaN   \n",
       "\n",
       "    VCS StyDesc Style  Unnamed: 90                     property_full_address  \\\n",
       "0   NaN     NaN   NaN          NaN  235 Sixteenth St. Jersey City, Nj  07306   \n",
       "1   NaN     NaN   NaN          NaN    514 Newark Ave. Jersey City, Nj  07306   \n",
       "2   NaN     NaN   NaN          NaN        88 Erie St. Jersey City, Nj  07306   \n",
       "3   NaN     NaN   NaN          NaN      57 Dales Ave. Jersey City, Nj  07306   \n",
       "4   NaN     NaN   NaN          NaN      547 Montgomery St. Camden, Nj  08101   \n",
       "..  ...     ...   ...          ...                                       ...   \n",
       "69  NaN     NaN   NaN          NaN      71 Cator Ave. Jersey City, Nj  07306   \n",
       "70  NaN     NaN   NaN          NaN   72 Danforth Ave. Jersey City, Nj  07306   \n",
       "71  NaN     NaN   NaN          NaN   82 Danforth Ave. Jersey City, Nj  07306   \n",
       "72  NaN     NaN   NaN          NaN  15 Old Bergen Rd. Jersey City, Nj  07306   \n",
       "73  NaN     NaN   NaN          NaN     61 Merritt St. Jersey City, Nj  07306   \n",
       "\n",
       "                                                gcode  \n",
       "0                                                None  \n",
       "1   (514, Newark Avenue, Jersey City, Hudson Count...  \n",
       "2   (88, Erie Street, Newport, Jersey City, Hudson...  \n",
       "3   (57, Dales Avenue, Marion, Jersey City, Hudson...  \n",
       "4                                                None  \n",
       "..                                                ...  \n",
       "69  (71, Cator Avenue, Greenville, Jersey City, Hu...  \n",
       "70  (72, Danforth Avenue, Greenville, Jersey City,...  \n",
       "71  (82, Danforth Avenue, Greenville, Jersey City,...  \n",
       "72  (15, Old Bergen Road, Jersey City, Hudson Coun...  \n",
       "73  (Merritt Street, Jersey City, Hudson County, N...  \n",
       "\n",
       "[74 rows x 93 columns]"
      ],
      "text/html": "<div>\n<style scoped>\n    .dataframe tbody tr th:only-of-type {\n        vertical-align: middle;\n    }\n\n    .dataframe tbody tr th {\n        vertical-align: top;\n    }\n\n    .dataframe thead th {\n        text-align: right;\n    }\n</style>\n<table border=\"1\" class=\"dataframe\">\n  <thead>\n    <tr style=\"text-align: right;\">\n      <th></th>\n      <th>Municipality</th>\n      <th>Block</th>\n      <th>Lot</th>\n      <th>Qual</th>\n      <th>property_location</th>\n      <th>Property Class</th>\n      <th>owners_name</th>\n      <th>owners_mailing_address</th>\n      <th>city_state_zip</th>\n      <th>Sq. Ft.</th>\n      <th>...</th>\n      <th>Assessed.3</th>\n      <th>Latitude</th>\n      <th>Longitude</th>\n      <th>Neigh</th>\n      <th>VCS</th>\n      <th>StyDesc</th>\n      <th>Style</th>\n      <th>Unnamed: 90</th>\n      <th>property_full_address</th>\n      <th>gcode</th>\n    </tr>\n  </thead>\n  <tbody>\n    <tr>\n      <th>0</th>\n      <td>906</td>\n      <td>7101.0</td>\n      <td>1.00</td>\n      <td>NaN</td>\n      <td>235 SIXTEENTH ST.</td>\n      <td>15C</td>\n      <td>HOUSING AUTHORITY OF JERSEY CITY</td>\n      <td>514 NEWARK AVENUE</td>\n      <td>JERSEY CITY, NJ  07306</td>\n      <td>0</td>\n      <td>...</td>\n      <td>33056100.0</td>\n      <td>0</td>\n      <td>0</td>\n      <td>NaN</td>\n      <td>NaN</td>\n      <td>NaN</td>\n      <td>NaN</td>\n      <td>NaN</td>\n      <td>235 Sixteenth St. Jersey City, Nj  07306</td>\n      <td>None</td>\n    </tr>\n    <tr>\n      <th>1</th>\n      <td>906</td>\n      <td>8301.0</td>\n      <td>1.00</td>\n      <td>NaN</td>\n      <td>514 NEWARK AVE.</td>\n      <td>15C</td>\n      <td>HOUSING AUTHORITY OF JERSEY CITY</td>\n      <td>514 NEWARK AVENUE</td>\n      <td>JERSEY CITY, NJ  07306</td>\n      <td>0</td>\n      <td>...</td>\n      <td>20199600.0</td>\n      <td>0</td>\n      <td>0</td>\n      <td>NaN</td>\n      <td>NaN</td>\n      <td>NaN</td>\n      <td>NaN</td>\n      <td>NaN</td>\n      <td>514 Newark Ave. Jersey City, Nj  07306</td>\n      <td>(514, Newark Avenue, Jersey City, Hudson Count...</td>\n    </tr>\n    <tr>\n      <th>2</th>\n      <td>906</td>\n      <td>11304.0</td>\n      <td>15.00</td>\n      <td>NaN</td>\n      <td>88 ERIE ST.</td>\n      <td>15C</td>\n      <td>HOUSING AUTHORITY OF JERSEY CITY</td>\n      <td>400 U.S. HIGHWAY #1</td>\n      <td>JERSEY CITY, NJ  07306</td>\n      <td>0</td>\n      <td>...</td>\n      <td>8320900.0</td>\n      <td>0</td>\n      <td>0</td>\n      <td>NaN</td>\n      <td>NaN</td>\n      <td>NaN</td>\n      <td>NaN</td>\n      <td>NaN</td>\n      <td>88 Erie St. Jersey City, Nj  07306</td>\n      <td>(88, Erie Street, Newport, Jersey City, Hudson...</td>\n    </tr>\n    <tr>\n      <th>3</th>\n      <td>906</td>\n      <td>11703.0</td>\n      <td>2.00</td>\n      <td>NaN</td>\n      <td>57 DALES AVE.</td>\n      <td>15A</td>\n      <td>HOUSING AUTHORITY OF JERSEY CITY</td>\n      <td>400 ROUTE 1</td>\n      <td>JERSEY CITY, NJ  07306</td>\n      <td>0</td>\n      <td>...</td>\n      <td>45160600.0</td>\n      <td>0</td>\n      <td>0</td>\n      <td>NaN</td>\n      <td>NaN</td>\n      <td>NaN</td>\n      <td>NaN</td>\n      <td>NaN</td>\n      <td>57 Dales Ave. Jersey City, Nj  07306</td>\n      <td>(57, Dales Avenue, Marion, Jersey City, Hudson...</td>\n    </tr>\n    <tr>\n      <th>4</th>\n      <td>906</td>\n      <td>13602.0</td>\n      <td>1.02</td>\n      <td>NaN</td>\n      <td>547 MONTGOMERY ST.</td>\n      <td>1</td>\n      <td>HOUSING AUTHORITY OF JERSEY CITY</td>\n      <td>P.O. BOX 90708</td>\n      <td>CAMDEN, NJ  08101</td>\n      <td>0</td>\n      <td>...</td>\n      <td>4235000.0</td>\n      <td>0</td>\n      <td>0</td>\n      <td>NaN</td>\n      <td>NaN</td>\n      <td>NaN</td>\n      <td>NaN</td>\n      <td>NaN</td>\n      <td>547 Montgomery St. Camden, Nj  08101</td>\n      <td>None</td>\n    </tr>\n    <tr>\n      <th>...</th>\n      <td>...</td>\n      <td>...</td>\n      <td>...</td>\n      <td>...</td>\n      <td>...</td>\n      <td>...</td>\n      <td>...</td>\n      <td>...</td>\n      <td>...</td>\n      <td>...</td>\n      <td>...</td>\n      <td>...</td>\n      <td>...</td>\n      <td>...</td>\n      <td>...</td>\n      <td>...</td>\n      <td>...</td>\n      <td>...</td>\n      <td>...</td>\n      <td>...</td>\n      <td>...</td>\n    </tr>\n    <tr>\n      <th>69</th>\n      <td>906</td>\n      <td>28801.0</td>\n      <td>3.00</td>\n      <td>NaN</td>\n      <td>71 CATOR AVE.</td>\n      <td>15C</td>\n      <td>HOUSING AUTHORITY OF JERSEY CITY</td>\n      <td>400 U.S. HIGHWAY #1</td>\n      <td>JERSEY CITY, NJ  07306</td>\n      <td>0</td>\n      <td>...</td>\n      <td>475600.0</td>\n      <td>0</td>\n      <td>0</td>\n      <td>NaN</td>\n      <td>NaN</td>\n      <td>NaN</td>\n      <td>NaN</td>\n      <td>NaN</td>\n      <td>71 Cator Ave. Jersey City, Nj  07306</td>\n      <td>(71, Cator Avenue, Greenville, Jersey City, Hu...</td>\n    </tr>\n    <tr>\n      <th>70</th>\n      <td>906</td>\n      <td>28801.0</td>\n      <td>21.00</td>\n      <td>NaN</td>\n      <td>72 DANFORTH AVE.</td>\n      <td>15C</td>\n      <td>HOUSING AUTHORITY OF JERSEY CITY</td>\n      <td>400 U.S. HIGHWAY #1</td>\n      <td>JERSEY CITY, NJ  07306</td>\n      <td>0</td>\n      <td>...</td>\n      <td>2499700.0</td>\n      <td>0</td>\n      <td>0</td>\n      <td>NaN</td>\n      <td>NaN</td>\n      <td>NaN</td>\n      <td>NaN</td>\n      <td>NaN</td>\n      <td>72 Danforth Ave. Jersey City, Nj  07306</td>\n      <td>(72, Danforth Avenue, Greenville, Jersey City,...</td>\n    </tr>\n    <tr>\n      <th>71</th>\n      <td>906</td>\n      <td>28801.0</td>\n      <td>22.00</td>\n      <td>NaN</td>\n      <td>82 DANFORTH AVE.</td>\n      <td>15C</td>\n      <td>HOUSING AUTHORITY OF JERSEY CITY</td>\n      <td>400 U.S. HIGHWAY #1</td>\n      <td>JERSEY CITY, NJ  07306</td>\n      <td>0</td>\n      <td>...</td>\n      <td>4214200.0</td>\n      <td>0</td>\n      <td>0</td>\n      <td>NaN</td>\n      <td>NaN</td>\n      <td>NaN</td>\n      <td>NaN</td>\n      <td>NaN</td>\n      <td>82 Danforth Ave. Jersey City, Nj  07306</td>\n      <td>(82, Danforth Avenue, Greenville, Jersey City,...</td>\n    </tr>\n    <tr>\n      <th>72</th>\n      <td>906</td>\n      <td>29902.0</td>\n      <td>45.00</td>\n      <td>NaN</td>\n      <td>15 OLD BERGEN RD.</td>\n      <td>15C</td>\n      <td>HOUSING AUTHORITY OF JERSEY CITY</td>\n      <td>400 U.S. HIGHWAY #1</td>\n      <td>JERSEY CITY, NJ  07306</td>\n      <td>0</td>\n      <td>...</td>\n      <td>255800.0</td>\n      <td>0</td>\n      <td>0</td>\n      <td>NaN</td>\n      <td>NaN</td>\n      <td>NaN</td>\n      <td>NaN</td>\n      <td>NaN</td>\n      <td>15 Old Bergen Rd. Jersey City, Nj  07306</td>\n      <td>(15, Old Bergen Road, Jersey City, Hudson Coun...</td>\n    </tr>\n    <tr>\n      <th>73</th>\n      <td>906</td>\n      <td>30201.0</td>\n      <td>1.00</td>\n      <td>NaN</td>\n      <td>61 MERRITT ST.</td>\n      <td>15C</td>\n      <td>HOUSING AUTHORITY OF JERSEY CITY</td>\n      <td>400 US HIGHWAY 1</td>\n      <td>JERSEY CITY, NJ  07306</td>\n      <td>0</td>\n      <td>...</td>\n      <td>79682600.0</td>\n      <td>0</td>\n      <td>0</td>\n      <td>NaN</td>\n      <td>NaN</td>\n      <td>NaN</td>\n      <td>NaN</td>\n      <td>NaN</td>\n      <td>61 Merritt St. Jersey City, Nj  07306</td>\n      <td>(Merritt Street, Jersey City, Hudson County, N...</td>\n    </tr>\n  </tbody>\n</table>\n<p>74 rows × 93 columns</p>\n</div>"
     },
     "metadata": {},
     "execution_count": 27
    }
   ],
   "source": [
    "js_ha"
   ]
  },
  {
   "cell_type": "code",
   "execution_count": 28,
   "metadata": {},
   "outputs": [],
   "source": [
    "# for now, we'll drop the None values in the gcode column to make our lives easier \n",
    "# this does not however solve the issue of duplicate values in that column\n",
    "js_ha.dropna(axis=0, subset=['gcode'], inplace=True)\n",
    "city_of_js.dropna(axis=0, subset=['gcode'], inplace=True)\n",
    "urban_renewal.dropna(axis=0, subset=['gcode'], inplace=True)"
   ]
  },
  {
   "cell_type": "code",
   "execution_count": 29,
   "metadata": {},
   "outputs": [],
   "source": [
    "# since the dataframe already contains Latitude and Longitude columns, we can write to them directly\n",
    "js_ha['Latitude'] = [g.latitude for g in js_ha.gcode]\n",
    "js_ha['Longitude'] = [g.longitude for g in js_ha.gcode]\n",
    "\n",
    "city_of_js['Latitude'] = [g.latitude for g in city_of_js.gcode]\n",
    "city_of_js['Longitude'] = [g.longitude for g in city_of_js.gcode]\n",
    "\n",
    "urban_renewal['Latitude'] = [g.latitude for g in urban_renewal.gcode]\n",
    "urban_renewal['Longitude'] = [g.longitude for g in urban_renewal.gcode]"
   ]
  },
  {
   "cell_type": "code",
   "execution_count": 30,
   "metadata": {},
   "outputs": [],
   "source": [
    "# a less tedious way to execute this might be drop ranges of columns instead of doing it all manually\n",
    "js_ha.drop(columns=['Municipality', \n",
    "                    'Block', \n",
    "                    'Lot', \n",
    "                    'Qual', \n",
    "                    'Property Class', \n",
    "                    'Sq. Ft.', \n",
    "                    'Building Class', \n",
    "                    'Prior Block', \n",
    "                    'Prior Lot', \n",
    "                    'Prior Qual', \n",
    "                    'Updated', \n",
    "                    'Zone', \n",
    "                    'Account', \n",
    "                    'Mortgage Account', \n",
    "                    'Bank Code', \n",
    "                    'Sp Tax Cd', \n",
    "                    'Sp Tax Cd.1', \n",
    "                    'Sp Tax Cd.2', \n",
    "                    'Sp Tax Cd.3', \n",
    "                    'Map Page',\n",
    "                    'Additional Lots', \n",
    "                    'Land Desc', \n",
    "                    'Building Desc', \n",
    "                    'Class 4 Code', \n",
    "                    'Acreage', \n",
    "                    'EPL Own', \n",
    "                    'EPL Use', \n",
    "                    'EPL Desc', \n",
    "                    'EPL Statute', \n",
    "                    'EPL Init', \n",
    "                    'EPL Further', \n",
    "                    'EPL Facility Name', \n",
    "                    'Taxes 1', \n",
    "                    'Taxes 2', \n",
    "                    'Taxes 3', \n",
    "                    'Taxes 4', \n",
    "                    'Sale Date', \n",
    "                    'Deed Book', \n",
    "                    'Deed Page', \n",
    "                    'Sale Price', \n",
    "                    'NU Code', \n",
    "                    'Ratio', \n",
    "                    'Type/Use', \n",
    "                    'Year', \n",
    "                    'Owner', \n",
    "                    'Street', \n",
    "                    'City/State/Zip.1',\n",
    "                    'Land Assmnt', \n",
    "                    'Building Assmnt', \n",
    "                    'Exempt', \n",
    "                    'Total Assmnt', \n",
    "                    'Assessed',\n",
    "                    'Year.1', \n",
    "                    'Owner.1', \n",
    "                    'Street.1', \n",
    "                    'City/State/Zip.2', \n",
    "                    'Land Assmnt.1',\n",
    "                    'Building Assmnt.1', \n",
    "                    'Exempt.1', \n",
    "                    'Total Assmnt.1', \n",
    "                    'Assessed.1',\n",
    "                    'Year.2', \n",
    "                    'Owner.2', \n",
    "                    'Street.2', \n",
    "                    'City/State/Zip.3', \n",
    "                    'Land Assmnt.2',\n",
    "                    'Building Assmnt.2', \n",
    "                    'Exempt.2', \n",
    "                    'Total Assmnt.2', \n",
    "                    'Assessed.2',\n",
    "                    'Year.3', \n",
    "                    'Owner.3', \n",
    "                    'Street.3', \n",
    "                    'City/State/Zip.4', \n",
    "                    'Land Assmnt.3',\n",
    "                    'Building Assmnt.3', \n",
    "                    'Exempt.3', \n",
    "                    'Total Assmnt.3', \n",
    "                    'Assessed.3', \n",
    "                    'Neigh', \n",
    "                    'VCS', \n",
    "                    'StyDesc', \n",
    "                    'Style',\n",
    "                    'Unnamed: 90'], inplace=True) "
   ]
  },
  {
   "cell_type": "code",
   "execution_count": 31,
   "metadata": {},
   "outputs": [],
   "source": [
    "# a less tedious way to execute this might be drop ranges of columns instead of doing it all manually\n",
    "city_of_js.drop(columns=['Municipality', \n",
    "                    'Block', \n",
    "                    'Lot', \n",
    "                    'Qual', \n",
    "                    'Property Class', \n",
    "                    'Sq. Ft.', \n",
    "                    'Building Class', \n",
    "                    'Prior Block', \n",
    "                    'Prior Lot', \n",
    "                    'Prior Qual', \n",
    "                    'Updated', \n",
    "                    'Zone', \n",
    "                    'Account', \n",
    "                    'Mortgage Account', \n",
    "                    'Bank Code', \n",
    "                    'Sp Tax Cd', \n",
    "                    'Sp Tax Cd.1', \n",
    "                    'Sp Tax Cd.2', \n",
    "                    'Sp Tax Cd.3', \n",
    "                    'Map Page',\n",
    "                    'Additional Lots', \n",
    "                    'Land Desc', \n",
    "                    'Building Desc', \n",
    "                    'Class 4 Code', \n",
    "                    'Acreage', \n",
    "                    'EPL Own', \n",
    "                    'EPL Use', \n",
    "                    'EPL Desc', \n",
    "                    'EPL Statute', \n",
    "                    'EPL Init', \n",
    "                    'EPL Further', \n",
    "                    'EPL Facility Name', \n",
    "                    'Taxes 1', \n",
    "                    'Taxes 2', \n",
    "                    'Taxes 3', \n",
    "                    'Taxes 4', \n",
    "                    'Sale Date', \n",
    "                    'Deed Book', \n",
    "                    'Deed Page', \n",
    "                    'Sale Price', \n",
    "                    'NU Code', \n",
    "                    'Ratio', \n",
    "                    'Type/Use', \n",
    "                    'Year', \n",
    "                    'Owner', \n",
    "                    'Street', \n",
    "                    'City/State/Zip.1',\n",
    "                    'Land Assmnt', \n",
    "                    'Building Assmnt', \n",
    "                    'Exempt', \n",
    "                    'Total Assmnt', \n",
    "                    'Assessed',\n",
    "                    'Year.1', \n",
    "                    'Owner.1', \n",
    "                    'Street.1', \n",
    "                    'City/State/Zip.2', \n",
    "                    'Land Assmnt.1',\n",
    "                    'Building Assmnt.1', \n",
    "                    'Exempt.1', \n",
    "                    'Total Assmnt.1', \n",
    "                    'Assessed.1',\n",
    "                    'Year.2', \n",
    "                    'Owner.2', \n",
    "                    'Street.2', \n",
    "                    'City/State/Zip.3', \n",
    "                    'Land Assmnt.2',\n",
    "                    'Building Assmnt.2', \n",
    "                    'Exempt.2', \n",
    "                    'Total Assmnt.2', \n",
    "                    'Assessed.2',\n",
    "                    'Year.3', \n",
    "                    'Owner.3', \n",
    "                    'Street.3', \n",
    "                    'City/State/Zip.4', \n",
    "                    'Land Assmnt.3',\n",
    "                    'Building Assmnt.3', \n",
    "                    'Exempt.3', \n",
    "                    'Total Assmnt.3', \n",
    "                    'Assessed.3', \n",
    "                    'Neigh', \n",
    "                    'VCS', \n",
    "                    'StyDesc', \n",
    "                    'Style',\n",
    "                    'Unnamed: 90'], inplace=True) "
   ]
  },
  {
   "cell_type": "code",
   "execution_count": 32,
   "metadata": {},
   "outputs": [],
   "source": [
    "urban_renewal.drop(columns=['Municipality', \n",
    "                    'Block', \n",
    "                    'Lot', \n",
    "                    'Qual', \n",
    "                    'Property Class', \n",
    "                    'Sq. Ft.', \n",
    "                    'Building Class', \n",
    "                    'Prior Block', \n",
    "                    'Prior Lot', \n",
    "                    'Prior Qual', \n",
    "                    'Updated', \n",
    "                    'Zone', \n",
    "                    'Account', \n",
    "                    'Mortgage Account', \n",
    "                    'Bank Code', \n",
    "                    'Sp Tax Cd', \n",
    "                    'Sp Tax Cd.1', \n",
    "                    'Sp Tax Cd.2', \n",
    "                    'Sp Tax Cd.3', \n",
    "                    'Map Page',\n",
    "                    'Additional Lots', \n",
    "                    'Land Desc', \n",
    "                    'Building Desc', \n",
    "                    'Class 4 Code', \n",
    "                    'Acreage', \n",
    "                    'EPL Own', \n",
    "                    'EPL Use', \n",
    "                    'EPL Desc', \n",
    "                    'EPL Statute', \n",
    "                    'EPL Init', \n",
    "                    'EPL Further', \n",
    "                    'EPL Facility Name', \n",
    "                    'Taxes 1', \n",
    "                    'Taxes 2', \n",
    "                    'Taxes 3', \n",
    "                    'Taxes 4', \n",
    "                    'Sale Date', \n",
    "                    'Deed Book', \n",
    "                    'Deed Page', \n",
    "                    'Sale Price', \n",
    "                    'NU Code', \n",
    "                    'Ratio', \n",
    "                    'Type/Use', \n",
    "                    'Year', \n",
    "                    'Owner', \n",
    "                    'Street', \n",
    "                    'City/State/Zip.1',\n",
    "                    'Land Assmnt', \n",
    "                    'Building Assmnt', \n",
    "                    'Exempt', \n",
    "                    'Total Assmnt', \n",
    "                    'Assessed',\n",
    "                    'Year.1', \n",
    "                    'Owner.1', \n",
    "                    'Street.1', \n",
    "                    'City/State/Zip.2', \n",
    "                    'Land Assmnt.1',\n",
    "                    'Building Assmnt.1', \n",
    "                    'Exempt.1', \n",
    "                    'Total Assmnt.1', \n",
    "                    'Assessed.1',\n",
    "                    'Year.2', \n",
    "                    'Owner.2', \n",
    "                    'Street.2', \n",
    "                    'City/State/Zip.3', \n",
    "                    'Land Assmnt.2',\n",
    "                    'Building Assmnt.2', \n",
    "                    'Exempt.2', \n",
    "                    'Total Assmnt.2', \n",
    "                    'Assessed.2',\n",
    "                    'Year.3', \n",
    "                    'Owner.3', \n",
    "                    'Street.3', \n",
    "                    'City/State/Zip.4', \n",
    "                    'Land Assmnt.3',\n",
    "                    'Building Assmnt.3', \n",
    "                    'Exempt.3', \n",
    "                    'Total Assmnt.3', \n",
    "                    'Assessed.3', \n",
    "                    'Neigh', \n",
    "                    'VCS', \n",
    "                    'StyDesc', \n",
    "                    'Style',\n",
    "                    'Unnamed: 90'], inplace=True) "
   ]
  },
  {
   "cell_type": "code",
   "execution_count": 33,
   "metadata": {},
   "outputs": [
    {
     "output_type": "execute_result",
     "data": {
      "text/plain": [
       "       property_location          owners_name owners_mailing_address  \\\n",
       "0           SECAUCUS RD.  CITY OF JERSEY CITY           280 GROVE ST   \n",
       "1        929 SECAUCUS RD  CITY OF JERSEY CITY           280 GROVE ST   \n",
       "2       386 TERRACE AVE.  CITY OF JERSEY CITY           280 GROVE ST   \n",
       "3        191 NELSON AVE.  CITY OF JERSEY CITY          280 GROVE ST.   \n",
       "4       194 BLEECKER ST.  CITY OF JERSEY CITY           280 GROVE ST   \n",
       "..                   ...                  ...                    ...   \n",
       "317        PRINCETON AVE  CITY OF JERSEY CITY           280 GROVE ST   \n",
       "319    15 E. LINDEN AVE.  CITY OF JERSEY CITY       280 GROVE STREET   \n",
       "320  35 LINDEN AVE. EAST  CITY OF JERSEY CITY          280 GROVE ST.   \n",
       "321   9 EAST LINDEN AVE.  CITY OF JERSEY CITY       280 GROVE STREET   \n",
       "324   13 LINDEN AVE.EAST  CITY OF JERSEY CITY       280 GROVE STREET   \n",
       "\n",
       "               city_state_zip  Yr. Built   Latitude  Longitude  \\\n",
       "0      JERSEY CITY N J  07302        NaN  40.759108 -74.049506   \n",
       "1      JERSEY CITY N J  07302        NaN  40.759108 -74.049506   \n",
       "2      JERSEY CITY N J  07302        NaN  40.758846 -74.051694   \n",
       "3      JERSEY CITY, NJ  07302        NaN  40.758234 -74.049186   \n",
       "4    JERSEY CITY, N.J.  07307        NaN  40.753281 -74.055391   \n",
       "..                        ...        ...        ...        ...   \n",
       "317    JERSEY CITY N J  07302        NaN  40.692029 -74.088734   \n",
       "319    JERSEY CITY, NJ  07302     1959.0  40.692343 -74.089259   \n",
       "320    JERSEY CITY, NJ  07302        NaN  40.691042 -74.087948   \n",
       "321    JERSEY CITY, NJ  07302        1.0  40.692201 -74.089141   \n",
       "324    JERSEY CITY, NJ  07302     1962.0  40.691287 -74.088132   \n",
       "\n",
       "                          property_full_address  \\\n",
       "0           Secaucus Rd. Jersey City N J  07302   \n",
       "1        929 Secaucus Rd Jersey City N J  07302   \n",
       "2       386 Terrace Ave. Jersey City N J  07302   \n",
       "3        191 Nelson Ave. Jersey City, Nj  07302   \n",
       "4     194 Bleecker St. Jersey City, N.J.  07307   \n",
       "..                                          ...   \n",
       "317        Princeton Ave Jersey City N J  07302   \n",
       "319    15 E. Linden Ave. Jersey City, Nj  07302   \n",
       "320  35 Linden Ave. East Jersey City, Nj  07302   \n",
       "321   9 East Linden Ave. Jersey City, Nj  07302   \n",
       "324   13 Linden Ave.East Jersey City, Nj  07302   \n",
       "\n",
       "                                                 gcode  \n",
       "0    (Secaucus Road, Jersey City, Hudson County, Ne...  \n",
       "1    (Secaucus Road, Jersey City, Hudson County, Ne...  \n",
       "2    (386, Terrace Avenue, Jersey City, Hudson Coun...  \n",
       "3    (191, Nelson Avenue, Jersey City, Hudson Count...  \n",
       "4    (194, Bleecker Street, Jersey City, Hudson Cou...  \n",
       "..                                                 ...  \n",
       "317  (Princeton Avenue, Jersey City, Hudson County,...  \n",
       "319  (15, Linden Avenue, Greenville, Jersey City, H...  \n",
       "320  (35, Linden Avenue East, Jersey City, Hudson C...  \n",
       "321  (9, Linden Avenue, Greenville, Jersey City, Hu...  \n",
       "324  (13, Linden Avenue East, Jersey City, Hudson C...  \n",
       "\n",
       "[252 rows x 9 columns]"
      ],
      "text/html": "<div>\n<style scoped>\n    .dataframe tbody tr th:only-of-type {\n        vertical-align: middle;\n    }\n\n    .dataframe tbody tr th {\n        vertical-align: top;\n    }\n\n    .dataframe thead th {\n        text-align: right;\n    }\n</style>\n<table border=\"1\" class=\"dataframe\">\n  <thead>\n    <tr style=\"text-align: right;\">\n      <th></th>\n      <th>property_location</th>\n      <th>owners_name</th>\n      <th>owners_mailing_address</th>\n      <th>city_state_zip</th>\n      <th>Yr. Built</th>\n      <th>Latitude</th>\n      <th>Longitude</th>\n      <th>property_full_address</th>\n      <th>gcode</th>\n    </tr>\n  </thead>\n  <tbody>\n    <tr>\n      <th>0</th>\n      <td>SECAUCUS RD.</td>\n      <td>CITY OF JERSEY CITY</td>\n      <td>280 GROVE ST</td>\n      <td>JERSEY CITY N J  07302</td>\n      <td>NaN</td>\n      <td>40.759108</td>\n      <td>-74.049506</td>\n      <td>Secaucus Rd. Jersey City N J  07302</td>\n      <td>(Secaucus Road, Jersey City, Hudson County, Ne...</td>\n    </tr>\n    <tr>\n      <th>1</th>\n      <td>929 SECAUCUS RD</td>\n      <td>CITY OF JERSEY CITY</td>\n      <td>280 GROVE ST</td>\n      <td>JERSEY CITY N J  07302</td>\n      <td>NaN</td>\n      <td>40.759108</td>\n      <td>-74.049506</td>\n      <td>929 Secaucus Rd Jersey City N J  07302</td>\n      <td>(Secaucus Road, Jersey City, Hudson County, Ne...</td>\n    </tr>\n    <tr>\n      <th>2</th>\n      <td>386 TERRACE AVE.</td>\n      <td>CITY OF JERSEY CITY</td>\n      <td>280 GROVE ST</td>\n      <td>JERSEY CITY N J  07302</td>\n      <td>NaN</td>\n      <td>40.758846</td>\n      <td>-74.051694</td>\n      <td>386 Terrace Ave. Jersey City N J  07302</td>\n      <td>(386, Terrace Avenue, Jersey City, Hudson Coun...</td>\n    </tr>\n    <tr>\n      <th>3</th>\n      <td>191 NELSON AVE.</td>\n      <td>CITY OF JERSEY CITY</td>\n      <td>280 GROVE ST.</td>\n      <td>JERSEY CITY, NJ  07302</td>\n      <td>NaN</td>\n      <td>40.758234</td>\n      <td>-74.049186</td>\n      <td>191 Nelson Ave. Jersey City, Nj  07302</td>\n      <td>(191, Nelson Avenue, Jersey City, Hudson Count...</td>\n    </tr>\n    <tr>\n      <th>4</th>\n      <td>194 BLEECKER ST.</td>\n      <td>CITY OF JERSEY CITY</td>\n      <td>280 GROVE ST</td>\n      <td>JERSEY CITY, N.J.  07307</td>\n      <td>NaN</td>\n      <td>40.753281</td>\n      <td>-74.055391</td>\n      <td>194 Bleecker St. Jersey City, N.J.  07307</td>\n      <td>(194, Bleecker Street, Jersey City, Hudson Cou...</td>\n    </tr>\n    <tr>\n      <th>...</th>\n      <td>...</td>\n      <td>...</td>\n      <td>...</td>\n      <td>...</td>\n      <td>...</td>\n      <td>...</td>\n      <td>...</td>\n      <td>...</td>\n      <td>...</td>\n    </tr>\n    <tr>\n      <th>317</th>\n      <td>PRINCETON AVE</td>\n      <td>CITY OF JERSEY CITY</td>\n      <td>280 GROVE ST</td>\n      <td>JERSEY CITY N J  07302</td>\n      <td>NaN</td>\n      <td>40.692029</td>\n      <td>-74.088734</td>\n      <td>Princeton Ave Jersey City N J  07302</td>\n      <td>(Princeton Avenue, Jersey City, Hudson County,...</td>\n    </tr>\n    <tr>\n      <th>319</th>\n      <td>15 E. LINDEN AVE.</td>\n      <td>CITY OF JERSEY CITY</td>\n      <td>280 GROVE STREET</td>\n      <td>JERSEY CITY, NJ  07302</td>\n      <td>1959.0</td>\n      <td>40.692343</td>\n      <td>-74.089259</td>\n      <td>15 E. Linden Ave. Jersey City, Nj  07302</td>\n      <td>(15, Linden Avenue, Greenville, Jersey City, H...</td>\n    </tr>\n    <tr>\n      <th>320</th>\n      <td>35 LINDEN AVE. EAST</td>\n      <td>CITY OF JERSEY CITY</td>\n      <td>280 GROVE ST.</td>\n      <td>JERSEY CITY, NJ  07302</td>\n      <td>NaN</td>\n      <td>40.691042</td>\n      <td>-74.087948</td>\n      <td>35 Linden Ave. East Jersey City, Nj  07302</td>\n      <td>(35, Linden Avenue East, Jersey City, Hudson C...</td>\n    </tr>\n    <tr>\n      <th>321</th>\n      <td>9 EAST LINDEN AVE.</td>\n      <td>CITY OF JERSEY CITY</td>\n      <td>280 GROVE STREET</td>\n      <td>JERSEY CITY, NJ  07302</td>\n      <td>1.0</td>\n      <td>40.692201</td>\n      <td>-74.089141</td>\n      <td>9 East Linden Ave. Jersey City, Nj  07302</td>\n      <td>(9, Linden Avenue, Greenville, Jersey City, Hu...</td>\n    </tr>\n    <tr>\n      <th>324</th>\n      <td>13 LINDEN AVE.EAST</td>\n      <td>CITY OF JERSEY CITY</td>\n      <td>280 GROVE STREET</td>\n      <td>JERSEY CITY, NJ  07302</td>\n      <td>1962.0</td>\n      <td>40.691287</td>\n      <td>-74.088132</td>\n      <td>13 Linden Ave.East Jersey City, Nj  07302</td>\n      <td>(13, Linden Avenue East, Jersey City, Hudson C...</td>\n    </tr>\n  </tbody>\n</table>\n<p>252 rows × 9 columns</p>\n</div>"
     },
     "metadata": {},
     "execution_count": 33
    }
   ],
   "source": [
    "city_of_js"
   ]
  },
  {
   "cell_type": "code",
   "execution_count": 34,
   "metadata": {},
   "outputs": [
    {
     "output_type": "execute_result",
     "data": {
      "text/plain": [
       "          property_location                          owners_name  \\\n",
       "2    100 PATERSON PLANK RD.   BRASS WORKS URBAN RENEWAL CO., LLC   \n",
       "4         255 BRUNSWICK ST.  364 NINTH STREET URBAN RENEWAL, LLC   \n",
       "5         255 BRUNSWICK ST.  364 NINTH STREET URBAN RENEWAL, LLC   \n",
       "6             372 NINTH ST.   NINTH STREET TWO URBAN RENEWAL,LLC   \n",
       "7            31 RIVER COURT     TOWER EAST URBAN RENEWAL COMPANY   \n",
       "..                      ...                                  ...   \n",
       "439          455 OCEAN AVE.   GENESIS OCEAN URBAN RENEWAL ASSOC.   \n",
       "452          143 CHAPEL AVE        HUDSON MAIN URBAN RENEWAL,LLC   \n",
       "453          143 CHAPEL AVE        HUDSON MAIN URBAN RENEWAL,LLC   \n",
       "454        100 SUMMIT PLACE  SUMMIT/GREENWICH URBAN RENEWAL, LLC   \n",
       "455            SUMMIT PLACE  SUMMIT GREENWICH URBAN RENEWAL, LLC   \n",
       "\n",
       "      owners_mailing_address                   city_state_zip  Yr. Built  \\\n",
       "2     300 COLES ST  SUITE #2  JERSEY CITY , NEW JERSEY  07310     2020.0   \n",
       "4          155 SECOND STREET          JERSEY CITY, N J  07302        NaN   \n",
       "5          155 SECOND STREET          JERSEY CITY, N J  07302        NaN   \n",
       "6          155 SECOND STREET          JERSEY CITY, N J  07302     2019.0   \n",
       "7    40 WEST 57TH ST 23RD FL              NEW YORK, NY  10019     1997.0   \n",
       "..                       ...                              ...        ...   \n",
       "439           455 OCEAN AVE.  JERSEY CITY , NEW JERSEY  07305     2018.0   \n",
       "452      17 INDEPENDENCE WAY           JERSEY CITY, NJ  07302        NaN   \n",
       "453      17 INDEPENDENCE WAY           JERSEY CITY, NJ  07302     2017.0   \n",
       "454         100 SUMMIT PLACE           JERSEY CITY, NJ  07305     2000.0   \n",
       "455         100 SUMMIT PLACE           JERSEY CITY, NJ  07305        NaN   \n",
       "\n",
       "      Latitude  Longitude                              property_full_address  \\\n",
       "2    40.741164 -74.043599  100 Paterson Plank Rd. Jersey City , New Jerse...   \n",
       "4    40.729291 -74.050437          255 Brunswick St. Jersey City, N J  07302   \n",
       "5    40.729291 -74.050437          255 Brunswick St. Jersey City, N J  07302   \n",
       "6    39.545981 -74.885141              372 Ninth St. Jersey City, N J  07302   \n",
       "7    42.035914 -73.778315                 31 River Court New York, Ny  10019   \n",
       "..         ...        ...                                                ...   \n",
       "439  40.702127 -74.082018     455 Ocean Ave. Jersey City , New Jersey  07305   \n",
       "452  40.694191 -74.084210              143 Chapel Ave Jersey City, Nj  07302   \n",
       "453  40.694191 -74.084210              143 Chapel Ave Jersey City, Nj  07302   \n",
       "454  40.683216 -74.093701            100 Summit Place Jersey City, Nj  07305   \n",
       "455  40.684226 -74.092052                Summit Place Jersey City, Nj  07305   \n",
       "\n",
       "                                                 gcode  \n",
       "2    (The Cliffs, 100, Paterson Plank Road, Jersey ...  \n",
       "4    (True Dental Care for Kids & Teens, 255, Bruns...  \n",
       "5    (True Dental Care for Kids & Teens, 255, Bruns...  \n",
       "6    (Ninth Street, Buena Vista Township, Atlantic ...  \n",
       "7    (31, River Court, Town of Gallatin, Columbia C...  \n",
       "..                                                 ...  \n",
       "439  (455, Ocean Avenue, Greenville, Jersey City, H...  \n",
       "452  (143, Chapel Avenue, Jersey City, Hudson Count...  \n",
       "453  (143, Chapel Avenue, Jersey City, Hudson Count...  \n",
       "454  (100, Summit Place, Jersey City, Hudson County...  \n",
       "455  (Summit Place, Jersey City, Hudson County, New...  \n",
       "\n",
       "[326 rows x 9 columns]"
      ],
      "text/html": "<div>\n<style scoped>\n    .dataframe tbody tr th:only-of-type {\n        vertical-align: middle;\n    }\n\n    .dataframe tbody tr th {\n        vertical-align: top;\n    }\n\n    .dataframe thead th {\n        text-align: right;\n    }\n</style>\n<table border=\"1\" class=\"dataframe\">\n  <thead>\n    <tr style=\"text-align: right;\">\n      <th></th>\n      <th>property_location</th>\n      <th>owners_name</th>\n      <th>owners_mailing_address</th>\n      <th>city_state_zip</th>\n      <th>Yr. Built</th>\n      <th>Latitude</th>\n      <th>Longitude</th>\n      <th>property_full_address</th>\n      <th>gcode</th>\n    </tr>\n  </thead>\n  <tbody>\n    <tr>\n      <th>2</th>\n      <td>100 PATERSON PLANK RD.</td>\n      <td>BRASS WORKS URBAN RENEWAL CO., LLC</td>\n      <td>300 COLES ST  SUITE #2</td>\n      <td>JERSEY CITY , NEW JERSEY  07310</td>\n      <td>2020.0</td>\n      <td>40.741164</td>\n      <td>-74.043599</td>\n      <td>100 Paterson Plank Rd. Jersey City , New Jerse...</td>\n      <td>(The Cliffs, 100, Paterson Plank Road, Jersey ...</td>\n    </tr>\n    <tr>\n      <th>4</th>\n      <td>255 BRUNSWICK ST.</td>\n      <td>364 NINTH STREET URBAN RENEWAL, LLC</td>\n      <td>155 SECOND STREET</td>\n      <td>JERSEY CITY, N J  07302</td>\n      <td>NaN</td>\n      <td>40.729291</td>\n      <td>-74.050437</td>\n      <td>255 Brunswick St. Jersey City, N J  07302</td>\n      <td>(True Dental Care for Kids &amp; Teens, 255, Bruns...</td>\n    </tr>\n    <tr>\n      <th>5</th>\n      <td>255 BRUNSWICK ST.</td>\n      <td>364 NINTH STREET URBAN RENEWAL, LLC</td>\n      <td>155 SECOND STREET</td>\n      <td>JERSEY CITY, N J  07302</td>\n      <td>NaN</td>\n      <td>40.729291</td>\n      <td>-74.050437</td>\n      <td>255 Brunswick St. Jersey City, N J  07302</td>\n      <td>(True Dental Care for Kids &amp; Teens, 255, Bruns...</td>\n    </tr>\n    <tr>\n      <th>6</th>\n      <td>372 NINTH ST.</td>\n      <td>NINTH STREET TWO URBAN RENEWAL,LLC</td>\n      <td>155 SECOND STREET</td>\n      <td>JERSEY CITY, N J  07302</td>\n      <td>2019.0</td>\n      <td>39.545981</td>\n      <td>-74.885141</td>\n      <td>372 Ninth St. Jersey City, N J  07302</td>\n      <td>(Ninth Street, Buena Vista Township, Atlantic ...</td>\n    </tr>\n    <tr>\n      <th>7</th>\n      <td>31 RIVER COURT</td>\n      <td>TOWER EAST URBAN RENEWAL COMPANY</td>\n      <td>40 WEST 57TH ST 23RD FL</td>\n      <td>NEW YORK, NY  10019</td>\n      <td>1997.0</td>\n      <td>42.035914</td>\n      <td>-73.778315</td>\n      <td>31 River Court New York, Ny  10019</td>\n      <td>(31, River Court, Town of Gallatin, Columbia C...</td>\n    </tr>\n    <tr>\n      <th>...</th>\n      <td>...</td>\n      <td>...</td>\n      <td>...</td>\n      <td>...</td>\n      <td>...</td>\n      <td>...</td>\n      <td>...</td>\n      <td>...</td>\n      <td>...</td>\n    </tr>\n    <tr>\n      <th>439</th>\n      <td>455 OCEAN AVE.</td>\n      <td>GENESIS OCEAN URBAN RENEWAL ASSOC.</td>\n      <td>455 OCEAN AVE.</td>\n      <td>JERSEY CITY , NEW JERSEY  07305</td>\n      <td>2018.0</td>\n      <td>40.702127</td>\n      <td>-74.082018</td>\n      <td>455 Ocean Ave. Jersey City , New Jersey  07305</td>\n      <td>(455, Ocean Avenue, Greenville, Jersey City, H...</td>\n    </tr>\n    <tr>\n      <th>452</th>\n      <td>143 CHAPEL AVE</td>\n      <td>HUDSON MAIN URBAN RENEWAL,LLC</td>\n      <td>17 INDEPENDENCE WAY</td>\n      <td>JERSEY CITY, NJ  07302</td>\n      <td>NaN</td>\n      <td>40.694191</td>\n      <td>-74.084210</td>\n      <td>143 Chapel Ave Jersey City, Nj  07302</td>\n      <td>(143, Chapel Avenue, Jersey City, Hudson Count...</td>\n    </tr>\n    <tr>\n      <th>453</th>\n      <td>143 CHAPEL AVE</td>\n      <td>HUDSON MAIN URBAN RENEWAL,LLC</td>\n      <td>17 INDEPENDENCE WAY</td>\n      <td>JERSEY CITY, NJ  07302</td>\n      <td>2017.0</td>\n      <td>40.694191</td>\n      <td>-74.084210</td>\n      <td>143 Chapel Ave Jersey City, Nj  07302</td>\n      <td>(143, Chapel Avenue, Jersey City, Hudson Count...</td>\n    </tr>\n    <tr>\n      <th>454</th>\n      <td>100 SUMMIT PLACE</td>\n      <td>SUMMIT/GREENWICH URBAN RENEWAL, LLC</td>\n      <td>100 SUMMIT PLACE</td>\n      <td>JERSEY CITY, NJ  07305</td>\n      <td>2000.0</td>\n      <td>40.683216</td>\n      <td>-74.093701</td>\n      <td>100 Summit Place Jersey City, Nj  07305</td>\n      <td>(100, Summit Place, Jersey City, Hudson County...</td>\n    </tr>\n    <tr>\n      <th>455</th>\n      <td>SUMMIT PLACE</td>\n      <td>SUMMIT GREENWICH URBAN RENEWAL, LLC</td>\n      <td>100 SUMMIT PLACE</td>\n      <td>JERSEY CITY, NJ  07305</td>\n      <td>NaN</td>\n      <td>40.684226</td>\n      <td>-74.092052</td>\n      <td>Summit Place Jersey City, Nj  07305</td>\n      <td>(Summit Place, Jersey City, Hudson County, New...</td>\n    </tr>\n  </tbody>\n</table>\n<p>326 rows × 9 columns</p>\n</div>"
     },
     "metadata": {},
     "execution_count": 34
    }
   ],
   "source": [
    "urban_renewal"
   ]
  },
  {
   "cell_type": "code",
   "execution_count": 35,
   "metadata": {},
   "outputs": [],
   "source": [
    "test_data = js_ha.append([city_of_js, urban_renewal])\n",
    "test_data.reset_index(inplace=True, drop=True)"
   ]
  },
  {
   "cell_type": "code",
   "execution_count": 42,
   "metadata": {},
   "outputs": [
    {
     "output_type": "execute_result",
     "data": {
      "text/plain": [
       "      property_location                          owners_name  \\\n",
       "0       514 NEWARK AVE.     HOUSING AUTHORITY OF JERSEY CITY   \n",
       "1           88 ERIE ST.     HOUSING AUTHORITY OF JERSEY CITY   \n",
       "2         57 DALES AVE.     HOUSING AUTHORITY OF JERSEY CITY   \n",
       "3    547 MONTGOMERY ST.     HOUSING AUTHORITY OF JERSEY CITY   \n",
       "4       20 FLORENCE ST.     HOUSING AUTHORITY OF JERSEY CITY   \n",
       "..                  ...                                  ...   \n",
       "631      455 OCEAN AVE.   GENESIS OCEAN URBAN RENEWAL ASSOC.   \n",
       "632      143 CHAPEL AVE        HUDSON MAIN URBAN RENEWAL,LLC   \n",
       "633      143 CHAPEL AVE        HUDSON MAIN URBAN RENEWAL,LLC   \n",
       "634    100 SUMMIT PLACE  SUMMIT/GREENWICH URBAN RENEWAL, LLC   \n",
       "635        SUMMIT PLACE  SUMMIT GREENWICH URBAN RENEWAL, LLC   \n",
       "\n",
       "    owners_mailing_address                   city_state_zip  Yr. Built  \\\n",
       "0        514 NEWARK AVENUE           JERSEY CITY, NJ  07306        NaN   \n",
       "1      400 U.S. HIGHWAY #1           JERSEY CITY, NJ  07306     1870.0   \n",
       "2              400 ROUTE 1           JERSEY CITY, NJ  07306     1941.0   \n",
       "3      400 U.S. HIGHWAY #1           JERSEY CITY, NJ  07306        NaN   \n",
       "4      400 U.S. HIGHWAY #1           JERSEY CITY, NJ  07306        NaN   \n",
       "..                     ...                              ...        ...   \n",
       "631         455 OCEAN AVE.  JERSEY CITY , NEW JERSEY  07305     2018.0   \n",
       "632    17 INDEPENDENCE WAY           JERSEY CITY, NJ  07302        NaN   \n",
       "633    17 INDEPENDENCE WAY           JERSEY CITY, NJ  07302     2017.0   \n",
       "634       100 SUMMIT PLACE           JERSEY CITY, NJ  07305     2000.0   \n",
       "635       100 SUMMIT PLACE           JERSEY CITY, NJ  07305        NaN   \n",
       "\n",
       "      Latitude  Longitude                           property_full_address  \\\n",
       "0    40.730082 -74.055283          514 Newark Ave. Jersey City, Nj  07306   \n",
       "1    40.724742 -74.043713              88 Erie St. Jersey City, Nj  07306   \n",
       "2    40.735895 -74.076336            57 Dales Ave. Jersey City, Nj  07306   \n",
       "3    40.722429 -74.060221       547 Montgomery St. Jersey City, Nj  07306   \n",
       "4    40.723183 -74.060375          20 Florence St. Jersey City, Nj  07306   \n",
       "..         ...        ...                                             ...   \n",
       "631  40.702127 -74.082018  455 Ocean Ave. Jersey City , New Jersey  07305   \n",
       "632  40.694191 -74.084210           143 Chapel Ave Jersey City, Nj  07302   \n",
       "633  40.694191 -74.084210           143 Chapel Ave Jersey City, Nj  07302   \n",
       "634  40.683216 -74.093701         100 Summit Place Jersey City, Nj  07305   \n",
       "635  40.684226 -74.092052             Summit Place Jersey City, Nj  07305   \n",
       "\n",
       "                                                 gcode  \n",
       "0    (514, Newark Avenue, Jersey City, Hudson Count...  \n",
       "1    (88, Erie Street, Newport, Jersey City, Hudson...  \n",
       "2    (57, Dales Avenue, Marion, Jersey City, Hudson...  \n",
       "3    (547, Montgomery Street, Bergen, Jersey City, ...  \n",
       "4    (Florence Street, Bergen, Jersey City, Hudson ...  \n",
       "..                                                 ...  \n",
       "631  (455, Ocean Avenue, Greenville, Jersey City, H...  \n",
       "632  (143, Chapel Avenue, Jersey City, Hudson Count...  \n",
       "633  (143, Chapel Avenue, Jersey City, Hudson Count...  \n",
       "634  (100, Summit Place, Jersey City, Hudson County...  \n",
       "635  (Summit Place, Jersey City, Hudson County, New...  \n",
       "\n",
       "[636 rows x 9 columns]"
      ],
      "text/html": "<div>\n<style scoped>\n    .dataframe tbody tr th:only-of-type {\n        vertical-align: middle;\n    }\n\n    .dataframe tbody tr th {\n        vertical-align: top;\n    }\n\n    .dataframe thead th {\n        text-align: right;\n    }\n</style>\n<table border=\"1\" class=\"dataframe\">\n  <thead>\n    <tr style=\"text-align: right;\">\n      <th></th>\n      <th>property_location</th>\n      <th>owners_name</th>\n      <th>owners_mailing_address</th>\n      <th>city_state_zip</th>\n      <th>Yr. Built</th>\n      <th>Latitude</th>\n      <th>Longitude</th>\n      <th>property_full_address</th>\n      <th>gcode</th>\n    </tr>\n  </thead>\n  <tbody>\n    <tr>\n      <th>0</th>\n      <td>514 NEWARK AVE.</td>\n      <td>HOUSING AUTHORITY OF JERSEY CITY</td>\n      <td>514 NEWARK AVENUE</td>\n      <td>JERSEY CITY, NJ  07306</td>\n      <td>NaN</td>\n      <td>40.730082</td>\n      <td>-74.055283</td>\n      <td>514 Newark Ave. Jersey City, Nj  07306</td>\n      <td>(514, Newark Avenue, Jersey City, Hudson Count...</td>\n    </tr>\n    <tr>\n      <th>1</th>\n      <td>88 ERIE ST.</td>\n      <td>HOUSING AUTHORITY OF JERSEY CITY</td>\n      <td>400 U.S. HIGHWAY #1</td>\n      <td>JERSEY CITY, NJ  07306</td>\n      <td>1870.0</td>\n      <td>40.724742</td>\n      <td>-74.043713</td>\n      <td>88 Erie St. Jersey City, Nj  07306</td>\n      <td>(88, Erie Street, Newport, Jersey City, Hudson...</td>\n    </tr>\n    <tr>\n      <th>2</th>\n      <td>57 DALES AVE.</td>\n      <td>HOUSING AUTHORITY OF JERSEY CITY</td>\n      <td>400 ROUTE 1</td>\n      <td>JERSEY CITY, NJ  07306</td>\n      <td>1941.0</td>\n      <td>40.735895</td>\n      <td>-74.076336</td>\n      <td>57 Dales Ave. Jersey City, Nj  07306</td>\n      <td>(57, Dales Avenue, Marion, Jersey City, Hudson...</td>\n    </tr>\n    <tr>\n      <th>3</th>\n      <td>547 MONTGOMERY ST.</td>\n      <td>HOUSING AUTHORITY OF JERSEY CITY</td>\n      <td>400 U.S. HIGHWAY #1</td>\n      <td>JERSEY CITY, NJ  07306</td>\n      <td>NaN</td>\n      <td>40.722429</td>\n      <td>-74.060221</td>\n      <td>547 Montgomery St. Jersey City, Nj  07306</td>\n      <td>(547, Montgomery Street, Bergen, Jersey City, ...</td>\n    </tr>\n    <tr>\n      <th>4</th>\n      <td>20 FLORENCE ST.</td>\n      <td>HOUSING AUTHORITY OF JERSEY CITY</td>\n      <td>400 U.S. HIGHWAY #1</td>\n      <td>JERSEY CITY, NJ  07306</td>\n      <td>NaN</td>\n      <td>40.723183</td>\n      <td>-74.060375</td>\n      <td>20 Florence St. Jersey City, Nj  07306</td>\n      <td>(Florence Street, Bergen, Jersey City, Hudson ...</td>\n    </tr>\n    <tr>\n      <th>...</th>\n      <td>...</td>\n      <td>...</td>\n      <td>...</td>\n      <td>...</td>\n      <td>...</td>\n      <td>...</td>\n      <td>...</td>\n      <td>...</td>\n      <td>...</td>\n    </tr>\n    <tr>\n      <th>631</th>\n      <td>455 OCEAN AVE.</td>\n      <td>GENESIS OCEAN URBAN RENEWAL ASSOC.</td>\n      <td>455 OCEAN AVE.</td>\n      <td>JERSEY CITY , NEW JERSEY  07305</td>\n      <td>2018.0</td>\n      <td>40.702127</td>\n      <td>-74.082018</td>\n      <td>455 Ocean Ave. Jersey City , New Jersey  07305</td>\n      <td>(455, Ocean Avenue, Greenville, Jersey City, H...</td>\n    </tr>\n    <tr>\n      <th>632</th>\n      <td>143 CHAPEL AVE</td>\n      <td>HUDSON MAIN URBAN RENEWAL,LLC</td>\n      <td>17 INDEPENDENCE WAY</td>\n      <td>JERSEY CITY, NJ  07302</td>\n      <td>NaN</td>\n      <td>40.694191</td>\n      <td>-74.084210</td>\n      <td>143 Chapel Ave Jersey City, Nj  07302</td>\n      <td>(143, Chapel Avenue, Jersey City, Hudson Count...</td>\n    </tr>\n    <tr>\n      <th>633</th>\n      <td>143 CHAPEL AVE</td>\n      <td>HUDSON MAIN URBAN RENEWAL,LLC</td>\n      <td>17 INDEPENDENCE WAY</td>\n      <td>JERSEY CITY, NJ  07302</td>\n      <td>2017.0</td>\n      <td>40.694191</td>\n      <td>-74.084210</td>\n      <td>143 Chapel Ave Jersey City, Nj  07302</td>\n      <td>(143, Chapel Avenue, Jersey City, Hudson Count...</td>\n    </tr>\n    <tr>\n      <th>634</th>\n      <td>100 SUMMIT PLACE</td>\n      <td>SUMMIT/GREENWICH URBAN RENEWAL, LLC</td>\n      <td>100 SUMMIT PLACE</td>\n      <td>JERSEY CITY, NJ  07305</td>\n      <td>2000.0</td>\n      <td>40.683216</td>\n      <td>-74.093701</td>\n      <td>100 Summit Place Jersey City, Nj  07305</td>\n      <td>(100, Summit Place, Jersey City, Hudson County...</td>\n    </tr>\n    <tr>\n      <th>635</th>\n      <td>SUMMIT PLACE</td>\n      <td>SUMMIT GREENWICH URBAN RENEWAL, LLC</td>\n      <td>100 SUMMIT PLACE</td>\n      <td>JERSEY CITY, NJ  07305</td>\n      <td>NaN</td>\n      <td>40.684226</td>\n      <td>-74.092052</td>\n      <td>Summit Place Jersey City, Nj  07305</td>\n      <td>(Summit Place, Jersey City, Hudson County, New...</td>\n    </tr>\n  </tbody>\n</table>\n<p>636 rows × 9 columns</p>\n</div>"
     },
     "metadata": {},
     "execution_count": 42
    }
   ],
   "source": [
    "test_data"
   ]
  },
  {
   "cell_type": "code",
   "execution_count": 57,
   "metadata": {},
   "outputs": [
    {
     "output_type": "execute_result",
     "data": {
      "text/plain": [
       "owners_name\n",
       "140 BAY STREET URBAN RENEWAL, LLC        1\n",
       "160 FIRST STREET URBAN RENEWAL, LLC    104\n",
       "170 LAFAYETTE URBAN RENEWAL,LLC          2\n",
       "272 GROVE STREET URBAN RENEWAL, LLC      1\n",
       "280 FAIRMOUNT URBAN RENEWAL, LLC.        2\n",
       "364 NINTH STREET URBAN RENEWAL, LLC      2\n",
       "380 NEWARK REALTY URBAN RENEWAL LLC      5\n",
       "400 CLAREMENT URBAN RENEWAL LLC          1\n",
       "400 CLAREMONT URBAN RENEWAL LLC          1\n",
       "456 GRAND REALTY URBAN RENEWAL, LLC      1\n",
       "70 COLUMBUS URBAN RENEWAL, LLC           2\n",
       "95 VAN DAM URBAN RENEWAL, L.L.C.       129\n",
       "ADELE FASHION URBAN RENEWAL A.,LLC       1\n",
       "ASH URBAN RENEWAL DEVELOPMENT,LLC        2\n",
       "AUDOBON URBAN RENEWAL PROPERTIES,LP      1\n",
       "AUDOBON URBAN RENEWAL% SIG MGNT,LLC      1\n",
       "AUDOBON URBAN RENEWAL% SIG MNGT,LLC      1\n",
       "AUDOBON URBAN RENEWAL%AMISTAD MGT.       1\n",
       "AUDOBON URBAN RENEWAL%SIG MNGT, LLC      2\n",
       "BERGEN MANOR URBAN RENEWAL LLC           3\n",
       "BERGENVIEW URBAN RENEWAL, LLC.           1\n",
       "BRASS WORKS URBAN RENEWAL CO., LLC       1\n",
       "CITY OF JERSEY CITY                    252\n",
       "COLUMBUS HOTEL URBAN RENEWAL, LLC        2\n",
       "GENESIS OCEAN URBAN RENEWAL ASSOC.       2\n",
       "GRAND LHN II URBAN RENEWAL, LLC          2\n",
       "H.P. LINCOLN URBAN RENEWAL COMPANY       5\n",
       "HOUSING AUTHORITY OF JERSEY CITY        58\n",
       "HUDSON MAIN URBAN RENEWAL,LLC            2\n",
       "JAMES MONROE URBAN RENEWAL CO.           1\n",
       "KENNEDY MANOR URBAN RENEWAL LLC          3\n",
       "LIBERTY POINT URBAN RENEWAL, LLC         4\n",
       "LIBERTY POINT URBAN RENEWAL,L.L.C.       1\n",
       "MAJESTIC URBAN RENEWAL, LLC.             2\n",
       "MARBACH URBAN RENEWAL RLTY ASSO.         1\n",
       "MONITOR MAPLE URBAN RENEWAL, LLC         1\n",
       "MONTGOMERY GREENE URBAN RENEWAL,LLC      2\n",
       "NINTH STREET TWO URBAN RENEWAL,LLC       1\n",
       "OCEAN MLK URBAN RENEWAL ASSOC.           2\n",
       "PH URBAN RENEWAL LLC%MACK CALI CORP      2\n",
       "SENATE PLACE URBAN RENEWAL, LLC          2\n",
       "SUMMIT GREENWICH URBAN RENEWAL, LLC      1\n",
       "SUMMIT/GREENWICH URBAN RENEWAL, LLC      1\n",
       "TOWER EAST URBAN RENEWAL COMPANY         1\n",
       "VAN WAGENEN I URBAN RENEWAL, LLC.       13\n",
       "VAN WAGENEN II URBAN RENEWAL, LLC.       8\n",
       "WA RESIDENTIAL URBAN RENEWAL CO.LLC      2\n",
       "Name: property_location, dtype: int64"
      ]
     },
     "metadata": {},
     "execution_count": 57
    }
   ],
   "source": [
    "# this groupby result will be used for the associatedProperties feature\n",
    "# ie, the number of properties associated with a selected owner\n",
    "# it will become the associatedProperties column\n",
    "\n",
    "# cell 15 performed a similar function, however, this is more accurate\n",
    "test_data.groupby('owners_name')['property_location'].count()"
   ]
  },
  {
   "cell_type": "code",
   "execution_count": 58,
   "metadata": {},
   "outputs": [
    {
     "output_type": "execute_result",
     "data": {
      "text/plain": [
       "owners_name\n",
       "0LALEKAN, RODA                      1\n",
       "1 CAVEN POINT ROAD ASSOC. L.L.C.    1\n",
       "1 EDWARD HART ROAD LLC              1\n",
       "1 EXCHANGE JC, LLC % RYAN, LLC      2\n",
       "1-12 CATHERINE COURT JC LLC         1\n",
       "                                   ..\n",
       "ZYSKOWSKA, ANNA                     1\n",
       "ZYZYCK, STACEY                      1\n",
       "\\OA 99 HUDSON,LLC                   1\n",
       "`ENG, MENG RAN                      1\n",
       "`WEKE, IKEENA & PRECIOUS            1\n",
       "Name: property_location, Length: 49247, dtype: int64"
      ]
     },
     "metadata": {},
     "execution_count": 58
    }
   ],
   "source": [
    "jersey_city.groupby('owners_name')['property_location'].count()"
   ]
  },
  {
   "cell_type": "code",
   "execution_count": 61,
   "metadata": {},
   "outputs": [],
   "source": [
    "test_data.to_csv('test_data.csv', index=None)"
   ]
  },
  {
   "cell_type": "code",
   "execution_count": 24,
   "metadata": {},
   "outputs": [],
   "source": [
    "# we'll export this dataframe to a csv which we'll then convert to GEOjson\n",
    "js_ha.to_csv('jersey_city_HA.csv', index=None)"
   ]
  },
  {
   "cell_type": "code",
   "execution_count": 27,
   "metadata": {},
   "outputs": [
    {
     "output_type": "execute_result",
     "data": {
      "text/plain": [
       "[None,\n",
       " Location(514, Newark Avenue, Jersey City, Hudson County, New Jersey, 07306, United States, (40.730081875, -74.05528274999999, 0.0)),\n",
       " Location(88, Erie Street, Newport, Jersey City, Hudson County, New Jersey, 07302, United States, (40.724742, -74.043713, 0.0)),\n",
       " Location(57, Dales Avenue, Marion, Jersey City, Hudson County, New Jersey, 07306, United States, (40.73589526923077, -74.07633576923077, 0.0)),\n",
       " Location(547, Montgomery Street, Bergen, Jersey City, Hudson County, New Jersey, 07302, United States, (40.7224293, -74.0602214, 0.0)),\n",
       " Location(Florence Street, Bergen, Jersey City, Hudson County, New Jersey, 07302:07306, United States, (40.7231827, -74.0603751, 0.0)),\n",
       " Location(194, Cornelison Avenue, Jersey City, Hudson County, New Jersey, 07304, United States, (40.72162223593433, -74.06287254958836, 0.0)),\n",
       " Location(198, Cornelison Avenue, Jersey City, Hudson County, New Jersey, 07304, United States, (40.721711, -74.062783, 0.0)),\n",
       " Location(200, Cornelison Avenue, Bergen, Jersey City, Hudson County, New Jersey, 07304, United States, (40.721911, -74.062587, 0.0)),\n",
       " Location(206, Cornelison Avenue, Bergen, Jersey City, Hudson County, New Jersey, 07304, United States, (40.7221867, -74.0623239, 0.0)),\n",
       " Location(214, Cornelison Avenue, Bergen, Jersey City, Hudson County, New Jersey, 07304, United States, (40.7225543, -74.0619731, 0.0)),\n",
       " Location(557, Montgomery Street, Bergen, Jersey City, Hudson County, New Jersey, 07302, United States, (40.72254755, -74.0606024, 0.0)),\n",
       " Location(62, Fremont Street, Jersey City, Hudson County, New Jersey, 07302, United States, (40.719807125, -74.059575125, 0.0)),\n",
       " None,\n",
       " Location(Wilmot Avenue, Stockton, Camden, Camden County, New Jersey, 08105, United States, (39.9443084, -75.0761823, 0.0)),\n",
       " Location(326, Duncan Avenue, Marion, Jersey City, Hudson County, New Jersey, 07306, United States, (40.729646625, -74.08348612500001, 0.0)),\n",
       " None,\n",
       " None,\n",
       " Location(344, Duncan Avenue, Jersey City, Hudson County, New Jersey, 07306, United States, (40.730307, -74.08450571428571, 0.0)),\n",
       " None,\n",
       " Location(354, Duncan Avenue, Jersey City, Hudson County, New Jersey, 07306, United States, (40.730397, -74.084695, 0.0)),\n",
       " Location(39, Harvey Avenue, Menlo Park, Edison, Middlesex County, New Jersey, 08820, United States, (40.558152, -74.34279930769232, 0.0)),\n",
       " None,\n",
       " None,\n",
       " Location(229, Freeman Avenue, Marion, Jersey City, Hudson County, New Jersey, 07306, United States, (40.730215333333334, -74.08187642424242, 0.0)),\n",
       " None,\n",
       " Location(349, Woodward Street, Jersey City, Hudson County, New Jersey, 07304, United States, (40.71669333333333, -74.05958666666666, 0.0)),\n",
       " Location(296, Woodward Street, Communipaw, Jersey City, Hudson County, New Jersey, 07304, United States, (40.71371343181818, -74.06343263636363, 0.0)),\n",
       " Location(306, Woodward Street, Jersey City, Hudson County, New Jersey, 07304, United States, (40.71611143333333, -74.0603795, 0.0)),\n",
       " Location(Woodward Street, Jersey City, Hudson County, New Jersey, 07304, United States, (40.716675, -74.0594576, 0.0)),\n",
       " Location(340, Woodward Street, Jersey City, Hudson County, New Jersey, 07304, United States, (40.71656933333333, -74.05975566666666, 0.0)),\n",
       " None,\n",
       " Location(511, Grand Street, Jersey City, Hudson County, New Jersey, 07302, United States, (40.71745457142857, -74.057642, 0.0)),\n",
       " Location(507, Grand Street, Jersey City, Hudson County, New Jersey, 07302, United States, (40.717436, -74.057496, 0.0)),\n",
       " Location(Van Horne Street, Jersey City, Hudson County, New Jersey, 07302:07304, United States, (40.7162675, -74.0586337, 0.0)),\n",
       " Location(471, Pacific Avenue, Inlet, Atlantic City, Atlantic County, New Jersey, 08401, United States, (39.365331714285716, -74.41553514285714, 0.0)),\n",
       " Location(52, Carbon Street, Paterson, Passaic County, New Jersey, 07522, United States, (40.93008877083333, -74.17414202083333, 0.0)),\n",
       " Location(256, Carbon Street, Paterson, Passaic County, New Jersey, 07522, United States, (40.93258293243243, -74.1770292972973, 0.0)),\n",
       " Location(331, Randolph Avenue, Communipaw, Jersey City, Hudson County, New Jersey, 07304, United States, (40.71394829705004, -74.06883276101634, 0.0)),\n",
       " Location(380, Arlington Avenue, Jersey City, Hudson County, New Jersey, 07304, United States, (40.7140185, -74.07004108333334, 0.0)),\n",
       " Location(254, Bergen Avenue, West Bergen, Jersey City, Hudson County, New Jersey, 07305, United States, (40.7108312, -74.08317980000001, 0.0)),\n",
       " Location(140, Stegman Street, Jersey City, Hudson County, New Jersey, 07305, United States, (40.70424860865753, -74.08317693897914, 0.0)),\n",
       " Location(146, Stegman Street, Jersey City, Hudson County, New Jersey, 07305, United States, (40.7043551448767, -74.08333558530552, 0.0)),\n",
       " Location(148, Stegman Street, Jersey City, Hudson County, New Jersey, 07305, United States, (40.70439065694976, -74.08338846741431, 0.0)),\n",
       " Location(176, Dwight Street, Greenville, Jersey City, Hudson County, New Jersey, 07305, United States, (40.704492681863876, -74.08504434677523, 0.0)),\n",
       " Location(125, Dwight Street, Greenville, Jersey City, Hudson County, New Jersey, 07305, United States, (40.70340553449204, -74.08370146991297, 0.0)),\n",
       " Location(107, Dwight Street, Greenville, Jersey City, Hudson County, New Jersey, 07305, United States, (40.70293154545455, -74.08299145454545, 0.0)),\n",
       " Location(103, Dwight Street, Greenville, Jersey City, Hudson County, New Jersey, 07305, United States, (40.70285481818182, -74.08287918181817, 0.0)),\n",
       " Location(199, Ocean Avenue, Greenville, Jersey City, Hudson County, New Jersey, 07305, United States, (40.695015, -74.09157, 0.0)),\n",
       " Location(92, Danforth Avenue, Greenville, Jersey City, Hudson County, New Jersey, 07305, United States, (40.695390079836805, -74.09032824176747, 0.0)),\n",
       " Location(71, Cator Avenue, Greenville, Jersey City, Hudson County, New Jersey, 07305, United States, (40.69507155172413, -74.08913389655173, 0.0)),\n",
       " Location(72, Danforth Avenue, Greenville, Jersey City, Hudson County, New Jersey, 07305, United States, (40.69469387629626, -74.08974214695704, 0.0)),\n",
       " Location(82, Danforth Avenue, Greenville, Jersey City, Hudson County, New Jersey, 07305, United States, (40.695041905640984, -74.09003528040205, 0.0)),\n",
       " Location(15, Old Bergen Road, Jersey City, Hudson County, New Jersey, 07305, United States, (40.69018627272727, -74.09818690909091, 0.0)),\n",
       " Location(Merritt Street, Jersey City, Hudson County, New Jersey, 07305, United States, (40.6888175, -74.0973369, 0.0))]"
      ]
     },
     "metadata": {},
     "execution_count": 27
    }
   ],
   "source": [
    "[geolocator.geocode(address) for address in js_ha.property_full_address.unique()]"
   ]
  },
  {
   "source": [
    "### a list comprehension is used to return the raw data of the address\n",
    "### a nested enumerating list comprehension is used to return the indices of unclean addresses\n",
    "#### the example below is actually a list comprehension within a list comprehension "
   ],
   "cell_type": "markdown",
   "metadata": {}
  },
  {
   "cell_type": "code",
   "execution_count": 22,
   "metadata": {},
   "outputs": [
    {
     "output_type": "execute_result",
     "data": {
      "text/plain": [
       "[0, 4, 14, 15, 23, 24, 25, 26, 29, 30, 35, 36, 37, 39, 45, 54]"
      ]
     },
     "metadata": {},
     "execution_count": 22
    }
   ],
   "source": [
    "[i for i,e in enumerate([geolocator.geocode(address) for address in js_ha.property_full_address]) if e == None]"
   ]
  },
  {
   "source": [
    "### We know the addresses are unclean when we substitute parts of the address\n",
    "### For example, \"Sixteenth\" for \"16th\": "
   ],
   "cell_type": "markdown",
   "metadata": {}
  },
  {
   "cell_type": "code",
   "execution_count": 162,
   "metadata": {},
   "outputs": [
    {
     "output_type": "execute_result",
     "data": {
      "text/plain": [
       "Location(235, 16th Street, Jersey City, Hudson County, New Jersey, 07310, United States, (40.73314597560976, -74.04304924390243, 0.0))"
      ]
     },
     "metadata": {},
     "execution_count": 162
    }
   ],
   "source": [
    "geolocator.geocode('235 16th St. Jersey City, NJ 07307')"
   ]
  },
  {
   "cell_type": "code",
   "execution_count": 168,
   "metadata": {},
   "outputs": [
    {
     "output_type": "execute_result",
     "data": {
      "text/plain": [
       "'9-31 Wilmot Ave. Jersey City, NJ 07307'"
      ]
     },
     "metadata": {},
     "execution_count": 168
    }
   ],
   "source": [
    "js_ha.property_full_address[23]"
   ]
  },
  {
   "cell_type": "code",
   "execution_count": 123,
   "metadata": {},
   "outputs": [
    {
     "output_type": "execute_result",
     "data": {
      "text/plain": [
       "Point(40.6888175, -74.0973369, 0.0)"
      ]
     },
     "metadata": {},
     "execution_count": 123
    }
   ],
   "source": [
    "geolocator.geocode('61 Merritt St. Jersey City, NJ 07307').point"
   ]
  },
  {
   "cell_type": "code",
   "execution_count": 38,
   "metadata": {},
   "outputs": [
    {
     "output_type": "execute_result",
     "data": {
      "text/plain": [
       "5               SECAUCUS RD.\n",
       "33           929 SECAUCUS RD\n",
       "56          386 TERRACE AVE.\n",
       "98           191 NELSON AVE.\n",
       "1438        194 BLEECKER ST.\n",
       "                ...         \n",
       "63760    35 LINDEN AVE. EAST\n",
       "63761     9 EAST LINDEN AVE.\n",
       "63762           CENTRAL R.R.\n",
       "63763      BROWN PL TO GATES\n",
       "63765     13 LINDEN AVE.EAST\n",
       "Name: property_location, Length: 325, dtype: object"
      ]
     },
     "metadata": {},
     "execution_count": 38
    }
   ],
   "source": [
    "jersey_city[jersey_city.owners_name == 'CITY OF JERSEY CITY']['property_location']"
   ]
  },
  {
   "cell_type": "code",
   "execution_count": 14,
   "metadata": {},
   "outputs": [
    {
     "output_type": "execute_result",
     "data": {
      "text/plain": [
       "CITY OF HACKENSACK                     69\n",
       "WORLD PLAZA AC, LLC                    29\n",
       "ESSEX COURT REALTY CORP.               28\n",
       "HACKENSACK DEVELOPERS, LLC             25\n",
       "TERRACE SQUARE CONDOS % J LOMBARDO     21\n",
       "N Y S & W R R C/O N. STECKLER          19\n",
       "HACK & N.Y. R.R. CO C/O LAND & TAX     19\n",
       "SKYVIEW AT HACKENSACK, LLC             19\n",
       "COUNTY OF BERGEN                       16\n",
       "WORLD PLAZA PROPERTIES, LLC            13\n",
       "ATTESSA PROPERTIES LLC                 13\n",
       "HEKEMIAN,SAMUEL %THE S HEKEMIAN GRP    12\n",
       "BD OF ED CITY OF HACK                  12\n",
       "ELYASH, ADELAIDA                       10\n",
       "FAIRLEIGH DICKINSON UNIVERSITY          9\n",
       "400 E MAIN STREET, LLC                  9\n",
       "NEW HOPE BAPTIST CHURCH                 8\n",
       "RUDDOCK, WAYNE & ROSA                   7\n",
       "DI CAROLIS REALTY CO.                   7\n",
       "JACKSON PINK LLC                        7\n",
       "NESS REALTY 1 LLC                       7\n",
       "MAIN PORTFOLIO LLC                      6\n",
       "US BANK TRUST NA TRSTE                  6\n",
       "CYPRUS HOLDING COMPANY LLC              6\n",
       "HACKENSACK UNIVERSITY MEDICAL CTR       5\n",
       "FTA REALTY, L.P.                        5\n",
       "SALEMME, JOHN & REGINA                  5\n",
       "PEDIATRIC OFFICE ASSOCIATES             5\n",
       "FELDMAN, VITALI                         4\n",
       "CD PAC LLC                              4\n",
       "SPAETH, SOHEILA                         4\n",
       "LANDFRANK, LLC                          4\n",
       "ROTHMAN, LEONARD & MILDRED              4\n",
       "CASTILLO, HECTOR                        4\n",
       "SANZARI, ALFRED, C/O ACCOUNTS PAYAB     4\n",
       "INVESCO REALTY INC                      4\n",
       "DILORENZO, RAYMOND A                    4\n",
       "TABENSHLAK, FELIKS                      4\n",
       "ROMANY CORP. C/O P. SCHMIDT             4\n",
       "400 E MAIN ST LLC                       4\n",
       "COHEN, AARON                            3\n",
       "HACKENSACK DEVELOPMENT COMPANY LLC      3\n",
       "GIANFRANCESCO, ANTONIO & ROSINA         3\n",
       "RIOTTO, ROCCO & ROSA                    3\n",
       "HACKENSACK GARDENS APTS % HOME PROP     3\n",
       "US BANK TRUST NA TRSTE C/O RESICAP      3\n",
       "DEGSA WASHINGTON LLC                    3\n",
       "INGALLINERA, JOHN & ELISA               3\n",
       "MLC RLTY LLC                            3\n",
       "COLOMBO, PAUL                           3\n",
       "Name: owners_name, dtype: int64"
      ]
     },
     "metadata": {},
     "execution_count": 14
    }
   ],
   "source": [
    "hackensack.owners_name.value_counts().head(50)"
   ]
  }
 ]
}