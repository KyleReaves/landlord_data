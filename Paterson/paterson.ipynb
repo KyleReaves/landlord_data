{
 "cells": [
  {
   "cell_type": "markdown",
   "source": [
    "# Paterson Notebook"
   ],
   "metadata": {}
  },
  {
   "cell_type": "code",
   "execution_count": 12,
   "source": [
    "# df = pd.read_csv('1608monm174855.csv', usecols=[\n",
    "#                  \"Property Location\", \"Owner's Name\", \"Owner's Mailing Address\", \"City/State/Zip\"])\n",
    "# df.rename(columns={'Property Location': 'propertyLocation',\n",
    "#                    \"Owner's Name\": \"ownersName\",\n",
    "#                    \"Owner's Mailing Address\": \"ownersMailingAddress\",\n",
    "#                    \"City/State/Zip\": \"cityStateZip\"}, inplace=True)\n",
    "# df['units'] = [getUnits(address) for address in df.propertyLocation]\n",
    "# df['propertiesOwned'] = [getPropertiesOwned(owner) for owner in df.ownersName]\n",
    "# df['getNumberPropertiesOwned'] = [getNumberOwned(owner) for owner in df.ownersName]"
   ],
   "outputs": [],
   "metadata": {}
  },
  {
   "cell_type": "markdown",
   "source": [
    "## import initial csv like above or pickled dataframes"
   ],
   "metadata": {}
  },
  {
   "cell_type": "code",
   "execution_count": 13,
   "source": [
    "import pandas as pd\n",
    "import numpy as np\n",
    "from geopy.geocoders import Nominatim\n",
    "from geopy.extra.rate_limiter import RateLimiter\n",
    "geolocator = Nominatim(user_agent=\"myGeolocator\", timeout=1)\n",
    "from paterson_repl_dict import paterson_repl_dict\n",
    "\n",
    "df = pd.read_pickle('paterson.pkl')\n",
    "errors_df = pd.read_pickle('errors_df.pkl')\n",
    "\n",
    "def getPropertiesOwned(owner=str):\n",
    "    return df[df.ownersName == owner]['propertyLocation'].unique().tolist()\n",
    "\n",
    "# number of times property appears in first column\n",
    "def getUnits(address=str):\n",
    "    return len(df[df.propertyLocation == address])\n",
    "\n",
    "# number of the properties owned by the given owner\n",
    "def getNumberOwned(owner=str):\n",
    "    return df[(df.ownersName == owner)]['propertyLocation'].count()\n"
   ],
   "outputs": [],
   "metadata": {}
  },
  {
   "cell_type": "markdown",
   "source": [
    "## add lat and long for addresses which properly geocoded"
   ],
   "metadata": {}
  },
  {
   "cell_type": "code",
   "execution_count": 2,
   "source": [
    "df['Lat'] = [g.latitude for g in df.gCode]\n",
    "df['Long'] = [g.longitude for g in df.gCode]"
   ],
   "outputs": [],
   "metadata": {}
  },
  {
   "cell_type": "markdown",
   "source": [
    "## check if the returned geocoded address doesn't included Paterson\n",
    "### if addresses where returned, they would be added to errors_df"
   ],
   "metadata": {}
  },
  {
   "cell_type": "code",
   "execution_count": 14,
   "source": [
    "df[df.gCode.str.contains('Paterson') == False]"
   ],
   "outputs": [
    {
     "output_type": "execute_result",
     "data": {
      "text/plain": [
       "Empty DataFrame\n",
       "Columns: [propertyLocation, ownersName, ownersMailingAddress, cityStateZip, units, propertiesOwned, getNumberPropertiesOwned, propertyFullAddress, gCode, Lat, Long]\n",
       "Index: []"
      ],
      "text/html": [
       "<div>\n",
       "<style scoped>\n",
       "    .dataframe tbody tr th:only-of-type {\n",
       "        vertical-align: middle;\n",
       "    }\n",
       "\n",
       "    .dataframe tbody tr th {\n",
       "        vertical-align: top;\n",
       "    }\n",
       "\n",
       "    .dataframe thead th {\n",
       "        text-align: right;\n",
       "    }\n",
       "</style>\n",
       "<table border=\"1\" class=\"dataframe\">\n",
       "  <thead>\n",
       "    <tr style=\"text-align: right;\">\n",
       "      <th></th>\n",
       "      <th>propertyLocation</th>\n",
       "      <th>ownersName</th>\n",
       "      <th>ownersMailingAddress</th>\n",
       "      <th>cityStateZip</th>\n",
       "      <th>units</th>\n",
       "      <th>propertiesOwned</th>\n",
       "      <th>getNumberPropertiesOwned</th>\n",
       "      <th>propertyFullAddress</th>\n",
       "      <th>gCode</th>\n",
       "      <th>Lat</th>\n",
       "      <th>Long</th>\n",
       "    </tr>\n",
       "  </thead>\n",
       "  <tbody>\n",
       "  </tbody>\n",
       "</table>\n",
       "</div>"
      ]
     },
     "metadata": {},
     "execution_count": 14
    }
   ],
   "metadata": {}
  },
  {
   "cell_type": "markdown",
   "source": [
    "## return an array of unique propertyLocations"
   ],
   "metadata": {}
  },
  {
   "cell_type": "code",
   "execution_count": 15,
   "source": [
    "errors_df['propertyLocation'].head(50)"
   ],
   "outputs": [
    {
     "output_type": "execute_result",
     "data": {
      "text/plain": [
       "233           130 NORTH 1ST ST CV\n",
       "409             7-9 N STRAIGHT ST\n",
       "620              11 HOLSMAN ST FT\n",
       "685                 23 PIERCEY ST\n",
       "688                 17 PIERCEY ST\n",
       "971              109 N0RTH 4TH ST\n",
       "1089              67 N0RTH 5TH ST\n",
       "1864                   57 HOPE ST\n",
       "1865                   49 HOPE ST\n",
       "1866                   49 HOPE ST\n",
       "2729               BOSSHART TRACT\n",
       "3794          S 234 PREAKNESS AVE\n",
       "3795          S 238 PREAKNESS AVE\n",
       "4030             10 DON BOSCO AVE\n",
       "4031             12 DON BOSCO AVE\n",
       "4032             18 DON BOSCO AVE\n",
       "4033             24 DON BOSCO AVE\n",
       "4034             26 DON BOSCO AVE\n",
       "4035             30 DON BOSCO AVE\n",
       "4036             34 DON BOSCO AVE\n",
       "4037             38 DON BOSCO AVE\n",
       "4038             44 DON BOSCO AVE\n",
       "4039             50 DON BOSCO AVE\n",
       "4040             54 DON BOSCO AVE\n",
       "4041             58 DON BOSCO AVE\n",
       "4042             31 DON BOSCO AVE\n",
       "4043             27 DON BOSCO AVE\n",
       "4044             19 DON BOSCO AVE\n",
       "4045             15 DON BOSCO AVE\n",
       "4046             11 DON BOSCO AVE\n",
       "5509                 69 E 14TH ST\n",
       "5906                S 7-9 2ND AVE\n",
       "6029              285 3/5 5TH AVE\n",
       "6770                141 7TH AVE S\n",
       "6990             S. 334 E 16TH ST\n",
       "7429            6-RR12 PARK PLACE\n",
       "8330                 443 E24TH ST\n",
       "9145         310 HAMILTONN AVENUE\n",
       "9550                 175 BROAWDAY\n",
       "11066      MILL PLOT 18-MARKET ST\n",
       "11067    MILL PLOT 18 - MARKET ST\n",
       "11068    MILL PLOT 18 - MARKET ST\n",
       "11069    MILL PLOT 18 - MARKET ST\n",
       "11070    MILL PLOT 18 - MARKET ST\n",
       "11071    MILL PLOT 18 - MARKET ST\n",
       "11072    MILL PLOT 18 - MARKET ST\n",
       "11073    MILL PLOT 18 - MARKET ST\n",
       "11074      MILPLOT 18 - MARKET ST\n",
       "11075    MILL PLOT 18 - MARKET ST\n",
       "11076    MILL PLOT 18 - MARKET ST\n",
       "Name: propertyLocation, dtype: object"
      ]
     },
     "metadata": {},
     "execution_count": 15
    }
   ],
   "metadata": {}
  },
  {
   "cell_type": "markdown",
   "source": [
    "### plug an address into the geolocator to see if it geocodes"
   ],
   "metadata": {}
  },
  {
   "cell_type": "code",
   "execution_count": 5,
   "source": [
    "# geolocator.geocode('469 ROSA PARKS BLVD, PATERSON, NJ')\n",
    "# df['propertyFullAddress'] = df.propertyLocation + \", PATERSON, NJ\"\n",
    "# df['gCode'] = df.propertyFullAddress.apply(geolocator.geocode)\n",
    "# df.to_pickle('paterson.pkl')\n",
    "# geocode_errors = [i for i,e in enumerate(df.gCode) if e == None]\n",
    "# df.iloc[geocode_errors]"
   ],
   "outputs": [],
   "metadata": {}
  },
  {
   "cell_type": "code",
   "execution_count": 24,
   "source": [
    "errors_df.propertyLocation.replace(paterson_repl_dict, value=None)"
   ],
   "outputs": [
    {
     "output_type": "execute_result",
     "data": {
      "text/plain": [
       "233          130 NORTH 1ST ST \n",
       "409          7-9 N STRAIGHT ST\n",
       "620             11 HOLSMAN ST \n",
       "685              23 PIERCEY ST\n",
       "688              17 PIERCEY ST\n",
       "                 ...          \n",
       "14250           34 GENESSE AVE\n",
       "14317    36 GOULD & 386 PAXTON\n",
       "14949           65 RAILWAY AVE\n",
       "16495     292 E43RD ST(MCLEAN)\n",
       "17011          470 1OTH AVENUE\n",
       "Name: propertyLocation, Length: 85, dtype: object"
      ]
     },
     "metadata": {},
     "execution_count": 24
    }
   ],
   "metadata": {}
  },
  {
   "cell_type": "code",
   "execution_count": 25,
   "source": [
    "#errors_df.propertyLocation = errors_df.propertyLocation.str.replace('PT ', '')\n",
    "# errors_df.propertyLocation = errors_df.propertyLocation.str.replace(\"MC BRIDE\", \"MCBRIDE\")\n",
    "# errors_df.propertyLocation = errors_df.propertyLocation.str.replace(\"BOULDER RUN\", \"BOULDER RUN ROAD\")    \n",
    "#errors_df.propertyLocation = errors_df.propertyLocation.str.replace(\"PT\", \"\")    \n",
    "# errors_df.propertyLocation = errors_df.propertyLocation.str.replace(\"RRS\", '')    \n",
    "# errors_df.propertyLocation = errors_df.propertyLocation.str.replace(\"FT.\", '')    \n",
    "# errors_df.propertyLocation = errors_df.propertyLocation.str.replace(\"FRT\", '')    \n",
    "# errors_df.propertyLocation = errors_df.propertyLocation.str.replace(\"FRTS\", '')    \n",
    "# errors_df.propertyLocation = errors_df.propertyLocation.str.replace(\"FRTS.\", '')    \n",
    "# errors_df.propertyLocation = errors_df.propertyLocation.str.replace(\"FRONT\", '')    \n",
    "# errors_df.propertyLocation = errors_df.propertyLocation.str.replace(\"REAR\", '')    \n",
    "# errors_df.propertyLocation = errors_df.propertyLocation.str.replace(\"TR CV\", 'TR')    \n",
    "# errors_df.propertyLocation = errors_df.propertyLocation.str.replace(\"HABITAT WAY\", '')    \n",
    "# errors_df.propertyLocation = errors_df.propertyLocation.str.replace(\"N 1ST\", 'NORTH 1ST')    \n",
    "# errors_df.propertyLocation = errors_df.propertyLocation.str.replace(\"N 2ND\", 'NORTH 2ND')    \n",
    "#errors_df.propertyLocation = errors_df.propertyLocation.str.replace(\"ALDEN TR\", 'ALDEN TERRACE')    \n",
    "# errors_df.propertyLocation = errors_df.propertyLocation.str.replace(r\"\\(\\)\", '')\n",
    "#errors_df.propertyLocation = errors_df.propertyLocation.str.replace(r'-\\d{2,}(.?\\d{1}(A)?)?A?\\b', '')    \n",
    "# errors_df.propertyLocation = errors_df.propertyLocation.str.replace(r'\\sUNIT\\s\\d{1,}', '')    \n",
    "# errors_df.propertyLocation = errors_df.propertyLocation.str.replace(r'-?\\s?1/2?', \"\")    \n",
    "# errors_df.propertyLocation = errors_df.propertyLocation.str.replace('RIVER TR', 'RIVER TERRACE')    \n",
    "#errors_df.propertyLocation = errors_df.propertyLocation.str.replace(r'-?\\s?1/2?', \"\")    \n",
    "#errors_df.propertyLocation = errors_df.propertyLocation.str.replace('GRAHAM AVE', 'ROSA PARKS BLVD')    \n",
    "# errors_df.propertyLocation = errors_df.propertyLocation.str.replace('CV', '')    \n",
    "# errors_df.propertyLocation = errors_df.propertyLocation.str.replace('FT', '')    \n",
    "# errors_df.propertyLocation = errors_df.propertyLocation.str.replace('DON BOSCO', 'SHERWOOD')    \n",
    "errors_df.propertyLocation = errors_df.propertyLocation.str.replace('HOPE', 'OXFORD')    \n"
   ],
   "outputs": [],
   "metadata": {}
  },
  {
   "cell_type": "code",
   "execution_count": 26,
   "source": [
    "errors_df['propertyFullAddress'] = errors_df.propertyLocation + \", PATERSON, NJ\""
   ],
   "outputs": [],
   "metadata": {}
  },
  {
   "cell_type": "code",
   "execution_count": 27,
   "source": [
    "errors_df.gCode = errors_df.propertyFullAddress.apply(geolocator.geocode)"
   ],
   "outputs": [],
   "metadata": {}
  },
  {
   "cell_type": "code",
   "execution_count": 28,
   "source": [
    "geocode_errors = [i for i,e in enumerate(errors_df.gCode) if e == None]"
   ],
   "outputs": [],
   "metadata": {}
  },
  {
   "cell_type": "code",
   "execution_count": 29,
   "source": [
    "errors_df.iloc[geocode_errors]"
   ],
   "outputs": [
    {
     "output_type": "execute_result",
     "data": {
      "text/plain": [
       "            propertyLocation                           ownersName  \\\n",
       "409        7-9 N STRAIGHT ST         7-9 N STRAIGHT ST REALTY LLC   \n",
       "971         109 N0RTH 4TH ST  PINEDO,RAFAEL D & DAWLING,EDWIN J P   \n",
       "1089         67 N0RTH 5TH ST                        KIRBY MARILYN   \n",
       "1864              57 HOPE ST     PENA NUNEZ,CARLOS V & CLAUDIA S.   \n",
       "1865              49 HOPE ST         WILLIAMS, RONNIE & SARAH H/W   \n",
       "...                      ...                                  ...   \n",
       "14250         34 GENESSE AVE                        KARCZ,COLLEEN   \n",
       "14317  36 GOULD & 386 PAXTON                      BEYJOUN, GEORGE   \n",
       "14949         65 RAILWAY AVE                      CASTILLO VICTOR   \n",
       "16495   292 E43RD ST(MCLEAN)             FRANCISCO FABIAN POLANCO   \n",
       "17011        470 1OTH AVENUE              JCM PROPERTIES XLLL LLC   \n",
       "\n",
       "       ownersMailingAddress         cityStateZip  units  \\\n",
       "409              PO BOX 526     MONSEY NY  10952      1   \n",
       "971            109 N 4TH ST   PATERSON NJ  07522      1   \n",
       "1089     67 69 NORTH 5TH ST   PATERSON NJ  07522      1   \n",
       "1864          129 OXFORD ST   PATERSON NJ  07522      1   \n",
       "1865            PO BOX 7961    HALEDON NJ  07508      1   \n",
       "...                     ...                  ...    ...   \n",
       "14250     34 GENESSE AVENUE  PATERSON, NJ  07503      1   \n",
       "14317        7 HERSHEY ROAD     WAYNE, NJ  07470      1   \n",
       "14949     65 67 RAILWAY AVE   PATERSON NJ  07503      1   \n",
       "16495      292 MC LEAN BLVD   PATERSON NJ  07514      1   \n",
       "17011  449 EAST 18TH STREET  PATERSON, NJ  07524      1   \n",
       "\n",
       "                  propertiesOwned  getNumberPropertiesOwned  \\\n",
       "409           [7-9 N STRAIGHT ST]                         1   \n",
       "971            [109 N0RTH 4TH ST]                         1   \n",
       "1089         [67-69 N0RTH 5TH ST]                         1   \n",
       "1864              [57-63 HOPE ST]                         1   \n",
       "1865              [49-55 HOPE ST]                         1   \n",
       "...                           ...                       ...   \n",
       "14250         [34-36 GENESSE AVE]                         1   \n",
       "14317     [36 GOULD & 386 PAXTON]                         1   \n",
       "14949         [65-67 RAILWAY AVE]                         1   \n",
       "16495  [292-294 E43RD ST(MCLEAN)]                         1   \n",
       "17011       [470-472 1OTH AVENUE]                         1   \n",
       "\n",
       "                       propertyFullAddress gCode  \n",
       "409        7-9 N STRAIGHT ST, PATERSON, NJ  None  \n",
       "971         109 N0RTH 4TH ST, PATERSON, NJ  None  \n",
       "1089         67 N0RTH 5TH ST, PATERSON, NJ  None  \n",
       "1864              57 HOPE ST, PATERSON, NJ  None  \n",
       "1865              49 HOPE ST, PATERSON, NJ  None  \n",
       "...                                    ...   ...  \n",
       "14250         34 GENESSE AVE, PATERSON, NJ  None  \n",
       "14317  36 GOULD & 386 PAXTON, PATERSON, NJ  None  \n",
       "14949         65 RAILWAY AVE, PATERSON, NJ  None  \n",
       "16495   292 E43RD ST(MCLEAN), PATERSON, NJ  None  \n",
       "17011        470 1OTH AVENUE, PATERSON, NJ  None  \n",
       "\n",
       "[64 rows x 9 columns]"
      ],
      "text/html": [
       "<div>\n",
       "<style scoped>\n",
       "    .dataframe tbody tr th:only-of-type {\n",
       "        vertical-align: middle;\n",
       "    }\n",
       "\n",
       "    .dataframe tbody tr th {\n",
       "        vertical-align: top;\n",
       "    }\n",
       "\n",
       "    .dataframe thead th {\n",
       "        text-align: right;\n",
       "    }\n",
       "</style>\n",
       "<table border=\"1\" class=\"dataframe\">\n",
       "  <thead>\n",
       "    <tr style=\"text-align: right;\">\n",
       "      <th></th>\n",
       "      <th>propertyLocation</th>\n",
       "      <th>ownersName</th>\n",
       "      <th>ownersMailingAddress</th>\n",
       "      <th>cityStateZip</th>\n",
       "      <th>units</th>\n",
       "      <th>propertiesOwned</th>\n",
       "      <th>getNumberPropertiesOwned</th>\n",
       "      <th>propertyFullAddress</th>\n",
       "      <th>gCode</th>\n",
       "    </tr>\n",
       "  </thead>\n",
       "  <tbody>\n",
       "    <tr>\n",
       "      <th>409</th>\n",
       "      <td>7-9 N STRAIGHT ST</td>\n",
       "      <td>7-9 N STRAIGHT ST REALTY LLC</td>\n",
       "      <td>PO BOX 526</td>\n",
       "      <td>MONSEY NY  10952</td>\n",
       "      <td>1</td>\n",
       "      <td>[7-9 N STRAIGHT ST]</td>\n",
       "      <td>1</td>\n",
       "      <td>7-9 N STRAIGHT ST, PATERSON, NJ</td>\n",
       "      <td>None</td>\n",
       "    </tr>\n",
       "    <tr>\n",
       "      <th>971</th>\n",
       "      <td>109 N0RTH 4TH ST</td>\n",
       "      <td>PINEDO,RAFAEL D &amp; DAWLING,EDWIN J P</td>\n",
       "      <td>109 N 4TH ST</td>\n",
       "      <td>PATERSON NJ  07522</td>\n",
       "      <td>1</td>\n",
       "      <td>[109 N0RTH 4TH ST]</td>\n",
       "      <td>1</td>\n",
       "      <td>109 N0RTH 4TH ST, PATERSON, NJ</td>\n",
       "      <td>None</td>\n",
       "    </tr>\n",
       "    <tr>\n",
       "      <th>1089</th>\n",
       "      <td>67 N0RTH 5TH ST</td>\n",
       "      <td>KIRBY MARILYN</td>\n",
       "      <td>67 69 NORTH 5TH ST</td>\n",
       "      <td>PATERSON NJ  07522</td>\n",
       "      <td>1</td>\n",
       "      <td>[67-69 N0RTH 5TH ST]</td>\n",
       "      <td>1</td>\n",
       "      <td>67 N0RTH 5TH ST, PATERSON, NJ</td>\n",
       "      <td>None</td>\n",
       "    </tr>\n",
       "    <tr>\n",
       "      <th>1864</th>\n",
       "      <td>57 HOPE ST</td>\n",
       "      <td>PENA NUNEZ,CARLOS V &amp; CLAUDIA S.</td>\n",
       "      <td>129 OXFORD ST</td>\n",
       "      <td>PATERSON NJ  07522</td>\n",
       "      <td>1</td>\n",
       "      <td>[57-63 HOPE ST]</td>\n",
       "      <td>1</td>\n",
       "      <td>57 HOPE ST, PATERSON, NJ</td>\n",
       "      <td>None</td>\n",
       "    </tr>\n",
       "    <tr>\n",
       "      <th>1865</th>\n",
       "      <td>49 HOPE ST</td>\n",
       "      <td>WILLIAMS, RONNIE &amp; SARAH H/W</td>\n",
       "      <td>PO BOX 7961</td>\n",
       "      <td>HALEDON NJ  07508</td>\n",
       "      <td>1</td>\n",
       "      <td>[49-55 HOPE ST]</td>\n",
       "      <td>1</td>\n",
       "      <td>49 HOPE ST, PATERSON, NJ</td>\n",
       "      <td>None</td>\n",
       "    </tr>\n",
       "    <tr>\n",
       "      <th>...</th>\n",
       "      <td>...</td>\n",
       "      <td>...</td>\n",
       "      <td>...</td>\n",
       "      <td>...</td>\n",
       "      <td>...</td>\n",
       "      <td>...</td>\n",
       "      <td>...</td>\n",
       "      <td>...</td>\n",
       "      <td>...</td>\n",
       "    </tr>\n",
       "    <tr>\n",
       "      <th>14250</th>\n",
       "      <td>34 GENESSE AVE</td>\n",
       "      <td>KARCZ,COLLEEN</td>\n",
       "      <td>34 GENESSE AVENUE</td>\n",
       "      <td>PATERSON, NJ  07503</td>\n",
       "      <td>1</td>\n",
       "      <td>[34-36 GENESSE AVE]</td>\n",
       "      <td>1</td>\n",
       "      <td>34 GENESSE AVE, PATERSON, NJ</td>\n",
       "      <td>None</td>\n",
       "    </tr>\n",
       "    <tr>\n",
       "      <th>14317</th>\n",
       "      <td>36 GOULD &amp; 386 PAXTON</td>\n",
       "      <td>BEYJOUN, GEORGE</td>\n",
       "      <td>7 HERSHEY ROAD</td>\n",
       "      <td>WAYNE, NJ  07470</td>\n",
       "      <td>1</td>\n",
       "      <td>[36 GOULD &amp; 386 PAXTON]</td>\n",
       "      <td>1</td>\n",
       "      <td>36 GOULD &amp; 386 PAXTON, PATERSON, NJ</td>\n",
       "      <td>None</td>\n",
       "    </tr>\n",
       "    <tr>\n",
       "      <th>14949</th>\n",
       "      <td>65 RAILWAY AVE</td>\n",
       "      <td>CASTILLO VICTOR</td>\n",
       "      <td>65 67 RAILWAY AVE</td>\n",
       "      <td>PATERSON NJ  07503</td>\n",
       "      <td>1</td>\n",
       "      <td>[65-67 RAILWAY AVE]</td>\n",
       "      <td>1</td>\n",
       "      <td>65 RAILWAY AVE, PATERSON, NJ</td>\n",
       "      <td>None</td>\n",
       "    </tr>\n",
       "    <tr>\n",
       "      <th>16495</th>\n",
       "      <td>292 E43RD ST(MCLEAN)</td>\n",
       "      <td>FRANCISCO FABIAN POLANCO</td>\n",
       "      <td>292 MC LEAN BLVD</td>\n",
       "      <td>PATERSON NJ  07514</td>\n",
       "      <td>1</td>\n",
       "      <td>[292-294 E43RD ST(MCLEAN)]</td>\n",
       "      <td>1</td>\n",
       "      <td>292 E43RD ST(MCLEAN), PATERSON, NJ</td>\n",
       "      <td>None</td>\n",
       "    </tr>\n",
       "    <tr>\n",
       "      <th>17011</th>\n",
       "      <td>470 1OTH AVENUE</td>\n",
       "      <td>JCM PROPERTIES XLLL LLC</td>\n",
       "      <td>449 EAST 18TH STREET</td>\n",
       "      <td>PATERSON, NJ  07524</td>\n",
       "      <td>1</td>\n",
       "      <td>[470-472 1OTH AVENUE]</td>\n",
       "      <td>1</td>\n",
       "      <td>470 1OTH AVENUE, PATERSON, NJ</td>\n",
       "      <td>None</td>\n",
       "    </tr>\n",
       "  </tbody>\n",
       "</table>\n",
       "<p>64 rows × 9 columns</p>\n",
       "</div>"
      ]
     },
     "metadata": {},
     "execution_count": 29
    }
   ],
   "metadata": {}
  },
  {
   "cell_type": "code",
   "execution_count": 30,
   "source": [
    "errors_df.iloc[geocode_errors]['propertyLocation'].head(50)"
   ],
   "outputs": [
    {
     "output_type": "execute_result",
     "data": {
      "text/plain": [
       "233           130 NORTH 1ST ST CV\n",
       "409             7-9 N STRAIGHT ST\n",
       "620              11 HOLSMAN ST FT\n",
       "685                 23 PIERCEY ST\n",
       "688                 17 PIERCEY ST\n",
       "971              109 N0RTH 4TH ST\n",
       "1089              67 N0RTH 5TH ST\n",
       "1864                   57 HOPE ST\n",
       "1865                   49 HOPE ST\n",
       "1866                   49 HOPE ST\n",
       "2729               BOSSHART TRACT\n",
       "3794          S 234 PREAKNESS AVE\n",
       "3795          S 238 PREAKNESS AVE\n",
       "4030             10 DON BOSCO AVE\n",
       "4031             12 DON BOSCO AVE\n",
       "4032             18 DON BOSCO AVE\n",
       "4033             24 DON BOSCO AVE\n",
       "4034             26 DON BOSCO AVE\n",
       "4035             30 DON BOSCO AVE\n",
       "4036             34 DON BOSCO AVE\n",
       "4037             38 DON BOSCO AVE\n",
       "4038             44 DON BOSCO AVE\n",
       "4039             50 DON BOSCO AVE\n",
       "4040             54 DON BOSCO AVE\n",
       "4041             58 DON BOSCO AVE\n",
       "4042             31 DON BOSCO AVE\n",
       "4043             27 DON BOSCO AVE\n",
       "4044             19 DON BOSCO AVE\n",
       "4045             15 DON BOSCO AVE\n",
       "4046             11 DON BOSCO AVE\n",
       "5509                 69 E 14TH ST\n",
       "5906                S 7-9 2ND AVE\n",
       "6029              285 3/5 5TH AVE\n",
       "6770                141 7TH AVE S\n",
       "6990             S. 334 E 16TH ST\n",
       "7429            6-RR12 PARK PLACE\n",
       "8330                 443 E24TH ST\n",
       "9145         310 HAMILTONN AVENUE\n",
       "9550                 175 BROAWDAY\n",
       "11066      MILL PLOT 18-MARKET ST\n",
       "11067    MILL PLOT 18 - MARKET ST\n",
       "11068    MILL PLOT 18 - MARKET ST\n",
       "11069    MILL PLOT 18 - MARKET ST\n",
       "11070    MILL PLOT 18 - MARKET ST\n",
       "11071    MILL PLOT 18 - MARKET ST\n",
       "11072    MILL PLOT 18 - MARKET ST\n",
       "11073    MILL PLOT 18 - MARKET ST\n",
       "11074      MILPLOT 18 - MARKET ST\n",
       "11075    MILL PLOT 18 - MARKET ST\n",
       "11076    MILL PLOT 18 - MARKET ST\n",
       "Name: propertyLocation, dtype: object"
      ]
     },
     "metadata": {},
     "execution_count": 30
    }
   ],
   "metadata": {}
  },
  {
   "cell_type": "code",
   "execution_count": 31,
   "source": [
    "df.append(errors_df.dropna(axis=0, subset=['gCode'])).to_pickle('paterson.pkl')"
   ],
   "outputs": [],
   "metadata": {}
  },
  {
   "cell_type": "code",
   "execution_count": 32,
   "source": [
    "errors_df = errors_df.iloc[geocode_errors].copy()"
   ],
   "outputs": [],
   "metadata": {}
  },
  {
   "cell_type": "code",
   "execution_count": 33,
   "source": [
    "errors_df.to_pickle('errors_df.pkl')"
   ],
   "outputs": [],
   "metadata": {}
  },
  {
   "cell_type": "code",
   "execution_count": 57,
   "source": [
    "# df.dropna(axis=0, subset=['gCode'], inplace=True)"
   ],
   "outputs": [],
   "metadata": {}
  },
  {
   "cell_type": "code",
   "execution_count": 59,
   "source": [
    "# df.to_pickle('paterson.pkl')"
   ],
   "outputs": [],
   "metadata": {}
  }
 ],
 "metadata": {
  "orig_nbformat": 4,
  "kernelspec": {
   "name": "python3",
   "display_name": "Python 3.9.6",
   "language": "python"
  },
  "language_info": {
   "name": "python",
   "version": "3.9.6",
   "mimetype": "text/x-python",
   "codemirror_mode": {
    "name": "ipython",
    "version": 3
   },
   "pygments_lexer": "ipython3",
   "nbconvert_exporter": "python",
   "file_extension": ".py"
  }
 },
 "nbformat": 4,
 "nbformat_minor": 2
}