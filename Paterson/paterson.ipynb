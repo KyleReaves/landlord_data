{
 "cells": [
  {
   "cell_type": "markdown",
   "source": [
    "# Paterson Notebook"
   ],
   "metadata": {}
  },
  {
   "cell_type": "code",
   "execution_count": 1,
   "source": [
    "# df = pd.read_csv('1608monm174855.csv', usecols=[\n",
    "#                  \"Property Location\", \"Owner's Name\", \"Owner's Mailing Address\", \"City/State/Zip\"])\n",
    "# df.rename(columns={'Property Location': 'propertyLocation',\n",
    "#                    \"Owner's Name\": \"ownersName\",\n",
    "#                    \"Owner's Mailing Address\": \"ownersMailingAddress\",\n",
    "#                    \"City/State/Zip\": \"cityStateZip\"}, inplace=True)\n",
    "# df['units'] = [getUnits(address) for address in df.propertyLocation]\n",
    "# df['propertiesOwned'] = [getPropertiesOwned(owner) for owner in df.ownersName]\n",
    "# df['getNumberPropertiesOwned'] = [getNumberOwned(owner) for owner in df.ownersName]"
   ],
   "outputs": [],
   "metadata": {}
  },
  {
   "cell_type": "markdown",
   "source": [
    "## import pickled dataframes"
   ],
   "metadata": {}
  },
  {
   "cell_type": "code",
   "execution_count": 2,
   "source": [
    "import pandas as pd\n",
    "import numpy as np\n",
    "from geopy.geocoders import Nominatim\n",
    "from geopy.extra.rate_limiter import RateLimiter\n",
    "geolocator = Nominatim(user_agent=\"myGeolocator\", timeout=1)\n",
    "from paterson_repl_dict import paterson_repl_dict\n",
    "\n",
    "df = pd.read_pickle('paterson.pkl')\n",
    "errors_df = pd.read_pickle('errors_df.pkl')\n",
    "\n",
    "def getPropertiesOwned(owner=str):\n",
    "    return df[df.ownersName == owner]['propertyLocation'].unique().tolist()\n",
    "\n",
    "# number of times property appears in first column\n",
    "def getUnits(address=str):\n",
    "    return len(df[df.propertyLocation == address])\n",
    "\n",
    "# number of the properties owned by the given owner\n",
    "def getNumberOwned(owner=str):\n",
    "    return df[(df.ownersName == owner)]['propertyLocation'].count()\n"
   ],
   "outputs": [],
   "metadata": {}
  },
  {
   "cell_type": "markdown",
   "source": [
    "## add lat and long for addresses which properly geocoded"
   ],
   "metadata": {}
  },
  {
   "cell_type": "code",
   "execution_count": 3,
   "source": [
    "df['Lat'] = [g.latitude for g in df.gCode]\n",
    "df['Long'] = [g.longitude for g in df.gCode]"
   ],
   "outputs": [],
   "metadata": {}
  },
  {
   "cell_type": "markdown",
   "source": [
    "## check if the returned geocoded address doesn't included Paterson\n",
    "### if addresses where returned, they would be added to errors_df"
   ],
   "metadata": {}
  },
  {
   "cell_type": "code",
   "execution_count": 4,
   "source": [
    "df[df.gCode.str.contains('Paterson') == False]"
   ],
   "outputs": [
    {
     "output_type": "execute_result",
     "data": {
      "text/plain": [
       "Empty DataFrame\n",
       "Columns: [propertyLocation, ownersName, ownersMailingAddress, cityStateZip, units, propertiesOwned, getNumberPropertiesOwned, propertyFullAddress, gCode, Lat, Long]\n",
       "Index: []"
      ],
      "text/html": [
       "<div>\n",
       "<style scoped>\n",
       "    .dataframe tbody tr th:only-of-type {\n",
       "        vertical-align: middle;\n",
       "    }\n",
       "\n",
       "    .dataframe tbody tr th {\n",
       "        vertical-align: top;\n",
       "    }\n",
       "\n",
       "    .dataframe thead th {\n",
       "        text-align: right;\n",
       "    }\n",
       "</style>\n",
       "<table border=\"1\" class=\"dataframe\">\n",
       "  <thead>\n",
       "    <tr style=\"text-align: right;\">\n",
       "      <th></th>\n",
       "      <th>propertyLocation</th>\n",
       "      <th>ownersName</th>\n",
       "      <th>ownersMailingAddress</th>\n",
       "      <th>cityStateZip</th>\n",
       "      <th>units</th>\n",
       "      <th>propertiesOwned</th>\n",
       "      <th>getNumberPropertiesOwned</th>\n",
       "      <th>propertyFullAddress</th>\n",
       "      <th>gCode</th>\n",
       "      <th>Lat</th>\n",
       "      <th>Long</th>\n",
       "    </tr>\n",
       "  </thead>\n",
       "  <tbody>\n",
       "  </tbody>\n",
       "</table>\n",
       "</div>"
      ]
     },
     "metadata": {},
     "execution_count": 4
    }
   ],
   "metadata": {}
  },
  {
   "cell_type": "markdown",
   "source": [
    "### see an abbreviated array of unique propertyLocation"
   ],
   "metadata": {}
  },
  {
   "cell_type": "code",
   "execution_count": 5,
   "source": [
    "errors_df['propertyLocation'].unique()"
   ],
   "outputs": [
    {
     "output_type": "execute_result",
     "data": {
      "text/plain": [
       "array(['130 NORTH 1ST ST CV', '7-9 N STRAIGHT ST', '11 HOLSMAN ST FT',\n",
       "       '23 PIERCEY ST', '17 PIERCEY ST', '109 N0RTH 4TH ST',\n",
       "       '67 N0RTH 5TH ST', '57 HOPE ST', '49 HOPE ST', 'BOSSHART TRACT',\n",
       "       'S 234 PREAKNESS AVE', 'S 238 PREAKNESS AVE', '10 DON BOSCO AVE',\n",
       "       '12 DON BOSCO AVE', '18 DON BOSCO AVE', '24 DON BOSCO AVE',\n",
       "       '26 DON BOSCO AVE', '30 DON BOSCO AVE', '34 DON BOSCO AVE',\n",
       "       '38 DON BOSCO AVE', '44 DON BOSCO AVE', '50 DON BOSCO AVE',\n",
       "       '54 DON BOSCO AVE', '58 DON BOSCO AVE', '31 DON BOSCO AVE',\n",
       "       '27 DON BOSCO AVE', '19 DON BOSCO AVE', '15 DON BOSCO AVE',\n",
       "       '11 DON BOSCO AVE', '69 E 14TH ST', 'S 7-9 2ND AVE',\n",
       "       '285 3/5 5TH AVE', '141 7TH AVE S', 'S. 334 E 16TH ST',\n",
       "       '6-RR12 PARK PLACE', '2-4 GRAHAM AVE', '6 GRAHAM AVE',\n",
       "       '8 GRAHAM AVENUE', '10 GRAHAM AVENUE', '16 GRAHAM AVE',\n",
       "       '30 GRAHAM AVE', '33 GRAHAM AVE', '31 GRAHAM AVE', '21 GRAHAM AVE',\n",
       "       '13 GRAHAM AVENUE', '11 GRAHAM AVE', '9 GRAHAM AVE',\n",
       "       '7 GRAHAM AVE', '5 GRAHAM AVE', '3 GRAHAM AVE', '1 GRAHAM AVE',\n",
       "       '50 GRAHAM AVE', '49 GRAHAM AVE', '43 GRAHAM AVE', '69 GRAHAM AVE',\n",
       "       '67 GRAHAM AVE', '65 GRAHAM AVE', '63 GRAHAM AVE', '59 GRAHAM AVE',\n",
       "       '62 GRAHAM AVE', '66 GRAHAM AVE', '70 GRAHAM AVE', '72 GRAHAM AVE',\n",
       "       '78 GRAHAM AVE', '82 GRAHAM AVE', '84 GRAHAM AVE', '86 GRAHAM AVE',\n",
       "       '77 GRAHAM AVE', '91 GRAHAM AVE', '89 GRAHAM AVE', '87 GRAHAM AVE',\n",
       "       '85 GRAHAM AVE', '81 GRAHAM AVE', '79 GRAHAM AVE',\n",
       "       '100 GRAHAM AVE', '102 GRAHAM AVE', '104 GRAHAM AVE',\n",
       "       '106 GRAHAM AVE', '108 GRAHAM AVE', '112 GRAHAM AVE',\n",
       "       '97 GRAHAM AVE', '149 GRAHAM AVE', '147 GRAHAM AVE',\n",
       "       '145 GRAHAM AVE', '141 GRAHAM AVE', '139 GRAHAM AVE',\n",
       "       '137 GRAHAM AVE', '129 GRAHAM AVE', '127 GRAHAM AVE',\n",
       "       '125 GRAHAM AVE', '121 GRAHAM AVE', '119 GRAHAM AVE',\n",
       "       '117 GRAHAM AVENUE', '109 GRAHAM AVE', '107 GRAHAM AVE',\n",
       "       '105 GRAHAM AVE', '101 GRAHAM AVE', '99 GRAHAM AVE',\n",
       "       '175 GRAHAM AVE', '187 GRAHAM AVE', '185 GRAHAM AVE',\n",
       "       '183 GRAHAM AVE', '179 GRAHAM AVE', '158 GRAHAM AVE',\n",
       "       '160 GRAHAM AVENUE', '164 GRAHAM AVE', '166 GRAHAM AVE',\n",
       "       '138 GRAHAM AVE', '142 GRAHAM AVE', '148 GRAHAM AVE',\n",
       "       '152 GRAHAM AVE', '443 E24TH ST', '198 GRAHAM AVE',\n",
       "       '200 GRAHAM AVE', '202 GRAHAM AVE', '197 GRAHAM AVE',\n",
       "       '235 GRAHAM AVE', '239 GRAHAM AVE', '237 GRAHAM AVENUE',\n",
       "       '310 HAMILTONN AVENUE', '261 GRAHAM AVE', '265 GRAHAM AVE',\n",
       "       '267 GRAHAM AVE', '269 GRAHAM AVE', '271 GRAHAM AVE',\n",
       "       '264 GRAHAM AVE', '175 BROAWDAY', '402 GRAHAM AVE',\n",
       "       '404 GRAHAM AVE', '406 GRAHAM AVE', '408 GRAHAM AVE',\n",
       "       '410 GRAHAM AVE', '412 GRAHAM AVE', '419 GRAHAM AVE',\n",
       "       '417 GRAHAM AVE', '415 GRAHAM AVE', '413 GRAHAM AVE',\n",
       "       '409 GRAHAM AVE', '407 GRAHAM AVE', '405 GRAHAM AVE',\n",
       "       '403 GRAHAM AVE', '401 GRAHAM AVE', 'MILL PLOT 18-MARKET ST',\n",
       "       'MILL PLOT 18 - MARKET ST', 'MILPLOT 18 - MARKET ST',\n",
       "       'MILL PLOT 18 MARKET ST', '180 ATLANTIC STREET #3',\n",
       "       '7-8 LAMBERT TR', '5-6 LAMBERT TR', '401-407SUMMER ST',\n",
       "       '401 SUMMER ST UNIT4', '401 SUMMER ST UNIT5', '10 SEELEY ST',\n",
       "       '12 SEELEY ST', '18 SEELEY ST', '20 SEELEY ST', '22 SEELEY ST',\n",
       "       '24 SEELEY ST', '26 SEELEY ST', '28 SEELEY ST', '30 SEELEY ST',\n",
       "       '13 SEELEY ST', '9 SEELEY ST', '462 GRAHAM AVE', '464 GRAHAM AVE',\n",
       "       '466 GRAHAM AVE', '468 GRAHAM AVE', '472 GRAHAM AVE',\n",
       "       '474 GRAHAM AVE', '476 GRAHAM AVE', '478 GRAHAM AVE',\n",
       "       '485 GRAHAM AVE', '483 GRAHAM AVE', '481 GRAHAM AVE',\n",
       "       '479 GRAHAM AVE', '477 GRAHAM AVE', '475 GRAHAM AVE',\n",
       "       '473 GRAHAM AVE', '469 GRAHAM AVE', '467 GRAHAM AVE',\n",
       "       '229 LINDBERGH PL', '227 LINDBERGH PL', '19-21SHEN ST',\n",
       "       '22 GENESEE AVENUE', '34 GENESSE AVE', '36 GOULD & 386 PAXTON',\n",
       "       '65 RAILWAY AVE', '292 E43RD ST(MCLEAN)', '470 1OTH AVENUE'],\n",
       "      dtype=object)"
      ]
     },
     "metadata": {},
     "execution_count": 5
    }
   ],
   "metadata": {}
  },
  {
   "cell_type": "markdown",
   "source": [
    "### plug an address into the geolocator to see if it geocodes"
   ],
   "metadata": {}
  },
  {
   "cell_type": "code",
   "execution_count": 9,
   "source": [
    "geolocator.geocode('469 ROSA PARKS BLVD, PATERSON, NJ')"
   ],
   "outputs": [
    {
     "output_type": "execute_result",
     "data": {
      "text/plain": [
       "Location(469, Rosa Parks Boulevard, Paterson, Passaic County, New Jersey, 07501, United States, (40.912427111111114, -74.15919761111111, 0.0))"
      ]
     },
     "metadata": {},
     "execution_count": 9
    }
   ],
   "metadata": {}
  },
  {
   "cell_type": "code",
   "execution_count": 10,
   "source": [
    "# df['propertyFullAddress'] = df.propertyLocation + \", PATERSON, NJ\""
   ],
   "outputs": [],
   "metadata": {}
  },
  {
   "cell_type": "code",
   "execution_count": 64,
   "source": [
    "# df['gCode'] = df.propertyFullAddress.apply(geolocator.geocode)"
   ],
   "outputs": [],
   "metadata": {}
  },
  {
   "cell_type": "code",
   "execution_count": 65,
   "source": [
    "# df.to_pickle('paterson.pkl')"
   ],
   "outputs": [],
   "metadata": {}
  },
  {
   "cell_type": "code",
   "execution_count": 66,
   "source": [
    "# geocode_errors = [i for i,e in enumerate(df.gCode) if e == None]"
   ],
   "outputs": [],
   "metadata": {}
  },
  {
   "cell_type": "code",
   "execution_count": 67,
   "source": [
    "# df.iloc[geocode_errors]"
   ],
   "outputs": [],
   "metadata": {}
  },
  {
   "cell_type": "code",
   "execution_count": 26,
   "source": [
    "errors_df.propertyLocation.replace(paterson_repl_dict, value=None)"
   ],
   "outputs": [
    {
     "output_type": "execute_result",
     "data": {
      "text/plain": [
       "233        130 NORTH 1ST ST CV\n",
       "409          7-9 N STRAIGHT ST\n",
       "620           11 HOLSMAN ST FT\n",
       "685              23 PIERCEY ST\n",
       "688              17 PIERCEY ST\n",
       "                 ...          \n",
       "14250           34 GENESSE AVE\n",
       "14317    36 GOULD & 386 PAXTON\n",
       "14949           65 RAILWAY AVE\n",
       "16495     292 E43RD ST(MCLEAN)\n",
       "17011          470 1OTH AVENUE\n",
       "Name: propertyLocation, Length: 222, dtype: object"
      ]
     },
     "metadata": {},
     "execution_count": 26
    }
   ],
   "metadata": {}
  },
  {
   "cell_type": "code",
   "execution_count": 10,
   "source": [
    "#errors_df.propertyLocation = errors_df.propertyLocation.str.replace('PT ', '')\n",
    "# errors_df.propertyLocation = errors_df.propertyLocation.str.replace(\"MC BRIDE\", \"MCBRIDE\")\n",
    "# errors_df.propertyLocation = errors_df.propertyLocation.str.replace(\"BOULDER RUN\", \"BOULDER RUN ROAD\")    \n",
    "#errors_df.propertyLocation = errors_df.propertyLocation.str.replace(\"PT\", \"\")    \n",
    "# errors_df.propertyLocation = errors_df.propertyLocation.str.replace(\"RRS\", '')    \n",
    "# errors_df.propertyLocation = errors_df.propertyLocation.str.replace(\"FT.\", '')    \n",
    "# errors_df.propertyLocation = errors_df.propertyLocation.str.replace(\"FRT\", '')    \n",
    "# errors_df.propertyLocation = errors_df.propertyLocation.str.replace(\"FRTS\", '')    \n",
    "# errors_df.propertyLocation = errors_df.propertyLocation.str.replace(\"FRTS.\", '')    \n",
    "# errors_df.propertyLocation = errors_df.propertyLocation.str.replace(\"FRONT\", '')    \n",
    "# errors_df.propertyLocation = errors_df.propertyLocation.str.replace(\"REAR\", '')    \n",
    "# errors_df.propertyLocation = errors_df.propertyLocation.str.replace(\"TR CV\", 'TR')    \n",
    "# errors_df.propertyLocation = errors_df.propertyLocation.str.replace(\"HABITAT WAY\", '')    \n",
    "# errors_df.propertyLocation = errors_df.propertyLocation.str.replace(\"N 1ST\", 'NORTH 1ST')    \n",
    "# errors_df.propertyLocation = errors_df.propertyLocation.str.replace(\"N 2ND\", 'NORTH 2ND')    \n",
    "#errors_df.propertyLocation = errors_df.propertyLocation.str.replace(\"ALDEN TR\", 'ALDEN TERRACE')    \n",
    "# errors_df.propertyLocation = errors_df.propertyLocation.str.replace(r\"\\(\\)\", '')\n",
    "#errors_df.propertyLocation = errors_df.propertyLocation.str.replace(r'-\\d{2,}(.?\\d{1}(A)?)?A?\\b', '')    \n",
    "# errors_df.propertyLocation = errors_df.propertyLocation.str.replace(r'\\sUNIT\\s\\d{1,}', '')    \n",
    "# errors_df.propertyLocation = errors_df.propertyLocation.str.replace(r'-?\\s?1/2?', \"\")    \n",
    "# errors_df.propertyLocation = errors_df.propertyLocation.str.replace('RIVER TR', 'RIVER TERRACE')    \n",
    "#errors_df.propertyLocation = errors_df.propertyLocation.str.replace(r'-?\\s?1/2?', \"\")    \n",
    "#errors_df.propertyLocation = errors_df.propertyLocation.str.replace('GRAHAM AVE', 'ROSA PARKS BLVD')    \n",
    "errors_df.propertyLocation = errors_df.propertyLocation.str.replace('BLVDNUE', 'BLVD')    \n"
   ],
   "outputs": [],
   "metadata": {}
  },
  {
   "cell_type": "code",
   "execution_count": 11,
   "source": [
    "errors_df['propertyFullAddress'] = errors_df.propertyLocation + \", PATERSON, NJ\""
   ],
   "outputs": [],
   "metadata": {}
  },
  {
   "cell_type": "code",
   "execution_count": 12,
   "source": [
    "errors_df.gCode = errors_df.propertyFullAddress.apply(geolocator.geocode)"
   ],
   "outputs": [],
   "metadata": {}
  },
  {
   "cell_type": "code",
   "execution_count": 13,
   "source": [
    "geocode_errors = [i for i,e in enumerate(errors_df.gCode) if e == None]"
   ],
   "outputs": [],
   "metadata": {}
  },
  {
   "cell_type": "code",
   "execution_count": 14,
   "source": [
    "errors_df.iloc[geocode_errors]"
   ],
   "outputs": [
    {
     "output_type": "execute_result",
     "data": {
      "text/plain": [
       "            propertyLocation                           ownersName  \\\n",
       "233      130 NORTH 1ST ST CV     MOLLO, DAVIS & MARITATO,RICCARDO   \n",
       "409        7-9 N STRAIGHT ST         7-9 N STRAIGHT ST REALTY LLC   \n",
       "620         11 HOLSMAN ST FT                   D&S DEVELOPERS,LLC   \n",
       "685            23 PIERCEY ST                         LUTPUR NAHAR   \n",
       "688            17 PIERCEY ST  JOHNSON, TONY & JOHNSON, BERNADETTE   \n",
       "...                      ...                                  ...   \n",
       "14250         34 GENESSE AVE                        KARCZ,COLLEEN   \n",
       "14317  36 GOULD & 386 PAXTON                      BEYJOUN, GEORGE   \n",
       "14949         65 RAILWAY AVE                      CASTILLO VICTOR   \n",
       "16495   292 E43RD ST(MCLEAN)             FRANCISCO FABIAN POLANCO   \n",
       "17011        470 1OTH AVENUE              JCM PROPERTIES XLLL LLC   \n",
       "\n",
       "          ownersMailingAddress              cityStateZip  units  \\\n",
       "233    466 NEWARK POMPTON TPKE  POMPTON PLAINS NJ  07444      1   \n",
       "409                 PO BOX 526          MONSEY NY  10952      1   \n",
       "620         246 REDWOOD AVENUE       PATERSON, NJ  07522      1   \n",
       "685           23 PIERCY STREET       PATERSON, NJ  07522      1   \n",
       "688              17 PIERCEY ST       PATERSON, NJ  07522      1   \n",
       "...                        ...                       ...    ...   \n",
       "14250        34 GENESSE AVENUE       PATERSON, NJ  07503      1   \n",
       "14317           7 HERSHEY ROAD          WAYNE, NJ  07470      1   \n",
       "14949        65 67 RAILWAY AVE        PATERSON NJ  07503      1   \n",
       "16495         292 MC LEAN BLVD        PATERSON NJ  07514      1   \n",
       "17011     449 EAST 18TH STREET       PATERSON, NJ  07524      1   \n",
       "\n",
       "                                         propertiesOwned  \\\n",
       "233                                    [130 N 1ST ST CV]   \n",
       "409                                  [7-9 N STRAIGHT ST]   \n",
       "620    [72-74 E MAIN ST, 76 E.MAIN ST, 55 BERGEN ST, ...   \n",
       "685                                      [23 PIERCEY ST]   \n",
       "688                                      [17 PIERCEY ST]   \n",
       "...                                                  ...   \n",
       "14250                                [34-36 GENESSE AVE]   \n",
       "14317                            [36 GOULD & 386 PAXTON]   \n",
       "14949                                [65-67 RAILWAY AVE]   \n",
       "16495                         [292-294 E43RD ST(MCLEAN)]   \n",
       "17011                              [470-472 1OTH AVENUE]   \n",
       "\n",
       "       getNumberPropertiesOwned                  propertyFullAddress gCode  \n",
       "233                           1    130 NORTH 1ST ST CV, PATERSON, NJ  None  \n",
       "409                           1      7-9 N STRAIGHT ST, PATERSON, NJ  None  \n",
       "620                          16       11 HOLSMAN ST FT, PATERSON, NJ  None  \n",
       "685                           1          23 PIERCEY ST, PATERSON, NJ  None  \n",
       "688                           1          17 PIERCEY ST, PATERSON, NJ  None  \n",
       "...                         ...                                  ...   ...  \n",
       "14250                         1         34 GENESSE AVE, PATERSON, NJ  None  \n",
       "14317                         1  36 GOULD & 386 PAXTON, PATERSON, NJ  None  \n",
       "14949                         1         65 RAILWAY AVE, PATERSON, NJ  None  \n",
       "16495                         1   292 E43RD ST(MCLEAN), PATERSON, NJ  None  \n",
       "17011                         1        470 1OTH AVENUE, PATERSON, NJ  None  \n",
       "\n",
       "[101 rows x 9 columns]"
      ],
      "text/html": [
       "<div>\n",
       "<style scoped>\n",
       "    .dataframe tbody tr th:only-of-type {\n",
       "        vertical-align: middle;\n",
       "    }\n",
       "\n",
       "    .dataframe tbody tr th {\n",
       "        vertical-align: top;\n",
       "    }\n",
       "\n",
       "    .dataframe thead th {\n",
       "        text-align: right;\n",
       "    }\n",
       "</style>\n",
       "<table border=\"1\" class=\"dataframe\">\n",
       "  <thead>\n",
       "    <tr style=\"text-align: right;\">\n",
       "      <th></th>\n",
       "      <th>propertyLocation</th>\n",
       "      <th>ownersName</th>\n",
       "      <th>ownersMailingAddress</th>\n",
       "      <th>cityStateZip</th>\n",
       "      <th>units</th>\n",
       "      <th>propertiesOwned</th>\n",
       "      <th>getNumberPropertiesOwned</th>\n",
       "      <th>propertyFullAddress</th>\n",
       "      <th>gCode</th>\n",
       "    </tr>\n",
       "  </thead>\n",
       "  <tbody>\n",
       "    <tr>\n",
       "      <th>233</th>\n",
       "      <td>130 NORTH 1ST ST CV</td>\n",
       "      <td>MOLLO, DAVIS &amp; MARITATO,RICCARDO</td>\n",
       "      <td>466 NEWARK POMPTON TPKE</td>\n",
       "      <td>POMPTON PLAINS NJ  07444</td>\n",
       "      <td>1</td>\n",
       "      <td>[130 N 1ST ST CV]</td>\n",
       "      <td>1</td>\n",
       "      <td>130 NORTH 1ST ST CV, PATERSON, NJ</td>\n",
       "      <td>None</td>\n",
       "    </tr>\n",
       "    <tr>\n",
       "      <th>409</th>\n",
       "      <td>7-9 N STRAIGHT ST</td>\n",
       "      <td>7-9 N STRAIGHT ST REALTY LLC</td>\n",
       "      <td>PO BOX 526</td>\n",
       "      <td>MONSEY NY  10952</td>\n",
       "      <td>1</td>\n",
       "      <td>[7-9 N STRAIGHT ST]</td>\n",
       "      <td>1</td>\n",
       "      <td>7-9 N STRAIGHT ST, PATERSON, NJ</td>\n",
       "      <td>None</td>\n",
       "    </tr>\n",
       "    <tr>\n",
       "      <th>620</th>\n",
       "      <td>11 HOLSMAN ST FT</td>\n",
       "      <td>D&amp;S DEVELOPERS,LLC</td>\n",
       "      <td>246 REDWOOD AVENUE</td>\n",
       "      <td>PATERSON, NJ  07522</td>\n",
       "      <td>1</td>\n",
       "      <td>[72-74 E MAIN ST, 76 E.MAIN ST, 55 BERGEN ST, ...</td>\n",
       "      <td>16</td>\n",
       "      <td>11 HOLSMAN ST FT, PATERSON, NJ</td>\n",
       "      <td>None</td>\n",
       "    </tr>\n",
       "    <tr>\n",
       "      <th>685</th>\n",
       "      <td>23 PIERCEY ST</td>\n",
       "      <td>LUTPUR NAHAR</td>\n",
       "      <td>23 PIERCY STREET</td>\n",
       "      <td>PATERSON, NJ  07522</td>\n",
       "      <td>1</td>\n",
       "      <td>[23 PIERCEY ST]</td>\n",
       "      <td>1</td>\n",
       "      <td>23 PIERCEY ST, PATERSON, NJ</td>\n",
       "      <td>None</td>\n",
       "    </tr>\n",
       "    <tr>\n",
       "      <th>688</th>\n",
       "      <td>17 PIERCEY ST</td>\n",
       "      <td>JOHNSON, TONY &amp; JOHNSON, BERNADETTE</td>\n",
       "      <td>17 PIERCEY ST</td>\n",
       "      <td>PATERSON, NJ  07522</td>\n",
       "      <td>1</td>\n",
       "      <td>[17 PIERCEY ST]</td>\n",
       "      <td>1</td>\n",
       "      <td>17 PIERCEY ST, PATERSON, NJ</td>\n",
       "      <td>None</td>\n",
       "    </tr>\n",
       "    <tr>\n",
       "      <th>...</th>\n",
       "      <td>...</td>\n",
       "      <td>...</td>\n",
       "      <td>...</td>\n",
       "      <td>...</td>\n",
       "      <td>...</td>\n",
       "      <td>...</td>\n",
       "      <td>...</td>\n",
       "      <td>...</td>\n",
       "      <td>...</td>\n",
       "    </tr>\n",
       "    <tr>\n",
       "      <th>14250</th>\n",
       "      <td>34 GENESSE AVE</td>\n",
       "      <td>KARCZ,COLLEEN</td>\n",
       "      <td>34 GENESSE AVENUE</td>\n",
       "      <td>PATERSON, NJ  07503</td>\n",
       "      <td>1</td>\n",
       "      <td>[34-36 GENESSE AVE]</td>\n",
       "      <td>1</td>\n",
       "      <td>34 GENESSE AVE, PATERSON, NJ</td>\n",
       "      <td>None</td>\n",
       "    </tr>\n",
       "    <tr>\n",
       "      <th>14317</th>\n",
       "      <td>36 GOULD &amp; 386 PAXTON</td>\n",
       "      <td>BEYJOUN, GEORGE</td>\n",
       "      <td>7 HERSHEY ROAD</td>\n",
       "      <td>WAYNE, NJ  07470</td>\n",
       "      <td>1</td>\n",
       "      <td>[36 GOULD &amp; 386 PAXTON]</td>\n",
       "      <td>1</td>\n",
       "      <td>36 GOULD &amp; 386 PAXTON, PATERSON, NJ</td>\n",
       "      <td>None</td>\n",
       "    </tr>\n",
       "    <tr>\n",
       "      <th>14949</th>\n",
       "      <td>65 RAILWAY AVE</td>\n",
       "      <td>CASTILLO VICTOR</td>\n",
       "      <td>65 67 RAILWAY AVE</td>\n",
       "      <td>PATERSON NJ  07503</td>\n",
       "      <td>1</td>\n",
       "      <td>[65-67 RAILWAY AVE]</td>\n",
       "      <td>1</td>\n",
       "      <td>65 RAILWAY AVE, PATERSON, NJ</td>\n",
       "      <td>None</td>\n",
       "    </tr>\n",
       "    <tr>\n",
       "      <th>16495</th>\n",
       "      <td>292 E43RD ST(MCLEAN)</td>\n",
       "      <td>FRANCISCO FABIAN POLANCO</td>\n",
       "      <td>292 MC LEAN BLVD</td>\n",
       "      <td>PATERSON NJ  07514</td>\n",
       "      <td>1</td>\n",
       "      <td>[292-294 E43RD ST(MCLEAN)]</td>\n",
       "      <td>1</td>\n",
       "      <td>292 E43RD ST(MCLEAN), PATERSON, NJ</td>\n",
       "      <td>None</td>\n",
       "    </tr>\n",
       "    <tr>\n",
       "      <th>17011</th>\n",
       "      <td>470 1OTH AVENUE</td>\n",
       "      <td>JCM PROPERTIES XLLL LLC</td>\n",
       "      <td>449 EAST 18TH STREET</td>\n",
       "      <td>PATERSON, NJ  07524</td>\n",
       "      <td>1</td>\n",
       "      <td>[470-472 1OTH AVENUE]</td>\n",
       "      <td>1</td>\n",
       "      <td>470 1OTH AVENUE, PATERSON, NJ</td>\n",
       "      <td>None</td>\n",
       "    </tr>\n",
       "  </tbody>\n",
       "</table>\n",
       "<p>101 rows × 9 columns</p>\n",
       "</div>"
      ]
     },
     "metadata": {},
     "execution_count": 14
    }
   ],
   "metadata": {}
  },
  {
   "cell_type": "code",
   "execution_count": 15,
   "source": [
    "errors_df.iloc[geocode_errors]['propertyLocation'].head(50)"
   ],
   "outputs": [
    {
     "output_type": "execute_result",
     "data": {
      "text/plain": [
       "233        130 NORTH 1ST ST CV\n",
       "409          7-9 N STRAIGHT ST\n",
       "620           11 HOLSMAN ST FT\n",
       "685              23 PIERCEY ST\n",
       "688              17 PIERCEY ST\n",
       "971           109 N0RTH 4TH ST\n",
       "1089           67 N0RTH 5TH ST\n",
       "1864                57 HOPE ST\n",
       "1865                49 HOPE ST\n",
       "1866                49 HOPE ST\n",
       "2729            BOSSHART TRACT\n",
       "3794       S 234 PREAKNESS AVE\n",
       "3795       S 238 PREAKNESS AVE\n",
       "4030          10 DON BOSCO AVE\n",
       "4031          12 DON BOSCO AVE\n",
       "4032          18 DON BOSCO AVE\n",
       "4033          24 DON BOSCO AVE\n",
       "4034          26 DON BOSCO AVE\n",
       "4035          30 DON BOSCO AVE\n",
       "4036          34 DON BOSCO AVE\n",
       "4037          38 DON BOSCO AVE\n",
       "4038          44 DON BOSCO AVE\n",
       "4039          50 DON BOSCO AVE\n",
       "4040          54 DON BOSCO AVE\n",
       "4041          58 DON BOSCO AVE\n",
       "4042          31 DON BOSCO AVE\n",
       "4043          27 DON BOSCO AVE\n",
       "4044          19 DON BOSCO AVE\n",
       "4045          15 DON BOSCO AVE\n",
       "4046          11 DON BOSCO AVE\n",
       "5509              69 E 14TH ST\n",
       "5906             S 7-9 2ND AVE\n",
       "6029           285 3/5 5TH AVE\n",
       "6770             141 7TH AVE S\n",
       "6990          S. 334 E 16TH ST\n",
       "7429         6-RR12 PARK PLACE\n",
       "7510      8 ROSA PARKS BLVDNUE\n",
       "7511      8 ROSA PARKS BLVDNUE\n",
       "7512      8 ROSA PARKS BLVDNUE\n",
       "7513     10 ROSA PARKS BLVDNUE\n",
       "7514     10 ROSA PARKS BLVDNUE\n",
       "7515     10 ROSA PARKS BLVDNUE\n",
       "7569     13 ROSA PARKS BLVDNUE\n",
       "7570     13 ROSA PARKS BLVDNUE\n",
       "7571     13 ROSA PARKS BLVDNUE\n",
       "7997    117 ROSA PARKS BLVDNUE\n",
       "7998    117 ROSA PARKS BLVDNUE\n",
       "7999    117 ROSA PARKS BLVDNUE\n",
       "8128    160 ROSA PARKS BLVDNUE\n",
       "8330              443 E24TH ST\n",
       "Name: propertyLocation, dtype: object"
      ]
     },
     "metadata": {},
     "execution_count": 15
    }
   ],
   "metadata": {}
  },
  {
   "cell_type": "code",
   "execution_count": 18,
   "source": [
    "df.append(errors_df.dropna(axis=0, subset=['gCode'])).to_pickle('paterson.pkl')"
   ],
   "outputs": [],
   "metadata": {}
  },
  {
   "cell_type": "code",
   "execution_count": 19,
   "source": [
    "errors_df = errors_df.iloc[geocode_errors].copy()"
   ],
   "outputs": [],
   "metadata": {}
  },
  {
   "cell_type": "code",
   "execution_count": 20,
   "source": [
    "errors_df.to_pickle('errors_df.pkl')"
   ],
   "outputs": [],
   "metadata": {}
  },
  {
   "cell_type": "code",
   "execution_count": 57,
   "source": [
    "# df.dropna(axis=0, subset=['gCode'], inplace=True)"
   ],
   "outputs": [],
   "metadata": {}
  },
  {
   "cell_type": "code",
   "execution_count": 59,
   "source": [
    "# df.to_pickle('paterson.pkl')"
   ],
   "outputs": [],
   "metadata": {}
  }
 ],
 "metadata": {
  "orig_nbformat": 4,
  "kernelspec": {
   "name": "python3",
   "display_name": "Python 3.9.6",
   "language": "python"
  },
  "language_info": {
   "name": "python",
   "version": "3.9.6",
   "mimetype": "text/x-python",
   "codemirror_mode": {
    "name": "ipython",
    "version": 3
   },
   "pygments_lexer": "ipython3",
   "nbconvert_exporter": "python",
   "file_extension": ".py"
  }
 },
 "nbformat": 4,
 "nbformat_minor": 2
}